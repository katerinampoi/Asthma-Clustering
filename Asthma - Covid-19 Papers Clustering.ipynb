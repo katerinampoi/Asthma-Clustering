{
 "cells": [
  {
   "cell_type": "markdown",
   "metadata": {},
   "source": [
    "## Clustering asthma-related papers in CORD-19 dataset"
   ]
  },
  {
   "cell_type": "markdown",
   "metadata": {},
   "source": [
    "### Introduction\n",
    "In this project, we explore the relationship between asthma and coronaviruses. What are the most popular topics the research community is focuses on, before and after the COVID-19 outbreak? Are the areas of interest around asthma and coronaviruses the same before and after the appearance of SARS-CoV-2? The relationship between respiratory disorders and SARS-CoV-2 infection and has been broadly studied in a molecular, clinical and epidiomiological level, but remains still a controversial subject. More details about this relationship can be found here:\n",
    "\n",
    "In this project we cluster scientific publications in the topic of asthma and coronaviruses.Clustering is performed using NLP techniques and is based in the most frequent words apppering in the papers. Two groups of clusters are created, one for papers published before and one for papers published after the COVID-19 outbreak. For the two periods of times, clustering aims at identifying popular research topics and finding potential gaps in research between asthma and the new coronavirus.\n",
    "\n",
    "### Data\n",
    "In response to the COVID-19 pandemic a large database, the COVID-19 Open Research Dataset (CORD-19), was created and has been made publicly available. CORD-19 is a resource of hundreds of thousands scholarly articles, about COVID-19, SARS-CoV-2, and related coronaviruses.\n",
    "More information about this open source can be found here:\n",
    "https://www.kaggle.com/allen-institute-for-ai/CORD-19-research-challenge"
   ]
  },
  {
   "cell_type": "markdown",
   "metadata": {},
   "source": [
    "### Data processing\n",
    "\n",
    "For this project, we select only those papers where the word \"asthma\" appears at least once in their abstract. This data is found in \"asthma_data\" csv file. In this analysis, we only consider papers written in English language. We take December 2019 as the point where papers about SARS-CoV-2 started to be published. According to this date, we divide our data as \"Before COVID-19\" and \"After COVID-19\" entries.The following analysis is then the same for these 2 groups of papers:\n",
    "\n",
    "Using Python's NLTK we perfom tokenization and then stemming of the papers' abstract text. With Scikit-learn’s Tfidf Vectorizer, tokens are transformed into to a matrix of TF-IDF features. These TF-IDF features are then catogorized into clusters with the use of Kmeans algorithm. Finally, the PCA algorithm is used for dimensionality reduction and vizualisation of clustering in a 2-dimensional space."
   ]
  },
  {
   "cell_type": "markdown",
   "metadata": {},
   "source": [
    "### Loading libraries"
   ]
  },
  {
   "cell_type": "code",
   "execution_count": 106,
   "metadata": {},
   "outputs": [],
   "source": [
    "from sklearn.feature_extraction.text import CountVectorizer\n",
    "from sklearn.feature_extraction.text import TfidfVectorizer\n",
    "from sklearn.decomposition import PCA\n",
    "from sklearn import preprocessing\n",
    "import matplotlib.pyplot as plt\n",
    "import pandas as pd"
   ]
  },
  {
   "cell_type": "code",
   "execution_count": 107,
   "metadata": {},
   "outputs": [],
   "source": [
    "import nltk\n",
    "import string\n",
    "from nltk.stem import PorterStemmer\n",
    "from sklearn.cluster import KMeans\n",
    "from langdetect import detect"
   ]
  },
  {
   "cell_type": "code",
   "execution_count": 108,
   "metadata": {},
   "outputs": [],
   "source": [
    "import plotly.express as px\n",
    "import seaborn as sns"
   ]
  },
  {
   "cell_type": "code",
   "execution_count": 109,
   "metadata": {},
   "outputs": [],
   "source": [
    "from nltk.corpus import stopwords\n",
    "stop_words = stopwords.words(\"english\")\n"
   ]
  },
  {
   "cell_type": "code",
   "execution_count": 110,
   "metadata": {},
   "outputs": [],
   "source": [
    "spacy_stop_words = ['whence', 'here', 'show', 'were', 'why', 'n’t', 'the', 'whereupon', 'not', 'more', 'how', 'eight', 'indeed', 'i', 'only', 'via', 'nine', 're', 'themselves', 'almost', 'to', 'already', 'front', 'least', 'becomes', 'thereby', 'doing', 'her', 'together', 'be', 'often', 'then', 'quite', 'less', 'many', 'they', 'ourselves', 'take', 'its', 'yours', 'each', 'would', 'may', 'namely', 'do', 'whose', 'whether', 'side', 'both', 'what', 'between', 'toward', 'our', 'whereby', \"'m\", 'formerly', 'myself', 'had', 'really', 'call', 'keep', \"'re\", 'hereupon', 'can', 'their', 'eleven', '’m', 'even', 'around', 'twenty', 'mostly', 'did', 'at', 'an', 'seems', 'serious', 'against', \"n't\", 'except', 'has', 'five', 'he', 'last', '‘ve', 'because', 'we', 'himself', 'yet', 'something', 'somehow', '‘m', 'towards', 'his', 'six', 'anywhere', 'us', '‘d', 'thru', 'thus', 'which', 'everything', 'become', 'herein', 'one', 'in', 'although', 'sometime', 'give', 'cannot', 'besides', 'across', 'noone', 'ever', 'that', 'over', 'among', 'during', 'however', 'when', 'sometimes', 'still', 'seemed', 'get', \"'ve\", 'him', 'with', 'part', 'beyond', 'everyone', 'same', 'this', 'latterly', 'no', 'regarding', 'elsewhere', 'others', 'moreover', 'else', 'back', 'alone', 'somewhere', 'are', 'will', 'beforehand', 'ten', 'very', 'most', 'three', 'former', '’re', 'otherwise', 'several', 'also', 'whatever', 'am', 'becoming', 'beside', '’s', 'nothing', 'some', 'since', 'thence', 'anyway', 'out', 'up', 'well', 'it', 'various', 'four', 'top', '‘s', 'than', 'under', 'might', 'could', 'by', 'too', 'and', 'whom', '‘ll', 'say', 'therefore', \"'s\", 'other', 'throughout', 'became', 'your', 'put', 'per', \"'ll\", 'fifteen', 'must', 'before', 'whenever', 'anyone', 'without', 'does', 'was', 'where', 'thereafter', \"'d\", 'another', 'yourselves', 'n‘t', 'see', 'go', 'wherever', 'just', 'seeming', 'hence', 'full', 'whereafter', 'bottom', 'whole', 'own', 'empty', 'due', 'behind', 'while', 'onto', 'wherein', 'off', 'again', 'a', 'two', 'above', 'therein', 'sixty', 'those', 'whereas', 'using', 'latter', 'used', 'my', 'herself', 'hers', 'or', 'neither', 'forty', 'thereupon', 'now', 'after', 'yourself', 'whither', 'rather', 'once', 'from', 'until', 'anything', 'few', 'into', 'such', 'being', 'make', 'mine', 'please', 'along', 'hundred', 'should', 'below', 'third', 'unless', 'upon', 'perhaps', 'ours', 'but', 'never', 'whoever', 'fifty', 'any', 'all', 'nobody', 'there', 'have', 'anyhow', 'of', 'seem', 'down', 'is', 'every', '’ll', 'much', 'none', 'further', 'me', 'who', 'nevertheless', 'about', 'everywhere', 'name', 'enough', '’d', 'next', 'meanwhile', 'though', 'through', 'on', 'first', 'been', 'hereby', 'if', 'move', 'so', 'either', 'amongst', 'for', 'twelve', 'nor', 'she', 'always', 'these', 'as', '’ve', 'amount', '‘re', 'someone', 'afterwards', 'you', 'nowhere', 'itself', 'done', 'hereafter', 'within', 'made', 'ca', 'them']"
   ]
  },
  {
   "cell_type": "code",
   "execution_count": 111,
   "metadata": {},
   "outputs": [],
   "source": [
    "# extending the list of stopwords taken into account\n",
    "stop_words.extend(spacy_stop_words)\n"
   ]
  },
  {
   "cell_type": "markdown",
   "metadata": {},
   "source": [
    "### Data overview"
   ]
  },
  {
   "cell_type": "code",
   "execution_count": 112,
   "metadata": {},
   "outputs": [
    {
     "data": {
      "text/html": [
       "<div>\n",
       "<style scoped>\n",
       "    .dataframe tbody tr th:only-of-type {\n",
       "        vertical-align: middle;\n",
       "    }\n",
       "\n",
       "    .dataframe tbody tr th {\n",
       "        vertical-align: top;\n",
       "    }\n",
       "\n",
       "    .dataframe thead th {\n",
       "        text-align: right;\n",
       "    }\n",
       "</style>\n",
       "<table border=\"1\" class=\"dataframe\">\n",
       "  <thead>\n",
       "    <tr style=\"text-align: right;\">\n",
       "      <th></th>\n",
       "      <th>gitcord_uid</th>\n",
       "      <th>sha</th>\n",
       "      <th>source_x</th>\n",
       "      <th>title</th>\n",
       "      <th>doi</th>\n",
       "      <th>pmcid</th>\n",
       "      <th>pubmed_id</th>\n",
       "      <th>license</th>\n",
       "      <th>abstract</th>\n",
       "      <th>publish_time</th>\n",
       "      <th>...</th>\n",
       "      <th>journal</th>\n",
       "      <th>mag_id</th>\n",
       "      <th>who_covidence_id</th>\n",
       "      <th>arxiv_id</th>\n",
       "      <th>pdf_json_files</th>\n",
       "      <th>pmc_json_files</th>\n",
       "      <th>url</th>\n",
       "      <th>s2_id</th>\n",
       "      <th>abstract_lower</th>\n",
       "      <th>title_lower</th>\n",
       "    </tr>\n",
       "  </thead>\n",
       "  <tbody>\n",
       "    <tr>\n",
       "      <th>0</th>\n",
       "      <td>qva0jt86</td>\n",
       "      <td>4ba79e54ecf81b30b56461a6aec2094eaf7b7f06</td>\n",
       "      <td>PMC</td>\n",
       "      <td>Relevance of human metapneumovirus in exacerba...</td>\n",
       "      <td>10.1186/1465-9921-6-150</td>\n",
       "      <td>PMC1334186</td>\n",
       "      <td>16371156.0</td>\n",
       "      <td>cc-by</td>\n",
       "      <td>BACKGROUND AND METHODS: Human metapneumovirus ...</td>\n",
       "      <td>2005-12-21</td>\n",
       "      <td>...</td>\n",
       "      <td>Respir Res</td>\n",
       "      <td>NaN</td>\n",
       "      <td>NaN</td>\n",
       "      <td>NaN</td>\n",
       "      <td>document_parses/pdf_json/4ba79e54ecf81b30b5646...</td>\n",
       "      <td>document_parses/pmc_json/PMC1334186.xml.json</td>\n",
       "      <td>https://www.ncbi.nlm.nih.gov/pmc/articles/PMC1...</td>\n",
       "      <td>NaN</td>\n",
       "      <td>background and methods: human metapneumovirus ...</td>\n",
       "      <td>relevance of human metapneumovirus in exacerba...</td>\n",
       "    </tr>\n",
       "    <tr>\n",
       "      <th>1</th>\n",
       "      <td>chz8luni</td>\n",
       "      <td>d68d71553d3a31381c0c3851351f912a9a7be1c9</td>\n",
       "      <td>PMC</td>\n",
       "      <td>Surfactant therapy for acute respiratory failu...</td>\n",
       "      <td>10.1186/cc5944</td>\n",
       "      <td>PMC2206432</td>\n",
       "      <td>17573963.0</td>\n",
       "      <td>cc-by</td>\n",
       "      <td>INTRODUCTION: Exogenous surfactant is used to ...</td>\n",
       "      <td>2007-06-15</td>\n",
       "      <td>...</td>\n",
       "      <td>Crit Care</td>\n",
       "      <td>NaN</td>\n",
       "      <td>NaN</td>\n",
       "      <td>NaN</td>\n",
       "      <td>document_parses/pdf_json/d68d71553d3a31381c0c3...</td>\n",
       "      <td>document_parses/pmc_json/PMC2206432.xml.json</td>\n",
       "      <td>https://www.ncbi.nlm.nih.gov/pmc/articles/PMC2...</td>\n",
       "      <td>NaN</td>\n",
       "      <td>introduction: exogenous surfactant is used to ...</td>\n",
       "      <td>surfactant therapy for acute respiratory failu...</td>\n",
       "    </tr>\n",
       "    <tr>\n",
       "      <th>2</th>\n",
       "      <td>3zh8jmc2</td>\n",
       "      <td>fe2000f280297c40bc53ce95d703a9ca6aac19fd</td>\n",
       "      <td>PMC</td>\n",
       "      <td>Differential Regulation of Type I Interferon a...</td>\n",
       "      <td>10.1371/journal.ppat.1000587</td>\n",
       "      <td>PMC2736567</td>\n",
       "      <td>19806178.0</td>\n",
       "      <td>cc-by</td>\n",
       "      <td>A number of paramyxoviruses are responsible fo...</td>\n",
       "      <td>2009-09-18</td>\n",
       "      <td>...</td>\n",
       "      <td>PLoS Pathog</td>\n",
       "      <td>NaN</td>\n",
       "      <td>NaN</td>\n",
       "      <td>NaN</td>\n",
       "      <td>document_parses/pdf_json/fe2000f280297c40bc53c...</td>\n",
       "      <td>document_parses/pmc_json/PMC2736567.xml.json</td>\n",
       "      <td>https://www.ncbi.nlm.nih.gov/pmc/articles/PMC2...</td>\n",
       "      <td>NaN</td>\n",
       "      <td>a number of paramyxoviruses are responsible fo...</td>\n",
       "      <td>differential regulation of type i interferon a...</td>\n",
       "    </tr>\n",
       "    <tr>\n",
       "      <th>3</th>\n",
       "      <td>7p3b6tyf</td>\n",
       "      <td>3ccbd07ee1865e4f2afffdb6cc8b6039ab605ee7</td>\n",
       "      <td>PMC</td>\n",
       "      <td>The Tennessee Children's Respiratory Initiativ...</td>\n",
       "      <td>10.1111/j.1440-1843.2010.01743.x</td>\n",
       "      <td>PMC2992986</td>\n",
       "      <td>20409023.0</td>\n",
       "      <td>no-cc</td>\n",
       "      <td>Background and objective: The ‘attack rate’ of...</td>\n",
       "      <td>2010-04-08</td>\n",
       "      <td>...</td>\n",
       "      <td>Respirology</td>\n",
       "      <td>NaN</td>\n",
       "      <td>NaN</td>\n",
       "      <td>NaN</td>\n",
       "      <td>document_parses/pdf_json/3ccbd07ee1865e4f2afff...</td>\n",
       "      <td>document_parses/pmc_json/PMC2992986.xml.json</td>\n",
       "      <td>https://www.ncbi.nlm.nih.gov/pmc/articles/PMC2...</td>\n",
       "      <td>NaN</td>\n",
       "      <td>background and objective: the ‘attack rate’ of...</td>\n",
       "      <td>the tennessee children's respiratory initiativ...</td>\n",
       "    </tr>\n",
       "    <tr>\n",
       "      <th>4</th>\n",
       "      <td>xrsyj1tc</td>\n",
       "      <td>fa88fbb8716e5fca7d513bcb5a0a608456a59205</td>\n",
       "      <td>PMC</td>\n",
       "      <td>Analysing the eosinophil cationic protein - a ...</td>\n",
       "      <td>10.1186/1465-9921-12-10</td>\n",
       "      <td>PMC3030543</td>\n",
       "      <td>21235798.0</td>\n",
       "      <td>cc-by</td>\n",
       "      <td>Eosinophil granulocytes reside in respiratory ...</td>\n",
       "      <td>2011-01-14</td>\n",
       "      <td>...</td>\n",
       "      <td>Respir Res</td>\n",
       "      <td>NaN</td>\n",
       "      <td>NaN</td>\n",
       "      <td>NaN</td>\n",
       "      <td>document_parses/pdf_json/fa88fbb8716e5fca7d513...</td>\n",
       "      <td>document_parses/pmc_json/PMC3030543.xml.json</td>\n",
       "      <td>https://www.ncbi.nlm.nih.gov/pmc/articles/PMC3...</td>\n",
       "      <td>NaN</td>\n",
       "      <td>eosinophil granulocytes reside in respiratory ...</td>\n",
       "      <td>analysing the eosinophil cationic protein - a ...</td>\n",
       "    </tr>\n",
       "  </tbody>\n",
       "</table>\n",
       "<p>5 rows × 21 columns</p>\n",
       "</div>"
      ],
      "text/plain": [
       "  gitcord_uid                                       sha source_x  \\\n",
       "0    qva0jt86  4ba79e54ecf81b30b56461a6aec2094eaf7b7f06      PMC   \n",
       "1    chz8luni  d68d71553d3a31381c0c3851351f912a9a7be1c9      PMC   \n",
       "2    3zh8jmc2  fe2000f280297c40bc53ce95d703a9ca6aac19fd      PMC   \n",
       "3    7p3b6tyf  3ccbd07ee1865e4f2afffdb6cc8b6039ab605ee7      PMC   \n",
       "4    xrsyj1tc  fa88fbb8716e5fca7d513bcb5a0a608456a59205      PMC   \n",
       "\n",
       "                                               title  \\\n",
       "0  Relevance of human metapneumovirus in exacerba...   \n",
       "1  Surfactant therapy for acute respiratory failu...   \n",
       "2  Differential Regulation of Type I Interferon a...   \n",
       "3  The Tennessee Children's Respiratory Initiativ...   \n",
       "4  Analysing the eosinophil cationic protein - a ...   \n",
       "\n",
       "                                doi       pmcid   pubmed_id license  \\\n",
       "0           10.1186/1465-9921-6-150  PMC1334186  16371156.0   cc-by   \n",
       "1                    10.1186/cc5944  PMC2206432  17573963.0   cc-by   \n",
       "2      10.1371/journal.ppat.1000587  PMC2736567  19806178.0   cc-by   \n",
       "3  10.1111/j.1440-1843.2010.01743.x  PMC2992986  20409023.0   no-cc   \n",
       "4           10.1186/1465-9921-12-10  PMC3030543  21235798.0   cc-by   \n",
       "\n",
       "                                            abstract publish_time  ...  \\\n",
       "0  BACKGROUND AND METHODS: Human metapneumovirus ...   2005-12-21  ...   \n",
       "1  INTRODUCTION: Exogenous surfactant is used to ...   2007-06-15  ...   \n",
       "2  A number of paramyxoviruses are responsible fo...   2009-09-18  ...   \n",
       "3  Background and objective: The ‘attack rate’ of...   2010-04-08  ...   \n",
       "4  Eosinophil granulocytes reside in respiratory ...   2011-01-14  ...   \n",
       "\n",
       "       journal mag_id  who_covidence_id arxiv_id  \\\n",
       "0   Respir Res    NaN               NaN      NaN   \n",
       "1    Crit Care    NaN               NaN      NaN   \n",
       "2  PLoS Pathog    NaN               NaN      NaN   \n",
       "3  Respirology    NaN               NaN      NaN   \n",
       "4   Respir Res    NaN               NaN      NaN   \n",
       "\n",
       "                                      pdf_json_files  \\\n",
       "0  document_parses/pdf_json/4ba79e54ecf81b30b5646...   \n",
       "1  document_parses/pdf_json/d68d71553d3a31381c0c3...   \n",
       "2  document_parses/pdf_json/fe2000f280297c40bc53c...   \n",
       "3  document_parses/pdf_json/3ccbd07ee1865e4f2afff...   \n",
       "4  document_parses/pdf_json/fa88fbb8716e5fca7d513...   \n",
       "\n",
       "                                 pmc_json_files  \\\n",
       "0  document_parses/pmc_json/PMC1334186.xml.json   \n",
       "1  document_parses/pmc_json/PMC2206432.xml.json   \n",
       "2  document_parses/pmc_json/PMC2736567.xml.json   \n",
       "3  document_parses/pmc_json/PMC2992986.xml.json   \n",
       "4  document_parses/pmc_json/PMC3030543.xml.json   \n",
       "\n",
       "                                                 url s2_id  \\\n",
       "0  https://www.ncbi.nlm.nih.gov/pmc/articles/PMC1...   NaN   \n",
       "1  https://www.ncbi.nlm.nih.gov/pmc/articles/PMC2...   NaN   \n",
       "2  https://www.ncbi.nlm.nih.gov/pmc/articles/PMC2...   NaN   \n",
       "3  https://www.ncbi.nlm.nih.gov/pmc/articles/PMC2...   NaN   \n",
       "4  https://www.ncbi.nlm.nih.gov/pmc/articles/PMC3...   NaN   \n",
       "\n",
       "                                      abstract_lower  \\\n",
       "0  background and methods: human metapneumovirus ...   \n",
       "1  introduction: exogenous surfactant is used to ...   \n",
       "2  a number of paramyxoviruses are responsible fo...   \n",
       "3  background and objective: the ‘attack rate’ of...   \n",
       "4  eosinophil granulocytes reside in respiratory ...   \n",
       "\n",
       "                                         title_lower  \n",
       "0  relevance of human metapneumovirus in exacerba...  \n",
       "1  surfactant therapy for acute respiratory failu...  \n",
       "2  differential regulation of type i interferon a...  \n",
       "3  the tennessee children's respiratory initiativ...  \n",
       "4  analysing the eosinophil cationic protein - a ...  \n",
       "\n",
       "[5 rows x 21 columns]"
      ]
     },
     "execution_count": 112,
     "metadata": {},
     "output_type": "execute_result"
    }
   ],
   "source": [
    "#We load the csv file to pands dataframe and have a look at the papers' metadata we'll use\n",
    "asthma_df = pd.read_csv(\"asthma_data.csv\")\n",
    "asthma_df.head()"
   ]
  },
  {
   "cell_type": "markdown",
   "metadata": {},
   "source": [
    "There are 2567 papers containing the word \"asthma\", among the coronavirus-related publications "
   ]
  },
  {
   "cell_type": "code",
   "execution_count": 113,
   "metadata": {},
   "outputs": [
    {
     "data": {
      "text/plain": [
       "(2567, 21)"
      ]
     },
     "execution_count": 113,
     "metadata": {},
     "output_type": "execute_result"
    }
   ],
   "source": [
    "asthma_df.shape"
   ]
  },
  {
   "cell_type": "code",
   "execution_count": 114,
   "metadata": {},
   "outputs": [],
   "source": [
    "# We use the langdetect google library to dect the language of the \"abstract\" column in our dataframe\n",
    "\n",
    "asthma_df[\"lang_detect\"] = asthma_df[\"abstract\"].apply(detect)"
   ]
  },
  {
   "cell_type": "code",
   "execution_count": 115,
   "metadata": {},
   "outputs": [
    {
     "data": {
      "text/plain": [
       "en    2529\n",
       "de      12\n",
       "fr      11\n",
       "es       8\n",
       "ru       3\n",
       "pt       2\n",
       "nl       2\n",
       "Name: lang_detect, dtype: int64"
      ]
     },
     "execution_count": 115,
     "metadata": {},
     "output_type": "execute_result"
    }
   ],
   "source": [
    "# As non-english papers are a small percent of our total papers, weexclude them from our analysis\n",
    "\n",
    "asthma_df[\"lang_detect\"].value_counts()"
   ]
  },
  {
   "cell_type": "markdown",
   "metadata": {},
   "source": [
    "We now have 2528 papers in total, written in english."
   ]
  },
  {
   "cell_type": "code",
   "execution_count": 116,
   "metadata": {},
   "outputs": [
    {
     "data": {
      "text/plain": [
       "(2529, 22)"
      ]
     },
     "execution_count": 116,
     "metadata": {},
     "output_type": "execute_result"
    }
   ],
   "source": [
    "asthma_df = asthma_df.loc[asthma_df['lang_detect'] == \"en\"]\n",
    "asthma_df.shape"
   ]
  },
  {
   "cell_type": "code",
   "execution_count": 117,
   "metadata": {},
   "outputs": [
    {
     "data": {
      "text/plain": [
       "WHO                              691\n",
       "Medline; PMC                     564\n",
       "Medline                          549\n",
       "Elsevier; Medline; PMC           327\n",
       "PMC                              248\n",
       "MedRxiv; WHO                      62\n",
       "Elsevier; PMC                     44\n",
       "ArXiv                              7\n",
       "BioRxiv; WHO                       7\n",
       "BioRxiv                            7\n",
       "MedRxiv                            6\n",
       "Medline; PMC; WHO                  5\n",
       "MedRxiv; Medline; WHO              4\n",
       "MedRxiv; Medline; PMC; WHO         3\n",
       "Elsevier; Medline; PMC; WHO        2\n",
       "ArXiv; Elsevier; Medline; PMC      1\n",
       "PMC; WHO                           1\n",
       "BioRxiv; MedRxiv                   1\n",
       "Name: source_x, dtype: int64"
      ]
     },
     "execution_count": 117,
     "metadata": {},
     "output_type": "execute_result"
    }
   ],
   "source": [
    "asthma_df['source_x'].value_counts()"
   ]
  },
  {
   "cell_type": "markdown",
   "metadata": {},
   "source": [
    "We divide the papers between those published before the new coronavirus SARS-CoV-2 has appeared and those published after the COVID-19 outbreak. We pick December 2019 as the cut-off date."
   ]
  },
  {
   "cell_type": "code",
   "execution_count": 118,
   "metadata": {},
   "outputs": [],
   "source": [
    "asthma_before_covid = asthma_df.loc[asthma_df['publish_time']<\"2019-12-01\"].reset_index(drop=True)\n",
    "asthma_after_covid = asthma_df.loc[asthma_df['publish_time']>=\"2019-12-01\"].reset_index(drop=True)"
   ]
  },
  {
   "cell_type": "markdown",
   "metadata": {},
   "source": [
    "We can also have a look at the number of the papers published by month, since the covid outbreak. "
   ]
  },
  {
   "cell_type": "code",
   "execution_count": 119,
   "metadata": {},
   "outputs": [],
   "source": [
    "asthma_after_covid['publish_time_new'] =  pd.to_datetime(asthma_after_covid['publish_time'])"
   ]
  },
  {
   "cell_type": "code",
   "execution_count": 120,
   "metadata": {},
   "outputs": [
    {
     "data": {
      "text/html": [
       "<div>\n",
       "<style scoped>\n",
       "    .dataframe tbody tr th:only-of-type {\n",
       "        vertical-align: middle;\n",
       "    }\n",
       "\n",
       "    .dataframe tbody tr th {\n",
       "        vertical-align: top;\n",
       "    }\n",
       "\n",
       "    .dataframe thead th {\n",
       "        text-align: right;\n",
       "    }\n",
       "</style>\n",
       "<table border=\"1\" class=\"dataframe\">\n",
       "  <thead>\n",
       "    <tr style=\"text-align: right;\">\n",
       "      <th></th>\n",
       "      <th>gitcord_uid</th>\n",
       "      <th>sha</th>\n",
       "      <th>source_x</th>\n",
       "      <th>title</th>\n",
       "      <th>doi</th>\n",
       "      <th>pmcid</th>\n",
       "      <th>pubmed_id</th>\n",
       "      <th>license</th>\n",
       "      <th>abstract</th>\n",
       "      <th>publish_time</th>\n",
       "      <th>...</th>\n",
       "      <th>arxiv_id</th>\n",
       "      <th>pdf_json_files</th>\n",
       "      <th>pmc_json_files</th>\n",
       "      <th>url</th>\n",
       "      <th>s2_id</th>\n",
       "      <th>abstract_lower</th>\n",
       "      <th>title_lower</th>\n",
       "      <th>lang_detect</th>\n",
       "      <th>publish_time_new</th>\n",
       "      <th>publish_month_year</th>\n",
       "    </tr>\n",
       "  </thead>\n",
       "  <tbody>\n",
       "    <tr>\n",
       "      <th>0</th>\n",
       "      <td>3ki0dzwb</td>\n",
       "      <td>71b8c50ee0e1f4e79e6618301b768befbf943a5d</td>\n",
       "      <td>PMC</td>\n",
       "      <td>Inflammatory and microbiological associations ...</td>\n",
       "      <td>10.1183/23120541.00267-2019</td>\n",
       "      <td>PMC6983494</td>\n",
       "      <td>32010717.0</td>\n",
       "      <td>cc-by-nc</td>\n",
       "      <td>Patients with near-fatal asthma requiring ECMO...</td>\n",
       "      <td>2020-01-27</td>\n",
       "      <td>...</td>\n",
       "      <td>NaN</td>\n",
       "      <td>document_parses/pdf_json/71b8c50ee0e1f4e79e661...</td>\n",
       "      <td>document_parses/pmc_json/PMC6983494.xml.json</td>\n",
       "      <td>https://www.ncbi.nlm.nih.gov/pmc/articles/PMC6...</td>\n",
       "      <td>NaN</td>\n",
       "      <td>patients with near-fatal asthma requiring ecmo...</td>\n",
       "      <td>inflammatory and microbiological associations ...</td>\n",
       "      <td>en</td>\n",
       "      <td>2020-01-27</td>\n",
       "      <td>2020-01</td>\n",
       "    </tr>\n",
       "    <tr>\n",
       "      <th>1</th>\n",
       "      <td>okc7wf4n</td>\n",
       "      <td>f4edbfd3e9a8b2d0d76378e6588a5971b070a4c9</td>\n",
       "      <td>PMC</td>\n",
       "      <td>Different effects of acetyl-CoA carboxylase in...</td>\n",
       "      <td>10.1007/s43440-019-00027-8</td>\n",
       "      <td>PMC7223088</td>\n",
       "      <td>32048254.0</td>\n",
       "      <td>no-cc</td>\n",
       "      <td>BACKGROUND AND OBJECTIVE: Acetyl CoA carboxyla...</td>\n",
       "      <td>2020-01-08</td>\n",
       "      <td>...</td>\n",
       "      <td>NaN</td>\n",
       "      <td>document_parses/pdf_json/f4edbfd3e9a8b2d0d7637...</td>\n",
       "      <td>document_parses/pmc_json/PMC7223088.xml.json</td>\n",
       "      <td>https://www.ncbi.nlm.nih.gov/pmc/articles/PMC7...</td>\n",
       "      <td>NaN</td>\n",
       "      <td>background and objective: acetyl coa carboxyla...</td>\n",
       "      <td>different effects of acetyl-coa carboxylase in...</td>\n",
       "      <td>en</td>\n",
       "      <td>2020-01-08</td>\n",
       "      <td>2020-01</td>\n",
       "    </tr>\n",
       "    <tr>\n",
       "      <th>2</th>\n",
       "      <td>8lqjl0ee</td>\n",
       "      <td>1f6fa8e138abc1556e853c53dcce8f5e16007fcc</td>\n",
       "      <td>PMC</td>\n",
       "      <td>Risk of Readmission and Mortality Following Ho...</td>\n",
       "      <td>10.1007/s00408-019-00300-w</td>\n",
       "      <td>PMC7223622</td>\n",
       "      <td>31828514.0</td>\n",
       "      <td>no-cc</td>\n",
       "      <td>PURPOSE: Hypercapnic respiratory failure (HRF)...</td>\n",
       "      <td>2019-12-11</td>\n",
       "      <td>...</td>\n",
       "      <td>NaN</td>\n",
       "      <td>document_parses/pdf_json/1f6fa8e138abc1556e853...</td>\n",
       "      <td>document_parses/pmc_json/PMC7223622.xml.json</td>\n",
       "      <td>https://www.ncbi.nlm.nih.gov/pmc/articles/PMC7...</td>\n",
       "      <td>NaN</td>\n",
       "      <td>purpose: hypercapnic respiratory failure (hrf)...</td>\n",
       "      <td>risk of readmission and mortality following ho...</td>\n",
       "      <td>en</td>\n",
       "      <td>2019-12-11</td>\n",
       "      <td>2019-12</td>\n",
       "    </tr>\n",
       "    <tr>\n",
       "      <th>3</th>\n",
       "      <td>vosu7y6j</td>\n",
       "      <td>6fa9233f054f4bbb31972e05c1478b0ec83ccc16</td>\n",
       "      <td>PMC</td>\n",
       "      <td>Innate Type 2 Responses to Respiratory Syncyti...</td>\n",
       "      <td>10.3390/v12050521</td>\n",
       "      <td>PMC7290766</td>\n",
       "      <td>32397226.0</td>\n",
       "      <td>cc-by</td>\n",
       "      <td>Respiratory syncytial virus (RSV) is a common ...</td>\n",
       "      <td>2020-05-08</td>\n",
       "      <td>...</td>\n",
       "      <td>NaN</td>\n",
       "      <td>document_parses/pdf_json/6fa9233f054f4bbb31972...</td>\n",
       "      <td>document_parses/pmc_json/PMC7290766.xml.json</td>\n",
       "      <td>https://www.ncbi.nlm.nih.gov/pmc/articles/PMC7...</td>\n",
       "      <td>NaN</td>\n",
       "      <td>respiratory syncytial virus (rsv) is a common ...</td>\n",
       "      <td>innate type 2 responses to respiratory syncyti...</td>\n",
       "      <td>en</td>\n",
       "      <td>2020-05-08</td>\n",
       "      <td>2020-05</td>\n",
       "    </tr>\n",
       "    <tr>\n",
       "      <th>4</th>\n",
       "      <td>yyw64g9w</td>\n",
       "      <td>8d634bba632c08e7d8e105a66dac4e0d813ab4e9</td>\n",
       "      <td>PMC</td>\n",
       "      <td>From Mouse to Man and Back: Closing the Correl...</td>\n",
       "      <td>10.3390/diagnostics10090636</td>\n",
       "      <td>PMC7554749</td>\n",
       "      <td>32859103.0</td>\n",
       "      <td>cc-by</td>\n",
       "      <td>Lung diseases such as fibrosis, asthma, cystic...</td>\n",
       "      <td>2020-08-26</td>\n",
       "      <td>...</td>\n",
       "      <td>NaN</td>\n",
       "      <td>document_parses/pdf_json/8d634bba632c08e7d8e10...</td>\n",
       "      <td>document_parses/pmc_json/PMC7554749.xml.json</td>\n",
       "      <td>https://www.ncbi.nlm.nih.gov/pmc/articles/PMC7...</td>\n",
       "      <td>NaN</td>\n",
       "      <td>lung diseases such as fibrosis, asthma, cystic...</td>\n",
       "      <td>from mouse to man and back: closing the correl...</td>\n",
       "      <td>en</td>\n",
       "      <td>2020-08-26</td>\n",
       "      <td>2020-08</td>\n",
       "    </tr>\n",
       "  </tbody>\n",
       "</table>\n",
       "<p>5 rows × 24 columns</p>\n",
       "</div>"
      ],
      "text/plain": [
       "  gitcord_uid                                       sha source_x  \\\n",
       "0    3ki0dzwb  71b8c50ee0e1f4e79e6618301b768befbf943a5d      PMC   \n",
       "1    okc7wf4n  f4edbfd3e9a8b2d0d76378e6588a5971b070a4c9      PMC   \n",
       "2    8lqjl0ee  1f6fa8e138abc1556e853c53dcce8f5e16007fcc      PMC   \n",
       "3    vosu7y6j  6fa9233f054f4bbb31972e05c1478b0ec83ccc16      PMC   \n",
       "4    yyw64g9w  8d634bba632c08e7d8e105a66dac4e0d813ab4e9      PMC   \n",
       "\n",
       "                                               title  \\\n",
       "0  Inflammatory and microbiological associations ...   \n",
       "1  Different effects of acetyl-CoA carboxylase in...   \n",
       "2  Risk of Readmission and Mortality Following Ho...   \n",
       "3  Innate Type 2 Responses to Respiratory Syncyti...   \n",
       "4  From Mouse to Man and Back: Closing the Correl...   \n",
       "\n",
       "                           doi       pmcid   pubmed_id   license  \\\n",
       "0  10.1183/23120541.00267-2019  PMC6983494  32010717.0  cc-by-nc   \n",
       "1   10.1007/s43440-019-00027-8  PMC7223088  32048254.0     no-cc   \n",
       "2   10.1007/s00408-019-00300-w  PMC7223622  31828514.0     no-cc   \n",
       "3            10.3390/v12050521  PMC7290766  32397226.0     cc-by   \n",
       "4  10.3390/diagnostics10090636  PMC7554749  32859103.0     cc-by   \n",
       "\n",
       "                                            abstract publish_time  ...  \\\n",
       "0  Patients with near-fatal asthma requiring ECMO...   2020-01-27  ...   \n",
       "1  BACKGROUND AND OBJECTIVE: Acetyl CoA carboxyla...   2020-01-08  ...   \n",
       "2  PURPOSE: Hypercapnic respiratory failure (HRF)...   2019-12-11  ...   \n",
       "3  Respiratory syncytial virus (RSV) is a common ...   2020-05-08  ...   \n",
       "4  Lung diseases such as fibrosis, asthma, cystic...   2020-08-26  ...   \n",
       "\n",
       "  arxiv_id                                     pdf_json_files  \\\n",
       "0      NaN  document_parses/pdf_json/71b8c50ee0e1f4e79e661...   \n",
       "1      NaN  document_parses/pdf_json/f4edbfd3e9a8b2d0d7637...   \n",
       "2      NaN  document_parses/pdf_json/1f6fa8e138abc1556e853...   \n",
       "3      NaN  document_parses/pdf_json/6fa9233f054f4bbb31972...   \n",
       "4      NaN  document_parses/pdf_json/8d634bba632c08e7d8e10...   \n",
       "\n",
       "                                 pmc_json_files  \\\n",
       "0  document_parses/pmc_json/PMC6983494.xml.json   \n",
       "1  document_parses/pmc_json/PMC7223088.xml.json   \n",
       "2  document_parses/pmc_json/PMC7223622.xml.json   \n",
       "3  document_parses/pmc_json/PMC7290766.xml.json   \n",
       "4  document_parses/pmc_json/PMC7554749.xml.json   \n",
       "\n",
       "                                                 url  s2_id  \\\n",
       "0  https://www.ncbi.nlm.nih.gov/pmc/articles/PMC6...    NaN   \n",
       "1  https://www.ncbi.nlm.nih.gov/pmc/articles/PMC7...    NaN   \n",
       "2  https://www.ncbi.nlm.nih.gov/pmc/articles/PMC7...    NaN   \n",
       "3  https://www.ncbi.nlm.nih.gov/pmc/articles/PMC7...    NaN   \n",
       "4  https://www.ncbi.nlm.nih.gov/pmc/articles/PMC7...    NaN   \n",
       "\n",
       "                                      abstract_lower  \\\n",
       "0  patients with near-fatal asthma requiring ecmo...   \n",
       "1  background and objective: acetyl coa carboxyla...   \n",
       "2  purpose: hypercapnic respiratory failure (hrf)...   \n",
       "3  respiratory syncytial virus (rsv) is a common ...   \n",
       "4  lung diseases such as fibrosis, asthma, cystic...   \n",
       "\n",
       "                                         title_lower lang_detect  \\\n",
       "0  inflammatory and microbiological associations ...          en   \n",
       "1  different effects of acetyl-coa carboxylase in...          en   \n",
       "2  risk of readmission and mortality following ho...          en   \n",
       "3  innate type 2 responses to respiratory syncyti...          en   \n",
       "4  from mouse to man and back: closing the correl...          en   \n",
       "\n",
       "   publish_time_new publish_month_year  \n",
       "0        2020-01-27            2020-01  \n",
       "1        2020-01-08            2020-01  \n",
       "2        2019-12-11            2019-12  \n",
       "3        2020-05-08            2020-05  \n",
       "4        2020-08-26            2020-08  \n",
       "\n",
       "[5 rows x 24 columns]"
      ]
     },
     "execution_count": 120,
     "metadata": {},
     "output_type": "execute_result"
    }
   ],
   "source": [
    "asthma_after_covid['publish_month_year'] = pd.to_datetime(asthma_after_covid['publish_time']).dt.to_period('M')\n",
    "asthma_after_covid.head()"
   ]
  },
  {
   "cell_type": "code",
   "execution_count": 121,
   "metadata": {},
   "outputs": [],
   "source": [
    "asthma_after_covid = asthma_after_covid.sort_values('publish_month_year')"
   ]
  },
  {
   "cell_type": "code",
   "execution_count": 122,
   "metadata": {},
   "outputs": [],
   "source": [
    "dates = asthma_after_covid[\"publish_month_year\"].value_counts()"
   ]
  },
  {
   "cell_type": "code",
   "execution_count": 123,
   "metadata": {},
   "outputs": [],
   "source": [
    "dates_df = dates.to_frame().reset_index()"
   ]
  },
  {
   "cell_type": "code",
   "execution_count": 124,
   "metadata": {},
   "outputs": [
    {
     "data": {
      "text/html": [
       "<div>\n",
       "<style scoped>\n",
       "    .dataframe tbody tr th:only-of-type {\n",
       "        vertical-align: middle;\n",
       "    }\n",
       "\n",
       "    .dataframe tbody tr th {\n",
       "        vertical-align: top;\n",
       "    }\n",
       "\n",
       "    .dataframe thead th {\n",
       "        text-align: right;\n",
       "    }\n",
       "</style>\n",
       "<table border=\"1\" class=\"dataframe\">\n",
       "  <thead>\n",
       "    <tr style=\"text-align: right;\">\n",
       "      <th></th>\n",
       "      <th>index</th>\n",
       "      <th>publish_month_year</th>\n",
       "    </tr>\n",
       "  </thead>\n",
       "  <tbody>\n",
       "    <tr>\n",
       "      <th>12</th>\n",
       "      <td>2019-12</td>\n",
       "      <td>10</td>\n",
       "    </tr>\n",
       "    <tr>\n",
       "      <th>0</th>\n",
       "      <td>2020-01</td>\n",
       "      <td>602</td>\n",
       "    </tr>\n",
       "    <tr>\n",
       "      <th>13</th>\n",
       "      <td>2020-02</td>\n",
       "      <td>9</td>\n",
       "    </tr>\n",
       "    <tr>\n",
       "      <th>14</th>\n",
       "      <td>2020-03</td>\n",
       "      <td>8</td>\n",
       "    </tr>\n",
       "    <tr>\n",
       "      <th>11</th>\n",
       "      <td>2020-04</td>\n",
       "      <td>19</td>\n",
       "    </tr>\n",
       "    <tr>\n",
       "      <th>8</th>\n",
       "      <td>2020-05</td>\n",
       "      <td>69</td>\n",
       "    </tr>\n",
       "    <tr>\n",
       "      <th>7</th>\n",
       "      <td>2020-06</td>\n",
       "      <td>74</td>\n",
       "    </tr>\n",
       "    <tr>\n",
       "      <th>3</th>\n",
       "      <td>2020-07</td>\n",
       "      <td>92</td>\n",
       "    </tr>\n",
       "    <tr>\n",
       "      <th>9</th>\n",
       "      <td>2020-08</td>\n",
       "      <td>60</td>\n",
       "    </tr>\n",
       "    <tr>\n",
       "      <th>4</th>\n",
       "      <td>2020-09</td>\n",
       "      <td>90</td>\n",
       "    </tr>\n",
       "    <tr>\n",
       "      <th>2</th>\n",
       "      <td>2020-10</td>\n",
       "      <td>96</td>\n",
       "    </tr>\n",
       "    <tr>\n",
       "      <th>6</th>\n",
       "      <td>2020-11</td>\n",
       "      <td>76</td>\n",
       "    </tr>\n",
       "    <tr>\n",
       "      <th>5</th>\n",
       "      <td>2020-12</td>\n",
       "      <td>77</td>\n",
       "    </tr>\n",
       "    <tr>\n",
       "      <th>1</th>\n",
       "      <td>2021-01</td>\n",
       "      <td>183</td>\n",
       "    </tr>\n",
       "    <tr>\n",
       "      <th>10</th>\n",
       "      <td>2021-02</td>\n",
       "      <td>43</td>\n",
       "    </tr>\n",
       "    <tr>\n",
       "      <th>15</th>\n",
       "      <td>2021-04</td>\n",
       "      <td>1</td>\n",
       "    </tr>\n",
       "  </tbody>\n",
       "</table>\n",
       "</div>"
      ],
      "text/plain": [
       "      index  publish_month_year\n",
       "12  2019-12                  10\n",
       "0   2020-01                 602\n",
       "13  2020-02                   9\n",
       "14  2020-03                   8\n",
       "11  2020-04                  19\n",
       "8   2020-05                  69\n",
       "7   2020-06                  74\n",
       "3   2020-07                  92\n",
       "9   2020-08                  60\n",
       "4   2020-09                  90\n",
       "2   2020-10                  96\n",
       "6   2020-11                  76\n",
       "5   2020-12                  77\n",
       "1   2021-01                 183\n",
       "10  2021-02                  43\n",
       "15  2021-04                   1"
      ]
     },
     "execution_count": 124,
     "metadata": {},
     "output_type": "execute_result"
    }
   ],
   "source": [
    "dates_df = dates_df.sort_values(\"index\")\n",
    "dates_df"
   ]
  },
  {
   "cell_type": "markdown",
   "metadata": {},
   "source": [
    "The graph below illustrates the number of papers published through the last 12-14 months. However, we recognize that the two picks noticed in January 2020 and January 2021 are not completely accurate. As an amount of papers had only the year (yyyy) mentioned in their publication date, their publivcation date is taken as 01/01/yyyy.\n",
    "\n",
    "As a result, we cannot draw a very accurate example of the distribution of publications through the months."
   ]
  },
  {
   "cell_type": "code",
   "execution_count": 125,
   "metadata": {},
   "outputs": [
    {
     "data": {
      "text/plain": [
       "<matplotlib.axes._subplots.AxesSubplot at 0x12e285fa320>"
      ]
     },
     "execution_count": 125,
     "metadata": {},
     "output_type": "execute_result"
    },
    {
     "data": {
      "image/png": "[encoded data removed]",
      "text/plain": [
       "<Figure size 432x288 with 1 Axes>"
      ]
     },
     "metadata": {
      "needs_background": "light"
     },
     "output_type": "display_data"
    }
   ],
   "source": [
    "dates_df.plot(x ='index', y = 'publish_month_year')"
   ]
  },
  {
   "cell_type": "markdown",
   "metadata": {},
   "source": [
    "## Clustering"
   ]
  },
  {
   "cell_type": "code",
   "execution_count": 126,
   "metadata": {},
   "outputs": [],
   "source": [
    "texts_before = asthma_before_covid[\"abstract_lower\"].tolist()"
   ]
  },
  {
   "cell_type": "code",
   "execution_count": 127,
   "metadata": {},
   "outputs": [],
   "source": [
    "def custom_tokenizer(str_input):\n",
    "    \n",
    "    stemmer = PorterStemmer()\n",
    "    words = nltk.word_tokenize(str_input)\n",
    "    words = [word for word in words if word.lower() not in stop_words]\n",
    "\n",
    "    words = [word.replace('â¡', '') for word in words]\n",
    "    words = [word.replace('â¢', '') for word in words]\n",
    "    words = [word.replace('â£', '') for word in words]\n",
    "    \n",
    "    words = [''.join(c for c in word if c not in string.punctuation+'©±×≤≥●＜--“”→„') for word in words]\n",
    "    words = [word for word in words if word not in ['‘', '’', '„']]\n",
    "        \n",
    "    words = [word for word in words if word]\n",
    "    words = [word for word in words if not any(char.isdigit() for char in word)]\n",
    "    \n",
    "    words = [stemmer.stem(word) for word in words]\n",
    "    return words"
   ]
  },
  {
   "cell_type": "code",
   "execution_count": 128,
   "metadata": {},
   "outputs": [
    {
     "name": "stderr",
     "output_type": "stream",
     "text": [
      "c:\\users\\katerina\\appdata\\local\\programs\\python\\python37\\lib\\site-packages\\sklearn\\feature_extraction\\text.py:386: UserWarning:\n",
      "\n",
      "Your stop_words may be inconsistent with your preprocessing. Tokenizing the stop words generated tokens ['cri', 'describ', 'sincer'] not in stop_words.\n",
      "\n"
     ]
    },
    {
     "data": {
      "text/html": [
       "<div>\n",
       "<style scoped>\n",
       "    .dataframe tbody tr th:only-of-type {\n",
       "        vertical-align: middle;\n",
       "    }\n",
       "\n",
       "    .dataframe tbody tr th {\n",
       "        vertical-align: top;\n",
       "    }\n",
       "\n",
       "    .dataframe thead th {\n",
       "        text-align: right;\n",
       "    }\n",
       "</style>\n",
       "<table border=\"1\" class=\"dataframe\">\n",
       "  <thead>\n",
       "    <tr style=\"text-align: right;\">\n",
       "      <th></th>\n",
       "      <th>aberr</th>\n",
       "      <th>abil</th>\n",
       "      <th>abl</th>\n",
       "      <th>abnorm</th>\n",
       "      <th>absenc</th>\n",
       "      <th>absent</th>\n",
       "      <th>absolut</th>\n",
       "      <th>absorpt</th>\n",
       "      <th>abstract</th>\n",
       "      <th>abund</th>\n",
       "      <th>...</th>\n",
       "      <th>x</th>\n",
       "      <th>xray</th>\n",
       "      <th>year</th>\n",
       "      <th>yield</th>\n",
       "      <th>young</th>\n",
       "      <th>younger</th>\n",
       "      <th>yr</th>\n",
       "      <th>α</th>\n",
       "      <th>β</th>\n",
       "      <th>–</th>\n",
       "    </tr>\n",
       "  </thead>\n",
       "  <tbody>\n",
       "    <tr>\n",
       "      <th>0</th>\n",
       "      <td>0.0</td>\n",
       "      <td>0.0</td>\n",
       "      <td>0.0</td>\n",
       "      <td>0.0</td>\n",
       "      <td>0.0</td>\n",
       "      <td>0.0</td>\n",
       "      <td>0.0</td>\n",
       "      <td>0.0</td>\n",
       "      <td>0.0</td>\n",
       "      <td>0.0</td>\n",
       "      <td>...</td>\n",
       "      <td>0.0</td>\n",
       "      <td>0.0</td>\n",
       "      <td>0.000000</td>\n",
       "      <td>0.0</td>\n",
       "      <td>0.0</td>\n",
       "      <td>0.0</td>\n",
       "      <td>0.0</td>\n",
       "      <td>0.0</td>\n",
       "      <td>0.0</td>\n",
       "      <td>0.0</td>\n",
       "    </tr>\n",
       "    <tr>\n",
       "      <th>1</th>\n",
       "      <td>0.0</td>\n",
       "      <td>0.0</td>\n",
       "      <td>0.0</td>\n",
       "      <td>0.0</td>\n",
       "      <td>0.0</td>\n",
       "      <td>0.0</td>\n",
       "      <td>0.0</td>\n",
       "      <td>0.0</td>\n",
       "      <td>0.0</td>\n",
       "      <td>0.0</td>\n",
       "      <td>...</td>\n",
       "      <td>0.0</td>\n",
       "      <td>0.0</td>\n",
       "      <td>0.000000</td>\n",
       "      <td>0.0</td>\n",
       "      <td>0.0</td>\n",
       "      <td>0.0</td>\n",
       "      <td>0.0</td>\n",
       "      <td>0.0</td>\n",
       "      <td>0.0</td>\n",
       "      <td>0.0</td>\n",
       "    </tr>\n",
       "    <tr>\n",
       "      <th>2</th>\n",
       "      <td>0.0</td>\n",
       "      <td>0.0</td>\n",
       "      <td>0.0</td>\n",
       "      <td>0.0</td>\n",
       "      <td>0.0</td>\n",
       "      <td>0.0</td>\n",
       "      <td>0.0</td>\n",
       "      <td>0.0</td>\n",
       "      <td>0.0</td>\n",
       "      <td>0.0</td>\n",
       "      <td>...</td>\n",
       "      <td>0.0</td>\n",
       "      <td>0.0</td>\n",
       "      <td>0.000000</td>\n",
       "      <td>0.0</td>\n",
       "      <td>0.0</td>\n",
       "      <td>0.0</td>\n",
       "      <td>0.0</td>\n",
       "      <td>0.0</td>\n",
       "      <td>0.0</td>\n",
       "      <td>0.0</td>\n",
       "    </tr>\n",
       "    <tr>\n",
       "      <th>3</th>\n",
       "      <td>0.0</td>\n",
       "      <td>0.0</td>\n",
       "      <td>0.0</td>\n",
       "      <td>0.0</td>\n",
       "      <td>0.0</td>\n",
       "      <td>0.0</td>\n",
       "      <td>0.0</td>\n",
       "      <td>0.0</td>\n",
       "      <td>0.0</td>\n",
       "      <td>0.0</td>\n",
       "      <td>...</td>\n",
       "      <td>0.0</td>\n",
       "      <td>0.0</td>\n",
       "      <td>0.040170</td>\n",
       "      <td>0.0</td>\n",
       "      <td>0.0</td>\n",
       "      <td>0.0</td>\n",
       "      <td>0.0</td>\n",
       "      <td>0.0</td>\n",
       "      <td>0.0</td>\n",
       "      <td>0.0</td>\n",
       "    </tr>\n",
       "    <tr>\n",
       "      <th>4</th>\n",
       "      <td>0.0</td>\n",
       "      <td>0.0</td>\n",
       "      <td>0.0</td>\n",
       "      <td>0.0</td>\n",
       "      <td>0.0</td>\n",
       "      <td>0.0</td>\n",
       "      <td>0.0</td>\n",
       "      <td>0.0</td>\n",
       "      <td>0.0</td>\n",
       "      <td>0.0</td>\n",
       "      <td>...</td>\n",
       "      <td>0.0</td>\n",
       "      <td>0.0</td>\n",
       "      <td>0.035583</td>\n",
       "      <td>0.0</td>\n",
       "      <td>0.0</td>\n",
       "      <td>0.0</td>\n",
       "      <td>0.0</td>\n",
       "      <td>0.0</td>\n",
       "      <td>0.0</td>\n",
       "      <td>0.0</td>\n",
       "    </tr>\n",
       "  </tbody>\n",
       "</table>\n",
       "<p>5 rows × 2000 columns</p>\n",
       "</div>"
      ],
      "text/plain": [
       "   aberr  abil  abl  abnorm  absenc  absent  absolut  absorpt  abstract  \\\n",
       "0    0.0   0.0  0.0     0.0     0.0     0.0      0.0      0.0       0.0   \n",
       "1    0.0   0.0  0.0     0.0     0.0     0.0      0.0      0.0       0.0   \n",
       "2    0.0   0.0  0.0     0.0     0.0     0.0      0.0      0.0       0.0   \n",
       "3    0.0   0.0  0.0     0.0     0.0     0.0      0.0      0.0       0.0   \n",
       "4    0.0   0.0  0.0     0.0     0.0     0.0      0.0      0.0       0.0   \n",
       "\n",
       "   abund  ...    x  xray      year  yield  young  younger   yr    α    β    –  \n",
       "0    0.0  ...  0.0   0.0  0.000000    0.0    0.0      0.0  0.0  0.0  0.0  0.0  \n",
       "1    0.0  ...  0.0   0.0  0.000000    0.0    0.0      0.0  0.0  0.0  0.0  0.0  \n",
       "2    0.0  ...  0.0   0.0  0.000000    0.0    0.0      0.0  0.0  0.0  0.0  0.0  \n",
       "3    0.0  ...  0.0   0.0  0.040170    0.0    0.0      0.0  0.0  0.0  0.0  0.0  \n",
       "4    0.0  ...  0.0   0.0  0.035583    0.0    0.0      0.0  0.0  0.0  0.0  0.0  \n",
       "\n",
       "[5 rows x 2000 columns]"
      ]
     },
     "execution_count": 128,
     "metadata": {},
     "output_type": "execute_result"
    }
   ],
   "source": [
    "vec_before = TfidfVectorizer(min_df=5,tokenizer=custom_tokenizer,\n",
    "                             max_features=2000,\n",
    "                      stop_words='english')\n",
    "matrix_before = vec_before.fit_transform(texts_before)\n",
    "df_before = pd.DataFrame(matrix_before.toarray(), columns=vec_before.get_feature_names())\n",
    "df_before.head()"
   ]
  },
  {
   "cell_type": "markdown",
   "metadata": {},
   "source": [
    "For more information about the use of Kmeans in clustering: https://towardsdatascience.com/understanding-k-means-clustering-in-machine-learning-6a6e67336aa1"
   ]
  },
  {
   "cell_type": "code",
   "execution_count": 129,
   "metadata": {},
   "outputs": [
    {
     "data": {
      "text/plain": [
       "KMeans(n_clusters=10)"
      ]
     },
     "execution_count": 129,
     "metadata": {},
     "output_type": "execute_result"
    }
   ],
   "source": [
    "number_of_clusters=10\n",
    "km_before = KMeans(n_clusters=number_of_clusters)\n",
    "km_before.fit(matrix_before)"
   ]
  },
  {
   "cell_type": "markdown",
   "metadata": {},
   "source": [
    "Let's have an over view of our cluster's centers (centroids) and labels. After that, we get the top terms for every cluster. In other words, we see which are the most frequently mentioned words per cluster. Note: since we have used Stemming, we only have the root of the words now."
   ]
  },
  {
   "cell_type": "code",
   "execution_count": 130,
   "metadata": {},
   "outputs": [
    {
     "name": "stdout",
     "output_type": "stream",
     "text": [
      "[[0.         0.00096382 0.00077045 ... 0.         0.00251647 0.00489185]\n",
      " [0.         0.00508948 0.         ... 0.         0.         0.        ]\n",
      " [0.         0.0009468  0.00105044 ... 0.         0.         0.00741541]\n",
      " ...\n",
      " [0.         0.         0.         ... 0.         0.         0.        ]\n",
      " [0.         0.0025379  0.         ... 0.         0.         0.        ]\n",
      " [0.00140137 0.002731   0.00418409 ... 0.00129082 0.00185638 0.00115546]]\n",
      "[7 4 5 ... 4 4 8]\n"
     ]
    }
   ],
   "source": [
    "centroids_before, labels_before = km_before.cluster_centers_, km_before.labels_\n",
    "print(centroids_before)\n",
    "print(labels_before)"
   ]
  },
  {
   "cell_type": "code",
   "execution_count": 131,
   "metadata": {},
   "outputs": [
    {
     "name": "stdout",
     "output_type": "stream",
     "text": [
      "Top terms per cluster:\n",
      "Cluster 0: p asthma patient exacerb day group level subject acut infant symptom viral infect cold score serum correl control sever sputum\n",
      "Cluster 1: hrv hrvc children infect respiratori human detect asthma hrva associ ill strain speci exacerb virus caus p rhinovirus identifi patient\n",
      "Cluster 2: detect respiratori infect children virus viru viral patient exacerb rhinoviru asthma sampl hbov pneumonia influenza pathogen adenoviru tract clinic ill\n",
      "Cluster 3: rsv bronchiol infant children respiratori infect wheez develop caus viru hospit asthma viral syncyti rhinoviru age year vaccin sever common\n",
      "Cluster 4: asthma patient diseas health use treatment studi effect respiratori clinic cough chronic children review pulmonari manag includ condit acut risk\n",
      "Cluster 5: airway diseas lung inflammatori pulmonari activ cell protein function asthma role chronic express inflamm gene respons regul mechan remodel signal\n",
      "Cluster 6: exacerb asthma infect viral respiratori virus review diseas develop role respons associ caus factor airway mechan current viru trigger discuss\n",
      "Cluster 7: children hospit patient pneumonia influenza hmpv year respiratori asthma infect admiss age sever adult group ci diseas vaccin case p\n",
      "Cluster 8: wheez children risk asthma recurr episod age year factor earli associ sensit ill respiratori infect viral ci rv p childhood\n",
      "Cluster 9: cell infect respons airway immun express inflamm mice epitheli eosinophil human viral increas respiratori activ cytokin rv exacerb allerg asthma\n"
     ]
    }
   ],
   "source": [
    "print(\"Top terms per cluster:\")\n",
    "order_centroids_before = km_before.cluster_centers_.argsort()[:, ::-1]\n",
    "terms = vec_before.get_feature_names()\n",
    "for i in range(number_of_clusters):\n",
    "    top_ten_words = [terms[ind] for ind in order_centroids_before[i, :20]]\n",
    "    print(\"Cluster {}: {}\".format(i, ' '.join(top_ten_words)))"
   ]
  },
  {
   "cell_type": "code",
   "execution_count": 132,
   "metadata": {},
   "outputs": [
    {
     "data": {
      "text/plain": [
       "array([[1292,  145, 1319, ..., 1021, 1020,    0],\n",
       "       [ 837,  840,  284, ..., 1147, 1148,    0],\n",
       "       [ 490, 1578,  919, ...,  747,  746,    0],\n",
       "       ...,\n",
       "       [ 284,  831, 1319, ...,  946,  945,    0],\n",
       "       [1972,  284, 1599, ..., 1121, 1123,    0],\n",
       "       [ 262,  919, 1580, ..., 1550,  491, 1057]], dtype=int64)"
      ]
     },
     "execution_count": 132,
     "metadata": {},
     "output_type": "execute_result"
    }
   ],
   "source": [
    "order_centroids_before\n",
    "#word with index 1049 has highest Tfidf value in the first array"
   ]
  },
  {
   "cell_type": "markdown",
   "metadata": {},
   "source": [
    "For more information about PCA and its implementation in Python:\n",
    "https://jakevdp.github.io/PythonDataScienceHandbook/05.09-principal-component-analysis.html"
   ]
  },
  {
   "cell_type": "code",
   "execution_count": 133,
   "metadata": {},
   "outputs": [],
   "source": [
    "T = preprocessing.Normalizer().fit_transform(df_before)\n",
    "# Dimesionality reduction to 2\n",
    "pca_model = PCA(n_components=2, random_state = 2)\n",
    "pca_model.fit(T) \n",
    "T = pca_model.transform(T) \n",
    "\n",
    "# transform the 'centroids of KMeans'\n",
    "\n",
    "centroid_pca = pca_model.transform(centroids_before)\n"
   ]
  },
  {
   "cell_type": "code",
   "execution_count": 134,
   "metadata": {},
   "outputs": [],
   "source": [
    "asthma_before_covid['labels'] = km_before.labels_\n",
    "asthma_before_covid['pca_1'] = T[:, 0]\n",
    "asthma_before_covid['pca_2'] = T[:, 1]"
   ]
  },
  {
   "cell_type": "code",
   "execution_count": 135,
   "metadata": {},
   "outputs": [],
   "source": [
    "asthma_before_covid['labels'] = asthma_before_covid['labels'].astype(str)"
   ]
  },
  {
   "cell_type": "code",
   "execution_count": 136,
   "metadata": {},
   "outputs": [],
   "source": [
    "fig = px.scatter(asthma_before_covid, \n",
    "                 x=\"pca_1\", \n",
    "                 y=\"pca_2\", \n",
    "                 color=\"labels\",\n",
    "                 hover_data=['title'])"
   ]
  },
  {
   "cell_type": "code",
   "execution_count": 137,
   "metadata": {},
   "outputs": [
    {
     "data": {
      "application/vnd.plotly.v1+json": {
       "config": {
        "plotlyServerURL": "https://plot.ly"
       },
       "data": [
        {
         "customdata": [
          [
           "Relevance of human metapneumovirus in exacerbations of COPD"
          ],
          [
           "Long-term respiratory follow-up of H1N1 infection"
          ],
          [
           "Severe influenza cases in paediatric intensive care units in Germany during the pre-pandemic seasons 2005 to 2008"
          ],
          [
           "Clinical characteristics of pediatric hospitalizations associated with 2009 pandemic influenza A (H1N1) in Northern Bavaria, Germany"
          ],
          [
           "Asthma in patients hospitalized with pandemic influenza A(H1N1)pdm09 virus infection–United States, 2009"
          ],
          [
           "Pneumonia among adults hospitalized with laboratory-confirmed seasonal influenza virus infection—United States, 2005–2008"
          ],
          [
           "Human metapneumovirus in Pediatric Patients with Acute Respiratory Tract Infections in the Aseer Region of Saudi Arabia"
          ],
          [
           "Influenza virus-related critical illness: prevention, diagnosis, treatment"
          ],
          [
           "Epidemiology of asthma in India"
          ],
          [
           "The Incidence of Respiratory Tract Infection in Adults Requiring Hospitalization for Asthma"
          ],
          [
           "Corticosteroid treatment in critically ill patients with severe influenza pneumonia: a propensity score matching study"
          ],
          [
           "Rhinovirus-Associated Hospitalizations in Young Children"
          ],
          [
           "Clinical features of Chlamydia pneumoniae acute respiratory infection"
          ],
          [
           "CHILDHOOD ASTHMA IN BRISBANE: EPIDEMIOLOGICAL OBSERVATIONS"
          ],
          [
           "Asthma Exacerbations and Risk of Emergency Department Management Failure: Burden and Impact of Various Respiratory Pathogens in a Pediatric Population"
          ],
          [
           "Human Coronavirus (HCoV) Infection Among Adults in Cleveland, Ohio: An Increasingly Recognized Respiratory Pathogen"
          ],
          [
           "Respiratory Disorders"
          ],
          [
           "Severe Asthma"
          ],
          [
           "Smoke-free legislation reduces hospital admissions for childhood lower respiratory tract infection."
          ],
          [
           "Efficacy and safety of influenza vaccination in children with asthma."
          ],
          [
           "Burden of human metapneumovirus infection in young children."
          ],
          [
           "Trends in childhood asthma hospitalisation in three Asia Pacific countries."
          ],
          [
           "Seasonal and geographic variations in the incidence of asthma exacerbations in the United States."
          ],
          [
           "Randomized phase 2 trial of monthly vitamin D to prevent respiratory complications in children with sickle cell disease."
          ],
          [
           "Comparison of Mycoplasma pneumoniae Infections in asthmatic children versus asthmatic adults."
          ],
          [
           "Resource burden at children's hospitals experiencing surge volumes during the spring 2009 H1N1 influenza pandemic."
          ],
          [
           "Cross-neutralization of four paramyxoviruses by a human monoclonal antibody."
          ],
          [
           "Non-invasive ventilation use in status asthmaticus: 16 years of experience in a tertiary intensive care."
          ],
          [
           "Boston children's hospital community asthma initiative: Five-year cost analyses of a home visiting program."
          ],
          [
           "Association of Respiratory Picornaviruses With High Acuity and Severe Illness in a Pediatric Health Care System."
          ],
          [
           "Surveillance for the identification of cases of acute respiratory infection by enterovirus D68 in children in a tertiary level care hospital during 2014-2016."
          ],
          [
           "Respiratory Viruses and Treatment Failure in Children With Asthma Exacerbation."
          ],
          [
           "Short-term effects of ambient PM1 and PM2.5 air pollution on hospital admission for respiratory diseases: Case-crossover evidence from Shenzhen, China."
          ],
          [
           "Long-term outcomes of laparoscopic sleeve gastrectomy: a Lebanese center experience."
          ],
          [
           "Effects of air pollution on asthma hospitalization rates in different age groups in Hong Kong."
          ],
          [
           "Human metapneumovirus: a ubiquitous and long-standing respiratory pathogen."
          ],
          [
           "Study of modifiable risk factors for asthma exacerbations: virus infection and allergen exposure increase the risk of asthma hospital admissions in children."
          ],
          [
           "Prevalence of human Metapneumovirus (hMPV) in children with wheezing in Shiraz-Iran."
          ],
          [
           "Prevalence, clinical presentations and complications among hospitalized children with influenza pneumonia."
          ],
          [
           "[Detection and clinical analysis of acute lower respiratory tract infection with human coronaviruses in children in Beijing area 2007-2015]."
          ],
          [
           "Outbreak of pandemic influenza A (H1N1-2009) in Singapore, May to September 2009."
          ],
          [
           "Antibodies to Coronavirus OC 43 strain in the population of North-Eastern Hungary."
          ],
          [
           "Epidemiology of respiratory infections in young children: insights from the new vaccine surveillance network."
          ],
          [
           "Influenza vaccination in patients with asthma: effect on the frequency of upper respiratory tract infections and exacerbations."
          ],
          [
           "Clinical features, treatments and outcomes of influenza A (H1N1) 2009 among the hospitalized patients in the clinic for infectious diseases in Novi Sad."
          ],
          [
           "Human metapneumovirus infection in young children hospitalized with respiratory tract disease."
          ],
          [
           "Asthma fatalities at the Emergency Department of the Singapore General Hospital."
          ],
          [
           "Respiratory viral infections in adults."
          ],
          [
           "Epidemiology of human metapneumovirus."
          ],
          [
           "Pneumonia in pregnancy."
          ],
          [
           "Impact of respiratory virus infections on persons with chronic underlying conditions."
          ],
          [
           "Influenza vaccine in patients with asthma."
          ],
          [
           "Self-reported asthma prevalence and control among adults--United States, 2001."
          ],
          [
           "Respiratory viral threats."
          ],
          [
           "ALTERED THEOPHYLLINE PHARMACOKINETICS DURING ACUTE RESPIRATORY VIRAL ILLNESS"
          ],
          [
           "2009 H1N1 Influenza: A Twenty-First Century Pandemic With Roots in the Early Twentieth Century"
          ],
          [
           "Human Coronavirus NL63 Infection and Other Coronavirus Infections in Children Hospitalized with Acute Respiratory Disease in Hong Kong, China"
          ],
          [
           "Etiology and Impact of Coinfections in Children Hospitalized With Community-Acquired Pneumonia"
          ],
          [
           "Association between continuity of care and emergency department visits and hospitalization in senior adults with asthma-COPD overlap"
          ],
          [
           "The atypical pneumonias: clinical diagnosis and importance"
          ],
          [
           "Severe respiratory illness associated with a nationwide outbreak of enterovirus D68 in the USA (2014): a descriptive epidemiological investigation"
          ],
          [
           "Radiographic follow‐up of pneumonia in children"
          ],
          [
           "Spectrum of Clinical Illness in Hospitalized Patients with “Common Cold” Virus Infections"
          ],
          [
           "Clinical characteristics of influenza virus-induced lower respiratory infection during the 2015 to 2016 season"
          ],
          [
           "Fluctuation analysis-based risk assessment for respiratory virus activity and air pollution associated asthma incidence"
          ],
          [
           "Epidemiological, clinical and genotypic features of human Metapneumovirus in patients with influenza-like illness in Senegal, 2012 to 2016"
          ],
          [
           "Acute Asthma in the Pediatric Emergency Department: Infections Are the Main Triggers of Exacerbations"
          ],
          [
           "Use of early corticosteroid therapy on ICU admission in patients affected by severe pandemic (H1N1)v influenza A infection"
          ],
          [
           "Rapid clinical diagnosis in fatal swine influenza (H1N1) pneumonia in an adult with negative rapid influenza diagnostic tests (RIDTs): Diagnostic swine influenza triad"
          ],
          [
           "The Relationship of Rhinovirus-Associated Asthma Hospitalizations with Inhaled Corticosteroids and Smoking"
          ],
          [
           "Childhood severe acute respiratory syndrome, coronavirus infections and asthma"
          ],
          [
           "Patients hospitalized with an infective exacerbation of bronchiectasis unrelated to cystic fibrosis: Clinical, physiological and sputum characteristics"
          ],
          [
           "Perspective on the host response to human metapneumovirus infection: what can we learn from respiratory syncytial virus infections?"
          ],
          [
           "Differences between asthmatics and nonasthmatics hospitalised with influenza A infection"
          ],
          [
           "Decreased interleukin-18 response in asthmatic children with severe Mycoplasma pneumoniae pneumonia"
          ],
          [
           "Virome and bacteriome characterization of children with pneumonia and asthma in Mexico City during winter seasons 2014 and 2015"
          ],
          [
           "Clinical manifestations in infants and children with Mycoplasma pneumoniae infection"
          ],
          [
           "The Burden of Community-Acquired Pneumonia in Seniors: Results of a Population-Based Study"
          ],
          [
           "The emergence of enterovirus D68 in a Dutch University Medical Center and the necessity for routinely screening for respiratory viruses"
          ],
          [
           "Lung ultrasound as a diagnostic tool for radiographically-confirmed pneumonia in low resource settings"
          ],
          [
           "Understanding the September asthma epidemic"
          ],
          [
           "Can an evidence-based guideline reminder card improve asthma management in the emergency department?"
          ],
          [
           "Human Metapneumovirus: An Emerging Respiratory Pathogen"
          ],
          [
           "Respiratory Presentation of Pediatric Patients in the 2014 Enterovirus D68 Outbreak"
          ],
          [
           "Mycoplasma pneumoniae Infection Affects the Serum Levels of Vascular Endothelial Growth Factor and Interleukin-5 in Atopic Children"
          ],
          [
           "The September epidemic of asthma exacerbations in children: A search for etiology"
          ],
          [
           "Treatment of Community-Acquired Lower Respiratory Tract Infections during Pregnancy"
          ],
          [
           "Does atopy affect the course of viral pneumonia?"
          ],
          [
           "Risk Factors for Repeat Adverse Asthma Events in Children After Visiting an Emergency Department"
          ],
          [
           "Treatment, outcomes and costs of asthma exacerbations in Chilean children: a prospective multicenter observational study"
          ],
          [
           "Enterovirus D68 respiratory infection in a children's hospital in Japan in 2015"
          ],
          [
           "Common Pediatric Respiratory Emergencies"
          ],
          [
           "Human metapneumovirus: An important cause of respiratory disease in children and adults"
          ],
          [
           "Recombinant expression and immunological characterisation of proteins derived from human metapneumovirus"
          ],
          [
           "Risk factors for a poor outcome among children admitted with clinically severe pneumonia to a university hospital in Rabat, Morocco"
          ],
          [
           "Population-Based Incidence of Human Metapneumovirus in Hospitalized Children"
          ],
          [
           "Influenza A(H1N1)pdm09-related pneumonia and other complications"
          ],
          [
           "Association of Mycoplasma pneumoniae and asthma among Indian children"
          ],
          [
           "Conventional Influenza Vaccination Is Not Associated with Complications in Working-Age Patients with Asthma or Chronic Obstructive Pulmonary Disease"
          ],
          [
           "Viral etiology of acute lower respiratory tract infections in hospitalized young children in Northern Taiwan"
          ],
          [
           "Influenza A(H1N1)pdm09 and Cystic Fibrosis Lung Disease: A Systematic Meta-Analysis"
          ],
          [
           "Enterovirus D68 in Hospitalized Children: Sequence Variation, Viral Loads and Clinical Outcomes"
          ],
          [
           "Severe Pertussis Infections in the United States, 2011–2015"
          ]
         ],
         "hovertemplate": "labels=7<br>pca_1=%{x}<br>pca_2=%{y}<br>title=%{customdata[0]}<extra></extra>",
         "legendgroup": "7",
         "marker": {
          "color": "#636efa",
          "symbol": "circle"
         },
         "mode": "markers",
         "name": "7",
         "showlegend": true,
         "type": "scattergl",
         "x": [
          0.0882366813596271,
          0.05567252181568397,
          0.09936535639725129,
          0.1655882268679125,
          0.1192174239010104,
          0.07077792969992601,
          0.19858160028398836,
          0.12148721272344434,
          0.08753309367421701,
          0.1528630660916461,
          0.007916490287235432,
          0.2831925064702416,
          0.02252332776270665,
          0.0577069966551799,
          0.16453491845787677,
          0.13238882381910788,
          0.040004813598516244,
          0.0424912500383186,
          0.06400908992241588,
          0.0609109413402736,
          0.22714012546580448,
          0.035741526651125635,
          0.07377209633064218,
          0.024511775980283947,
          0.21844587735940088,
          0.02251792607449777,
          -0.00824260555012896,
          0.005313287082298175,
          0.03557581256596712,
          0.07720952985955776,
          0.07408098251165196,
          0.14010413920175155,
          0.03405928871635705,
          0.016538354656149404,
          0.006672259985769643,
          0.10143818785269895,
          0.17808137071288993,
          0.23532220006269233,
          0.3607171912776388,
          0.1404384115981054,
          0.11587353716698404,
          0.05602952971086536,
          0.2586046903365663,
          0.13926856450228897,
          0.0419701568704052,
          0.2031210627870357,
          -0.02427279929067543,
          0.06864339049371786,
          0.07422569921447231,
          0.012203658739993916,
          0.2020679251627051,
          0.00796341153817838,
          -0.019924054034991055,
          0.049051021175341075,
          0.04419077168476919,
          0.021503923431609336,
          0.2121957766380134,
          0.18739414471492769,
          0.0010098576111978322,
          -0.033090605008760945,
          0.07619384365886284,
          0.07706282248690098,
          0.28346371003700777,
          0.12688531484784382,
          0.016655146455107798,
          0.14481738038253025,
          0.17516049635264377,
          0.0371706315160685,
          0.04769469972563174,
          0.19851972295544226,
          0.06088732710744435,
          0.04054910963971639,
          0.10552642127829343,
          0.05443848209715037,
          0.09679013011040108,
          0.19021588488028432,
          0.16979195889135817,
          0.05922242459962569,
          0.12636080389227555,
          0.08438231459394839,
          0.033721257502190474,
          -0.004942487274210105,
          0.056486243066191356,
          0.22395501728280678,
          0.024589167281189945,
          0.15472707685764023,
          0.07282099497146641,
          0.22505737779406265,
          0.05425436418751878,
          0.05587137558089414,
          0.2707572669347643,
          0.04698065447272301,
          0.11564864768002266,
          -0.05470541822036728,
          0.1124736590410399,
          0.2499636916144331,
          0.08076415528450186,
          0.1204879871469759,
          0.02448131807473556,
          0.3096697630834904,
          -0.023180562963162243,
          0.1939107676981077,
          0.10142489090947152
         ],
         "xaxis": "x",
         "y": [
          -0.06400037070906253,
          -0.1421022327438131,
          -0.18071523514665622,
          -0.19920524818185611,
          -0.24078051772091374,
          -0.20256865562647505,
          -0.0611731553254756,
          -0.10351201985461182,
          -0.14811205022127774,
          -0.13869104625448322,
          -0.2274476489672681,
          -0.19459759367385218,
          -0.011228899551245692,
          -0.004184831818427621,
          -0.04733790199316611,
          -0.019281514141161506,
          -0.15928991837093334,
          -0.14181643134592745,
          -0.17653649463544108,
          -0.06277623109118506,
          -0.1261250231060524,
          -0.15200650315643202,
          -0.08603708062456407,
          -0.07667083867846042,
          -0.02760810427039704,
          -0.2240002974297715,
          0.016214747212666535,
          -0.25500398797673635,
          -0.2626989665204347,
          -0.149153100293432,
          -0.07453064158190703,
          -0.0509323412814989,
          -0.12850046239430224,
          -0.2282849235909679,
          -0.18154990979954153,
          0.09045103808288787,
          -0.09950965232546427,
          -0.05868636292439175,
          -0.05498113472954912,
          -0.12627122316953296,
          -0.13700158250538183,
          -0.12334394197104002,
          -0.1159358318539502,
          -0.07613402535289655,
          -0.24106805824628524,
          -0.023854835148021704,
          -0.14058969038988461,
          -0.0022411991920771295,
          0.06151280091418895,
          -0.10370529888275466,
          -0.03324116396118344,
          -0.06976569605296272,
          -0.13874535048257544,
          0.08637210330492058,
          -0.06231871960028091,
          -0.12210571182779141,
          -0.051556748232824086,
          -0.07840445893880603,
          -0.2401572750250931,
          -0.07413196973064648,
          -0.1310572266154619,
          -0.10192956294078992,
          0.042514505145098386,
          -0.14736614854460708,
          -0.07153112405232648,
          -0.08303259776631869,
          -0.1018879898869266,
          -0.26778440337904336,
          -0.18090640954234827,
          -0.10554544793546058,
          -0.006709513321550911,
          -0.05578499898227873,
          0.1467072009671971,
          -0.21131947220747455,
          -0.18332560256150765,
          -0.043947951349653756,
          -0.13289635047242254,
          -0.1834887657314193,
          -0.0880308132900171,
          -0.15458868521753083,
          -0.0900930373422818,
          -0.22236920274627103,
          -0.036594017056192335,
          -0.20488621406605065,
          -0.11228921791202964,
          -0.13562815550678992,
          -0.09723957394872333,
          -0.13857731909774515,
          -0.2040285173748123,
          -0.2607265112221659,
          -0.19872192168577713,
          -0.07173370327019836,
          0.018957099258977476,
          -0.07117676963656451,
          -0.1997609065856196,
          -0.17547263367134114,
          -0.012511094487468065,
          -0.08576688472445665,
          -0.20227106213448767,
          -0.04600552455375154,
          -0.13876933482588152,
          -0.1412675329063459,
          -0.15057479556397182
         ],
         "yaxis": "y"
        },
        {
         "customdata": [
          [
           "Surfactant therapy for acute respiratory failure in children: a systematic review and meta-analysis"
          ],
          [
           "Clinical use of exhaled volatile organic compounds in pulmonary diseases: a systematic review"
          ],
          [
           "The role of helium gas in medicine"
          ],
          [
           "Asthma in the elderly: what we know and what we have yet to know"
          ],
          [
           "3D Structure Prediction of Human β1-Adrenergic Receptor via Threading-Based Homology Modeling for Implications in Structure-Based Drug Designing"
          ],
          [
           "A functional IFN-λ4-generating DNA polymorphism could protect older asthmatic women from aeroallergen sensitization and associate with clinical features of asthma"
          ],
          [
           "Oral edible plant vaccine containing hypoallergen of American cockroach major allergen Per a 2 prevents roach-allergic asthma in a murine model"
          ],
          [
           "Clinical Scenarios of the Application of Electrical Impedance Tomography in Paediatric Intensive Care"
          ],
          [
           "Development of a Rhinovirus Inoculum Using a Reverse Genetics Approach"
          ],
          [
           "Special Features of Asthma in Children"
          ],
          [
           "Acquired neuromuscular disorders in critically ill patients: a systematic review"
          ],
          [
           "Infant lung function testing in the intensive care unit"
          ],
          [
           "Untersuchungen über die bronchokonstriktorische Wirkung des β-Rezeptorblockers Propranolol bei Meerschweinchen und Patienten mit Asthma bronchiale"
          ],
          [
           "The Use of Antiallergic and Antiasthmatic Drugs in Viral Infections of the Upper Respiratory Tract"
          ],
          [
           "An Approach to the Management of High Risk Asthmatic Patients"
          ],
          [
           "Nichtinvasive Beatmung bei Kindern mit akuter respiratorischer Insuffizienz"
          ],
          [
           "Nucleic Acid-Based Therapeutics for Pulmonary Diseases"
          ],
          [
           "Approach to neuromuscular disorders in the intensive care unit"
          ],
          [
           "Eosinophilia-myalgia syndrome induced by excessive L-tryptophan intake from cashew nuts"
          ],
          [
           "Acute upper airway infections: Childhood respiratory infections"
          ],
          [
           "Aetiology of asthma: how public health and molecular medicine work together"
          ],
          [
           "Problems and prospects of developing effective therapy for common cold viruses"
          ],
          [
           "Mechanopharmacology and Synergistic Relaxation of Airway Smooth Muscle"
          ],
          [
           "Respiratory inflammation and infections in high‐performance athletes"
          ],
          [
           "Mold contamination in schools with either high or low prevelance of asthma"
          ],
          [
           "Microsensor Arrays for Saliva Diagnostics"
          ],
          [
           "Assessing allergenic fungi in house dust by floor wipe sampling and quantitative PCR"
          ],
          [
           "Targeted therapy in chronic diseases using nanomaterial-based drug delivery vehicles"
          ],
          [
           "Obesity Trends among Asthma Patients in the United States: A Population-based Study"
          ],
          [
           "XXIV World Allergy Congress 2015: Seoul, Korea. 14-17 October 2015"
          ],
          [
           "Viral Disease, Air Pollutants, Nanoparticles, and Asthma"
          ],
          [
           "The Pediatric Asthmatic"
          ],
          [
           "Asthma"
          ],
          [
           "Gold salts, D-penicillamine and allopurinol"
          ],
          [
           "1.2 The Health System"
          ],
          [
           "Preparation Without Panic: A Comprehensive Social Marketing Approach to Planning for a Potential Pandemic"
          ],
          [
           "Air Purification Technology by Means of Cluster Ions Generated by Plasma Discharge at Atmospheric Pressure"
          ],
          [
           "Early Interventions in Allergic Diseases"
          ],
          [
           "Viruses Present Indoors and Analyses Approaches"
          ],
          [
           "Epidemiology of Respiratory Allergies and Asthma"
          ],
          [
           "Viral Upper Respiratory Tract Infections"
          ],
          [
           "Pulmonary Complications of Obstetric and Gynecologic Conditions"
          ],
          [
           "The Clinical Definitions of Asthma"
          ],
          [
           "Primary Immunodeficiencies"
          ],
          [
           "Eosinophilic Pneumonia"
          ],
          [
           "Return to Play in Asthma and Pulmonary Conditions"
          ],
          [
           "Asthma and COPD"
          ],
          [
           "Exam 4 Questions"
          ],
          [
           "Microbial Agents in the Indoor Environment: Associations with Health"
          ],
          [
           "Respiratory Emergencies"
          ],
          [
           "Pulmonology"
          ],
          [
           "Cough"
          ],
          [
           "Differential Diagnosis of Asthma"
          ],
          [
           "Exam 3 Questions"
          ],
          [
           "Rhinitis and Sinusitis"
          ],
          [
           "PEDIATRIC ALLERGY: Can It Be Prevented?"
          ],
          [
           "Asthma comes in from the cold"
          ],
          [
           "Sick Building Syndrome and Other Building-Related Illnesses"
          ],
          [
           "Executive summary"
          ],
          [
           "Decrease in Fine T‐cell Subset ratio MT2/MT1 During Steroid Reduction of Asthmatic Patients"
          ],
          [
           "EARS"
          ],
          [
           "Inhaled corticosteroids in COPD: friend or foe?"
          ],
          [
           "Work participation among the morbidly obese seeking bariatric surgery: an exploratory study from Norway."
          ],
          [
           "Morbidity and mortality in homeless individuals, prisoners, sex workers, and individuals with substance use disorders in high-income countries: a systematic review and meta-analysis."
          ],
          [
           "Laparoscopic liver resection assisted by the laparoscopic Habib Sealer."
          ],
          [
           "A case of severe acute exacerbation of Yokkaichi asthma treated with a vibrating mesh nebulizer."
          ],
          [
           "Readability and comprehensibility of over-the-counter medication labels."
          ],
          [
           "Bariatric surgery: risks and rewards."
          ],
          [
           "Wheezing as a sign of cor triatriatum sinister culminating in multiple organ failure."
          ],
          [
           "Cough and upper airway disorders in elite athletes: a critical review."
          ],
          [
           "Do replicable profiles of multimorbidity exist? Systematic review and synthesis."
          ],
          [
           "Community Asthma Initiative: Cost Analyses using Claims Data from a Medicaid Managed Care Organization."
          ],
          [
           "Swyer-James syndrome associated with asthma and a giant bulla."
          ],
          [
           "Investigating the effectiveness of school health services delivered by a health provider: A systematic review of systematic reviews."
          ],
          [
           "Five-year survival following radiofrequency ablation of small, solitary, hepatic colorectal metastases."
          ],
          [
           "Inadequate assessment of adherence to maintenance medication leads to loss of power and increased costs in trials of severe asthma therapy: results from a systematic literature review and modelling study."
          ],
          [
           "Oral steroid sparing effect of high dose inhaled corticosteroids in asthma."
          ],
          [
           "The effect of inhaled IFN-β on worsening of asthma symptoms caused by viral infections. A randomized trial."
          ],
          [
           "How are behavioural interventions delivered to children (5-11 years old): a systematic mapping review."
          ],
          [
           "The genus Stephania (Menispermaceae): chemical and pharmacological perspectives."
          ],
          [
           "A systematic evidence synthesis of interventions to engage children and young people in consultations about their long-term conditions."
          ],
          [
           "Chemoattractant receptor-homologous molecule expressed on Th2 cells (CRTH2) antagonists in asthma: a systematic review and meta-analysis protocol."
          ],
          [
           "Effects of Macrolide Treatment during the Hospitalization of Children with Childhood Wheezing Disease: A Systematic Review and Meta-Analysis."
          ],
          [
           "Management of common cold symptoms with over-the-counter medications: clearing the confusion."
          ],
          [
           "Systematic review of clinical prediction models to support the diagnosis of asthma in primary care."
          ],
          [
           "Asthma, allergy and the Olympics: a 12-year survey in elite athletes."
          ],
          [
           "Advances in interventional pulmonology."
          ],
          [
           "Respiratory care year in review 2012: Asthma and sleep-disordered breathing."
          ],
          [
           "Noninvasive mechanical ventilation."
          ],
          [
           "Pediatric cough: what the otolaryngologist needs to know."
          ],
          [
           "Pediatric chronic rhinosinusitis."
          ],
          [
           "Comparison of comorbidity resolution and improvement between laparoscopic sleeve gastrectomy and laparoscopic adjustable gastric banding."
          ],
          [
           "Long-acting muscarinic antagonists (LAMA) added to inhaled corticosteroids (ICS) versus the same dose of ICS alone for adults with asthma."
          ],
          [
           "Non-smoking-related chronic obstructive pulmonary disease: a neglected entity?"
          ],
          [
           "Management of severe acute asthma in the emergency department."
          ],
          [
           "The Canadian Healthy Infant Longitudinal Development (CHILD) Study: examining developmental origins of allergy and asthma."
          ],
          [
           "Model-Based Estimation of Respiratory Parameters from Capnography, With Application to Diagnosing Obstructive Lung Disease."
          ],
          [
           "Noninvasive positive pressure ventilation in the acute care setting: where are we?"
          ],
          [
           "Development of a bronchospasm device model."
          ],
          [
           "Ethnic variations in morbidity and mortality from lower respiratory tract infections: a retrospective cohort study."
          ],
          [
           "Validated methods to identify patients with asthma-COPD overlap in healthcare databases: a systematic review protocol."
          ],
          [
           "Paediatrics in Barcelona."
          ],
          [
           "Effect of beta2-adrenergic receptor polymorphism on response to longacting beta2 agonist in asthma (LARGE trial): a genotype-stratified, randomised, placebo-controlled, crossover trial."
          ],
          [
           "Pulmonary drug delivery system: newer patents."
          ],
          [
           "Incident user cohort study of risk for gastrointestinal bleed and stroke in individuals with major depressive disorder treated with antidepressants."
          ],
          [
           "Early Administration of Azithromycin and Prevention of Severe Lower Respiratory Tract Illnesses in Preschool Children With a History of Such Illnesses: A Randomized Clinical Trial."
          ],
          [
           "Behind a mask: tricks, pitfalls, and prejudices for noninvasive ventilation."
          ],
          [
           "The clinical management of lower respiratory tract infections."
          ],
          [
           "Clinical prediction models to support the diagnosis of asthma in primary care: a systematic review protocol."
          ],
          [
           "Asthma in pregnancy: a hit for two."
          ],
          [
           "Respiratory care year in review 2010: part 1. asthma, COPD, pulmonary function testing, ventilator-associated pneumonia."
          ],
          [
           "Long-acting muscarinic antagonists (LAMA) added to inhaled corticosteroids (ICS) versus higher dose ICS for adults with asthma."
          ],
          [
           "Translational models of lung disease."
          ],
          [
           "Lessons learned from variation in response to therapy in clinical trials."
          ],
          [
           "Evaluation of the Environmental Scoring System in Multiple Child Asthma Intervention Programs in Boston, Massachusetts."
          ],
          [
           "Long-acting muscarinic antagonists (LAMA) added to inhaled corticosteroids (ICS) versus addition of long-acting beta2-agonists (LABA) for adults with asthma."
          ],
          [
           "Pharmacological aspects and potential new clinical applications of ketamine: reevaluation of an old drug."
          ],
          [
           "Adverse reactions associated with respirator fit testing of healthcare workers in British Columbia, Canada: a review of compensation claim cases."
          ],
          [
           "Parent experiences with a nurse-supervised community health worker asthma home-visiting program."
          ],
          [
           "Does maintenance azithromycin reduce asthma exacerbations? An individual participant data meta-analysis."
          ],
          [
           "The use of neuromuscular blocking agents in the ICU: where are we now?"
          ],
          [
           "Assessment of Bohr and Enghoff Dead Space Equations in Mechanically Ventilated Children."
          ],
          [
           "High-flow oxygen therapy and other inhaled therapies in intensive care units."
          ],
          [
           "Investigating the effectiveness of school health services delivered by a health provider: a systematic review of systematic reviews"
          ],
          [
           "Self-reported asthma among high school students--United States, 2003."
          ],
          [
           "Negative attitude of highly educated parents and health care workers towards future vaccinations in the Dutch childhood vaccination program."
          ],
          [
           "Trends in specific morbidity prevalence in male adolescents in Israel over a 50 year period and the impact of recent immigration."
          ],
          [
           "Respiratory disease in pregnancy."
          ],
          [
           "Impact of the Singapore National Asthma Program (SNAP) on preventor-reliever prescription ratio in polyclinics."
          ],
          [
           "Air conditioning systems as non-infectious health hazards inducing acute respiratory symptoms."
          ],
          [
           "Rhinovirus and coronavirus infections."
          ],
          [
           "Respiratory consequences of rhinovirus infection."
          ],
          [
           "Health effects of subchronic exposure to environmental levels of hardwood smoke."
          ],
          [
           "Therapeutic potential of Toll-like receptor 9 activation."
          ],
          [
           "Noninvasive ventilation in acute respiratory failure."
          ],
          [
           "The management of acute bronchitis in children."
          ],
          [
           "Indoor air quality in hospitality venues before and after implementation of a clean indoor air law--Western New York, 2003."
          ],
          [
           "Meeting highlights of the European Respiratory Society annual congress 02-06 September 2006, Munich, Germany."
          ],
          [
           "Uncomplicated acute bronchitis."
          ],
          [
           "Predictors of failure of the laparoscopic approach for the management of small bowel obstruction."
          ],
          [
           "Asthma prevalence and control characteristics by race/ethnicity--United States, 2002."
          ],
          [
           "Dry powder inhalers for pulmonary drug delivery."
          ],
          [
           "Biology and Diseases of Guinea Pigs"
          ],
          [
           "Lower respiratory tract infections in cats Reaching beyond empirical therapy"
          ],
          [
           "Bronchiolitis obliterans syndrome after allogeneic hematopoietic SCT: phenotypes and prognosis"
          ],
          [
           "Steroid responsiveness and wheezing phenotypes"
          ],
          [
           "Atopie et infections"
          ],
          [
           "Infectious Chronic Rhinosinusitis"
          ],
          [
           "Chronic Cough Related to Acute Viral Bronchiolitis in Children CHEST Expert Panel Report"
          ],
          [
           "Chapter 28 Asthma"
          ],
          [
           "Therapeutic Applications of Monoclonal Antibodies"
          ],
          [
           "Pediatric Asthma Mortality and Hospitalization Trends Across Asia Pacific Relationship With Asthma Drug Utilization Patterns"
          ],
          [
           "Rhinosinusitis: Establishing definitions for clinical research and patient care"
          ],
          [
           "Advances in antivirals for non‐influenza respiratory virus infections"
          ],
          [
           "Respiratory disease in pregnancy"
          ],
          [
           "Redecoration of apartments promotes obstructive bronchitis in atopy risk infants – Results of the LARS study"
          ],
          [
           "Environment and Health in Children Day Care Centres (ENVIRH) – Study rationale and protocol()"
          ],
          [
           "Inhalant Allergies in Children"
          ],
          [
           "Determinants Of Oral corticosteroid Responsiveness in Wheezing Asthmatic Youth (DOORWAY): protocol for a prospective multicentre cohort study of children with acute moderate-to-severe asthma exacerbations"
          ],
          [
           "Identifying Asthma Triggers"
          ],
          [
           "Respiratory disease in pregnancy"
          ],
          [
           "Healthcare workers and H1N1 vaccination: Does having a chronic disease make a difference?"
          ],
          [
           "Pediatric pulmonology year in review 2016: Part 2"
          ],
          [
           "Asthma in the elderly: Current understanding and future research needs—a report of a National Institute on Aging (NIA) workshop"
          ],
          [
           "Influenza vaccination in patients with asthma: effect on peak expiratory flow, asthma symptoms and use of medication"
          ],
          [
           "Épidémiologie de l'asthme grave"
          ],
          [
           "Common Respiratory Diseases"
          ],
          [
           "A host gene expression approach for identifying triggers of asthma exacerbations"
          ],
          [
           "Control of asthma triggers in indoor air with air cleaners: a modeling analysis"
          ],
          [
           "Pulmonary Diseases and Corticosteroids"
          ],
          [
           "Biological exacerbation clusters demonstrate asthma and chronic obstructive pulmonary disease overlap with distinct mediator and microbiome profiles"
          ],
          [
           "Chapter 25 Therapeutic use of monoclonal antibodies: general aspects and challenges for drug delivery"
          ],
          [
           "Rhinosinusitis: Establishing definitions for clinical research and patient care"
          ],
          [
           "Prevalence of chronic comorbidities in dengue fever and West Nile virus: A systematic review and meta-analysis"
          ],
          [
           "Diagnosis of Allergy and Asthma in Childhood"
          ],
          [
           "Chapter 4 Gene–Environment Interactions Eco-Genetics and Toxicogenomics"
          ],
          [
           "Chronic Cough Due to Acute Bronchitis ACCP Evidence-Based Clinical Practice Guidelines"
          ],
          [
           "Virtual screening for finding natural inhibitor against cathepsin-L for SARS therapy"
          ],
          [
           "Chapter 23 Public and Population Health Genomics"
          ],
          [
           "Asthmatics with exacerbation during acute respiratory illness exhibit unique transcriptional signatures within the nasal mucosa"
          ],
          [
           "Rhinovirus identification by BglI digestion of picornavirus RT-PCR amplicons"
          ],
          [
           "Asthme et usage d’héroïne"
          ],
          [
           "Chronic obstructive pulmonary disease subpopulations and phenotyping"
          ],
          [
           "USE OF THE CLINICAL MICROBIOLOGY LABORATORY FOR THE DIAGNOSIS AND MANAGEMENT OF INFECTIOUS DISEASES RELATED TO THE ORAL CAVITY"
          ],
          [
           "Recent advances in the role of non-invasive ventilation in acute respiratory failure"
          ],
          [
           "Conurbation, Urban, and Rural Living as Determinants of Allergies and Infectious Diseases: Royal College of General Practitioners Research and Surveillance Centre Annual Report 2016-2017"
          ],
          [
           "Environment and Health in Children Day Care Centres (ENVIRH) – Study rationale and protocol()"
          ],
          [
           "Rhinitis in children less than 6 years of age: current knowledge and challenges"
          ],
          [
           "Pharmacological modulation of cough reflex"
          ],
          [
           "Management of acute asthma attacks associated with respiratory tract infection: a postal survey of general practitioners in the U.K."
          ],
          [
           "Asthma phenotypes"
          ],
          [
           "Clinical and Immunological Benefits of OM-85 Bacterial Lysate in Patients with Allergic Rhinitis, Asthma, and COPD and Recurrent Respiratory Infections"
          ],
          [
           "Pulmonary diseases induced by ambient ultrafine and engineered nanoparticles in twenty-first century"
          ],
          [
           "Clinical Characteristics of Asthmatic Patients With Influenza-Like Illness and Risk for Severe Exacerbations in Mexico"
          ],
          [
           "No Direct Association Between Asthma and the Microbiome Based on Currently Available Techniques"
          ],
          [
           "Prevalence of chronic comorbidities in chikungunya: A systematic review and meta-analysis"
          ],
          [
           "Comparing ozone metrics on associations with outpatient visits for respiratory diseases in Taipei Metropolitan area"
          ],
          [
           "Novel translational approaches to the search for precision therapies for acute respiratory distress syndrome"
          ],
          [
           "Development of allergy in children I. Association with virus infections"
          ],
          [
           "Fungi in respiratory samples of horses with inflammatory airway disease"
          ],
          [
           "Seasonal Allergy and Seasonal Decrements in Athletic Performance"
          ],
          [
           "Comparison of atopic and nonatopic children with chronic cough: Bronchoalveolar lavage cell profile"
          ],
          [
           "Effects of Fruit and Vegetable Consumption on Risk of Asthma, Wheezing and Immune Responses: A Systematic Review and Meta-Analysis"
          ],
          [
           "Un corps étranger hors du commun. À propos d'un cas d'emphysème sous-cutané lors d'une crise d'asthme"
          ],
          [
           "Environmental triggers and avoidance in the management of asthma"
          ],
          [
           "Asthma associated with denatonium benzoate in a healthcare worker in Taiwan: A case report"
          ],
          [
           "Genotype tailored treatment of mild symptomatic acid reflux in children with uncontrolled asthma (GenARA): Rationale and methods"
          ],
          [
           "Ciliated conical epithelial cell protrusions point towards a diagnosis of primary ciliary dyskinesia"
          ],
          [
           "DO IT Trial: vitamin D Outcomes and Interventions in Toddlers – a TARGet Kids! randomized controlled trial"
          ],
          [
           "Short term change in relative humidity during the festival of Diwali in India"
          ],
          [
           "The impact of cold on the respiratory tract and its consequences to respiratory health"
          ],
          [
           "Azithromycin for episodes with asthma-like symptoms in young children aged 1–3 years: a randomised, double-blind, placebo-controlled trial"
          ],
          [
           "Barriers and supports to implementation of MDI/spacer use in nine Canadian pediatric emergency departments: a qualitative study"
          ],
          [
           "Akute Bronchitis"
          ],
          [
           "Comparison of the Effects of Air Pollution on Outpatient and Inpatient Visits for Asthma: A Population-Based Study in Taiwan"
          ],
          [
           "Asthma in Children and Adolescents: A Comprehensive Approach to Diagnosis and Management"
          ],
          [
           "The Spectrum of Non-asthmatic Airway Diseases Contributing to Cough in the Adult"
          ],
          [
           "Acute and chronic cough"
          ],
          [
           "Pelargonium sidoides extract EPs 7630: a review of its clinical efficacy and safety for treating acute respiratory tract infections in children"
          ],
          [
           "Genomic Analyses of Human European Diversity at the Southwestern Edge: Isolation, African Influence and Disease Associations in the Canary Islands"
          ],
          [
           "Indoor air quality and human health: Truth vs mass hysteria"
          ],
          [
           "Respiratory Illness and Allergy Related to Work and Home Environment among Commercial Pilots"
          ],
          [
           "Essentials of Pulmonology"
          ],
          [
           "Unmet Needs in Respiratory Diseases: “You Can’t Know Where You Are Going Until You Know Where You Have Been”—Anonymous"
          ],
          [
           "Redesigning a large school-based clinical trial in response to changes in community practice"
          ],
          [
           "Asthma in children: mapping the literature by bibliometric analysis"
          ],
          [
           "Reducing burden of disease from residential indoor air exposures in Europe (HEALTHVENT project)"
          ],
          [
           "Pattern of patients and diseases during mass transit: The day of Arafat experience"
          ]
         ],
         "hovertemplate": "labels=4<br>pca_1=%{x}<br>pca_2=%{y}<br>title=%{customdata[0]}<extra></extra>",
         "legendgroup": "4",
         "marker": {
          "color": "#EF553B",
          "symbol": "circle"
         },
         "mode": "markers",
         "name": "4",
         "showlegend": true,
         "type": "scattergl",
         "x": [
          -0.028297534048722775,
          -0.10881033389724144,
          -0.10409342401247729,
          -0.07506936052684669,
          -0.15898289203429042,
          -0.049145350914890015,
          -0.122037869288617,
          -0.088005849411816,
          -0.03057122747911252,
          -0.08441192561720404,
          -0.02835359620085605,
          -0.064163411520953,
          -0.0970718534045672,
          -0.09294149516698548,
          -0.06302632036371426,
          -0.013179127511922992,
          -0.18700966752698586,
          -0.08274049843249388,
          -0.11612740006304177,
          0.04131544477379493,
          -0.14787595506008108,
          -0.1183726807710635,
          -0.1593996009662996,
          -0.034734236617428735,
          -0.06096427419339566,
          -0.09886066203280178,
          -0.029250169685310405,
          -0.19566448193821578,
          -0.010469112544237182,
          -0.02877035751610999,
          -0.07087476850024277,
          -0.07928436709178817,
          -0.07939727550746041,
          -0.10647598071867431,
          -0.10664633264946927,
          -0.12778030403481727,
          -0.10027901588903823,
          -0.044199042811887336,
          -0.035857771363413976,
          -0.0762442657312405,
          -0.011448364857127823,
          -0.0778560519207848,
          -0.056446678192978744,
          -0.057972232056545864,
          -0.08800083492562656,
          -0.1292424587584623,
          -0.03257069399562444,
          -0.0628513052778858,
          -0.09087919258902431,
          -0.0680835597427702,
          -0.07826814267342364,
          -0.035657271582176964,
          -0.10237414766296046,
          -0.06097299577499274,
          -0.0866820089572059,
          -0.08075170864576639,
          -0.0649899046197902,
          -0.08238897797087201,
          -0.09172925171111056,
          -0.09189770468227121,
          -0.11143226248687507,
          -0.08340852716381808,
          -0.05391301534240486,
          -0.09909353568933821,
          -0.0406467351797717,
          -0.04549149800485394,
          -0.09984628336629464,
          -0.0862768594674585,
          -0.03661897719909587,
          -0.11228903540665207,
          -0.08408455907038664,
          -0.0389683958184746,
          -0.04619812193927191,
          -0.11941673075470574,
          -0.05424544494651877,
          -0.07570299790888443,
          -0.10374423680035041,
          -0.05845030335604344,
          -0.01952615890941515,
          -0.13401754794505938,
          -0.03684815864122709,
          -0.10679854483962212,
          0.018946456983679014,
          -0.07896498465696751,
          -0.05234744575673446,
          -0.059186476163679266,
          -0.1612369739325087,
          -0.051109851769955424,
          -0.0630178257293235,
          -0.057823659983487236,
          -0.08428326514376322,
          -0.052144951285025075,
          -0.035244659119328677,
          -0.09747093411071603,
          -0.08438387351064372,
          -0.11537730532662044,
          -0.10918160092402046,
          -0.07421918223213585,
          -0.1295427690604624,
          0.04594513811934944,
          -0.06509556444184622,
          -0.0331369606420697,
          -0.07175123286737799,
          -0.1330195217614941,
          -0.02123171043096785,
          0.05418583636993393,
          -0.09335780433831004,
          -0.03397895930679669,
          -0.059051088461019516,
          -0.04851919050129423,
          -0.11524238798770955,
          -0.09631922433075793,
          -0.1359964074818312,
          -0.11645659026067647,
          -0.0458380510140949,
          -0.05203028719117416,
          -0.13409451677281486,
          -0.03746440602480259,
          -0.07488194695549388,
          -0.03147053517050796,
          -0.11411958322309922,
          0.005862219803485707,
          -0.11384315325678251,
          -0.11766692747992086,
          -0.03728886355714228,
          -0.02486670523400824,
          -0.00913060402477391,
          -0.08315366832701752,
          -0.08484039226901555,
          -0.12785791514947262,
          -0.020652278766611593,
          -0.020018491391410702,
          -0.15461073404142964,
          -0.17729594657644024,
          -0.05246150231586062,
          0.06490931212977114,
          -0.08663171613807695,
          -0.1443306244961729,
          -0.014552752669180106,
          -0.06637179318230314,
          -0.042044172116617755,
          -0.1803868808794986,
          -0.1249614050572185,
          -0.05321125150488711,
          -0.1095240152001335,
          -0.042887830449087644,
          -0.10018547273907583,
          -0.09224225108705134,
          -0.012864789540126514,
          -0.13920576760934766,
          -0.1282207469684009,
          -0.03971157341204084,
          -0.1014053685456445,
          -0.016460558403906162,
          -0.0803232912297371,
          0.02044344430277453,
          -0.021482149366570648,
          -0.002637748211084147,
          0.014640119869282079,
          -0.07518078054626444,
          -0.059516653357246894,
          -0.07228085565402388,
          -0.08390722210601485,
          -0.02872989759288483,
          -0.02007381155872495,
          -0.005303321468908684,
          -0.11570590184639323,
          -0.020247821589682812,
          -0.10502940058472376,
          -0.13754719784713992,
          -0.08822534267099143,
          -0.17526524291075543,
          -0.10143557016944536,
          -0.042616354084173025,
          -0.017390765563176196,
          -0.1350099626040195,
          -0.004572216887188939,
          -0.1685056677122887,
          -0.13809447856279064,
          -0.016567031814730033,
          -0.032749251457397724,
          -0.011043356172884624,
          -0.1676189164636687,
          -0.029731477313768056,
          -0.07471825243755319,
          0.01204077391210295,
          -0.021482149366570648,
          -0.009057999225158002,
          -0.1632620399125903,
          -0.011100126281789996,
          -0.08431809119818455,
          -0.0068718969909967705,
          -0.16068136638845296,
          0.05293571694113809,
          -0.029985246647844268,
          -0.00843047807416572,
          -0.05753644197456646,
          -0.13355087182856587,
          0.042596226620728955,
          -0.040395903093288096,
          -0.10756740197012105,
          -0.044768027624116635,
          -0.02167081508656555,
          -0.06079938497377474,
          -0.06795534437624115,
          -0.1070611976029147,
          -0.002673067048374932,
          -0.09003934960375512,
          0.01697188013094347,
          -0.07176481298648264,
          -0.11803286326363543,
          0.05513700329630603,
          -0.06619953481379814,
          -0.03039465592766752,
          -0.04604830123505375,
          -0.04818889448428944,
          -0.07936791215270908,
          -0.08863237457298961,
          -0.01788301965976938,
          -0.11281332184138658,
          -0.12210337416700254,
          0.001013859155837963,
          -0.11561226647798994,
          -0.08284120644873784,
          -0.060933940441510556,
          -0.049126919141879256,
          -0.13099045585279792,
          -0.04269247177023575
         ],
         "xaxis": "x",
         "y": [
          -0.20831316337701447,
          -0.11003061765712396,
          -0.08770569427681492,
          -0.0678789651131269,
          -0.08143905478395037,
          -0.07119584012771518,
          -0.06120905025125322,
          -0.1814188776236802,
          -0.05111923886459339,
          -0.049807122106588754,
          -0.1912724179631087,
          -0.09056570955503801,
          -0.1005133195235703,
          -0.041755257144298716,
          -0.10238044244430382,
          -0.11926794661322289,
          -0.08101530591267117,
          -0.12194017566956995,
          -0.09461389898077543,
          -0.012368963178995796,
          -0.024667327711377668,
          -0.03241768720434483,
          -0.07143125145387842,
          -0.009249518392950263,
          -0.14453566266855689,
          -0.10012271504310968,
          -0.09044885440529632,
          -0.07934871806640675,
          -0.1697855890858435,
          -0.06720678902780086,
          -0.08632988903519057,
          -0.09359658584265504,
          -0.07885839266761879,
          -0.12801251916540468,
          -0.15643931194045807,
          -0.09860383641976297,
          -0.09512016676689301,
          0.05278965624375254,
          -0.014542854019046668,
          -0.12260873814516561,
          0.03840677557234509,
          -0.0564743154814991,
          -0.11344997489912176,
          -0.07376166027464919,
          -0.09549446361138716,
          -0.09351965725456587,
          0.007390721427571641,
          -0.1761426543411627,
          -0.09431717039159515,
          -0.0018093820155389677,
          -0.05969813183044143,
          -0.09771133654758277,
          -0.07355589138830662,
          -0.17912343775156397,
          -0.023334553863340674,
          0.033276373828711917,
          0.01790294630524376,
          -0.11379712870390413,
          -0.000812471444785863,
          -0.14660562998625432,
          -0.08040801203811651,
          -0.15969010175195647,
          -0.17762786848919587,
          -0.16391387816327183,
          -0.18987762666519203,
          -0.1372436262514562,
          -0.1414572657878512,
          -0.16865034803962534,
          -0.14331163247928383,
          -0.07097893548784347,
          -0.1468949586635155,
          -0.2001612972061128,
          -0.11698374217854639,
          -0.14642054870887392,
          -0.17355176771875316,
          -0.16082177728795424,
          -0.1778378701683757,
          -0.07183724109870235,
          -0.15291719922014552,
          -0.06268646378715545,
          -0.13231783597533853,
          -0.12577816748898632,
          -0.11046964139753851,
          -0.12267944329717417,
          -0.13993499792528058,
          -0.08041112303795873,
          -0.07537341277369125,
          -0.05457078304383482,
          -0.11011959919845919,
          -0.08407301526712152,
          -0.08569231517637196,
          -0.19578289698662582,
          -0.18683283373672444,
          -0.051831551545517315,
          -0.022263415828894156,
          -0.003386151539460182,
          -0.1414409769373738,
          -0.13232751970197598,
          -0.04121009278125872,
          -0.07659486463919404,
          -0.16917850817130028,
          -0.0524463872534181,
          -0.20791305943908145,
          -0.1036693601450141,
          -0.19183982102035702,
          -0.1691236521103808,
          -0.1390883699566019,
          -0.042820418950052515,
          -0.13707019729230263,
          -0.06747740973357355,
          -0.07481415433380756,
          -0.1765630730527778,
          -0.005408876199076831,
          -0.09876654051984264,
          -0.15285445355735805,
          -0.16342623043036372,
          -0.10638116064638994,
          -0.1181563098154847,
          -0.17471251040895364,
          -0.08747151948400042,
          -0.11893299517853857,
          -0.18976601688999514,
          -0.17976144102089353,
          -0.1497373619127207,
          -0.09582861609165558,
          -0.17496557811233227,
          -0.1459536983780916,
          -0.04376278931877671,
          -0.1671199655139571,
          -0.12702755243697583,
          0.06294562628644872,
          0.10666625237926927,
          -0.11954339285033228,
          -0.04642933357119855,
          -0.1470171614909791,
          0.040652766805473264,
          -0.13156220186396364,
          -0.09520112338492691,
          -0.10137165980512072,
          -0.17586070704058657,
          -0.12445516359048583,
          -0.11907608685469355,
          -0.0417469498474919,
          -0.02702863485574242,
          -0.14483896307719113,
          -0.06672396881743053,
          0.05624488235982446,
          -0.05554811823577443,
          -0.13682279583784204,
          -0.03577974159986004,
          -0.02613262442848127,
          -0.15557286182657235,
          -0.1289148286687318,
          0.034098609781042725,
          -0.09543674439883225,
          -0.11114826511334594,
          -0.135463902525405,
          -0.06514872465953876,
          -0.1338222114730321,
          -0.04776351577866572,
          -0.06664432009440052,
          -0.17182850916408843,
          -0.08392837528593289,
          -0.07862544397150635,
          -0.1265257590585426,
          -0.0733561640158488,
          -0.03254423056900599,
          -0.010723225523678923,
          -0.09143913134004211,
          -0.11828788977547597,
          -0.07625963399611091,
          -0.06831011878869858,
          -0.12860028239706936,
          -0.09650143253249006,
          -0.05394485091623201,
          -0.017084393659069427,
          -0.06250579634290186,
          -0.060763223382078124,
          -0.12528917023943364,
          0.07021969124128309,
          -0.06428415221697778,
          -0.09396519701184498,
          -0.09989418796562499,
          -0.020041202013274462,
          -0.1282364188617473,
          -0.094112854639094,
          -0.135463902525405,
          -0.046153350914180796,
          -0.10107155357475317,
          -0.1033312701198669,
          -0.03428408271712837,
          -0.15300547436295867,
          -0.0631388311629341,
          -0.09539304417628544,
          -0.044580591843352224,
          -0.1485176565868479,
          -0.13911924728236494,
          -0.08334526172008701,
          -0.020928896942014073,
          -0.09356736779342041,
          -0.10301088449779126,
          -0.1231316739262191,
          -0.03615066282646631,
          -0.09389034506124443,
          -0.01652408423370749,
          -0.1669129448948635,
          -0.14753761930057657,
          -0.1564627612906745,
          -0.10130962938312894,
          -0.06240460569504924,
          -0.07564246267812674,
          -0.1709236892032112,
          -0.13850718076743576,
          -0.08053692029325629,
          -0.18238818996621756,
          -0.10637434985349577,
          -0.034911145159159836,
          -0.04759506552164941,
          -0.12264015599176559,
          -0.0939958509820242,
          -0.09604513595361526,
          -0.09587774032587051,
          -0.11233245727310218,
          -0.05129052416985154,
          -0.08271216574774459,
          -0.11743537388051077,
          -0.14579303831360096,
          -0.20755482055277802
         ],
         "yaxis": "y"
        },
        {
         "customdata": [
          [
           "Differential Regulation of Type I Interferon and Epidermal Growth Factor Pathways by a Human Respirovirus Virulence Factor"
          ],
          [
           "The complement system"
          ],
          [
           "Baicalein Reduces Airway Injury in Allergen and IL-13 Induced Airway Inflammation"
          ],
          [
           "Gene Silencing of SOCS3 by siRNA Intranasal Delivery Inhibits Asthma Phenotype in Mice"
          ],
          [
           "Abstracts from the 3rd International Genomic Medicine Conference (3rd IGMC 2015): Jeddah, Kingdom of Saudi Arabia. 30 November - 3 December 2015"
          ],
          [
           "Tight junctions in pulmonary epithelia during lung inflammation"
          ],
          [
           "Interferon-λs: Front-Line Guardians of Immunity and Homeostasis in the Respiratory Tract"
          ],
          [
           "Surfactant Protein D in Respiratory and Non-Respiratory Diseases"
          ],
          [
           "Potential mechanism and drug candidates for sepsis-induced acute lung injury"
          ],
          [
           "Mechanisms of nasal hyper-reactivity"
          ],
          [
           "PKC promotes proliferation of airway smooth muscle cells by regulating cyclinD1 expression in asthmatic rats"
          ],
          [
           "Inhaled and exhaled nitric oxide"
          ],
          [
           "Chemokine receptors: multifaceted therapeutic targets"
          ],
          [
           "Plasma exudation and asthma"
          ],
          [
           "Pulmonary Vasculature and Critical Asthma Syndromes: a Comprehensive Review"
          ],
          [
           "Adhesion molecules in lung diseases"
          ],
          [
           "n−3 Polyunsaturated fatty acids and inflammation: From molecular biology to the clinic"
          ],
          [
           "The Role of Interleukin-8 and its Receptors in Inflammatory Lung Disease: Implications for Therapy"
          ],
          [
           "Selectin Antagonists: Therapeutic Potential in Asthma and COPD"
          ],
          [
           "Levels of IL-8 and myeloperoxidase in the lungs of pneumonia patients"
          ],
          [
           "Lipid Mediators in Inflammatory Disorders"
          ],
          [
           "Delivery Systems for Pulmonary Gene Therapy"
          ],
          [
           "Therapeutic Applications"
          ],
          [
           "Sensory Nerves and Airway Irritability"
          ],
          [
           "Animal Models of Airway Diseases"
          ],
          [
           "The Applicability of Mouse Models to the Study of Human Disease"
          ],
          [
           "Peripheral Mechanisms II: The Pharmacology of Peripherally Active Antitussive Drugs"
          ],
          [
           "Role of toll-like receptors in respiratory diseases"
          ],
          [
           "Molecular Mechanisms for the Mechanical Modulation of Airway Responsiveness"
          ],
          [
           "The Aftermath of Bronchoconstriction"
          ],
          [
           "Use of Bronchoalveolar Lavage in Humans—Past Necessity and Future Imperative"
          ],
          [
           "The pathogenesis of inflammatory disease: Surgical shock and multiple system organ failure"
          ],
          [
           "Respiratory"
          ],
          [
           "Acute Lung Injury: The Injured Lung Endothelium, Therapeutic Strategies for Barrier Protection, and Vascular Biomarkers"
          ],
          [
           "Lung"
          ],
          [
           "Gene Therapy for Lung Diseases"
          ],
          [
           "Adenosine Receptors in the Lungs"
          ],
          [
           "Sinusitis, Rhinitis, Asthma, and the Single Airway Hypothesis"
          ],
          [
           "Pathophysiologic Role of Autophagy in Human Airways"
          ],
          [
           "Diagnosis of Pulmonary Parasitic Diseases"
          ],
          [
           "NOVEL THERAPEUTIC APPROACHES FOR ALLERGIC RHINITIS"
          ],
          [
           "Acute Respiratory Failure"
          ],
          [
           "Levels, Complement Activity and Polymorphisms of Mannan‐Binding Lectin in Patients of Bronchial Asthma with Allergic Rhinitis"
          ],
          [
           "Novel Markers for Alternative Activation of Macrophages: Macrophage Galactose‐Type C‐Type Lectins 1 and 2"
          ],
          [
           "Asthma: Pathophysiology and Diagnosis"
          ],
          [
           "Dual Role of Th17 Cytokines, IL-17A,F, and IL-22 in Allergic Asthma"
          ],
          [
           "Exudative hyperresponsiveness of the airway microcirculation in seasonal allergic rhinitis"
          ],
          [
           "The Respiratory System"
          ],
          [
           "Differential expression of nuclear factor-kappaB mediates increased pulmonary expression of tumor necrosis factor-alpha and virus-induced asthma."
          ],
          [
           "[Role of toll-like receptors in respiratory diseases]."
          ],
          [
           "Update on Exhaled Nitric Oxide in Clinical Practice."
          ],
          [
           "Interleukin-18 in pulmonary inflammatory diseases."
          ],
          [
           "Insulin-dependent phosphatidylinositol 3-kinase/Akt and ERK signaling pathways inhibit TLR3-mediated human bronchial epithelial cell apoptosis."
          ],
          [
           "Airway wall thickness is increased in COPD patients with bronchodilator responsiveness."
          ],
          [
           "The expression of proline-specific enzymes in the human lung."
          ],
          [
           "Solitary Cholinergic Stimulation Induces Airway Hyperreactivity and Transcription of Distinct Pro-inflammatory Pathways."
          ],
          [
           "Kallikrein-related peptidases in lung diseases."
          ],
          [
           "Matrix metalloproteinase 12 silencing: a therapeutic approach to treat pathological lung tissue remodeling?"
          ],
          [
           "Proteomics of lung cell biology and pulmonary disease."
          ],
          [
           "Vitamin D and asthma."
          ],
          [
           "The emerging relationship between the airway microbiota and chronic respiratory disease: clinical implications."
          ],
          [
           "Angiogenesis and lymphangiogenesis in bronchial asthma."
          ],
          [
           "CCL11 enhances excitotoxic neuronal death by producing reactive oxygen species in microglia."
          ],
          [
           "Respiratory effects of sulfur mustard exposure, similarities and differences with asthma and COPD."
          ],
          [
           "Autophagy and role in asthma."
          ],
          [
           "Identification of trans Protein QTL for Secreted Airway Mucins in Mice and a Causal Role for Bpifb1."
          ],
          [
           "Inhibition of angiotensin II-induced contraction of human airway smooth muscle cells by angiotensin-(1-7) via downregulation of the RhoA/ROCK2 signaling pathway."
          ],
          [
           "Synergy of IL-27 and TNF-α in regulating CXCL10 expression in lung fibroblasts."
          ],
          [
           "A role for membrane-bound CD147 in NOD2-mediated recognition of bacterial cytoinvasion."
          ],
          [
           "Inhaled birch pollen extract induces airway hyperresponsiveness via oxidative stress but independently of pollen-intrinsic NADPH oxidase activity, or the TLR4-TRIF pathway."
          ],
          [
           "Rats susceptible to virus-induced asthma have a persistent virus-induced change in the predominant pulmonary form of the NF-κB inhibitor IκBα."
          ],
          [
           "Expression, localisation and functional implications of the transporter protein PEPT2 in the upper respiratory tract."
          ],
          [
           "IL-27 targets Foxp3+ Tregs to mediate antiinflammatory functions during experimental allergic airway inflammation."
          ],
          [
           "Asthma and influenza virus infection:focusing on cell death and stress pathways in influenza virus replication."
          ],
          [
           "Human catalase, its polymorphisms, regulation and changes of its activity in different diseases."
          ],
          [
           "\"Hit-and-run\" effects of paramyxoviruses as a basis for chronic respiratory disease."
          ],
          [
           "Virus-induced airway hyperresponsiveness in man."
          ],
          [
           "Local renin-angiotensin II systems, angiotensin-converting enzyme and its homologue ACE2: their potential role in the pathogenesis of chronic obstructive pulmonary diseases, pulmonary hypertension and acute respiratory distress syndrome."
          ],
          [
           "The homeostatic rôle of bronchoconstriction."
          ],
          [
           "Chemokine-like factor 1, a novel cytokine, contributes to airway damage, remodeling and pulmonary fibrosis."
          ],
          [
           "Microvascular exudative hyperresponsiveness in human coronavirus-induced common cold."
          ],
          [
           "The immunobiological and clinical role of vitamin D in obstructive lung diseases."
          ],
          [
           "Nanomaterials and nanoparticles: Sources and toxicity"
          ],
          [
           "Targeting the NF-κB pathway in asthma and chronic obstructive pulmonary disease"
          ],
          [
           "Airways exudation of plasma macromolecules: Innate defense, epithelial regeneration, and asthma"
          ],
          [
           "What is the contribution of respiratory viruses and lung proteases to airway remodelling in asthma and chronic obstructive pulmonary disease?"
          ],
          [
           "Respiratory medicine"
          ],
          [
           "The Future of Antisense Oligonucleotides in the Treatment of Respiratory Diseases"
          ],
          [
           "Genes and Pathways Regulating Decline in Lung Function and Airway Remodeling in Asthma"
          ],
          [
           "The infant airway microbiome in health and disease impacts later asthma development"
          ],
          [
           "Respiratory Viral Infections in Chronic Lung Diseases"
          ],
          [
           "Molecular profiling of the human nasal epithelium: A proteomics approach"
          ],
          [
           "Immunostimulants in respiratory diseases: focus on Pidotimod"
          ],
          [
           "Human Pulmonary 3D Models For Translational Research"
          ],
          [
           "The ADAM metalloproteinases"
          ],
          [
           "Enteroviral proteases: structure, host interactions and pathogenicity"
          ],
          [
           "Bronquiectasias"
          ],
          [
           "Neonates with reduced neonatal lung function have systemic low-grade inflammation"
          ],
          [
           "6. Asthma()()"
          ],
          [
           "Poly(amidoamine) Dendrimer Nanocarriers and Their Aerosol Formulations for siRNA Delivery to the Lung Epithelium"
          ],
          [
           "PROTEINASE INHIBITORS | Cystatins"
          ],
          [
           "The history of respiratory disease management"
          ],
          [
           "Effects of AntagomiRs on Different Lung Diseases in Human, Cellular, and Animal Models"
          ],
          [
           "New aspects of p38 mitogen activated protein kinase (MAPK) biology in lung inflammation"
          ],
          [
           "Viral infection of the lung: Host response and sequelae"
          ],
          [
           "Upper airway inflammatory diseases and bronchial hyperresponsiveness"
          ],
          [
           "TLRs in pulmonary diseases"
          ],
          [
           "Oligonucleotide therapy: An emerging focus area for drug delivery in chronic inflammatory respiratory diseases"
          ],
          [
           "Chapter 6 Airway Pathology"
          ],
          [
           "Molecular Characterization of Transcriptome-wide Interactions between Highly Pathogenic Porcine Reproductive and Respiratory Syndrome Virus and Porcine Alveolar Macrophages in vivo"
          ],
          [
           "OCCUPATIONAL DISEASES | Overview"
          ],
          [
           "Alveolar macrophages in allergic asthma: An expression signature characterized by heat shock protein pathways"
          ],
          [
           "The role of antibiotics in asthma"
          ],
          [
           "Macrophage Polarization in Inflammatory Diseases"
          ],
          [
           "Macrophages: Their role, activation and polarization in pulmonary diseases"
          ],
          [
           "Genetic and environmental interaction in allergy and asthma"
          ],
          [
           "A novel conserved family of Macro-like domains—putative new players in ADP-ribosylation signaling"
          ],
          [
           "Role of macrolide therapy in chronic obstructive pulmonary disease"
          ],
          [
           "Asthma"
          ],
          [
           "Role of the Toll Like Receptor (TLR) Radical Cycle in Chronic Inflammation: Possible Treatments Targeting the TLR4 Pathway"
          ],
          [
           "‘The Microbiome and the Pathophysiology of Asthma’"
          ],
          [
           "Cyclophilin A: a key player for human disease"
          ],
          [
           "CD26 and Asthma: a Comprehensive Review"
          ],
          [
           "The roles of miRNAs as potential biomarkers in lung diseases"
          ],
          [
           "Emerging Regulatory Roles of Dual-Specificity Phosphatases in Inflammatory Airway Disease"
          ],
          [
           "The Role of Autophagy in Eosinophilic Airway Inflammation"
          ],
          [
           "Astragalin inhibits autophagy-associated airway epithelial fibrosis"
          ],
          [
           "The infant airway microbiome in health and disease impacts later asthma development"
          ],
          [
           "Cortex phellodendri Extract Relaxes Airway Smooth Muscle"
          ]
         ],
         "hovertemplate": "labels=5<br>pca_1=%{x}<br>pca_2=%{y}<br>title=%{customdata[0]}<extra></extra>",
         "legendgroup": "5",
         "marker": {
          "color": "#00cc96",
          "symbol": "circle"
         },
         "mode": "markers",
         "name": "5",
         "showlegend": true,
         "type": "scattergl",
         "x": [
          -0.1680515739705618,
          -0.18050756475650787,
          -0.22311617509224296,
          -0.23350903683382415,
          -0.19473898430815256,
          -0.258977084188263,
          -0.14850102929864278,
          -0.2366233180730135,
          -0.19150637425065392,
          -0.1733313131394634,
          -0.18205212833927242,
          -0.17340927727619332,
          -0.17010853997023923,
          -0.24335337053988784,
          -0.14032580420441376,
          -0.24823289093363562,
          -0.24985553877113104,
          -0.2454411771181197,
          -0.24791134185267732,
          -0.11918909926996296,
          -0.2229888601088869,
          -0.24588103362408517,
          -0.22097618481337383,
          -0.2106001350876365,
          -0.22162569216662917,
          -0.22672444191031987,
          -0.17486542057001986,
          -0.2028114415702849,
          -0.27559515651873473,
          -0.2435436855108595,
          -0.2084765127438455,
          -0.187651163523275,
          -0.18582508236331305,
          -0.22351477748584855,
          -0.23410138645374876,
          -0.18339179750729007,
          -0.22146955627611742,
          -0.18872448179096954,
          -0.2435604891318019,
          -0.15506780495007905,
          -0.25139697668345035,
          -0.120056898632707,
          -0.13755137886785596,
          -0.1997463941207966,
          -0.13756632036555194,
          -0.2532575666456396,
          -0.13971371847146766,
          -0.17297266212782478,
          -0.14922890130280683,
          -0.2059542614084757,
          -0.1612606690710012,
          -0.2957564506510386,
          -0.22987319454805794,
          -0.13233255976193203,
          -0.2768812166701534,
          -0.18911509412386746,
          -0.20488159530999783,
          -0.23722884663375468,
          -0.23525865421445788,
          -0.16285619017168562,
          -0.18430641647273613,
          -0.2526612408315221,
          -0.1950694855363962,
          -0.25901248298468593,
          -0.13305361628656392,
          -0.2121342593362955,
          -0.19179864490984894,
          -0.21187078609783114,
          -0.19359101225111944,
          -0.2445001225002079,
          -0.11793755809373052,
          -0.2088366696335115,
          -0.19252820661275222,
          -0.15607570751533392,
          -0.16842102893979488,
          -0.17979160090388205,
          -0.09899672152763146,
          -0.17418209995332634,
          -0.18058189667808977,
          -0.2290095914015144,
          -0.1168975325325809,
          -0.1759483180965703,
          -0.17647401470621174,
          -0.23166067494015963,
          -0.1881698848379466,
          -0.11575583825686885,
          -0.060060765584987755,
          -0.23359555413484212,
          -0.22730060336088626,
          0.00655448848311083,
          -0.1949681950763791,
          -0.17542999890023056,
          -0.1733460454535682,
          -0.21057658207886695,
          -0.27302140788109225,
          -0.1324162629077274,
          -0.1635140495951989,
          -0.04698433938583445,
          -0.1216865675839058,
          -0.21853966104514813,
          -0.22741019215419825,
          -0.18542246851752162,
          -0.17659361748006377,
          -0.18360353231616383,
          -0.10974633418280773,
          -0.11213519675881804,
          -0.2300614727859783,
          -0.21335762970364305,
          -0.21185551103225733,
          -0.1416891913544281,
          -0.12079454877624737,
          -0.1899258294097065,
          -0.1128444825592152,
          -0.1896327254550168,
          -0.23827976759448777,
          -0.2734606123019751,
          -0.1935299633085332,
          -0.160480011929064,
          -0.13539986740094428,
          -0.21480735484099817,
          -0.18721818999262807,
          -0.21763586801958892,
          -0.1394687736398464,
          -0.2593196904136157,
          -0.3304991060932848,
          -0.2696663133589044,
          -0.2708892587798175,
          0.00655448848311083,
          -0.16674130559352443
         ],
         "xaxis": "x",
         "y": [
          0.1396488577584982,
          0.010859147040315258,
          -0.021437171277459584,
          -0.014463386334446762,
          -0.06747704364142694,
          0.04342836531635524,
          0.09930120573149075,
          0.04557333485354898,
          -0.06396590303271968,
          0.01874348544801907,
          -0.06058839435101414,
          -0.05534902875113199,
          -0.047202035906667605,
          0.041943228457077306,
          0.0737519974670954,
          0.033105006922545525,
          0.03547094818512972,
          -0.0009152202672434041,
          0.025225246812875638,
          -0.05762483698539832,
          -0.005190946043607456,
          -0.049182900130741884,
          -0.019774347530086164,
          -0.010559994574030236,
          0.02816895212275701,
          0.010401981271405122,
          -0.013223403096425222,
          0.09721502733264831,
          0.046854676495285505,
          0.156280424596012,
          -0.014897994723412293,
          -0.01605158809605036,
          -0.0709659291535267,
          -0.06323737021832787,
          0.01421942674644031,
          -0.03604472414396725,
          -0.009312808011784397,
          0.1011451666061317,
          0.06545499790224744,
          -0.04374936799963404,
          0.04780739888081026,
          -0.06405588839521234,
          -0.07502010028774639,
          -0.03319519928474606,
          0.020630590428176568,
          0.027379098861759345,
          -0.06794449763148755,
          -0.003603336449570206,
          0.07531002274601904,
          0.1046637158515904,
          -0.015183447132017728,
          0.10119412102178997,
          0.0642060190888635,
          -0.08894251317298434,
          0.008142384711448396,
          0.05416643481563803,
          0.06830287748514896,
          0.008641208281046236,
          -0.003668166156555132,
          0.05126818679412895,
          0.047125682955426726,
          0.024867113523287777,
          -0.03267179543826547,
          0.015472322765188215,
          0.1304141037620283,
          -0.014209259120719096,
          -0.03840628338452469,
          -0.016240079738288688,
          0.01855196260495656,
          0.04349575727970363,
          -0.010838931676519939,
          0.010511366244194326,
          0.005965030181731468,
          0.05027637915804436,
          -0.03954571228771126,
          0.2537518997044845,
          0.14902701617905065,
          -0.051666010161500076,
          0.00044300523818532195,
          -0.007122908833162623,
          -0.056625095379993676,
          0.013548254201728508,
          -0.04791981244522153,
          0.039499650701019844,
          -0.011418631323931972,
          0.2246717018052993,
          0.05823143259666373,
          0.03605142970446655,
          0.06749397701473969,
          0.02337731812998307,
          0.09221082223228363,
          -0.05270249312418811,
          0.08471830630599575,
          0.025765190483328225,
          0.02572308572741706,
          0.13629080172054805,
          0.010065823783075514,
          -0.11257295274212883,
          0.04131535617777867,
          -0.08971730209439557,
          0.021926880675038698,
          -0.1120296957232412,
          -0.05857276889021403,
          -0.010657782342755995,
          0.1618286652513868,
          0.1088585722113949,
          0.02765057440506851,
          -0.007117222026606718,
          0.027603367555428762,
          0.05372208686346653,
          -0.014826795208376488,
          -0.02588959522104084,
          0.07382063460433332,
          -0.009197639532663554,
          -0.011205949584626586,
          0.06529406282489804,
          -0.020709808580906784,
          -0.007981009243035542,
          0.06589985038047012,
          -0.02327418451239019,
          0.05699542671383481,
          0.06262587190886704,
          0.03171537150087227,
          0.010533542029739412,
          0.2413283468740198,
          0.05665427127900795,
          0.013730428508465226,
          0.02337731812998307,
          -0.06033207929164451
         ],
         "yaxis": "y"
        },
        {
         "customdata": [
          [
           "The Tennessee Children's Respiratory Initiative: Objectives, design and recruitment results of a prospective cohort study investigating infant viral respiratory illness and the development of asthma and allergic diseases"
          ],
          [
           "Attenuated Respiratory Syncytial Virus Vaccines in Asthmatic Children"
          ],
          [
           "Respiratory Syncytial Virus—A Comprehensive Review"
          ],
          [
           "Respiratorische Notfälle im Kindes- und Jugendalter"
          ],
          [
           "Severe bronchiolitis in children"
          ],
          [
           "Human Respiratory Syncytial Virus: Biology, Epidemiology, and Control"
          ],
          [
           "Bronchiolitis"
          ],
          [
           "A review of palivizumab and emerging therapies for respiratory syncytial virus."
          ],
          [
           "Severe bronchiolitis profiles and risk of recurrent wheeze by age 3 years."
          ],
          [
           "Use of heliox delivered via high-flow nasal cannula to treat an infant with coronavirus-related respiratory infection and severe acute air-flow obstruction."
          ],
          [
           "Heliox inhalation therapy for bronchiolitis in infants."
          ],
          [
           "Exchange Proteins Directly Activated by cAMP and Their Roles in Respiratory Syncytial Virus Infection."
          ],
          [
           "Changes in helper lymphocyte chemokine receptor expression and elevation of IP-10 during acute respiratory syncytial virus infection in infants."
          ],
          [
           "Infectious pathogens and bronchiolitis outcomes."
          ],
          [
           "Respiratory syncytial virus, human bocavirus and rhinovirus bronchiolitis in infants."
          ],
          [
           "Respiratory syncytial virus persistence in chronic obstructive pulmonary disease."
          ],
          [
           "How Respiratory Syncytial Virus Genotypes Influence the Clinical Course in Infants Hospitalized for Bronchiolitis."
          ],
          [
           "Pediatric Asthma and Viral Infection."
          ],
          [
           "Immunization of macaques with formalin-inactivated respiratory syncytial virus (RSV) induces interleukin-13-associated hypersensitivity to subsequent RSV infection."
          ],
          [
           "Respiratory syncytial virus infection and recurrent wheeze/asthma in children under five years: an epidemiological survey."
          ],
          [
           "Role of rhinovirus in hospitalized infants with respiratory tract infections in Spain."
          ],
          [
           "Influence of viral and bacterial respiratory infections on exacerbations and symptom severity in childhood asthma."
          ],
          [
           "Influence of maternal asthma on the cause and severity of infant acute respiratory tract infections"
          ],
          [
           "Children hospitalized with rhinovirus bronchiolitis have asthma-like characteristics"
          ],
          [
           "Respiratory viruses in bronchiolitis and their link to recurrent wheezing and asthma"
          ],
          [
           "Bronchiolitis needs a revisit: Distinguishing between virus entities and their treatments"
          ],
          [
           "The Link Between Bronchiolitis and Asthma"
          ],
          [
           "Bronchiolitis: Analysis of 10 consecutive epidemic seasons"
          ],
          [
           "Bronchiolitis and asthma: Possible common pathogenetic pathways"
          ],
          [
           "Respiratory syncytial virus: The virus, the disease and the immune response"
          ],
          [
           "Viral bronchiolitis in children: A common condition with few therapeutic options()"
          ],
          [
           "Asma y virus en el niño"
          ],
          [
           "Interferon-gamma levels in nasopharyngeal secretions of infants with respiratory syncytial virus and other respiratory viral infections"
          ],
          [
           "Spontaneous pneumomediastinum as a complication in human bocavirus infection"
          ],
          [
           "Lung function and bronchial hyper‐responsiveness 11 years after hospitalization for bronchiolitis"
          ],
          [
           "Respiratory Picornaviruses and Respiratory Syncytial Virus as Causative Agents of Acute Expiratory Wheezing in Children"
          ],
          [
           "Rhinovirus Type in Severe Bronchiolitis and the Development of Asthma"
          ],
          [
           "Host and Viral Factors in Respiratory Syncytial Virus Infection"
          ],
          [
           "Role of viral coinfections in asthma development"
          ],
          [
           "Combined fluticasone propionate and salmeterol reduces RSV infection more effectively than either of them alone in allergen-sensitized mice"
          ],
          [
           "Neutrophils in respiratory syncytial virus infection: A target for asthma prevention"
          ],
          [
           "Thymic stromal lymphopoietin, IL-33, and periostin in hospitalized infants with viral bronchiolitis"
          ],
          [
           "Pediatric Asthma and Viral Infection"
          ],
          [
           "Marqueurs biologiques de gravité initiale des bronchiolites aiguës et d’évolution vers un asthme du nourrisson"
          ]
         ],
         "hovertemplate": "labels=3<br>pca_1=%{x}<br>pca_2=%{y}<br>title=%{customdata[0]}<extra></extra>",
         "legendgroup": "3",
         "marker": {
          "color": "#ab63fa",
          "symbol": "circle"
         },
         "mode": "markers",
         "name": "3",
         "showlegend": true,
         "type": "scattergl",
         "x": [
          0.17719099312781414,
          0.1062482637522718,
          0.03596685525716146,
          0.030712540933344287,
          0.15078122206330902,
          0.14023432085154802,
          0.14621003486207235,
          -0.058858602912844095,
          0.16315236927468912,
          0.0381070515253273,
          0.046570811851816676,
          -0.07997909886988916,
          0.0069460398851229795,
          0.04873231840995343,
          0.2130640757711948,
          -0.04088154055086677,
          0.12307942294901486,
          0.3744079044204439,
          -0.0831284348962141,
          0.3004447807891573,
          0.41660191899116816,
          0.14172195088240816,
          0.1854496733408636,
          0.2727003746567197,
          0.25333440074042435,
          0.19056072009010439,
          0.21231038364597682,
          0.2011590235689038,
          0.051911786124678845,
          0.029857091885096138,
          0.14893828764601647,
          0.38524344681464084,
          0.1750054456719443,
          0.10985631704296928,
          0.1375776031680492,
          0.37194519782894075,
          0.1689982584922565,
          -0.012858843331110217,
          0.27612826506832255,
          -0.04871766961289787,
          -0.06594176180634781,
          0.14241322024107828,
          0.38294336980981647,
          0.09008573191008482
         ],
         "xaxis": "x",
         "y": [
          0.09601316505143521,
          -0.018890424174683357,
          0.12297123583968454,
          -0.05961228375267121,
          -7.225350040708164e-05,
          0.06098053574379202,
          -0.041745320933926744,
          0.01621271099580338,
          -0.10245593619948173,
          0.045110096771351554,
          -0.16482352446173135,
          0.14395573675150075,
          -0.021252681076289196,
          0.02849112064984034,
          -0.04862713303822016,
          0.1211215437474865,
          -0.0603403648639937,
          0.2603962188378132,
          0.04926707140411844,
          -0.05373116114983227,
          -0.018640817286742738,
          0.14454670083895876,
          0.09092428275716763,
          -0.10122854926776664,
          0.06291204566166514,
          -0.019791420587591535,
          0.1219360803092827,
          -0.1494768677713811,
          0.053115821561935984,
          0.23376115844190629,
          -0.045756394472813725,
          0.2522119344765357,
          0.08660820113647938,
          0.03043815907424963,
          -0.08054116303755347,
          0.05298947950474348,
          -0.14049986071791676,
          0.0511070588788903,
          -0.0634523815904614,
          0.03736738775570979,
          0.10231922955641984,
          -0.022311798165049173,
          0.2518159052998406,
          -0.021435631779789528
         ],
         "yaxis": "y"
        },
        {
         "customdata": [
          [
           "Analysing the eosinophil cationic protein - a clue to the function of the eosinophil granulocyte"
          ],
          [
           "Specificity and Effector Functions of Human RSV-Specific IgG from Bovine Milk"
          ],
          [
           "Early-Life Exposure to Clostridium leptum Causes Pulmonary Immunosuppression"
          ],
          [
           "Euphorbia tirucalli modulates gene expression in larynx squamous cell carcinoma"
          ],
          [
           "Heme Oxygenase-1-Expressing Dendritic Cells Promote Foxp3(+) Regulatory T Cell Differentiation and Induce Less Severe Airway Inflammation in Murine Models"
          ],
          [
           "Interferon-β deficiency at asthma exacerbation promotes MLKL mediated necroptosis"
          ],
          [
           "Clara Cell 10 kDa Protein Alleviates Murine Hepatitis Virus Strain 3-Induced Fulminant Hepatitis by Inhibiting Fibrinogen-Like Protein 2 Expression"
          ],
          [
           "Pelargonium sidoides radix extract EPs 7630 reduces rhinovirus infection through modulation of viral binding proteins on human bronchial epithelial cells"
          ],
          [
           "Saponins of Dioscorea Nipponicae Inhibits IL-17A-Induced Changes in Biomechanical Behaviors of In Vitro Cultured Human Airway Smooth Muscle Cells"
          ],
          [
           "Bronchial inflammation and the common cold: a comparison of atopic and non‐atopic individuals"
          ],
          [
           "Mechanisms of Hypersensitivity"
          ],
          [
           "Chemokine Receptors in Allergic Lung Disease"
          ],
          [
           "Virus‐provoked rhinitis and asthma in allergic patients"
          ],
          [
           "Adenosine Receptor A2a is Differentially Expressed in CD4(+) T Lymphocytes of Asthmatic and Healthy Individuals"
          ],
          [
           "Anti-IL-5 in Mild Asthma Alters Rhinovirus-induced Macrophage, B-Cell, and Neutrophil Responses (MATERIAL). A Placebo-controlled, Double-Blind Study."
          ],
          [
           "Poly(inosinic-cytidylic) acid-triggered exacerbation of experimental asthma depends on IL-17A produced by NK cells."
          ],
          [
           "Human respiratory coronaviruses : neuroinvasive, neurotropic and potentially neurovirulent pathogens."
          ],
          [
           "Cell cycle arrest by transforming growth factor beta1 enhances replication of respiratory syncytial virus in lung epithelial cells."
          ],
          [
           "Dendritic cells in viral bronchiolitis."
          ],
          [
           "Rhinovirus C, Asthma, and Cell Surface Expression of Virus Receptor CDHR3."
          ],
          [
           "EPITOPE-BASED VACCINE FOR THE TREATMENT OF DER F 3 ALLERGY."
          ],
          [
           "Small interfering RNAs targeted to interleukin-4 and respiratory syncytial virus reduce airway inflammation in a mouse model of virus-induced asthma exacerbation."
          ],
          [
           "Cadherin-related family member 3, a childhood asthma susceptibility gene product, mediates rhinovirus C binding and replication."
          ],
          [
           "Pulmonary immunity to viruses."
          ],
          [
           "Interactions between innate antiviral and atopic immunoinflammatory pathways precipitate and sustain asthma exacerbations in children."
          ],
          [
           "Inhaled innate immune ligands to prevent pneumonia."
          ],
          [
           "Interferon-λs: special immunomodulatory agents and potential therapeutic targets."
          ],
          [
           "Interferon lambda genetic polymorphisms and viral infection: the tip of the iceberg?"
          ],
          [
           "MicroRNA-744 Inhibits Proliferation of Bronchial Epithelial Cells by Regulating Smad3 Pathway via Targeting Transforming Growth Factor-β1 (TGF-β1) in Severe Asthma."
          ],
          [
           "Beta-escin has potent anti-allergic efficacy and reduces allergic airway inflammation."
          ],
          [
           "Human Rhinovirus Diversity and Evolution: How Strange the Change from Major to Minor."
          ],
          [
           "The suppression of innate immune response by human rhinovirus C."
          ],
          [
           "The Interplay between Host Immunity and Respiratory Viral Infection in Asthma Exacerbation."
          ],
          [
           "Impaired type I and III interferon response to rhinovirus infection during pregnancy and asthma."
          ],
          [
           "Atomic structure of a rhinovirus C, a virus species linked to severe childhood asthma."
          ],
          [
           "Membrane-bound carboxypeptidase E facilitates the entry of eosinophil cationic protein into neuroendocrine cells."
          ],
          [
           "Nitric oxide and the common cold."
          ],
          [
           "The first autopsy case of pandemic influenza (A/H1N1pdm) virus infection in Japan: detection of a high copy number of the virus in type II alveolar epithelial cells by pathological and virological examination."
          ],
          [
           "Expression of costimulatory molecules in peripheral blood mononuclear cells of atopic asthmatic children during virus-induced asthma exacerbations."
          ],
          [
           "Rhinoviral infections activate p38MAP-kinases via membrane rafts and RhoA."
          ],
          [
           "The immunological synapse for B-cell memory: the role of the ICOS and its ligand for the longevity of humoral immunity."
          ],
          [
           "The role of epithelial injury and repair in the origins of asthma."
          ],
          [
           "The role of p38 MAPK in rhinovirus-induced monocyte chemoattractant protein-1 production by monocytic-lineage cells."
          ],
          [
           "Rhinovirus infection in nonasthmatic subjects: effects on intrapulmonary airways."
          ],
          [
           "TLR3- and Th2 cytokine-dependent production of thymic stromal lymphopoietin in human airway epithelial cells."
          ],
          [
           "Respiratory syncytial virus infection results in airway hyperresponsiveness and enhanced airway sensitization to allergen."
          ],
          [
           "TLR3-mediated synthesis and release of eotaxin-1/CCL11 from human bronchial smooth muscle cells stimulated with double-stranded RNA."
          ],
          [
           "Proximal airway mucous cells of ovalbumin-sensitized and -challenged Brown Norway rats accumulate the neuropeptide calcitonin gene-related peptide."
          ],
          [
           "Cyclooxygenase-2/prostaglandin D2/CRTH2 pathway mediates double-stranded RNA-induced enhancement of allergic airway inflammation."
          ],
          [
           "The immunology of virus infection in asthma."
          ],
          [
           "Immunology taught by lung dendritic cells."
          ],
          [
           "Rhinoviruses as pathogens of the lower respiratory tract."
          ],
          [
           "The TLR4 Agonist Immunomax Affects the Phenotype of Mouse Lung Macrophages during Respiratory Syncytial Virus Infection"
          ],
          [
           "Influence of viral infection on the relationships between airway cytokines and lung function in asthmatic children"
          ],
          [
           "Respiratory Infection and Airway Reactivity"
          ],
          [
           "Asthma, Viruses, and Nitric Oxide"
          ],
          [
           "RANTES, Macrophage-Inhibitory Protein 1α, and the Eosinophil Product Major Basic Protein Are Released into Upper Respiratory Secretions during Virus-Induced Asthma Exacerbations in Children"
          ],
          [
           "Innate immune response to viral infection of the lungs"
          ],
          [
           "Cord blood hemopoietic progenitor profiles predict acute respiratory symptoms in infancy"
          ],
          [
           "Increased Systemic Cytokine/Chemokine Expression in Asthmatic and Non‐asthmatic Patients with Bacterial, Viral or Mixed Lung Infection"
          ],
          [
           "Synthetic double-stranded RNA enhances airway inflammation and remodelling in a rat model of asthma"
          ],
          [
           "Rhinovirus inhibits IL-17A and the downstream immune responses in allergic asthma"
          ],
          [
           "Rhinovirus C targets ciliated airway epithelial cells"
          ],
          [
           "Antimicrobial strategies: An option to treat allergy?"
          ],
          [
           "Dudleya brittonii extract promotes survival rate and M2-like metabolic change in porcine 3D4/31 alveolar macrophages"
          ],
          [
           "Prolonged nasal eosinophilia in all_ergic patients after common cold"
          ],
          [
           "Impacts of allergic airway inflammation on lung pathology in a mouse model of influenza A virus infection"
          ],
          [
           "Mechanisms of rhinovirus-induced asthma"
          ],
          [
           "Respiratory health, allergies, and the farm environment: design, methods and enrollment in the observational Wisconsin Infant Study Cohort (WISC): a research proposal"
          ],
          [
           "Influenza A virus infection increases IgE production and airway responsiveness in aerosolized antigen-exposed mice()()()"
          ],
          [
           "Pentraxin 3 deletion aggravates allergic inflammation through a TH17-dominant phenotype and enhanced CD4 T-cell survival"
          ],
          [
           "Dendritic Cells from Aged Subjects Display Enhanced Inflammatory Responses to Chlamydophila pneumoniae"
          ],
          [
           "Increased cytokine/chemokines in serum from asthmatic and non-asthmatic patients with viral respiratory infection"
          ],
          [
           "Infections virales et asthme"
          ],
          [
           "Virus-triggered exacerbation in allergic asthmatic children: neutrophilic airway inflammation and alteration of virus sensors characterize a subgroup of patients"
          ],
          [
           "Airway protease/antiprotease imbalance in atopic asthmatics contributes to increased Influenza A virus cleavage and replication"
          ],
          [
           "A systems approach to understanding human rhinovirus and influenza virus infection"
          ],
          [
           "Interferon response of the cystic fibrosis bronchial epithelium to major and minor group rhinovirus infection"
          ],
          [
           "Construction of a recombinant rhinovirus accommodating fluorescent marker expression"
          ],
          [
           "Allergie respiratoire et virus"
          ],
          [
           "Aspirin Intolerance: Experimental Models for Bed-to-Bench"
          ],
          [
           "Vascular endothelial growth factor induction by rhinovirus infection"
          ],
          [
           "Human coronaviruses: Viral and cellular factors involved in neuroinvasiveness and neuropathogenesis"
          ],
          [
           "Respiratory viral infections drive chemokine expression and exacerbate the asthmatic response"
          ],
          [
           "Rhinovirus replication and innate immunity in highly differentiated human airway epithelial cells"
          ],
          [
           "Eosinophils: changing perspectives in health and disease"
          ],
          [
           "Macrophage activation state determines the response to rhinovirus infection in a mouse model of allergic asthma"
          ],
          [
           "Infections respiratoires aiguës virales et asthme de l'enfant Aspects épidémiologiques, immunopathologiques et thérapeutiques"
          ],
          [
           "Host defense function of the airway epithelium in health and disease: clinical background"
          ],
          [
           "Quercetin inhibits rhinovirus replication in vitro and in vivo"
          ],
          [
           "Human TSLP and TLR3 ligands promote differentiation of Th17 cells with a central memory phenotype under Th2‐polarizing conditions"
          ],
          [
           "An Insight into the Diverse Roles of Surfactant Proteins, SP-A and SP-D in Innate and Adaptive Immunity"
          ],
          [
           "The role of airway macrophages in apoptotic cell clearance following acute and chronic lung inflammation"
          ],
          [
           "Antiviral and Anti-Inflammatory Activities of Pochonin D, a Heat Shock Protein 90 Inhibitor, against Rhinovirus Infection"
          ],
          [
           "Virus associated immune and pharmacologic mechanisms in disorders of respiratory and cutaneous atopy"
          ],
          [
           "Inhaled corticosteroid use is associated with increased circulating T regulatory cells in children with asthma"
          ],
          [
           "Chitinase 3‐like 1 protein plays a critical role in respiratory syncytial virus‐induced airway inflammation"
          ],
          [
           "Neuroinvasive and Neurotropic Human Respiratory Coronaviruses: Potential Neurovirulent Agents in Humans"
          ]
         ],
         "hovertemplate": "labels=9<br>pca_1=%{x}<br>pca_2=%{y}<br>title=%{customdata[0]}<extra></extra>",
         "legendgroup": "9",
         "marker": {
          "color": "#FFA15A",
          "symbol": "circle"
         },
         "mode": "markers",
         "name": "9",
         "showlegend": true,
         "type": "scattergl",
         "x": [
          -0.16146147385274545,
          -0.03024334545027904,
          -0.17852932437771177,
          -0.22224867392748643,
          -0.266306126671487,
          -0.1753767260101628,
          -0.22748420249060888,
          -0.16633557493293358,
          -0.26135755599291294,
          -0.039306351996738514,
          -0.22656624905324707,
          -0.3158528754231331,
          -0.04680026148981157,
          -0.2035010106010239,
          -0.14044053402427736,
          -0.20491157548758554,
          -0.0024624498669294963,
          -0.11838522018592018,
          -0.031944381785870224,
          -0.05997629243325506,
          -0.12539109079075883,
          -0.10989860016702863,
          -0.06130637937400327,
          -0.10651277677451892,
          -0.1175747259286283,
          -0.14108152672627475,
          -0.20345042036459032,
          -0.0746695390148289,
          -0.22157437081138973,
          -0.2517044259464563,
          -0.03077146017759693,
          -0.10775418439261399,
          -0.1654969566118766,
          -0.037546756532772355,
          -0.037281602812762285,
          -0.2382737709718903,
          -0.14627777653811,
          -0.06607981391592951,
          -0.04744511835055727,
          -0.12071090964948364,
          -0.15744597374524474,
          -0.18562938826737813,
          -0.16059197321569896,
          -0.1766066428103713,
          -0.16723378635189842,
          -0.145876480404917,
          -0.13128578246504308,
          -0.2213383134503991,
          -0.2385949056403821,
          -0.18532971278259264,
          -0.2382910399490908,
          -0.048960963423874355,
          -0.13963402126472185,
          -0.0019926027570992422,
          -0.0841264135278818,
          -0.1539310042848548,
          -0.030071639173171495,
          -0.1324332296321996,
          0.0029286657554919646,
          0.0015557123098938752,
          -0.20184835913208496,
          -0.19618468842260503,
          -0.17559967803677304,
          -0.1690709993595582,
          -0.2317757426788813,
          -0.10202539438317076,
          -0.040222735558486475,
          -0.06920966827959793,
          -0.046741063340361884,
          -0.07748540426488269,
          -0.25615644789024106,
          -0.13897349466565379,
          0.018590624959037072,
          -0.012749133865826254,
          -0.02710231463410332,
          -0.10942322738156125,
          -0.07296324998918784,
          -0.0937581867549536,
          -0.14879228613946702,
          -0.11312026086879404,
          -0.25922262295903675,
          -0.11634746462140898,
          -0.015333222874844765,
          -0.12257765466334675,
          -0.14790255528103244,
          -0.2039723296392723,
          -0.2309185102694307,
          -0.06607262216056725,
          -0.09751019542867566,
          -0.14928550076430203,
          -0.20665193297736062,
          -0.28354679863705845,
          -0.3090516855326286,
          -0.09938257755935138,
          -0.19617195091671819,
          -0.1157963374129906,
          -0.10223126973391082,
          -0.0036320073620520893
         ],
         "xaxis": "x",
         "y": [
          -0.0032537982066308067,
          0.09717039659744328,
          0.03084826455611091,
          -0.05097730768187446,
          0.05956844899285686,
          0.04464672083541313,
          0.040645789568546226,
          0.07210167168795294,
          0.004569540417094113,
          0.054325988892117365,
          -0.03188236101634131,
          0.08603632038148847,
          0.10152581728213526,
          -0.048913579455923534,
          -0.03612954082470051,
          0.1741153589317555,
          0.1403293965671241,
          0.10334256453065196,
          0.1882769038414143,
          0.0011585524216944955,
          -0.09089985306642381,
          0.0666166289419387,
          0.0414832239478476,
          0.23103338958951564,
          0.1345556564417091,
          0.03170994454257097,
          -0.001738245772261388,
          0.1317647521168742,
          0.011951677576960577,
          -0.01688833023444225,
          0.024764722134330643,
          0.07002148190345243,
          0.25192129701343074,
          0.008763479833861729,
          -0.001694683800828976,
          -0.012707267354273835,
          0.11752362888901027,
          -0.010034217826313932,
          0.09465765879547373,
          0.09736257468054074,
          0.03338984281489037,
          0.09874130772035906,
          0.11701478783179053,
          0.11166543717424383,
          0.0011180242223021997,
          0.25521132920656436,
          0.03255456407447009,
          0.01133693258149222,
          0.10634789534057902,
          0.2759744579533799,
          0.056289544665182156,
          0.16195807756242958,
          0.08143468120793983,
          0.10318942473054507,
          0.12662436176513162,
          0.35144474784373175,
          0.033630112989611785,
          0.2753912761060482,
          0.04377312615837133,
          0.010722290909634783,
          0.060835082782505115,
          0.16419298942417918,
          0.0500438032075702,
          0.18953284480813956,
          -0.03367836867022932,
          0.004077741541046379,
          0.1435742328060814,
          0.181018661600741,
          0.09765678665722055,
          0.003067602618536615,
          0.038127272789209604,
          0.04319816917136595,
          0.030900710168848634,
          0.1791882012602968,
          0.08005021207011197,
          0.047897417497589245,
          0.2071537253727491,
          0.03247832453690051,
          0.031166210851085206,
          0.27049568455050943,
          0.06412695445956096,
          0.09528860328993924,
          0.2158450344988932,
          0.2721188038177325,
          0.11087040544643396,
          0.013420802036307414,
          0.11675919606170308,
          0.2468328113686397,
          0.342363153781773,
          0.17397172261710797,
          0.006417468205381176,
          0.07618460416948279,
          0.08081642875700552,
          0.19450237828877137,
          0.10063601698117423,
          -0.050794771579992085,
          0.1324607315562599,
          0.2293693354857445
         ],
         "yaxis": "y"
        },
        {
         "customdata": [
          [
           "Proposals for the classification of human rhinovirus species A, B and C into genotypically assigned types"
          ],
          [
           "Epidemiology"
          ],
          [
           "The role of rhinovirus infections in the development of early childhood asthma."
          ],
          [
           "Rhinovirus-induced bronchiolitis and asthma development."
          ],
          [
           "Association between human rhinovirus C and severity of acute asthma in children."
          ],
          [
           "Impact of Human Rhinovirus Types and Viral Load on the Severity of Illness in Hospitalized Children With Lower Respiratory Tract Infections."
          ],
          [
           "Rhinovirus and the initiation of asthma."
          ],
          [
           "Clinical spectrum of human rhinovirus infections in hospitalized Hong Kong children."
          ],
          [
           "Human rhinoviruses."
          ],
          [
           "Phosphatidylinositol 4-kinase III beta is essential for replication of human rhinovirus and its inhibition causes a lethal phenotype in vivo."
          ],
          [
           "Rhinoviral infection and asthma: the detection and management of rhinoviruses by airway epithelial cells."
          ],
          [
           "Clinical features and complete genome characterization of a distinct human rhinovirus (HRV) genetic cluster, probably representing a previously undetected HRV species, HRV-C, associated with acute respiratory illness in children."
          ],
          [
           "Asthma exacerbations in children associated with rhinovirus but not human metapneumovirus infection."
          ],
          [
           "Rhinoviruses significantly affect day-to-day respiratory symptoms of children with asthma"
          ],
          [
           "A novel group of rhinoviruses is associated with asthma hospitalizations"
          ],
          [
           "Viruses and atypical bacteria associated with asthma exacerbations in hospitalized children"
          ],
          [
           "All Known Human Rhinovirus Species Are Present in Sputum Specimens of Military Recruits During Respiratory Infection"
          ],
          [
           "Rhinovirus-Infected Epithelial Cells Produce More IL-8 and RANTES Compared With Other Respiratory Viruses"
          ],
          [
           "High prevalence of human rhinovirus C infection in Thai children with acute lower respiratory tract disease"
          ],
          [
           "Utility of animal and in vivo experimental infection of humans with rhinoviruses in the development of therapeutic agents for viral exacerbations of asthma and chronic obstructive pulmonary disease"
          ],
          [
           "Biological characteristics and propagation of human rhinovirus-C in differentiated sinus epithelial cells"
          ],
          [
           "Interactions of Respiratory Viruses and the Nasal Microbiota during the First Year of Life in Healthy Infants"
          ],
          [
           "Enteroviruses as major cause of microbiologically unexplained acute respiratory tract infections in hospitalized pediatric patients"
          ],
          [
           "Serotype and genetic diversity of human rhinovirus strains that circulated in Kenya in 2008"
          ],
          [
           "Molecular detection of respiratory pathogens and typing of human rhinovirus of adults hospitalized for exacerbation of asthma and chronic obstructive pulmonary disease"
          ],
          [
           "Presence of rhinovirus in the respiratory tract of adolescents and young adults with asthma without symptoms of infection"
          ],
          [
           "Novel Human Rhinoviruses and Exacerbation of Asthma in Children"
          ],
          [
           "Epidemiological analysis and follow‐up of human rhinovirus infection in children with asthma exacerbation"
          ],
          [
           "Community-Wide, Contemporaneous Circulation of a Broad Spectrum of Human Rhinoviruses in Healthy Australian Preschool-Aged Children During a 12-Month Period"
          ],
          [
           "Updates in the Relationship Between Human Rhinovirus and Asthma"
          ],
          [
           "Update on Human Rhinovirus and Coronavirus Infections"
          ],
          [
           "The human rhinovirus: human‐pathological impact, mechanisms of antirhinoviral agents, and strategies for their discovery"
          ],
          [
           "Rhinovirus chemotherapy"
          ],
          [
           "Human rhinovirus C: Age, season, and lower respiratory illness over the past 3 decades"
          ],
          [
           "Host factors and viral factors associated with severity of human rhinovirus infant respiratory illness"
          ],
          [
           "Clinical and epidemiological features of respiratory virus infections in preschool children over two consecutive influenza seasons in southern Brazil"
          ],
          [
           "Rhinovirus and the lower respiratory tract"
          ],
          [
           "Rhinoviruses"
          ],
          [
           "Molecular characterization and distinguishing features of a novel human rhinovirus (HRV) C, HRVC-QCE, detected in children with fever, cough and wheeze during 2003"
          ],
          [
           "Clinical characteristics and outcomes of human rhinovirus positivity in hospitalized children"
          ],
          [
           "Molecular Epidemiology of Human Rhinovirus in Children with Acute Respiratory Diseases in Chongqing, China"
          ],
          [
           "Human rhinovirus C: a newly discovered human rhinovirus species"
          ],
          [
           "Detection and characterization of respiratory viruses causing acute respiratory illness and asthma exacerbation in children during three different seasons (2011–2014) in Mexico City"
          ]
         ],
         "hovertemplate": "labels=1<br>pca_1=%{x}<br>pca_2=%{y}<br>title=%{customdata[0]}<extra></extra>",
         "legendgroup": "1",
         "marker": {
          "color": "#19d3f3",
          "symbol": "circle"
         },
         "mode": "markers",
         "name": "1",
         "showlegend": true,
         "type": "scattergl",
         "x": [
          0.00876657749447609,
          0.1353868447007091,
          0.14383725145416934,
          0.2169280284024063,
          0.26581544899882203,
          0.2617996232003498,
          0.16057093470722217,
          0.25168334902161604,
          0.07313097983945355,
          -0.09170966167857171,
          -0.09182895371288631,
          0.11425172656784559,
          0.188653924869948,
          0.1779890261635706,
          0.2106364346289071,
          0.2823482615215825,
          0.05240603209860768,
          -0.06447081462926357,
          0.21096376898038988,
          0.0009664027951397335,
          -0.03203440889322619,
          0.0648450079094012,
          0.16181111193514824,
          0.0906090608833107,
          0.1665651832117171,
          0.15652495460699573,
          0.06170743014579734,
          0.1688217870796179,
          0.11125112979277009,
          0.17366976331253722,
          0.09643642243294259,
          -0.09846158926341647,
          0.10312423169336057,
          0.21082023915779244,
          0.17028900981859962,
          0.25690506972894667,
          0.10284776463137327,
          0.025649659528370644,
          0.17324752641832783,
          0.21944004207139664,
          0.10618382804787342,
          0.10560682724145633,
          0.32792698579210866
         ],
         "xaxis": "x",
         "y": [
          -0.011166198872288757,
          0.13591949133556402,
          0.1763771558074985,
          0.026031121970552344,
          -0.02367331902688008,
          0.00021545876835539404,
          0.24539258076345674,
          -0.03807170818456427,
          0.08433962489734403,
          -0.019968806428360866,
          0.23116555225883736,
          -0.027724372253372195,
          -0.02498851975626916,
          -0.03240773431059739,
          -0.13916874219091857,
          -0.11577685251779492,
          -0.022315247192710785,
          0.09866189208115,
          -0.02793126298454935,
          0.20297258604203,
          -0.004363209981523191,
          0.0995004103301537,
          -0.09517617309422124,
          -0.0500934250044295,
          0.04731442112434919,
          -0.007130273387574934,
          0.016484735278260446,
          0.01658785515097731,
          0.028274776661303333,
          0.11623637610807783,
          0.1569292975573776,
          0.07559944009551817,
          0.1708508023929608,
          -0.042944153962623424,
          -0.024101557104770608,
          -0.013103616474773337,
          0.18690478464293891,
          0.09710500320301285,
          -0.05190676361143601,
          -0.11767646923955109,
          -0.018503542200496485,
          -0.02321506571560382,
          0.175631339252512
         ],
         "yaxis": "y"
        },
        {
         "customdata": [
          [
           "Genome Sequences of Rhinovirus C Isolates from Wisconsin Pediatric Respiratory Studies"
          ],
          [
           "Nasal Cytokine Profiles of Patients Hospitalised with Respiratory Wheeze Associated with Rhinovirus C"
          ],
          [
           "The wheezing infant"
          ],
          [
           "Characteristics and prognosis of hospital‐treated obstructive bronchitis in children aged less than two years"
          ],
          [
           "Special Considerations in Preschool Age"
          ],
          [
           "The Role of Influenza Vaccination in Asthmatic Children"
          ],
          [
           "Infections"
          ],
          [
           "Multiple Breath Washout for Diagnosing Asthma and Persistent Wheeze in Young Children."
          ],
          [
           "Bronchiolitis: age and previous wheezing episodes are linked to viral etiology and atopic characteristics."
          ],
          [
           "Wheezing rhinovirus illnesses in early life predict asthma development in high-risk children."
          ],
          [
           "Clinical characteristics of children infected with enterovirus D68 in an outpatient clinic and the association with bronchial asthma."
          ],
          [
           "Cadherin-related Family Member 3 Genetics and Rhinovirus C Respiratory Illnesses."
          ],
          [
           "Intravenous magnesium sulfate for acute wheezing in young children: a randomised double-blind trial."
          ],
          [
           "Febrile respiratory illnesses in infancy and atopy are risk factors for persistent asthma and wheeze."
          ],
          [
           "Recurrent wheezing illness in preschool-aged children: assessment and management in primary care practice."
          ],
          [
           "High risk of adult asthma following severe wheezing in early life."
          ],
          [
           "Altered exhaled biomarker profiles in children during and after rhinovirus-induced wheeze."
          ],
          [
           "Rhinovirus bronchiolitis and recurrent wheezing: 1-year follow-up."
          ],
          [
           "Rhinovirus infections in infancy and early childhood."
          ],
          [
           "Dynamics of the upper airway microbiome in the pathogenesis of asthma-associated persistent wheeze in preschool children"
          ],
          [
           "IL-13 genetic polymorphism identifies children with late wheezing after respiratory syncytial virus infection."
          ],
          [
           "Intermittent inhaled corticosteroids in infants with episodic wheezing."
          ],
          [
           "Association between renin-angiotensin system gene polymorphism and recurrent wheezing in Chinese children: a 4-year follow-up study."
          ],
          [
           "Recurrent wheezing 36 months after bronchiolitis is associated with rhinovirus infections and blood eosinophilia"
          ],
          [
           "Short- and long-term efficacy of prednisolone for first acute rhinovirus-induced wheezing episode"
          ],
          [
           "Rhinovirus-induced first wheezing episode predicts atopic but not nonatopic asthma at school age"
          ],
          [
           "The contributions of allergic sensitization and respiratory pathogens to asthma inception"
          ],
          [
           "Decreased lung function after preschool wheezing rhinovirus illnesses in children at risk to develop asthma"
          ],
          [
           "Role of viral infections in the development and exacerbation of asthma in children"
          ],
          [
           "High Titers of IgE Antibody to Dust Mite Allergen and the Risk for Wheezing Among Asthmatic Children Infected with Rhinovirus"
          ],
          [
           "Prevalence of rhinoviruses in young children of an unselected birth cohort from the Netherlands"
          ],
          [
           "The relevance of allergen exposure to the development of asthma in childhood()()()"
          ],
          [
           "32 Special Considerations for Infants and Young Children"
          ],
          [
           "The first wheezing episode: respiratory virus etiology, atopic characteristics, and illness severity"
          ],
          [
           "Rhinovirus-induced wheezing in infancy—the first sign of childhood asthma?()()"
          ],
          [
           "Prednisolone for the first rhinovirus‐induced wheezing and 4‐year asthma risk: A randomized trial"
          ],
          [
           "Wheezing exacerbations in early childhood: evaluation, treatment, and recent advances relevant to the genesis of asthma"
          ],
          [
           "Duration of wheezy episodes in early childhood is independent of the microbial trigger"
          ],
          [
           "Beyond Respiratory Syncytial Virus and Rhinovirus in the Pathogenesis and Exacerbation of Asthma: The Role of Metapneumovirus, Bocavirus and Influenza Virus"
          ],
          [
           "Early-life respiratory viral infections, atopic sensitization, and risk of subsequent development of persistent asthma"
          ],
          [
           "Risk factors for wheezing in a subtropical environment(): Role of respiratory viruses and allergen sensitization"
          ],
          [
           "Wheezing in preschool children()"
          ],
          [
           "The effect of respiratory syncytial virus on subsequent recurrent wheezing in atopic and nonatopic children"
          ],
          [
           "Objectives, design and enrollment results from the Infant Susceptibility to Pulmonary Infections and Asthma Following RSV Exposure Study (INSPIRE)"
          ],
          [
           "Atopic characteristics of wheezing children and responses to prednisolone"
          ],
          [
           "Teenage asthma after severe early childhood wheezing: An 11‐year prospective follow‐up"
          ],
          [
           "The role of respiratory virus infections in childhood asthma inception"
          ],
          [
           "Wheezing due to rhinovirus infection in infancy: Bronchial hyperresponsiveness at school age"
          ],
          [
           "Rhinitis, Asthma and Respiratory Infections among Adults in Relation to the Home Environment in Multi-Family Buildings in Sweden"
          ],
          [
           "Early life rhinovirus wheezing, allergic sensitization, and asthma risk at adolescence"
          ],
          [
           "Rhinoviruses, Allergic Inflammation, and Asthma"
          ],
          [
           "Clinical risk factors associated with the development of wheezing in children less than 2 years of age who required hospitalization for viral lower respiratory tract infections"
          ],
          [
           "Genetic polymorphisms and risk of recurrent wheezing in pediatric age"
          ],
          [
           "The association of viral and bacterial respiratory infections with exacerbations of wheezing in young asthmatic children"
          ],
          [
           "The Wheezing Illnesses Study Leidsche Rijn (WHISTLER): Rationale and Design"
          ],
          [
           "The role of respiratory tract infections and the microbiome in the development of asthma: A narrative review"
          ],
          [
           "Association of bacteria and viruses with wheezy episodes in young children: prospective birth cohort study"
          ],
          [
           "Prednisolone reduces recurrent wheezing after a first wheezing episode associated with rhinovirus infection or eczema"
          ],
          [
           "Systemic T-helper and T-regulatory cell type cytokine responses in rhinovirus vs. respiratory syncytial virus induced early wheezing: an observational study"
          ],
          [
           "Viral-Induced Wheeze and Asthma Development"
          ],
          [
           "Prednisolone reduces recurrent wheezing after first rhinovirus wheeze: a 7‐year follow‐up"
          ],
          [
           "Pulmonary function and bronchial reactivity 4 years after the first virus-induced wheezing"
          ],
          [
           "Dynamics of airway microbiota identify a critical window for interplay of pathogenic bacteria and allergic sensitization in childhood respiratory disease"
          ],
          [
           "Allergic sensitization is associated with rhinovirus‐, but not other virus‐, induced wheezing in children"
          ],
          [
           "Viral respiratory infections and the oropharyngeal bacterial microbiota in acutely wheezing children"
          ]
         ],
         "hovertemplate": "labels=8<br>pca_1=%{x}<br>pca_2=%{y}<br>title=%{customdata[0]}<extra></extra>",
         "legendgroup": "8",
         "marker": {
          "color": "#FF6692",
          "symbol": "circle"
         },
         "mode": "markers",
         "name": "8",
         "showlegend": true,
         "type": "scattergl",
         "x": [
          0.03175638294666081,
          0.12815581060989978,
          0.16785135072931878,
          0.21554471816337475,
          0.18701531047248526,
          0.05086425670037783,
          0.1639386274843313,
          0.09105075137591265,
          0.2603756489153322,
          0.301778727149876,
          0.3242319425820452,
          0.12793115118058634,
          0.10312418825898598,
          0.21122061241864137,
          0.04501426944264943,
          0.10804312212262447,
          0.1744512717953255,
          0.2506810844347491,
          0.152515802178682,
          0.07132106154459465,
          0.1662385788783033,
          0.09423417702871213,
          0.09929686830115472,
          0.2908694397085366,
          0.17431906950564663,
          0.1868243077966201,
          0.04521431139532313,
          0.22698620596181351,
          0.23859476955700767,
          0.17094864938142262,
          0.2805250208652188,
          0.023786317009888015,
          0.0835403953521198,
          0.284075906717319,
          0.24626881304397483,
          0.13117555903323175,
          0.12738577519245897,
          0.0902235386578287,
          0.3386804951500199,
          0.2572584098143127,
          0.2751946237769753,
          0.15509029690268927,
          0.16073629239034526,
          0.22140046866657825,
          0.06155841333764678,
          0.2526591083552108,
          0.313926833023949,
          0.08635459404137903,
          0.0766245368530137,
          0.20981535235401982,
          0.2371922385439837,
          0.19206067927373194,
          0.1618468181275075,
          0.33748788493627385,
          0.046588391871520224,
          0.058693594064705666,
          0.17468357700825105,
          0.2341080364399306,
          0.14361151372448644,
          0.192556878514511,
          0.22420409978780753,
          0.21347633566412003,
          0.07132106154459465,
          0.14797653659834006,
          0.17305544367138442
         ],
         "xaxis": "x",
         "y": [
          -0.03704660568966602,
          0.004133635451495003,
          -0.0018637523890687388,
          -0.11318630581870934,
          -0.011191283586362444,
          0.011104068173924828,
          0.22604265810945834,
          -0.19536646853236603,
          -0.07118082377671345,
          0.07950763409987713,
          -0.06453354451611586,
          0.024724984848424666,
          -0.13429249147427558,
          0.03447024731124329,
          -0.13485022072066993,
          -0.12580462617680138,
          -0.11377878223604145,
          -0.08099245045934181,
          0.1740811095439389,
          0.05837877771654239,
          -0.02288862881198593,
          -0.15743223960589856,
          -0.12399916817886535,
          -0.0635723933234572,
          -0.18733757347659513,
          -0.09267362206769081,
          0.09712004390682717,
          -0.01063967700826703,
          0.15458722715612827,
          -0.07361049293788491,
          0.02966370949194185,
          0.06317013194392826,
          -0.09049140014554113,
          0.012654013406523952,
          0.06448669043630119,
          -0.16144520522442862,
          -0.0398131776467658,
          0.013806719397933057,
          0.20213414697984997,
          0.044652839134567225,
          -0.04183765332441003,
          -0.10605591701795354,
          -0.05995404982776127,
          0.0771223946283402,
          -0.15892526827114714,
          -0.03441306136072725,
          0.1898185960328772,
          -0.05554547100793163,
          -0.12107609934257155,
          -0.02877193777624115,
          0.2290817204633564,
          -0.09201203891968152,
          -0.11230862805567639,
          0.14624837774446478,
          -0.051412451085701395,
          0.14118466943436722,
          -0.04105460957539716,
          -0.12410691007436746,
          -0.0015874863238808552,
          0.12263254590749548,
          -0.10241485336461983,
          -0.11210249539209825,
          0.05837877771654239,
          -0.025001051621848826,
          0.013651501627713527
         ],
         "yaxis": "y"
        },
        {
         "customdata": [
          [
           "Interferon Gene Expression in Sputum Cells Correlates with the Asthma Index Score During Virus-Induced Exacerbations"
          ],
          [
           "Procalcitonin guidance for reduction of antibiotic use in patients hospitalized with severe acute exacerbations of asthma: a randomized controlled study with 12-month follow-up"
          ],
          [
           "Pulmonary inflammation and cytokine dynamics of bronchoalveolar lavage fluid from a mouse model of bronchial asthma during A(H1N1)pdm09 influenza infection"
          ],
          [
           "Critically ill obstetric patients in an American and an Indian public hospital: comparison of case-mix, organ dysfunction, intensive care requirements, and outcomes"
          ],
          [
           "Clinical characteristics of adult patients with influenza-like illness hospitalized in general ward during Influenza A H1N1 pandemic 2009/2010"
          ],
          [
           "IL-8 Gene Variants and Expression in Childhood Asthma"
          ],
          [
           "Time Trends of Th1 and Th2 Cytokines in Induced Sputum of Asthmatic Subjects During Acute Upper Respiratory Viral Infections"
          ],
          [
           "Decreased FEV (1)% in asthmatic adults in Scottish homes with high Environmental Relative Moldiness Index values"
          ],
          [
           "The effect of inhaled and intranasal sodium cromoglyeate on symptoms of upper respiratory tract infections"
          ],
          [
           "Amplified rhinovirus colds in atopic subjects"
          ],
          [
           "Effect of experimental rhinovirus 16 colds on airway hyperresponsiveness to histamine and interleukin‐8 in nasal lavage in asthmatic subjects in vivo"
          ],
          [
           "Urinary club cell protein 16 (CC16): Utility of its assay during acute bronchiolitis"
          ],
          [
           "Influence of bronchoalveolar lavage on thoracic radiography in the horse."
          ],
          [
           "[Time trends of Th1 and th2 cytokines in induced sputum of asthmatic subjects during acute upper respiratory viral infections]."
          ],
          [
           "Neuroendocrine cell hyperplasia of infancy: a prospective follow-up of nine children."
          ],
          [
           "Exhaled breath temperature increases during mild exacerbations in children with virus-induced asthma."
          ],
          [
           "Most commonly isolated viruses in asthma exacerbation and their correlation with eosinophil and total serum immunoglobulin E levels."
          ],
          [
           "Immunological effects among workers who handle engineered nanoparticles."
          ],
          [
           "Long-term improvements in pulmonary function 5 years after bariatric surgery."
          ],
          [
           "The impact of viral respiratory infection on the severity and recovery from an asthma exacerbation."
          ],
          [
           "Dynamic Respiratory Tortuosity of the Vertebral Artery Ostium."
          ],
          [
           "Impact of viral infection on acute exacerbation of asthma in out-patient clinics: a prospective study."
          ],
          [
           "Montelukast as an episodic modifier for acute viral bronchiolitis: a randomized trial."
          ],
          [
           "Asthma medication usage is significantly reduced following bariatric surgery."
          ],
          [
           "Clinical and computed tomographic predictors of chronic bronchitis in COPD: a cross sectional analysis of the COPDGene study."
          ],
          [
           "Olfactory dysfunction and asthma as risk factors for poor quality of life in upper airway diseases."
          ],
          [
           "Rhinovirus is associated with severe asthma exacerbations and raised nasal interleukin-12."
          ],
          [
           "A model of viral wheeze in nonasthmatic adults: symptoms and physiology."
          ],
          [
           "Increased nitric oxide in exhaled air of normal human subjects with upper respiratory tract infections."
          ],
          [
           "Cough receptor sensitivity in children with acute and non-acute asthma."
          ],
          [
           "IP-10 Is Elevated in Virus-Induced Acute Exacerbations in Childhood Asthma."
          ],
          [
           "Experimental rhinovirus infection in volunteers."
          ],
          [
           "Relationship between exhaled nitric oxide and airway hyperresponsiveness following experimental rhinovirus infection in asthmatic subjects."
          ],
          [
           "Montelukast reduces asthma exacerbations in 2- to 5-year-old children with intermittent asthma."
          ],
          [
           "Neutrophil degranulation and cell lysis is associated with clinical severity in virus-induced asthma."
          ],
          [
           "Respiratory viruses and exacerbations of asthma in adults."
          ],
          [
           "A case-control study of the role of cold symptoms and other historical triggering factors in asthma exacerbations."
          ],
          [
           "[Effect of 1-year specific immunotherapy with standardized house dust mite vaccine on mild to moderate allergic asthmatic patients]."
          ],
          [
           "Pathogenic bacteria and viruses in induced sputum or pharyngeal secretions of adults with stable asthma."
          ],
          [
           "Synergism between allergens and viruses and risk of hospital admission with asthma: case-control study."
          ],
          [
           "Asthma and natural colds. Inflammatory indices in induced sputum: a feasibility study."
          ],
          [
           "Aberrant expression of CC and CXC chemokines and their receptors in patients with asthma."
          ],
          [
           "CXC chemokines and antimicrobial peptides in rhinovirus‐induced experimental asthma exacerbations"
          ],
          [
           "Measuring the Severity of Respiratory Illness in the First 2 Years of Life in Preterm and Term Infants"
          ],
          [
           "A Prospective Study of Respiratory Viral Infection in Pregnant Women With and Without Asthma"
          ],
          [
           "Montelukast Reduces Serum Levels of Eosinophil-Derived Neurotoxin in Preschool Asthma"
          ],
          [
           "Effectiveness of non-pharmaceutical measures in preventing pediatric influenza: a case–control study"
          ],
          [
           "Virus detection and cytokine profile in relation to age among acute exacerbations of childhood asthma"
          ],
          [
           "Chlamydia pneumoniae and Exacerbations of Asthma in Adults"
          ],
          [
           "Common cold decreases lung function in infants with recurrent wheezing"
          ],
          [
           "Anti‐bacterial IgE in the antibody responses of house dust mite allergic children convalescent from asthma exacerbation"
          ],
          [
           "Airway Interleukin-33 and type 2 cytokines in adult patients with acute asthma"
          ],
          [
           "The relation of innate and adaptive immunity with viral-induced acute asthma attacks: Focusing on IP-10 and cathelicidin"
          ],
          [
           "Psychosocial factors, respiratory viruses and exacerbation of asthma"
          ],
          [
           "Persistent Airway Obstruction After Virus Infection Is Not Associated With Airway Inflammation"
          ],
          [
           "Mannose‐binding lectin cord blood levels and respiratory symptoms during infancy: a prospective birth cohort study"
          ],
          [
           "Epidemiology and clinical outcome of virus-positive respiratory samples in ventilated patients: a prospective cohort study"
          ],
          [
           "Assessment of airflow limitation, airway inflammation, and symptoms during virus-induced wheezing episodes in 4- to 6-year-old children"
          ],
          [
           "A randomized open-label trial on the use of budesonide/formoterol (Symbicort(®)) as an alternative reliever medication for mild to moderate asthmatic attacks"
          ],
          [
           "Airway and serum biochemical correlates of refractory neutrophilic asthma"
          ],
          [
           "Clinical characteristics of eosinophilic asthma exacerbations"
          ],
          [
           "Serial Changes in Serum Eosinophil-associated Mediators between Atopic and Non-atopic Children after Mycoplasma pneumoniae pneumonia"
          ],
          [
           "Serum soluble receptor for advanced glycation end‐products during acute bronchiolitis in infant: Prospective study in 93 cases"
          ],
          [
           "Nebulized magnesium for moderate and severe pediatric asthma: A randomized trial"
          ],
          [
           "Plasminogen activator inhibitor-1 in sputum and nasal fluids increases in asthmatics during common colds"
          ],
          [
           "Duration of postviral airway hyperresponsiveness in children with asthma: Effect of atopy"
          ],
          [
           "IFN-γ–induced protein 10 is a novel biomarker of rhinovirus-induced asthma exacerbations"
          ],
          [
           "Prenatal maternal distress associates with a blunted cortisol response in rhinovirus-positive infants"
          ],
          [
           "Incidence and risk factors of lower respiratory tract illnesses during infancy in a Mediterranean birth cohort"
          ],
          [
           "Characteristics associated with clinical severity and inflammatory phenotype of naturally occurring virus-induced exacerbations of asthma in adults"
          ],
          [
           "Serum IgG Concentrations in Adult Patients Experiencing Virus-Induced Severe Asthma Exacerbations"
          ],
          [
           "Efficacy of cineole in patients suffering from acute bronchitis: a placebo-controlled double-blind trial"
          ],
          [
           "β(2)-Adrenergic receptor promoter haplotype influences the severity of acute viral respiratory tract infection during infancy: a prospective cohort study"
          ],
          [
           "Validity of the Common Cold Questionnaire (CCQ) in Asthma Exacerbations"
          ],
          [
           "The Effect of Viral Infection on Exhaled Nitric Oxide in Children with Acute Asthma Exacerbations"
          ],
          [
           "Functional Fcgamma Receptor Polymorphisms Are Associated with Human Allergy"
          ],
          [
           "IV Magnesium Sulfate for Bronchiolitis A Randomized Trial"
          ],
          [
           "High fractional exhaled nitric oxide and sputum eosinophils are associated with an increased risk of future virus‐induced exacerbations: A prospective cohort study"
          ],
          [
           "Neonatal bronchial hyperresponsiveness precedes acute severe viral bronchiolitis in infants"
          ],
          [
           "Viral Loads and Duration of Viral Shedding in Adult Patients Hospitalized with Influenza"
          ],
          [
           "Respiratory viral infections in pregnant women with asthma are associated with wheezing in the first 12 months of life"
          ]
         ],
         "hovertemplate": "labels=0<br>pca_1=%{x}<br>pca_2=%{y}<br>title=%{customdata[0]}<extra></extra>",
         "legendgroup": "0",
         "marker": {
          "color": "#B6E880",
          "symbol": "circle"
         },
         "mode": "markers",
         "name": "0",
         "showlegend": true,
         "type": "scattergl",
         "x": [
          -0.008883248268245228,
          0.033915231586149966,
          -0.04372231002836357,
          0.02820303361966027,
          0.11535230658928705,
          0.026566790631122293,
          0.07596617014165451,
          -0.05242037942885849,
          0.0006763337766167912,
          -0.029922398513194934,
          -0.01643357283572678,
          0.056990811593555,
          -0.05608775502580712,
          0.09018246502979738,
          -0.05102048624986353,
          0.08789344252559567,
          0.1550119516486503,
          -0.14288810202114477,
          -0.0360252951218956,
          0.2289100811422267,
          0.0018124755240383518,
          0.16731472031121847,
          0.062077137047413036,
          1.110226467796252e-05,
          -0.05539612036575907,
          -0.016530336893176102,
          0.06573492188461971,
          0.10757613530381985,
          -0.009268819808330811,
          0.05126680973253508,
          0.02490043229439003,
          -0.02638218239380079,
          -0.06346353510545602,
          0.061047075026429275,
          0.025405868565996678,
          0.17148983576545612,
          0.10491492346016634,
          0.0022438698689257568,
          0.09239752640662999,
          0.13832865540740416,
          -0.008326722919703242,
          -0.046983157145347454,
          -0.05585006045343377,
          0.12083231711690393,
          0.021562041844685992,
          0.020752792602263075,
          0.04334216346198231,
          0.09962731252239276,
          0.10163477411052566,
          -0.028132851095807283,
          -0.017963745572680646,
          -0.07973712608191477,
          0.021922285728342445,
          0.07921143943337508,
          -0.07988530980957749,
          0.11263984975588905,
          0.10724238249428586,
          0.050288658710988296,
          -0.009688338707053438,
          -0.09030581558430381,
          0.03649168738014723,
          -0.002835282048318847,
          0.1252302238264554,
          -0.014936227777440598,
          -0.11355619998309431,
          0.08655928607776897,
          -0.040005427008864766,
          0.024230523116485426,
          0.10156710751461995,
          -0.05254375414261141,
          0.09360485707918442,
          -0.024056273879533217,
          0.05812063724918026,
          0.0380450370258134,
          0.03912333968253661,
          -0.04078134275346124,
          0.09315709821685103,
          0.03650027699804599,
          0.15482933146146546,
          0.05293896582019771,
          0.14162561776964736
         ],
         "xaxis": "x",
         "y": [
          0.0955833682681375,
          -0.2117868907208159,
          -0.015561616943428563,
          -0.23393070617849043,
          -0.2443918136308912,
          -0.09015071482065141,
          0.0911104128106712,
          -0.18349152107294803,
          -0.16926716542372566,
          -0.012961731561096762,
          -0.05072711892324348,
          -0.121375252763329,
          -0.15761318705690228,
          0.10264408861617183,
          -0.014361005135103992,
          -0.05253061008337,
          0.019624190169042,
          -0.12077062971911268,
          -0.21082681918401058,
          -0.02865564065854398,
          -0.18196935759263472,
          -0.09762376695890362,
          -0.22817341017409862,
          -0.25200434591308685,
          -0.145321341214151,
          -0.20895392050115455,
          -0.09678676936542348,
          0.009130897190163086,
          0.03351166984116515,
          -0.10932790849702348,
          0.01214180833743981,
          0.06033431681090991,
          -0.046181466152098165,
          -0.15819975550220108,
          0.0714229884766849,
          0.020867383475104168,
          -0.09285332310480043,
          -0.24977229291172814,
          -0.05863718086233462,
          -0.12354863243346338,
          0.04144393371867186,
          -0.14394544124864503,
          -0.02534076526617051,
          -0.029189148501249616,
          -0.05024764799041105,
          -0.20736107214122784,
          -0.1851296225246071,
          -0.05438869749242778,
          -0.12063352666371269,
          -0.03510759757887453,
          0.008203676837490147,
          0.05571439868904511,
          -0.12601536581629352,
          0.0015244752349544283,
          0.0389511119304271,
          -0.06770779706532659,
          -0.13837753148607626,
          -0.13129241518815482,
          -0.19815019272092205,
          -0.11050398774192197,
          -0.07812962467412322,
          -0.16283206949229873,
          -0.11714976122176327,
          -0.23701272056093453,
          -0.0574393077907102,
          -0.04885543590949995,
          0.01119618175886365,
          -0.08645473795987042,
          -0.09665087951564223,
          0.03254553677785772,
          -0.12297811735300399,
          -0.2383942024707219,
          -0.01359232720015726,
          0.02144232219071227,
          -0.06733497521707543,
          -0.0681337529287692,
          -0.28402200804775224,
          0.05472711273746045,
          -0.02715995495688018,
          -0.07701748162106045,
          0.022264480848086517
         ],
         "yaxis": "y"
        },
        {
         "customdata": [
          [
           "The Importance of Bacterial and Viral Infections Associated with Adult Asthma Exacerbations in Clinical Practice"
          ],
          [
           "Prevalence and molecular characterizations of enterovirus D68 among children with acute respiratory infection in China between 2012 and 2014"
          ],
          [
           "Human bocavirus in children with respiratory tract infection in Shanghai: a retrospective study"
          ],
          [
           "The Contribution of Respiratory Viruses to Severe Exacerbations of Asthma in Adults"
          ],
          [
           "Greater frequency of viral respiratory infections in asthmatic children as compared with their nonasthmatic siblings()"
          ],
          [
           "Virale Atemwegsinfektionen bei Erwachsenen : Eine Übersicht"
          ],
          [
           "The Prevalence of Common Respiratory Viruses in Human Lungs"
          ],
          [
           "Molecular detection of rhinoviruses."
          ],
          [
           "Detection of enterovirus 68 as one of the commonest types of enterovirus found in patients with acute respiratory tract infection in China."
          ],
          [
           "Association of rhinovirus with exacerbations in young children affected by cystic fibrosis: Preliminary data."
          ],
          [
           "[Evaluation of Seeplex RV detection kit for detecting rhinovirus, human metapneumovirus, and coronavirus]."
          ],
          [
           "Clinical and epidemiologic characteristics of human bocavirus in Danish infants: results from a prospective birth cohort study."
          ],
          [
           "[Detection of respiratory viruses--how, when, where and why?]."
          ],
          [
           "Viral causes of acute respiratory infection among Egyptian children hospitalized with severe acute asthma exacerbation."
          ],
          [
           "New respiratory viral infections."
          ],
          [
           "Serial viral infections in infants with recurrent respiratory illnesses."
          ],
          [
           "Respiratory viruses in exacerbations of non-cystic fibrosis bronchiectasis in children."
          ],
          [
           "Active Surveillance of Influenza A and Other Respiratory Viruses in Children with Influenza-like-illness in Two Seasons."
          ],
          [
           "Evaluation of respiratory viral pathogens in acute asthma exacerbations during childhood."
          ],
          [
           "Prolonged shedding of rhinovirus and re-infection in adults with respiratory tract illness."
          ],
          [
           "New developments in the epidemiology and clinical spectrum of rhinovirus infections."
          ],
          [
           "The epidemiology and aetiology of infections in children admitted with clinical severe pneumonia to a university hospital in Rabat, Morocco."
          ],
          [
           "The viral aetiology of croup and recurrent croup."
          ],
          [
           "[New respiratory viruses in children 2 months to 3 years old with recurrent wheeze]."
          ],
          [
           "[Virological surveillance of acute respiratory tract illnesses of children in Morioka, Japan. I. Epidemiological patterns of infection with respiratory viruses over a 10-year period]."
          ],
          [
           "Prevalence of respiratory viruses in wheezing children not older than 24 months of age."
          ],
          [
           "First detected human bocavirus in a Malaysian child with pneumonia and pre-existing asthma: a case report."
          ],
          [
           "[First detection of human metapneumovirus in a child with respiratory syndrome in Hungary]."
          ],
          [
           "Acute exacerbations of asthma in adults: role of Chlamydia pneumoniae infection."
          ],
          [
           "Respiratory tract viral infections in inner-city asthmatic adults."
          ],
          [
           "High-throughput, sensitive, and accurate multiplex PCR-microsphere flow cytometry system for large-scale comprehensive detection of respiratory viruses."
          ],
          [
           "Virus-provoked rhinitis in patients who have allergies."
          ],
          [
           "Respiratory viral and Mycoplasma infections in patients hospitalized for acute asthma."
          ],
          [
           "PCR detection of viral nucleic acid in fatal asthma: is the lower respiratory tract a reservoir for common viruses?"
          ],
          [
           "Human bocavirus in Italian patients with respiratory diseases."
          ],
          [
           "Coronavirus HKU1 and other coronavirus infections in Hong Kong."
          ],
          [
           "An investigation into respiratory tract viruses in children with acute lower respiratory tract infection or wheezing."
          ],
          [
           "Interleukin-11: stimulation in vivo and in vitro by respiratory viruses and induction of airways hyperresponsiveness."
          ],
          [
           "CAUSATIVE AGENTS OF SEVERE COMMUNITY ACQUIRED VIRAL PNEUMONIA AMONG CHILDREN IN EASTERN THAILAND."
          ],
          [
           "Use of polymerase chain reaction for detection of adenovirus in children with or without wheezing."
          ],
          [
           "Epidemiological and clinical features of enteroviral acute lower respiratory tract infections in hospitalized paediatric patients in a Malaysian tertiary center."
          ],
          [
           "Development and application of an enzyme immunoassay for coronavirus OC43 antibody in acute respiratory illness."
          ],
          [
           "Epidemiology of coronavirus-associated respiratory tract infections and the role of rapid diagnostic tests: a prospective study."
          ],
          [
           "Role of viruses and atypical bacteria in asthma exacerbations among children in Oporto (Portugal)."
          ],
          [
           "Current challenges in lower respiratory infections in children."
          ],
          [
           "Rhinovirus infection in hospitalized children in Hong Kong: a prospective study."
          ],
          [
           "Antiviral IFN-γ responses of monocytes at birth predict respiratory tract illness in the first year of life"
          ],
          [
           "Atypical presentation of human bocavirus: Severe respiratory tract infection complicated with encephalopathy"
          ],
          [
           "Épidémiologie de l'infection virale et asthme"
          ],
          [
           "Persistence of Viruses in Upper Respiratory Tract of Children with Asthma"
          ],
          [
           "Detection of viral, Chlamydia pneumoniae and Mycoplasma pneumoniae infections in exacerbations of asthma in children"
          ],
          [
           "Epidemic and molecular evolution of human bocavirus in hospitalized children with acute respiratory tract infection"
          ],
          [
           "Dual RNA-seq reveals viral infections in asthmatic children without respiratory illness which are associated with changes in the airway transcriptome"
          ],
          [
           "Prevalence of viral respiratory tract infections in children with asthma"
          ],
          [
           "Human Coronavirus Infection among Children with Acute Lower Respiratory Tract Infection in Thailand"
          ],
          [
           "Role of viruses and atypical bacteria in exacerbations of asthma in hospitalized children: A prospective study in the Nord‐Pas de Calais region (France)"
          ],
          [
           "Detection of human bocavirus in hospitalised children"
          ],
          [
           "Prevalence of Respiratory Viral Infections in Korean Adult Asthmatics With Acute Exacerbations: Comparison With Those With Stable State"
          ],
          [
           "Weekly Monitoring of Children with Asthma for Infections and Illness During Common Cold Seasons"
          ],
          [
           "Cytokine Responses in the Common Cold and Otitis Media"
          ],
          [
           "Persistence of rhinovirus RNA and IP‐10 gene expression after acute asthma"
          ],
          [
           "Comparison of the Etiology of Viral Respiratory Illnesses in Inner-City and Suburban Infants"
          ],
          [
           "VIRUSES OF THE LUNG"
          ],
          [
           "Impact of community respiratory viral infections in urban children with asthma"
          ],
          [
           "Is respiratory viral infection really an important trigger of asthma exacerbations in children?"
          ],
          [
           "Nasal cytokine responses to natural colds in asthmatic children"
          ],
          [
           "Clinical differences between respiratory viral and bacterial mono- and dual pathogen detected among Singapore military servicemen with febrile respiratory illness"
          ],
          [
           "Association of specific viral infections with childhood asthma exacerbations"
          ],
          [
           "Characterisation of winter respiratory viral infections in patients with asthma and COPD in Qatar"
          ],
          [
           "Burden of respiratory viruses in patients with acute respiratory failure"
          ],
          [
           "New Respiratory Viruses and the Elderly"
          ],
          [
           "Rhinovirus et infections respiratoires aiguës de l’enfant hospitalisé. Étude rétrospective de 1998 à 2000"
          ],
          [
           "Altered eosinophil levels as a result of viral infection in asthma exacerbation in childhood"
          ],
          [
           "The Role of Human Parainfluenza Virus Infections in the Immunopathology of the Respiratory Tract"
          ],
          [
           "Multi‐season analyses of causative pathogens in children hospitalized with asthma exacerbation"
          ],
          [
           "Airborne rhinovirus detection and effect of ultraviolet irradiation on detection by a semi-nested RT-PCR assay"
          ],
          [
           "Regional, age and respiratory-secretion-specific prevalence of respiratory viruses associated with asthma exacerbation: a literature review"
          ],
          [
           "Enhanced severity of virus associated lower respiratory tract disease in asthma patients may not be associated with delayed viral clearance and increased viral load in the upper respiratory tract"
          ],
          [
           "The association between seasonal asthma exacerbations and viral respiratory infections in a pediatric population receiving inhaled corticosteroid therapy with or without long-acting beta-adrenoceptor agonist: A randomized study()"
          ],
          [
           "Viral and bacterial infection in acute asthma and chronic obstructive pulmonary disease increases the risk of readmission"
          ],
          [
           "Repeated virus identification in the airways of patients with mild and severe asthma during prospective follow‐up"
          ],
          [
           "Dual Respiratory Virus Infections"
          ],
          [
           "Detection and typing by molecular techniques of respiratory viruses in children hospitalized for acute respiratory infection in Rome, Italy"
          ],
          [
           "Lethal Respiratory Disease Associated with Human Rhinovirus C in Wild Chimpanzees, Uganda, 2013"
          ],
          [
           "Use of induced sputum for the diagnosis of influenza and infections in asthma: a comparison of diagnostic techniques"
          ],
          [
           "Distribution and seasonality of rhinovirus and other respiratory viruses in a cross-section of asthmatic children in Trinidad, West Indies"
          ],
          [
           "Is chronic rhinosinusitis caused by persistent respiratory virus infection?, ,"
          ],
          [
           "In young children, persistent wheezing is associated with bronchial bacterial infection: a retrospective analysis"
          ],
          [
           "Respiratory Viruses and Torque Teno Virus in Adults with Acute Respiratory Infections"
          ],
          [
           "Respiratory viral infection in lower airways of asymptomatic children"
          ],
          [
           "Multiplex Molecular Detection of Respiratory Pathogens in Children With Asthma Exacerbation"
          ],
          [
           "Viral and Atypical Bacterial Detection in Acute Respiratory Infection in Children Under Five Years"
          ],
          [
           "Personal exposure to nitrogen dioxide (NO(2)) and the severity of virus-induced asthma in children"
          ],
          [
           "Infections and coinfections by respiratory human bocavirus during eight seasons in hospitalized children"
          ],
          [
           "Nasopharyngeal isolates and their clinical impact on young children with asthma: a pilot study"
          ],
          [
           "Mechanisms of viral impact on asthma exacerbations"
          ],
          [
           "Improved detection of rhinoviruses in nasal and throat swabs by seminested RT‐PCR"
          ],
          [
           "Pan-Viral Screening of Respiratory Tract Infections in Adults With and Without Asthma Reveals Unexpected Human Coronavirus and Human Rhinovirus Diversity"
          ],
          [
           "Human bocavirus in children hospitalized for acute respiratory tract infection in Rome"
          ],
          [
           "Adults hospitalised with acute respiratory illness rarely have detectable bacteria in the absence of COPD or pneumonia; viral infection predominates in a large prospective UK sample"
          ],
          [
           "Use of MMP‐8 and MMP‐9 to assess disease severity in children with viral lower respiratory tract infections"
          ],
          [
           "Virological and clinical characterizations of respiratory infections in hospitalized children"
          ],
          [
           "Impact of point-of-care testing for respiratory viruses on antibiotic use in adults with exacerbation of airways disease"
          ],
          [
           "PreDicta chip-based high resolution diagnosis of rhinovirus-induced wheeze"
          ],
          [
           "Rhinovirus-C detection in children presenting with acute respiratory infection to hospital in Brazil"
          ],
          [
           "Eight Year Prospective Study of Adenoviruses Infections in Hospitalized Children. Comparison with Other Respiratory Viruses"
          ],
          [
           "The molecular epidemiology of respiratory viruses associated with asthma attacks: A single-center observational study in Japan"
          ]
         ],
         "hovertemplate": "labels=2<br>pca_1=%{x}<br>pca_2=%{y}<br>title=%{customdata[0]}<extra></extra>",
         "legendgroup": "2",
         "marker": {
          "color": "#FF97FF",
          "symbol": "circle"
         },
         "mode": "markers",
         "name": "2",
         "showlegend": true,
         "type": "scattergl",
         "x": [
          0.1501940478028229,
          0.24013634363109593,
          0.1350483386714264,
          0.18379617467939244,
          0.0949521102951581,
          0.03735893385489256,
          0.057867488479000286,
          0.0390420580016035,
          0.11387651462545834,
          0.11967523499707676,
          0.2136706710525921,
          0.1790378803226561,
          0.07321695036873929,
          0.34609463095636783,
          0.19518239923650305,
          0.20294913159095332,
          0.1986842643991657,
          0.27456788862269227,
          0.3304274702345194,
          0.13851818256993412,
          0.15355305652257256,
          0.1809451601596987,
          0.057070212244798045,
          0.3426932981076879,
          0.14479343802670627,
          0.32836043435694884,
          0.09559621331659013,
          0.1075241711321676,
          0.13438794289506953,
          0.19594217907648853,
          0.1741833898329388,
          0.09165070504718403,
          0.1319810584644229,
          0.08488565950215729,
          0.12256499314029695,
          0.20598547255013971,
          0.2677449011820833,
          0.06330871842733386,
          0.2876061529045029,
          0.20475975960400966,
          0.15500821877633675,
          0.0454863696307305,
          0.1775043779750409,
          0.22440912982947342,
          0.18915984378171996,
          0.3225768300439658,
          0.17136552748378953,
          0.16283416972721892,
          0.2245504033665229,
          0.12303211000467343,
          0.25790571048453764,
          0.07467587114095972,
          0.008981856956305545,
          0.3066084504260859,
          0.18890455864396183,
          0.3100047745119343,
          0.26308947635773233,
          0.23430789191086768,
          0.28680688035582547,
          -0.015173189250114627,
          0.1127774024737195,
          0.17702896228388587,
          0.023450179433893444,
          0.10785108124090247,
          0.22147982814844175,
          0.09053493910008634,
          0.11140236073727405,
          0.328519851130165,
          0.158908126151198,
          0.062468397647042276,
          0.17173386214936615,
          0.27232420282542125,
          0.2152245354082064,
          0.11489765980226756,
          0.23845365338730817,
          0.034536338959202204,
          0.143418114061913,
          0.16951585089973914,
          0.12376101858170328,
          0.12215894409749592,
          0.1676594399375323,
          0.19985148500052488,
          0.2801545985019597,
          0.04562384083968485,
          0.13385805733436082,
          0.27372011949139285,
          0.13127552128220563,
          0.027567777410396423,
          0.2801697562064006,
          0.151578893743542,
          0.3503141325093077,
          0.292824258497967,
          0.1347350765102083,
          0.22809474176921524,
          0.21512618730948221,
          0.19973061893739935,
          0.08160289317889714,
          0.12744336715949595,
          0.28660558096030014,
          0.19176826414766798,
          0.02798582118986552,
          0.3090436556464243,
          0.06539590831813677,
          0.043976848044352736,
          0.17504309062037907,
          0.2825220643743775,
          0.12990795691800636
         ],
         "xaxis": "x",
         "y": [
          0.07981141616625853,
          -0.013660568618165772,
          -0.07541861676615341,
          0.0975104764595851,
          -0.00022328534360209137,
          0.12793302818430635,
          0.07417560420938377,
          0.0972403011663456,
          -0.025558788524928953,
          0.01822720664012918,
          -0.022672009402992976,
          -0.10332753810750318,
          0.11005123623143996,
          0.05802851338055855,
          0.19485755087937925,
          0.04069017714884887,
          0.09127912256464066,
          -0.10725909434975647,
          0.17080301650324475,
          -0.014485813317732703,
          0.178969123432474,
          -0.06242120766704211,
          -0.06268661249072485,
          -0.013548746351913887,
          -0.07645372212405613,
          0.008842324782715794,
          -0.01907054405942427,
          -0.0001955327136948246,
          -0.0036276977596586667,
          0.06533066241661183,
          0.04455817741110653,
          0.21914518245188747,
          0.09011945329787081,
          0.042559335412993206,
          -0.09784764417196322,
          0.06213092562769305,
          0.022876307848587907,
          0.2011960440768434,
          -0.04511265590249419,
          -0.0022248330960828594,
          0.005755713044140528,
          -0.02177832586645313,
          0.07395287680600324,
          0.03228203332037689,
          0.14656248135362718,
          0.04420571190744908,
          0.1562678989818471,
          -0.10838703888926857,
          0.11921540816445435,
          -0.02341467185923218,
          -0.005957215195352382,
          -0.09016241726767456,
          0.1799726131625588,
          0.08042048839926706,
          -0.03818931589508927,
          0.03607226601780581,
          -0.05677416947353581,
          0.10424256834105348,
          0.09352150743889763,
          0.08787183639026179,
          0.16714260717029486,
          0.07758612322321679,
          0.14163046384776273,
          0.03442291681897708,
          0.059360381157512424,
          0.07304809451342287,
          -0.08821790930298778,
          0.10190952098867714,
          0.10230822603508072,
          -0.023182596758279807,
          0.17485170014754797,
          0.009867930508518582,
          0.0020055979885079296,
          0.27491986739678154,
          0.12886719897789714,
          -0.011597458801570176,
          0.1649057186847991,
          0.22709733987051023,
          -0.025926188845877385,
          0.06429053124846783,
          -0.04369850950166481,
          0.043107935718468944,
          0.08084633612969322,
          0.05560572001457278,
          0.024167634487603833,
          0.011602622251901501,
          0.12367473115448172,
          -0.05983355654700942,
          0.07694554766512614,
          0.01847270757872897,
          0.17610388051477596,
          -0.004926476003012707,
          0.07686177418409443,
          -0.03442103539008182,
          0.038853743971665876,
          0.07542178608945121,
          0.001246521567064604,
          0.08259807731128911,
          -0.03522309403841474,
          -0.05025989879531937,
          0.11781786395927366,
          -0.0008574494674925479,
          -0.047553374490486064,
          0.07128833142911757,
          -0.016467298716634667,
          0.0486952826690751,
          -0.07061760057254746
         ],
         "yaxis": "y"
        },
        {
         "customdata": [
          [
           "The impact of respiratory viruses on lung health after preterm birth"
          ],
          [
           "Transcriptome networks identify mechanisms of viral and nonviral asthma exacerbations in children"
          ],
          [
           "Asthma exacerbation related to viral infections: An up to date summary"
          ],
          [
           "Understanding the mechanisms of viral induced asthma: New therapeutic directions"
          ],
          [
           "THE ROLE OF RESPIRATORY VIRUSES IN ACUTE AND CHRONIC ASTHMA"
          ],
          [
           "Respiratory illness caused by picornavirus infection: a review of clinical outcomes"
          ],
          [
           "Asthma and Microbes: A New Paradigm"
          ],
          [
           "VIRUS-INDUCED WHEEZING IN CHILDREN: Respiratory Syncytial Virus (RSV) and Rhinovirus"
          ],
          [
           "LOWER RESPIRATORY TRACT INFECTIONS IN ELDERLY PATIENTS WITH ASTHMA"
          ],
          [
           "Antibiotics"
          ],
          [
           "Infections"
          ],
          [
           "Exacerbation of asthma and airway infection: is the virus the villain?()()"
          ],
          [
           "The role of viral infections in exacerbations of chronic obstructive pulmonary disease and asthma."
          ],
          [
           "Viruses and non-allergen environmental triggers in asthma."
          ],
          [
           "Viral respiratory infection and the link to asthma."
          ],
          [
           "The exacerbation component of impairment and risk in pediatric asthma."
          ],
          [
           "Pharmacotherapy for lower respiratory tract infections."
          ],
          [
           "Respiratory viral infections in infants: causes, clinical symptoms, virology, and immunology."
          ],
          [
           "Microbes and asthma: the missing cellular and molecular links."
          ],
          [
           "Genetics and epidemiology: asthma and infection."
          ],
          [
           "Management of bacterial infections in children with asthma."
          ],
          [
           "Early-life viral infections and the development of asthma: a target for asthma prevention?"
          ],
          [
           "Role of infection in the development and exacerbation of asthma."
          ],
          [
           "Allergens and bacteria interaction in the induction of basophil activation: is this the lost ring between allergy and infections in pediatric patients?"
          ],
          [
           "Genome-virome interactions: examining the role of common viral infections in complex disease."
          ],
          [
           "Virus/Allergen Interaction in Asthma Exacerbation."
          ],
          [
           "Viral infections and asthma: an inflammatory interface?"
          ],
          [
           "Childhood asthma and infection: virus-induced exacerbations as determinants and modifiers."
          ],
          [
           "Dual mechanism of action of T2 inhibitor therapies in virally induced exacerbations of asthma: evidence for a beneficial counter-regulation."
          ],
          [
           "Targeting Vitamin D Deficiency to Limit Exacerbations in Respiratory Diseases: Utopia or Strategy With Potential?"
          ],
          [
           "Respiratory viruses in childhood asthma."
          ],
          [
           "Infections and asthma."
          ],
          [
           "Human rhinoviruses, allergy, and asthma: a clinical approach."
          ],
          [
           "Allergens, viruses, and asthma exacerbations."
          ],
          [
           "Mycoplasma pneumoniae and its role in asthma."
          ],
          [
           "Viral infections in obstructive airway diseases."
          ],
          [
           "Respiratory viruses and asthma."
          ],
          [
           "Asthma exacerbations . 3: Pathogenesis."
          ],
          [
           "Viral respiratory tract infection and exacerbations of asthma in adult patients."
          ],
          [
           "Viruses in asthma exacerbations."
          ],
          [
           "Respiratory viruses and atypical bacteria triggering severe asthma exacerbation in children."
          ],
          [
           "Asthma and viruses: is there a relationship?"
          ],
          [
           "Infecção na modulaçâo da asma 1 1 Trabalho apresentado no XXIII Congresso de Pneumologia da SPP – Guarda, Novembro 2007 / Paper presented at the XXIII Congresso de Pneumologia da SPP / PSP Pulmonology Congress, Guarda, November 2007"
          ],
          [
           "Epidemiology of virus-induced asthma exacerbations: with special reference to the role of human rhinovirus"
          ],
          [
           "Infection-mediated asthma: etiology, mechanisms and treatment options, with focus on Chlamydia pneumoniae and macrolides"
          ],
          [
           "Cough and viruses in airways disease: Mechanisms"
          ],
          [
           "Infectious triggers of asthma"
          ],
          [
           "Respiratory Viruses and Asthma"
          ],
          [
           "Impact of Host Genetics and Biological Response Modifiers on Respiratory Tract Infections"
          ],
          [
           "Viral infections in allergy and immunology: How allergic inflammation influences viral infections and illness"
          ],
          [
           "Assessing the Exacerbations Risk of Influenza‐Associated Chronic Occupational Asthma"
          ],
          [
           "EAACI position statement on asthma exacerbations and severe asthma"
          ],
          [
           "The infectious march: the complex interaction between microbes and the immune system in asthma"
          ],
          [
           "Respiratory virus-induced heterologous immunity: Part of the problem or part of the solution?"
          ],
          [
           "Paediatric Virology and its interaction between basic science and clinical practice (Review)"
          ],
          [
           "Effects of Atypical Infections with Mycoplasma and Chlamydia on Asthma"
          ],
          [
           "Molecular and cellular mechanisms in the viral exacerbation of asthma"
          ],
          [
           "Viruses and Asthma"
          ],
          [
           "Neonatal Immunity, Respiratory Virus Infections, and the Development of Asthma"
          ],
          [
           "Contribution of Fcγ Receptor-Mediated Immunity to the Pathogenesis Caused by the Human Respiratory Syncytial Virus"
          ],
          [
           "Sinus Infections, Inflammation, and Asthma"
          ],
          [
           "Small Animal Models of Respiratory Viral Infection Related to Asthma"
          ],
          [
           "Virus infections, wheeze and asthma"
          ],
          [
           "Virus/Allergen Interactions and Exacerbations of Asthma"
          ],
          [
           "Novel concepts in virally induced asthma"
          ],
          [
           "Are non‐allergenic environmental factors important in asthma?"
          ],
          [
           "Prenatal and childhood infections: implications for the development and treatment of childhood asthma"
          ],
          [
           "Acute Exacerbations of Asthma: Epidemiology, Biology and the Exacerbation-Prone Phenotype"
          ],
          [
           "The Impact of Respiratory Viral Infection on Wheezing Illnesses and Asthma Exacerbations"
          ],
          [
           "Infections and Their Role in Childhood Asthma Inception"
          ],
          [
           "Viral-associated exacerbations of asthma and COPD"
          ],
          [
           "Viral diversity in asthma: Immunology and Allergy Clinics of North America: Asthma and Infectious Disease"
          ],
          [
           "The Role of Viral Respiratory Infections in Asthma and Asthma Exacerbations"
          ],
          [
           "6. Asthma: Factors underlying inception, exacerbation, and disease progression"
          ],
          [
           "Interactions micro-organismes et voies aériennes distales : spécificités pédiatriques"
          ],
          [
           "Asthma Exacerbations: Pathogenesis, Prevention, and Treatment"
          ],
          [
           "Viral Respiratory Infections and Asthma: the Course Ahead"
          ],
          [
           "New treatment regimes for virus-induced exacerbations of asthma"
          ],
          [
           "Respiratory infections and asthma"
          ],
          [
           "Rhinoviruses"
          ],
          [
           "Relationship of viral infections to wheezing illnesses and asthma"
          ],
          [
           "Chapter 37 Infections"
          ],
          [
           "What is the role of virus vaccination in patients with asthma?"
          ],
          [
           "Viral Infections and Associated Factors That Promote Acute Exacerbations of Asthma"
          ],
          [
           "How Viral Infections Cause Exacerbation of Airway Diseases"
          ],
          [
           "Asthma exacerbations: Origin, effect, and prevention"
          ],
          [
           "Asthma Exacerbation in Children: A Practical Review"
          ],
          [
           "Acute Exacerbations of COPD"
          ],
          [
           "Upper airway viral infections"
          ],
          [
           "Respiratory viral infections in children with asthma: do they matter and can we prevent them?"
          ],
          [
           "Molecular epidemiology of respiratory viruses in virus-induced asthma"
          ],
          [
           "Detection of human coronavirus strain HKU1 in a 2 years old girl with asthma exacerbation caused by acute pharyngitis"
          ],
          [
           "Asthma and viral infections An intricate relationship"
          ],
          [
           "Viruses and bacteria in acute asthma exacerbations – A GA(2)LEN‐DARE systematic review"
          ],
          [
           "The role of viruses in the induction and progression of asthma"
          ],
          [
           "Inflammation and infections in asthma"
          ],
          [
           "Exacerbation of asthma and airway infection: is the virus the villain?"
          ],
          [
           "Response to infections in persons with asthma and atopic disease: epiphenomenon or reflection of host susceptibility"
          ],
          [
           "Anti-viral agents: potential utility in exacerbations of asthma"
          ],
          [
           "Antimicrobial Therapy in Childhood Asthma and Wheezing"
          ],
          [
           "Association between respiratory infections in early life and later asthma is independent of virus type"
          ],
          [
           "Antiviral therapeutic approaches for human rhinovirus infections"
          ],
          [
           "The microbiology of asthma"
          ],
          [
           "Rhinovirus-Induced Exacerbations of Asthma and COPD"
          ],
          [
           "Asthma: Clinical Expression and Molecular Mechanisms"
          ],
          [
           "Virus-induced modulation of lower airway diseases: Pathogenesis and pharmacologic approaches to treatment"
          ],
          [
           "Respiratory virus-induced heterologous immunity: Part of the problem or part of the solution?"
          ],
          [
           "The role of viruses in acute exacerbations of asthma"
          ],
          [
           "Acute Severe Asthma in Adolescent and Adult Patients: Current Perspectives on Assessment and Management"
          ],
          [
           "Rhinovirus infections: induction and modulation of airways inflammation in asthma"
          ],
          [
           "The role of viruses in the development and exacerbation of atopic disease"
          ],
          [
           "Viruses exacerbating chronic pulmonary disease: the role of immune modulation"
          ],
          [
           "The Impact of Ambient Environmental Exposures to Microbial Products on Asthma Outcomes from Birth to Childhood"
          ],
          [
           "Virus-induced exacerbations in asthma and COPD"
          ],
          [
           "Asthma risk factors"
          ],
          [
           "Advances in the treatment of virus-induced asthma"
          ],
          [
           "Exacerbations of chronic respiratory diseases"
          ],
          [
           "The potential of anti‐infectives and immunomodulators as therapies for asthma and asthma exacerbations"
          ],
          [
           "The role of infection in asthma"
          ],
          [
           "Collectivités : lieu de rencontre virale"
          ],
          [
           "Viruses in asthma: The role of viruses in childhood respiratory infections"
          ],
          [
           "Mechanisms of virus‐induced asthma exacerbations: state‐of‐the‐art. A GA(2)LEN and InterAirways document"
          ]
         ],
         "hovertemplate": "labels=6<br>pca_1=%{x}<br>pca_2=%{y}<br>title=%{customdata[0]}<extra></extra>",
         "legendgroup": "6",
         "marker": {
          "color": "#FECB52",
          "symbol": "circle"
         },
         "mode": "markers",
         "name": "6",
         "showlegend": true,
         "type": "scattergl",
         "x": [
          0.0038364414285010466,
          -0.1290847583290975,
          -0.05935928382277045,
          -0.016078576421265024,
          0.11652253633402021,
          0.04651402041816499,
          -0.029622731269609622,
          0.15941336081800478,
          -0.015031527107978065,
          -0.06978388335601733,
          -0.07002727604600625,
          0.1686372493785616,
          -0.0964392804989637,
          -0.045262731396703386,
          0.14483537661660406,
          -0.030658872133126357,
          -0.04796339752596049,
          0.10564196703047982,
          -0.12280454460897389,
          0.10871579634634101,
          0.1776730103838539,
          0.035608390533652765,
          0.11545412471554753,
          -0.05175833892605529,
          -0.11668189881870855,
          -0.035224792244090086,
          -0.08240737539967342,
          -0.011185529135439961,
          -0.15886677519281092,
          -0.05542511661603585,
          0.03372362867978089,
          0.18150073698063451,
          -0.003918922039312071,
          -0.05083228867637088,
          -0.033404022092777826,
          -0.10107871054577265,
          -0.002249209229568727,
          -0.13193208533519524,
          0.20281512367361068,
          0.08875774013412213,
          0.2240829611169772,
          0.09445087097562546,
          -0.08837576186532078,
          0.02112779735905431,
          -0.004605379546608671,
          -0.0686123433785277,
          -0.022669350402471956,
          -0.023573489961693034,
          -0.07774436962513853,
          -0.02364930571555306,
          0.0050176483629272095,
          -0.005793962236710741,
          -0.02500806419981983,
          -0.06356995931511229,
          0.025804447495131617,
          -0.03214878835893506,
          -0.11428789720860892,
          0.05737523952446394,
          -0.061298121719370366,
          -0.07800523233287844,
          -0.0950319021602209,
          0.02489143528923615,
          0.01989014793422952,
          -0.030449348671430697,
          0.02241290018938171,
          -0.006582000292573542,
          0.02880972569813074,
          -0.05412919169883213,
          0.25506119062291494,
          0.052055799943272474,
          -0.10484437414936501,
          0.07415711870085226,
          0.11090434202989455,
          -0.0578141563317125,
          0.1425663271638714,
          0.009807430636848892,
          -0.037496143202027654,
          -0.0929570255077381,
          -0.007119680957788945,
          -0.00802365066730225,
          0.10319342382227761,
          -0.10400386852749478,
          0.01606403396797924,
          0.03725722924306414,
          -0.09299451944230999,
          -0.0015341411465844678,
          0.07209184378222311,
          -0.0449983986089807,
          -0.12983273623993116,
          0.002221184848127792,
          0.14979873414409636,
          0.09411317014807602,
          0.096859252708416,
          0.06471190691606431,
          0.0071800005933610744,
          -0.07834589497497425,
          0.16587875787179787,
          0.035578106615962266,
          0.005032570213395175,
          0.03733584529690158,
          0.1985809453603671,
          -0.06082100193315667,
          0.04398989363630796,
          -0.07635895393065553,
          -0.0538030243070626,
          -0.047352638358402956,
          -0.06356995931511229,
          -0.0804979440449512,
          0.00393764439064799,
          -0.07522123541502211,
          0.00713820813079645,
          -0.12799051031406983,
          -0.025294490876167842,
          0.0020057955396901375,
          -0.050943146687411234,
          -0.06215245780139918,
          -0.033403648037640364,
          -0.07716329608022524,
          -0.08837576186532078,
          0.054863922075693926,
          0.117623180125263,
          -0.13738559703869227
         ],
         "xaxis": "x",
         "y": [
          0.14818263942040252,
          0.1551147605943337,
          0.1483668449405222,
          0.31912440944197756,
          0.2425965272634738,
          0.10113462820258919,
          0.1486820461769807,
          0.23801586124840257,
          0.12215093817853544,
          0.08145229017125263,
          0.20708465399196896,
          0.2991585235259837,
          0.17475250310832624,
          0.11705339709368408,
          0.26067571243563453,
          0.09091746865157005,
          0.0584523332455613,
          0.3059466045031646,
          0.10397622228854637,
          0.39182031385151705,
          0.22495456633835081,
          0.1986465757582449,
          0.2471690711251889,
          0.10403947150296888,
          0.13530194567434323,
          0.24285293725059262,
          0.15684575208689808,
          0.1977321431032184,
          0.09819843924792315,
          0.048539126067952854,
          0.25268677449860827,
          0.2572007928087455,
          0.32437258194654406,
          0.1886391191453462,
          0.01154701624530137,
          0.17385514913564887,
          0.2148665886054644,
          0.2713069312851482,
          0.21681796207114507,
          0.32067866344461904,
          0.15066975201701144,
          0.3298331757030187,
          0.18134266109435992,
          0.10483304562368978,
          0.1944055738332219,
          0.1723128851122975,
          0.13364081425673222,
          0.24283604083972044,
          0.11175864043211518,
          0.23363957439176875,
          0.06378450283737558,
          0.12454033994358303,
          0.14240047569702471,
          0.23301883250376015,
          0.088358089903076,
          0.08639652796473953,
          0.27312283663741505,
          0.27435386603283224,
          0.10433340087242542,
          0.3060146712794524,
          0.1279740898797586,
          0.34083232195430957,
          0.21994426927763755,
          0.2257292728034458,
          0.30456388096291315,
          0.06448822979114716,
          0.22984312217920522,
          0.16150135120818387,
          0.24284431132779025,
          0.17306227328914192,
          0.1998560432273495,
          0.16917932232319338,
          0.31900505733722984,
          0.08228750546607701,
          0.11948082762582242,
          0.06946098652222137,
          0.11880781693815681,
          0.12049223976046419,
          0.24614384166926942,
          0.16832923089943824,
          0.3211403222512322,
          0.20151682416494932,
          0.019247173032806,
          0.27760059555111993,
          0.22389894994334683,
          0.14837826327552275,
          0.09865391694834905,
          0.04777007215798236,
          0.10892230837523742,
          0.10202322392946853,
          0.29747800348005365,
          0.12038914804646111,
          0.26161341944554967,
          0.09738885248565375,
          0.24014481572234497,
          0.1801545307180031,
          0.29578767383218696,
          0.28045369703749445,
          0.2815107016992247,
          0.03196632712343875,
          0.21007873274866506,
          0.0942010060684392,
          0.2357530436129043,
          0.3063270247222528,
          0.07649245314497788,
          0.3337964622332874,
          0.23301883250376015,
          0.24684896540621218,
          0.007536371562917345,
          0.30257179198775386,
          0.17927083728331122,
          0.26892845426255846,
          0.03953096173969242,
          0.19683182778260241,
          0.04394542860434693,
          0.0793029542866193,
          0.2963678031980366,
          0.05543343590388057,
          0.18134266109435992,
          0.11591761711749479,
          0.23554981465647626,
          0.33751970228109374
         ],
         "yaxis": "y"
        }
       ],
       "layout": {
        "legend": {
         "title": {
          "text": "labels"
         },
         "tracegroupgap": 0
        },
        "margin": {
         "t": 60
        },
        "template": {
         "data": {
          "bar": [
           {
            "error_x": {
             "color": "#2a3f5f"
            },
            "error_y": {
             "color": "#2a3f5f"
            },
            "marker": {
             "line": {
              "color": "#E5ECF6",
              "width": 0.5
             }
            },
            "type": "bar"
           }
          ],
          "barpolar": [
           {
            "marker": {
             "line": {
              "color": "#E5ECF6",
              "width": 0.5
             }
            },
            "type": "barpolar"
           }
          ],
          "carpet": [
           {
            "aaxis": {
             "endlinecolor": "#2a3f5f",
             "gridcolor": "white",
             "linecolor": "white",
             "minorgridcolor": "white",
             "startlinecolor": "#2a3f5f"
            },
            "baxis": {
             "endlinecolor": "#2a3f5f",
             "gridcolor": "white",
             "linecolor": "white",
             "minorgridcolor": "white",
             "startlinecolor": "#2a3f5f"
            },
            "type": "carpet"
           }
          ],
          "choropleth": [
           {
            "colorbar": {
             "outlinewidth": 0,
             "ticks": ""
            },
            "type": "choropleth"
           }
          ],
          "contour": [
           {
            "colorbar": {
             "outlinewidth": 0,
             "ticks": ""
            },
            "colorscale": [
             [
              0,
              "#0d0887"
             ],
             [
              0.1111111111111111,
              "#46039f"
             ],
             [
              0.2222222222222222,
              "#7201a8"
             ],
             [
              0.3333333333333333,
              "#9c179e"
             ],
             [
              0.4444444444444444,
              "#bd3786"
             ],
             [
              0.5555555555555556,
              "#d8576b"
             ],
             [
              0.6666666666666666,
              "#ed7953"
             ],
             [
              0.7777777777777778,
              "#fb9f3a"
             ],
             [
              0.8888888888888888,
              "#fdca26"
             ],
             [
              1,
              "#f0f921"
             ]
            ],
            "type": "contour"
           }
          ],
          "contourcarpet": [
           {
            "colorbar": {
             "outlinewidth": 0,
             "ticks": ""
            },
            "type": "contourcarpet"
           }
          ],
          "heatmap": [
           {
            "colorbar": {
             "outlinewidth": 0,
             "ticks": ""
            },
            "colorscale": [
             [
              0,
              "#0d0887"
             ],
             [
              0.1111111111111111,
              "#46039f"
             ],
             [
              0.2222222222222222,
              "#7201a8"
             ],
             [
              0.3333333333333333,
              "#9c179e"
             ],
             [
              0.4444444444444444,
              "#bd3786"
             ],
             [
              0.5555555555555556,
              "#d8576b"
             ],
             [
              0.6666666666666666,
              "#ed7953"
             ],
             [
              0.7777777777777778,
              "#fb9f3a"
             ],
             [
              0.8888888888888888,
              "#fdca26"
             ],
             [
              1,
              "#f0f921"
             ]
            ],
            "type": "heatmap"
           }
          ],
          "heatmapgl": [
           {
            "colorbar": {
             "outlinewidth": 0,
             "ticks": ""
            },
            "colorscale": [
             [
              0,
              "#0d0887"
             ],
             [
              0.1111111111111111,
              "#46039f"
             ],
             [
              0.2222222222222222,
              "#7201a8"
             ],
             [
              0.3333333333333333,
              "#9c179e"
             ],
             [
              0.4444444444444444,
              "#bd3786"
             ],
             [
              0.5555555555555556,
              "#d8576b"
             ],
             [
              0.6666666666666666,
              "#ed7953"
             ],
             [
              0.7777777777777778,
              "#fb9f3a"
             ],
             [
              0.8888888888888888,
              "#fdca26"
             ],
             [
              1,
              "#f0f921"
             ]
            ],
            "type": "heatmapgl"
           }
          ],
          "histogram": [
           {
            "marker": {
             "colorbar": {
              "outlinewidth": 0,
              "ticks": ""
             }
            },
            "type": "histogram"
           }
          ],
          "histogram2d": [
           {
            "colorbar": {
             "outlinewidth": 0,
             "ticks": ""
            },
            "colorscale": [
             [
              0,
              "#0d0887"
             ],
             [
              0.1111111111111111,
              "#46039f"
             ],
             [
              0.2222222222222222,
              "#7201a8"
             ],
             [
              0.3333333333333333,
              "#9c179e"
             ],
             [
              0.4444444444444444,
              "#bd3786"
             ],
             [
              0.5555555555555556,
              "#d8576b"
             ],
             [
              0.6666666666666666,
              "#ed7953"
             ],
             [
              0.7777777777777778,
              "#fb9f3a"
             ],
             [
              0.8888888888888888,
              "#fdca26"
             ],
             [
              1,
              "#f0f921"
             ]
            ],
            "type": "histogram2d"
           }
          ],
          "histogram2dcontour": [
           {
            "colorbar": {
             "outlinewidth": 0,
             "ticks": ""
            },
            "colorscale": [
             [
              0,
              "#0d0887"
             ],
             [
              0.1111111111111111,
              "#46039f"
             ],
             [
              0.2222222222222222,
              "#7201a8"
             ],
             [
              0.3333333333333333,
              "#9c179e"
             ],
             [
              0.4444444444444444,
              "#bd3786"
             ],
             [
              0.5555555555555556,
              "#d8576b"
             ],
             [
              0.6666666666666666,
              "#ed7953"
             ],
             [
              0.7777777777777778,
              "#fb9f3a"
             ],
             [
              0.8888888888888888,
              "#fdca26"
             ],
             [
              1,
              "#f0f921"
             ]
            ],
            "type": "histogram2dcontour"
           }
          ],
          "mesh3d": [
           {
            "colorbar": {
             "outlinewidth": 0,
             "ticks": ""
            },
            "type": "mesh3d"
           }
          ],
          "parcoords": [
           {
            "line": {
             "colorbar": {
              "outlinewidth": 0,
              "ticks": ""
             }
            },
            "type": "parcoords"
           }
          ],
          "pie": [
           {
            "automargin": true,
            "type": "pie"
           }
          ],
          "scatter": [
           {
            "marker": {
             "colorbar": {
              "outlinewidth": 0,
              "ticks": ""
             }
            },
            "type": "scatter"
           }
          ],
          "scatter3d": [
           {
            "line": {
             "colorbar": {
              "outlinewidth": 0,
              "ticks": ""
             }
            },
            "marker": {
             "colorbar": {
              "outlinewidth": 0,
              "ticks": ""
             }
            },
            "type": "scatter3d"
           }
          ],
          "scattercarpet": [
           {
            "marker": {
             "colorbar": {
              "outlinewidth": 0,
              "ticks": ""
             }
            },
            "type": "scattercarpet"
           }
          ],
          "scattergeo": [
           {
            "marker": {
             "colorbar": {
              "outlinewidth": 0,
              "ticks": ""
             }
            },
            "type": "scattergeo"
           }
          ],
          "scattergl": [
           {
            "marker": {
             "colorbar": {
              "outlinewidth": 0,
              "ticks": ""
             }
            },
            "type": "scattergl"
           }
          ],
          "scattermapbox": [
           {
            "marker": {
             "colorbar": {
              "outlinewidth": 0,
              "ticks": ""
             }
            },
            "type": "scattermapbox"
           }
          ],
          "scatterpolar": [
           {
            "marker": {
             "colorbar": {
              "outlinewidth": 0,
              "ticks": ""
             }
            },
            "type": "scatterpolar"
           }
          ],
          "scatterpolargl": [
           {
            "marker": {
             "colorbar": {
              "outlinewidth": 0,
              "ticks": ""
             }
            },
            "type": "scatterpolargl"
           }
          ],
          "scatterternary": [
           {
            "marker": {
             "colorbar": {
              "outlinewidth": 0,
              "ticks": ""
             }
            },
            "type": "scatterternary"
           }
          ],
          "surface": [
           {
            "colorbar": {
             "outlinewidth": 0,
             "ticks": ""
            },
            "colorscale": [
             [
              0,
              "#0d0887"
             ],
             [
              0.1111111111111111,
              "#46039f"
             ],
             [
              0.2222222222222222,
              "#7201a8"
             ],
             [
              0.3333333333333333,
              "#9c179e"
             ],
             [
              0.4444444444444444,
              "#bd3786"
             ],
             [
              0.5555555555555556,
              "#d8576b"
             ],
             [
              0.6666666666666666,
              "#ed7953"
             ],
             [
              0.7777777777777778,
              "#fb9f3a"
             ],
             [
              0.8888888888888888,
              "#fdca26"
             ],
             [
              1,
              "#f0f921"
             ]
            ],
            "type": "surface"
           }
          ],
          "table": [
           {
            "cells": {
             "fill": {
              "color": "#EBF0F8"
             },
             "line": {
              "color": "white"
             }
            },
            "header": {
             "fill": {
              "color": "#C8D4E3"
             },
             "line": {
              "color": "white"
             }
            },
            "type": "table"
           }
          ]
         },
         "layout": {
          "annotationdefaults": {
           "arrowcolor": "#2a3f5f",
           "arrowhead": 0,
           "arrowwidth": 1
          },
          "coloraxis": {
           "colorbar": {
            "outlinewidth": 0,
            "ticks": ""
           }
          },
          "colorscale": {
           "diverging": [
            [
             0,
             "#8e0152"
            ],
            [
             0.1,
             "#c51b7d"
            ],
            [
             0.2,
             "#de77ae"
            ],
            [
             0.3,
             "#f1b6da"
            ],
            [
             0.4,
             "#fde0ef"
            ],
            [
             0.5,
             "#f7f7f7"
            ],
            [
             0.6,
             "#e6f5d0"
            ],
            [
             0.7,
             "#b8e186"
            ],
            [
             0.8,
             "#7fbc41"
            ],
            [
             0.9,
             "#4d9221"
            ],
            [
             1,
             "#276419"
            ]
           ],
           "sequential": [
            [
             0,
             "#0d0887"
            ],
            [
             0.1111111111111111,
             "#46039f"
            ],
            [
             0.2222222222222222,
             "#7201a8"
            ],
            [
             0.3333333333333333,
             "#9c179e"
            ],
            [
             0.4444444444444444,
             "#bd3786"
            ],
            [
             0.5555555555555556,
             "#d8576b"
            ],
            [
             0.6666666666666666,
             "#ed7953"
            ],
            [
             0.7777777777777778,
             "#fb9f3a"
            ],
            [
             0.8888888888888888,
             "#fdca26"
            ],
            [
             1,
             "#f0f921"
            ]
           ],
           "sequentialminus": [
            [
             0,
             "#0d0887"
            ],
            [
             0.1111111111111111,
             "#46039f"
            ],
            [
             0.2222222222222222,
             "#7201a8"
            ],
            [
             0.3333333333333333,
             "#9c179e"
            ],
            [
             0.4444444444444444,
             "#bd3786"
            ],
            [
             0.5555555555555556,
             "#d8576b"
            ],
            [
             0.6666666666666666,
             "#ed7953"
            ],
            [
             0.7777777777777778,
             "#fb9f3a"
            ],
            [
             0.8888888888888888,
             "#fdca26"
            ],
            [
             1,
             "#f0f921"
            ]
           ]
          },
          "colorway": [
           "#636efa",
           "#EF553B",
           "#00cc96",
           "#ab63fa",
           "#FFA15A",
           "#19d3f3",
           "#FF6692",
           "#B6E880",
           "#FF97FF",
           "#FECB52"
          ],
          "font": {
           "color": "#2a3f5f"
          },
          "geo": {
           "bgcolor": "white",
           "lakecolor": "white",
           "landcolor": "#E5ECF6",
           "showlakes": true,
           "showland": true,
           "subunitcolor": "white"
          },
          "hoverlabel": {
           "align": "left"
          },
          "hovermode": "closest",
          "mapbox": {
           "style": "light"
          },
          "paper_bgcolor": "white",
          "plot_bgcolor": "#E5ECF6",
          "polar": {
           "angularaxis": {
            "gridcolor": "white",
            "linecolor": "white",
            "ticks": ""
           },
           "bgcolor": "#E5ECF6",
           "radialaxis": {
            "gridcolor": "white",
            "linecolor": "white",
            "ticks": ""
           }
          },
          "scene": {
           "xaxis": {
            "backgroundcolor": "#E5ECF6",
            "gridcolor": "white",
            "gridwidth": 2,
            "linecolor": "white",
            "showbackground": true,
            "ticks": "",
            "zerolinecolor": "white"
           },
           "yaxis": {
            "backgroundcolor": "#E5ECF6",
            "gridcolor": "white",
            "gridwidth": 2,
            "linecolor": "white",
            "showbackground": true,
            "ticks": "",
            "zerolinecolor": "white"
           },
           "zaxis": {
            "backgroundcolor": "#E5ECF6",
            "gridcolor": "white",
            "gridwidth": 2,
            "linecolor": "white",
            "showbackground": true,
            "ticks": "",
            "zerolinecolor": "white"
           }
          },
          "shapedefaults": {
           "line": {
            "color": "#2a3f5f"
           }
          },
          "ternary": {
           "aaxis": {
            "gridcolor": "white",
            "linecolor": "white",
            "ticks": ""
           },
           "baxis": {
            "gridcolor": "white",
            "linecolor": "white",
            "ticks": ""
           },
           "bgcolor": "#E5ECF6",
           "caxis": {
            "gridcolor": "white",
            "linecolor": "white",
            "ticks": ""
           }
          },
          "title": {
           "x": 0.05
          },
          "xaxis": {
           "automargin": true,
           "gridcolor": "white",
           "linecolor": "white",
           "ticks": "",
           "title": {
            "standoff": 15
           },
           "zerolinecolor": "white",
           "zerolinewidth": 2
          },
          "yaxis": {
           "automargin": true,
           "gridcolor": "white",
           "linecolor": "white",
           "ticks": "",
           "title": {
            "standoff": 15
           },
           "zerolinecolor": "white",
           "zerolinewidth": 2
          }
         }
        },
        "xaxis": {
         "anchor": "y",
         "domain": [
          0,
          1
         ],
         "title": {
          "text": "pca_1"
         }
        },
        "yaxis": {
         "anchor": "x",
         "domain": [
          0,
          1
         ],
         "title": {
          "text": "pca_2"
         }
        }
       }
      },
      "text/html": [
       "<div>\n",
       "        \n",
       "        \n",
       "            <div id=\"bdf3f7e1-9ea6-46c1-9e2b-32bf1beffb90\" class=\"plotly-graph-div\" style=\"height:525px; width:100%;\"></div>\n",
       "            <script type=\"text/javascript\">\n",
       "                require([\"plotly\"], function(Plotly) {\n",
       "                    window.PLOTLYENV=window.PLOTLYENV || {};\n",
       "                    \n",
       "                if (document.getElementById(\"bdf3f7e1-9ea6-46c1-9e2b-32bf1beffb90\")) {\n",
       "                    Plotly.newPlot(\n",
       "                        'bdf3f7e1-9ea6-46c1-9e2b-32bf1beffb90',\n",
       "                        [{\"customdata\": [[\"Relevance of human metapneumovirus in exacerbations of COPD\"], [\"Long-term respiratory follow-up of H1N1 infection\"], [\"Severe influenza cases in paediatric intensive care units in Germany during the pre-pandemic seasons 2005 to 2008\"], [\"Clinical characteristics of pediatric hospitalizations associated with 2009 pandemic influenza A (H1N1) in Northern Bavaria, Germany\"], [\"Asthma in patients hospitalized with pandemic influenza A(H1N1)pdm09 virus infection\\u2013United States, 2009\"], [\"Pneumonia among adults hospitalized with laboratory-confirmed seasonal influenza virus infection\\u2014United States, 2005\\u20132008\"], [\"Human metapneumovirus in Pediatric Patients with Acute Respiratory Tract Infections in the Aseer Region of Saudi Arabia\"], [\"Influenza virus-related critical illness: prevention, diagnosis, treatment\"], [\"Epidemiology of asthma in India\"], [\"The Incidence of Respiratory Tract Infection in Adults Requiring Hospitalization for Asthma\"], [\"Corticosteroid treatment in critically ill patients with severe influenza pneumonia: a propensity score matching study\"], [\"Rhinovirus-Associated Hospitalizations in Young Children\"], [\"Clinical features of Chlamydia pneumoniae acute respiratory infection\"], [\"CHILDHOOD ASTHMA IN BRISBANE: EPIDEMIOLOGICAL OBSERVATIONS\"], [\"Asthma Exacerbations and Risk of Emergency Department Management Failure: Burden and Impact of Various Respiratory Pathogens in a Pediatric Population\"], [\"Human Coronavirus (HCoV) Infection Among Adults in Cleveland, Ohio: An Increasingly Recognized Respiratory Pathogen\"], [\"Respiratory Disorders\"], [\"Severe Asthma\"], [\"Smoke-free legislation reduces hospital admissions for childhood lower respiratory tract infection.\"], [\"Efficacy and safety of influenza vaccination in children with asthma.\"], [\"Burden of human metapneumovirus infection in young children.\"], [\"Trends in childhood asthma hospitalisation in three Asia Pacific countries.\"], [\"Seasonal and geographic variations in the incidence of asthma exacerbations in the United States.\"], [\"Randomized phase 2 trial of monthly vitamin D to prevent respiratory complications in children with sickle cell disease.\"], [\"Comparison of Mycoplasma pneumoniae Infections in asthmatic children versus asthmatic adults.\"], [\"Resource burden at children's hospitals experiencing surge volumes during the spring 2009 H1N1 influenza pandemic.\"], [\"Cross-neutralization of four paramyxoviruses by a human monoclonal antibody.\"], [\"Non-invasive ventilation use in status asthmaticus: 16 years of experience in a tertiary intensive care.\"], [\"Boston children's hospital community asthma initiative: Five-year cost analyses of a home visiting program.\"], [\"Association of Respiratory Picornaviruses With High Acuity and Severe Illness in a Pediatric Health Care System.\"], [\"Surveillance for the identification of cases of acute respiratory infection by enterovirus D68 in children in a tertiary level care hospital during 2014-2016.\"], [\"Respiratory Viruses and Treatment Failure in Children With Asthma Exacerbation.\"], [\"Short-term effects of ambient PM1 and PM2.5 air pollution on hospital admission for respiratory diseases: Case-crossover evidence from Shenzhen, China.\"], [\"Long-term outcomes of laparoscopic sleeve gastrectomy: a Lebanese center experience.\"], [\"Effects of air pollution on asthma hospitalization rates in different age groups in Hong Kong.\"], [\"Human metapneumovirus: a ubiquitous and long-standing respiratory pathogen.\"], [\"Study of modifiable risk factors for asthma exacerbations: virus infection and allergen exposure increase the risk of asthma hospital admissions in children.\"], [\"Prevalence of human Metapneumovirus (hMPV) in children with wheezing in Shiraz-Iran.\"], [\"Prevalence, clinical presentations and complications among hospitalized children with influenza pneumonia.\"], [\"[Detection and clinical analysis of acute lower respiratory tract infection with human coronaviruses in children in Beijing area 2007-2015].\"], [\"Outbreak of pandemic influenza A (H1N1-2009) in Singapore, May to September 2009.\"], [\"Antibodies to Coronavirus OC 43 strain in the population of North-Eastern Hungary.\"], [\"Epidemiology of respiratory infections in young children: insights from the new vaccine surveillance network.\"], [\"Influenza vaccination in patients with asthma: effect on the frequency of upper respiratory tract infections and exacerbations.\"], [\"Clinical features, treatments and outcomes of influenza A (H1N1) 2009 among the hospitalized patients in the clinic for infectious diseases in Novi Sad.\"], [\"Human metapneumovirus infection in young children hospitalized with respiratory tract disease.\"], [\"Asthma fatalities at the Emergency Department of the Singapore General Hospital.\"], [\"Respiratory viral infections in adults.\"], [\"Epidemiology of human metapneumovirus.\"], [\"Pneumonia in pregnancy.\"], [\"Impact of respiratory virus infections on persons with chronic underlying conditions.\"], [\"Influenza vaccine in patients with asthma.\"], [\"Self-reported asthma prevalence and control among adults--United States, 2001.\"], [\"Respiratory viral threats.\"], [\"ALTERED THEOPHYLLINE PHARMACOKINETICS DURING ACUTE RESPIRATORY VIRAL ILLNESS\"], [\"2009 H1N1 Influenza: A Twenty-First Century Pandemic With Roots in the Early Twentieth Century\"], [\"Human Coronavirus NL63 Infection and Other Coronavirus Infections in Children Hospitalized with Acute Respiratory Disease in Hong Kong, China\"], [\"Etiology and Impact of Coinfections in Children Hospitalized With Community-Acquired Pneumonia\"], [\"Association between continuity of care and emergency department visits and hospitalization in senior adults with asthma-COPD overlap\"], [\"The atypical pneumonias: clinical diagnosis and importance\"], [\"Severe respiratory illness associated with a nationwide outbreak of enterovirus D68 in the USA (2014): a descriptive epidemiological investigation\"], [\"Radiographic follow\\u2010up of pneumonia in children\"], [\"Spectrum of Clinical Illness in Hospitalized Patients with \\u201cCommon Cold\\u201d Virus Infections\"], [\"Clinical characteristics of influenza virus-induced lower respiratory infection during the 2015 to 2016 season\"], [\"Fluctuation analysis-based risk assessment for respiratory virus activity and air pollution associated asthma incidence\"], [\"Epidemiological, clinical and genotypic features of human Metapneumovirus in patients with influenza-like illness in Senegal, 2012 to 2016\"], [\"Acute Asthma in the Pediatric Emergency Department: Infections Are the Main Triggers of Exacerbations\"], [\"Use of early corticosteroid therapy on ICU admission in patients affected by severe pandemic (H1N1)v influenza A infection\"], [\"Rapid clinical diagnosis in fatal swine influenza (H1N1) pneumonia in an adult with negative rapid influenza diagnostic tests (RIDTs): Diagnostic swine influenza triad\"], [\"The Relationship of Rhinovirus-Associated Asthma Hospitalizations with Inhaled Corticosteroids and Smoking\"], [\"Childhood severe acute respiratory syndrome, coronavirus infections and asthma\"], [\"Patients hospitalized with an infective exacerbation of bronchiectasis unrelated to cystic fibrosis: Clinical, physiological and sputum characteristics\"], [\"Perspective on the host response to human metapneumovirus infection: what can we learn from respiratory syncytial virus infections?\"], [\"Differences between asthmatics and nonasthmatics hospitalised with influenza A infection\"], [\"Decreased interleukin-18 response in asthmatic children with severe Mycoplasma pneumoniae pneumonia\"], [\"Virome and bacteriome characterization of children with pneumonia and asthma in Mexico City during winter seasons 2014 and 2015\"], [\"Clinical manifestations in infants and children with Mycoplasma pneumoniae infection\"], [\"The Burden of Community-Acquired Pneumonia in Seniors: Results of a Population-Based Study\"], [\"The emergence of enterovirus D68 in a Dutch University Medical Center and the necessity for routinely screening for respiratory viruses\"], [\"Lung ultrasound as a diagnostic tool for radiographically-confirmed pneumonia in low resource settings\"], [\"Understanding the September asthma epidemic\"], [\"Can an evidence-based guideline reminder card improve asthma management in the emergency department?\"], [\"Human Metapneumovirus: An Emerging Respiratory Pathogen\"], [\"Respiratory Presentation of Pediatric Patients in the 2014 Enterovirus D68 Outbreak\"], [\"Mycoplasma pneumoniae Infection Affects the Serum Levels of Vascular Endothelial Growth Factor and Interleukin-5 in Atopic Children\"], [\"The September epidemic of asthma exacerbations in children: A search for etiology\"], [\"Treatment of Community-Acquired Lower Respiratory Tract Infections during Pregnancy\"], [\"Does atopy affect the course of viral pneumonia?\"], [\"Risk Factors for Repeat Adverse Asthma Events in Children After Visiting an Emergency Department\"], [\"Treatment, outcomes and costs of asthma exacerbations in Chilean children: a prospective multicenter observational study\"], [\"Enterovirus D68 respiratory infection in a children's hospital in Japan in 2015\"], [\"Common Pediatric Respiratory Emergencies\"], [\"Human metapneumovirus: An important cause of respiratory disease in children and adults\"], [\"Recombinant expression and immunological characterisation of proteins derived from human metapneumovirus\"], [\"Risk factors for a poor outcome among children admitted with clinically severe pneumonia to a university hospital in Rabat, Morocco\"], [\"Population-Based Incidence of Human Metapneumovirus in Hospitalized Children\"], [\"Influenza A(H1N1)pdm09-related pneumonia and other complications\"], [\"Association of Mycoplasma pneumoniae and asthma among Indian children\"], [\"Conventional Influenza Vaccination Is Not Associated with Complications in Working-Age Patients with Asthma or Chronic Obstructive Pulmonary Disease\"], [\"Viral etiology of acute lower respiratory tract infections in hospitalized young children in Northern Taiwan\"], [\"Influenza A(H1N1)pdm09 and Cystic Fibrosis Lung Disease: A Systematic Meta-Analysis\"], [\"Enterovirus D68 in Hospitalized Children: Sequence Variation, Viral Loads and Clinical Outcomes\"], [\"Severe Pertussis Infections in the United States, 2011\\u20132015\"]], \"hovertemplate\": \"labels=7<br>pca_1=%{x}<br>pca_2=%{y}<br>title=%{customdata[0]}<extra></extra>\", \"legendgroup\": \"7\", \"marker\": {\"color\": \"#636efa\", \"symbol\": \"circle\"}, \"mode\": \"markers\", \"name\": \"7\", \"showlegend\": true, \"type\": \"scattergl\", \"x\": [0.0882366813596271, 0.05567252181568397, 0.09936535639725129, 0.1655882268679125, 0.1192174239010104, 0.07077792969992601, 0.19858160028398836, 0.12148721272344434, 0.08753309367421701, 0.1528630660916461, 0.007916490287235432, 0.2831925064702416, 0.02252332776270665, 0.0577069966551799, 0.16453491845787677, 0.13238882381910788, 0.040004813598516244, 0.0424912500383186, 0.06400908992241588, 0.0609109413402736, 0.22714012546580448, 0.035741526651125635, 0.07377209633064218, 0.024511775980283947, 0.21844587735940088, 0.02251792607449777, -0.00824260555012896, 0.005313287082298175, 0.03557581256596712, 0.07720952985955776, 0.07408098251165196, 0.14010413920175155, 0.03405928871635705, 0.016538354656149404, 0.006672259985769643, 0.10143818785269895, 0.17808137071288993, 0.23532220006269233, 0.3607171912776388, 0.1404384115981054, 0.11587353716698404, 0.05602952971086536, 0.2586046903365663, 0.13926856450228897, 0.0419701568704052, 0.2031210627870357, -0.02427279929067543, 0.06864339049371786, 0.07422569921447231, 0.012203658739993916, 0.2020679251627051, 0.00796341153817838, -0.019924054034991055, 0.049051021175341075, 0.04419077168476919, 0.021503923431609336, 0.2121957766380134, 0.18739414471492769, 0.0010098576111978322, -0.033090605008760945, 0.07619384365886284, 0.07706282248690098, 0.28346371003700777, 0.12688531484784382, 0.016655146455107798, 0.14481738038253025, 0.17516049635264377, 0.0371706315160685, 0.04769469972563174, 0.19851972295544226, 0.06088732710744435, 0.04054910963971639, 0.10552642127829343, 0.05443848209715037, 0.09679013011040108, 0.19021588488028432, 0.16979195889135817, 0.05922242459962569, 0.12636080389227555, 0.08438231459394839, 0.033721257502190474, -0.004942487274210105, 0.056486243066191356, 0.22395501728280678, 0.024589167281189945, 0.15472707685764023, 0.07282099497146641, 0.22505737779406265, 0.05425436418751878, 0.05587137558089414, 0.2707572669347643, 0.04698065447272301, 0.11564864768002266, -0.05470541822036728, 0.1124736590410399, 0.2499636916144331, 0.08076415528450186, 0.1204879871469759, 0.02448131807473556, 0.3096697630834904, -0.023180562963162243, 0.1939107676981077, 0.10142489090947152], \"xaxis\": \"x\", \"y\": [-0.06400037070906253, -0.1421022327438131, -0.18071523514665622, -0.19920524818185611, -0.24078051772091374, -0.20256865562647505, -0.0611731553254756, -0.10351201985461182, -0.14811205022127774, -0.13869104625448322, -0.2274476489672681, -0.19459759367385218, -0.011228899551245692, -0.004184831818427621, -0.04733790199316611, -0.019281514141161506, -0.15928991837093334, -0.14181643134592745, -0.17653649463544108, -0.06277623109118506, -0.1261250231060524, -0.15200650315643202, -0.08603708062456407, -0.07667083867846042, -0.02760810427039704, -0.2240002974297715, 0.016214747212666535, -0.25500398797673635, -0.2626989665204347, -0.149153100293432, -0.07453064158190703, -0.0509323412814989, -0.12850046239430224, -0.2282849235909679, -0.18154990979954153, 0.09045103808288787, -0.09950965232546427, -0.05868636292439175, -0.05498113472954912, -0.12627122316953296, -0.13700158250538183, -0.12334394197104002, -0.1159358318539502, -0.07613402535289655, -0.24106805824628524, -0.023854835148021704, -0.14058969038988461, -0.0022411991920771295, 0.06151280091418895, -0.10370529888275466, -0.03324116396118344, -0.06976569605296272, -0.13874535048257544, 0.08637210330492058, -0.06231871960028091, -0.12210571182779141, -0.051556748232824086, -0.07840445893880603, -0.2401572750250931, -0.07413196973064648, -0.1310572266154619, -0.10192956294078992, 0.042514505145098386, -0.14736614854460708, -0.07153112405232648, -0.08303259776631869, -0.1018879898869266, -0.26778440337904336, -0.18090640954234827, -0.10554544793546058, -0.006709513321550911, -0.05578499898227873, 0.1467072009671971, -0.21131947220747455, -0.18332560256150765, -0.043947951349653756, -0.13289635047242254, -0.1834887657314193, -0.0880308132900171, -0.15458868521753083, -0.0900930373422818, -0.22236920274627103, -0.036594017056192335, -0.20488621406605065, -0.11228921791202964, -0.13562815550678992, -0.09723957394872333, -0.13857731909774515, -0.2040285173748123, -0.2607265112221659, -0.19872192168577713, -0.07173370327019836, 0.018957099258977476, -0.07117676963656451, -0.1997609065856196, -0.17547263367134114, -0.012511094487468065, -0.08576688472445665, -0.20227106213448767, -0.04600552455375154, -0.13876933482588152, -0.1412675329063459, -0.15057479556397182], \"yaxis\": \"y\"}, {\"customdata\": [[\"Surfactant therapy for acute respiratory failure in children: a systematic review and meta-analysis\"], [\"Clinical use of exhaled volatile organic compounds in pulmonary diseases: a systematic review\"], [\"The role of helium gas in medicine\"], [\"Asthma in the elderly: what we know and what we have yet to know\"], [\"3D Structure Prediction of Human \\u03b21-Adrenergic Receptor via Threading-Based Homology Modeling for Implications in Structure-Based Drug Designing\"], [\"A functional IFN-\\u03bb4-generating DNA polymorphism could protect older asthmatic women from aeroallergen sensitization and associate with clinical features of asthma\"], [\"Oral edible plant vaccine containing hypoallergen of American cockroach major allergen Per a 2 prevents roach-allergic asthma in a murine model\"], [\"Clinical Scenarios of the Application of Electrical Impedance Tomography in Paediatric Intensive Care\"], [\"Development of a Rhinovirus Inoculum Using a Reverse Genetics Approach\"], [\"Special Features of Asthma in Children\"], [\"Acquired neuromuscular disorders in critically ill patients: a systematic review\"], [\"Infant lung function testing in the intensive care unit\"], [\"Untersuchungen \\u00fcber die bronchokonstriktorische Wirkung des \\u03b2-Rezeptorblockers Propranolol bei Meerschweinchen und Patienten mit Asthma bronchiale\"], [\"The Use of Antiallergic and Antiasthmatic Drugs in Viral Infections of the Upper Respiratory Tract\"], [\"An Approach to the Management of High Risk Asthmatic Patients\"], [\"Nichtinvasive Beatmung bei Kindern mit akuter respiratorischer Insuffizienz\"], [\"Nucleic Acid-Based Therapeutics for Pulmonary Diseases\"], [\"Approach to neuromuscular disorders in the intensive care unit\"], [\"Eosinophilia-myalgia syndrome induced by excessive L-tryptophan intake from cashew nuts\"], [\"Acute upper airway infections: Childhood respiratory infections\"], [\"Aetiology of asthma: how public health and molecular medicine work together\"], [\"Problems and prospects of developing effective therapy for common cold viruses\"], [\"Mechanopharmacology and Synergistic Relaxation of Airway Smooth Muscle\"], [\"Respiratory inflammation and infections in high\\u2010performance athletes\"], [\"Mold contamination in schools with either high or low prevelance of asthma\"], [\"Microsensor Arrays for Saliva Diagnostics\"], [\"Assessing allergenic fungi in house dust by floor wipe sampling and quantitative PCR\"], [\"Targeted therapy in chronic diseases using nanomaterial-based drug delivery vehicles\"], [\"Obesity Trends among Asthma Patients in the United States: A Population-based Study\"], [\"XXIV World Allergy Congress 2015: Seoul, Korea. 14-17 October 2015\"], [\"Viral Disease, Air Pollutants, Nanoparticles, and Asthma\"], [\"The Pediatric Asthmatic\"], [\"Asthma\"], [\"Gold salts, D-penicillamine and allopurinol\"], [\"1.2 The Health System\"], [\"Preparation Without Panic: A Comprehensive Social Marketing Approach to Planning for a Potential Pandemic\"], [\"Air Purification Technology by Means of Cluster Ions Generated by Plasma Discharge at Atmospheric Pressure\"], [\"Early Interventions in Allergic Diseases\"], [\"Viruses Present Indoors and Analyses Approaches\"], [\"Epidemiology of Respiratory Allergies and Asthma\"], [\"Viral Upper Respiratory Tract Infections\"], [\"Pulmonary Complications of Obstetric and Gynecologic Conditions\"], [\"The Clinical Definitions of Asthma\"], [\"Primary Immunodeficiencies\"], [\"Eosinophilic Pneumonia\"], [\"Return to Play in Asthma and Pulmonary Conditions\"], [\"Asthma and COPD\"], [\"Exam 4 Questions\"], [\"Microbial Agents in the Indoor Environment: Associations with Health\"], [\"Respiratory Emergencies\"], [\"Pulmonology\"], [\"Cough\"], [\"Differential Diagnosis of Asthma\"], [\"Exam 3 Questions\"], [\"Rhinitis and Sinusitis\"], [\"PEDIATRIC ALLERGY: Can It Be Prevented?\"], [\"Asthma comes in from the cold\"], [\"Sick Building Syndrome and Other Building-Related Illnesses\"], [\"Executive summary\"], [\"Decrease in Fine T\\u2010cell Subset ratio MT2/MT1 During Steroid Reduction of Asthmatic Patients\"], [\"EARS\"], [\"Inhaled corticosteroids in COPD: friend or foe?\"], [\"Work participation among the morbidly obese seeking bariatric surgery: an exploratory study from Norway.\"], [\"Morbidity and mortality in homeless individuals, prisoners, sex workers, and individuals with substance use disorders in high-income countries: a systematic review and meta-analysis.\"], [\"Laparoscopic liver resection assisted by the laparoscopic Habib Sealer.\"], [\"A case of severe acute exacerbation of Yokkaichi asthma treated with a vibrating mesh nebulizer.\"], [\"Readability and comprehensibility of over-the-counter medication labels.\"], [\"Bariatric surgery: risks and rewards.\"], [\"Wheezing as a sign of cor triatriatum sinister culminating in multiple organ failure.\"], [\"Cough and upper airway disorders in elite athletes: a critical review.\"], [\"Do replicable profiles of multimorbidity exist? Systematic review and synthesis.\"], [\"Community Asthma Initiative: Cost Analyses using Claims Data from a Medicaid Managed Care Organization.\"], [\"Swyer-James syndrome associated with asthma and a giant bulla.\"], [\"Investigating the effectiveness of school health services delivered by a health provider: A systematic review of systematic reviews.\"], [\"Five-year survival following radiofrequency ablation of small, solitary, hepatic colorectal metastases.\"], [\"Inadequate assessment of adherence to maintenance medication leads to loss of power and increased costs in trials of severe asthma therapy: results from a systematic literature review and modelling study.\"], [\"Oral steroid sparing effect of high dose inhaled corticosteroids in asthma.\"], [\"The effect of inhaled IFN-\\u03b2 on worsening of asthma symptoms caused by viral infections. A randomized trial.\"], [\"How are behavioural interventions delivered to children (5-11 years old): a systematic mapping review.\"], [\"The genus Stephania (Menispermaceae): chemical and pharmacological perspectives.\"], [\"A systematic evidence synthesis of interventions to engage children and young people in consultations about their long-term conditions.\"], [\"Chemoattractant receptor-homologous molecule expressed on Th2 cells (CRTH2) antagonists in asthma: a systematic review and meta-analysis protocol.\"], [\"Effects of Macrolide Treatment during the Hospitalization of Children with Childhood Wheezing Disease: A Systematic Review and Meta-Analysis.\"], [\"Management of common cold symptoms with over-the-counter medications: clearing the confusion.\"], [\"Systematic review of clinical prediction models to support the diagnosis of asthma in primary care.\"], [\"Asthma, allergy and the Olympics: a 12-year survey in elite athletes.\"], [\"Advances in interventional pulmonology.\"], [\"Respiratory care year in review 2012: Asthma and sleep-disordered breathing.\"], [\"Noninvasive mechanical ventilation.\"], [\"Pediatric cough: what the otolaryngologist needs to know.\"], [\"Pediatric chronic rhinosinusitis.\"], [\"Comparison of comorbidity resolution and improvement between laparoscopic sleeve gastrectomy and laparoscopic adjustable gastric banding.\"], [\"Long-acting muscarinic antagonists (LAMA) added to inhaled corticosteroids (ICS) versus the same dose of ICS alone for adults with asthma.\"], [\"Non-smoking-related chronic obstructive pulmonary disease: a neglected entity?\"], [\"Management of severe acute asthma in the emergency department.\"], [\"The Canadian Healthy Infant Longitudinal Development (CHILD) Study: examining developmental origins of allergy and asthma.\"], [\"Model-Based Estimation of Respiratory Parameters from Capnography, With Application to Diagnosing Obstructive Lung Disease.\"], [\"Noninvasive positive pressure ventilation in the acute care setting: where are we?\"], [\"Development of a bronchospasm device model.\"], [\"Ethnic variations in morbidity and mortality from lower respiratory tract infections: a retrospective cohort study.\"], [\"Validated methods to identify patients with asthma-COPD overlap in healthcare databases: a systematic review protocol.\"], [\"Paediatrics in Barcelona.\"], [\"Effect of beta2-adrenergic receptor polymorphism on response to longacting beta2 agonist in asthma (LARGE trial): a genotype-stratified, randomised, placebo-controlled, crossover trial.\"], [\"Pulmonary drug delivery system: newer patents.\"], [\"Incident user cohort study of risk for gastrointestinal bleed and stroke in individuals with major depressive disorder treated with antidepressants.\"], [\"Early Administration of Azithromycin and Prevention of Severe Lower Respiratory Tract Illnesses in Preschool Children With a History of Such Illnesses: A Randomized Clinical Trial.\"], [\"Behind a mask: tricks, pitfalls, and prejudices for noninvasive ventilation.\"], [\"The clinical management of lower respiratory tract infections.\"], [\"Clinical prediction models to support the diagnosis of asthma in primary care: a systematic review protocol.\"], [\"Asthma in pregnancy: a hit for two.\"], [\"Respiratory care year in review 2010: part 1. asthma, COPD, pulmonary function testing, ventilator-associated pneumonia.\"], [\"Long-acting muscarinic antagonists (LAMA) added to inhaled corticosteroids (ICS) versus higher dose ICS for adults with asthma.\"], [\"Translational models of lung disease.\"], [\"Lessons learned from variation in response to therapy in clinical trials.\"], [\"Evaluation of the Environmental Scoring System in Multiple Child Asthma Intervention Programs in Boston, Massachusetts.\"], [\"Long-acting muscarinic antagonists (LAMA) added to inhaled corticosteroids (ICS) versus addition of long-acting beta2-agonists (LABA) for adults with asthma.\"], [\"Pharmacological aspects and potential new clinical applications of ketamine: reevaluation of an old drug.\"], [\"Adverse reactions associated with respirator fit testing of healthcare workers in British Columbia, Canada: a review of compensation claim cases.\"], [\"Parent experiences with a nurse-supervised community health worker asthma home-visiting program.\"], [\"Does maintenance azithromycin reduce asthma exacerbations? An individual participant data meta-analysis.\"], [\"The use of neuromuscular blocking agents in the ICU: where are we now?\"], [\"Assessment of Bohr and Enghoff Dead Space Equations in Mechanically Ventilated Children.\"], [\"High-flow oxygen therapy and other inhaled therapies in intensive care units.\"], [\"Investigating the effectiveness of school health services delivered by a health provider: a systematic review of systematic reviews\"], [\"Self-reported asthma among high school students--United States, 2003.\"], [\"Negative attitude of highly educated parents and health care workers towards future vaccinations in the Dutch childhood vaccination program.\"], [\"Trends in specific morbidity prevalence in male adolescents in Israel over a 50 year period and the impact of recent immigration.\"], [\"Respiratory disease in pregnancy.\"], [\"Impact of the Singapore National Asthma Program (SNAP) on preventor-reliever prescription ratio in polyclinics.\"], [\"Air conditioning systems as non-infectious health hazards inducing acute respiratory symptoms.\"], [\"Rhinovirus and coronavirus infections.\"], [\"Respiratory consequences of rhinovirus infection.\"], [\"Health effects of subchronic exposure to environmental levels of hardwood smoke.\"], [\"Therapeutic potential of Toll-like receptor 9 activation.\"], [\"Noninvasive ventilation in acute respiratory failure.\"], [\"The management of acute bronchitis in children.\"], [\"Indoor air quality in hospitality venues before and after implementation of a clean indoor air law--Western New York, 2003.\"], [\"Meeting highlights of the European Respiratory Society annual congress 02-06 September 2006, Munich, Germany.\"], [\"Uncomplicated acute bronchitis.\"], [\"Predictors of failure of the laparoscopic approach for the management of small bowel obstruction.\"], [\"Asthma prevalence and control characteristics by race/ethnicity--United States, 2002.\"], [\"Dry powder inhalers for pulmonary drug delivery.\"], [\"Biology and Diseases of Guinea Pigs\"], [\"Lower respiratory tract infections in cats Reaching beyond empirical therapy\"], [\"Bronchiolitis obliterans syndrome after allogeneic hematopoietic SCT: phenotypes and prognosis\"], [\"Steroid responsiveness and wheezing phenotypes\"], [\"Atopie et infections\"], [\"Infectious Chronic Rhinosinusitis\"], [\"Chronic Cough Related to Acute Viral Bronchiolitis in Children CHEST Expert Panel Report\"], [\"Chapter 28 Asthma\"], [\"Therapeutic Applications of Monoclonal Antibodies\"], [\"Pediatric Asthma Mortality and Hospitalization Trends Across Asia Pacific Relationship With Asthma Drug Utilization Patterns\"], [\"Rhinosinusitis: Establishing definitions for clinical research and patient care\"], [\"Advances in antivirals for non\\u2010influenza respiratory virus infections\"], [\"Respiratory disease in pregnancy\"], [\"Redecoration of apartments promotes obstructive bronchitis in atopy risk infants \\u2013 Results of the LARS study\"], [\"Environment and Health in Children Day Care Centres (ENVIRH) \\u2013 Study rationale and protocol()\"], [\"Inhalant Allergies in Children\"], [\"Determinants Of Oral corticosteroid Responsiveness in Wheezing Asthmatic Youth (DOORWAY): protocol for a prospective multicentre cohort study of children with acute moderate-to-severe asthma exacerbations\"], [\"Identifying Asthma Triggers\"], [\"Respiratory disease in pregnancy\"], [\"Healthcare workers and H1N1 vaccination: Does having a chronic disease make a difference?\"], [\"Pediatric pulmonology year in review 2016: Part 2\"], [\"Asthma in the elderly: Current understanding and future research needs\\u2014a report of a National Institute on Aging (NIA) workshop\"], [\"Influenza vaccination in patients with asthma: effect on peak expiratory flow, asthma symptoms and use of medication\"], [\"\\u00c9pid\\u00e9miologie de l'asthme grave\"], [\"Common Respiratory Diseases\"], [\"A host gene expression approach for identifying triggers of asthma exacerbations\"], [\"Control of asthma triggers in indoor air with air cleaners: a modeling analysis\"], [\"Pulmonary Diseases and Corticosteroids\"], [\"Biological exacerbation clusters demonstrate asthma and chronic obstructive pulmonary disease overlap with distinct mediator and microbiome profiles\"], [\"Chapter 25 Therapeutic use of monoclonal antibodies: general aspects and challenges for drug delivery\"], [\"Rhinosinusitis: Establishing definitions for clinical research and patient care\"], [\"Prevalence of chronic comorbidities in dengue fever and West Nile virus: A systematic review and meta-analysis\"], [\"Diagnosis of Allergy and Asthma in Childhood\"], [\"Chapter 4 Gene\\u2013Environment Interactions Eco-Genetics and Toxicogenomics\"], [\"Chronic Cough Due to Acute Bronchitis ACCP Evidence-Based Clinical Practice Guidelines\"], [\"Virtual screening for finding natural inhibitor against cathepsin-L for SARS therapy\"], [\"Chapter 23 Public and Population Health Genomics\"], [\"Asthmatics with exacerbation during acute respiratory illness exhibit unique transcriptional signatures within the nasal mucosa\"], [\"Rhinovirus identification by BglI digestion of picornavirus RT-PCR amplicons\"], [\"Asthme et usage d\\u2019h\\u00e9ro\\u00efne\"], [\"Chronic obstructive pulmonary disease subpopulations and phenotyping\"], [\"USE OF THE CLINICAL MICROBIOLOGY LABORATORY FOR THE DIAGNOSIS AND MANAGEMENT OF INFECTIOUS DISEASES RELATED TO THE ORAL CAVITY\"], [\"Recent advances in the role of non-invasive ventilation in acute respiratory failure\"], [\"Conurbation, Urban, and Rural Living as Determinants of Allergies and Infectious Diseases: Royal College of General Practitioners Research and Surveillance Centre Annual Report 2016-2017\"], [\"Environment and Health in Children Day Care Centres (ENVIRH) \\u2013 Study rationale and protocol()\"], [\"Rhinitis in children less than 6 years of age: current knowledge and challenges\"], [\"Pharmacological modulation of cough reflex\"], [\"Management of acute asthma attacks associated with respiratory tract infection: a postal survey of general practitioners in the U.K.\"], [\"Asthma phenotypes\"], [\"Clinical and Immunological Benefits of OM-85 Bacterial Lysate in Patients with Allergic Rhinitis, Asthma, and COPD and Recurrent Respiratory Infections\"], [\"Pulmonary diseases induced by ambient ultrafine and engineered nanoparticles in twenty-first century\"], [\"Clinical Characteristics of Asthmatic Patients With Influenza-Like Illness and Risk for Severe Exacerbations in Mexico\"], [\"No Direct Association Between Asthma and the Microbiome Based on Currently Available Techniques\"], [\"Prevalence of chronic comorbidities in chikungunya: A systematic review and meta-analysis\"], [\"Comparing ozone metrics on associations with outpatient visits for respiratory diseases in Taipei Metropolitan area\"], [\"Novel translational approaches to the search for precision therapies for acute respiratory distress syndrome\"], [\"Development of allergy in children I. Association with virus infections\"], [\"Fungi in respiratory samples of horses with inflammatory airway disease\"], [\"Seasonal Allergy and Seasonal Decrements in Athletic Performance\"], [\"Comparison of atopic and nonatopic children with chronic cough: Bronchoalveolar lavage cell profile\"], [\"Effects of Fruit and Vegetable Consumption on Risk of Asthma, Wheezing and Immune Responses: A Systematic Review and Meta-Analysis\"], [\"Un corps \\u00e9tranger hors du commun. \\u00c0 propos d'un cas d'emphys\\u00e8me sous-cutan\\u00e9 lors d'une crise d'asthme\"], [\"Environmental triggers and avoidance in the management of asthma\"], [\"Asthma associated with denatonium benzoate in a healthcare worker in Taiwan: A case report\"], [\"Genotype tailored treatment of mild symptomatic acid reflux in children with uncontrolled asthma (GenARA): Rationale and methods\"], [\"Ciliated conical epithelial cell protrusions point towards a diagnosis of primary ciliary dyskinesia\"], [\"DO IT Trial: vitamin D Outcomes and Interventions in Toddlers \\u2013 a TARGet Kids! randomized controlled trial\"], [\"Short term change in relative humidity during the festival of Diwali in India\"], [\"The impact of cold on the respiratory tract and its consequences to respiratory health\"], [\"Azithromycin for episodes with asthma-like symptoms in young children aged 1\\u20133 years: a randomised, double-blind, placebo-controlled trial\"], [\"Barriers and supports to implementation of MDI/spacer use in nine Canadian pediatric emergency departments: a qualitative study\"], [\"Akute Bronchitis\"], [\"Comparison of the Effects of Air Pollution on Outpatient and Inpatient Visits for Asthma: A Population-Based Study in Taiwan\"], [\"Asthma in Children and Adolescents: A Comprehensive Approach to Diagnosis and Management\"], [\"The Spectrum of Non-asthmatic Airway Diseases Contributing to Cough in the Adult\"], [\"Acute and chronic cough\"], [\"Pelargonium sidoides extract EPs 7630: a review of its clinical efficacy and safety for treating acute respiratory tract infections in children\"], [\"Genomic Analyses of Human European Diversity at the Southwestern Edge: Isolation, African Influence and Disease Associations in the Canary Islands\"], [\"Indoor air quality and human health: Truth vs mass hysteria\"], [\"Respiratory Illness and Allergy Related to Work and Home Environment among Commercial Pilots\"], [\"Essentials of Pulmonology\"], [\"Unmet Needs in Respiratory Diseases: \\u201cYou Can\\u2019t Know Where You Are Going Until You Know Where You Have Been\\u201d\\u2014Anonymous\"], [\"Redesigning a large school-based clinical trial in response to changes in community practice\"], [\"Asthma in children: mapping the literature by bibliometric analysis\"], [\"Reducing burden of disease from residential indoor air exposures in Europe (HEALTHVENT project)\"], [\"Pattern of patients and diseases during mass transit: The day of Arafat experience\"]], \"hovertemplate\": \"labels=4<br>pca_1=%{x}<br>pca_2=%{y}<br>title=%{customdata[0]}<extra></extra>\", \"legendgroup\": \"4\", \"marker\": {\"color\": \"#EF553B\", \"symbol\": \"circle\"}, \"mode\": \"markers\", \"name\": \"4\", \"showlegend\": true, \"type\": \"scattergl\", \"x\": [-0.028297534048722775, -0.10881033389724144, -0.10409342401247729, -0.07506936052684669, -0.15898289203429042, -0.049145350914890015, -0.122037869288617, -0.088005849411816, -0.03057122747911252, -0.08441192561720404, -0.02835359620085605, -0.064163411520953, -0.0970718534045672, -0.09294149516698548, -0.06302632036371426, -0.013179127511922992, -0.18700966752698586, -0.08274049843249388, -0.11612740006304177, 0.04131544477379493, -0.14787595506008108, -0.1183726807710635, -0.1593996009662996, -0.034734236617428735, -0.06096427419339566, -0.09886066203280178, -0.029250169685310405, -0.19566448193821578, -0.010469112544237182, -0.02877035751610999, -0.07087476850024277, -0.07928436709178817, -0.07939727550746041, -0.10647598071867431, -0.10664633264946927, -0.12778030403481727, -0.10027901588903823, -0.044199042811887336, -0.035857771363413976, -0.0762442657312405, -0.011448364857127823, -0.0778560519207848, -0.056446678192978744, -0.057972232056545864, -0.08800083492562656, -0.1292424587584623, -0.03257069399562444, -0.0628513052778858, -0.09087919258902431, -0.0680835597427702, -0.07826814267342364, -0.035657271582176964, -0.10237414766296046, -0.06097299577499274, -0.0866820089572059, -0.08075170864576639, -0.0649899046197902, -0.08238897797087201, -0.09172925171111056, -0.09189770468227121, -0.11143226248687507, -0.08340852716381808, -0.05391301534240486, -0.09909353568933821, -0.0406467351797717, -0.04549149800485394, -0.09984628336629464, -0.0862768594674585, -0.03661897719909587, -0.11228903540665207, -0.08408455907038664, -0.0389683958184746, -0.04619812193927191, -0.11941673075470574, -0.05424544494651877, -0.07570299790888443, -0.10374423680035041, -0.05845030335604344, -0.01952615890941515, -0.13401754794505938, -0.03684815864122709, -0.10679854483962212, 0.018946456983679014, -0.07896498465696751, -0.05234744575673446, -0.059186476163679266, -0.1612369739325087, -0.051109851769955424, -0.0630178257293235, -0.057823659983487236, -0.08428326514376322, -0.052144951285025075, -0.035244659119328677, -0.09747093411071603, -0.08438387351064372, -0.11537730532662044, -0.10918160092402046, -0.07421918223213585, -0.1295427690604624, 0.04594513811934944, -0.06509556444184622, -0.0331369606420697, -0.07175123286737799, -0.1330195217614941, -0.02123171043096785, 0.05418583636993393, -0.09335780433831004, -0.03397895930679669, -0.059051088461019516, -0.04851919050129423, -0.11524238798770955, -0.09631922433075793, -0.1359964074818312, -0.11645659026067647, -0.0458380510140949, -0.05203028719117416, -0.13409451677281486, -0.03746440602480259, -0.07488194695549388, -0.03147053517050796, -0.11411958322309922, 0.005862219803485707, -0.11384315325678251, -0.11766692747992086, -0.03728886355714228, -0.02486670523400824, -0.00913060402477391, -0.08315366832701752, -0.08484039226901555, -0.12785791514947262, -0.020652278766611593, -0.020018491391410702, -0.15461073404142964, -0.17729594657644024, -0.05246150231586062, 0.06490931212977114, -0.08663171613807695, -0.1443306244961729, -0.014552752669180106, -0.06637179318230314, -0.042044172116617755, -0.1803868808794986, -0.1249614050572185, -0.05321125150488711, -0.1095240152001335, -0.042887830449087644, -0.10018547273907583, -0.09224225108705134, -0.012864789540126514, -0.13920576760934766, -0.1282207469684009, -0.03971157341204084, -0.1014053685456445, -0.016460558403906162, -0.0803232912297371, 0.02044344430277453, -0.021482149366570648, -0.002637748211084147, 0.014640119869282079, -0.07518078054626444, -0.059516653357246894, -0.07228085565402388, -0.08390722210601485, -0.02872989759288483, -0.02007381155872495, -0.005303321468908684, -0.11570590184639323, -0.020247821589682812, -0.10502940058472376, -0.13754719784713992, -0.08822534267099143, -0.17526524291075543, -0.10143557016944536, -0.042616354084173025, -0.017390765563176196, -0.1350099626040195, -0.004572216887188939, -0.1685056677122887, -0.13809447856279064, -0.016567031814730033, -0.032749251457397724, -0.011043356172884624, -0.1676189164636687, -0.029731477313768056, -0.07471825243755319, 0.01204077391210295, -0.021482149366570648, -0.009057999225158002, -0.1632620399125903, -0.011100126281789996, -0.08431809119818455, -0.0068718969909967705, -0.16068136638845296, 0.05293571694113809, -0.029985246647844268, -0.00843047807416572, -0.05753644197456646, -0.13355087182856587, 0.042596226620728955, -0.040395903093288096, -0.10756740197012105, -0.044768027624116635, -0.02167081508656555, -0.06079938497377474, -0.06795534437624115, -0.1070611976029147, -0.002673067048374932, -0.09003934960375512, 0.01697188013094347, -0.07176481298648264, -0.11803286326363543, 0.05513700329630603, -0.06619953481379814, -0.03039465592766752, -0.04604830123505375, -0.04818889448428944, -0.07936791215270908, -0.08863237457298961, -0.01788301965976938, -0.11281332184138658, -0.12210337416700254, 0.001013859155837963, -0.11561226647798994, -0.08284120644873784, -0.060933940441510556, -0.049126919141879256, -0.13099045585279792, -0.04269247177023575], \"xaxis\": \"x\", \"y\": [-0.20831316337701447, -0.11003061765712396, -0.08770569427681492, -0.0678789651131269, -0.08143905478395037, -0.07119584012771518, -0.06120905025125322, -0.1814188776236802, -0.05111923886459339, -0.049807122106588754, -0.1912724179631087, -0.09056570955503801, -0.1005133195235703, -0.041755257144298716, -0.10238044244430382, -0.11926794661322289, -0.08101530591267117, -0.12194017566956995, -0.09461389898077543, -0.012368963178995796, -0.024667327711377668, -0.03241768720434483, -0.07143125145387842, -0.009249518392950263, -0.14453566266855689, -0.10012271504310968, -0.09044885440529632, -0.07934871806640675, -0.1697855890858435, -0.06720678902780086, -0.08632988903519057, -0.09359658584265504, -0.07885839266761879, -0.12801251916540468, -0.15643931194045807, -0.09860383641976297, -0.09512016676689301, 0.05278965624375254, -0.014542854019046668, -0.12260873814516561, 0.03840677557234509, -0.0564743154814991, -0.11344997489912176, -0.07376166027464919, -0.09549446361138716, -0.09351965725456587, 0.007390721427571641, -0.1761426543411627, -0.09431717039159515, -0.0018093820155389677, -0.05969813183044143, -0.09771133654758277, -0.07355589138830662, -0.17912343775156397, -0.023334553863340674, 0.033276373828711917, 0.01790294630524376, -0.11379712870390413, -0.000812471444785863, -0.14660562998625432, -0.08040801203811651, -0.15969010175195647, -0.17762786848919587, -0.16391387816327183, -0.18987762666519203, -0.1372436262514562, -0.1414572657878512, -0.16865034803962534, -0.14331163247928383, -0.07097893548784347, -0.1468949586635155, -0.2001612972061128, -0.11698374217854639, -0.14642054870887392, -0.17355176771875316, -0.16082177728795424, -0.1778378701683757, -0.07183724109870235, -0.15291719922014552, -0.06268646378715545, -0.13231783597533853, -0.12577816748898632, -0.11046964139753851, -0.12267944329717417, -0.13993499792528058, -0.08041112303795873, -0.07537341277369125, -0.05457078304383482, -0.11011959919845919, -0.08407301526712152, -0.08569231517637196, -0.19578289698662582, -0.18683283373672444, -0.051831551545517315, -0.022263415828894156, -0.003386151539460182, -0.1414409769373738, -0.13232751970197598, -0.04121009278125872, -0.07659486463919404, -0.16917850817130028, -0.0524463872534181, -0.20791305943908145, -0.1036693601450141, -0.19183982102035702, -0.1691236521103808, -0.1390883699566019, -0.042820418950052515, -0.13707019729230263, -0.06747740973357355, -0.07481415433380756, -0.1765630730527778, -0.005408876199076831, -0.09876654051984264, -0.15285445355735805, -0.16342623043036372, -0.10638116064638994, -0.1181563098154847, -0.17471251040895364, -0.08747151948400042, -0.11893299517853857, -0.18976601688999514, -0.17976144102089353, -0.1497373619127207, -0.09582861609165558, -0.17496557811233227, -0.1459536983780916, -0.04376278931877671, -0.1671199655139571, -0.12702755243697583, 0.06294562628644872, 0.10666625237926927, -0.11954339285033228, -0.04642933357119855, -0.1470171614909791, 0.040652766805473264, -0.13156220186396364, -0.09520112338492691, -0.10137165980512072, -0.17586070704058657, -0.12445516359048583, -0.11907608685469355, -0.0417469498474919, -0.02702863485574242, -0.14483896307719113, -0.06672396881743053, 0.05624488235982446, -0.05554811823577443, -0.13682279583784204, -0.03577974159986004, -0.02613262442848127, -0.15557286182657235, -0.1289148286687318, 0.034098609781042725, -0.09543674439883225, -0.11114826511334594, -0.135463902525405, -0.06514872465953876, -0.1338222114730321, -0.04776351577866572, -0.06664432009440052, -0.17182850916408843, -0.08392837528593289, -0.07862544397150635, -0.1265257590585426, -0.0733561640158488, -0.03254423056900599, -0.010723225523678923, -0.09143913134004211, -0.11828788977547597, -0.07625963399611091, -0.06831011878869858, -0.12860028239706936, -0.09650143253249006, -0.05394485091623201, -0.017084393659069427, -0.06250579634290186, -0.060763223382078124, -0.12528917023943364, 0.07021969124128309, -0.06428415221697778, -0.09396519701184498, -0.09989418796562499, -0.020041202013274462, -0.1282364188617473, -0.094112854639094, -0.135463902525405, -0.046153350914180796, -0.10107155357475317, -0.1033312701198669, -0.03428408271712837, -0.15300547436295867, -0.0631388311629341, -0.09539304417628544, -0.044580591843352224, -0.1485176565868479, -0.13911924728236494, -0.08334526172008701, -0.020928896942014073, -0.09356736779342041, -0.10301088449779126, -0.1231316739262191, -0.03615066282646631, -0.09389034506124443, -0.01652408423370749, -0.1669129448948635, -0.14753761930057657, -0.1564627612906745, -0.10130962938312894, -0.06240460569504924, -0.07564246267812674, -0.1709236892032112, -0.13850718076743576, -0.08053692029325629, -0.18238818996621756, -0.10637434985349577, -0.034911145159159836, -0.04759506552164941, -0.12264015599176559, -0.0939958509820242, -0.09604513595361526, -0.09587774032587051, -0.11233245727310218, -0.05129052416985154, -0.08271216574774459, -0.11743537388051077, -0.14579303831360096, -0.20755482055277802], \"yaxis\": \"y\"}, {\"customdata\": [[\"Differential Regulation of Type I Interferon and Epidermal Growth Factor Pathways by a Human Respirovirus Virulence Factor\"], [\"The complement system\"], [\"Baicalein Reduces Airway Injury in Allergen and IL-13 Induced Airway Inflammation\"], [\"Gene Silencing of SOCS3 by siRNA Intranasal Delivery Inhibits Asthma Phenotype in Mice\"], [\"Abstracts from the 3rd International Genomic Medicine Conference (3rd IGMC 2015): Jeddah, Kingdom of Saudi Arabia. 30 November - 3 December 2015\"], [\"Tight junctions in pulmonary epithelia during lung inflammation\"], [\"Interferon-\\u03bbs: Front-Line Guardians of Immunity and Homeostasis in the Respiratory Tract\"], [\"Surfactant Protein D in Respiratory and Non-Respiratory Diseases\"], [\"Potential mechanism and drug candidates for sepsis-induced acute lung injury\"], [\"Mechanisms of nasal hyper-reactivity\"], [\"PKC promotes proliferation of airway smooth muscle cells by regulating cyclinD1 expression in asthmatic rats\"], [\"Inhaled and exhaled nitric oxide\"], [\"Chemokine receptors: multifaceted therapeutic targets\"], [\"Plasma exudation and asthma\"], [\"Pulmonary Vasculature and Critical Asthma Syndromes: a Comprehensive Review\"], [\"Adhesion molecules in lung diseases\"], [\"n\\u22123 Polyunsaturated fatty acids and inflammation: From molecular biology to the clinic\"], [\"The Role of Interleukin-8 and its Receptors in Inflammatory Lung Disease: Implications for Therapy\"], [\"Selectin Antagonists: Therapeutic Potential in Asthma and COPD\"], [\"Levels of IL-8 and myeloperoxidase in the lungs of pneumonia patients\"], [\"Lipid Mediators in Inflammatory Disorders\"], [\"Delivery Systems for Pulmonary Gene Therapy\"], [\"Therapeutic Applications\"], [\"Sensory Nerves and Airway Irritability\"], [\"Animal Models of Airway Diseases\"], [\"The Applicability of Mouse Models to the Study of Human Disease\"], [\"Peripheral Mechanisms II: The Pharmacology of Peripherally Active Antitussive Drugs\"], [\"Role of toll-like receptors in respiratory diseases\"], [\"Molecular Mechanisms for the Mechanical Modulation of Airway Responsiveness\"], [\"The Aftermath of Bronchoconstriction\"], [\"Use of Bronchoalveolar Lavage in Humans\\u2014Past Necessity and Future Imperative\"], [\"The pathogenesis of inflammatory disease: Surgical shock and multiple system organ failure\"], [\"Respiratory\"], [\"Acute Lung Injury: The Injured Lung Endothelium, Therapeutic Strategies for Barrier Protection, and Vascular Biomarkers\"], [\"Lung\"], [\"Gene Therapy for Lung Diseases\"], [\"Adenosine Receptors in the Lungs\"], [\"Sinusitis, Rhinitis, Asthma, and the Single Airway Hypothesis\"], [\"Pathophysiologic Role of Autophagy in Human Airways\"], [\"Diagnosis of Pulmonary Parasitic Diseases\"], [\"NOVEL THERAPEUTIC APPROACHES FOR ALLERGIC RHINITIS\"], [\"Acute Respiratory Failure\"], [\"Levels, Complement Activity and Polymorphisms of Mannan\\u2010Binding Lectin in Patients of Bronchial Asthma with Allergic Rhinitis\"], [\"Novel Markers for Alternative Activation of Macrophages: Macrophage Galactose\\u2010Type C\\u2010Type Lectins 1 and 2\"], [\"Asthma: Pathophysiology and Diagnosis\"], [\"Dual Role of Th17 Cytokines, IL-17A,F, and IL-22 in Allergic Asthma\"], [\"Exudative hyperresponsiveness of the airway microcirculation in seasonal allergic rhinitis\"], [\"The Respiratory System\"], [\"Differential expression of nuclear factor-kappaB mediates increased pulmonary expression of tumor necrosis factor-alpha and virus-induced asthma.\"], [\"[Role of toll-like receptors in respiratory diseases].\"], [\"Update on Exhaled Nitric Oxide in Clinical Practice.\"], [\"Interleukin-18 in pulmonary inflammatory diseases.\"], [\"Insulin-dependent phosphatidylinositol 3-kinase/Akt and ERK signaling pathways inhibit TLR3-mediated human bronchial epithelial cell apoptosis.\"], [\"Airway wall thickness is increased in COPD patients with bronchodilator responsiveness.\"], [\"The expression of proline-specific enzymes in the human lung.\"], [\"Solitary Cholinergic Stimulation Induces Airway Hyperreactivity and Transcription of Distinct Pro-inflammatory Pathways.\"], [\"Kallikrein-related peptidases in lung diseases.\"], [\"Matrix metalloproteinase 12 silencing: a therapeutic approach to treat pathological lung tissue remodeling?\"], [\"Proteomics of lung cell biology and pulmonary disease.\"], [\"Vitamin D and asthma.\"], [\"The emerging relationship between the airway microbiota and chronic respiratory disease: clinical implications.\"], [\"Angiogenesis and lymphangiogenesis in bronchial asthma.\"], [\"CCL11 enhances excitotoxic neuronal death by producing reactive oxygen species in microglia.\"], [\"Respiratory effects of sulfur mustard exposure, similarities and differences with asthma and COPD.\"], [\"Autophagy and role in asthma.\"], [\"Identification of trans Protein QTL for Secreted Airway Mucins in Mice and a Causal Role for Bpifb1.\"], [\"Inhibition of angiotensin II-induced contraction of human airway smooth muscle cells by angiotensin-(1-7) via downregulation of the RhoA/ROCK2 signaling pathway.\"], [\"Synergy of IL-27 and TNF-\\u03b1 in regulating CXCL10 expression in lung fibroblasts.\"], [\"A role for membrane-bound CD147 in NOD2-mediated recognition of bacterial cytoinvasion.\"], [\"Inhaled birch pollen extract induces airway hyperresponsiveness via oxidative stress but independently of pollen-intrinsic NADPH oxidase activity, or the TLR4-TRIF pathway.\"], [\"Rats susceptible to virus-induced asthma have a persistent virus-induced change in the predominant pulmonary form of the NF-\\u03baB inhibitor I\\u03baB\\u03b1.\"], [\"Expression, localisation and functional implications of the transporter protein PEPT2 in the upper respiratory tract.\"], [\"IL-27 targets Foxp3+ Tregs to mediate antiinflammatory functions during experimental allergic airway inflammation.\"], [\"Asthma and influenza virus infection:focusing on cell death and stress pathways in influenza virus replication.\"], [\"Human catalase, its polymorphisms, regulation and changes of its activity in different diseases.\"], [\"\\\"Hit-and-run\\\" effects of paramyxoviruses as a basis for chronic respiratory disease.\"], [\"Virus-induced airway hyperresponsiveness in man.\"], [\"Local renin-angiotensin II systems, angiotensin-converting enzyme and its homologue ACE2: their potential role in the pathogenesis of chronic obstructive pulmonary diseases, pulmonary hypertension and acute respiratory distress syndrome.\"], [\"The homeostatic r\\u00f4le of bronchoconstriction.\"], [\"Chemokine-like factor 1, a novel cytokine, contributes to airway damage, remodeling and pulmonary fibrosis.\"], [\"Microvascular exudative hyperresponsiveness in human coronavirus-induced common cold.\"], [\"The immunobiological and clinical role of vitamin D in obstructive lung diseases.\"], [\"Nanomaterials and nanoparticles: Sources and toxicity\"], [\"Targeting the NF-\\u03baB pathway in asthma and chronic obstructive pulmonary disease\"], [\"Airways exudation of plasma macromolecules: Innate defense, epithelial regeneration, and asthma\"], [\"What is the contribution of respiratory viruses and lung proteases to airway remodelling in asthma and chronic obstructive pulmonary disease?\"], [\"Respiratory medicine\"], [\"The Future of Antisense Oligonucleotides in the Treatment of Respiratory Diseases\"], [\"Genes and Pathways Regulating Decline in Lung Function and Airway Remodeling in Asthma\"], [\"The infant airway microbiome in health and disease impacts later asthma development\"], [\"Respiratory Viral Infections in Chronic Lung Diseases\"], [\"Molecular profiling of the human nasal epithelium: A proteomics approach\"], [\"Immunostimulants in respiratory diseases: focus on Pidotimod\"], [\"Human Pulmonary 3D Models For Translational Research\"], [\"The ADAM metalloproteinases\"], [\"Enteroviral proteases: structure, host interactions and pathogenicity\"], [\"Bronquiectasias\"], [\"Neonates with reduced neonatal lung function have systemic low-grade inflammation\"], [\"6. Asthma()()\"], [\"Poly(amidoamine) Dendrimer Nanocarriers and Their Aerosol Formulations for siRNA Delivery to the Lung Epithelium\"], [\"PROTEINASE INHIBITORS | Cystatins\"], [\"The history of respiratory disease management\"], [\"Effects of AntagomiRs on Different Lung Diseases in Human, Cellular, and Animal Models\"], [\"New aspects of p38 mitogen activated protein kinase (MAPK) biology in lung inflammation\"], [\"Viral infection of the lung: Host response and sequelae\"], [\"Upper airway inflammatory diseases and bronchial hyperresponsiveness\"], [\"TLRs in pulmonary diseases\"], [\"Oligonucleotide therapy: An emerging focus area for drug delivery in chronic inflammatory respiratory diseases\"], [\"Chapter 6 Airway Pathology\"], [\"Molecular Characterization of Transcriptome-wide Interactions between Highly Pathogenic Porcine Reproductive and Respiratory Syndrome Virus and Porcine Alveolar Macrophages in vivo\"], [\"OCCUPATIONAL DISEASES | Overview\"], [\"Alveolar macrophages in allergic asthma: An expression signature characterized by heat shock protein pathways\"], [\"The role of antibiotics in asthma\"], [\"Macrophage Polarization in Inflammatory Diseases\"], [\"Macrophages: Their role, activation and polarization in pulmonary diseases\"], [\"Genetic and environmental interaction in allergy and asthma\"], [\"A novel conserved family of Macro-like domains\\u2014putative new players in ADP-ribosylation signaling\"], [\"Role of macrolide therapy in chronic obstructive pulmonary disease\"], [\"Asthma\"], [\"Role of the Toll Like Receptor (TLR) Radical Cycle in Chronic Inflammation: Possible Treatments Targeting the TLR4 Pathway\"], [\"\\u2018The Microbiome and the Pathophysiology of Asthma\\u2019\"], [\"Cyclophilin A: a key player for human disease\"], [\"CD26 and Asthma: a Comprehensive Review\"], [\"The roles of miRNAs as potential biomarkers in lung diseases\"], [\"Emerging Regulatory Roles of Dual-Specificity Phosphatases in Inflammatory Airway Disease\"], [\"The Role of Autophagy in Eosinophilic Airway Inflammation\"], [\"Astragalin inhibits autophagy-associated airway epithelial fibrosis\"], [\"The infant airway microbiome in health and disease impacts later asthma development\"], [\"Cortex phellodendri Extract Relaxes Airway Smooth Muscle\"]], \"hovertemplate\": \"labels=5<br>pca_1=%{x}<br>pca_2=%{y}<br>title=%{customdata[0]}<extra></extra>\", \"legendgroup\": \"5\", \"marker\": {\"color\": \"#00cc96\", \"symbol\": \"circle\"}, \"mode\": \"markers\", \"name\": \"5\", \"showlegend\": true, \"type\": \"scattergl\", \"x\": [-0.1680515739705618, -0.18050756475650787, -0.22311617509224296, -0.23350903683382415, -0.19473898430815256, -0.258977084188263, -0.14850102929864278, -0.2366233180730135, -0.19150637425065392, -0.1733313131394634, -0.18205212833927242, -0.17340927727619332, -0.17010853997023923, -0.24335337053988784, -0.14032580420441376, -0.24823289093363562, -0.24985553877113104, -0.2454411771181197, -0.24791134185267732, -0.11918909926996296, -0.2229888601088869, -0.24588103362408517, -0.22097618481337383, -0.2106001350876365, -0.22162569216662917, -0.22672444191031987, -0.17486542057001986, -0.2028114415702849, -0.27559515651873473, -0.2435436855108595, -0.2084765127438455, -0.187651163523275, -0.18582508236331305, -0.22351477748584855, -0.23410138645374876, -0.18339179750729007, -0.22146955627611742, -0.18872448179096954, -0.2435604891318019, -0.15506780495007905, -0.25139697668345035, -0.120056898632707, -0.13755137886785596, -0.1997463941207966, -0.13756632036555194, -0.2532575666456396, -0.13971371847146766, -0.17297266212782478, -0.14922890130280683, -0.2059542614084757, -0.1612606690710012, -0.2957564506510386, -0.22987319454805794, -0.13233255976193203, -0.2768812166701534, -0.18911509412386746, -0.20488159530999783, -0.23722884663375468, -0.23525865421445788, -0.16285619017168562, -0.18430641647273613, -0.2526612408315221, -0.1950694855363962, -0.25901248298468593, -0.13305361628656392, -0.2121342593362955, -0.19179864490984894, -0.21187078609783114, -0.19359101225111944, -0.2445001225002079, -0.11793755809373052, -0.2088366696335115, -0.19252820661275222, -0.15607570751533392, -0.16842102893979488, -0.17979160090388205, -0.09899672152763146, -0.17418209995332634, -0.18058189667808977, -0.2290095914015144, -0.1168975325325809, -0.1759483180965703, -0.17647401470621174, -0.23166067494015963, -0.1881698848379466, -0.11575583825686885, -0.060060765584987755, -0.23359555413484212, -0.22730060336088626, 0.00655448848311083, -0.1949681950763791, -0.17542999890023056, -0.1733460454535682, -0.21057658207886695, -0.27302140788109225, -0.1324162629077274, -0.1635140495951989, -0.04698433938583445, -0.1216865675839058, -0.21853966104514813, -0.22741019215419825, -0.18542246851752162, -0.17659361748006377, -0.18360353231616383, -0.10974633418280773, -0.11213519675881804, -0.2300614727859783, -0.21335762970364305, -0.21185551103225733, -0.1416891913544281, -0.12079454877624737, -0.1899258294097065, -0.1128444825592152, -0.1896327254550168, -0.23827976759448777, -0.2734606123019751, -0.1935299633085332, -0.160480011929064, -0.13539986740094428, -0.21480735484099817, -0.18721818999262807, -0.21763586801958892, -0.1394687736398464, -0.2593196904136157, -0.3304991060932848, -0.2696663133589044, -0.2708892587798175, 0.00655448848311083, -0.16674130559352443], \"xaxis\": \"x\", \"y\": [0.1396488577584982, 0.010859147040315258, -0.021437171277459584, -0.014463386334446762, -0.06747704364142694, 0.04342836531635524, 0.09930120573149075, 0.04557333485354898, -0.06396590303271968, 0.01874348544801907, -0.06058839435101414, -0.05534902875113199, -0.047202035906667605, 0.041943228457077306, 0.0737519974670954, 0.033105006922545525, 0.03547094818512972, -0.0009152202672434041, 0.025225246812875638, -0.05762483698539832, -0.005190946043607456, -0.049182900130741884, -0.019774347530086164, -0.010559994574030236, 0.02816895212275701, 0.010401981271405122, -0.013223403096425222, 0.09721502733264831, 0.046854676495285505, 0.156280424596012, -0.014897994723412293, -0.01605158809605036, -0.0709659291535267, -0.06323737021832787, 0.01421942674644031, -0.03604472414396725, -0.009312808011784397, 0.1011451666061317, 0.06545499790224744, -0.04374936799963404, 0.04780739888081026, -0.06405588839521234, -0.07502010028774639, -0.03319519928474606, 0.020630590428176568, 0.027379098861759345, -0.06794449763148755, -0.003603336449570206, 0.07531002274601904, 0.1046637158515904, -0.015183447132017728, 0.10119412102178997, 0.0642060190888635, -0.08894251317298434, 0.008142384711448396, 0.05416643481563803, 0.06830287748514896, 0.008641208281046236, -0.003668166156555132, 0.05126818679412895, 0.047125682955426726, 0.024867113523287777, -0.03267179543826547, 0.015472322765188215, 0.1304141037620283, -0.014209259120719096, -0.03840628338452469, -0.016240079738288688, 0.01855196260495656, 0.04349575727970363, -0.010838931676519939, 0.010511366244194326, 0.005965030181731468, 0.05027637915804436, -0.03954571228771126, 0.2537518997044845, 0.14902701617905065, -0.051666010161500076, 0.00044300523818532195, -0.007122908833162623, -0.056625095379993676, 0.013548254201728508, -0.04791981244522153, 0.039499650701019844, -0.011418631323931972, 0.2246717018052993, 0.05823143259666373, 0.03605142970446655, 0.06749397701473969, 0.02337731812998307, 0.09221082223228363, -0.05270249312418811, 0.08471830630599575, 0.025765190483328225, 0.02572308572741706, 0.13629080172054805, 0.010065823783075514, -0.11257295274212883, 0.04131535617777867, -0.08971730209439557, 0.021926880675038698, -0.1120296957232412, -0.05857276889021403, -0.010657782342755995, 0.1618286652513868, 0.1088585722113949, 0.02765057440506851, -0.007117222026606718, 0.027603367555428762, 0.05372208686346653, -0.014826795208376488, -0.02588959522104084, 0.07382063460433332, -0.009197639532663554, -0.011205949584626586, 0.06529406282489804, -0.020709808580906784, -0.007981009243035542, 0.06589985038047012, -0.02327418451239019, 0.05699542671383481, 0.06262587190886704, 0.03171537150087227, 0.010533542029739412, 0.2413283468740198, 0.05665427127900795, 0.013730428508465226, 0.02337731812998307, -0.06033207929164451], \"yaxis\": \"y\"}, {\"customdata\": [[\"The Tennessee Children's Respiratory Initiative: Objectives, design and recruitment results of a prospective cohort study investigating infant viral respiratory illness and the development of asthma and allergic diseases\"], [\"Attenuated Respiratory Syncytial Virus Vaccines in Asthmatic Children\"], [\"Respiratory Syncytial Virus\\u2014A Comprehensive Review\"], [\"Respiratorische Notf\\u00e4lle im Kindes- und Jugendalter\"], [\"Severe bronchiolitis in children\"], [\"Human Respiratory Syncytial Virus: Biology, Epidemiology, and Control\"], [\"Bronchiolitis\"], [\"A review of palivizumab and emerging therapies for respiratory syncytial virus.\"], [\"Severe bronchiolitis profiles and risk of recurrent wheeze by age 3 years.\"], [\"Use of heliox delivered via high-flow nasal cannula to treat an infant with coronavirus-related respiratory infection and severe acute air-flow obstruction.\"], [\"Heliox inhalation therapy for bronchiolitis in infants.\"], [\"Exchange Proteins Directly Activated by cAMP and Their Roles in Respiratory Syncytial Virus Infection.\"], [\"Changes in helper lymphocyte chemokine receptor expression and elevation of IP-10 during acute respiratory syncytial virus infection in infants.\"], [\"Infectious pathogens and bronchiolitis outcomes.\"], [\"Respiratory syncytial virus, human bocavirus and rhinovirus bronchiolitis in infants.\"], [\"Respiratory syncytial virus persistence in chronic obstructive pulmonary disease.\"], [\"How Respiratory Syncytial Virus Genotypes Influence the Clinical Course in Infants Hospitalized for Bronchiolitis.\"], [\"Pediatric Asthma and Viral Infection.\"], [\"Immunization of macaques with formalin-inactivated respiratory syncytial virus (RSV) induces interleukin-13-associated hypersensitivity to subsequent RSV infection.\"], [\"Respiratory syncytial virus infection and recurrent wheeze/asthma in children under five years: an epidemiological survey.\"], [\"Role of rhinovirus in hospitalized infants with respiratory tract infections in Spain.\"], [\"Influence of viral and bacterial respiratory infections on exacerbations and symptom severity in childhood asthma.\"], [\"Influence of maternal asthma on the cause and severity of infant acute respiratory tract infections\"], [\"Children hospitalized with rhinovirus bronchiolitis have asthma-like characteristics\"], [\"Respiratory viruses in bronchiolitis and their link to recurrent wheezing and asthma\"], [\"Bronchiolitis needs a revisit: Distinguishing between virus entities and their treatments\"], [\"The Link Between Bronchiolitis and Asthma\"], [\"Bronchiolitis: Analysis of 10 consecutive epidemic seasons\"], [\"Bronchiolitis and asthma: Possible common pathogenetic pathways\"], [\"Respiratory syncytial virus: The virus, the disease and the immune response\"], [\"Viral bronchiolitis in children: A common condition with few therapeutic options()\"], [\"Asma y virus en el ni\\u00f1o\"], [\"Interferon-gamma levels in nasopharyngeal secretions of infants with respiratory syncytial virus and other respiratory viral infections\"], [\"Spontaneous pneumomediastinum as a complication in human bocavirus infection\"], [\"Lung function and bronchial hyper\\u2010responsiveness 11 years after hospitalization for bronchiolitis\"], [\"Respiratory Picornaviruses and Respiratory Syncytial Virus as Causative Agents of Acute Expiratory Wheezing in Children\"], [\"Rhinovirus Type in Severe Bronchiolitis and the Development of Asthma\"], [\"Host and Viral Factors in Respiratory Syncytial Virus Infection\"], [\"Role of viral coinfections in asthma development\"], [\"Combined fluticasone propionate and salmeterol reduces RSV infection more effectively than either of them alone in allergen-sensitized mice\"], [\"Neutrophils in respiratory syncytial virus infection: A target for asthma prevention\"], [\"Thymic stromal lymphopoietin, IL-33, and periostin in hospitalized infants with viral bronchiolitis\"], [\"Pediatric Asthma and Viral Infection\"], [\"Marqueurs biologiques de gravit\\u00e9 initiale des bronchiolites aigu\\u00ebs et d\\u2019\\u00e9volution vers un asthme du nourrisson\"]], \"hovertemplate\": \"labels=3<br>pca_1=%{x}<br>pca_2=%{y}<br>title=%{customdata[0]}<extra></extra>\", \"legendgroup\": \"3\", \"marker\": {\"color\": \"#ab63fa\", \"symbol\": \"circle\"}, \"mode\": \"markers\", \"name\": \"3\", \"showlegend\": true, \"type\": \"scattergl\", \"x\": [0.17719099312781414, 0.1062482637522718, 0.03596685525716146, 0.030712540933344287, 0.15078122206330902, 0.14023432085154802, 0.14621003486207235, -0.058858602912844095, 0.16315236927468912, 0.0381070515253273, 0.046570811851816676, -0.07997909886988916, 0.0069460398851229795, 0.04873231840995343, 0.2130640757711948, -0.04088154055086677, 0.12307942294901486, 0.3744079044204439, -0.0831284348962141, 0.3004447807891573, 0.41660191899116816, 0.14172195088240816, 0.1854496733408636, 0.2727003746567197, 0.25333440074042435, 0.19056072009010439, 0.21231038364597682, 0.2011590235689038, 0.051911786124678845, 0.029857091885096138, 0.14893828764601647, 0.38524344681464084, 0.1750054456719443, 0.10985631704296928, 0.1375776031680492, 0.37194519782894075, 0.1689982584922565, -0.012858843331110217, 0.27612826506832255, -0.04871766961289787, -0.06594176180634781, 0.14241322024107828, 0.38294336980981647, 0.09008573191008482], \"xaxis\": \"x\", \"y\": [0.09601316505143521, -0.018890424174683357, 0.12297123583968454, -0.05961228375267121, -7.225350040708164e-05, 0.06098053574379202, -0.041745320933926744, 0.01621271099580338, -0.10245593619948173, 0.045110096771351554, -0.16482352446173135, 0.14395573675150075, -0.021252681076289196, 0.02849112064984034, -0.04862713303822016, 0.1211215437474865, -0.0603403648639937, 0.2603962188378132, 0.04926707140411844, -0.05373116114983227, -0.018640817286742738, 0.14454670083895876, 0.09092428275716763, -0.10122854926776664, 0.06291204566166514, -0.019791420587591535, 0.1219360803092827, -0.1494768677713811, 0.053115821561935984, 0.23376115844190629, -0.045756394472813725, 0.2522119344765357, 0.08660820113647938, 0.03043815907424963, -0.08054116303755347, 0.05298947950474348, -0.14049986071791676, 0.0511070588788903, -0.0634523815904614, 0.03736738775570979, 0.10231922955641984, -0.022311798165049173, 0.2518159052998406, -0.021435631779789528], \"yaxis\": \"y\"}, {\"customdata\": [[\"Analysing the eosinophil cationic protein - a clue to the function of the eosinophil granulocyte\"], [\"Specificity and Effector Functions of Human RSV-Specific IgG from Bovine Milk\"], [\"Early-Life Exposure to Clostridium leptum Causes Pulmonary Immunosuppression\"], [\"Euphorbia tirucalli modulates gene expression in larynx squamous cell carcinoma\"], [\"Heme Oxygenase-1-Expressing Dendritic Cells Promote Foxp3(+) Regulatory T Cell Differentiation and Induce Less Severe Airway Inflammation in Murine Models\"], [\"Interferon-\\u03b2 deficiency at asthma exacerbation promotes MLKL mediated necroptosis\"], [\"Clara Cell 10 kDa Protein Alleviates Murine Hepatitis Virus Strain 3-Induced Fulminant Hepatitis by Inhibiting Fibrinogen-Like Protein 2 Expression\"], [\"Pelargonium sidoides radix extract EPs 7630 reduces rhinovirus infection through modulation of viral binding proteins on human bronchial epithelial cells\"], [\"Saponins of Dioscorea Nipponicae Inhibits IL-17A-Induced Changes in Biomechanical Behaviors of In Vitro Cultured Human Airway Smooth Muscle Cells\"], [\"Bronchial inflammation and the common cold: a comparison of atopic and non\\u2010atopic individuals\"], [\"Mechanisms of Hypersensitivity\"], [\"Chemokine Receptors in Allergic Lung Disease\"], [\"Virus\\u2010provoked rhinitis and asthma in allergic patients\"], [\"Adenosine Receptor A2a is Differentially Expressed in CD4(+) T Lymphocytes of Asthmatic and Healthy Individuals\"], [\"Anti-IL-5 in Mild Asthma Alters Rhinovirus-induced Macrophage, B-Cell, and Neutrophil Responses (MATERIAL). A Placebo-controlled, Double-Blind Study.\"], [\"Poly(inosinic-cytidylic) acid-triggered exacerbation of experimental asthma depends on IL-17A produced by NK cells.\"], [\"Human respiratory coronaviruses : neuroinvasive, neurotropic and potentially neurovirulent pathogens.\"], [\"Cell cycle arrest by transforming growth factor beta1 enhances replication of respiratory syncytial virus in lung epithelial cells.\"], [\"Dendritic cells in viral bronchiolitis.\"], [\"Rhinovirus C, Asthma, and Cell Surface Expression of Virus Receptor CDHR3.\"], [\"EPITOPE-BASED VACCINE FOR THE TREATMENT OF DER F 3 ALLERGY.\"], [\"Small interfering RNAs targeted to interleukin-4 and respiratory syncytial virus reduce airway inflammation in a mouse model of virus-induced asthma exacerbation.\"], [\"Cadherin-related family member 3, a childhood asthma susceptibility gene product, mediates rhinovirus C binding and replication.\"], [\"Pulmonary immunity to viruses.\"], [\"Interactions between innate antiviral and atopic immunoinflammatory pathways precipitate and sustain asthma exacerbations in children.\"], [\"Inhaled innate immune ligands to prevent pneumonia.\"], [\"Interferon-\\u03bbs: special immunomodulatory agents and potential therapeutic targets.\"], [\"Interferon lambda genetic polymorphisms and viral infection: the tip of the iceberg?\"], [\"MicroRNA-744 Inhibits Proliferation of Bronchial Epithelial Cells by Regulating Smad3 Pathway via Targeting Transforming Growth Factor-\\u03b21 (TGF-\\u03b21) in Severe Asthma.\"], [\"Beta-escin has potent anti-allergic efficacy and reduces allergic airway inflammation.\"], [\"Human Rhinovirus Diversity and Evolution: How Strange the Change from Major to Minor.\"], [\"The suppression of innate immune response by human rhinovirus C.\"], [\"The Interplay between Host Immunity and Respiratory Viral Infection in Asthma Exacerbation.\"], [\"Impaired type I and III interferon response to rhinovirus infection during pregnancy and asthma.\"], [\"Atomic structure of a rhinovirus C, a virus species linked to severe childhood asthma.\"], [\"Membrane-bound carboxypeptidase E facilitates the entry of eosinophil cationic protein into neuroendocrine cells.\"], [\"Nitric oxide and the common cold.\"], [\"The first autopsy case of pandemic influenza (A/H1N1pdm) virus infection in Japan: detection of a high copy number of the virus in type II alveolar epithelial cells by pathological and virological examination.\"], [\"Expression of costimulatory molecules in peripheral blood mononuclear cells of atopic asthmatic children during virus-induced asthma exacerbations.\"], [\"Rhinoviral infections activate p38MAP-kinases via membrane rafts and RhoA.\"], [\"The immunological synapse for B-cell memory: the role of the ICOS and its ligand for the longevity of humoral immunity.\"], [\"The role of epithelial injury and repair in the origins of asthma.\"], [\"The role of p38 MAPK in rhinovirus-induced monocyte chemoattractant protein-1 production by monocytic-lineage cells.\"], [\"Rhinovirus infection in nonasthmatic subjects: effects on intrapulmonary airways.\"], [\"TLR3- and Th2 cytokine-dependent production of thymic stromal lymphopoietin in human airway epithelial cells.\"], [\"Respiratory syncytial virus infection results in airway hyperresponsiveness and enhanced airway sensitization to allergen.\"], [\"TLR3-mediated synthesis and release of eotaxin-1/CCL11 from human bronchial smooth muscle cells stimulated with double-stranded RNA.\"], [\"Proximal airway mucous cells of ovalbumin-sensitized and -challenged Brown Norway rats accumulate the neuropeptide calcitonin gene-related peptide.\"], [\"Cyclooxygenase-2/prostaglandin D2/CRTH2 pathway mediates double-stranded RNA-induced enhancement of allergic airway inflammation.\"], [\"The immunology of virus infection in asthma.\"], [\"Immunology taught by lung dendritic cells.\"], [\"Rhinoviruses as pathogens of the lower respiratory tract.\"], [\"The TLR4 Agonist Immunomax Affects the Phenotype of Mouse Lung Macrophages during Respiratory Syncytial Virus Infection\"], [\"Influence of viral infection on the relationships between airway cytokines and lung function in asthmatic children\"], [\"Respiratory Infection and Airway Reactivity\"], [\"Asthma, Viruses, and Nitric Oxide\"], [\"RANTES, Macrophage-Inhibitory Protein 1\\u03b1, and the Eosinophil Product Major Basic Protein Are Released into Upper Respiratory Secretions during Virus-Induced Asthma Exacerbations in Children\"], [\"Innate immune response to viral infection of the lungs\"], [\"Cord blood hemopoietic progenitor profiles predict acute respiratory symptoms in infancy\"], [\"Increased Systemic Cytokine/Chemokine Expression in Asthmatic and Non\\u2010asthmatic Patients with Bacterial, Viral or Mixed Lung Infection\"], [\"Synthetic double-stranded RNA enhances airway inflammation and remodelling in a rat model of asthma\"], [\"Rhinovirus inhibits IL-17A and the downstream immune responses in allergic asthma\"], [\"Rhinovirus C targets ciliated airway epithelial cells\"], [\"Antimicrobial strategies: An option to treat allergy?\"], [\"Dudleya brittonii extract promotes survival rate and M2-like metabolic change in porcine 3D4/31 alveolar macrophages\"], [\"Prolonged nasal eosinophilia in all_ergic patients after common cold\"], [\"Impacts of allergic airway inflammation on lung pathology in a mouse model of influenza A virus infection\"], [\"Mechanisms of rhinovirus-induced asthma\"], [\"Respiratory health, allergies, and the farm environment: design, methods and enrollment in the observational Wisconsin Infant Study Cohort (WISC): a research proposal\"], [\"Influenza A virus infection increases IgE production and airway responsiveness in aerosolized antigen-exposed mice()()()\"], [\"Pentraxin 3 deletion aggravates allergic inflammation through a TH17-dominant phenotype and enhanced CD4 T-cell survival\"], [\"Dendritic Cells from Aged Subjects Display Enhanced Inflammatory Responses to Chlamydophila pneumoniae\"], [\"Increased cytokine/chemokines in serum from asthmatic and non-asthmatic patients with viral respiratory infection\"], [\"Infections virales et asthme\"], [\"Virus-triggered exacerbation in allergic asthmatic children: neutrophilic airway inflammation and alteration of virus sensors characterize a subgroup of patients\"], [\"Airway protease/antiprotease imbalance in atopic asthmatics contributes to increased Influenza A virus cleavage and replication\"], [\"A systems approach to understanding human rhinovirus and influenza virus infection\"], [\"Interferon response of the cystic fibrosis bronchial epithelium to major and minor group rhinovirus infection\"], [\"Construction of a recombinant rhinovirus accommodating fluorescent marker expression\"], [\"Allergie respiratoire et virus\"], [\"Aspirin Intolerance: Experimental Models for Bed-to-Bench\"], [\"Vascular endothelial growth factor induction by rhinovirus infection\"], [\"Human coronaviruses: Viral and cellular factors involved in neuroinvasiveness and neuropathogenesis\"], [\"Respiratory viral infections drive chemokine expression and exacerbate the asthmatic response\"], [\"Rhinovirus replication and innate immunity in highly differentiated human airway epithelial cells\"], [\"Eosinophils: changing perspectives in health and disease\"], [\"Macrophage activation state determines the response to rhinovirus infection in a mouse model of allergic asthma\"], [\"Infections respiratoires aigu\\u00ebs virales et asthme de l'enfant Aspects \\u00e9pid\\u00e9miologiques, immunopathologiques et th\\u00e9rapeutiques\"], [\"Host defense function of the airway epithelium in health and disease: clinical background\"], [\"Quercetin inhibits rhinovirus replication in vitro and in vivo\"], [\"Human TSLP and TLR3 ligands promote differentiation of Th17 cells with a central memory phenotype under Th2\\u2010polarizing conditions\"], [\"An Insight into the Diverse Roles of Surfactant Proteins, SP-A and SP-D in Innate and Adaptive Immunity\"], [\"The role of airway macrophages in apoptotic cell clearance following acute and chronic lung inflammation\"], [\"Antiviral and Anti-Inflammatory Activities of Pochonin D, a Heat Shock Protein 90 Inhibitor, against Rhinovirus Infection\"], [\"Virus associated immune and pharmacologic mechanisms in disorders of respiratory and cutaneous atopy\"], [\"Inhaled corticosteroid use is associated with increased circulating T regulatory cells in children with asthma\"], [\"Chitinase 3\\u2010like 1 protein plays a critical role in respiratory syncytial virus\\u2010induced airway inflammation\"], [\"Neuroinvasive and Neurotropic Human Respiratory Coronaviruses: Potential Neurovirulent Agents in Humans\"]], \"hovertemplate\": \"labels=9<br>pca_1=%{x}<br>pca_2=%{y}<br>title=%{customdata[0]}<extra></extra>\", \"legendgroup\": \"9\", \"marker\": {\"color\": \"#FFA15A\", \"symbol\": \"circle\"}, \"mode\": \"markers\", \"name\": \"9\", \"showlegend\": true, \"type\": \"scattergl\", \"x\": [-0.16146147385274545, -0.03024334545027904, -0.17852932437771177, -0.22224867392748643, -0.266306126671487, -0.1753767260101628, -0.22748420249060888, -0.16633557493293358, -0.26135755599291294, -0.039306351996738514, -0.22656624905324707, -0.3158528754231331, -0.04680026148981157, -0.2035010106010239, -0.14044053402427736, -0.20491157548758554, -0.0024624498669294963, -0.11838522018592018, -0.031944381785870224, -0.05997629243325506, -0.12539109079075883, -0.10989860016702863, -0.06130637937400327, -0.10651277677451892, -0.1175747259286283, -0.14108152672627475, -0.20345042036459032, -0.0746695390148289, -0.22157437081138973, -0.2517044259464563, -0.03077146017759693, -0.10775418439261399, -0.1654969566118766, -0.037546756532772355, -0.037281602812762285, -0.2382737709718903, -0.14627777653811, -0.06607981391592951, -0.04744511835055727, -0.12071090964948364, -0.15744597374524474, -0.18562938826737813, -0.16059197321569896, -0.1766066428103713, -0.16723378635189842, -0.145876480404917, -0.13128578246504308, -0.2213383134503991, -0.2385949056403821, -0.18532971278259264, -0.2382910399490908, -0.048960963423874355, -0.13963402126472185, -0.0019926027570992422, -0.0841264135278818, -0.1539310042848548, -0.030071639173171495, -0.1324332296321996, 0.0029286657554919646, 0.0015557123098938752, -0.20184835913208496, -0.19618468842260503, -0.17559967803677304, -0.1690709993595582, -0.2317757426788813, -0.10202539438317076, -0.040222735558486475, -0.06920966827959793, -0.046741063340361884, -0.07748540426488269, -0.25615644789024106, -0.13897349466565379, 0.018590624959037072, -0.012749133865826254, -0.02710231463410332, -0.10942322738156125, -0.07296324998918784, -0.0937581867549536, -0.14879228613946702, -0.11312026086879404, -0.25922262295903675, -0.11634746462140898, -0.015333222874844765, -0.12257765466334675, -0.14790255528103244, -0.2039723296392723, -0.2309185102694307, -0.06607262216056725, -0.09751019542867566, -0.14928550076430203, -0.20665193297736062, -0.28354679863705845, -0.3090516855326286, -0.09938257755935138, -0.19617195091671819, -0.1157963374129906, -0.10223126973391082, -0.0036320073620520893], \"xaxis\": \"x\", \"y\": [-0.0032537982066308067, 0.09717039659744328, 0.03084826455611091, -0.05097730768187446, 0.05956844899285686, 0.04464672083541313, 0.040645789568546226, 0.07210167168795294, 0.004569540417094113, 0.054325988892117365, -0.03188236101634131, 0.08603632038148847, 0.10152581728213526, -0.048913579455923534, -0.03612954082470051, 0.1741153589317555, 0.1403293965671241, 0.10334256453065196, 0.1882769038414143, 0.0011585524216944955, -0.09089985306642381, 0.0666166289419387, 0.0414832239478476, 0.23103338958951564, 0.1345556564417091, 0.03170994454257097, -0.001738245772261388, 0.1317647521168742, 0.011951677576960577, -0.01688833023444225, 0.024764722134330643, 0.07002148190345243, 0.25192129701343074, 0.008763479833861729, -0.001694683800828976, -0.012707267354273835, 0.11752362888901027, -0.010034217826313932, 0.09465765879547373, 0.09736257468054074, 0.03338984281489037, 0.09874130772035906, 0.11701478783179053, 0.11166543717424383, 0.0011180242223021997, 0.25521132920656436, 0.03255456407447009, 0.01133693258149222, 0.10634789534057902, 0.2759744579533799, 0.056289544665182156, 0.16195807756242958, 0.08143468120793983, 0.10318942473054507, 0.12662436176513162, 0.35144474784373175, 0.033630112989611785, 0.2753912761060482, 0.04377312615837133, 0.010722290909634783, 0.060835082782505115, 0.16419298942417918, 0.0500438032075702, 0.18953284480813956, -0.03367836867022932, 0.004077741541046379, 0.1435742328060814, 0.181018661600741, 0.09765678665722055, 0.003067602618536615, 0.038127272789209604, 0.04319816917136595, 0.030900710168848634, 0.1791882012602968, 0.08005021207011197, 0.047897417497589245, 0.2071537253727491, 0.03247832453690051, 0.031166210851085206, 0.27049568455050943, 0.06412695445956096, 0.09528860328993924, 0.2158450344988932, 0.2721188038177325, 0.11087040544643396, 0.013420802036307414, 0.11675919606170308, 0.2468328113686397, 0.342363153781773, 0.17397172261710797, 0.006417468205381176, 0.07618460416948279, 0.08081642875700552, 0.19450237828877137, 0.10063601698117423, -0.050794771579992085, 0.1324607315562599, 0.2293693354857445], \"yaxis\": \"y\"}, {\"customdata\": [[\"Proposals for the classification of human rhinovirus species A, B and C into genotypically assigned types\"], [\"Epidemiology\"], [\"The role of rhinovirus infections in the development of early childhood asthma.\"], [\"Rhinovirus-induced bronchiolitis and asthma development.\"], [\"Association between human rhinovirus C and severity of acute asthma in children.\"], [\"Impact of Human Rhinovirus Types and Viral Load on the Severity of Illness in Hospitalized Children With Lower Respiratory Tract Infections.\"], [\"Rhinovirus and the initiation of asthma.\"], [\"Clinical spectrum of human rhinovirus infections in hospitalized Hong Kong children.\"], [\"Human rhinoviruses.\"], [\"Phosphatidylinositol 4-kinase III beta is essential for replication of human rhinovirus and its inhibition causes a lethal phenotype in vivo.\"], [\"Rhinoviral infection and asthma: the detection and management of rhinoviruses by airway epithelial cells.\"], [\"Clinical features and complete genome characterization of a distinct human rhinovirus (HRV) genetic cluster, probably representing a previously undetected HRV species, HRV-C, associated with acute respiratory illness in children.\"], [\"Asthma exacerbations in children associated with rhinovirus but not human metapneumovirus infection.\"], [\"Rhinoviruses significantly affect day-to-day respiratory symptoms of children with asthma\"], [\"A novel group of rhinoviruses is associated with asthma hospitalizations\"], [\"Viruses and atypical bacteria associated with asthma exacerbations in hospitalized children\"], [\"All Known Human Rhinovirus Species Are Present in Sputum Specimens of Military Recruits During Respiratory Infection\"], [\"Rhinovirus-Infected Epithelial Cells Produce More IL-8 and RANTES Compared With Other Respiratory Viruses\"], [\"High prevalence of human rhinovirus C infection in Thai children with acute lower respiratory tract disease\"], [\"Utility of animal and in vivo experimental infection of humans with rhinoviruses in the development of therapeutic agents for viral exacerbations of asthma and chronic obstructive pulmonary disease\"], [\"Biological characteristics and propagation of human rhinovirus-C in differentiated sinus epithelial cells\"], [\"Interactions of Respiratory Viruses and the Nasal Microbiota during the First Year of Life in Healthy Infants\"], [\"Enteroviruses as major cause of microbiologically unexplained acute respiratory tract infections in hospitalized pediatric patients\"], [\"Serotype and genetic diversity of human rhinovirus strains that circulated in Kenya in 2008\"], [\"Molecular detection of respiratory pathogens and typing of human rhinovirus of adults hospitalized for exacerbation of asthma and chronic obstructive pulmonary disease\"], [\"Presence of rhinovirus in the respiratory tract of adolescents and young adults with asthma without symptoms of infection\"], [\"Novel Human Rhinoviruses and Exacerbation of Asthma in Children\"], [\"Epidemiological analysis and follow\\u2010up of human rhinovirus infection in children with asthma exacerbation\"], [\"Community-Wide, Contemporaneous Circulation of a Broad Spectrum of Human Rhinoviruses in Healthy Australian Preschool-Aged Children During a 12-Month Period\"], [\"Updates in the Relationship Between Human Rhinovirus and Asthma\"], [\"Update on Human Rhinovirus and Coronavirus Infections\"], [\"The human rhinovirus: human\\u2010pathological impact, mechanisms of antirhinoviral agents, and strategies for their discovery\"], [\"Rhinovirus chemotherapy\"], [\"Human rhinovirus C: Age, season, and lower respiratory illness over the past 3 decades\"], [\"Host factors and viral factors associated with severity of human rhinovirus infant respiratory illness\"], [\"Clinical and epidemiological features of respiratory virus infections in preschool children over two consecutive influenza seasons in southern Brazil\"], [\"Rhinovirus and the lower respiratory tract\"], [\"Rhinoviruses\"], [\"Molecular characterization and distinguishing features of a novel human rhinovirus (HRV) C, HRVC-QCE, detected in children with fever, cough and wheeze during 2003\"], [\"Clinical characteristics and outcomes of human rhinovirus positivity in hospitalized children\"], [\"Molecular Epidemiology of Human Rhinovirus in Children with Acute Respiratory Diseases in Chongqing, China\"], [\"Human rhinovirus C: a newly discovered human rhinovirus species\"], [\"Detection and characterization of respiratory viruses causing acute respiratory illness and asthma exacerbation in children during three different seasons (2011\\u20132014) in Mexico City\"]], \"hovertemplate\": \"labels=1<br>pca_1=%{x}<br>pca_2=%{y}<br>title=%{customdata[0]}<extra></extra>\", \"legendgroup\": \"1\", \"marker\": {\"color\": \"#19d3f3\", \"symbol\": \"circle\"}, \"mode\": \"markers\", \"name\": \"1\", \"showlegend\": true, \"type\": \"scattergl\", \"x\": [0.00876657749447609, 0.1353868447007091, 0.14383725145416934, 0.2169280284024063, 0.26581544899882203, 0.2617996232003498, 0.16057093470722217, 0.25168334902161604, 0.07313097983945355, -0.09170966167857171, -0.09182895371288631, 0.11425172656784559, 0.188653924869948, 0.1779890261635706, 0.2106364346289071, 0.2823482615215825, 0.05240603209860768, -0.06447081462926357, 0.21096376898038988, 0.0009664027951397335, -0.03203440889322619, 0.0648450079094012, 0.16181111193514824, 0.0906090608833107, 0.1665651832117171, 0.15652495460699573, 0.06170743014579734, 0.1688217870796179, 0.11125112979277009, 0.17366976331253722, 0.09643642243294259, -0.09846158926341647, 0.10312423169336057, 0.21082023915779244, 0.17028900981859962, 0.25690506972894667, 0.10284776463137327, 0.025649659528370644, 0.17324752641832783, 0.21944004207139664, 0.10618382804787342, 0.10560682724145633, 0.32792698579210866], \"xaxis\": \"x\", \"y\": [-0.011166198872288757, 0.13591949133556402, 0.1763771558074985, 0.026031121970552344, -0.02367331902688008, 0.00021545876835539404, 0.24539258076345674, -0.03807170818456427, 0.08433962489734403, -0.019968806428360866, 0.23116555225883736, -0.027724372253372195, -0.02498851975626916, -0.03240773431059739, -0.13916874219091857, -0.11577685251779492, -0.022315247192710785, 0.09866189208115, -0.02793126298454935, 0.20297258604203, -0.004363209981523191, 0.0995004103301537, -0.09517617309422124, -0.0500934250044295, 0.04731442112434919, -0.007130273387574934, 0.016484735278260446, 0.01658785515097731, 0.028274776661303333, 0.11623637610807783, 0.1569292975573776, 0.07559944009551817, 0.1708508023929608, -0.042944153962623424, -0.024101557104770608, -0.013103616474773337, 0.18690478464293891, 0.09710500320301285, -0.05190676361143601, -0.11767646923955109, -0.018503542200496485, -0.02321506571560382, 0.175631339252512], \"yaxis\": \"y\"}, {\"customdata\": [[\"Genome Sequences of Rhinovirus C Isolates from Wisconsin Pediatric Respiratory Studies\"], [\"Nasal Cytokine Profiles of Patients Hospitalised with Respiratory Wheeze Associated with Rhinovirus C\"], [\"The wheezing infant\"], [\"Characteristics and prognosis of hospital\\u2010treated obstructive bronchitis in children aged less than two years\"], [\"Special Considerations in Preschool Age\"], [\"The Role of Influenza Vaccination in Asthmatic Children\"], [\"Infections\"], [\"Multiple Breath Washout for Diagnosing Asthma and Persistent Wheeze in Young Children.\"], [\"Bronchiolitis: age and previous wheezing episodes are linked to viral etiology and atopic characteristics.\"], [\"Wheezing rhinovirus illnesses in early life predict asthma development in high-risk children.\"], [\"Clinical characteristics of children infected with enterovirus D68 in an outpatient clinic and the association with bronchial asthma.\"], [\"Cadherin-related Family Member 3 Genetics and Rhinovirus C Respiratory Illnesses.\"], [\"Intravenous magnesium sulfate for acute wheezing in young children: a randomised double-blind trial.\"], [\"Febrile respiratory illnesses in infancy and atopy are risk factors for persistent asthma and wheeze.\"], [\"Recurrent wheezing illness in preschool-aged children: assessment and management in primary care practice.\"], [\"High risk of adult asthma following severe wheezing in early life.\"], [\"Altered exhaled biomarker profiles in children during and after rhinovirus-induced wheeze.\"], [\"Rhinovirus bronchiolitis and recurrent wheezing: 1-year follow-up.\"], [\"Rhinovirus infections in infancy and early childhood.\"], [\"Dynamics of the upper airway microbiome in the pathogenesis of asthma-associated persistent wheeze in preschool children\"], [\"IL-13 genetic polymorphism identifies children with late wheezing after respiratory syncytial virus infection.\"], [\"Intermittent inhaled corticosteroids in infants with episodic wheezing.\"], [\"Association between renin-angiotensin system gene polymorphism and recurrent wheezing in Chinese children: a 4-year follow-up study.\"], [\"Recurrent wheezing 36 months after bronchiolitis is associated with rhinovirus infections and blood eosinophilia\"], [\"Short- and long-term efficacy of prednisolone for first acute rhinovirus-induced wheezing episode\"], [\"Rhinovirus-induced first wheezing episode predicts atopic but not nonatopic asthma at school age\"], [\"The contributions of allergic sensitization and respiratory pathogens to asthma inception\"], [\"Decreased lung function after preschool wheezing rhinovirus illnesses in children at risk to develop asthma\"], [\"Role of viral infections in the development and exacerbation of asthma in children\"], [\"High Titers of IgE Antibody to Dust Mite Allergen and the Risk for Wheezing Among Asthmatic Children Infected with Rhinovirus\"], [\"Prevalence of rhinoviruses in young children of an unselected birth cohort from the Netherlands\"], [\"The relevance of allergen exposure to the development of asthma in childhood()()()\"], [\"32 Special Considerations for Infants and Young Children\"], [\"The first wheezing episode: respiratory virus etiology, atopic characteristics, and illness severity\"], [\"Rhinovirus-induced wheezing in infancy\\u2014the first sign of childhood asthma?()()\"], [\"Prednisolone for the first rhinovirus\\u2010induced wheezing and 4\\u2010year asthma risk: A randomized trial\"], [\"Wheezing exacerbations in early childhood: evaluation, treatment, and recent advances relevant to the genesis of asthma\"], [\"Duration of wheezy episodes in early childhood is independent of the microbial trigger\"], [\"Beyond Respiratory Syncytial Virus and Rhinovirus in the Pathogenesis and Exacerbation of Asthma: The Role of Metapneumovirus, Bocavirus and Influenza Virus\"], [\"Early-life respiratory viral infections, atopic sensitization, and risk of subsequent development of persistent asthma\"], [\"Risk factors for wheezing in a subtropical environment(): Role of respiratory viruses and allergen sensitization\"], [\"Wheezing in preschool children()\"], [\"The effect of respiratory syncytial virus on subsequent recurrent wheezing in atopic and nonatopic children\"], [\"Objectives, design and enrollment results from the Infant Susceptibility to Pulmonary Infections and Asthma Following RSV Exposure Study (INSPIRE)\"], [\"Atopic characteristics of wheezing children and responses to prednisolone\"], [\"Teenage asthma after severe early childhood wheezing: An 11\\u2010year prospective follow\\u2010up\"], [\"The role of respiratory virus infections in childhood asthma inception\"], [\"Wheezing due to rhinovirus infection in infancy: Bronchial hyperresponsiveness at school age\"], [\"Rhinitis, Asthma and Respiratory Infections among Adults in Relation to the Home Environment in Multi-Family Buildings in Sweden\"], [\"Early life rhinovirus wheezing, allergic sensitization, and asthma risk at adolescence\"], [\"Rhinoviruses, Allergic Inflammation, and Asthma\"], [\"Clinical risk factors associated with the development of wheezing in children less than 2 years of age who required hospitalization for viral lower respiratory tract infections\"], [\"Genetic polymorphisms and risk of recurrent wheezing in pediatric age\"], [\"The association of viral and bacterial respiratory infections with exacerbations of wheezing in young asthmatic children\"], [\"The Wheezing Illnesses Study Leidsche Rijn (WHISTLER): Rationale and Design\"], [\"The role of respiratory tract infections and the microbiome in the development of asthma: A narrative review\"], [\"Association of bacteria and viruses with wheezy episodes in young children: prospective birth cohort study\"], [\"Prednisolone reduces recurrent wheezing after a first wheezing episode associated with rhinovirus infection or eczema\"], [\"Systemic T-helper and T-regulatory cell type cytokine responses in rhinovirus vs. respiratory syncytial virus induced early wheezing: an observational study\"], [\"Viral-Induced Wheeze and Asthma Development\"], [\"Prednisolone reduces recurrent wheezing after first rhinovirus wheeze: a 7\\u2010year follow\\u2010up\"], [\"Pulmonary function and bronchial reactivity 4 years after the first virus-induced wheezing\"], [\"Dynamics of airway microbiota identify a critical window for interplay of pathogenic bacteria and allergic sensitization in childhood respiratory disease\"], [\"Allergic sensitization is associated with rhinovirus\\u2010, but not other virus\\u2010, induced wheezing in children\"], [\"Viral respiratory infections and the oropharyngeal bacterial microbiota in acutely wheezing children\"]], \"hovertemplate\": \"labels=8<br>pca_1=%{x}<br>pca_2=%{y}<br>title=%{customdata[0]}<extra></extra>\", \"legendgroup\": \"8\", \"marker\": {\"color\": \"#FF6692\", \"symbol\": \"circle\"}, \"mode\": \"markers\", \"name\": \"8\", \"showlegend\": true, \"type\": \"scattergl\", \"x\": [0.03175638294666081, 0.12815581060989978, 0.16785135072931878, 0.21554471816337475, 0.18701531047248526, 0.05086425670037783, 0.1639386274843313, 0.09105075137591265, 0.2603756489153322, 0.301778727149876, 0.3242319425820452, 0.12793115118058634, 0.10312418825898598, 0.21122061241864137, 0.04501426944264943, 0.10804312212262447, 0.1744512717953255, 0.2506810844347491, 0.152515802178682, 0.07132106154459465, 0.1662385788783033, 0.09423417702871213, 0.09929686830115472, 0.2908694397085366, 0.17431906950564663, 0.1868243077966201, 0.04521431139532313, 0.22698620596181351, 0.23859476955700767, 0.17094864938142262, 0.2805250208652188, 0.023786317009888015, 0.0835403953521198, 0.284075906717319, 0.24626881304397483, 0.13117555903323175, 0.12738577519245897, 0.0902235386578287, 0.3386804951500199, 0.2572584098143127, 0.2751946237769753, 0.15509029690268927, 0.16073629239034526, 0.22140046866657825, 0.06155841333764678, 0.2526591083552108, 0.313926833023949, 0.08635459404137903, 0.0766245368530137, 0.20981535235401982, 0.2371922385439837, 0.19206067927373194, 0.1618468181275075, 0.33748788493627385, 0.046588391871520224, 0.058693594064705666, 0.17468357700825105, 0.2341080364399306, 0.14361151372448644, 0.192556878514511, 0.22420409978780753, 0.21347633566412003, 0.07132106154459465, 0.14797653659834006, 0.17305544367138442], \"xaxis\": \"x\", \"y\": [-0.03704660568966602, 0.004133635451495003, -0.0018637523890687388, -0.11318630581870934, -0.011191283586362444, 0.011104068173924828, 0.22604265810945834, -0.19536646853236603, -0.07118082377671345, 0.07950763409987713, -0.06453354451611586, 0.024724984848424666, -0.13429249147427558, 0.03447024731124329, -0.13485022072066993, -0.12580462617680138, -0.11377878223604145, -0.08099245045934181, 0.1740811095439389, 0.05837877771654239, -0.02288862881198593, -0.15743223960589856, -0.12399916817886535, -0.0635723933234572, -0.18733757347659513, -0.09267362206769081, 0.09712004390682717, -0.01063967700826703, 0.15458722715612827, -0.07361049293788491, 0.02966370949194185, 0.06317013194392826, -0.09049140014554113, 0.012654013406523952, 0.06448669043630119, -0.16144520522442862, -0.0398131776467658, 0.013806719397933057, 0.20213414697984997, 0.044652839134567225, -0.04183765332441003, -0.10605591701795354, -0.05995404982776127, 0.0771223946283402, -0.15892526827114714, -0.03441306136072725, 0.1898185960328772, -0.05554547100793163, -0.12107609934257155, -0.02877193777624115, 0.2290817204633564, -0.09201203891968152, -0.11230862805567639, 0.14624837774446478, -0.051412451085701395, 0.14118466943436722, -0.04105460957539716, -0.12410691007436746, -0.0015874863238808552, 0.12263254590749548, -0.10241485336461983, -0.11210249539209825, 0.05837877771654239, -0.025001051621848826, 0.013651501627713527], \"yaxis\": \"y\"}, {\"customdata\": [[\"Interferon Gene Expression in Sputum Cells Correlates with the Asthma Index Score During Virus-Induced Exacerbations\"], [\"Procalcitonin guidance for reduction of antibiotic use in patients hospitalized with severe acute exacerbations of asthma: a randomized controlled study with 12-month follow-up\"], [\"Pulmonary inflammation and cytokine dynamics of bronchoalveolar lavage fluid from a mouse model of bronchial asthma during A(H1N1)pdm09 influenza infection\"], [\"Critically ill obstetric patients in an American and an Indian public hospital: comparison of case-mix, organ dysfunction, intensive care requirements, and outcomes\"], [\"Clinical characteristics of adult patients with influenza-like illness hospitalized in general ward during Influenza A H1N1 pandemic 2009/2010\"], [\"IL-8 Gene Variants and Expression in Childhood Asthma\"], [\"Time Trends of Th1 and Th2 Cytokines in Induced Sputum of Asthmatic Subjects During Acute Upper Respiratory Viral Infections\"], [\"Decreased FEV (1)% in asthmatic adults in Scottish homes with high Environmental Relative Moldiness Index values\"], [\"The effect of inhaled and intranasal sodium cromoglyeate on symptoms of upper respiratory tract infections\"], [\"Amplified rhinovirus colds in atopic subjects\"], [\"Effect of experimental rhinovirus 16 colds on airway hyperresponsiveness to histamine and interleukin\\u20108 in nasal lavage in asthmatic subjects in vivo\"], [\"Urinary club cell protein 16 (CC16): Utility of its assay during acute bronchiolitis\"], [\"Influence of bronchoalveolar lavage on thoracic radiography in the horse.\"], [\"[Time trends of Th1 and th2 cytokines in induced sputum of asthmatic subjects during acute upper respiratory viral infections].\"], [\"Neuroendocrine cell hyperplasia of infancy: a prospective follow-up of nine children.\"], [\"Exhaled breath temperature increases during mild exacerbations in children with virus-induced asthma.\"], [\"Most commonly isolated viruses in asthma exacerbation and their correlation with eosinophil and total serum immunoglobulin E levels.\"], [\"Immunological effects among workers who handle engineered nanoparticles.\"], [\"Long-term improvements in pulmonary function 5 years after bariatric surgery.\"], [\"The impact of viral respiratory infection on the severity and recovery from an asthma exacerbation.\"], [\"Dynamic Respiratory Tortuosity of the Vertebral Artery Ostium.\"], [\"Impact of viral infection on acute exacerbation of asthma in out-patient clinics: a prospective study.\"], [\"Montelukast as an episodic modifier for acute viral bronchiolitis: a randomized trial.\"], [\"Asthma medication usage is significantly reduced following bariatric surgery.\"], [\"Clinical and computed tomographic predictors of chronic bronchitis in COPD: a cross sectional analysis of the COPDGene study.\"], [\"Olfactory dysfunction and asthma as risk factors for poor quality of life in upper airway diseases.\"], [\"Rhinovirus is associated with severe asthma exacerbations and raised nasal interleukin-12.\"], [\"A model of viral wheeze in nonasthmatic adults: symptoms and physiology.\"], [\"Increased nitric oxide in exhaled air of normal human subjects with upper respiratory tract infections.\"], [\"Cough receptor sensitivity in children with acute and non-acute asthma.\"], [\"IP-10 Is Elevated in Virus-Induced Acute Exacerbations in Childhood Asthma.\"], [\"Experimental rhinovirus infection in volunteers.\"], [\"Relationship between exhaled nitric oxide and airway hyperresponsiveness following experimental rhinovirus infection in asthmatic subjects.\"], [\"Montelukast reduces asthma exacerbations in 2- to 5-year-old children with intermittent asthma.\"], [\"Neutrophil degranulation and cell lysis is associated with clinical severity in virus-induced asthma.\"], [\"Respiratory viruses and exacerbations of asthma in adults.\"], [\"A case-control study of the role of cold symptoms and other historical triggering factors in asthma exacerbations.\"], [\"[Effect of 1-year specific immunotherapy with standardized house dust mite vaccine on mild to moderate allergic asthmatic patients].\"], [\"Pathogenic bacteria and viruses in induced sputum or pharyngeal secretions of adults with stable asthma.\"], [\"Synergism between allergens and viruses and risk of hospital admission with asthma: case-control study.\"], [\"Asthma and natural colds. Inflammatory indices in induced sputum: a feasibility study.\"], [\"Aberrant expression of CC and CXC chemokines and their receptors in patients with asthma.\"], [\"CXC chemokines and antimicrobial peptides in rhinovirus\\u2010induced experimental asthma exacerbations\"], [\"Measuring the Severity of Respiratory Illness in the First 2 Years of Life in Preterm and Term Infants\"], [\"A Prospective Study of Respiratory Viral Infection in Pregnant Women With and Without Asthma\"], [\"Montelukast Reduces Serum Levels of Eosinophil-Derived Neurotoxin in Preschool Asthma\"], [\"Effectiveness of non-pharmaceutical measures in preventing pediatric influenza: a case\\u2013control study\"], [\"Virus detection and cytokine profile in relation to age among acute exacerbations of childhood asthma\"], [\"Chlamydia pneumoniae and Exacerbations of Asthma in Adults\"], [\"Common cold decreases lung function in infants with recurrent wheezing\"], [\"Anti\\u2010bacterial IgE in the antibody responses of house dust mite allergic children convalescent from asthma exacerbation\"], [\"Airway Interleukin-33 and type 2 cytokines in adult patients with acute asthma\"], [\"The relation of innate and adaptive immunity with viral-induced acute asthma attacks: Focusing on IP-10 and cathelicidin\"], [\"Psychosocial factors, respiratory viruses and exacerbation of asthma\"], [\"Persistent Airway Obstruction After Virus Infection Is Not Associated With Airway Inflammation\"], [\"Mannose\\u2010binding lectin cord blood levels and respiratory symptoms during infancy: a prospective birth cohort study\"], [\"Epidemiology and clinical outcome of virus-positive respiratory samples in ventilated patients: a prospective cohort study\"], [\"Assessment of airflow limitation, airway inflammation, and symptoms during virus-induced wheezing episodes in 4- to 6-year-old children\"], [\"A randomized open-label trial on the use of budesonide/formoterol (Symbicort(\\u00ae)) as an alternative reliever medication for mild to moderate asthmatic attacks\"], [\"Airway and serum biochemical correlates of refractory neutrophilic asthma\"], [\"Clinical characteristics of eosinophilic asthma exacerbations\"], [\"Serial Changes in Serum Eosinophil-associated Mediators between Atopic and Non-atopic Children after Mycoplasma pneumoniae pneumonia\"], [\"Serum soluble receptor for advanced glycation end\\u2010products during acute bronchiolitis in infant: Prospective study in 93 cases\"], [\"Nebulized magnesium for moderate and severe pediatric asthma: A randomized trial\"], [\"Plasminogen activator inhibitor-1 in sputum and nasal fluids increases in asthmatics during common colds\"], [\"Duration of postviral airway hyperresponsiveness in children with asthma: Effect of atopy\"], [\"IFN-\\u03b3\\u2013induced protein 10 is a novel biomarker of rhinovirus-induced asthma exacerbations\"], [\"Prenatal maternal distress associates with a blunted cortisol response in rhinovirus-positive infants\"], [\"Incidence and risk factors of lower respiratory tract illnesses during infancy in a Mediterranean birth cohort\"], [\"Characteristics associated with clinical severity and inflammatory phenotype of naturally occurring virus-induced exacerbations of asthma in adults\"], [\"Serum IgG Concentrations in Adult Patients Experiencing Virus-Induced Severe Asthma Exacerbations\"], [\"Efficacy of cineole in patients suffering from acute bronchitis: a placebo-controlled double-blind trial\"], [\"\\u03b2(2)-Adrenergic receptor promoter haplotype influences the severity of acute viral respiratory tract infection during infancy: a prospective cohort study\"], [\"Validity of the Common Cold Questionnaire (CCQ) in Asthma Exacerbations\"], [\"The Effect of Viral Infection on Exhaled Nitric Oxide in Children with Acute Asthma Exacerbations\"], [\"Functional Fcgamma Receptor Polymorphisms Are Associated with Human Allergy\"], [\"IV Magnesium Sulfate for Bronchiolitis A Randomized Trial\"], [\"High fractional exhaled nitric oxide and sputum eosinophils are associated with an increased risk of future virus\\u2010induced exacerbations: A prospective cohort study\"], [\"Neonatal bronchial hyperresponsiveness precedes acute severe viral bronchiolitis in infants\"], [\"Viral Loads and Duration of Viral Shedding in Adult Patients Hospitalized with Influenza\"], [\"Respiratory viral infections in pregnant women with asthma are associated with wheezing in the first 12 months of life\"]], \"hovertemplate\": \"labels=0<br>pca_1=%{x}<br>pca_2=%{y}<br>title=%{customdata[0]}<extra></extra>\", \"legendgroup\": \"0\", \"marker\": {\"color\": \"#B6E880\", \"symbol\": \"circle\"}, \"mode\": \"markers\", \"name\": \"0\", \"showlegend\": true, \"type\": \"scattergl\", \"x\": [-0.008883248268245228, 0.033915231586149966, -0.04372231002836357, 0.02820303361966027, 0.11535230658928705, 0.026566790631122293, 0.07596617014165451, -0.05242037942885849, 0.0006763337766167912, -0.029922398513194934, -0.01643357283572678, 0.056990811593555, -0.05608775502580712, 0.09018246502979738, -0.05102048624986353, 0.08789344252559567, 0.1550119516486503, -0.14288810202114477, -0.0360252951218956, 0.2289100811422267, 0.0018124755240383518, 0.16731472031121847, 0.062077137047413036, 1.110226467796252e-05, -0.05539612036575907, -0.016530336893176102, 0.06573492188461971, 0.10757613530381985, -0.009268819808330811, 0.05126680973253508, 0.02490043229439003, -0.02638218239380079, -0.06346353510545602, 0.061047075026429275, 0.025405868565996678, 0.17148983576545612, 0.10491492346016634, 0.0022438698689257568, 0.09239752640662999, 0.13832865540740416, -0.008326722919703242, -0.046983157145347454, -0.05585006045343377, 0.12083231711690393, 0.021562041844685992, 0.020752792602263075, 0.04334216346198231, 0.09962731252239276, 0.10163477411052566, -0.028132851095807283, -0.017963745572680646, -0.07973712608191477, 0.021922285728342445, 0.07921143943337508, -0.07988530980957749, 0.11263984975588905, 0.10724238249428586, 0.050288658710988296, -0.009688338707053438, -0.09030581558430381, 0.03649168738014723, -0.002835282048318847, 0.1252302238264554, -0.014936227777440598, -0.11355619998309431, 0.08655928607776897, -0.040005427008864766, 0.024230523116485426, 0.10156710751461995, -0.05254375414261141, 0.09360485707918442, -0.024056273879533217, 0.05812063724918026, 0.0380450370258134, 0.03912333968253661, -0.04078134275346124, 0.09315709821685103, 0.03650027699804599, 0.15482933146146546, 0.05293896582019771, 0.14162561776964736], \"xaxis\": \"x\", \"y\": [0.0955833682681375, -0.2117868907208159, -0.015561616943428563, -0.23393070617849043, -0.2443918136308912, -0.09015071482065141, 0.0911104128106712, -0.18349152107294803, -0.16926716542372566, -0.012961731561096762, -0.05072711892324348, -0.121375252763329, -0.15761318705690228, 0.10264408861617183, -0.014361005135103992, -0.05253061008337, 0.019624190169042, -0.12077062971911268, -0.21082681918401058, -0.02865564065854398, -0.18196935759263472, -0.09762376695890362, -0.22817341017409862, -0.25200434591308685, -0.145321341214151, -0.20895392050115455, -0.09678676936542348, 0.009130897190163086, 0.03351166984116515, -0.10932790849702348, 0.01214180833743981, 0.06033431681090991, -0.046181466152098165, -0.15819975550220108, 0.0714229884766849, 0.020867383475104168, -0.09285332310480043, -0.24977229291172814, -0.05863718086233462, -0.12354863243346338, 0.04144393371867186, -0.14394544124864503, -0.02534076526617051, -0.029189148501249616, -0.05024764799041105, -0.20736107214122784, -0.1851296225246071, -0.05438869749242778, -0.12063352666371269, -0.03510759757887453, 0.008203676837490147, 0.05571439868904511, -0.12601536581629352, 0.0015244752349544283, 0.0389511119304271, -0.06770779706532659, -0.13837753148607626, -0.13129241518815482, -0.19815019272092205, -0.11050398774192197, -0.07812962467412322, -0.16283206949229873, -0.11714976122176327, -0.23701272056093453, -0.0574393077907102, -0.04885543590949995, 0.01119618175886365, -0.08645473795987042, -0.09665087951564223, 0.03254553677785772, -0.12297811735300399, -0.2383942024707219, -0.01359232720015726, 0.02144232219071227, -0.06733497521707543, -0.0681337529287692, -0.28402200804775224, 0.05472711273746045, -0.02715995495688018, -0.07701748162106045, 0.022264480848086517], \"yaxis\": \"y\"}, {\"customdata\": [[\"The Importance of Bacterial and Viral Infections Associated with Adult Asthma Exacerbations in Clinical Practice\"], [\"Prevalence and molecular characterizations of enterovirus D68 among children with acute respiratory infection in China between 2012 and 2014\"], [\"Human bocavirus in children with respiratory tract infection in Shanghai: a retrospective study\"], [\"The Contribution of Respiratory Viruses to Severe Exacerbations of Asthma in Adults\"], [\"Greater frequency of viral respiratory infections in asthmatic children as compared with their nonasthmatic siblings()\"], [\"Virale Atemwegsinfektionen bei Erwachsenen : Eine \\u00dcbersicht\"], [\"The Prevalence of Common Respiratory Viruses in Human Lungs\"], [\"Molecular detection of rhinoviruses.\"], [\"Detection of enterovirus 68 as one of the commonest types of enterovirus found in patients with acute respiratory tract infection in China.\"], [\"Association of rhinovirus with exacerbations in young children affected by cystic fibrosis: Preliminary data.\"], [\"[Evaluation of Seeplex RV detection kit for detecting rhinovirus, human metapneumovirus, and coronavirus].\"], [\"Clinical and epidemiologic characteristics of human bocavirus in Danish infants: results from a prospective birth cohort study.\"], [\"[Detection of respiratory viruses--how, when, where and why?].\"], [\"Viral causes of acute respiratory infection among Egyptian children hospitalized with severe acute asthma exacerbation.\"], [\"New respiratory viral infections.\"], [\"Serial viral infections in infants with recurrent respiratory illnesses.\"], [\"Respiratory viruses in exacerbations of non-cystic fibrosis bronchiectasis in children.\"], [\"Active Surveillance of Influenza A and Other Respiratory Viruses in Children with Influenza-like-illness in Two Seasons.\"], [\"Evaluation of respiratory viral pathogens in acute asthma exacerbations during childhood.\"], [\"Prolonged shedding of rhinovirus and re-infection in adults with respiratory tract illness.\"], [\"New developments in the epidemiology and clinical spectrum of rhinovirus infections.\"], [\"The epidemiology and aetiology of infections in children admitted with clinical severe pneumonia to a university hospital in Rabat, Morocco.\"], [\"The viral aetiology of croup and recurrent croup.\"], [\"[New respiratory viruses in children 2 months to 3 years old with recurrent wheeze].\"], [\"[Virological surveillance of acute respiratory tract illnesses of children in Morioka, Japan. I. Epidemiological patterns of infection with respiratory viruses over a 10-year period].\"], [\"Prevalence of respiratory viruses in wheezing children not older than 24 months of age.\"], [\"First detected human bocavirus in a Malaysian child with pneumonia and pre-existing asthma: a case report.\"], [\"[First detection of human metapneumovirus in a child with respiratory syndrome in Hungary].\"], [\"Acute exacerbations of asthma in adults: role of Chlamydia pneumoniae infection.\"], [\"Respiratory tract viral infections in inner-city asthmatic adults.\"], [\"High-throughput, sensitive, and accurate multiplex PCR-microsphere flow cytometry system for large-scale comprehensive detection of respiratory viruses.\"], [\"Virus-provoked rhinitis in patients who have allergies.\"], [\"Respiratory viral and Mycoplasma infections in patients hospitalized for acute asthma.\"], [\"PCR detection of viral nucleic acid in fatal asthma: is the lower respiratory tract a reservoir for common viruses?\"], [\"Human bocavirus in Italian patients with respiratory diseases.\"], [\"Coronavirus HKU1 and other coronavirus infections in Hong Kong.\"], [\"An investigation into respiratory tract viruses in children with acute lower respiratory tract infection or wheezing.\"], [\"Interleukin-11: stimulation in vivo and in vitro by respiratory viruses and induction of airways hyperresponsiveness.\"], [\"CAUSATIVE AGENTS OF SEVERE COMMUNITY ACQUIRED VIRAL PNEUMONIA AMONG CHILDREN IN EASTERN THAILAND.\"], [\"Use of polymerase chain reaction for detection of adenovirus in children with or without wheezing.\"], [\"Epidemiological and clinical features of enteroviral acute lower respiratory tract infections in hospitalized paediatric patients in a Malaysian tertiary center.\"], [\"Development and application of an enzyme immunoassay for coronavirus OC43 antibody in acute respiratory illness.\"], [\"Epidemiology of coronavirus-associated respiratory tract infections and the role of rapid diagnostic tests: a prospective study.\"], [\"Role of viruses and atypical bacteria in asthma exacerbations among children in Oporto (Portugal).\"], [\"Current challenges in lower respiratory infections in children.\"], [\"Rhinovirus infection in hospitalized children in Hong Kong: a prospective study.\"], [\"Antiviral IFN-\\u03b3 responses of monocytes at birth predict respiratory tract illness in the first year of life\"], [\"Atypical presentation of human bocavirus: Severe respiratory tract infection complicated with encephalopathy\"], [\"\\u00c9pid\\u00e9miologie de l'infection virale et asthme\"], [\"Persistence of Viruses in Upper Respiratory Tract of Children with Asthma\"], [\"Detection of viral, Chlamydia pneumoniae and Mycoplasma pneumoniae infections in exacerbations of asthma in children\"], [\"Epidemic and molecular evolution of human bocavirus in hospitalized children with acute respiratory tract infection\"], [\"Dual RNA-seq reveals viral infections in asthmatic children without respiratory illness which are associated with changes in the airway transcriptome\"], [\"Prevalence of viral respiratory tract infections in children with asthma\"], [\"Human Coronavirus Infection among Children with Acute Lower Respiratory Tract Infection in Thailand\"], [\"Role of viruses and atypical bacteria in exacerbations of asthma in hospitalized children: A prospective study in the Nord\\u2010Pas de Calais region (France)\"], [\"Detection of human bocavirus in hospitalised children\"], [\"Prevalence of Respiratory Viral Infections in Korean Adult Asthmatics With Acute Exacerbations: Comparison With Those With Stable State\"], [\"Weekly Monitoring of Children with Asthma for Infections and Illness During Common Cold Seasons\"], [\"Cytokine Responses in the Common Cold and Otitis Media\"], [\"Persistence of rhinovirus RNA and IP\\u201010 gene expression after acute asthma\"], [\"Comparison of the Etiology of Viral Respiratory Illnesses in Inner-City and Suburban Infants\"], [\"VIRUSES OF THE LUNG\"], [\"Impact of community respiratory viral infections in urban children with asthma\"], [\"Is respiratory viral infection really an important trigger of asthma exacerbations in children?\"], [\"Nasal cytokine responses to natural colds in asthmatic children\"], [\"Clinical differences between respiratory viral and bacterial mono- and dual pathogen detected among Singapore military servicemen with febrile respiratory illness\"], [\"Association of specific viral infections with childhood asthma exacerbations\"], [\"Characterisation of winter respiratory viral infections in patients with asthma and COPD in Qatar\"], [\"Burden of respiratory viruses in patients with acute respiratory failure\"], [\"New Respiratory Viruses and the Elderly\"], [\"Rhinovirus et infections respiratoires aigu\\u00ebs de l\\u2019enfant hospitalis\\u00e9. \\u00c9tude r\\u00e9trospective de 1998 \\u00e0 2000\"], [\"Altered eosinophil levels as a result of viral infection in asthma exacerbation in childhood\"], [\"The Role of Human Parainfluenza Virus Infections in the Immunopathology of the Respiratory Tract\"], [\"Multi\\u2010season analyses of causative pathogens in children hospitalized with asthma exacerbation\"], [\"Airborne rhinovirus detection and effect of ultraviolet irradiation on detection by a semi-nested RT-PCR assay\"], [\"Regional, age and respiratory-secretion-specific prevalence of respiratory viruses associated with asthma exacerbation: a literature review\"], [\"Enhanced severity of virus associated lower respiratory tract disease in asthma patients may not be associated with delayed viral clearance and increased viral load in the upper respiratory tract\"], [\"The association between seasonal asthma exacerbations and viral respiratory infections in a pediatric population receiving inhaled corticosteroid therapy with or without long-acting beta-adrenoceptor agonist: A randomized study()\"], [\"Viral and bacterial infection in acute asthma and chronic obstructive pulmonary disease increases the risk of readmission\"], [\"Repeated virus identification in the airways of patients with mild and severe asthma during prospective follow\\u2010up\"], [\"Dual Respiratory Virus Infections\"], [\"Detection and typing by molecular techniques of respiratory viruses in children hospitalized for acute respiratory infection in Rome, Italy\"], [\"Lethal Respiratory Disease Associated with Human Rhinovirus C in Wild Chimpanzees, Uganda, 2013\"], [\"Use of induced sputum for the diagnosis of influenza and infections in asthma: a comparison of diagnostic techniques\"], [\"Distribution and seasonality of rhinovirus and other respiratory viruses in a cross-section of asthmatic children in Trinidad, West Indies\"], [\"Is chronic rhinosinusitis caused by persistent respiratory virus infection?, ,\"], [\"In young children, persistent wheezing is associated with bronchial bacterial infection: a retrospective analysis\"], [\"Respiratory Viruses and Torque Teno Virus in Adults with Acute Respiratory Infections\"], [\"Respiratory viral infection in lower airways of asymptomatic children\"], [\"Multiplex Molecular Detection of Respiratory Pathogens in Children With Asthma Exacerbation\"], [\"Viral and Atypical Bacterial Detection in Acute Respiratory Infection in Children Under Five Years\"], [\"Personal exposure to nitrogen dioxide (NO(2)) and the severity of virus-induced asthma in children\"], [\"Infections and coinfections by respiratory human bocavirus during eight seasons in hospitalized children\"], [\"Nasopharyngeal isolates and their clinical impact on young children with asthma: a pilot study\"], [\"Mechanisms of viral impact on asthma exacerbations\"], [\"Improved detection of rhinoviruses in nasal and throat swabs by seminested RT\\u2010PCR\"], [\"Pan-Viral Screening of Respiratory Tract Infections in Adults With and Without Asthma Reveals Unexpected Human Coronavirus and Human Rhinovirus Diversity\"], [\"Human bocavirus in children hospitalized for acute respiratory tract infection in Rome\"], [\"Adults hospitalised with acute respiratory illness rarely have detectable bacteria in the absence of COPD or pneumonia; viral infection predominates in a large prospective UK sample\"], [\"Use of MMP\\u20108 and MMP\\u20109 to assess disease severity in children with viral lower respiratory tract infections\"], [\"Virological and clinical characterizations of respiratory infections in hospitalized children\"], [\"Impact of point-of-care testing for respiratory viruses on antibiotic use in adults with exacerbation of airways disease\"], [\"PreDicta chip-based high resolution diagnosis of rhinovirus-induced wheeze\"], [\"Rhinovirus-C detection in children presenting with acute respiratory infection to hospital in Brazil\"], [\"Eight Year Prospective Study of Adenoviruses Infections in Hospitalized Children. Comparison with Other Respiratory Viruses\"], [\"The molecular epidemiology of respiratory viruses associated with asthma attacks: A single-center observational study in Japan\"]], \"hovertemplate\": \"labels=2<br>pca_1=%{x}<br>pca_2=%{y}<br>title=%{customdata[0]}<extra></extra>\", \"legendgroup\": \"2\", \"marker\": {\"color\": \"#FF97FF\", \"symbol\": \"circle\"}, \"mode\": \"markers\", \"name\": \"2\", \"showlegend\": true, \"type\": \"scattergl\", \"x\": [0.1501940478028229, 0.24013634363109593, 0.1350483386714264, 0.18379617467939244, 0.0949521102951581, 0.03735893385489256, 0.057867488479000286, 0.0390420580016035, 0.11387651462545834, 0.11967523499707676, 0.2136706710525921, 0.1790378803226561, 0.07321695036873929, 0.34609463095636783, 0.19518239923650305, 0.20294913159095332, 0.1986842643991657, 0.27456788862269227, 0.3304274702345194, 0.13851818256993412, 0.15355305652257256, 0.1809451601596987, 0.057070212244798045, 0.3426932981076879, 0.14479343802670627, 0.32836043435694884, 0.09559621331659013, 0.1075241711321676, 0.13438794289506953, 0.19594217907648853, 0.1741833898329388, 0.09165070504718403, 0.1319810584644229, 0.08488565950215729, 0.12256499314029695, 0.20598547255013971, 0.2677449011820833, 0.06330871842733386, 0.2876061529045029, 0.20475975960400966, 0.15500821877633675, 0.0454863696307305, 0.1775043779750409, 0.22440912982947342, 0.18915984378171996, 0.3225768300439658, 0.17136552748378953, 0.16283416972721892, 0.2245504033665229, 0.12303211000467343, 0.25790571048453764, 0.07467587114095972, 0.008981856956305545, 0.3066084504260859, 0.18890455864396183, 0.3100047745119343, 0.26308947635773233, 0.23430789191086768, 0.28680688035582547, -0.015173189250114627, 0.1127774024737195, 0.17702896228388587, 0.023450179433893444, 0.10785108124090247, 0.22147982814844175, 0.09053493910008634, 0.11140236073727405, 0.328519851130165, 0.158908126151198, 0.062468397647042276, 0.17173386214936615, 0.27232420282542125, 0.2152245354082064, 0.11489765980226756, 0.23845365338730817, 0.034536338959202204, 0.143418114061913, 0.16951585089973914, 0.12376101858170328, 0.12215894409749592, 0.1676594399375323, 0.19985148500052488, 0.2801545985019597, 0.04562384083968485, 0.13385805733436082, 0.27372011949139285, 0.13127552128220563, 0.027567777410396423, 0.2801697562064006, 0.151578893743542, 0.3503141325093077, 0.292824258497967, 0.1347350765102083, 0.22809474176921524, 0.21512618730948221, 0.19973061893739935, 0.08160289317889714, 0.12744336715949595, 0.28660558096030014, 0.19176826414766798, 0.02798582118986552, 0.3090436556464243, 0.06539590831813677, 0.043976848044352736, 0.17504309062037907, 0.2825220643743775, 0.12990795691800636], \"xaxis\": \"x\", \"y\": [0.07981141616625853, -0.013660568618165772, -0.07541861676615341, 0.0975104764595851, -0.00022328534360209137, 0.12793302818430635, 0.07417560420938377, 0.0972403011663456, -0.025558788524928953, 0.01822720664012918, -0.022672009402992976, -0.10332753810750318, 0.11005123623143996, 0.05802851338055855, 0.19485755087937925, 0.04069017714884887, 0.09127912256464066, -0.10725909434975647, 0.17080301650324475, -0.014485813317732703, 0.178969123432474, -0.06242120766704211, -0.06268661249072485, -0.013548746351913887, -0.07645372212405613, 0.008842324782715794, -0.01907054405942427, -0.0001955327136948246, -0.0036276977596586667, 0.06533066241661183, 0.04455817741110653, 0.21914518245188747, 0.09011945329787081, 0.042559335412993206, -0.09784764417196322, 0.06213092562769305, 0.022876307848587907, 0.2011960440768434, -0.04511265590249419, -0.0022248330960828594, 0.005755713044140528, -0.02177832586645313, 0.07395287680600324, 0.03228203332037689, 0.14656248135362718, 0.04420571190744908, 0.1562678989818471, -0.10838703888926857, 0.11921540816445435, -0.02341467185923218, -0.005957215195352382, -0.09016241726767456, 0.1799726131625588, 0.08042048839926706, -0.03818931589508927, 0.03607226601780581, -0.05677416947353581, 0.10424256834105348, 0.09352150743889763, 0.08787183639026179, 0.16714260717029486, 0.07758612322321679, 0.14163046384776273, 0.03442291681897708, 0.059360381157512424, 0.07304809451342287, -0.08821790930298778, 0.10190952098867714, 0.10230822603508072, -0.023182596758279807, 0.17485170014754797, 0.009867930508518582, 0.0020055979885079296, 0.27491986739678154, 0.12886719897789714, -0.011597458801570176, 0.1649057186847991, 0.22709733987051023, -0.025926188845877385, 0.06429053124846783, -0.04369850950166481, 0.043107935718468944, 0.08084633612969322, 0.05560572001457278, 0.024167634487603833, 0.011602622251901501, 0.12367473115448172, -0.05983355654700942, 0.07694554766512614, 0.01847270757872897, 0.17610388051477596, -0.004926476003012707, 0.07686177418409443, -0.03442103539008182, 0.038853743971665876, 0.07542178608945121, 0.001246521567064604, 0.08259807731128911, -0.03522309403841474, -0.05025989879531937, 0.11781786395927366, -0.0008574494674925479, -0.047553374490486064, 0.07128833142911757, -0.016467298716634667, 0.0486952826690751, -0.07061760057254746], \"yaxis\": \"y\"}, {\"customdata\": [[\"The impact of respiratory viruses on lung health after preterm birth\"], [\"Transcriptome networks identify mechanisms of viral and nonviral asthma exacerbations in children\"], [\"Asthma exacerbation related to viral infections: An up to date summary\"], [\"Understanding the mechanisms of viral induced asthma: New therapeutic directions\"], [\"THE ROLE OF RESPIRATORY VIRUSES IN ACUTE AND CHRONIC ASTHMA\"], [\"Respiratory illness caused by picornavirus infection: a review of clinical outcomes\"], [\"Asthma and Microbes: A New Paradigm\"], [\"VIRUS-INDUCED WHEEZING IN CHILDREN: Respiratory Syncytial Virus (RSV) and Rhinovirus\"], [\"LOWER RESPIRATORY TRACT INFECTIONS IN ELDERLY PATIENTS WITH ASTHMA\"], [\"Antibiotics\"], [\"Infections\"], [\"Exacerbation of asthma and airway infection: is the virus the villain?()()\"], [\"The role of viral infections in exacerbations of chronic obstructive pulmonary disease and asthma.\"], [\"Viruses and non-allergen environmental triggers in asthma.\"], [\"Viral respiratory infection and the link to asthma.\"], [\"The exacerbation component of impairment and risk in pediatric asthma.\"], [\"Pharmacotherapy for lower respiratory tract infections.\"], [\"Respiratory viral infections in infants: causes, clinical symptoms, virology, and immunology.\"], [\"Microbes and asthma: the missing cellular and molecular links.\"], [\"Genetics and epidemiology: asthma and infection.\"], [\"Management of bacterial infections in children with asthma.\"], [\"Early-life viral infections and the development of asthma: a target for asthma prevention?\"], [\"Role of infection in the development and exacerbation of asthma.\"], [\"Allergens and bacteria interaction in the induction of basophil activation: is this the lost ring between allergy and infections in pediatric patients?\"], [\"Genome-virome interactions: examining the role of common viral infections in complex disease.\"], [\"Virus/Allergen Interaction in Asthma Exacerbation.\"], [\"Viral infections and asthma: an inflammatory interface?\"], [\"Childhood asthma and infection: virus-induced exacerbations as determinants and modifiers.\"], [\"Dual mechanism of action of T2 inhibitor therapies in virally induced exacerbations of asthma: evidence for a beneficial counter-regulation.\"], [\"Targeting Vitamin D Deficiency to Limit Exacerbations in Respiratory Diseases: Utopia or Strategy With Potential?\"], [\"Respiratory viruses in childhood asthma.\"], [\"Infections and asthma.\"], [\"Human rhinoviruses, allergy, and asthma: a clinical approach.\"], [\"Allergens, viruses, and asthma exacerbations.\"], [\"Mycoplasma pneumoniae and its role in asthma.\"], [\"Viral infections in obstructive airway diseases.\"], [\"Respiratory viruses and asthma.\"], [\"Asthma exacerbations . 3: Pathogenesis.\"], [\"Viral respiratory tract infection and exacerbations of asthma in adult patients.\"], [\"Viruses in asthma exacerbations.\"], [\"Respiratory viruses and atypical bacteria triggering severe asthma exacerbation in children.\"], [\"Asthma and viruses: is there a relationship?\"], [\"Infec\\u00e7\\u00e3o na modula\\u00e7\\u00e2o da asma 1 1 Trabalho apresentado no XXIII Congresso de Pneumologia da SPP \\u2013 Guarda, Novembro 2007 / Paper presented at the XXIII Congresso de Pneumologia da SPP / PSP Pulmonology Congress, Guarda, November 2007\"], [\"Epidemiology of virus-induced asthma exacerbations: with special reference to the role of human rhinovirus\"], [\"Infection-mediated asthma: etiology, mechanisms and treatment options, with focus on Chlamydia pneumoniae and macrolides\"], [\"Cough and viruses in airways disease: Mechanisms\"], [\"Infectious triggers of asthma\"], [\"Respiratory Viruses and Asthma\"], [\"Impact of Host Genetics and Biological Response Modifiers on Respiratory Tract Infections\"], [\"Viral infections in allergy and immunology: How allergic inflammation influences viral infections and illness\"], [\"Assessing the Exacerbations Risk of Influenza\\u2010Associated Chronic Occupational Asthma\"], [\"EAACI position statement on asthma exacerbations and severe asthma\"], [\"The infectious march: the complex interaction between microbes and the immune system in asthma\"], [\"Respiratory virus-induced heterologous immunity: Part of the problem or part of the solution?\"], [\"Paediatric Virology and its interaction between basic science and clinical practice (Review)\"], [\"Effects of Atypical Infections with Mycoplasma and Chlamydia on Asthma\"], [\"Molecular and cellular mechanisms in the viral exacerbation of asthma\"], [\"Viruses and Asthma\"], [\"Neonatal Immunity, Respiratory Virus Infections, and the Development of Asthma\"], [\"Contribution of Fc\\u03b3 Receptor-Mediated Immunity to the Pathogenesis Caused by the Human Respiratory Syncytial Virus\"], [\"Sinus Infections, Inflammation, and Asthma\"], [\"Small Animal Models of Respiratory Viral Infection Related to Asthma\"], [\"Virus infections, wheeze and asthma\"], [\"Virus/Allergen Interactions and Exacerbations of Asthma\"], [\"Novel concepts in virally induced asthma\"], [\"Are non\\u2010allergenic environmental factors important in asthma?\"], [\"Prenatal and childhood infections: implications for the development and treatment of childhood asthma\"], [\"Acute Exacerbations of Asthma: Epidemiology, Biology and the Exacerbation-Prone Phenotype\"], [\"The Impact of Respiratory Viral Infection on Wheezing Illnesses and Asthma Exacerbations\"], [\"Infections and Their Role in Childhood Asthma Inception\"], [\"Viral-associated exacerbations of asthma and COPD\"], [\"Viral diversity in asthma: Immunology and Allergy Clinics of North America: Asthma and Infectious Disease\"], [\"The Role of Viral Respiratory Infections in Asthma and Asthma Exacerbations\"], [\"6. Asthma: Factors underlying inception, exacerbation, and disease progression\"], [\"Interactions micro-organismes et voies a\\u00e9riennes distales : sp\\u00e9cificit\\u00e9s p\\u00e9diatriques\"], [\"Asthma Exacerbations: Pathogenesis, Prevention, and Treatment\"], [\"Viral Respiratory Infections and Asthma: the Course Ahead\"], [\"New treatment regimes for virus-induced exacerbations of asthma\"], [\"Respiratory infections and asthma\"], [\"Rhinoviruses\"], [\"Relationship of viral infections to wheezing illnesses and asthma\"], [\"Chapter 37 Infections\"], [\"What is the role of virus vaccination in patients with asthma?\"], [\"Viral Infections and Associated Factors That Promote Acute Exacerbations of Asthma\"], [\"How Viral Infections Cause Exacerbation of Airway Diseases\"], [\"Asthma exacerbations: Origin, effect, and prevention\"], [\"Asthma Exacerbation in Children: A Practical Review\"], [\"Acute Exacerbations of COPD\"], [\"Upper airway viral infections\"], [\"Respiratory viral infections in children with asthma: do they matter and can we prevent them?\"], [\"Molecular epidemiology of respiratory viruses in virus-induced asthma\"], [\"Detection of human coronavirus strain HKU1 in a 2 years old girl with asthma exacerbation caused by acute pharyngitis\"], [\"Asthma and viral infections An intricate relationship\"], [\"Viruses and bacteria in acute asthma exacerbations \\u2013 A GA(2)LEN\\u2010DARE systematic review\"], [\"The role of viruses in the induction and progression of asthma\"], [\"Inflammation and infections in asthma\"], [\"Exacerbation of asthma and airway infection: is the virus the villain?\"], [\"Response to infections in persons with asthma and atopic disease: epiphenomenon or reflection of host susceptibility\"], [\"Anti-viral agents: potential utility in exacerbations of asthma\"], [\"Antimicrobial Therapy in Childhood Asthma and Wheezing\"], [\"Association between respiratory infections in early life and later asthma is independent of virus type\"], [\"Antiviral therapeutic approaches for human rhinovirus infections\"], [\"The microbiology of asthma\"], [\"Rhinovirus-Induced Exacerbations of Asthma and COPD\"], [\"Asthma: Clinical Expression and Molecular Mechanisms\"], [\"Virus-induced modulation of lower airway diseases: Pathogenesis and pharmacologic approaches to treatment\"], [\"Respiratory virus-induced heterologous immunity: Part of the problem or part of the solution?\"], [\"The role of viruses in acute exacerbations of asthma\"], [\"Acute Severe Asthma in Adolescent and Adult Patients: Current Perspectives on Assessment and Management\"], [\"Rhinovirus infections: induction and modulation of airways inflammation in asthma\"], [\"The role of viruses in the development and exacerbation of atopic disease\"], [\"Viruses exacerbating chronic pulmonary disease: the role of immune modulation\"], [\"The Impact of Ambient Environmental Exposures to Microbial Products on Asthma Outcomes from Birth to Childhood\"], [\"Virus-induced exacerbations in asthma and COPD\"], [\"Asthma risk factors\"], [\"Advances in the treatment of virus-induced asthma\"], [\"Exacerbations of chronic respiratory diseases\"], [\"The potential of anti\\u2010infectives and immunomodulators as therapies for asthma and asthma exacerbations\"], [\"The role of infection in asthma\"], [\"Collectivit\\u00e9s : lieu de rencontre virale\"], [\"Viruses in asthma: The role of viruses in childhood respiratory infections\"], [\"Mechanisms of virus\\u2010induced asthma exacerbations: state\\u2010of\\u2010the\\u2010art. A GA(2)LEN and InterAirways document\"]], \"hovertemplate\": \"labels=6<br>pca_1=%{x}<br>pca_2=%{y}<br>title=%{customdata[0]}<extra></extra>\", \"legendgroup\": \"6\", \"marker\": {\"color\": \"#FECB52\", \"symbol\": \"circle\"}, \"mode\": \"markers\", \"name\": \"6\", \"showlegend\": true, \"type\": \"scattergl\", \"x\": [0.0038364414285010466, -0.1290847583290975, -0.05935928382277045, -0.016078576421265024, 0.11652253633402021, 0.04651402041816499, -0.029622731269609622, 0.15941336081800478, -0.015031527107978065, -0.06978388335601733, -0.07002727604600625, 0.1686372493785616, -0.0964392804989637, -0.045262731396703386, 0.14483537661660406, -0.030658872133126357, -0.04796339752596049, 0.10564196703047982, -0.12280454460897389, 0.10871579634634101, 0.1776730103838539, 0.035608390533652765, 0.11545412471554753, -0.05175833892605529, -0.11668189881870855, -0.035224792244090086, -0.08240737539967342, -0.011185529135439961, -0.15886677519281092, -0.05542511661603585, 0.03372362867978089, 0.18150073698063451, -0.003918922039312071, -0.05083228867637088, -0.033404022092777826, -0.10107871054577265, -0.002249209229568727, -0.13193208533519524, 0.20281512367361068, 0.08875774013412213, 0.2240829611169772, 0.09445087097562546, -0.08837576186532078, 0.02112779735905431, -0.004605379546608671, -0.0686123433785277, -0.022669350402471956, -0.023573489961693034, -0.07774436962513853, -0.02364930571555306, 0.0050176483629272095, -0.005793962236710741, -0.02500806419981983, -0.06356995931511229, 0.025804447495131617, -0.03214878835893506, -0.11428789720860892, 0.05737523952446394, -0.061298121719370366, -0.07800523233287844, -0.0950319021602209, 0.02489143528923615, 0.01989014793422952, -0.030449348671430697, 0.02241290018938171, -0.006582000292573542, 0.02880972569813074, -0.05412919169883213, 0.25506119062291494, 0.052055799943272474, -0.10484437414936501, 0.07415711870085226, 0.11090434202989455, -0.0578141563317125, 0.1425663271638714, 0.009807430636848892, -0.037496143202027654, -0.0929570255077381, -0.007119680957788945, -0.00802365066730225, 0.10319342382227761, -0.10400386852749478, 0.01606403396797924, 0.03725722924306414, -0.09299451944230999, -0.0015341411465844678, 0.07209184378222311, -0.0449983986089807, -0.12983273623993116, 0.002221184848127792, 0.14979873414409636, 0.09411317014807602, 0.096859252708416, 0.06471190691606431, 0.0071800005933610744, -0.07834589497497425, 0.16587875787179787, 0.035578106615962266, 0.005032570213395175, 0.03733584529690158, 0.1985809453603671, -0.06082100193315667, 0.04398989363630796, -0.07635895393065553, -0.0538030243070626, -0.047352638358402956, -0.06356995931511229, -0.0804979440449512, 0.00393764439064799, -0.07522123541502211, 0.00713820813079645, -0.12799051031406983, -0.025294490876167842, 0.0020057955396901375, -0.050943146687411234, -0.06215245780139918, -0.033403648037640364, -0.07716329608022524, -0.08837576186532078, 0.054863922075693926, 0.117623180125263, -0.13738559703869227], \"xaxis\": \"x\", \"y\": [0.14818263942040252, 0.1551147605943337, 0.1483668449405222, 0.31912440944197756, 0.2425965272634738, 0.10113462820258919, 0.1486820461769807, 0.23801586124840257, 0.12215093817853544, 0.08145229017125263, 0.20708465399196896, 0.2991585235259837, 0.17475250310832624, 0.11705339709368408, 0.26067571243563453, 0.09091746865157005, 0.0584523332455613, 0.3059466045031646, 0.10397622228854637, 0.39182031385151705, 0.22495456633835081, 0.1986465757582449, 0.2471690711251889, 0.10403947150296888, 0.13530194567434323, 0.24285293725059262, 0.15684575208689808, 0.1977321431032184, 0.09819843924792315, 0.048539126067952854, 0.25268677449860827, 0.2572007928087455, 0.32437258194654406, 0.1886391191453462, 0.01154701624530137, 0.17385514913564887, 0.2148665886054644, 0.2713069312851482, 0.21681796207114507, 0.32067866344461904, 0.15066975201701144, 0.3298331757030187, 0.18134266109435992, 0.10483304562368978, 0.1944055738332219, 0.1723128851122975, 0.13364081425673222, 0.24283604083972044, 0.11175864043211518, 0.23363957439176875, 0.06378450283737558, 0.12454033994358303, 0.14240047569702471, 0.23301883250376015, 0.088358089903076, 0.08639652796473953, 0.27312283663741505, 0.27435386603283224, 0.10433340087242542, 0.3060146712794524, 0.1279740898797586, 0.34083232195430957, 0.21994426927763755, 0.2257292728034458, 0.30456388096291315, 0.06448822979114716, 0.22984312217920522, 0.16150135120818387, 0.24284431132779025, 0.17306227328914192, 0.1998560432273495, 0.16917932232319338, 0.31900505733722984, 0.08228750546607701, 0.11948082762582242, 0.06946098652222137, 0.11880781693815681, 0.12049223976046419, 0.24614384166926942, 0.16832923089943824, 0.3211403222512322, 0.20151682416494932, 0.019247173032806, 0.27760059555111993, 0.22389894994334683, 0.14837826327552275, 0.09865391694834905, 0.04777007215798236, 0.10892230837523742, 0.10202322392946853, 0.29747800348005365, 0.12038914804646111, 0.26161341944554967, 0.09738885248565375, 0.24014481572234497, 0.1801545307180031, 0.29578767383218696, 0.28045369703749445, 0.2815107016992247, 0.03196632712343875, 0.21007873274866506, 0.0942010060684392, 0.2357530436129043, 0.3063270247222528, 0.07649245314497788, 0.3337964622332874, 0.23301883250376015, 0.24684896540621218, 0.007536371562917345, 0.30257179198775386, 0.17927083728331122, 0.26892845426255846, 0.03953096173969242, 0.19683182778260241, 0.04394542860434693, 0.0793029542866193, 0.2963678031980366, 0.05543343590388057, 0.18134266109435992, 0.11591761711749479, 0.23554981465647626, 0.33751970228109374], \"yaxis\": \"y\"}],\n",
       "                        {\"legend\": {\"title\": {\"text\": \"labels\"}, \"tracegroupgap\": 0}, \"margin\": {\"t\": 60}, \"template\": {\"data\": {\"bar\": [{\"error_x\": {\"color\": \"#2a3f5f\"}, \"error_y\": {\"color\": \"#2a3f5f\"}, \"marker\": {\"line\": {\"color\": \"#E5ECF6\", \"width\": 0.5}}, \"type\": \"bar\"}], \"barpolar\": [{\"marker\": {\"line\": {\"color\": \"#E5ECF6\", \"width\": 0.5}}, \"type\": \"barpolar\"}], \"carpet\": [{\"aaxis\": {\"endlinecolor\": \"#2a3f5f\", \"gridcolor\": \"white\", \"linecolor\": \"white\", \"minorgridcolor\": \"white\", \"startlinecolor\": \"#2a3f5f\"}, \"baxis\": {\"endlinecolor\": \"#2a3f5f\", \"gridcolor\": \"white\", \"linecolor\": \"white\", \"minorgridcolor\": \"white\", \"startlinecolor\": \"#2a3f5f\"}, \"type\": \"carpet\"}], \"choropleth\": [{\"colorbar\": {\"outlinewidth\": 0, \"ticks\": \"\"}, \"type\": \"choropleth\"}], \"contour\": [{\"colorbar\": {\"outlinewidth\": 0, \"ticks\": \"\"}, \"colorscale\": [[0.0, \"#0d0887\"], [0.1111111111111111, \"#46039f\"], [0.2222222222222222, \"#7201a8\"], [0.3333333333333333, \"#9c179e\"], [0.4444444444444444, \"#bd3786\"], [0.5555555555555556, \"#d8576b\"], [0.6666666666666666, \"#ed7953\"], [0.7777777777777778, \"#fb9f3a\"], [0.8888888888888888, \"#fdca26\"], [1.0, \"#f0f921\"]], \"type\": \"contour\"}], \"contourcarpet\": [{\"colorbar\": {\"outlinewidth\": 0, \"ticks\": \"\"}, \"type\": \"contourcarpet\"}], \"heatmap\": [{\"colorbar\": {\"outlinewidth\": 0, \"ticks\": \"\"}, \"colorscale\": [[0.0, \"#0d0887\"], [0.1111111111111111, \"#46039f\"], [0.2222222222222222, \"#7201a8\"], [0.3333333333333333, \"#9c179e\"], [0.4444444444444444, \"#bd3786\"], [0.5555555555555556, \"#d8576b\"], [0.6666666666666666, \"#ed7953\"], [0.7777777777777778, \"#fb9f3a\"], [0.8888888888888888, \"#fdca26\"], [1.0, \"#f0f921\"]], \"type\": \"heatmap\"}], \"heatmapgl\": [{\"colorbar\": {\"outlinewidth\": 0, \"ticks\": \"\"}, \"colorscale\": [[0.0, \"#0d0887\"], [0.1111111111111111, \"#46039f\"], [0.2222222222222222, \"#7201a8\"], [0.3333333333333333, \"#9c179e\"], [0.4444444444444444, \"#bd3786\"], [0.5555555555555556, \"#d8576b\"], [0.6666666666666666, \"#ed7953\"], [0.7777777777777778, \"#fb9f3a\"], [0.8888888888888888, \"#fdca26\"], [1.0, \"#f0f921\"]], \"type\": \"heatmapgl\"}], \"histogram\": [{\"marker\": {\"colorbar\": {\"outlinewidth\": 0, \"ticks\": \"\"}}, \"type\": \"histogram\"}], \"histogram2d\": [{\"colorbar\": {\"outlinewidth\": 0, \"ticks\": \"\"}, \"colorscale\": [[0.0, \"#0d0887\"], [0.1111111111111111, \"#46039f\"], [0.2222222222222222, \"#7201a8\"], [0.3333333333333333, \"#9c179e\"], [0.4444444444444444, \"#bd3786\"], [0.5555555555555556, \"#d8576b\"], [0.6666666666666666, \"#ed7953\"], [0.7777777777777778, \"#fb9f3a\"], [0.8888888888888888, \"#fdca26\"], [1.0, \"#f0f921\"]], \"type\": \"histogram2d\"}], \"histogram2dcontour\": [{\"colorbar\": {\"outlinewidth\": 0, \"ticks\": \"\"}, \"colorscale\": [[0.0, \"#0d0887\"], [0.1111111111111111, \"#46039f\"], [0.2222222222222222, \"#7201a8\"], [0.3333333333333333, \"#9c179e\"], [0.4444444444444444, \"#bd3786\"], [0.5555555555555556, \"#d8576b\"], [0.6666666666666666, \"#ed7953\"], [0.7777777777777778, \"#fb9f3a\"], [0.8888888888888888, \"#fdca26\"], [1.0, \"#f0f921\"]], \"type\": \"histogram2dcontour\"}], \"mesh3d\": [{\"colorbar\": {\"outlinewidth\": 0, \"ticks\": \"\"}, \"type\": \"mesh3d\"}], \"parcoords\": [{\"line\": {\"colorbar\": {\"outlinewidth\": 0, \"ticks\": \"\"}}, \"type\": \"parcoords\"}], \"pie\": [{\"automargin\": true, \"type\": \"pie\"}], \"scatter\": [{\"marker\": {\"colorbar\": {\"outlinewidth\": 0, \"ticks\": \"\"}}, \"type\": \"scatter\"}], \"scatter3d\": [{\"line\": {\"colorbar\": {\"outlinewidth\": 0, \"ticks\": \"\"}}, \"marker\": {\"colorbar\": {\"outlinewidth\": 0, \"ticks\": \"\"}}, \"type\": \"scatter3d\"}], \"scattercarpet\": [{\"marker\": {\"colorbar\": {\"outlinewidth\": 0, \"ticks\": \"\"}}, \"type\": \"scattercarpet\"}], \"scattergeo\": [{\"marker\": {\"colorbar\": {\"outlinewidth\": 0, \"ticks\": \"\"}}, \"type\": \"scattergeo\"}], \"scattergl\": [{\"marker\": {\"colorbar\": {\"outlinewidth\": 0, \"ticks\": \"\"}}, \"type\": \"scattergl\"}], \"scattermapbox\": [{\"marker\": {\"colorbar\": {\"outlinewidth\": 0, \"ticks\": \"\"}}, \"type\": \"scattermapbox\"}], \"scatterpolar\": [{\"marker\": {\"colorbar\": {\"outlinewidth\": 0, \"ticks\": \"\"}}, \"type\": \"scatterpolar\"}], \"scatterpolargl\": [{\"marker\": {\"colorbar\": {\"outlinewidth\": 0, \"ticks\": \"\"}}, \"type\": \"scatterpolargl\"}], \"scatterternary\": [{\"marker\": {\"colorbar\": {\"outlinewidth\": 0, \"ticks\": \"\"}}, \"type\": \"scatterternary\"}], \"surface\": [{\"colorbar\": {\"outlinewidth\": 0, \"ticks\": \"\"}, \"colorscale\": [[0.0, \"#0d0887\"], [0.1111111111111111, \"#46039f\"], [0.2222222222222222, \"#7201a8\"], [0.3333333333333333, \"#9c179e\"], [0.4444444444444444, \"#bd3786\"], [0.5555555555555556, \"#d8576b\"], [0.6666666666666666, \"#ed7953\"], [0.7777777777777778, \"#fb9f3a\"], [0.8888888888888888, \"#fdca26\"], [1.0, \"#f0f921\"]], \"type\": \"surface\"}], \"table\": [{\"cells\": {\"fill\": {\"color\": \"#EBF0F8\"}, \"line\": {\"color\": \"white\"}}, \"header\": {\"fill\": {\"color\": \"#C8D4E3\"}, \"line\": {\"color\": \"white\"}}, \"type\": \"table\"}]}, \"layout\": {\"annotationdefaults\": {\"arrowcolor\": \"#2a3f5f\", \"arrowhead\": 0, \"arrowwidth\": 1}, \"coloraxis\": {\"colorbar\": {\"outlinewidth\": 0, \"ticks\": \"\"}}, \"colorscale\": {\"diverging\": [[0, \"#8e0152\"], [0.1, \"#c51b7d\"], [0.2, \"#de77ae\"], [0.3, \"#f1b6da\"], [0.4, \"#fde0ef\"], [0.5, \"#f7f7f7\"], [0.6, \"#e6f5d0\"], [0.7, \"#b8e186\"], [0.8, \"#7fbc41\"], [0.9, \"#4d9221\"], [1, \"#276419\"]], \"sequential\": [[0.0, \"#0d0887\"], [0.1111111111111111, \"#46039f\"], [0.2222222222222222, \"#7201a8\"], [0.3333333333333333, \"#9c179e\"], [0.4444444444444444, \"#bd3786\"], [0.5555555555555556, \"#d8576b\"], [0.6666666666666666, \"#ed7953\"], [0.7777777777777778, \"#fb9f3a\"], [0.8888888888888888, \"#fdca26\"], [1.0, \"#f0f921\"]], \"sequentialminus\": [[0.0, \"#0d0887\"], [0.1111111111111111, \"#46039f\"], [0.2222222222222222, \"#7201a8\"], [0.3333333333333333, \"#9c179e\"], [0.4444444444444444, \"#bd3786\"], [0.5555555555555556, \"#d8576b\"], [0.6666666666666666, \"#ed7953\"], [0.7777777777777778, \"#fb9f3a\"], [0.8888888888888888, \"#fdca26\"], [1.0, \"#f0f921\"]]}, \"colorway\": [\"#636efa\", \"#EF553B\", \"#00cc96\", \"#ab63fa\", \"#FFA15A\", \"#19d3f3\", \"#FF6692\", \"#B6E880\", \"#FF97FF\", \"#FECB52\"], \"font\": {\"color\": \"#2a3f5f\"}, \"geo\": {\"bgcolor\": \"white\", \"lakecolor\": \"white\", \"landcolor\": \"#E5ECF6\", \"showlakes\": true, \"showland\": true, \"subunitcolor\": \"white\"}, \"hoverlabel\": {\"align\": \"left\"}, \"hovermode\": \"closest\", \"mapbox\": {\"style\": \"light\"}, \"paper_bgcolor\": \"white\", \"plot_bgcolor\": \"#E5ECF6\", \"polar\": {\"angularaxis\": {\"gridcolor\": \"white\", \"linecolor\": \"white\", \"ticks\": \"\"}, \"bgcolor\": \"#E5ECF6\", \"radialaxis\": {\"gridcolor\": \"white\", \"linecolor\": \"white\", \"ticks\": \"\"}}, \"scene\": {\"xaxis\": {\"backgroundcolor\": \"#E5ECF6\", \"gridcolor\": \"white\", \"gridwidth\": 2, \"linecolor\": \"white\", \"showbackground\": true, \"ticks\": \"\", \"zerolinecolor\": \"white\"}, \"yaxis\": {\"backgroundcolor\": \"#E5ECF6\", \"gridcolor\": \"white\", \"gridwidth\": 2, \"linecolor\": \"white\", \"showbackground\": true, \"ticks\": \"\", \"zerolinecolor\": \"white\"}, \"zaxis\": {\"backgroundcolor\": \"#E5ECF6\", \"gridcolor\": \"white\", \"gridwidth\": 2, \"linecolor\": \"white\", \"showbackground\": true, \"ticks\": \"\", \"zerolinecolor\": \"white\"}}, \"shapedefaults\": {\"line\": {\"color\": \"#2a3f5f\"}}, \"ternary\": {\"aaxis\": {\"gridcolor\": \"white\", \"linecolor\": \"white\", \"ticks\": \"\"}, \"baxis\": {\"gridcolor\": \"white\", \"linecolor\": \"white\", \"ticks\": \"\"}, \"bgcolor\": \"#E5ECF6\", \"caxis\": {\"gridcolor\": \"white\", \"linecolor\": \"white\", \"ticks\": \"\"}}, \"title\": {\"x\": 0.05}, \"xaxis\": {\"automargin\": true, \"gridcolor\": \"white\", \"linecolor\": \"white\", \"ticks\": \"\", \"title\": {\"standoff\": 15}, \"zerolinecolor\": \"white\", \"zerolinewidth\": 2}, \"yaxis\": {\"automargin\": true, \"gridcolor\": \"white\", \"linecolor\": \"white\", \"ticks\": \"\", \"title\": {\"standoff\": 15}, \"zerolinecolor\": \"white\", \"zerolinewidth\": 2}}}, \"xaxis\": {\"anchor\": \"y\", \"domain\": [0.0, 1.0], \"title\": {\"text\": \"pca_1\"}}, \"yaxis\": {\"anchor\": \"x\", \"domain\": [0.0, 1.0], \"title\": {\"text\": \"pca_2\"}}},\n",
       "                        {\"responsive\": true}\n",
       "                    ).then(function(){\n",
       "                            \n",
       "var gd = document.getElementById('bdf3f7e1-9ea6-46c1-9e2b-32bf1beffb90');\n",
       "var x = new MutationObserver(function (mutations, observer) {{\n",
       "        var display = window.getComputedStyle(gd).display;\n",
       "        if (!display || display === 'none') {{\n",
       "            console.log([gd, 'removed!']);\n",
       "            Plotly.purge(gd);\n",
       "            observer.disconnect();\n",
       "        }}\n",
       "}});\n",
       "\n",
       "// Listen for the removal of the full notebook cells\n",
       "var notebookContainer = gd.closest('#notebook-container');\n",
       "if (notebookContainer) {{\n",
       "    x.observe(notebookContainer, {childList: true});\n",
       "}}\n",
       "\n",
       "// Listen for the clearing of the current output cell\n",
       "var outputEl = gd.closest('.output');\n",
       "if (outputEl) {{\n",
       "    x.observe(outputEl, {childList: true});\n",
       "}}\n",
       "\n",
       "                        })\n",
       "                };\n",
       "                });\n",
       "            </script>\n",
       "        </div>"
      ]
     },
     "metadata": {},
     "output_type": "display_data"
    }
   ],
   "source": [
    "fig.show()"
   ]
  },
  {
   "cell_type": "markdown",
   "metadata": {},
   "source": [
    "#### After covid-19"
   ]
  },
  {
   "cell_type": "code",
   "execution_count": 138,
   "metadata": {},
   "outputs": [],
   "source": [
    "texts_after = asthma_after_covid[\"abstract_lower\"].tolist()"
   ]
  },
  {
   "cell_type": "code",
   "execution_count": 139,
   "metadata": {},
   "outputs": [
    {
     "name": "stderr",
     "output_type": "stream",
     "text": [
      "c:\\users\\katerina\\appdata\\local\\programs\\python\\python37\\lib\\site-packages\\sklearn\\feature_extraction\\text.py:386: UserWarning:\n",
      "\n",
      "Your stop_words may be inconsistent with your preprocessing. Tokenizing the stop words generated tokens ['cri', 'describ', 'sincer'] not in stop_words.\n",
      "\n"
     ]
    }
   ],
   "source": [
    "vec_after = TfidfVectorizer(tokenizer=custom_tokenizer,\n",
    "                      stop_words='english', \n",
    "                           max_features=1000)\n",
    "matrix_after = vec_after.fit_transform(texts_after)\n",
    "df_after = pd.DataFrame(matrix_after.toarray(), columns=vec_after.get_feature_names())\n"
   ]
  },
  {
   "cell_type": "code",
   "execution_count": 140,
   "metadata": {},
   "outputs": [
    {
     "data": {
      "text/html": [
       "<div>\n",
       "<style scoped>\n",
       "    .dataframe tbody tr th:only-of-type {\n",
       "        vertical-align: middle;\n",
       "    }\n",
       "\n",
       "    .dataframe tbody tr th {\n",
       "        vertical-align: top;\n",
       "    }\n",
       "\n",
       "    .dataframe thead th {\n",
       "        text-align: right;\n",
       "    }\n",
       "</style>\n",
       "<table border=\"1\" class=\"dataframe\">\n",
       "  <thead>\n",
       "    <tr style=\"text-align: right;\">\n",
       "      <th></th>\n",
       "      <th>abil</th>\n",
       "      <th>abl</th>\n",
       "      <th>abnorm</th>\n",
       "      <th>absenc</th>\n",
       "      <th>abstract</th>\n",
       "      <th>access</th>\n",
       "      <th>accord</th>\n",
       "      <th>account</th>\n",
       "      <th>accumul</th>\n",
       "      <th>achiev</th>\n",
       "      <th>...</th>\n",
       "      <th>world</th>\n",
       "      <th>worldwid</th>\n",
       "      <th>wors</th>\n",
       "      <th>worsen</th>\n",
       "      <th>wuhan</th>\n",
       "      <th>year</th>\n",
       "      <th>york</th>\n",
       "      <th>young</th>\n",
       "      <th>younger</th>\n",
       "      <th>youth</th>\n",
       "    </tr>\n",
       "  </thead>\n",
       "  <tbody>\n",
       "    <tr>\n",
       "      <th>0</th>\n",
       "      <td>0.0</td>\n",
       "      <td>0.0</td>\n",
       "      <td>0.0</td>\n",
       "      <td>0.0</td>\n",
       "      <td>0.0</td>\n",
       "      <td>0.0</td>\n",
       "      <td>0.0</td>\n",
       "      <td>0.0</td>\n",
       "      <td>0.0</td>\n",
       "      <td>0.0</td>\n",
       "      <td>...</td>\n",
       "      <td>0.0</td>\n",
       "      <td>0.0</td>\n",
       "      <td>0.0</td>\n",
       "      <td>0.0</td>\n",
       "      <td>0.0</td>\n",
       "      <td>0.000000</td>\n",
       "      <td>0.0</td>\n",
       "      <td>0.0</td>\n",
       "      <td>0.0</td>\n",
       "      <td>0.0</td>\n",
       "    </tr>\n",
       "    <tr>\n",
       "      <th>1</th>\n",
       "      <td>0.0</td>\n",
       "      <td>0.0</td>\n",
       "      <td>0.0</td>\n",
       "      <td>0.0</td>\n",
       "      <td>0.0</td>\n",
       "      <td>0.0</td>\n",
       "      <td>0.0</td>\n",
       "      <td>0.0</td>\n",
       "      <td>0.0</td>\n",
       "      <td>0.0</td>\n",
       "      <td>...</td>\n",
       "      <td>0.0</td>\n",
       "      <td>0.0</td>\n",
       "      <td>0.0</td>\n",
       "      <td>0.0</td>\n",
       "      <td>0.0</td>\n",
       "      <td>0.000000</td>\n",
       "      <td>0.0</td>\n",
       "      <td>0.0</td>\n",
       "      <td>0.0</td>\n",
       "      <td>0.0</td>\n",
       "    </tr>\n",
       "    <tr>\n",
       "      <th>2</th>\n",
       "      <td>0.0</td>\n",
       "      <td>0.0</td>\n",
       "      <td>0.0</td>\n",
       "      <td>0.0</td>\n",
       "      <td>0.0</td>\n",
       "      <td>0.0</td>\n",
       "      <td>0.0</td>\n",
       "      <td>0.0</td>\n",
       "      <td>0.0</td>\n",
       "      <td>0.0</td>\n",
       "      <td>...</td>\n",
       "      <td>0.0</td>\n",
       "      <td>0.0</td>\n",
       "      <td>0.0</td>\n",
       "      <td>0.0</td>\n",
       "      <td>0.0</td>\n",
       "      <td>0.076216</td>\n",
       "      <td>0.0</td>\n",
       "      <td>0.0</td>\n",
       "      <td>0.0</td>\n",
       "      <td>0.0</td>\n",
       "    </tr>\n",
       "    <tr>\n",
       "      <th>3</th>\n",
       "      <td>0.0</td>\n",
       "      <td>0.0</td>\n",
       "      <td>0.0</td>\n",
       "      <td>0.0</td>\n",
       "      <td>0.0</td>\n",
       "      <td>0.0</td>\n",
       "      <td>0.0</td>\n",
       "      <td>0.0</td>\n",
       "      <td>0.0</td>\n",
       "      <td>0.0</td>\n",
       "      <td>...</td>\n",
       "      <td>0.0</td>\n",
       "      <td>0.0</td>\n",
       "      <td>0.0</td>\n",
       "      <td>0.0</td>\n",
       "      <td>0.0</td>\n",
       "      <td>0.000000</td>\n",
       "      <td>0.0</td>\n",
       "      <td>0.0</td>\n",
       "      <td>0.0</td>\n",
       "      <td>0.0</td>\n",
       "    </tr>\n",
       "    <tr>\n",
       "      <th>4</th>\n",
       "      <td>0.0</td>\n",
       "      <td>0.0</td>\n",
       "      <td>0.0</td>\n",
       "      <td>0.0</td>\n",
       "      <td>0.0</td>\n",
       "      <td>0.0</td>\n",
       "      <td>0.0</td>\n",
       "      <td>0.0</td>\n",
       "      <td>0.0</td>\n",
       "      <td>0.0</td>\n",
       "      <td>...</td>\n",
       "      <td>0.0</td>\n",
       "      <td>0.0</td>\n",
       "      <td>0.0</td>\n",
       "      <td>0.0</td>\n",
       "      <td>0.0</td>\n",
       "      <td>0.000000</td>\n",
       "      <td>0.0</td>\n",
       "      <td>0.0</td>\n",
       "      <td>0.0</td>\n",
       "      <td>0.0</td>\n",
       "    </tr>\n",
       "  </tbody>\n",
       "</table>\n",
       "<p>5 rows × 1000 columns</p>\n",
       "</div>"
      ],
      "text/plain": [
       "   abil  abl  abnorm  absenc  abstract  access  accord  account  accumul  \\\n",
       "0   0.0  0.0     0.0     0.0       0.0     0.0     0.0      0.0      0.0   \n",
       "1   0.0  0.0     0.0     0.0       0.0     0.0     0.0      0.0      0.0   \n",
       "2   0.0  0.0     0.0     0.0       0.0     0.0     0.0      0.0      0.0   \n",
       "3   0.0  0.0     0.0     0.0       0.0     0.0     0.0      0.0      0.0   \n",
       "4   0.0  0.0     0.0     0.0       0.0     0.0     0.0      0.0      0.0   \n",
       "\n",
       "   achiev  ...  world  worldwid  wors  worsen  wuhan      year  york  young  \\\n",
       "0     0.0  ...    0.0       0.0   0.0     0.0    0.0  0.000000   0.0    0.0   \n",
       "1     0.0  ...    0.0       0.0   0.0     0.0    0.0  0.000000   0.0    0.0   \n",
       "2     0.0  ...    0.0       0.0   0.0     0.0    0.0  0.076216   0.0    0.0   \n",
       "3     0.0  ...    0.0       0.0   0.0     0.0    0.0  0.000000   0.0    0.0   \n",
       "4     0.0  ...    0.0       0.0   0.0     0.0    0.0  0.000000   0.0    0.0   \n",
       "\n",
       "   younger  youth  \n",
       "0      0.0    0.0  \n",
       "1      0.0    0.0  \n",
       "2      0.0    0.0  \n",
       "3      0.0    0.0  \n",
       "4      0.0    0.0  \n",
       "\n",
       "[5 rows x 1000 columns]"
      ]
     },
     "execution_count": 140,
     "metadata": {},
     "output_type": "execute_result"
    }
   ],
   "source": [
    "df_after.head()"
   ]
  },
  {
   "cell_type": "code",
   "execution_count": 141,
   "metadata": {},
   "outputs": [
    {
     "data": {
      "text/plain": [
       "<bound method KMeans.fit of KMeans(n_clusters=10)>"
      ]
     },
     "execution_count": 141,
     "metadata": {},
     "output_type": "execute_result"
    }
   ],
   "source": [
    "number_of_clusters=10\n",
    "km_after = KMeans(n_clusters=number_of_clusters)\n",
    "km_after.fit(matrix_after)\n",
    "km_after.fit"
   ]
  },
  {
   "cell_type": "code",
   "execution_count": 142,
   "metadata": {},
   "outputs": [
    {
     "name": "stdout",
     "output_type": "stream",
     "text": [
      "[[0.         0.00501786 0.         ... 0.         0.         0.        ]\n",
      " [0.00136042 0.         0.00805406 ... 0.0098062  0.02010528 0.01370836]\n",
      " [0.00276964 0.00089209 0.00192717 ... 0.00329093 0.         0.        ]\n",
      " ...\n",
      " [0.00356241 0.00257358 0.00631808 ... 0.00611313 0.0026634  0.00212767]\n",
      " [0.001772   0.00172212 0.00122814 ... 0.00133443 0.00651702 0.        ]\n",
      " [0.00650875 0.002546   0.00205394 ... 0.         0.         0.        ]]\n",
      "[5 9 3 ... 7 9 5]\n"
     ]
    }
   ],
   "source": [
    "centroids_after, labels_after = km_after.cluster_centers_, km_after.labels_\n",
    "print(centroids_after)\n",
    "print(labels_after)"
   ]
  },
  {
   "cell_type": "code",
   "execution_count": 143,
   "metadata": {},
   "outputs": [
    {
     "name": "stdout",
     "output_type": "stream",
     "text": [
      "Top terms per cluster:\n",
      "Cluster 0: air pollut health lockdown exposur human pm impact particul qualiti environment matter effect respiratori citi reduc econom asthma level associ\n",
      "Cluster 1: children asthma pediatr hospit infect respiratori patient year sever clinic age studi symptom bronchiol risk diseas admiss present wheez adult\n",
      "Cluster 2: asthma patient sever exacerb corticosteroid infect biolog risk treatment inhal therapi diseas pandem control continu use asthmat recommend manag respiratori\n",
      "Cluster 3: patient hospit diseas mortal comorbid risk ci age p admiss sever outcom studi associ icu asthma factor clinic diabet death\n",
      "Cluster 4: women pregnant matern pregnanc aor sever case neonat diseas birth p death ci infect hospit preterm deliveri obes patient vs\n",
      "Cluster 5: drug medicin treatment effect trial studi tradit acid antiinflammatori chines clinic lung diseas pharmacolog activ therapeut potenti improv repurpos compound\n",
      "Cluster 6: allergi care telemedicin patient allerg provid pandem asthma health practic servic healthcar recommend manag diseas expert educ allergist review visit\n",
      "Cluster 7: diseas respiratori patient lung coronaviru case infect sever chronic acut asthma present pulmonari caus pandem report syndrom includ peopl symptom\n",
      "Cluster 8: patient ci test asthma p posit studi health diseas associ adult risk vs result measur rate age cancer year compar\n",
      "Cluster 9: cell express gene airway diseas lung inflamm protein receptor immun asthma role epitheli inflammatori activ infect function pathway pulmonari respons\n"
     ]
    }
   ],
   "source": [
    "print(\"Top terms per cluster:\")\n",
    "order_centroids_after = km_after.cluster_centers_.argsort()[:, ::-1]\n",
    "terms = vec_after.get_feature_names()\n",
    "for i in range(number_of_clusters):\n",
    "    top_ten_words = [terms[ind] for ind in order_centroids_after[i, :20]]\n",
    "    print(\"Cluster {}: {}\".format(i, ' '.join(top_ten_words)))"
   ]
  },
  {
   "cell_type": "code",
   "execution_count": 144,
   "metadata": {},
   "outputs": [
    {
     "data": {
      "text/plain": [
       "array([[ 36, 668, 393, ..., 543, 540,   0],\n",
       "       [144,  77, 643, ..., 130, 127, 499],\n",
       "       [ 77, 639, 833, ..., 213, 210, 999],\n",
       "       ...,\n",
       "       [266, 782, 639, ..., 535, 245, 761],\n",
       "       [639, 148, 918, ..., 130, 617, 999],\n",
       "       [129, 338, 375, ..., 350, 355, 999]], dtype=int64)"
      ]
     },
     "execution_count": 144,
     "metadata": {},
     "output_type": "execute_result"
    }
   ],
   "source": [
    "order_centroids_after"
   ]
  },
  {
   "cell_type": "code",
   "execution_count": 145,
   "metadata": {},
   "outputs": [],
   "source": [
    "T_after = preprocessing.Normalizer().fit_transform(df_after)\n",
    "# Dimesionality reduction to 2\n",
    "pca_model = PCA(n_components=2, random_state=0)\n",
    "pca_model.fit(T_after) \n",
    "T_after = pca_model.transform(T_after) \n",
    "\n",
    "centroid_pca_after = pca_model.transform(centroids_after)"
   ]
  },
  {
   "cell_type": "code",
   "execution_count": 146,
   "metadata": {},
   "outputs": [],
   "source": [
    "asthma_after_covid['labels'] = km_after.labels_\n",
    "asthma_after_covid['pca_1'] = T_after[:, 0]\n",
    "asthma_after_covid['pca_2'] = T_after[:, 1]"
   ]
  },
  {
   "cell_type": "code",
   "execution_count": 147,
   "metadata": {},
   "outputs": [],
   "source": [
    "asthma_after_covid['labels'] = asthma_after_covid['labels'].astype(str)"
   ]
  },
  {
   "cell_type": "code",
   "execution_count": 148,
   "metadata": {},
   "outputs": [],
   "source": [
    "fig = px.scatter(asthma_after_covid, \n",
    "                 x=\"pca_1\", \n",
    "                 y=\"pca_2\", \n",
    "                 color=\"labels\",\n",
    "                 hover_data=['title'])"
   ]
  },
  {
   "cell_type": "code",
   "execution_count": 149,
   "metadata": {},
   "outputs": [
    {
     "ename": "ValueError",
     "evalue": "\nThe orca executable is required to export figures as static images,\nbut it could not be found on the system path.\n\nSearched for executable 'orca' on the following path:\n    C:\\Users\\Katerina\\PycharmProjects\\Asthma_clustering\\newenv\\Scripts\n    C:\\Program Files (x86)\\Common Files\\Oracle\\Java\\javapath\n    C:\\Program Files\\Broadcom\\Broadcom 802.11 Network Adapter\n    C:\\Program Files\\Common Files\\Microsoft Shared\\Windows Live\n    C:\\Program Files (x86)\\Common Files\\Microsoft Shared\\Windows Live\n    C:\\Program Files\\Broadcom\\Broadcom 802.11\n    C:\\WINDOWS\\system32\n    C:\\WINDOWS\n    C:\\WINDOWS\\System32\\Wbem\n    C:\\WINDOWS\\System32\\WindowsPowerShell\\v1.0\\\n    C:\\Program Files (x86)\\ATI Technologies\\ATI.ACE\\Core-Static\n    C:\\Program Files\\WIDCOMM\\Bluetooth Software\\\n    C:\\Program Files\\WIDCOMM\\Bluetooth Software\\syswow64\n    C:\\Program Files (x86)\\Windows Live\\Shared\n    C:\\WINDOWS\\System32\\OpenSSH\\\n    C:\\Program Files\\Crucial\\Crucial Storage Executive\n    C:\\Program Files (x86)\\Common Files\\Acronis\\VirtualFile\\\n    C:\\Program Files (x86)\\Common Files\\Acronis\\VirtualFile64\\\n    C:\\Program Files (x86)\\Common Files\\Acronis\\SnapAPI\\\n    C:\\Program Files\\OpenMS-2.4.0\\bin\n    C:\\Program Files\\OpenMS-2.4.0\\share\\OpenMS\\THIRDPARTY\\Comet\n    C:\\Program Files\\OpenMS-2.4.0\\share\\OpenMS\\THIRDPARTY\\crux\n    C:\\Program Files\\OpenMS-2.4.0\\share\\OpenMS\\THIRDPARTY\\Fido\n    C:\\Program Files\\OpenMS-2.4.0\\share\\OpenMS\\THIRDPARTY\\LuciPHOr2\n    C:\\Program Files\\OpenMS-2.4.0\\share\\OpenMS\\THIRDPARTY\\MaRaCluster\n    C:\\Program Files\\OpenMS-2.4.0\\share\\OpenMS\\THIRDPARTY\\MSGFPlus\n    C:\\Program Files\\OpenMS-2.4.0\\share\\OpenMS\\THIRDPARTY\\MyriMatch\n    C:\\Program Files\\OpenMS-2.4.0\\share\\OpenMS\\THIRDPARTY\\OMSSA\n    C:\\Program Files\\OpenMS-2.4.0\\share\\OpenMS\\THIRDPARTY\\Percolator\n    C:\\Program Files\\OpenMS-2.4.0\\share\\OpenMS\\THIRDPARTY\\pwiz-bin\n    C:\\Program Files\\OpenMS-2.4.0\\share\\OpenMS\\THIRDPARTY\\Sirius\n    C:\\Program Files\\OpenMS-2.4.0\\share\\OpenMS\\THIRDPARTY\\SpectraST\n    C:\\Program Files\\OpenMS-2.4.0\\share\\OpenMS\\THIRDPARTY\\XTandem\n    C:\\Program Files\\Git\\cmd\n    C:\\Users\\Katerina\\AppData\\Local\\Programs\\Python\\Python37\\Scripts\\\n    C:\\Users\\Katerina\\AppData\\Local\\Programs\\Python\\Python37\\\n    C:\\Users\\Katerina\\AppData\\Local\\Microsoft\\WindowsApps\n    \n    C:\\Program Files\\JetBrains\\PyCharm Community Edition 2019.3.1\\bin\n    \n    c:\\users\\katerina\\appdata\\local\\programs\\python\\python37\\lib\\site-packages\\numpy\\.libs\n    c:\\users\\katerina\\appdata\\local\\programs\\python\\python37\\lib\\site-packages\\scipy\\.libs\n\nIf you haven't installed orca yet, you can do so using conda as follows:\n\n    $ conda install -c plotly plotly-orca\n\nAlternatively, see other installation methods in the orca project README at\nhttps://github.com/plotly/orca\n\nAfter installation is complete, no further configuration should be needed.\n\nIf you have installed orca, then for some reason plotly.py was unable to\nlocate it. In this case, set the `plotly.io.orca.config.executable`\nproperty to the full path of your orca executable. For example:\n\n    >>> plotly.io.orca.config.executable = '/path/to/orca'\n\nAfter updating this executable property, try the export operation again.\nIf it is successful then you may want to save this configuration so that it\nwill be applied automatically in future sessions. You can do this as follows:\n\n    >>> plotly.io.orca.config.save()\n\nIf you're still having trouble, feel free to ask for help on the forums at\nhttps://community.plot.ly/c/api/python\n",
     "output_type": "error",
     "traceback": [
      "\u001b[1;31m---------------------------------------------------------------------------\u001b[0m",
      "\u001b[1;31mValueError\u001b[0m                                Traceback (most recent call last)",
      "\u001b[1;32m<ipython-input-149-e733bf955a03>\u001b[0m in \u001b[0;36m<module>\u001b[1;34m\u001b[0m\n\u001b[1;32m----> 1\u001b[1;33m \u001b[0mfig\u001b[0m\u001b[1;33m.\u001b[0m\u001b[0mshow\u001b[0m\u001b[1;33m(\u001b[0m\u001b[1;34m\"png\"\u001b[0m\u001b[1;33m)\u001b[0m\u001b[1;33m\u001b[0m\u001b[1;33m\u001b[0m\u001b[0m\n\u001b[0m",
      "\u001b[1;32mc:\\users\\katerina\\appdata\\local\\programs\\python\\python37\\lib\\site-packages\\plotly\\basedatatypes.py\u001b[0m in \u001b[0;36mshow\u001b[1;34m(self, *args, **kwargs)\u001b[0m\n\u001b[0;32m   2869\u001b[0m         \u001b[1;32mimport\u001b[0m \u001b[0mplotly\u001b[0m\u001b[1;33m.\u001b[0m\u001b[0mio\u001b[0m \u001b[1;32mas\u001b[0m \u001b[0mpio\u001b[0m\u001b[1;33m\u001b[0m\u001b[1;33m\u001b[0m\u001b[0m\n\u001b[0;32m   2870\u001b[0m \u001b[1;33m\u001b[0m\u001b[0m\n\u001b[1;32m-> 2871\u001b[1;33m         \u001b[1;32mreturn\u001b[0m \u001b[0mpio\u001b[0m\u001b[1;33m.\u001b[0m\u001b[0mshow\u001b[0m\u001b[1;33m(\u001b[0m\u001b[0mself\u001b[0m\u001b[1;33m,\u001b[0m \u001b[1;33m*\u001b[0m\u001b[0margs\u001b[0m\u001b[1;33m,\u001b[0m \u001b[1;33m**\u001b[0m\u001b[0mkwargs\u001b[0m\u001b[1;33m)\u001b[0m\u001b[1;33m\u001b[0m\u001b[1;33m\u001b[0m\u001b[0m\n\u001b[0m\u001b[0;32m   2872\u001b[0m \u001b[1;33m\u001b[0m\u001b[0m\n\u001b[0;32m   2873\u001b[0m     \u001b[1;32mdef\u001b[0m \u001b[0mto_json\u001b[0m\u001b[1;33m(\u001b[0m\u001b[0mself\u001b[0m\u001b[1;33m,\u001b[0m \u001b[1;33m*\u001b[0m\u001b[0margs\u001b[0m\u001b[1;33m,\u001b[0m \u001b[1;33m**\u001b[0m\u001b[0mkwargs\u001b[0m\u001b[1;33m)\u001b[0m\u001b[1;33m:\u001b[0m\u001b[1;33m\u001b[0m\u001b[1;33m\u001b[0m\u001b[0m\n",
      "\u001b[1;32mc:\\users\\katerina\\appdata\\local\\programs\\python\\python37\\lib\\site-packages\\plotly\\io\\_renderers.py\u001b[0m in \u001b[0;36mshow\u001b[1;34m(fig, renderer, validate, **kwargs)\u001b[0m\n\u001b[0;32m    375\u001b[0m \u001b[1;33m\u001b[0m\u001b[0m\n\u001b[0;32m    376\u001b[0m     \u001b[1;31m# Mimetype renderers\u001b[0m\u001b[1;33m\u001b[0m\u001b[1;33m\u001b[0m\u001b[1;33m\u001b[0m\u001b[0m\n\u001b[1;32m--> 377\u001b[1;33m     \u001b[0mbundle\u001b[0m \u001b[1;33m=\u001b[0m \u001b[0mrenderers\u001b[0m\u001b[1;33m.\u001b[0m\u001b[0m_build_mime_bundle\u001b[0m\u001b[1;33m(\u001b[0m\u001b[0mfig_dict\u001b[0m\u001b[1;33m,\u001b[0m \u001b[0mrenderers_string\u001b[0m\u001b[1;33m=\u001b[0m\u001b[0mrenderer\u001b[0m\u001b[1;33m,\u001b[0m \u001b[1;33m**\u001b[0m\u001b[0mkwargs\u001b[0m\u001b[1;33m)\u001b[0m\u001b[1;33m\u001b[0m\u001b[1;33m\u001b[0m\u001b[0m\n\u001b[0m\u001b[0;32m    378\u001b[0m     \u001b[1;32mif\u001b[0m \u001b[0mbundle\u001b[0m\u001b[1;33m:\u001b[0m\u001b[1;33m\u001b[0m\u001b[1;33m\u001b[0m\u001b[0m\n\u001b[0;32m    379\u001b[0m         \u001b[1;32mif\u001b[0m \u001b[1;32mnot\u001b[0m \u001b[0mipython_display\u001b[0m\u001b[1;33m:\u001b[0m\u001b[1;33m\u001b[0m\u001b[1;33m\u001b[0m\u001b[0m\n",
      "\u001b[1;32mc:\\users\\katerina\\appdata\\local\\programs\\python\\python37\\lib\\site-packages\\plotly\\io\\_renderers.py\u001b[0m in \u001b[0;36m_build_mime_bundle\u001b[1;34m(self, fig_dict, renderers_string, **kwargs)\u001b[0m\n\u001b[0;32m    295\u001b[0m                         \u001b[0msetattr\u001b[0m\u001b[1;33m(\u001b[0m\u001b[0mrenderer\u001b[0m\u001b[1;33m,\u001b[0m \u001b[0mk\u001b[0m\u001b[1;33m,\u001b[0m \u001b[0mv\u001b[0m\u001b[1;33m)\u001b[0m\u001b[1;33m\u001b[0m\u001b[1;33m\u001b[0m\u001b[0m\n\u001b[0;32m    296\u001b[0m \u001b[1;33m\u001b[0m\u001b[0m\n\u001b[1;32m--> 297\u001b[1;33m                 \u001b[0mbundle\u001b[0m\u001b[1;33m.\u001b[0m\u001b[0mupdate\u001b[0m\u001b[1;33m(\u001b[0m\u001b[0mrenderer\u001b[0m\u001b[1;33m.\u001b[0m\u001b[0mto_mimebundle\u001b[0m\u001b[1;33m(\u001b[0m\u001b[0mfig_dict\u001b[0m\u001b[1;33m)\u001b[0m\u001b[1;33m)\u001b[0m\u001b[1;33m\u001b[0m\u001b[1;33m\u001b[0m\u001b[0m\n\u001b[0m\u001b[0;32m    298\u001b[0m \u001b[1;33m\u001b[0m\u001b[0m\n\u001b[0;32m    299\u001b[0m         \u001b[1;32mreturn\u001b[0m \u001b[0mbundle\u001b[0m\u001b[1;33m\u001b[0m\u001b[1;33m\u001b[0m\u001b[0m\n",
      "\u001b[1;32mc:\\users\\katerina\\appdata\\local\\programs\\python\\python37\\lib\\site-packages\\plotly\\io\\_base_renderers.py\u001b[0m in \u001b[0;36mto_mimebundle\u001b[1;34m(self, fig_dict)\u001b[0m\n\u001b[0;32m    132\u001b[0m             \u001b[0mscale\u001b[0m\u001b[1;33m=\u001b[0m\u001b[0mself\u001b[0m\u001b[1;33m.\u001b[0m\u001b[0mscale\u001b[0m\u001b[1;33m,\u001b[0m\u001b[1;33m\u001b[0m\u001b[1;33m\u001b[0m\u001b[0m\n\u001b[0;32m    133\u001b[0m             \u001b[0mvalidate\u001b[0m\u001b[1;33m=\u001b[0m\u001b[1;32mFalse\u001b[0m\u001b[1;33m,\u001b[0m\u001b[1;33m\u001b[0m\u001b[1;33m\u001b[0m\u001b[0m\n\u001b[1;32m--> 134\u001b[1;33m             \u001b[0mengine\u001b[0m\u001b[1;33m=\u001b[0m\u001b[0mself\u001b[0m\u001b[1;33m.\u001b[0m\u001b[0mengine\u001b[0m\u001b[1;33m,\u001b[0m\u001b[1;33m\u001b[0m\u001b[1;33m\u001b[0m\u001b[0m\n\u001b[0m\u001b[0;32m    135\u001b[0m         )\n\u001b[0;32m    136\u001b[0m \u001b[1;33m\u001b[0m\u001b[0m\n",
      "\u001b[1;32mc:\\users\\katerina\\appdata\\local\\programs\\python\\python37\\lib\\site-packages\\plotly\\io\\_kaleido.py\u001b[0m in \u001b[0;36mto_image\u001b[1;34m(fig, format, width, height, scale, validate, engine)\u001b[0m\n\u001b[0;32m    106\u001b[0m             \u001b[0mheight\u001b[0m\u001b[1;33m=\u001b[0m\u001b[0mheight\u001b[0m\u001b[1;33m,\u001b[0m\u001b[1;33m\u001b[0m\u001b[1;33m\u001b[0m\u001b[0m\n\u001b[0;32m    107\u001b[0m             \u001b[0mscale\u001b[0m\u001b[1;33m=\u001b[0m\u001b[0mscale\u001b[0m\u001b[1;33m,\u001b[0m\u001b[1;33m\u001b[0m\u001b[1;33m\u001b[0m\u001b[0m\n\u001b[1;32m--> 108\u001b[1;33m             \u001b[0mvalidate\u001b[0m\u001b[1;33m=\u001b[0m\u001b[0mvalidate\u001b[0m\u001b[1;33m,\u001b[0m\u001b[1;33m\u001b[0m\u001b[1;33m\u001b[0m\u001b[0m\n\u001b[0m\u001b[0;32m    109\u001b[0m         )\n\u001b[0;32m    110\u001b[0m     \u001b[1;32melif\u001b[0m \u001b[0mengine\u001b[0m \u001b[1;33m!=\u001b[0m \u001b[1;34m\"kaleido\"\u001b[0m\u001b[1;33m:\u001b[0m\u001b[1;33m\u001b[0m\u001b[1;33m\u001b[0m\u001b[0m\n",
      "\u001b[1;32mc:\\users\\katerina\\appdata\\local\\programs\\python\\python37\\lib\\site-packages\\plotly\\io\\_orca.py\u001b[0m in \u001b[0;36mto_image\u001b[1;34m(fig, format, width, height, scale, validate)\u001b[0m\n\u001b[0;32m   1533\u001b[0m     \u001b[1;31m# Make sure orca sever is running\u001b[0m\u001b[1;33m\u001b[0m\u001b[1;33m\u001b[0m\u001b[1;33m\u001b[0m\u001b[0m\n\u001b[0;32m   1534\u001b[0m     \u001b[1;31m# -------------------------------\u001b[0m\u001b[1;33m\u001b[0m\u001b[1;33m\u001b[0m\u001b[1;33m\u001b[0m\u001b[0m\n\u001b[1;32m-> 1535\u001b[1;33m     \u001b[0mensure_server\u001b[0m\u001b[1;33m(\u001b[0m\u001b[1;33m)\u001b[0m\u001b[1;33m\u001b[0m\u001b[1;33m\u001b[0m\u001b[0m\n\u001b[0m\u001b[0;32m   1536\u001b[0m \u001b[1;33m\u001b[0m\u001b[0m\n\u001b[0;32m   1537\u001b[0m     \u001b[1;31m# Handle defaults\u001b[0m\u001b[1;33m\u001b[0m\u001b[1;33m\u001b[0m\u001b[1;33m\u001b[0m\u001b[0m\n",
      "\u001b[1;32mc:\\users\\katerina\\appdata\\local\\programs\\python\\python37\\lib\\site-packages\\plotly\\io\\_orca.py\u001b[0m in \u001b[0;36mensure_server\u001b[1;34m()\u001b[0m\n\u001b[0;32m   1388\u001b[0m         \u001b[1;31m# Validate orca executable only if server_url is not provided\u001b[0m\u001b[1;33m\u001b[0m\u001b[1;33m\u001b[0m\u001b[1;33m\u001b[0m\u001b[0m\n\u001b[0;32m   1389\u001b[0m         \u001b[1;32mif\u001b[0m \u001b[0mstatus\u001b[0m\u001b[1;33m.\u001b[0m\u001b[0mstate\u001b[0m \u001b[1;33m==\u001b[0m \u001b[1;34m\"unvalidated\"\u001b[0m\u001b[1;33m:\u001b[0m\u001b[1;33m\u001b[0m\u001b[1;33m\u001b[0m\u001b[0m\n\u001b[1;32m-> 1390\u001b[1;33m             \u001b[0mvalidate_executable\u001b[0m\u001b[1;33m(\u001b[0m\u001b[1;33m)\u001b[0m\u001b[1;33m\u001b[0m\u001b[1;33m\u001b[0m\u001b[0m\n\u001b[0m\u001b[0;32m   1391\u001b[0m         \u001b[1;31m# Acquire lock to make sure that we keep the properties of orca_state\u001b[0m\u001b[1;33m\u001b[0m\u001b[1;33m\u001b[0m\u001b[1;33m\u001b[0m\u001b[0m\n\u001b[0;32m   1392\u001b[0m         \u001b[1;31m# consistent across threads\u001b[0m\u001b[1;33m\u001b[0m\u001b[1;33m\u001b[0m\u001b[1;33m\u001b[0m\u001b[0m\n",
      "\u001b[1;32mc:\\users\\katerina\\appdata\\local\\programs\\python\\python37\\lib\\site-packages\\plotly\\io\\_orca.py\u001b[0m in \u001b[0;36mvalidate_executable\u001b[1;34m()\u001b[0m\n\u001b[0;32m   1085\u001b[0m                 \u001b[0mexecutable\u001b[0m\u001b[1;33m=\u001b[0m\u001b[0mconfig\u001b[0m\u001b[1;33m.\u001b[0m\u001b[0mexecutable\u001b[0m\u001b[1;33m,\u001b[0m\u001b[1;33m\u001b[0m\u001b[1;33m\u001b[0m\u001b[0m\n\u001b[0;32m   1086\u001b[0m                 \u001b[0mformatted_path\u001b[0m\u001b[1;33m=\u001b[0m\u001b[0mformatted_path\u001b[0m\u001b[1;33m,\u001b[0m\u001b[1;33m\u001b[0m\u001b[1;33m\u001b[0m\u001b[0m\n\u001b[1;32m-> 1087\u001b[1;33m                 \u001b[0minstructions\u001b[0m\u001b[1;33m=\u001b[0m\u001b[0minstall_location_instructions\u001b[0m\u001b[1;33m,\u001b[0m\u001b[1;33m\u001b[0m\u001b[1;33m\u001b[0m\u001b[0m\n\u001b[0m\u001b[0;32m   1088\u001b[0m             )\n\u001b[0;32m   1089\u001b[0m         )\n",
      "\u001b[1;31mValueError\u001b[0m: \nThe orca executable is required to export figures as static images,\nbut it could not be found on the system path.\n\nSearched for executable 'orca' on the following path:\n    C:\\Users\\Katerina\\PycharmProjects\\Asthma_clustering\\newenv\\Scripts\n    C:\\Program Files (x86)\\Common Files\\Oracle\\Java\\javapath\n    C:\\Program Files\\Broadcom\\Broadcom 802.11 Network Adapter\n    C:\\Program Files\\Common Files\\Microsoft Shared\\Windows Live\n    C:\\Program Files (x86)\\Common Files\\Microsoft Shared\\Windows Live\n    C:\\Program Files\\Broadcom\\Broadcom 802.11\n    C:\\WINDOWS\\system32\n    C:\\WINDOWS\n    C:\\WINDOWS\\System32\\Wbem\n    C:\\WINDOWS\\System32\\WindowsPowerShell\\v1.0\\\n    C:\\Program Files (x86)\\ATI Technologies\\ATI.ACE\\Core-Static\n    C:\\Program Files\\WIDCOMM\\Bluetooth Software\\\n    C:\\Program Files\\WIDCOMM\\Bluetooth Software\\syswow64\n    C:\\Program Files (x86)\\Windows Live\\Shared\n    C:\\WINDOWS\\System32\\OpenSSH\\\n    C:\\Program Files\\Crucial\\Crucial Storage Executive\n    C:\\Program Files (x86)\\Common Files\\Acronis\\VirtualFile\\\n    C:\\Program Files (x86)\\Common Files\\Acronis\\VirtualFile64\\\n    C:\\Program Files (x86)\\Common Files\\Acronis\\SnapAPI\\\n    C:\\Program Files\\OpenMS-2.4.0\\bin\n    C:\\Program Files\\OpenMS-2.4.0\\share\\OpenMS\\THIRDPARTY\\Comet\n    C:\\Program Files\\OpenMS-2.4.0\\share\\OpenMS\\THIRDPARTY\\crux\n    C:\\Program Files\\OpenMS-2.4.0\\share\\OpenMS\\THIRDPARTY\\Fido\n    C:\\Program Files\\OpenMS-2.4.0\\share\\OpenMS\\THIRDPARTY\\LuciPHOr2\n    C:\\Program Files\\OpenMS-2.4.0\\share\\OpenMS\\THIRDPARTY\\MaRaCluster\n    C:\\Program Files\\OpenMS-2.4.0\\share\\OpenMS\\THIRDPARTY\\MSGFPlus\n    C:\\Program Files\\OpenMS-2.4.0\\share\\OpenMS\\THIRDPARTY\\MyriMatch\n    C:\\Program Files\\OpenMS-2.4.0\\share\\OpenMS\\THIRDPARTY\\OMSSA\n    C:\\Program Files\\OpenMS-2.4.0\\share\\OpenMS\\THIRDPARTY\\Percolator\n    C:\\Program Files\\OpenMS-2.4.0\\share\\OpenMS\\THIRDPARTY\\pwiz-bin\n    C:\\Program Files\\OpenMS-2.4.0\\share\\OpenMS\\THIRDPARTY\\Sirius\n    C:\\Program Files\\OpenMS-2.4.0\\share\\OpenMS\\THIRDPARTY\\SpectraST\n    C:\\Program Files\\OpenMS-2.4.0\\share\\OpenMS\\THIRDPARTY\\XTandem\n    C:\\Program Files\\Git\\cmd\n    C:\\Users\\Katerina\\AppData\\Local\\Programs\\Python\\Python37\\Scripts\\\n    C:\\Users\\Katerina\\AppData\\Local\\Programs\\Python\\Python37\\\n    C:\\Users\\Katerina\\AppData\\Local\\Microsoft\\WindowsApps\n    \n    C:\\Program Files\\JetBrains\\PyCharm Community Edition 2019.3.1\\bin\n    \n    c:\\users\\katerina\\appdata\\local\\programs\\python\\python37\\lib\\site-packages\\numpy\\.libs\n    c:\\users\\katerina\\appdata\\local\\programs\\python\\python37\\lib\\site-packages\\scipy\\.libs\n\nIf you haven't installed orca yet, you can do so using conda as follows:\n\n    $ conda install -c plotly plotly-orca\n\nAlternatively, see other installation methods in the orca project README at\nhttps://github.com/plotly/orca\n\nAfter installation is complete, no further configuration should be needed.\n\nIf you have installed orca, then for some reason plotly.py was unable to\nlocate it. In this case, set the `plotly.io.orca.config.executable`\nproperty to the full path of your orca executable. For example:\n\n    >>> plotly.io.orca.config.executable = '/path/to/orca'\n\nAfter updating this executable property, try the export operation again.\nIf it is successful then you may want to save this configuration so that it\nwill be applied automatically in future sessions. You can do this as follows:\n\n    >>> plotly.io.orca.config.save()\n\nIf you're still having trouble, feel free to ask for help on the forums at\nhttps://community.plot.ly/c/api/python\n"
     ]
    }
   ],
   "source": [
    "fig.show(\"png\")"
   ]
  },
  {
   "cell_type": "code",
   "execution_count": null,
   "metadata": {},
   "outputs": [],
   "source": []
  },
  {
   "cell_type": "markdown",
   "metadata": {},
   "source": []
  }
 ],
 "metadata": {
  "kernelspec": {
   "display_name": "Python 3",
   "language": "python",
   "name": "python3"
  },
  "language_info": {
   "codemirror_mode": {
    "name": "ipython",
    "version": 3
   },
   "file_extension": ".py",
   "mimetype": "text/x-python",
   "name": "python",
   "nbconvert_exporter": "python",
   "pygments_lexer": "ipython3",
   "version": "3.7.3"
  }
 },
 "nbformat": 4,
 "nbformat_minor": 2
}
