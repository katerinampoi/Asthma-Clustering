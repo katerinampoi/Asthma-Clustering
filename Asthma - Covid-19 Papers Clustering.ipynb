{
 "cells": [
  {
   "cell_type": "markdown",
   "metadata": {},
   "source": [
    "#### Clustering Asthma among COVID-19 papers"
   ]
  },
  {
   "cell_type": "code",
   "execution_count": 1,
   "metadata": {},
   "outputs": [],
   "source": [
    "from sklearn.feature_extraction.text import CountVectorizer\n",
    "from sklearn.feature_extraction.text import TfidfVectorizer\n",
    "from sklearn.decomposition import PCA\n",
    "from sklearn import preprocessing\n",
    "import matplotlib.pyplot as plt\n",
    "import pandas as pd"
   ]
  },
  {
   "cell_type": "code",
   "execution_count": 2,
   "metadata": {},
   "outputs": [],
   "source": [
    "import nltk\n",
    "import string\n",
    "from nltk.stem import PorterStemmer\n",
    "from sklearn.cluster import KMeans\n"
   ]
  },
  {
   "cell_type": "code",
   "execution_count": 3,
   "metadata": {},
   "outputs": [],
   "source": [
    "import plotly.express as px"
   ]
  },
  {
   "cell_type": "markdown",
   "metadata": {},
   "source": [
    "Only those papers where the word \"asthma\" appears at least once in their abstract were selected. The papers were downloaded in order to be more easily handled, locally. "
   ]
  },
  {
   "cell_type": "code",
   "execution_count": 4,
   "metadata": {},
   "outputs": [
    {
     "data": {
      "text/html": [
       "<div>\n",
       "<style scoped>\n",
       "    .dataframe tbody tr th:only-of-type {\n",
       "        vertical-align: middle;\n",
       "    }\n",
       "\n",
       "    .dataframe tbody tr th {\n",
       "        vertical-align: top;\n",
       "    }\n",
       "\n",
       "    .dataframe thead th {\n",
       "        text-align: right;\n",
       "    }\n",
       "</style>\n",
       "<table border=\"1\" class=\"dataframe\">\n",
       "  <thead>\n",
       "    <tr style=\"text-align: right;\">\n",
       "      <th></th>\n",
       "      <th>cord_uid</th>\n",
       "      <th>sha</th>\n",
       "      <th>source_x</th>\n",
       "      <th>title</th>\n",
       "      <th>doi</th>\n",
       "      <th>pmcid</th>\n",
       "      <th>pubmed_id</th>\n",
       "      <th>license</th>\n",
       "      <th>abstract</th>\n",
       "      <th>publish_time</th>\n",
       "      <th>...</th>\n",
       "      <th>journal</th>\n",
       "      <th>mag_id</th>\n",
       "      <th>who_covidence_id</th>\n",
       "      <th>arxiv_id</th>\n",
       "      <th>pdf_json_files</th>\n",
       "      <th>pmc_json_files</th>\n",
       "      <th>url</th>\n",
       "      <th>s2_id</th>\n",
       "      <th>abstract_lower</th>\n",
       "      <th>title_lower</th>\n",
       "    </tr>\n",
       "  </thead>\n",
       "  <tbody>\n",
       "    <tr>\n",
       "      <th>0</th>\n",
       "      <td>qva0jt86</td>\n",
       "      <td>4ba79e54ecf81b30b56461a6aec2094eaf7b7f06</td>\n",
       "      <td>PMC</td>\n",
       "      <td>Relevance of human metapneumovirus in exacerba...</td>\n",
       "      <td>10.1186/1465-9921-6-150</td>\n",
       "      <td>PMC1334186</td>\n",
       "      <td>16371156.0</td>\n",
       "      <td>cc-by</td>\n",
       "      <td>BACKGROUND AND METHODS: Human metapneumovirus ...</td>\n",
       "      <td>2005-12-21</td>\n",
       "      <td>...</td>\n",
       "      <td>Respir Res</td>\n",
       "      <td>NaN</td>\n",
       "      <td>NaN</td>\n",
       "      <td>NaN</td>\n",
       "      <td>document_parses/pdf_json/4ba79e54ecf81b30b5646...</td>\n",
       "      <td>document_parses/pmc_json/PMC1334186.xml.json</td>\n",
       "      <td>https://www.ncbi.nlm.nih.gov/pmc/articles/PMC1...</td>\n",
       "      <td>NaN</td>\n",
       "      <td>background and methods: human metapneumovirus ...</td>\n",
       "      <td>relevance of human metapneumovirus in exacerba...</td>\n",
       "    </tr>\n",
       "    <tr>\n",
       "      <th>1</th>\n",
       "      <td>chz8luni</td>\n",
       "      <td>d68d71553d3a31381c0c3851351f912a9a7be1c9</td>\n",
       "      <td>PMC</td>\n",
       "      <td>Surfactant therapy for acute respiratory failu...</td>\n",
       "      <td>10.1186/cc5944</td>\n",
       "      <td>PMC2206432</td>\n",
       "      <td>17573963.0</td>\n",
       "      <td>cc-by</td>\n",
       "      <td>INTRODUCTION: Exogenous surfactant is used to ...</td>\n",
       "      <td>2007-06-15</td>\n",
       "      <td>...</td>\n",
       "      <td>Crit Care</td>\n",
       "      <td>NaN</td>\n",
       "      <td>NaN</td>\n",
       "      <td>NaN</td>\n",
       "      <td>document_parses/pdf_json/d68d71553d3a31381c0c3...</td>\n",
       "      <td>document_parses/pmc_json/PMC2206432.xml.json</td>\n",
       "      <td>https://www.ncbi.nlm.nih.gov/pmc/articles/PMC2...</td>\n",
       "      <td>NaN</td>\n",
       "      <td>introduction: exogenous surfactant is used to ...</td>\n",
       "      <td>surfactant therapy for acute respiratory failu...</td>\n",
       "    </tr>\n",
       "    <tr>\n",
       "      <th>2</th>\n",
       "      <td>3zh8jmc2</td>\n",
       "      <td>fe2000f280297c40bc53ce95d703a9ca6aac19fd</td>\n",
       "      <td>PMC</td>\n",
       "      <td>Differential Regulation of Type I Interferon a...</td>\n",
       "      <td>10.1371/journal.ppat.1000587</td>\n",
       "      <td>PMC2736567</td>\n",
       "      <td>19806178.0</td>\n",
       "      <td>cc-by</td>\n",
       "      <td>A number of paramyxoviruses are responsible fo...</td>\n",
       "      <td>2009-09-18</td>\n",
       "      <td>...</td>\n",
       "      <td>PLoS Pathog</td>\n",
       "      <td>NaN</td>\n",
       "      <td>NaN</td>\n",
       "      <td>NaN</td>\n",
       "      <td>document_parses/pdf_json/fe2000f280297c40bc53c...</td>\n",
       "      <td>document_parses/pmc_json/PMC2736567.xml.json</td>\n",
       "      <td>https://www.ncbi.nlm.nih.gov/pmc/articles/PMC2...</td>\n",
       "      <td>NaN</td>\n",
       "      <td>a number of paramyxoviruses are responsible fo...</td>\n",
       "      <td>differential regulation of type i interferon a...</td>\n",
       "    </tr>\n",
       "    <tr>\n",
       "      <th>3</th>\n",
       "      <td>7p3b6tyf</td>\n",
       "      <td>3ccbd07ee1865e4f2afffdb6cc8b6039ab605ee7</td>\n",
       "      <td>PMC</td>\n",
       "      <td>The Tennessee Children's Respiratory Initiativ...</td>\n",
       "      <td>10.1111/j.1440-1843.2010.01743.x</td>\n",
       "      <td>PMC2992986</td>\n",
       "      <td>20409023.0</td>\n",
       "      <td>no-cc</td>\n",
       "      <td>Background and objective: The ‘attack rate’ of...</td>\n",
       "      <td>2010-04-08</td>\n",
       "      <td>...</td>\n",
       "      <td>Respirology</td>\n",
       "      <td>NaN</td>\n",
       "      <td>NaN</td>\n",
       "      <td>NaN</td>\n",
       "      <td>document_parses/pdf_json/3ccbd07ee1865e4f2afff...</td>\n",
       "      <td>document_parses/pmc_json/PMC2992986.xml.json</td>\n",
       "      <td>https://www.ncbi.nlm.nih.gov/pmc/articles/PMC2...</td>\n",
       "      <td>NaN</td>\n",
       "      <td>background and objective: the ‘attack rate’ of...</td>\n",
       "      <td>the tennessee children's respiratory initiativ...</td>\n",
       "    </tr>\n",
       "    <tr>\n",
       "      <th>4</th>\n",
       "      <td>xrsyj1tc</td>\n",
       "      <td>fa88fbb8716e5fca7d513bcb5a0a608456a59205</td>\n",
       "      <td>PMC</td>\n",
       "      <td>Analysing the eosinophil cationic protein - a ...</td>\n",
       "      <td>10.1186/1465-9921-12-10</td>\n",
       "      <td>PMC3030543</td>\n",
       "      <td>21235798.0</td>\n",
       "      <td>cc-by</td>\n",
       "      <td>Eosinophil granulocytes reside in respiratory ...</td>\n",
       "      <td>2011-01-14</td>\n",
       "      <td>...</td>\n",
       "      <td>Respir Res</td>\n",
       "      <td>NaN</td>\n",
       "      <td>NaN</td>\n",
       "      <td>NaN</td>\n",
       "      <td>document_parses/pdf_json/fa88fbb8716e5fca7d513...</td>\n",
       "      <td>document_parses/pmc_json/PMC3030543.xml.json</td>\n",
       "      <td>https://www.ncbi.nlm.nih.gov/pmc/articles/PMC3...</td>\n",
       "      <td>NaN</td>\n",
       "      <td>eosinophil granulocytes reside in respiratory ...</td>\n",
       "      <td>analysing the eosinophil cationic protein - a ...</td>\n",
       "    </tr>\n",
       "  </tbody>\n",
       "</table>\n",
       "<p>5 rows × 21 columns</p>\n",
       "</div>"
      ],
      "text/plain": [
       "   cord_uid                                       sha source_x  \\\n",
       "0  qva0jt86  4ba79e54ecf81b30b56461a6aec2094eaf7b7f06      PMC   \n",
       "1  chz8luni  d68d71553d3a31381c0c3851351f912a9a7be1c9      PMC   \n",
       "2  3zh8jmc2  fe2000f280297c40bc53ce95d703a9ca6aac19fd      PMC   \n",
       "3  7p3b6tyf  3ccbd07ee1865e4f2afffdb6cc8b6039ab605ee7      PMC   \n",
       "4  xrsyj1tc  fa88fbb8716e5fca7d513bcb5a0a608456a59205      PMC   \n",
       "\n",
       "                                               title  \\\n",
       "0  Relevance of human metapneumovirus in exacerba...   \n",
       "1  Surfactant therapy for acute respiratory failu...   \n",
       "2  Differential Regulation of Type I Interferon a...   \n",
       "3  The Tennessee Children's Respiratory Initiativ...   \n",
       "4  Analysing the eosinophil cationic protein - a ...   \n",
       "\n",
       "                                doi       pmcid   pubmed_id license  \\\n",
       "0           10.1186/1465-9921-6-150  PMC1334186  16371156.0   cc-by   \n",
       "1                    10.1186/cc5944  PMC2206432  17573963.0   cc-by   \n",
       "2      10.1371/journal.ppat.1000587  PMC2736567  19806178.0   cc-by   \n",
       "3  10.1111/j.1440-1843.2010.01743.x  PMC2992986  20409023.0   no-cc   \n",
       "4           10.1186/1465-9921-12-10  PMC3030543  21235798.0   cc-by   \n",
       "\n",
       "                                            abstract publish_time  ...  \\\n",
       "0  BACKGROUND AND METHODS: Human metapneumovirus ...   2005-12-21  ...   \n",
       "1  INTRODUCTION: Exogenous surfactant is used to ...   2007-06-15  ...   \n",
       "2  A number of paramyxoviruses are responsible fo...   2009-09-18  ...   \n",
       "3  Background and objective: The ‘attack rate’ of...   2010-04-08  ...   \n",
       "4  Eosinophil granulocytes reside in respiratory ...   2011-01-14  ...   \n",
       "\n",
       "       journal mag_id  who_covidence_id arxiv_id  \\\n",
       "0   Respir Res    NaN               NaN      NaN   \n",
       "1    Crit Care    NaN               NaN      NaN   \n",
       "2  PLoS Pathog    NaN               NaN      NaN   \n",
       "3  Respirology    NaN               NaN      NaN   \n",
       "4   Respir Res    NaN               NaN      NaN   \n",
       "\n",
       "                                      pdf_json_files  \\\n",
       "0  document_parses/pdf_json/4ba79e54ecf81b30b5646...   \n",
       "1  document_parses/pdf_json/d68d71553d3a31381c0c3...   \n",
       "2  document_parses/pdf_json/fe2000f280297c40bc53c...   \n",
       "3  document_parses/pdf_json/3ccbd07ee1865e4f2afff...   \n",
       "4  document_parses/pdf_json/fa88fbb8716e5fca7d513...   \n",
       "\n",
       "                                 pmc_json_files  \\\n",
       "0  document_parses/pmc_json/PMC1334186.xml.json   \n",
       "1  document_parses/pmc_json/PMC2206432.xml.json   \n",
       "2  document_parses/pmc_json/PMC2736567.xml.json   \n",
       "3  document_parses/pmc_json/PMC2992986.xml.json   \n",
       "4  document_parses/pmc_json/PMC3030543.xml.json   \n",
       "\n",
       "                                                 url s2_id  \\\n",
       "0  https://www.ncbi.nlm.nih.gov/pmc/articles/PMC1...   NaN   \n",
       "1  https://www.ncbi.nlm.nih.gov/pmc/articles/PMC2...   NaN   \n",
       "2  https://www.ncbi.nlm.nih.gov/pmc/articles/PMC2...   NaN   \n",
       "3  https://www.ncbi.nlm.nih.gov/pmc/articles/PMC2...   NaN   \n",
       "4  https://www.ncbi.nlm.nih.gov/pmc/articles/PMC3...   NaN   \n",
       "\n",
       "                                      abstract_lower  \\\n",
       "0  background and methods: human metapneumovirus ...   \n",
       "1  introduction: exogenous surfactant is used to ...   \n",
       "2  a number of paramyxoviruses are responsible fo...   \n",
       "3  background and objective: the ‘attack rate’ of...   \n",
       "4  eosinophil granulocytes reside in respiratory ...   \n",
       "\n",
       "                                         title_lower  \n",
       "0  relevance of human metapneumovirus in exacerba...  \n",
       "1  surfactant therapy for acute respiratory failu...  \n",
       "2  differential regulation of type i interferon a...  \n",
       "3  the tennessee children's respiratory initiativ...  \n",
       "4  analysing the eosinophil cationic protein - a ...  \n",
       "\n",
       "[5 rows x 21 columns]"
      ]
     },
     "execution_count": 4,
     "metadata": {},
     "output_type": "execute_result"
    }
   ],
   "source": [
    "asthma_df = pd.read_csv(\"asthma_data.csv\")\n",
    "asthma_df.head()"
   ]
  },
  {
   "cell_type": "markdown",
   "metadata": {},
   "source": [
    "There are 2567 papers containing the word \"asthma\", among the coronavirus-related publications "
   ]
  },
  {
   "cell_type": "code",
   "execution_count": 5,
   "metadata": {},
   "outputs": [
    {
     "data": {
      "text/plain": [
       "(2567, 21)"
      ]
     },
     "execution_count": 5,
     "metadata": {},
     "output_type": "execute_result"
    }
   ],
   "source": [
    "asthma_df.shape"
   ]
  },
  {
   "cell_type": "markdown",
   "metadata": {},
   "source": [
    "We divide the papers between those published before the new coronavirus SARS-CoV-2 has appeared (December 2019) and those published after the COVID-19 outbreak. We pick December 2019 as the cut-off date."
   ]
  },
  {
   "cell_type": "code",
   "execution_count": 6,
   "metadata": {},
   "outputs": [],
   "source": [
    "asthma_before_covid = asthma_df.loc[asthma_df['publish_time']<\"2019-12-01\"].reset_index(drop=True)\n",
    "asthma_after_covid = asthma_df.loc[asthma_df['publish_time']>=\"2019-12-01\"].reset_index(drop=True)"
   ]
  },
  {
   "cell_type": "markdown",
   "metadata": {},
   "source": [
    "Below, for both these two groups of papers, we follow the same data processing. The steps followed are:\n",
    "\n",
    "* Tokenization of the papers' abstracts text\n",
    "* Stemming of the tokens \n",
    "* Use of the TfidfVectorizer "
   ]
  },
  {
   "cell_type": "markdown",
   "metadata": {},
   "source": [
    "#### Papers before COVID-19"
   ]
  },
  {
   "cell_type": "code",
   "execution_count": 7,
   "metadata": {},
   "outputs": [],
   "source": [
    "texts_before = asthma_before_covid[\"abstract_lower\"].tolist()"
   ]
  },
  {
   "cell_type": "code",
   "execution_count": 8,
   "metadata": {},
   "outputs": [],
   "source": [
    "def custom_tokenizer(str_input):\n",
    "    \n",
    "    stemmer = PorterStemmer()\n",
    "    words = nltk.word_tokenize(str_input)\n",
    "    \n",
    "    words = [word.replace('â¡', '') for word in words]\n",
    "    words = [word.replace('â¢', '') for word in words]\n",
    "    words = [word.replace('â£', '') for word in words]\n",
    "    \n",
    "    words = [''.join(c for c in word if c not in string.punctuation+'©±×≤≥●＜--“”→„') for word in words]\n",
    "    words = [word for word in words if word not in ['‘', '’', '„']]\n",
    "    \n",
    "    \n",
    "    words = [word for word in words if word]\n",
    "    words = [word for word in words if not any(char.isdigit() for char in word)]\n",
    "    \n",
    "    #remove stop words before stemming - nltk list of stop words - read file and tolist\n",
    "    words = [stemmer.stem(word) for word in words]\n",
    "    return words"
   ]
  },
  {
   "cell_type": "code",
   "execution_count": 9,
   "metadata": {},
   "outputs": [
    {
     "name": "stderr",
     "output_type": "stream",
     "text": [
      "c:\\users\\katerina\\appdata\\local\\programs\\python\\python37\\lib\\site-packages\\sklearn\\feature_extraction\\text.py:386: UserWarning: Your stop_words may be inconsistent with your preprocessing. Tokenizing the stop words generated tokens ['abov', 'afterward', 'alon', 'alreadi', 'alway', 'ani', 'anoth', 'anyon', 'anyth', 'anywher', 'becam', 'becaus', 'becom', 'befor', 'besid', 'cri', 'describ', 'dure', 'els', 'elsewher', 'empti', 'everi', 'everyon', 'everyth', 'everywher', 'fifti', 'formerli', 'forti', 'ha', 'henc', 'hereaft', 'herebi', 'hi', 'howev', 'hundr', 'inde', 'latterli', 'mani', 'meanwhil', 'moreov', 'mostli', 'nobodi', 'noon', 'noth', 'nowher', 'onc', 'onli', 'otherwis', 'ourselv', 'perhap', 'pleas', 'seriou', 'sever', 'sinc', 'sincer', 'sixti', 'someon', 'someth', 'sometim', 'somewher', 'themselv', 'thenc', 'thereaft', 'therebi', 'therefor', 'thi', 'thu', 'togeth', 'twelv', 'twenti', 'veri', 'wa', 'whatev', 'whenc', 'whenev', 'wherea', 'whereaft', 'wherebi', 'wherev', 'whi', 'yourselv'] not in stop_words.\n",
      "  'stop_words.' % sorted(inconsistent))\n"
     ]
    },
    {
     "data": {
      "text/html": [
       "<div>\n",
       "<style scoped>\n",
       "    .dataframe tbody tr th:only-of-type {\n",
       "        vertical-align: middle;\n",
       "    }\n",
       "\n",
       "    .dataframe tbody tr th {\n",
       "        vertical-align: top;\n",
       "    }\n",
       "\n",
       "    .dataframe thead th {\n",
       "        text-align: right;\n",
       "    }\n",
       "</style>\n",
       "<table border=\"1\" class=\"dataframe\">\n",
       "  <thead>\n",
       "    <tr style=\"text-align: right;\">\n",
       "      <th></th>\n",
       "      <th>aa</th>\n",
       "      <th>abdelbaset</th>\n",
       "      <th>abil</th>\n",
       "      <th>abl</th>\n",
       "      <th>abnorm</th>\n",
       "      <th>abov</th>\n",
       "      <th>absenc</th>\n",
       "      <th>absent</th>\n",
       "      <th>absolut</th>\n",
       "      <th>abstract</th>\n",
       "      <th>...</th>\n",
       "      <th>zhang</th>\n",
       "      <th>zu</th>\n",
       "      <th>à</th>\n",
       "      <th>étude</th>\n",
       "      <th>été</th>\n",
       "      <th>α</th>\n",
       "      <th>β</th>\n",
       "      <th>–</th>\n",
       "      <th>•</th>\n",
       "      <th>−</th>\n",
       "    </tr>\n",
       "  </thead>\n",
       "  <tbody>\n",
       "    <tr>\n",
       "      <th>0</th>\n",
       "      <td>0.0</td>\n",
       "      <td>0.0</td>\n",
       "      <td>0.0</td>\n",
       "      <td>0.0</td>\n",
       "      <td>0.0</td>\n",
       "      <td>0.0</td>\n",
       "      <td>0.0</td>\n",
       "      <td>0.0</td>\n",
       "      <td>0.0</td>\n",
       "      <td>0.0</td>\n",
       "      <td>...</td>\n",
       "      <td>0.0</td>\n",
       "      <td>0.0</td>\n",
       "      <td>0.0</td>\n",
       "      <td>0.0</td>\n",
       "      <td>0.0</td>\n",
       "      <td>0.0</td>\n",
       "      <td>0.0</td>\n",
       "      <td>0.0</td>\n",
       "      <td>0.0</td>\n",
       "      <td>0.0</td>\n",
       "    </tr>\n",
       "    <tr>\n",
       "      <th>1</th>\n",
       "      <td>0.0</td>\n",
       "      <td>0.0</td>\n",
       "      <td>0.0</td>\n",
       "      <td>0.0</td>\n",
       "      <td>0.0</td>\n",
       "      <td>0.0</td>\n",
       "      <td>0.0</td>\n",
       "      <td>0.0</td>\n",
       "      <td>0.0</td>\n",
       "      <td>0.0</td>\n",
       "      <td>...</td>\n",
       "      <td>0.0</td>\n",
       "      <td>0.0</td>\n",
       "      <td>0.0</td>\n",
       "      <td>0.0</td>\n",
       "      <td>0.0</td>\n",
       "      <td>0.0</td>\n",
       "      <td>0.0</td>\n",
       "      <td>0.0</td>\n",
       "      <td>0.0</td>\n",
       "      <td>0.0</td>\n",
       "    </tr>\n",
       "    <tr>\n",
       "      <th>2</th>\n",
       "      <td>0.0</td>\n",
       "      <td>0.0</td>\n",
       "      <td>0.0</td>\n",
       "      <td>0.0</td>\n",
       "      <td>0.0</td>\n",
       "      <td>0.0</td>\n",
       "      <td>0.0</td>\n",
       "      <td>0.0</td>\n",
       "      <td>0.0</td>\n",
       "      <td>0.0</td>\n",
       "      <td>...</td>\n",
       "      <td>0.0</td>\n",
       "      <td>0.0</td>\n",
       "      <td>0.0</td>\n",
       "      <td>0.0</td>\n",
       "      <td>0.0</td>\n",
       "      <td>0.0</td>\n",
       "      <td>0.0</td>\n",
       "      <td>0.0</td>\n",
       "      <td>0.0</td>\n",
       "      <td>0.0</td>\n",
       "    </tr>\n",
       "    <tr>\n",
       "      <th>3</th>\n",
       "      <td>0.0</td>\n",
       "      <td>0.0</td>\n",
       "      <td>0.0</td>\n",
       "      <td>0.0</td>\n",
       "      <td>0.0</td>\n",
       "      <td>0.0</td>\n",
       "      <td>0.0</td>\n",
       "      <td>0.0</td>\n",
       "      <td>0.0</td>\n",
       "      <td>0.0</td>\n",
       "      <td>...</td>\n",
       "      <td>0.0</td>\n",
       "      <td>0.0</td>\n",
       "      <td>0.0</td>\n",
       "      <td>0.0</td>\n",
       "      <td>0.0</td>\n",
       "      <td>0.0</td>\n",
       "      <td>0.0</td>\n",
       "      <td>0.0</td>\n",
       "      <td>0.0</td>\n",
       "      <td>0.0</td>\n",
       "    </tr>\n",
       "    <tr>\n",
       "      <th>4</th>\n",
       "      <td>0.0</td>\n",
       "      <td>0.0</td>\n",
       "      <td>0.0</td>\n",
       "      <td>0.0</td>\n",
       "      <td>0.0</td>\n",
       "      <td>0.0</td>\n",
       "      <td>0.0</td>\n",
       "      <td>0.0</td>\n",
       "      <td>0.0</td>\n",
       "      <td>0.0</td>\n",
       "      <td>...</td>\n",
       "      <td>0.0</td>\n",
       "      <td>0.0</td>\n",
       "      <td>0.0</td>\n",
       "      <td>0.0</td>\n",
       "      <td>0.0</td>\n",
       "      <td>0.0</td>\n",
       "      <td>0.0</td>\n",
       "      <td>0.0</td>\n",
       "      <td>0.0</td>\n",
       "      <td>0.0</td>\n",
       "    </tr>\n",
       "  </tbody>\n",
       "</table>\n",
       "<p>5 rows × 2000 columns</p>\n",
       "</div>"
      ],
      "text/plain": [
       "    aa  abdelbaset  abil  abl  abnorm  abov  absenc  absent  absolut  \\\n",
       "0  0.0         0.0   0.0  0.0     0.0   0.0     0.0     0.0      0.0   \n",
       "1  0.0         0.0   0.0  0.0     0.0   0.0     0.0     0.0      0.0   \n",
       "2  0.0         0.0   0.0  0.0     0.0   0.0     0.0     0.0      0.0   \n",
       "3  0.0         0.0   0.0  0.0     0.0   0.0     0.0     0.0      0.0   \n",
       "4  0.0         0.0   0.0  0.0     0.0   0.0     0.0     0.0      0.0   \n",
       "\n",
       "   abstract  ...  zhang   zu    à  étude  été    α    β    –    •    −  \n",
       "0       0.0  ...    0.0  0.0  0.0    0.0  0.0  0.0  0.0  0.0  0.0  0.0  \n",
       "1       0.0  ...    0.0  0.0  0.0    0.0  0.0  0.0  0.0  0.0  0.0  0.0  \n",
       "2       0.0  ...    0.0  0.0  0.0    0.0  0.0  0.0  0.0  0.0  0.0  0.0  \n",
       "3       0.0  ...    0.0  0.0  0.0    0.0  0.0  0.0  0.0  0.0  0.0  0.0  \n",
       "4       0.0  ...    0.0  0.0  0.0    0.0  0.0  0.0  0.0  0.0  0.0  0.0  \n",
       "\n",
       "[5 rows x 2000 columns]"
      ]
     },
     "execution_count": 9,
     "metadata": {},
     "output_type": "execute_result"
    }
   ],
   "source": [
    "vec_before = TfidfVectorizer(tokenizer=custom_tokenizer,\n",
    "                             max_features=2000,\n",
    "                      stop_words='english')\n",
    "matrix_before = vec_before.fit_transform(texts_before)\n",
    "df = pd.DataFrame(matrix_before.toarray(), columns=vec_before.get_feature_names())\n",
    "df.head()"
   ]
  },
  {
   "cell_type": "markdown",
   "metadata": {},
   "source": [
    "The Kmeans is explained here:\n",
    "https://towardsdatascience.com/understanding-k-means-clustering-in-machine-learning-6a6e67336aa1"
   ]
  },
  {
   "cell_type": "code",
   "execution_count": 10,
   "metadata": {},
   "outputs": [
    {
     "data": {
      "text/plain": [
       "KMeans(n_clusters=20)"
      ]
     },
     "execution_count": 10,
     "metadata": {},
     "output_type": "execute_result"
    }
   ],
   "source": [
    "number_of_clusters=20\n",
    "km_before = KMeans(n_clusters=number_of_clusters)\n",
    "km_before.fit(matrix_before)"
   ]
  },
  {
   "cell_type": "markdown",
   "metadata": {},
   "source": [
    "Let's have an over view of our cluster's centers (centroids) anf labels. After that, we get the top terms for every cluster. In other wrods, we see which are the most frequently mentioned words per cluster. Note: since we have used Stemming, we only have the root of the words now."
   ]
  },
  {
   "cell_type": "code",
   "execution_count": 11,
   "metadata": {},
   "outputs": [
    {
     "name": "stdout",
     "output_type": "stream",
     "text": [
      "[[0.         0.         0.         ... 0.         0.         0.        ]\n",
      " [0.         0.         0.00704329 ... 0.00377553 0.         0.        ]\n",
      " [0.         0.         0.00166836 ... 0.01091459 0.         0.        ]\n",
      " ...\n",
      " [0.         0.         0.00534464 ... 0.00140264 0.         0.        ]\n",
      " [0.         0.         0.         ... 0.01674118 0.         0.        ]\n",
      " [0.00421719 0.         0.         ... 0.         0.         0.        ]]\n",
      "[ 7 14 19 ...  2  2  9]\n"
     ]
    }
   ],
   "source": [
    "centroids, labels = km_before.cluster_centers_, km_before.labels_\n",
    "print(centroids)\n",
    "print(labels)"
   ]
  },
  {
   "cell_type": "code",
   "execution_count": 12,
   "metadata": {},
   "outputs": [
    {
     "name": "stdout",
     "output_type": "stream",
     "text": [
      "Top terms per cluster:\n",
      "Cluster 0: pneumonia m asthma children exacerb chlamydia atyp mycoplasma infect patient c group wa posit pcr test role studi symptom communityacquir\n",
      "Cluster 1: rv rvc infect children rsv wa cell detect wheez rhinoviru rva viral asthma speci respiratori exacerb viru human bronchiol type\n",
      "Cluster 2: asthma health diseas effect use thi air ha studi manag patient children pulmonari indoor care medic review includ treatment public\n",
      "Cluster 3: influenza vaccin pregnanc pneumonia women patient asthma respiratori pregnant complic infect viru adult wa case condit risk pandem dure diseas\n",
      "Cluster 4: la le l en d une et el y que lo à enfant par asthm est chez respiratoir été étude\n",
      "Cluster 5: respiratori infect virus rhinoviru cold human ill lower diseas tract elderli acut caus antivir otiti host coronavirus new exacerb common\n",
      "Cluster 6: infect asthma wheez respiratori develop viral infant ill children earli rsv life childhood factor risk associ bronchiol caus sever viru\n",
      "Cluster 7: hmpv children infect hospit metapneumoviru respiratori human wa patient year viru diseas clinic pathogen aecopd rsv pneumonia detect young hrsv\n",
      "Cluster 8: allerg subject rhiniti atop airway infect increas asthma cold level allergi wa chang cell athlet eosinophil nasal asthmat p respons\n",
      "Cluster 9: wheez children risk year age episod ci recurr wa factor asthma earli bronchiol sensit p month associ prednisolon atop viral\n",
      "Cluster 10: exacerb asthma viral infect respiratori virus patient trigger children wa sever acut associ viru symptom adult studi review asthmat increas\n",
      "Cluster 11: hrv hrvc children hrva infect strain human wa associ detect asthma speci respiratori exacerb ill p rhinovirus caus group divers\n",
      "Cluster 12: children detect respiratori wa virus infect viru patient sampl rhinoviru hbov adenoviru hospit coronaviru human influenza rsv pathogen pneumonia age\n",
      "Cluster 13: der die und den da auch werden erkrankungen ein zu ist im von bei durch al f • bronchial es\n",
      "Cluster 14: patient wa p hospit asthma respiratori use year acut admiss studi ci infant sever ventil failur vs clinic associ group\n",
      "Cluster 15: diseas lung asthma immun thi review respons pulmonari respiratori infect mechan role chronic develop discuss new understand receptor host recent\n",
      "Cluster 16: cough bronchiti acut chronic bronchiectasi treatment antibiot patient infect caus diseas reflex nerv syndrom therapi thi review manag diagnosi week\n",
      "Cluster 17: lung express cell protein macrophag gene function activ regul wa tissu diseas inflammatori airway een sirna inhibit mice molecul treatment\n",
      "Cluster 18: n patient wa cell asthmat viru respiratori asthma infect p influenza express cytokinechemokin stabl treg control veget detect increas clinic\n",
      "Cluster 19: airway cell respons inflamm inflammatori infect asthma epitheli role immun mice dc activ cytokin remodel diseas lung increas mechan product\n"
     ]
    }
   ],
   "source": [
    "print(\"Top terms per cluster:\")\n",
    "order_centroids = km_before.cluster_centers_.argsort()[:, ::-1]\n",
    "terms = vec_before.get_feature_names()\n",
    "for i in range(number_of_clusters):\n",
    "    top_ten_words = [terms[ind] for ind in order_centroids[i, :20]]\n",
    "    print(\"Cluster {}: {}\".format(i, ' '.join(top_ten_words)))"
   ]
  },
  {
   "cell_type": "code",
   "execution_count": 13,
   "metadata": {},
   "outputs": [
    {
     "data": {
      "text/plain": [
       "array([[1367, 1054,  154, ..., 1214, 1215,    0],\n",
       "       [1599, 1601,  885, ..., 1167, 1168,    0],\n",
       "       [ 154,  760,  513, ...,  964,  962,    0],\n",
       "       ...,\n",
       "       [1052,  653,  275, ..., 1106, 1108,    0],\n",
       "       [1184, 1317, 1937, ..., 1183, 1185,    0],\n",
       "       [  74,  275, 1566, ..., 1089, 1096,  999]], dtype=int64)"
      ]
     },
     "execution_count": 13,
     "metadata": {},
     "output_type": "execute_result"
    }
   ],
   "source": [
    "order_centroids\n",
    "#word with index 1049 has highest Tfidf value in the first array"
   ]
  },
  {
   "cell_type": "markdown",
   "metadata": {},
   "source": [
    "PCA and its implementation in Python is explained here: https://jakevdp.github.io/PythonDataScienceHandbook/05.09-principal-component-analysis.html"
   ]
  },
  {
   "cell_type": "code",
   "execution_count": 14,
   "metadata": {},
   "outputs": [],
   "source": [
    "T = preprocessing.Normalizer().fit_transform(df)\n",
    "# Dimesionality reduction to 2\n",
    "pca_model = PCA(n_components=2)\n",
    "pca_model.fit(T) \n",
    "T = pca_model.transform(T) \n",
    "\n",
    "# transform the 'centroids of KMean'\n",
    "\n",
    "centroid_pca = pca_model.transform(centroids)\n",
    "# print(centroid_pca)"
   ]
  },
  {
   "cell_type": "code",
   "execution_count": 15,
   "metadata": {},
   "outputs": [],
   "source": [
    "asthma_before_covid['labels'] = km_before.labels_\n",
    "asthma_before_covid['pca_1'] = T[:, 0]\n",
    "asthma_before_covid['pca_2'] = T[:, 1]"
   ]
  },
  {
   "cell_type": "code",
   "execution_count": 16,
   "metadata": {},
   "outputs": [],
   "source": [
    "asthma_before_covid['labels'] = asthma_before_covid['labels'].astype(str)"
   ]
  },
  {
   "cell_type": "code",
   "execution_count": 17,
   "metadata": {},
   "outputs": [],
   "source": [
    "fig = px.scatter(asthma_before_covid, \n",
    "                 x=\"pca_1\", \n",
    "                 y=\"pca_2\", \n",
    "                 color=\"labels\",\n",
    "                 hover_data=['title'])"
   ]
  },
  {
   "cell_type": "code",
   "execution_count": 19,
   "metadata": {},
   "outputs": [
    {
     "data": {
      "application/vnd.plotly.v1+json": {
       "config": {
        "plotlyServerURL": "https://plot.ly"
       },
       "data": [
        {
         "customdata": [
          [
           "Relevance of human metapneumovirus in exacerbations of COPD"
          ],
          [
           "Human metapneumovirus in Pediatric Patients with Acute Respiratory Tract Infections in the Aseer Region of Saudi Arabia"
          ],
          [
           "Burden of human metapneumovirus infection in young children."
          ],
          [
           "Cross-neutralization of four paramyxoviruses by a human monoclonal antibody."
          ],
          [
           "Human metapneumovirus: a ubiquitous and long-standing respiratory pathogen."
          ],
          [
           "Prevalence of human Metapneumovirus (hMPV) in children with wheezing in Shiraz-Iran."
          ],
          [
           "Human metapneumovirus infection in young children hospitalized with respiratory tract disease."
          ],
          [
           "Epidemiology of human metapneumovirus."
          ],
          [
           "Epidemiological, clinical and genotypic features of human Metapneumovirus in patients with influenza-like illness in Senegal, 2012 to 2016"
          ],
          [
           "Perspective on the host response to human metapneumovirus infection: what can we learn from respiratory syncytial virus infections?"
          ],
          [
           "Human Metapneumovirus: An Emerging Respiratory Pathogen"
          ],
          [
           "Recombinant expression and immunological characterisation of proteins derived from human metapneumovirus"
          ],
          [
           "Population-Based Incidence of Human Metapneumovirus in Hospitalized Children"
          ],
          [
           "Viral etiology of acute lower respiratory tract infections in hospitalized young children in Northern Taiwan"
          ]
         ],
         "hovertemplate": "labels=7<br>pca_1=%{x}<br>pca_2=%{y}<br>title=%{customdata[0]}<extra></extra>",
         "legendgroup": "7",
         "marker": {
          "color": "#636efa",
          "symbol": "circle"
         },
         "mode": "markers",
         "name": "7",
         "showlegend": true,
         "type": "scattergl",
         "x": [
          0.060017467600164694,
          0.1705944701007561,
          0.23324080244515086,
          -0.01335789156555881,
          0.08170391642925795,
          0.24514627531092437,
          0.2018776512247101,
          0.06233268478267185,
          0.16246730948892998,
          0.0898478168466629,
          0.04766626202492041,
          -0.02209713719264323,
          0.272835733992236,
          0.3129713751276845
         ],
         "xaxis": "x",
         "y": [
          -0.08378629001102463,
          -0.06634939097219919,
          -0.1126462478597921,
          -0.02073737369795298,
          0.10822139696141336,
          -0.057381861638408804,
          -0.032287865197689815,
          0.0671025609048706,
          -0.08671186840154002,
          0.16235534423026518,
          -0.018507891244398077,
          -0.11082488114971728,
          -0.1848018814652108,
          -0.039376377835650705
         ],
         "yaxis": "y"
        },
        {
         "customdata": [
          [
           "Surfactant therapy for acute respiratory failure in children: a systematic review and meta-analysis"
          ],
          [
           "Long-term respiratory follow-up of H1N1 infection"
          ],
          [
           "Clinical characteristics of pediatric hospitalizations associated with 2009 pandemic influenza A (H1N1) in Northern Bavaria, Germany"
          ],
          [
           "Asthma in patients hospitalized with pandemic influenza A(H1N1)pdm09 virus infection–United States, 2009"
          ],
          [
           "Procalcitonin guidance for reduction of antibiotic use in patients hospitalized with severe acute exacerbations of asthma: a randomized controlled study with 12-month follow-up"
          ],
          [
           "Clinical Scenarios of the Application of Electrical Impedance Tomography in Paediatric Intensive Care"
          ],
          [
           "The Incidence of Respiratory Tract Infection in Adults Requiring Hospitalization for Asthma"
          ],
          [
           "Acquired neuromuscular disorders in critically ill patients: a systematic review"
          ],
          [
           "Critically ill obstetric patients in an American and an Indian public hospital: comparison of case-mix, organ dysfunction, intensive care requirements, and outcomes"
          ],
          [
           "Corticosteroid treatment in critically ill patients with severe influenza pneumonia: a propensity score matching study"
          ],
          [
           "Respiratorische Notfälle im Kindes- und Jugendalter"
          ],
          [
           "Clinical characteristics of adult patients with influenza-like illness hospitalized in general ward during Influenza A H1N1 pandemic 2009/2010"
          ],
          [
           "Nichtinvasive Beatmung bei Kindern mit akuter respiratorischer Insuffizienz"
          ],
          [
           "Approach to neuromuscular disorders in the intensive care unit"
          ],
          [
           "Decreased FEV (1)% in asthmatic adults in Scottish homes with high Environmental Relative Moldiness Index values"
          ],
          [
           "The effect of inhaled and intranasal sodium cromoglyeate on symptoms of upper respiratory tract infections"
          ],
          [
           "Urinary club cell protein 16 (CC16): Utility of its assay during acute bronchiolitis"
          ],
          [
           "Obesity Trends among Asthma Patients in the United States: A Population-based Study"
          ],
          [
           "Exam 4 Questions"
          ],
          [
           "Respiratory Disorders"
          ],
          [
           "Exam 3 Questions"
          ],
          [
           "Acute Respiratory Failure"
          ],
          [
           "Inhaled corticosteroids in COPD: friend or foe?"
          ],
          [
           "Smoke-free legislation reduces hospital admissions for childhood lower respiratory tract infection."
          ],
          [
           "Work participation among the morbidly obese seeking bariatric surgery: an exploratory study from Norway."
          ],
          [
           "A case of severe acute exacerbation of Yokkaichi asthma treated with a vibrating mesh nebulizer."
          ],
          [
           "Bariatric surgery: risks and rewards."
          ],
          [
           "Wheezing as a sign of cor triatriatum sinister culminating in multiple organ failure."
          ],
          [
           "Trends in childhood asthma hospitalisation in three Asia Pacific countries."
          ],
          [
           "Community Asthma Initiative: Cost Analyses using Claims Data from a Medicaid Managed Care Organization."
          ],
          [
           "Five-year survival following radiofrequency ablation of small, solitary, hepatic colorectal metastases."
          ],
          [
           "Randomized phase 2 trial of monthly vitamin D to prevent respiratory complications in children with sickle cell disease."
          ],
          [
           "Heliox inhalation therapy for bronchiolitis in infants."
          ],
          [
           "Effects of Macrolide Treatment during the Hospitalization of Children with Childhood Wheezing Disease: A Systematic Review and Meta-Analysis."
          ],
          [
           "Long-term improvements in pulmonary function 5 years after bariatric surgery."
          ],
          [
           "Noninvasive mechanical ventilation."
          ],
          [
           "Resource burden at children's hospitals experiencing surge volumes during the spring 2009 H1N1 influenza pandemic."
          ],
          [
           "Comparison of comorbidity resolution and improvement between laparoscopic sleeve gastrectomy and laparoscopic adjustable gastric banding."
          ],
          [
           "Long-acting muscarinic antagonists (LAMA) added to inhaled corticosteroids (ICS) versus the same dose of ICS alone for adults with asthma."
          ],
          [
           "Dynamic Respiratory Tortuosity of the Vertebral Artery Ostium."
          ],
          [
           "Noninvasive positive pressure ventilation in the acute care setting: where are we?"
          ],
          [
           "Ethnic variations in morbidity and mortality from lower respiratory tract infections: a retrospective cohort study."
          ],
          [
           "Montelukast as an episodic modifier for acute viral bronchiolitis: a randomized trial."
          ],
          [
           "Changes in helper lymphocyte chemokine receptor expression and elevation of IP-10 during acute respiratory syncytial virus infection in infants."
          ],
          [
           "Asthma medication usage is significantly reduced following bariatric surgery."
          ],
          [
           "Non-invasive ventilation use in status asthmaticus: 16 years of experience in a tertiary intensive care."
          ],
          [
           "Effect of beta2-adrenergic receptor polymorphism on response to longacting beta2 agonist in asthma (LARGE trial): a genotype-stratified, randomised, placebo-controlled, crossover trial."
          ],
          [
           "Boston children's hospital community asthma initiative: Five-year cost analyses of a home visiting program."
          ],
          [
           "Incident user cohort study of risk for gastrointestinal bleed and stroke in individuals with major depressive disorder treated with antidepressants."
          ],
          [
           "Association of Respiratory Picornaviruses With High Acuity and Severe Illness in a Pediatric Health Care System."
          ],
          [
           "Respiratory Viruses and Treatment Failure in Children With Asthma Exacerbation."
          ],
          [
           "Behind a mask: tricks, pitfalls, and prejudices for noninvasive ventilation."
          ],
          [
           "Short-term effects of ambient PM1 and PM2.5 air pollution on hospital admission for respiratory diseases: Case-crossover evidence from Shenzhen, China."
          ],
          [
           "How Respiratory Syncytial Virus Genotypes Influence the Clinical Course in Infants Hospitalized for Bronchiolitis."
          ],
          [
           "The viral aetiology of croup and recurrent croup."
          ],
          [
           "The use of neuromuscular blocking agents in the ICU: where are we now?"
          ],
          [
           "Assessment of Bohr and Enghoff Dead Space Equations in Mechanically Ventilated Children."
          ],
          [
           "Long-term outcomes of laparoscopic sleeve gastrectomy: a Lebanese center experience."
          ],
          [
           "Olfactory dysfunction and asthma as risk factors for poor quality of life in upper airway diseases."
          ],
          [
           "High-flow oxygen therapy and other inhaled therapies in intensive care units."
          ],
          [
           "Effects of air pollution on asthma hospitalization rates in different age groups in Hong Kong."
          ],
          [
           "Study of modifiable risk factors for asthma exacerbations: virus infection and allergen exposure increase the risk of asthma hospital admissions in children."
          ],
          [
           "[Detection and clinical analysis of acute lower respiratory tract infection with human coronaviruses in children in Beijing area 2007-2015]."
          ],
          [
           "Antibodies to Coronavirus OC 43 strain in the population of North-Eastern Hungary."
          ],
          [
           "Noninvasive ventilation in acute respiratory failure."
          ],
          [
           "Montelukast reduces asthma exacerbations in 2- to 5-year-old children with intermittent asthma."
          ],
          [
           "Clinical features, treatments and outcomes of influenza A (H1N1) 2009 among the hospitalized patients in the clinic for infectious diseases in Novi Sad."
          ],
          [
           "Epidemiological and clinical features of enteroviral acute lower respiratory tract infections in hospitalized paediatric patients in a Malaysian tertiary center."
          ],
          [
           "Predictors of failure of the laparoscopic approach for the management of small bowel obstruction."
          ],
          [
           "Impact of respiratory virus infections on persons with chronic underlying conditions."
          ],
          [
           "[Effect of 1-year specific immunotherapy with standardized house dust mite vaccine on mild to moderate allergic asthmatic patients]."
          ],
          [
           "Synergism between allergens and viruses and risk of hospital admission with asthma: case-control study."
          ],
          [
           "Aberrant expression of CC and CXC chemokines and their receptors in patients with asthma."
          ],
          [
           "ALTERED THEOPHYLLINE PHARMACOKINETICS DURING ACUTE RESPIRATORY VIRAL ILLNESS"
          ],
          [
           "Measuring the Severity of Respiratory Illness in the First 2 Years of Life in Preterm and Term Infants"
          ],
          [
           "Bronchiolitis obliterans syndrome after allogeneic hematopoietic SCT: phenotypes and prognosis"
          ],
          [
           "Association between continuity of care and emergency department visits and hospitalization in senior adults with asthma-COPD overlap"
          ],
          [
           "Pediatric Asthma Mortality and Hospitalization Trends Across Asia Pacific Relationship With Asthma Drug Utilization Patterns"
          ],
          [
           "Montelukast Reduces Serum Levels of Eosinophil-Derived Neurotoxin in Preschool Asthma"
          ],
          [
           "Effectiveness of non-pharmaceutical measures in preventing pediatric influenza: a case–control study"
          ],
          [
           "Virus detection and cytokine profile in relation to age among acute exacerbations of childhood asthma"
          ],
          [
           "Common cold decreases lung function in infants with recurrent wheezing"
          ],
          [
           "Bronchiolitis: Analysis of 10 consecutive epidemic seasons"
          ],
          [
           "Severe respiratory illness associated with a nationwide outbreak of enterovirus D68 in the USA (2014): a descriptive epidemiological investigation"
          ],
          [
           "Radiographic follow‐up of pneumonia in children"
          ],
          [
           "Clinical characteristics of influenza virus-induced lower respiratory infection during the 2015 to 2016 season"
          ],
          [
           "Fluctuation analysis-based risk assessment for respiratory virus activity and air pollution associated asthma incidence"
          ],
          [
           "Use of early corticosteroid therapy on ICU admission in patients affected by severe pandemic (H1N1)v influenza A infection"
          ],
          [
           "Rapid clinical diagnosis in fatal swine influenza (H1N1) pneumonia in an adult with negative rapid influenza diagnostic tests (RIDTs): Diagnostic swine influenza triad"
          ],
          [
           "The Relationship of Rhinovirus-Associated Asthma Hospitalizations with Inhaled Corticosteroids and Smoking"
          ],
          [
           "The relation of innate and adaptive immunity with viral-induced acute asthma attacks: Focusing on IP-10 and cathelicidin"
          ],
          [
           "Patients hospitalized with an infective exacerbation of bronchiectasis unrelated to cystic fibrosis: Clinical, physiological and sputum characteristics"
          ],
          [
           "Mannose‐binding lectin cord blood levels and respiratory symptoms during infancy: a prospective birth cohort study"
          ],
          [
           "Biological exacerbation clusters demonstrate asthma and chronic obstructive pulmonary disease overlap with distinct mediator and microbiome profiles"
          ],
          [
           "Epidemiology and clinical outcome of virus-positive respiratory samples in ventilated patients: a prospective cohort study"
          ],
          [
           "Differences between asthmatics and nonasthmatics hospitalised with influenza A infection"
          ],
          [
           "A randomized open-label trial on the use of budesonide/formoterol (Symbicort(®)) as an alternative reliever medication for mild to moderate asthmatic attacks"
          ],
          [
           "Burden of respiratory viruses in patients with acute respiratory failure"
          ],
          [
           "Clinical characteristics of eosinophilic asthma exacerbations"
          ],
          [
           "Serum soluble receptor for advanced glycation end‐products during acute bronchiolitis in infant: Prospective study in 93 cases"
          ],
          [
           "Nebulized magnesium for moderate and severe pediatric asthma: A randomized trial"
          ],
          [
           "Rhinovirus identification by BglI digestion of picornavirus RT-PCR amplicons"
          ],
          [
           "Asthme et usage d’héroïne"
          ],
          [
           "Recent advances in the role of non-invasive ventilation in acute respiratory failure"
          ],
          [
           "Conurbation, Urban, and Rural Living as Determinants of Allergies and Infectious Diseases: Royal College of General Practitioners Research and Surveillance Centre Annual Report 2016-2017"
          ],
          [
           "Can an evidence-based guideline reminder card improve asthma management in the emergency department?"
          ],
          [
           "Management of acute asthma attacks associated with respiratory tract infection: a postal survey of general practitioners in the U.K."
          ],
          [
           "Prenatal maternal distress associates with a blunted cortisol response in rhinovirus-positive infants"
          ],
          [
           "Dual Respiratory Virus Infections"
          ],
          [
           "Incidence and risk factors of lower respiratory tract illnesses during infancy in a Mediterranean birth cohort"
          ],
          [
           "Clinical and Immunological Benefits of OM-85 Bacterial Lysate in Patients with Allergic Rhinitis, Asthma, and COPD and Recurrent Respiratory Infections"
          ],
          [
           "Clinical Characteristics of Asthmatic Patients With Influenza-Like Illness and Risk for Severe Exacerbations in Mexico"
          ],
          [
           "No Direct Association Between Asthma and the Microbiome Based on Currently Available Techniques"
          ],
          [
           "The September epidemic of asthma exacerbations in children: A search for etiology"
          ],
          [
           "Comparing ozone metrics on associations with outpatient visits for respiratory diseases in Taipei Metropolitan area"
          ],
          [
           "Serum IgG Concentrations in Adult Patients Experiencing Virus-Induced Severe Asthma Exacerbations"
          ],
          [
           "Fungi in respiratory samples of horses with inflammatory airway disease"
          ],
          [
           "Risk Factors for Repeat Adverse Asthma Events in Children After Visiting an Emergency Department"
          ],
          [
           "Asthma associated with denatonium benzoate in a healthcare worker in Taiwan: A case report"
          ],
          [
           "Treatment, outcomes and costs of asthma exacerbations in Chilean children: a prospective multicenter observational study"
          ],
          [
           "β(2)-Adrenergic receptor promoter haplotype influences the severity of acute viral respiratory tract infection during infancy: a prospective cohort study"
          ],
          [
           "Ciliated conical epithelial cell protrusions point towards a diagnosis of primary ciliary dyskinesia"
          ],
          [
           "DO IT Trial: vitamin D Outcomes and Interventions in Toddlers – a TARGet Kids! randomized controlled trial"
          ],
          [
           "Clinical characteristics and outcomes of human rhinovirus positivity in hospitalized children"
          ],
          [
           "IV Magnesium Sulfate for Bronchiolitis A Randomized Trial"
          ],
          [
           "Thymic stromal lymphopoietin, IL-33, and periostin in hospitalized infants with viral bronchiolitis"
          ],
          [
           "Influenza A(H1N1)pdm09 and Cystic Fibrosis Lung Disease: A Systematic Meta-Analysis"
          ],
          [
           "Neonatal bronchial hyperresponsiveness precedes acute severe viral bronchiolitis in infants"
          ],
          [
           "Viral Loads and Duration of Viral Shedding in Adult Patients Hospitalized with Influenza"
          ],
          [
           "Enterovirus D68 in Hospitalized Children: Sequence Variation, Viral Loads and Clinical Outcomes"
          ],
          [
           "Impact of point-of-care testing for respiratory viruses on antibiotic use in adults with exacerbation of airways disease"
          ],
          [
           "Severe Pertussis Infections in the United States, 2011–2015"
          ],
          [
           "Respiratory Illness and Allergy Related to Work and Home Environment among Commercial Pilots"
          ],
          [
           "Marqueurs biologiques de gravité initiale des bronchiolites aiguës et d’évolution vers un asthme du nourrisson"
          ]
         ],
         "hovertemplate": "labels=14<br>pca_1=%{x}<br>pca_2=%{y}<br>title=%{customdata[0]}<extra></extra>",
         "legendgroup": "14",
         "marker": {
          "color": "#EF553B",
          "symbol": "circle"
         },
         "mode": "markers",
         "name": "14",
         "showlegend": true,
         "type": "scattergl",
         "x": [
          -0.01757251974954209,
          0.11710360840275176,
          0.1741404705223631,
          0.13264737084656902,
          0.041418282509567125,
          -0.08792358718038631,
          0.17402497453132126,
          -0.023173815800991156,
          0.029747017362012962,
          0.029089594905016464,
          0.027539355408252135,
          0.12788594946830714,
          -0.02921259939726939,
          -0.08398157806800449,
          -0.029671708397625438,
          0.02968648849906313,
          0.0581814069132534,
          -0.00751079241187912,
          -0.05812019033658415,
          0.03747891554181031,
          -0.06555745974834624,
          -0.12287472238709697,
          -0.08236470822398835,
          0.08488566868396924,
          -0.05167310757359607,
          0.010994114692502215,
          -0.09035107715100497,
          0.0056084106643373224,
          0.05436781649065815,
          -0.02865082745700031,
          -0.05110508243301756,
          0.04194569006315706,
          0.01935151922148305,
          0.024058979879056336,
          -0.001537190137005963,
          -0.08126265215419057,
          0.03649764201972086,
          -0.04065865737182459,
          -0.031583284309943345,
          -0.045447076535839896,
          -0.0741298696342769,
          0.0582824272435936,
          0.07844378889665833,
          0.019844781625916554,
          0.025573882995628596,
          -0.0036719181185598973,
          -0.04734655933347261,
          0.02468899045821968,
          -0.01451314214217458,
          0.09347179295944885,
          0.13275368865337472,
          -0.09296128851069393,
          0.033026968409152764,
          0.11900694729036272,
          0.07342325542508403,
          -0.11588758854655293,
          -0.03741511721086309,
          0.03484996583905025,
          -0.020960558544180632,
          -0.1140814994427306,
          0.011842401754126416,
          0.12267630886761337,
          0.11626877042728456,
          0.10623429269615862,
          -0.05646590199375642,
          0.08415980768449947,
          0.06200175727794066,
          0.07155580462783935,
          -0.047247805218017705,
          0.20006539156978378,
          0.03442845955020115,
          0.12684000052262653,
          -0.026513340275281613,
          0.08268982757043236,
          0.12869063904444472,
          -0.09516920754969073,
          0.030619658966968083,
          -0.028765034868783262,
          0.03701682094080452,
          0.055621013155287224,
          0.10765836120872574,
          0.013373706910252178,
          0.209140276921872,
          0.07542098379655068,
          0.08540342441617378,
          0.16827136646951954,
          0.0329493183493079,
          0.06118613574705159,
          0.0780484786817169,
          0.2050940904377082,
          0.014429076968321096,
          0.06650990559825853,
          0.03489903095530921,
          -0.0825157373652535,
          0.12173062375134046,
          0.05451562450703788,
          0.0017409092800628944,
          0.07029518264782493,
          0.06568198085024364,
          0.051429276402178405,
          -0.005045788249243984,
          -0.023522653248665128,
          -0.03838342171262005,
          -0.0763761608712943,
          0.009733828029116199,
          0.013495240465091169,
          0.016927300917011577,
          -0.00037972393195259604,
          0.05331617701431531,
          0.11532923067625628,
          0.025591663419982237,
          0.031591887659091204,
          -0.030193197594297623,
          0.15981849331397258,
          -0.06458282900074522,
          0.10655183784171801,
          -0.04674277922084867,
          0.07101893427931608,
          -0.07326042270052606,
          0.08098072263960635,
          0.047709175452007174,
          -0.07944993409162353,
          0.0016473822310531828,
          0.23057356315896427,
          0.12360813255799424,
          0.11234294207832787,
          -0.005882696874778525,
          0.14195798555018774,
          0.0784368230483804,
          0.20150881703686618,
          0.016592882619046175,
          0.1006629717955316,
          0.021126343003810586,
          0.12053014316457522
         ],
         "xaxis": "x",
         "y": [
          -0.19450528613470308,
          -0.1787589925292754,
          -0.17029595839926787,
          -0.23024733366267233,
          -0.18355911772239147,
          -0.15448714953430087,
          -0.1413005351160949,
          -0.1685940025911557,
          -0.21041008274321943,
          -0.21895419758672527,
          -0.04213606894038111,
          -0.23660044044651224,
          -0.10963790125989956,
          -0.10382046183561147,
          -0.19287955159619258,
          -0.18241045856879678,
          -0.11116753077088284,
          -0.14704992006270162,
          -0.16494985012770547,
          -0.1413579092108514,
          -0.16217437184920971,
          -0.040593879948877865,
          -0.1428492906070757,
          -0.18571450921048574,
          -0.16439946892634244,
          -0.16419174870954378,
          -0.14685441792457318,
          -0.1679839369834103,
          -0.1469976251600349,
          -0.1957629039143929,
          -0.1678591809890049,
          -0.07102890114639798,
          -0.13734569807997848,
          -0.09908703553135795,
          -0.21892496499542563,
          -0.09449633903107789,
          -0.21975401738090855,
          -0.19426831146659967,
          -0.16039085192964858,
          -0.14905106214090066,
          -0.10708309661834385,
          -0.07467875990220432,
          -0.2233763094046396,
          -0.040422082902062596,
          -0.25045308098732877,
          -0.22398483038139627,
          -0.20626180889217338,
          -0.23607763756057804,
          -0.16719963478401062,
          -0.15308770615994083,
          -0.03855523176309446,
          -0.126482568229638,
          -0.09616489793857921,
          -0.05928547514058036,
          -0.08078050786473079,
          -0.11348476378127628,
          -0.1554453519324711,
          -0.22389563745772498,
          -0.18327562522656773,
          -0.14698704795951714,
          -0.1651487042686066,
          -0.0867304721890196,
          -0.11953246972138425,
          -0.15664470206253917,
          -0.1128310725205896,
          -0.15485272339768158,
          -0.22584643437075919,
          -0.02640719080287058,
          -0.18443890866930984,
          -0.010611504607271867,
          -0.2667137751375115,
          -0.11669488047991586,
          -0.15640901937291557,
          -0.09146169788694032,
          -0.04203840660750563,
          -0.1334436652345679,
          -0.23705883745111944,
          -0.1525970119566037,
          -0.18973917835332457,
          -0.18035266394425684,
          -0.055589939325675644,
          -0.059014242968469605,
          -0.1447538956476916,
          -0.09616648929412297,
          -0.0905966676947281,
          -0.1499493254971,
          -0.06933857495726344,
          -0.25426838083825426,
          -0.19963672660383655,
          -0.08926636092783802,
          -0.12004818027898427,
          -0.0495161461784704,
          -0.09060736170489454,
          -0.07591954139059542,
          -0.12770132108028417,
          -0.19711779376694544,
          -0.1943129840921851,
          -0.024666080737047215,
          -0.0835394786876913,
          -0.11240411042066775,
          -0.23190188239355228,
          -0.07828710712529326,
          -0.10289720883118987,
          -0.09516113191204924,
          -0.10251373465771699,
          -0.21380033948022573,
          -0.1082930945422397,
          -0.1071519895204036,
          -0.04182411271673509,
          -0.10181277000792621,
          -0.14932308906655412,
          -0.08487118938000843,
          -0.026724759686456233,
          -0.1051284151349414,
          -0.1335720839630198,
          -0.12269455889914006,
          -0.09741769635734958,
          -0.18516714181763944,
          -0.1723774207784981,
          -0.23988486132074316,
          -0.02519681920903088,
          -0.14254117150912635,
          -0.0940264384176546,
          -0.117855419810002,
          -0.2817315909159877,
          -0.04384973981867861,
          -0.13305529622808446,
          -0.019962383532447538,
          -0.09503733912240259,
          -0.12320789873857176,
          -0.06787988196524625,
          -0.1327119781533707,
          -0.09371781498709877,
          -0.04527216400457523
         ],
         "yaxis": "y"
        },
        {
         "customdata": [
          [
           "Differential Regulation of Type I Interferon and Epidermal Growth Factor Pathways by a Human Respirovirus Virulence Factor"
          ],
          [
           "The complement system"
          ],
          [
           "Early-Life Exposure to Clostridium leptum Causes Pulmonary Immunosuppression"
          ],
          [
           "Heme Oxygenase-1-Expressing Dendritic Cells Promote Foxp3(+) Regulatory T Cell Differentiation and Induce Less Severe Airway Inflammation in Murine Models"
          ],
          [
           "Tight junctions in pulmonary epithelia during lung inflammation"
          ],
          [
           "Mechanisms of nasal hyper-reactivity"
          ],
          [
           "Plasma exudation and asthma"
          ],
          [
           "Lipid Mediators in Inflammatory Disorders"
          ],
          [
           "Molecular Mechanisms for the Mechanical Modulation of Airway Responsiveness"
          ],
          [
           "Saponins of Dioscorea Nipponicae Inhibits IL-17A-Induced Changes in Biomechanical Behaviors of In Vitro Cultured Human Airway Smooth Muscle Cells"
          ],
          [
           "The Aftermath of Bronchoconstriction"
          ],
          [
           "The pathogenesis of inflammatory disease: Surgical shock and multiple system organ failure"
          ],
          [
           "Chemokine Receptors in Allergic Lung Disease"
          ],
          [
           "Sinusitis, Rhinitis, Asthma, and the Single Airway Hypothesis"
          ],
          [
           "Poly(inosinic-cytidylic) acid-triggered exacerbation of experimental asthma depends on IL-17A produced by NK cells."
          ],
          [
           "Cell cycle arrest by transforming growth factor beta1 enhances replication of respiratory syncytial virus in lung epithelial cells."
          ],
          [
           "Dendritic cells in viral bronchiolitis."
          ],
          [
           "Update on Exhaled Nitric Oxide in Clinical Practice."
          ],
          [
           "Interleukin-18 in pulmonary inflammatory diseases."
          ],
          [
           "Insulin-dependent phosphatidylinositol 3-kinase/Akt and ERK signaling pathways inhibit TLR3-mediated human bronchial epithelial cell apoptosis."
          ],
          [
           "Solitary Cholinergic Stimulation Induces Airway Hyperreactivity and Transcription of Distinct Pro-inflammatory Pathways."
          ],
          [
           "Interactions between innate antiviral and atopic immunoinflammatory pathways precipitate and sustain asthma exacerbations in children."
          ],
          [
           "Angiogenesis and lymphangiogenesis in bronchial asthma."
          ],
          [
           "Inhaled innate immune ligands to prevent pneumonia."
          ],
          [
           "Interferon-λs: special immunomodulatory agents and potential therapeutic targets."
          ],
          [
           "MicroRNA-744 Inhibits Proliferation of Bronchial Epithelial Cells by Regulating Smad3 Pathway via Targeting Transforming Growth Factor-β1 (TGF-β1) in Severe Asthma."
          ],
          [
           "The Interplay between Host Immunity and Respiratory Viral Infection in Asthma Exacerbation."
          ],
          [
           "Inhaled birch pollen extract induces airway hyperresponsiveness via oxidative stress but independently of pollen-intrinsic NADPH oxidase activity, or the TLR4-TRIF pathway."
          ],
          [
           "Nitric oxide and the common cold."
          ],
          [
           "Asthma and influenza virus infection:focusing on cell death and stress pathways in influenza virus replication."
          ],
          [
           "\"Hit-and-run\" effects of paramyxoviruses as a basis for chronic respiratory disease."
          ],
          [
           "Virus-induced airway hyperresponsiveness in man."
          ],
          [
           "The role of epithelial injury and repair in the origins of asthma."
          ],
          [
           "The role of p38 MAPK in rhinovirus-induced monocyte chemoattractant protein-1 production by monocytic-lineage cells."
          ],
          [
           "Asthma exacerbations . 3: Pathogenesis."
          ],
          [
           "Respiratory syncytial virus infection results in airway hyperresponsiveness and enhanced airway sensitization to allergen."
          ],
          [
           "TLR3-mediated synthesis and release of eotaxin-1/CCL11 from human bronchial smooth muscle cells stimulated with double-stranded RNA."
          ],
          [
           "Proximal airway mucous cells of ovalbumin-sensitized and -challenged Brown Norway rats accumulate the neuropeptide calcitonin gene-related peptide."
          ],
          [
           "The homeostatic rôle of bronchoconstriction."
          ],
          [
           "Cyclooxygenase-2/prostaglandin D2/CRTH2 pathway mediates double-stranded RNA-induced enhancement of allergic airway inflammation."
          ],
          [
           "The immunology of virus infection in asthma."
          ],
          [
           "Immunology taught by lung dendritic cells."
          ],
          [
           "Airways exudation of plasma macromolecules: Innate defense, epithelial regeneration, and asthma"
          ],
          [
           "What is the contribution of respiratory viruses and lung proteases to airway remodelling in asthma and chronic obstructive pulmonary disease?"
          ],
          [
           "Dual RNA-seq reveals viral infections in asthmatic children without respiratory illness which are associated with changes in the airway transcriptome"
          ],
          [
           "Genes and Pathways Regulating Decline in Lung Function and Airway Remodeling in Asthma"
          ],
          [
           "Asthma, Viruses, and Nitric Oxide"
          ],
          [
           "Innate immune response to viral infection of the lungs"
          ],
          [
           "Immunostimulants in respiratory diseases: focus on Pidotimod"
          ],
          [
           "Synthetic double-stranded RNA enhances airway inflammation and remodelling in a rat model of asthma"
          ],
          [
           "Rhinovirus inhibits IL-17A and the downstream immune responses in allergic asthma"
          ],
          [
           "Airway Interleukin-33 and type 2 cytokines in adult patients with acute asthma"
          ],
          [
           "6. Asthma()()"
          ],
          [
           "Pentraxin 3 deletion aggravates allergic inflammation through a TH17-dominant phenotype and enhanced CD4 T-cell survival"
          ],
          [
           "Dendritic Cells from Aged Subjects Display Enhanced Inflammatory Responses to Chlamydophila pneumoniae"
          ],
          [
           "Chapter 6 Airway Pathology"
          ],
          [
           "Inflammation and infections in asthma"
          ],
          [
           "The role of antibiotics in asthma"
          ],
          [
           "Allergie respiratoire et virus"
          ],
          [
           "Aspirin Intolerance: Experimental Models for Bed-to-Bench"
          ],
          [
           "Vascular endothelial growth factor induction by rhinovirus infection"
          ],
          [
           "Genetic and environmental interaction in allergy and asthma"
          ],
          [
           "Respiratory viral infections drive chemokine expression and exacerbate the asthmatic response"
          ],
          [
           "Rhinovirus replication and innate immunity in highly differentiated human airway epithelial cells"
          ],
          [
           "Macrophage activation state determines the response to rhinovirus infection in a mouse model of allergic asthma"
          ],
          [
           "Infections respiratoires aiguës virales et asthme de l'enfant Aspects épidémiologiques, immunopathologiques et thérapeutiques"
          ],
          [
           "Host defense function of the airway epithelium in health and disease: clinical background"
          ],
          [
           "Neutrophils in respiratory syncytial virus infection: A target for asthma prevention"
          ],
          [
           "Human TSLP and TLR3 ligands promote differentiation of Th17 cells with a central memory phenotype under Th2‐polarizing conditions"
          ],
          [
           "An Insight into the Diverse Roles of Surfactant Proteins, SP-A and SP-D in Innate and Adaptive Immunity"
          ],
          [
           "The role of airway macrophages in apoptotic cell clearance following acute and chronic lung inflammation"
          ],
          [
           "Emerging Regulatory Roles of Dual-Specificity Phosphatases in Inflammatory Airway Disease"
          ],
          [
           "The Role of Autophagy in Eosinophilic Airway Inflammation"
          ],
          [
           "Chitinase 3‐like 1 protein plays a critical role in respiratory syncytial virus‐induced airway inflammation"
          ],
          [
           "Astragalin inhibits autophagy-associated airway epithelial fibrosis"
          ],
          [
           "Mechanisms of virus‐induced asthma exacerbations: state‐of‐the‐art. A GA(2)LEN and InterAirways document"
          ]
         ],
         "hovertemplate": "labels=19<br>pca_1=%{x}<br>pca_2=%{y}<br>title=%{customdata[0]}<extra></extra>",
         "legendgroup": "19",
         "marker": {
          "color": "#00cc96",
          "symbol": "circle"
         },
         "mode": "markers",
         "name": "19",
         "showlegend": true,
         "type": "scattergl",
         "x": [
          -0.15708494199213038,
          -0.18074550195067302,
          -0.17793380393812938,
          -0.2667675628276284,
          -0.2581622316225243,
          -0.17726019516416688,
          -0.23682988992631263,
          -0.21629163532720444,
          -0.2645504404679986,
          -0.2426905942195402,
          -0.24468519079163945,
          -0.18895021241664045,
          -0.31053729074522457,
          -0.19142402034797093,
          -0.1779924900732885,
          -0.11016459474726954,
          -0.03696999511554098,
          -0.16462790654698745,
          -0.2862393805255723,
          -0.21328180506435265,
          -0.19620404957062498,
          -0.11134483139933794,
          -0.2473385588010785,
          -0.13603650323922373,
          -0.2064768993961866,
          -0.20111265755441532,
          -0.17148326151561646,
          -0.21825491811953823,
          -0.13969636946589714,
          -0.15187173460174425,
          -0.19143740200250822,
          -0.10495498599077564,
          -0.1842514949444268,
          -0.1490277169089584,
          -0.14033681284215088,
          -0.14424727258577932,
          -0.10129425833058375,
          -0.2195761464178402,
          -0.18878021326555533,
          -0.22793882313211203,
          -0.18058547390112356,
          -0.24077019691877244,
          -0.18673343033579373,
          -0.12118990372270069,
          0.026045076289127396,
          -0.2198059193540969,
          -0.15514987608938627,
          -0.13698965649519412,
          -0.16597521676768404,
          -0.17631364169984232,
          -0.18072634959382536,
          -0.06897393549733528,
          -0.13183857086844747,
          -0.2321298069893117,
          -0.13380423784290138,
          -0.22135779106230133,
          -0.08510789349390639,
          -0.11954931639140534,
          -0.1249405189846841,
          -0.2237737853337558,
          -0.09071367824379833,
          -0.2778569661152734,
          -0.12374965665317868,
          -0.13156478795736798,
          -0.20413397961170365,
          -0.06468941080616858,
          -0.10276180397220734,
          -0.07093339110508678,
          -0.20211845102449041,
          -0.24441820085311813,
          -0.2994143704918764,
          -0.3265621586390486,
          -0.26682565586106405,
          -0.08293184084291066,
          -0.23306728542079538,
          -0.14961199512547418
         ],
         "xaxis": "x",
         "y": [
          0.11889976027760854,
          0.0036340136301053674,
          0.014761564948930059,
          0.047446911557340314,
          0.04859871913249551,
          0.01740418356117209,
          0.030947085161938972,
          -0.0063641026453745185,
          0.03144862441110113,
          -0.023989853162927975,
          0.16130477035193755,
          -0.02004265927288952,
          0.07089585855515307,
          0.1012052162895848,
          0.13080717336266098,
          0.07311974810474114,
          0.18537507832035205,
          -0.004564275501258264,
          0.0751799474629456,
          0.03591650515545569,
          0.06163771032147464,
          0.12695119933209278,
          0.024223079487080218,
          0.03010497526002175,
          -0.014444797692648968,
          -0.024783171678854483,
          0.26196151964114567,
          0.021302402153572573,
          0.10949440031752292,
          0.0529939932953844,
          0.2571421632353043,
          0.15271068735863447,
          0.09634738287757387,
          0.09327652208158231,
          0.26581698402970294,
          0.23467132720903183,
          -0.010110613783604564,
          -0.0022104900930512653,
          0.012669300367807303,
          0.08024840106762728,
          0.2442154152040761,
          0.051268417446744756,
          -0.018666428171241825,
          0.23016810715181782,
          0.15711023740369998,
          0.06876953111690062,
          0.33846237719932487,
          0.2616937554200046,
          0.10584637989422711,
          0.025701250295922642,
          0.12454884732259805,
          0.04835824229712138,
          0.06810347371500626,
          0.002750730305484849,
          0.023441406450629004,
          0.03955023901814654,
          0.18943367377161058,
          0.08774432777852374,
          0.24813537552014955,
          0.015406402111970634,
          0.05405372767494676,
          0.07218739539639749,
          0.2574937574560557,
          0.08138225783137455,
          0.06541955235591224,
          0.2419879597157336,
          0.3349279494405276,
          0.10073792797632766,
          -0.023947524545941144,
          0.016266869725070576,
          0.05962696363643322,
          0.22199245784685726,
          0.05238553020425988,
          0.09013148836573756,
          -0.028675175137338877,
          0.34058255997308035
         ],
         "yaxis": "y"
        },
        {
         "customdata": [
          [
           "The Tennessee Children's Respiratory Initiative: Objectives, design and recruitment results of a prospective cohort study investigating infant viral respiratory illness and the development of asthma and allergic diseases"
          ],
          [
           "The impact of respiratory viruses on lung health after preterm birth"
          ],
          [
           "Respiratory Syncytial Virus—A Comprehensive Review"
          ],
          [
           "Severe bronchiolitis in children"
          ],
          [
           "Understanding the mechanisms of viral induced asthma: New therapeutic directions"
          ],
          [
           "Human Respiratory Syncytial Virus: Biology, Epidemiology, and Control"
          ],
          [
           "The Role of Influenza Vaccination in Asthmatic Children"
          ],
          [
           "VIRUS-INDUCED WHEEZING IN CHILDREN: Respiratory Syncytial Virus (RSV) and Rhinovirus"
          ],
          [
           "Bronchiolitis"
          ],
          [
           "Infections"
          ],
          [
           "Neuroendocrine cell hyperplasia of infancy: a prospective follow-up of nine children."
          ],
          [
           "Rhinovirus and the initiation of asthma."
          ],
          [
           "Viral respiratory infection and the link to asthma."
          ],
          [
           "Respiratory viral infections in infants: causes, clinical symptoms, virology, and immunology."
          ],
          [
           "Genetics and epidemiology: asthma and infection."
          ],
          [
           "Serial viral infections in infants with recurrent respiratory illnesses."
          ],
          [
           "Early-life viral infections and the development of asthma: a target for asthma prevention?"
          ],
          [
           "Infectious pathogens and bronchiolitis outcomes."
          ],
          [
           "Role of infection in the development and exacerbation of asthma."
          ],
          [
           "Pediatric Asthma and Viral Infection."
          ],
          [
           "Rhinovirus infections in infancy and early childhood."
          ],
          [
           "Infections and asthma."
          ],
          [
           "Influence of viral and bacterial respiratory infections on exacerbations and symptom severity in childhood asthma."
          ],
          [
           "Asthma and viruses: is there a relationship?"
          ],
          [
           "Influence of maternal asthma on the cause and severity of infant acute respiratory tract infections"
          ],
          [
           "Respiratory Viruses and Asthma"
          ],
          [
           "The infant airway microbiome in health and disease impacts later asthma development"
          ],
          [
           "The contributions of allergic sensitization and respiratory pathogens to asthma inception"
          ],
          [
           "The Link Between Bronchiolitis and Asthma"
          ],
          [
           "Role of viral infections in the development and exacerbation of asthma in children"
          ],
          [
           "Virus infections, wheeze and asthma"
          ],
          [
           "The relevance of allergen exposure to the development of asthma in childhood()()()"
          ],
          [
           "Respiratory syncytial virus: The virus, the disease and the immune response"
          ],
          [
           "Novel concepts in virally induced asthma"
          ],
          [
           "Asma y virus en el niño"
          ],
          [
           "Prenatal and childhood infections: implications for the development and treatment of childhood asthma"
          ],
          [
           "Rhinovirus-induced wheezing in infancy—the first sign of childhood asthma?()()"
          ],
          [
           "Interferon-gamma levels in nasopharyngeal secretions of infants with respiratory syncytial virus and other respiratory viral infections"
          ],
          [
           "The Impact of Respiratory Viral Infection on Wheezing Illnesses and Asthma Exacerbations"
          ],
          [
           "Infections and Their Role in Childhood Asthma Inception"
          ],
          [
           "Comparison of the Etiology of Viral Respiratory Illnesses in Inner-City and Suburban Infants"
          ],
          [
           "Interactions micro-organismes et voies aériennes distales : spécificités pédiatriques"
          ],
          [
           "Beyond Respiratory Syncytial Virus and Rhinovirus in the Pathogenesis and Exacerbation of Asthma: The Role of Metapneumovirus, Bocavirus and Influenza Virus"
          ],
          [
           "Relationship of viral infections to wheezing illnesses and asthma"
          ],
          [
           "Objectives, design and enrollment results from the Infant Susceptibility to Pulmonary Infections and Asthma Following RSV Exposure Study (INSPIRE)"
          ],
          [
           "Asthma and viral infections An intricate relationship"
          ],
          [
           "The role of viruses in the induction and progression of asthma"
          ],
          [
           "Response to infections in persons with asthma and atopic disease: epiphenomenon or reflection of host susceptibility"
          ],
          [
           "The role of respiratory virus infections in childhood asthma inception"
          ],
          [
           "Association between respiratory infections in early life and later asthma is independent of virus type"
          ],
          [
           "Rhinoviruses, Allergic Inflammation, and Asthma"
          ],
          [
           "The Wheezing Illnesses Study Leidsche Rijn (WHISTLER): Rationale and Design"
          ],
          [
           "The role of respiratory tract infections and the microbiome in the development of asthma: A narrative review"
          ],
          [
           "Viral-Induced Wheeze and Asthma Development"
          ],
          [
           "Asthma risk factors"
          ],
          [
           "Respiratory viral infections in pregnant women with asthma are associated with wheezing in the first 12 months of life"
          ],
          [
           "The infant airway microbiome in health and disease impacts later asthma development"
          ],
          [
           "Pediatric Asthma and Viral Infection"
          ],
          [
           "Viruses in asthma: The role of viruses in childhood respiratory infections"
          ]
         ],
         "hovertemplate": "labels=6<br>pca_1=%{x}<br>pca_2=%{y}<br>title=%{customdata[0]}<extra></extra>",
         "legendgroup": "6",
         "marker": {
          "color": "#ab63fa",
          "symbol": "circle"
         },
         "mode": "markers",
         "name": "6",
         "showlegend": true,
         "type": "scattergl",
         "x": [
          0.15474370137839039,
          -0.0006993632936206536,
          0.03389571718545494,
          0.13875509412656006,
          -0.03750868225896675,
          0.13524182156667913,
          0.03828910631894588,
          0.13284169721534955,
          0.14177776040578532,
          0.15212949272399534,
          -0.05810786335563857,
          0.14588819914740778,
          0.12221725520818613,
          0.08747238392753137,
          0.09161623654585645,
          0.21212876832948288,
          0.016595128285781573,
          0.02885660663920016,
          0.0928566147602774,
          0.3518007752105896,
          0.13833561762458058,
          0.13767327362155876,
          0.11677327839057278,
          0.06882915047864241,
          0.18773062233004648,
          -0.04987864515678548,
          0.021871520767442063,
          0.026818110260244905,
          0.1823685359334706,
          0.2205667404504995,
          0.007450516030247673,
          0.0052894253790556345,
          0.022240730197528473,
          0.0014423654655167858,
          0.3627516811935494,
          0.007228701622112563,
          0.24478026856948548,
          0.1910517792237643,
          0.2358928633721779,
          0.02890441046133814,
          0.19495594927007726,
          0.13380736298357665,
          0.3287326229556946,
          0.08063858682613985,
          0.2165400712477546,
          0.09720024507334829,
          -0.008017794287685252,
          0.01226805418827404,
          0.2913832347787041,
          0.193981640549246,
          0.22459267538479283,
          0.05129179629926843,
          0.04556202924896014,
          0.1802744719025128,
          -0.0528824255885509,
          0.14685033311449203,
          0.021871520767442063,
          0.36063344162843014,
          0.10738267320154184
         ],
         "xaxis": "x",
         "y": [
          0.12121273389356077,
          0.1654177523087032,
          0.1261466165614949,
          0.030537062867920857,
          0.32536225612386227,
          0.08012550584979446,
          0.06836591711079963,
          0.24225386675521215,
          -0.0005902561931031523,
          0.26282474092317154,
          0.012298656616243261,
          0.2765618936949199,
          0.30503457562013314,
          0.31206042307375115,
          0.4211953086605821,
          0.03859540449663791,
          0.22844391057109767,
          0.05681492616870697,
          0.2906480648613644,
          0.28789898237257866,
          0.20806442672733277,
          0.28403545662731283,
          0.16157167712833564,
          0.3513514013741787,
          0.08292003487796311,
          0.2676445240132722,
          0.03137996081690432,
          0.1238275771242239,
          0.15977653259234323,
          0.19008213491688114,
          0.22526121127910453,
          0.09847503148752934,
          0.24352611683327544,
          0.3311256532488308,
          0.2813666696574303,
          0.26234677785581073,
          0.08488542582411,
          0.05744851213616383,
          0.2684387948448826,
          0.19704184733519953,
          0.11249570005338706,
          0.13988260432647187,
          0.22152524557414593,
          0.3465078245148774,
          0.10503824264901164,
          0.29616460060687405,
          0.25593337449415976,
          0.30725425769538905,
          0.21909693824565768,
          0.22628577675716768,
          0.2768513161681897,
          -0.018659547861276632,
          0.1779388507851998,
          0.17380403328271316,
          0.08396995402691491,
          0.02768193009666685,
          0.03137996081690432,
          0.280934033632141,
          0.2647831323889998
         ],
         "yaxis": "y"
        },
        {
         "customdata": [
          [
           "Analysing the eosinophil cationic protein - a clue to the function of the eosinophil granulocyte"
          ],
          [
           "Pulmonary inflammation and cytokine dynamics of bronchoalveolar lavage fluid from a mouse model of bronchial asthma during A(H1N1)pdm09 influenza infection"
          ],
          [
           "A functional IFN-λ4-generating DNA polymorphism could protect older asthmatic women from aeroallergen sensitization and associate with clinical features of asthma"
          ],
          [
           "Untersuchungen über die bronchokonstriktorische Wirkung des β-Rezeptorblockers Propranolol bei Meerschweinchen und Patienten mit Asthma bronchiale"
          ],
          [
           "The Use of Antiallergic and Antiasthmatic Drugs in Viral Infections of the Upper Respiratory Tract"
          ],
          [
           "IL-8 Gene Variants and Expression in Childhood Asthma"
          ],
          [
           "Amplified rhinovirus colds in atopic subjects"
          ],
          [
           "Effect of experimental rhinovirus 16 colds on airway hyperresponsiveness to histamine and interleukin‐8 in nasal lavage in asthmatic subjects in vivo"
          ],
          [
           "Bronchial inflammation and the common cold: a comparison of atopic and non‐atopic individuals"
          ],
          [
           "Respiratory inflammation and infections in high‐performance athletes"
          ],
          [
           "XXIV World Allergy Congress 2015: Seoul, Korea. 14-17 October 2015"
          ],
          [
           "Mechanisms of Hypersensitivity"
          ],
          [
           "Early Interventions in Allergic Diseases"
          ],
          [
           "Differential Diagnosis of Asthma"
          ],
          [
           "Rhinitis and Sinusitis"
          ],
          [
           "NOVEL THERAPEUTIC APPROACHES FOR ALLERGIC RHINITIS"
          ],
          [
           "PEDIATRIC ALLERGY: Can It Be Prevented?"
          ],
          [
           "Executive summary"
          ],
          [
           "Virus‐provoked rhinitis and asthma in allergic patients"
          ],
          [
           "Levels, Complement Activity and Polymorphisms of Mannan‐Binding Lectin in Patients of Bronchial Asthma with Allergic Rhinitis"
          ],
          [
           "Exudative hyperresponsiveness of the airway microcirculation in seasonal allergic rhinitis"
          ],
          [
           "Anti-IL-5 in Mild Asthma Alters Rhinovirus-induced Macrophage, B-Cell, and Neutrophil Responses (MATERIAL). A Placebo-controlled, Double-Blind Study."
          ],
          [
           "Cough and upper airway disorders in elite athletes: a critical review."
          ],
          [
           "Airway wall thickness is increased in COPD patients with bronchodilator responsiveness."
          ],
          [
           "CCL11 enhances excitotoxic neuronal death by producing reactive oxygen species in microglia."
          ],
          [
           "Beta-escin has potent anti-allergic efficacy and reduces allergic airway inflammation."
          ],
          [
           "Clinical and computed tomographic predictors of chronic bronchitis in COPD: a cross sectional analysis of the COPDGene study."
          ],
          [
           "A model of viral wheeze in nonasthmatic adults: symptoms and physiology."
          ],
          [
           "Increased nitric oxide in exhaled air of normal human subjects with upper respiratory tract infections."
          ],
          [
           "Experimental rhinovirus infection in volunteers."
          ],
          [
           "Relationship between exhaled nitric oxide and airway hyperresponsiveness following experimental rhinovirus infection in asthmatic subjects."
          ],
          [
           "Virus-provoked rhinitis in patients who have allergies."
          ],
          [
           "Rhinovirus infection in nonasthmatic subjects: effects on intrapulmonary airways."
          ],
          [
           "Neutrophil degranulation and cell lysis is associated with clinical severity in virus-induced asthma."
          ],
          [
           "Microvascular exudative hyperresponsiveness in human coronavirus-induced common cold."
          ],
          [
           "Asthma and natural colds. Inflammatory indices in induced sputum: a feasibility study."
          ],
          [
           "CXC chemokines and antimicrobial peptides in rhinovirus‐induced experimental asthma exacerbations"
          ],
          [
           "Atopie et infections"
          ],
          [
           "Respiratory Infection and Airway Reactivity"
          ],
          [
           "Cord blood hemopoietic progenitor profiles predict acute respiratory symptoms in infancy"
          ],
          [
           "Anti‐bacterial IgE in the antibody responses of house dust mite allergic children convalescent from asthma exacerbation"
          ],
          [
           "Inhalant Allergies in Children"
          ],
          [
           "Persistent Airway Obstruction After Virus Infection Is Not Associated With Airway Inflammation"
          ],
          [
           "Prolonged nasal eosinophilia in all_ergic patients after common cold"
          ],
          [
           "Airway and serum biochemical correlates of refractory neutrophilic asthma"
          ],
          [
           "Serial Changes in Serum Eosinophil-associated Mediators between Atopic and Non-atopic Children after Mycoplasma pneumoniae pneumonia"
          ],
          [
           "Upper airway inflammatory diseases and bronchial hyperresponsiveness"
          ],
          [
           "Infections virales et asthme"
          ],
          [
           "Upper airway viral infections"
          ],
          [
           "Plasminogen activator inhibitor-1 in sputum and nasal fluids increases in asthmatics during common colds"
          ],
          [
           "Rhinitis in children less than 6 years of age: current knowledge and challenges"
          ],
          [
           "Duration of postviral airway hyperresponsiveness in children with asthma: Effect of atopy"
          ],
          [
           "Airway protease/antiprotease imbalance in atopic asthmatics contributes to increased Influenza A virus cleavage and replication"
          ],
          [
           "IFN-γ–induced protein 10 is a novel biomarker of rhinovirus-induced asthma exacerbations"
          ],
          [
           "Development of allergy in children I. Association with virus infections"
          ],
          [
           "Seasonal Allergy and Seasonal Decrements in Athletic Performance"
          ],
          [
           "Short term change in relative humidity during the festival of Diwali in India"
          ],
          [
           "Functional Fcgamma Receptor Polymorphisms Are Associated with Human Allergy"
          ],
          [
           "Virus associated immune and pharmacologic mechanisms in disorders of respiratory and cutaneous atopy"
          ]
         ],
         "hovertemplate": "labels=8<br>pca_1=%{x}<br>pca_2=%{y}<br>title=%{customdata[0]}<extra></extra>",
         "legendgroup": "8",
         "marker": {
          "color": "#FFA15A",
          "symbol": "circle"
         },
         "mode": "markers",
         "name": "8",
         "showlegend": true,
         "type": "scattergl",
         "x": [
          -0.15894089215108326,
          -0.03459964887167552,
          -0.04901735772376853,
          -0.07216636079190455,
          -0.0979382116472501,
          0.04381937361940283,
          -0.013219851794774294,
          0.017710837413322023,
          -0.01038956951878773,
          -0.039590815379471726,
          -0.07716213524274708,
          -0.22290850778814694,
          -0.058397980854005244,
          -0.10780468869197662,
          -0.09101880627425829,
          -0.24799154034461685,
          -0.09044201973524858,
          -0.09270328858850235,
          -0.029238281189119638,
          -0.11104664277546121,
          -0.1125011140151883,
          -0.12216001763377254,
          -0.11523786366725441,
          -0.10647828472697257,
          -0.19269526814816226,
          -0.22761372634665294,
          -0.06059060857324462,
          0.08009468905771291,
          -0.0037621819255713087,
          -0.02852035995197163,
          -0.043564384502190974,
          0.08720054184770801,
          -0.1560418065254149,
          0.039143586652422915,
          -0.09632462013481195,
          0.031592019883678664,
          -0.028942753803976467,
          -0.10760493174289948,
          -0.0774494981201394,
          -0.006375436590135144,
          -0.023850624090978503,
          -0.009374267724070606,
          -0.049808178638869195,
          -0.0828602834926411,
          -0.0671041367645555,
          0.004778299205903697,
          -0.1125287187160775,
          -0.011392929706777516,
          -0.1378237984773895,
          -0.10896400536736821,
          -0.024123325271327174,
          0.10560109921611723,
          -0.10851275329114839,
          -0.038126438313546306,
          0.06146397926190771,
          -0.10304526540618489,
          -0.050182762566401744,
          -0.03790403508003936,
          -0.19463281052425385
         ],
         "xaxis": "x",
         "y": [
          -0.009916970745607028,
          -0.038677648283746056,
          -0.06331258985915353,
          -0.12768128583834482,
          -0.03940133078947388,
          -0.09699976734103986,
          -0.025339846725525354,
          -0.07884124986342812,
          0.022862513151246953,
          0.0006131742232513982,
          -0.09601791821689756,
          -0.04103905887351028,
          0.08512257156202363,
          -0.06535350867134822,
          -0.015423559382334709,
          0.05015228069450041,
          0.06111346539130489,
          0.0232649654481484,
          0.07872196820754408,
          -0.10041581590394094,
          -0.09562091443950714,
          -0.06730753303340997,
          -0.06316682583852452,
          -0.10963398899881122,
          -0.03643840832193054,
          -0.03811322221356546,
          -0.13085932715256793,
          -0.00808203632679809,
          0.015485109033146574,
          0.00020303324325068308,
          -0.06529027148017785,
          0.20793461668404764,
          0.0765647603975666,
          0.05403306115213472,
          -0.08349548363866321,
          -0.010841656792889722,
          -0.04672284688536753,
          0.05586531322745446,
          0.12282955289784384,
          -0.011818817826111284,
          -0.02076269171635806,
          -0.04358454867292041,
          0.01920622124657938,
          -0.013534269141666498,
          -0.13139399186857817,
          -0.1653618951519121,
          0.1100775614060795,
          0.17336361576012105,
          0.1222879164606052,
          -0.05974183369184432,
          -0.010116856065130034,
          -0.051911250808279616,
          0.04065985820669692,
          -0.007320987356780554,
          -0.027513819856755724,
          -0.086519624638835,
          -0.040213062306286795,
          -0.06997988407723876,
          0.09365141691562733
         ],
         "yaxis": "y"
        },
        {
         "customdata": [
          [
           "Severe influenza cases in paediatric intensive care units in Germany during the pre-pandemic seasons 2005 to 2008"
          ],
          [
           "Pneumonia among adults hospitalized with laboratory-confirmed seasonal influenza virus infection—United States, 2005–2008"
          ],
          [
           "Influenza virus-related critical illness: prevention, diagnosis, treatment"
          ],
          [
           "Attenuated Respiratory Syncytial Virus Vaccines in Asthmatic Children"
          ],
          [
           "Pulmonary Complications of Obstetric and Gynecologic Conditions"
          ],
          [
           "Efficacy and safety of influenza vaccination in children with asthma."
          ],
          [
           "Asthma in pregnancy: a hit for two."
          ],
          [
           "Impaired type I and III interferon response to rhinovirus infection during pregnancy and asthma."
          ],
          [
           "Negative attitude of highly educated parents and health care workers towards future vaccinations in the Dutch childhood vaccination program."
          ],
          [
           "Respiratory disease in pregnancy."
          ],
          [
           "Outbreak of pandemic influenza A (H1N1-2009) in Singapore, May to September 2009."
          ],
          [
           "Influenza vaccination in patients with asthma: effect on the frequency of upper respiratory tract infections and exacerbations."
          ],
          [
           "Respiratory viral infections in adults."
          ],
          [
           "Pneumonia in pregnancy."
          ],
          [
           "Influenza vaccine in patients with asthma."
          ],
          [
           "2009 H1N1 Influenza: A Twenty-First Century Pandemic With Roots in the Early Twentieth Century"
          ],
          [
           "A Prospective Study of Respiratory Viral Infection in Pregnant Women With and Without Asthma"
          ],
          [
           "Respiratory disease in pregnancy"
          ],
          [
           "Respiratory disease in pregnancy"
          ],
          [
           "Healthcare workers and H1N1 vaccination: Does having a chronic disease make a difference?"
          ],
          [
           "Influenza vaccination in patients with asthma: effect on peak expiratory flow, asthma symptoms and use of medication"
          ],
          [
           "Impacts of allergic airway inflammation on lung pathology in a mouse model of influenza A virus infection"
          ],
          [
           "What is the role of virus vaccination in patients with asthma?"
          ],
          [
           "Antimicrobial Therapy in Childhood Asthma and Wheezing"
          ],
          [
           "Treatment of Community-Acquired Lower Respiratory Tract Infections during Pregnancy"
          ],
          [
           "In young children, persistent wheezing is associated with bronchial bacterial infection: a retrospective analysis"
          ],
          [
           "Influenza A(H1N1)pdm09-related pneumonia and other complications"
          ],
          [
           "Conventional Influenza Vaccination Is Not Associated with Complications in Working-Age Patients with Asthma or Chronic Obstructive Pulmonary Disease"
          ]
         ],
         "hovertemplate": "labels=3<br>pca_1=%{x}<br>pca_2=%{y}<br>title=%{customdata[0]}<extra></extra>",
         "legendgroup": "3",
         "marker": {
          "color": "#19d3f3",
          "symbol": "circle"
         },
         "mode": "markers",
         "name": "3",
         "showlegend": true,
         "type": "scattergl",
         "x": [
          0.11794570947278958,
          0.08392807850039534,
          0.12234243164544027,
          0.13871135908574722,
          -0.06641216259538031,
          0.05751924294324863,
          -0.053179064727043625,
          -0.024619111685293953,
          -0.0360657850199262,
          -0.09404372982844877,
          0.12418325815650443,
          0.15519698087407602,
          0.0676021142147997,
          0.006588269784853638,
          0.0030463132644671896,
          0.037269506509914146,
          0.029738090837471313,
          -0.08231926046181098,
          -0.06548907429673426,
          -0.06036604742496126,
          0.007418348282060732,
          -0.030944423030446953,
          0.00842504116622737,
          0.02804183433292884,
          0.0518392026262442,
          0.03716482198210927,
          0.09023391166377222,
          0.03470655584335252
         ],
         "xaxis": "x",
         "y": [
          -0.18436091801350668,
          -0.19579243744272187,
          -0.07871634293011272,
          -0.04690589130399091,
          -0.04127516167789794,
          -0.03912603621307613,
          -0.030900616969121112,
          -0.013937088618669454,
          -0.1578513386650824,
          -0.02104220239581818,
          -0.12442961298114585,
          -0.06499389675846291,
          0.025801860555024127,
          -0.07601920846860731,
          -0.04649950168380782,
          -0.12582157218805187,
          -0.04867403679029641,
          -0.07655066847584617,
          -0.05817316588950273,
          -0.16721382612266777,
          -0.1365323149162137,
          0.12570463191491976,
          0.0365814352538681,
          0.0529795482128398,
          -0.06750662658495658,
          -0.07299972839610236,
          -0.002735856610767172,
          -0.1838729954789122
         ],
         "yaxis": "y"
        },
        {
         "customdata": [
          [
           "Clinical use of exhaled volatile organic compounds in pulmonary diseases: a systematic review"
          ],
          [
           "The role of helium gas in medicine"
          ],
          [
           "Asthma in the elderly: what we know and what we have yet to know"
          ],
          [
           "3D Structure Prediction of Human β1-Adrenergic Receptor via Threading-Based Homology Modeling for Implications in Structure-Based Drug Designing"
          ],
          [
           "Epidemiology of asthma in India"
          ],
          [
           "Special Features of Asthma in Children"
          ],
          [
           "Infant lung function testing in the intensive care unit"
          ],
          [
           "Inhaled and exhaled nitric oxide"
          ],
          [
           "An Approach to the Management of High Risk Asthmatic Patients"
          ],
          [
           "Nucleic Acid-Based Therapeutics for Pulmonary Diseases"
          ],
          [
           "Eosinophilia-myalgia syndrome induced by excessive L-tryptophan intake from cashew nuts"
          ],
          [
           "Aetiology of asthma: how public health and molecular medicine work together"
          ],
          [
           "Problems and prospects of developing effective therapy for common cold viruses"
          ],
          [
           "Microsensor Arrays for Saliva Diagnostics"
          ],
          [
           "Assessing allergenic fungi in house dust by floor wipe sampling and quantitative PCR"
          ],
          [
           "Targeted therapy in chronic diseases using nanomaterial-based drug delivery vehicles"
          ],
          [
           "Viral Disease, Air Pollutants, Nanoparticles, and Asthma"
          ],
          [
           "The Pediatric Asthmatic"
          ],
          [
           "Asthma"
          ],
          [
           "Gold salts, D-penicillamine and allopurinol"
          ],
          [
           "1.2 The Health System"
          ],
          [
           "Preparation Without Panic: A Comprehensive Social Marketing Approach to Planning for a Potential Pandemic"
          ],
          [
           "Air Purification Technology by Means of Cluster Ions Generated by Plasma Discharge at Atmospheric Pressure"
          ],
          [
           "Viruses Present Indoors and Analyses Approaches"
          ],
          [
           "Epidemiology of Respiratory Allergies and Asthma"
          ],
          [
           "Viral Upper Respiratory Tract Infections"
          ],
          [
           "The Clinical Definitions of Asthma"
          ],
          [
           "Primary Immunodeficiencies"
          ],
          [
           "Eosinophilic Pneumonia"
          ],
          [
           "Return to Play in Asthma and Pulmonary Conditions"
          ],
          [
           "Asthma and COPD"
          ],
          [
           "Microbial Agents in the Indoor Environment: Associations with Health"
          ],
          [
           "Pulmonology"
          ],
          [
           "Sick Building Syndrome and Other Building-Related Illnesses"
          ],
          [
           "Severe Asthma"
          ],
          [
           "EARS"
          ],
          [
           "A review of palivizumab and emerging therapies for respiratory syncytial virus."
          ],
          [
           "Morbidity and mortality in homeless individuals, prisoners, sex workers, and individuals with substance use disorders in high-income countries: a systematic review and meta-analysis."
          ],
          [
           "Readability and comprehensibility of over-the-counter medication labels."
          ],
          [
           "Do replicable profiles of multimorbidity exist? Systematic review and synthesis."
          ],
          [
           "Investigating the effectiveness of school health services delivered by a health provider: A systematic review of systematic reviews."
          ],
          [
           "Inadequate assessment of adherence to maintenance medication leads to loss of power and increased costs in trials of severe asthma therapy: results from a systematic literature review and modelling study."
          ],
          [
           "Oral steroid sparing effect of high dose inhaled corticosteroids in asthma."
          ],
          [
           "How are behavioural interventions delivered to children (5-11 years old): a systematic mapping review."
          ],
          [
           "A systematic evidence synthesis of interventions to engage children and young people in consultations about their long-term conditions."
          ],
          [
           "Chemoattractant receptor-homologous molecule expressed on Th2 cells (CRTH2) antagonists in asthma: a systematic review and meta-analysis protocol."
          ],
          [
           "Management of common cold symptoms with over-the-counter medications: clearing the confusion."
          ],
          [
           "Systematic review of clinical prediction models to support the diagnosis of asthma in primary care."
          ],
          [
           "Advances in interventional pulmonology."
          ],
          [
           "Respiratory care year in review 2012: Asthma and sleep-disordered breathing."
          ],
          [
           "Pediatric chronic rhinosinusitis."
          ],
          [
           "Non-smoking-related chronic obstructive pulmonary disease: a neglected entity?"
          ],
          [
           "Management of severe acute asthma in the emergency department."
          ],
          [
           "Validated methods to identify patients with asthma-COPD overlap in healthcare databases: a systematic review protocol."
          ],
          [
           "Paediatrics in Barcelona."
          ],
          [
           "Pulmonary drug delivery system: newer patents."
          ],
          [
           "Clinical prediction models to support the diagnosis of asthma in primary care: a systematic review protocol."
          ],
          [
           "Respiratory care year in review 2010: part 1. asthma, COPD, pulmonary function testing, ventilator-associated pneumonia."
          ],
          [
           "Long-acting muscarinic antagonists (LAMA) added to inhaled corticosteroids (ICS) versus higher dose ICS for adults with asthma."
          ],
          [
           "Lessons learned from variation in response to therapy in clinical trials."
          ],
          [
           "Evaluation of the Environmental Scoring System in Multiple Child Asthma Intervention Programs in Boston, Massachusetts."
          ],
          [
           "Long-acting muscarinic antagonists (LAMA) added to inhaled corticosteroids (ICS) versus addition of long-acting beta2-agonists (LABA) for adults with asthma."
          ],
          [
           "Pharmacological aspects and potential new clinical applications of ketamine: reevaluation of an old drug."
          ],
          [
           "Adverse reactions associated with respirator fit testing of healthcare workers in British Columbia, Canada: a review of compensation claim cases."
          ],
          [
           "Parent experiences with a nurse-supervised community health worker asthma home-visiting program."
          ],
          [
           "Investigating the effectiveness of school health services delivered by a health provider: a systematic review of systematic reviews"
          ],
          [
           "Self-reported asthma among high school students--United States, 2003."
          ],
          [
           "Trends in specific morbidity prevalence in male adolescents in Israel over a 50 year period and the impact of recent immigration."
          ],
          [
           "Impact of the Singapore National Asthma Program (SNAP) on preventor-reliever prescription ratio in polyclinics."
          ],
          [
           "Air conditioning systems as non-infectious health hazards inducing acute respiratory symptoms."
          ],
          [
           "Health effects of subchronic exposure to environmental levels of hardwood smoke."
          ],
          [
           "Indoor air quality in hospitality venues before and after implementation of a clean indoor air law--Western New York, 2003."
          ],
          [
           "Meeting highlights of the European Respiratory Society annual congress 02-06 September 2006, Munich, Germany."
          ],
          [
           "Asthma fatalities at the Emergency Department of the Singapore General Hospital."
          ],
          [
           "Asthma prevalence and control characteristics by race/ethnicity--United States, 2002."
          ],
          [
           "Self-reported asthma prevalence and control among adults--United States, 2001."
          ],
          [
           "Dry powder inhalers for pulmonary drug delivery."
          ],
          [
           "Respiratory medicine"
          ],
          [
           "Biology and Diseases of Guinea Pigs"
          ],
          [
           "Lower respiratory tract infections in cats Reaching beyond empirical therapy"
          ],
          [
           "Steroid responsiveness and wheezing phenotypes"
          ],
          [
           "Infectious Chronic Rhinosinusitis"
          ],
          [
           "Therapeutic Applications of Monoclonal Antibodies"
          ],
          [
           "Rhinosinusitis: Establishing definitions for clinical research and patient care"
          ],
          [
           "Environment and Health in Children Day Care Centres (ENVIRH) – Study rationale and protocol()"
          ],
          [
           "Determinants Of Oral corticosteroid Responsiveness in Wheezing Asthmatic Youth (DOORWAY): protocol for a prospective multicentre cohort study of children with acute moderate-to-severe asthma exacerbations"
          ],
          [
           "Identifying Asthma Triggers"
          ],
          [
           "Pediatric pulmonology year in review 2016: Part 2"
          ],
          [
           "Asthma in the elderly: Current understanding and future research needs—a report of a National Institute on Aging (NIA) workshop"
          ],
          [
           "Épidémiologie de l'asthme grave"
          ],
          [
           "Common Respiratory Diseases"
          ],
          [
           "Control of asthma triggers in indoor air with air cleaners: a modeling analysis"
          ],
          [
           "Pulmonary Diseases and Corticosteroids"
          ],
          [
           "The history of respiratory disease management"
          ],
          [
           "Chapter 25 Therapeutic use of monoclonal antibodies: general aspects and challenges for drug delivery"
          ],
          [
           "New aspects of p38 mitogen activated protein kinase (MAPK) biology in lung inflammation"
          ],
          [
           "Rhinosinusitis: Establishing definitions for clinical research and patient care"
          ],
          [
           "Prevalence of chronic comorbidities in dengue fever and West Nile virus: A systematic review and meta-analysis"
          ],
          [
           "Diagnosis of Allergy and Asthma in Childhood"
          ],
          [
           "Chapter 23 Public and Population Health Genomics"
          ],
          [
           "Airborne rhinovirus detection and effect of ultraviolet irradiation on detection by a semi-nested RT-PCR assay"
          ],
          [
           "Understanding the September asthma epidemic"
          ],
          [
           "Chronic obstructive pulmonary disease subpopulations and phenotyping"
          ],
          [
           "Environment and Health in Children Day Care Centres (ENVIRH) – Study rationale and protocol()"
          ],
          [
           "Asthma phenotypes"
          ],
          [
           "Pulmonary diseases induced by ambient ultrafine and engineered nanoparticles in twenty-first century"
          ],
          [
           "Prevalence of chronic comorbidities in chikungunya: A systematic review and meta-analysis"
          ],
          [
           "Novel translational approaches to the search for precision therapies for acute respiratory distress syndrome"
          ],
          [
           "Un corps étranger hors du commun. À propos d'un cas d'emphysème sous-cutané lors d'une crise d'asthme"
          ],
          [
           "Environmental triggers and avoidance in the management of asthma"
          ],
          [
           "Role of macrolide therapy in chronic obstructive pulmonary disease"
          ],
          [
           "Genotype tailored treatment of mild symptomatic acid reflux in children with uncontrolled asthma (GenARA): Rationale and methods"
          ],
          [
           "Common Pediatric Respiratory Emergencies"
          ],
          [
           "The impact of cold on the respiratory tract and its consequences to respiratory health"
          ],
          [
           "Barriers and supports to implementation of MDI/spacer use in nine Canadian pediatric emergency departments: a qualitative study"
          ],
          [
           "Comparison of the Effects of Air Pollution on Outpatient and Inpatient Visits for Asthma: A Population-Based Study in Taiwan"
          ],
          [
           "Asthma in Children and Adolescents: A Comprehensive Approach to Diagnosis and Management"
          ],
          [
           "Pelargonium sidoides extract EPs 7630: a review of its clinical efficacy and safety for treating acute respiratory tract infections in children"
          ],
          [
           "Genomic Analyses of Human European Diversity at the Southwestern Edge: Isolation, African Influence and Disease Associations in the Canary Islands"
          ],
          [
           "Indoor air quality and human health: Truth vs mass hysteria"
          ],
          [
           "Essentials of Pulmonology"
          ],
          [
           "Unmet Needs in Respiratory Diseases: “You Can’t Know Where You Are Going Until You Know Where You Have Been”—Anonymous"
          ],
          [
           "Redesigning a large school-based clinical trial in response to changes in community practice"
          ],
          [
           "Asthma in children: mapping the literature by bibliometric analysis"
          ],
          [
           "Reducing burden of disease from residential indoor air exposures in Europe (HEALTHVENT project)"
          ],
          [
           "Pattern of patients and diseases during mass transit: The day of Arafat experience"
          ]
         ],
         "hovertemplate": "labels=2<br>pca_1=%{x}<br>pca_2=%{y}<br>title=%{customdata[0]}<extra></extra>",
         "legendgroup": "2",
         "marker": {
          "color": "#FF6692",
          "symbol": "circle"
         },
         "mode": "markers",
         "name": "2",
         "showlegend": true,
         "type": "scattergl",
         "x": [
          -0.10087304220020091,
          -0.11827595353561202,
          -0.08141967404650213,
          -0.15506666233575161,
          0.09320380525745478,
          -0.1011233843826675,
          -0.06998987677903529,
          -0.17377305068494944,
          -0.07244498850194017,
          -0.18702150448000568,
          -0.09306181795035695,
          -0.16004623078079905,
          -0.1262076547074257,
          -0.10016735951653406,
          -0.029418826129006842,
          -0.19717535495906843,
          -0.08080113831763308,
          -0.09060914321927048,
          -0.06209807339335742,
          -0.1106324242441612,
          -0.10644406469611056,
          -0.12961563812137292,
          -0.10612748073657735,
          -0.04309387389997022,
          -0.0807654682936748,
          -0.012825843226411535,
          -0.04027591610309575,
          -0.05882057563671121,
          -0.08665592125590887,
          -0.1366270487096856,
          -0.0430270274251729,
          -0.09695918485885353,
          -0.08502454739858485,
          -0.0865622108646022,
          0.043130370186246325,
          -0.10210110850795973,
          -0.06771635241506055,
          -0.08492083413081057,
          -0.09143871560284024,
          -0.08529557413641048,
          -0.1160499221575327,
          -0.06585330352603368,
          -0.09253807034388348,
          -0.033129295294909204,
          -0.04303892080357068,
          -0.10952329255030734,
          -0.07954581792106158,
          -0.05337220023141748,
          -0.1719073345351305,
          -0.061070631947504256,
          -0.08951744495034253,
          -0.10261954654658793,
          -0.09464593084756304,
          -0.0656408880015556,
          -0.0403540127109545,
          -0.15067734608441877,
          -0.05895780070103721,
          -0.11422528575711588,
          -0.07909302683897246,
          -0.11526183209651994,
          -0.049663663314244086,
          -0.05129285448195099,
          -0.13430851010588032,
          -0.021520854875822133,
          -0.07070624600006489,
          -0.1137578681818848,
          -0.0385279901873777,
          0.0018383698412734292,
          -0.06535602102318243,
          -0.1321032175376276,
          -0.14073859669376648,
          -0.0825131759087541,
          -0.14526297999229879,
          -0.027780277509096507,
          -0.04283663680374962,
          -0.024919110143290932,
          -0.18323493785432163,
          -0.06929556876377768,
          -0.13124734280130634,
          -0.061662811712548345,
          -0.048250204209112184,
          -0.09700514733893296,
          -0.12853756022592908,
          -0.1069147191642502,
          -0.02624362557467197,
          0.01037484228953037,
          -0.09646510679370572,
          -0.0909265276394434,
          -0.04237986234139796,
          -0.018697073807672795,
          -0.11451518668750049,
          -0.10605339902075851,
          -0.1415047614238322,
          -0.18983395619120816,
          -0.1769757501144032,
          -0.18641380198665974,
          -0.10696561840391382,
          -0.041658829256232544,
          -0.03666908476274491,
          -0.1416331142441814,
          0.03443706163005433,
          0.034628763813942844,
          -0.17482943493262348,
          -0.02624362557467197,
          -0.0926345735348082,
          -0.1644335475783961,
          -0.032233002138034914,
          -0.13597132311996973,
          -0.055419834672846995,
          -0.07377356895731135,
          -0.1516482029748002,
          -0.016658457816555193,
          0.0321519638756125,
          -0.12199358632310289,
          -0.06020476533084466,
          -0.05860980038302294,
          -0.05346985748082843,
          -0.03371670587881134,
          -0.1088280321587553,
          -0.13376101233979423,
          -0.11592064022471447,
          -0.09026680710374946,
          -0.050889285738370364,
          -0.03832372845207216,
          -0.1201338396369175,
          -0.023912245366748366
         ],
         "xaxis": "x",
         "y": [
          -0.09534442224612114,
          -0.06228135540945733,
          -0.03478148251961946,
          -0.08121262947977023,
          -0.12690751844463893,
          -0.0028559327573169802,
          -0.06164152678531301,
          -0.03785752916528215,
          -0.07911683037690892,
          -0.07534277817813699,
          -0.10024074867884367,
          0.010202897449204253,
          -0.008342085566859156,
          -0.08774153178251086,
          -0.08263473271839278,
          -0.0634919990343928,
          -0.04016107300619325,
          -0.0530463195206788,
          -0.09093224496999011,
          -0.13045068442356386,
          -0.1277034415214159,
          -0.07286133285706632,
          -0.07954606952505038,
          0.0028720810855276564,
          -0.10853369693256064,
          0.04954331010860624,
          -0.122622187544567,
          -0.06178067124862416,
          -0.0890567976915626,
          -0.08144984415726507,
          0.03769770945702099,
          -0.07336160781771238,
          -0.0385708407226846,
          -0.1018650884822701,
          -0.10880428489132773,
          -0.08525396280962677,
          -0.006851151284187334,
          -0.1529235677875622,
          -0.1551882905910579,
          -0.13953334081890373,
          -0.13438532905069256,
          -0.16640518016073796,
          -0.17629945073889067,
          -0.137213601235064,
          -0.12053415598169011,
          -0.10255322199944118,
          -0.09902775482649685,
          -0.10986713076691618,
          -0.04892910997829415,
          -0.018545814355324926,
          -0.06615343148117725,
          -0.022915923975039606,
          0.011335274280595511,
          -0.16431842496170052,
          -0.046919846281891976,
          -0.0698466537089316,
          -0.10155644050763059,
          -0.05698878417218747,
          -0.1651291360917558,
          -0.07520107247660028,
          -0.1352898690603044,
          -0.14306332681726705,
          -0.09156762651157808,
          -0.10096179287203212,
          -0.16862573849253987,
          -0.13850609415707313,
          -0.0732466661247767,
          -0.1281931400771168,
          -0.15160369401396243,
          -0.1112042200205784,
          -0.11811833644351874,
          -0.11423409695333593,
          -0.08588739692740549,
          -0.10884891834825623,
          -0.10226157375328851,
          -0.11308028289281792,
          -0.1080382533327472,
          0.0790114782043676,
          -0.0279010934042849,
          -0.003828720584312259,
          -0.03545636540030064,
          -0.05010393587814264,
          -0.02757151079955153,
          -0.1132843764319907,
          -0.12241075114647165,
          -0.09138771528579305,
          -0.012591932947117466,
          -0.07037484154346078,
          -0.03867647201235178,
          -0.0333959005602784,
          -0.01724739386254554,
          -0.07347284126644164,
          -0.09872323954854463,
          -0.08380238009859772,
          -0.06441397069587787,
          -0.0011361646099572794,
          -0.11284570838808802,
          -0.07718891120521383,
          -0.021327409700332096,
          -0.1175324718438399,
          -0.017766586311132926,
          -0.06811001440367018,
          -0.06803196396086207,
          -0.12241075114647165,
          -0.007842604359569212,
          -0.04442339259539377,
          -0.12645135607903202,
          -0.07041906469250966,
          -0.0852235186683385,
          0.00645151481658734,
          -0.0053754249748052445,
          -0.12340524530980523,
          -0.044863856879652525,
          -0.04803805121399286,
          -0.12038811220255985,
          -0.15458902670975572,
          -0.05237137616885625,
          -0.12016975991074383,
          -0.09248903702509002,
          -0.07595256047781543,
          -0.09505808430351878,
          -0.010407517079479393,
          -0.08280278224646463,
          -0.11690755640516157,
          -0.13531774778130964,
          -0.19280301092641403
         ],
         "yaxis": "y"
        },
        {
         "customdata": [
          [
           "Baicalein Reduces Airway Injury in Allergen and IL-13 Induced Airway Inflammation"
          ],
          [
           "Gene Silencing of SOCS3 by siRNA Intranasal Delivery Inhibits Asthma Phenotype in Mice"
          ],
          [
           "Euphorbia tirucalli modulates gene expression in larynx squamous cell carcinoma"
          ],
          [
           "Interferon-β deficiency at asthma exacerbation promotes MLKL mediated necroptosis"
          ],
          [
           "Potential mechanism and drug candidates for sepsis-induced acute lung injury"
          ],
          [
           "Oral edible plant vaccine containing hypoallergen of American cockroach major allergen Per a 2 prevents roach-allergic asthma in a murine model"
          ],
          [
           "Clara Cell 10 kDa Protein Alleviates Murine Hepatitis Virus Strain 3-Induced Fulminant Hepatitis by Inhibiting Fibrinogen-Like Protein 2 Expression"
          ],
          [
           "PKC promotes proliferation of airway smooth muscle cells by regulating cyclinD1 expression in asthmatic rats"
          ],
          [
           "Adhesion molecules in lung diseases"
          ],
          [
           "Selectin Antagonists: Therapeutic Potential in Asthma and COPD"
          ],
          [
           "Levels of IL-8 and myeloperoxidase in the lungs of pneumonia patients"
          ],
          [
           "Delivery Systems for Pulmonary Gene Therapy"
          ],
          [
           "Animal Models of Airway Diseases"
          ],
          [
           "Mechanopharmacology and Synergistic Relaxation of Airway Smooth Muscle"
          ],
          [
           "Acute Lung Injury: The Injured Lung Endothelium, Therapeutic Strategies for Barrier Protection, and Vascular Biomarkers"
          ],
          [
           "Ademhaling"
          ],
          [
           "4 Respiratoire spoedgevallen"
          ],
          [
           "Novel Markers for Alternative Activation of Macrophages: Macrophage Galactose‐Type C‐Type Lectins 1 and 2"
          ],
          [
           "Dual Role of Th17 Cytokines, IL-17A,F, and IL-22 in Allergic Asthma"
          ],
          [
           "Differential expression of nuclear factor-kappaB mediates increased pulmonary expression of tumor necrosis factor-alpha and virus-induced asthma."
          ],
          [
           "Small interfering RNAs targeted to interleukin-4 and respiratory syncytial virus reduce airway inflammation in a mouse model of virus-induced asthma exacerbation."
          ],
          [
           "The expression of proline-specific enzymes in the human lung."
          ],
          [
           "Immunological effects among workers who handle engineered nanoparticles."
          ],
          [
           "Kallikrein-related peptidases in lung diseases."
          ],
          [
           "Matrix metalloproteinase 12 silencing: a therapeutic approach to treat pathological lung tissue remodeling?"
          ],
          [
           "Proteomics of lung cell biology and pulmonary disease."
          ],
          [
           "Respiratory effects of sulfur mustard exposure, similarities and differences with asthma and COPD."
          ],
          [
           "Identification of trans Protein QTL for Secreted Airway Mucins in Mice and a Causal Role for Bpifb1."
          ],
          [
           "Inhibition of angiotensin II-induced contraction of human airway smooth muscle cells by angiotensin-(1-7) via downregulation of the RhoA/ROCK2 signaling pathway."
          ],
          [
           "Synergy of IL-27 and TNF-α in regulating CXCL10 expression in lung fibroblasts."
          ],
          [
           "A role for membrane-bound CD147 in NOD2-mediated recognition of bacterial cytoinvasion."
          ],
          [
           "Expression, localisation and functional implications of the transporter protein PEPT2 in the upper respiratory tract."
          ],
          [
           "IL-27 targets Foxp3+ Tregs to mediate antiinflammatory functions during experimental allergic airway inflammation."
          ],
          [
           "Membrane-bound carboxypeptidase E facilitates the entry of eosinophil cationic protein into neuroendocrine cells."
          ],
          [
           "The first autopsy case of pandemic influenza (A/H1N1pdm) virus infection in Japan: detection of a high copy number of the virus in type II alveolar epithelial cells by pathological and virological examination."
          ],
          [
           "TLR3- and Th2 cytokine-dependent production of thymic stromal lymphopoietin in human airway epithelial cells."
          ],
          [
           "Chemokine-like factor 1, a novel cytokine, contributes to airway damage, remodeling and pulmonary fibrosis."
          ],
          [
           "The TLR4 Agonist Immunomax Affects the Phenotype of Mouse Lung Macrophages during Respiratory Syncytial Virus Infection"
          ],
          [
           "The Future of Antisense Oligonucleotides in the Treatment of Respiratory Diseases"
          ],
          [
           "Molecular profiling of the human nasal epithelium: A proteomics approach"
          ],
          [
           "The ADAM metalloproteinases"
          ],
          [
           "Dudleya brittonii extract promotes survival rate and M2-like metabolic change in porcine 3D4/31 alveolar macrophages"
          ],
          [
           "Neonates with reduced neonatal lung function have systemic low-grade inflammation"
          ],
          [
           "Poly(amidoamine) Dendrimer Nanocarriers and Their Aerosol Formulations for siRNA Delivery to the Lung Epithelium"
          ],
          [
           "PROTEINASE INHIBITORS | Cystatins"
          ],
          [
           "Virtual screening for finding natural inhibitor against cathepsin-L for SARS therapy"
          ],
          [
           "Molecular Characterization of Transcriptome-wide Interactions between Highly Pathogenic Porcine Reproductive and Respiratory Syndrome Virus and Porcine Alveolar Macrophages in vivo"
          ],
          [
           "Alveolar macrophages in allergic asthma: An expression signature characterized by heat shock protein pathways"
          ],
          [
           "Macrophage Polarization in Inflammatory Diseases"
          ],
          [
           "Macrophages: Their role, activation and polarization in pulmonary diseases"
          ],
          [
           "A novel conserved family of Macro-like domains—putative new players in ADP-ribosylation signaling"
          ],
          [
           "Combined fluticasone propionate and salmeterol reduces RSV infection more effectively than either of them alone in allergen-sensitized mice"
          ],
          [
           "Cortex phellodendri Extract Relaxes Airway Smooth Muscle"
          ]
         ],
         "hovertemplate": "labels=17<br>pca_1=%{x}<br>pca_2=%{y}<br>title=%{customdata[0]}<extra></extra>",
         "legendgroup": "17",
         "marker": {
          "color": "#B6E880",
          "symbol": "circle"
         },
         "mode": "markers",
         "name": "17",
         "showlegend": true,
         "type": "scattergl",
         "x": [
          -0.20092674921492834,
          -0.21867546146673006,
          -0.1954757530014958,
          -0.15927291029585472,
          -0.16666363510659402,
          -0.1189489875389228,
          -0.17419481531605768,
          -0.1492698085966484,
          -0.2475779939333653,
          -0.24050325493976266,
          -0.10423757591958777,
          -0.2406417506766193,
          -0.22256920200886762,
          -0.12179938900078788,
          -0.2199224027974621,
          -0.10005979894487951,
          -0.10084813592011178,
          -0.19333804277412622,
          -0.2515775719858323,
          -0.13958504666054414,
          -0.09944336511990343,
          -0.2616451194737736,
          -0.11498812515769075,
          -0.1946904328936837,
          -0.24379632318243427,
          -0.2091432064747845,
          -0.2526152270802877,
          -0.20517162580545306,
          -0.15616816572324588,
          -0.1763306247030568,
          -0.19383308433171703,
          -0.1805918868073441,
          -0.18450842537785733,
          -0.2309422682942966,
          -0.05658457676460188,
          -0.14582259692772603,
          -0.2106106372740829,
          -0.1239229586741406,
          -0.22522767088225507,
          -0.16659607043299474,
          -0.21870814449655746,
          -0.2203713754753813,
          -0.03562624693389571,
          -0.20967358556768817,
          -0.22132624530751066,
          -0.14957148655888883,
          -0.1331846616731677,
          -0.18370922577388782,
          -0.18833471580572722,
          -0.23291645000553432,
          -0.19688642968318226,
          -0.06681566670988712,
          -0.1297529033598934
         ],
         "xaxis": "x",
         "y": [
          -0.03800940308527376,
          -0.018175272225605377,
          -0.08967022448457246,
          0.020155633637995253,
          -0.0781917938175036,
          -0.06089534186632736,
          -0.021599335422338033,
          -0.10256576881932089,
          0.02614813728541329,
          0.028326340999222946,
          -0.0649870856673897,
          -0.041742307517876776,
          0.022863523894968634,
          -0.1084559926910543,
          -0.05867874541068027,
          -0.1253656858937717,
          -0.12346433660940098,
          -0.05181893775443857,
          0.017373784769702534,
          0.04440441798324317,
          0.036743066510397965,
          -6.83198439212114e-05,
          -0.1309711683787021,
          0.056043859787430136,
          0.01749204385841207,
          -0.01879477744707381,
          0.02326922572796147,
          -0.022490639198667596,
          -0.07758941824987348,
          -0.0512803272342245,
          0.014574417711452299,
          -0.015337104461344245,
          -0.009059134497823628,
          -0.03323641205851371,
          -0.02969824296398758,
          -0.037072294004935384,
          -0.02679935080926152,
          0.043419727928188406,
          0.03577100066227639,
          -0.0687720004114845,
          -0.016754581068745,
          -0.06640675590655762,
          -0.11173802948021752,
          -0.09567637434535298,
          0.012110509059968648,
          -0.08916347654727684,
          0.05634146646512643,
          -0.04780693887108618,
          -0.02284540443398919,
          -0.013984638014453314,
          -0.01875563681363616,
          -0.03696987685252069,
          -0.10341849160829983
         ],
         "yaxis": "y"
        },
        {
         "customdata": [
          [
           "Proposals for the classification of human rhinovirus species A, B and C into genotypically assigned types"
          ],
          [
           "The role of rhinovirus infections in the development of early childhood asthma."
          ],
          [
           "Rhinovirus-induced bronchiolitis and asthma development."
          ],
          [
           "Association between human rhinovirus C and severity of acute asthma in children."
          ],
          [
           "Impact of Human Rhinovirus Types and Viral Load on the Severity of Illness in Hospitalized Children With Lower Respiratory Tract Infections."
          ],
          [
           "Clinical spectrum of human rhinovirus infections in hospitalized Hong Kong children."
          ],
          [
           "Human rhinoviruses."
          ],
          [
           "Phosphatidylinositol 4-kinase III beta is essential for replication of human rhinovirus and its inhibition causes a lethal phenotype in vivo."
          ],
          [
           "Rhinoviral infection and asthma: the detection and management of rhinoviruses by airway epithelial cells."
          ],
          [
           "Clinical features and complete genome characterization of a distinct human rhinovirus (HRV) genetic cluster, probably representing a previously undetected HRV species, HRV-C, associated with acute respiratory illness in children."
          ],
          [
           "Asthma exacerbations in children associated with rhinovirus but not human metapneumovirus infection."
          ],
          [
           "Rhinoviruses significantly affect day-to-day respiratory symptoms of children with asthma"
          ],
          [
           "A novel group of rhinoviruses is associated with asthma hospitalizations"
          ],
          [
           "Viruses and atypical bacteria associated with asthma exacerbations in hospitalized children"
          ],
          [
           "All Known Human Rhinovirus Species Are Present in Sputum Specimens of Military Recruits During Respiratory Infection"
          ],
          [
           "Rhinovirus-Infected Epithelial Cells Produce More IL-8 and RANTES Compared With Other Respiratory Viruses"
          ],
          [
           "High prevalence of human rhinovirus C infection in Thai children with acute lower respiratory tract disease"
          ],
          [
           "Utility of animal and in vivo experimental infection of humans with rhinoviruses in the development of therapeutic agents for viral exacerbations of asthma and chronic obstructive pulmonary disease"
          ],
          [
           "Biological characteristics and propagation of human rhinovirus-C in differentiated sinus epithelial cells"
          ],
          [
           "Interactions of Respiratory Viruses and the Nasal Microbiota during the First Year of Life in Healthy Infants"
          ],
          [
           "Enteroviruses as major cause of microbiologically unexplained acute respiratory tract infections in hospitalized pediatric patients"
          ],
          [
           "Serotype and genetic diversity of human rhinovirus strains that circulated in Kenya in 2008"
          ],
          [
           "Molecular detection of respiratory pathogens and typing of human rhinovirus of adults hospitalized for exacerbation of asthma and chronic obstructive pulmonary disease"
          ],
          [
           "Presence of rhinovirus in the respiratory tract of adolescents and young adults with asthma without symptoms of infection"
          ],
          [
           "Novel Human Rhinoviruses and Exacerbation of Asthma in Children"
          ],
          [
           "Community-Wide, Contemporaneous Circulation of a Broad Spectrum of Human Rhinoviruses in Healthy Australian Preschool-Aged Children During a 12-Month Period"
          ],
          [
           "Updates in the Relationship Between Human Rhinovirus and Asthma"
          ],
          [
           "The human rhinovirus: human‐pathological impact, mechanisms of antirhinoviral agents, and strategies for their discovery"
          ],
          [
           "Human rhinovirus C: Age, season, and lower respiratory illness over the past 3 decades"
          ],
          [
           "Host factors and viral factors associated with severity of human rhinovirus infant respiratory illness"
          ],
          [
           "Rhinovirus and the lower respiratory tract"
          ],
          [
           "Rhinoviruses"
          ],
          [
           "Molecular characterization and distinguishing features of a novel human rhinovirus (HRV) C, HRVC-QCE, detected in children with fever, cough and wheeze during 2003"
          ],
          [
           "Molecular Epidemiology of Human Rhinovirus in Children with Acute Respiratory Diseases in Chongqing, China"
          ],
          [
           "Human rhinovirus C: a newly discovered human rhinovirus species"
          ],
          [
           "Detection and characterization of respiratory viruses causing acute respiratory illness and asthma exacerbation in children during three different seasons (2011–2014) in Mexico City"
          ]
         ],
         "hovertemplate": "labels=11<br>pca_1=%{x}<br>pca_2=%{y}<br>title=%{customdata[0]}<extra></extra>",
         "legendgroup": "11",
         "marker": {
          "color": "#FF97FF",
          "symbol": "circle"
         },
         "mode": "markers",
         "name": "11",
         "showlegend": true,
         "type": "scattergl",
         "x": [
          0.006925533583085619,
          0.12984585733180315,
          0.20515071618377026,
          0.2748292961765644,
          0.2787082686269122,
          0.270803636107089,
          0.06550453546590856,
          -0.05838266059047424,
          -0.09396585221972349,
          0.11865227919971881,
          0.2306425279240346,
          0.1855434319174854,
          0.21134834055870894,
          0.24163727720213016,
          0.0627395413203837,
          -0.05606162305276627,
          0.22351022060156372,
          -0.0017246513818918192,
          -0.021019441454161982,
          0.061459046394308325,
          0.11591629559446627,
          0.09558349312701582,
          0.13226883858299793,
          0.14868205204512389,
          0.08546432859564355,
          0.11829379459883618,
          0.16989509148919757,
          -0.09731085518167551,
          0.22517185660332145,
          0.18180172094579153,
          0.09693188266289667,
          0.02220975778548747,
          0.197384697337116,
          0.11871089596348258,
          0.09723612654244865,
          0.32751019417738864
         ],
         "xaxis": "x",
         "y": [
          -0.025063761868956043,
          0.19686943785160493,
          0.04166759178140042,
          -0.028420005647338546,
          -0.016246769587072947,
          -0.05884625159851825,
          0.08830651788012639,
          -0.05725940019528963,
          0.22101056521109053,
          -0.0403499320342328,
          -0.05795288684586629,
          -0.030348980263939857,
          -0.12789928514137408,
          -0.10606963193348151,
          -0.04676527032867579,
          0.05391213748119346,
          -0.04292403520705979,
          0.21679551537969138,
          -0.03590538232116451,
          0.10244083119679945,
          -0.10093094075476414,
          -0.05675295262260952,
          0.018272945534304072,
          -0.014804696716874344,
          0.0008009009556745432,
          0.01213342621683585,
          0.12895544304218975,
          0.07777025764920618,
          -0.047907183747451496,
          -0.037694312435874205,
          0.19340813333070916,
          0.10547629459953167,
          -0.06911426826342135,
          -0.03538559329855766,
          -0.01133148121785682,
          0.18594956623828085
         ],
         "yaxis": "y"
        },
        {
         "customdata": [
          [
           "Genome Sequences of Rhinovirus C Isolates from Wisconsin Pediatric Respiratory Studies"
          ],
          [
           "Nasal Cytokine Profiles of Patients Hospitalised with Respiratory Wheeze Associated with Rhinovirus C"
          ],
          [
           "Rhinovirus C, Asthma, and Cell Surface Expression of Virus Receptor CDHR3."
          ],
          [
           "Association of rhinovirus with exacerbations in young children affected by cystic fibrosis: Preliminary data."
          ],
          [
           "Cadherin-related family member 3, a childhood asthma susceptibility gene product, mediates rhinovirus C binding and replication."
          ],
          [
           "Cadherin-related Family Member 3 Genetics and Rhinovirus C Respiratory Illnesses."
          ],
          [
           "Respiratory syncytial virus, human bocavirus and rhinovirus bronchiolitis in infants."
          ],
          [
           "Human Rhinovirus Diversity and Evolution: How Strange the Change from Major to Minor."
          ],
          [
           "The suppression of innate immune response by human rhinovirus C."
          ],
          [
           "Atomic structure of a rhinovirus C, a virus species linked to severe childhood asthma."
          ],
          [
           "Rhinovirus is associated with severe asthma exacerbations and raised nasal interleukin-12."
          ],
          [
           "Rhinoviral infections activate p38MAP-kinases via membrane rafts and RhoA."
          ],
          [
           "Interleukin-11: stimulation in vivo and in vitro by respiratory viruses and induction of airways hyperresponsiveness."
          ],
          [
           "Rhinoviruses as pathogens of the lower respiratory tract."
          ],
          [
           "Épidémiologie de l'infection virale et asthme"
          ],
          [
           "Prevalence of rhinoviruses in young children of an unselected birth cohort from the Netherlands"
          ],
          [
           "Viral bronchiolitis in children: A common condition with few therapeutic options()"
          ],
          [
           "Rhinovirus C targets ciliated airway epithelial cells"
          ],
          [
           "Mechanisms of rhinovirus-induced asthma"
          ],
          [
           "Impact of community respiratory viral infections in urban children with asthma"
          ],
          [
           "Multi‐season analyses of causative pathogens in children hospitalized with asthma exacerbation"
          ],
          [
           "Regional, age and respiratory-secretion-specific prevalence of respiratory viruses associated with asthma exacerbation: a literature review"
          ],
          [
           "Interferon response of the cystic fibrosis bronchial epithelium to major and minor group rhinovirus infection"
          ],
          [
           "Construction of a recombinant rhinovirus accommodating fluorescent marker expression"
          ],
          [
           "Rhinovirus Type in Severe Bronchiolitis and the Development of Asthma"
          ],
          [
           "Systemic T-helper and T-regulatory cell type cytokine responses in rhinovirus vs. respiratory syncytial virus induced early wheezing: an observational study"
          ],
          [
           "Quercetin inhibits rhinovirus replication in vitro and in vivo"
          ],
          [
           "PreDicta chip-based high resolution diagnosis of rhinovirus-induced wheeze"
          ],
          [
           "Rhinovirus-C detection in children presenting with acute respiratory infection to hospital in Brazil"
          ],
          [
           "Eight Year Prospective Study of Adenoviruses Infections in Hospitalized Children. Comparison with Other Respiratory Viruses"
          ]
         ],
         "hovertemplate": "labels=1<br>pca_1=%{x}<br>pca_2=%{y}<br>title=%{customdata[0]}<extra></extra>",
         "legendgroup": "1",
         "marker": {
          "color": "#FECB52",
          "symbol": "circle"
         },
         "mode": "markers",
         "name": "1",
         "showlegend": true,
         "type": "scattergl",
         "x": [
          0.03013769992799704,
          0.13736368564453094,
          -0.0563790819583644,
          0.13643224426153336,
          -0.04381123684237773,
          0.1440385042821533,
          0.21314064795940568,
          -0.029930896350146126,
          -0.09193888359788507,
          -0.04505119956332031,
          0.08527758973527264,
          -0.07731402285587705,
          0.09321538753557995,
          -0.05498880647254496,
          0.2275528997144182,
          0.30503152260983735,
          0.130823268037736,
          -0.14252719336270717,
          -0.05900027376942362,
          0.12813704669615228,
          0.2569447049269806,
          0.16471647255399638,
          -0.08737735684688522,
          -0.12220327040508847,
          0.19297362411785934,
          0.12517849068968503,
          -0.13590880924707702,
          0.04159837214814491,
          0.19206245282356874,
          0.29892099266117195
         ],
         "xaxis": "x",
         "y": [
          -0.040588432891279336,
          0.0014657473570864402,
          -0.011817243841558547,
          0.006696045739401916,
          0.018790596346009443,
          0.0255412510349774,
          -0.05503352444648774,
          0.029301812068707016,
          0.037503348500897885,
          -0.006965551953811667,
          -0.11246722764335496,
          0.04912670000591535,
          0.1864759104388505,
          0.16417933346357272,
          0.09787499439518624,
          0.001331054201505635,
          -0.018071753068055234,
          -0.008853259535250525,
          0.16207968774737153,
          0.043485620837017784,
          0.11692939567825954,
          0.14395913363535076,
          -0.000906669973172014,
          -0.0055980499071360944,
          -0.14637445868056792,
          -0.007847352176596031,
          0.15561180405097452,
          0.08300003084425252,
          -0.03396288892028515,
          0.03166440406871206
         ],
         "yaxis": "y"
        },
        {
         "customdata": [
          [
           "Interferon Gene Expression in Sputum Cells Correlates with the Asthma Index Score During Virus-Induced Exacerbations"
          ],
          [
           "The Importance of Bacterial and Viral Infections Associated with Adult Asthma Exacerbations in Clinical Practice"
          ],
          [
           "Transcriptome networks identify mechanisms of viral and nonviral asthma exacerbations in children"
          ],
          [
           "Asthma exacerbation related to viral infections: An up to date summary"
          ],
          [
           "The Contribution of Respiratory Viruses to Severe Exacerbations of Asthma in Adults"
          ],
          [
           "THE ROLE OF RESPIRATORY VIRUSES IN ACUTE AND CHRONIC ASTHMA"
          ],
          [
           "Time Trends of Th1 and Th2 Cytokines in Induced Sputum of Asthmatic Subjects During Acute Upper Respiratory Viral Infections"
          ],
          [
           "CHILDHOOD ASTHMA IN BRISBANE: EPIDEMIOLOGICAL OBSERVATIONS"
          ],
          [
           "Greater frequency of viral respiratory infections in asthmatic children as compared with their nonasthmatic siblings()"
          ],
          [
           "Asthma and Microbes: A New Paradigm"
          ],
          [
           "The Prevalence of Common Respiratory Viruses in Human Lungs"
          ],
          [
           "Antibiotics"
          ],
          [
           "Infections"
          ],
          [
           "Exacerbation of asthma and airway infection: is the virus the villain?()()"
          ],
          [
           "The role of viral infections in exacerbations of chronic obstructive pulmonary disease and asthma."
          ],
          [
           "[Time trends of Th1 and th2 cytokines in induced sputum of asthmatic subjects during acute upper respiratory viral infections]."
          ],
          [
           "Exhaled breath temperature increases during mild exacerbations in children with virus-induced asthma."
          ],
          [
           "Most commonly isolated viruses in asthma exacerbation and their correlation with eosinophil and total serum immunoglobulin E levels."
          ],
          [
           "Viruses and non-allergen environmental triggers in asthma."
          ],
          [
           "Seasonal and geographic variations in the incidence of asthma exacerbations in the United States."
          ],
          [
           "The exacerbation component of impairment and risk in pediatric asthma."
          ],
          [
           "Impact of viral infection on acute exacerbation of asthma in out-patient clinics: a prospective study."
          ],
          [
           "Evaluation of respiratory viral pathogens in acute asthma exacerbations during childhood."
          ],
          [
           "Allergens and bacteria interaction in the induction of basophil activation: is this the lost ring between allergy and infections in pediatric patients?"
          ],
          [
           "Virus/Allergen Interaction in Asthma Exacerbation."
          ],
          [
           "Viral infections and asthma: an inflammatory interface?"
          ],
          [
           "Childhood asthma and infection: virus-induced exacerbations as determinants and modifiers."
          ],
          [
           "Does maintenance azithromycin reduce asthma exacerbations? An individual participant data meta-analysis."
          ],
          [
           "Targeting Vitamin D Deficiency to Limit Exacerbations in Respiratory Diseases: Utopia or Strategy With Potential?"
          ],
          [
           "Respiratory viruses in childhood asthma."
          ],
          [
           "Expression of costimulatory molecules in peripheral blood mononuclear cells of atopic asthmatic children during virus-induced asthma exacerbations."
          ],
          [
           "IP-10 Is Elevated in Virus-Induced Acute Exacerbations in Childhood Asthma."
          ],
          [
           "Human rhinoviruses, allergy, and asthma: a clinical approach."
          ],
          [
           "Allergens, viruses, and asthma exacerbations."
          ],
          [
           "Respiratory tract viral infections in inner-city asthmatic adults."
          ],
          [
           "Respiratory viruses and asthma."
          ],
          [
           "Respiratory viral and Mycoplasma infections in patients hospitalized for acute asthma."
          ],
          [
           "Viral respiratory tract infection and exacerbations of asthma in adult patients."
          ],
          [
           "Viruses in asthma exacerbations."
          ],
          [
           "Respiratory viruses and exacerbations of asthma in adults."
          ],
          [
           "A case-control study of the role of cold symptoms and other historical triggering factors in asthma exacerbations."
          ],
          [
           "Respiratory viruses and atypical bacteria triggering severe asthma exacerbation in children."
          ],
          [
           "Infecção na modulaçâo da asma 1 1 Trabalho apresentado no XXIII Congresso de Pneumologia da SPP – Guarda, Novembro 2007 / Paper presented at the XXIII Congresso de Pneumologia da SPP / PSP Pulmonology Congress, Guarda, November 2007"
          ],
          [
           "Epidemiology of virus-induced asthma exacerbations: with special reference to the role of human rhinovirus"
          ],
          [
           "Infection-mediated asthma: etiology, mechanisms and treatment options, with focus on Chlamydia pneumoniae and macrolides"
          ],
          [
           "Influence of viral infection on the relationships between airway cytokines and lung function in asthmatic children"
          ],
          [
           "RANTES, Macrophage-Inhibitory Protein 1α, and the Eosinophil Product Major Basic Protein Are Released into Upper Respiratory Secretions during Virus-Induced Asthma Exacerbations in Children"
          ],
          [
           "Assessing the Exacerbations Risk of Influenza‐Associated Chronic Occupational Asthma"
          ],
          [
           "EAACI position statement on asthma exacerbations and severe asthma"
          ],
          [
           "Paediatric Virology and its interaction between basic science and clinical practice (Review)"
          ],
          [
           "Viruses and Asthma"
          ],
          [
           "Small Animal Models of Respiratory Viral Infection Related to Asthma"
          ],
          [
           "Virus/Allergen Interactions and Exacerbations of Asthma"
          ],
          [
           "Are non‐allergenic environmental factors important in asthma?"
          ],
          [
           "Acute Exacerbations of Asthma: Epidemiology, Biology and the Exacerbation-Prone Phenotype"
          ],
          [
           "Acute Asthma in the Pediatric Emergency Department: Infections Are the Main Triggers of Exacerbations"
          ],
          [
           "Prevalence of Respiratory Viral Infections in Korean Adult Asthmatics With Acute Exacerbations: Comparison With Those With Stable State"
          ],
          [
           "Weekly Monitoring of Children with Asthma for Infections and Illness During Common Cold Seasons"
          ],
          [
           "Childhood severe acute respiratory syndrome, coronavirus infections and asthma"
          ],
          [
           "Psychosocial factors, respiratory viruses and exacerbation of asthma"
          ],
          [
           "A host gene expression approach for identifying triggers of asthma exacerbations"
          ],
          [
           "Persistence of rhinovirus RNA and IP‐10 gene expression after acute asthma"
          ],
          [
           "Viral diversity in asthma: Immunology and Allergy Clinics of North America: Asthma and Infectious Disease"
          ],
          [
           "The Role of Viral Respiratory Infections in Asthma and Asthma Exacerbations"
          ],
          [
           "6. Asthma: Factors underlying inception, exacerbation, and disease progression"
          ],
          [
           "Duration of wheezy episodes in early childhood is independent of the microbial trigger"
          ],
          [
           "Asthma Exacerbations: Pathogenesis, Prevention, and Treatment"
          ],
          [
           "Is respiratory viral infection really an important trigger of asthma exacerbations in children?"
          ],
          [
           "Nasal cytokine responses to natural colds in asthmatic children"
          ],
          [
           "Characterisation of winter respiratory viral infections in patients with asthma and COPD in Qatar"
          ],
          [
           "Epidemiological analysis and follow‐up of human rhinovirus infection in children with asthma exacerbation"
          ],
          [
           "Respiratory infections and asthma"
          ],
          [
           "Chapter 37 Infections"
          ],
          [
           "Viral Infections and Associated Factors That Promote Acute Exacerbations of Asthma"
          ],
          [
           "How Viral Infections Cause Exacerbation of Airway Diseases"
          ],
          [
           "Asthma exacerbations: Origin, effect, and prevention"
          ],
          [
           "Asthma Exacerbation in Children: A Practical Review"
          ],
          [
           "Acute Exacerbations of COPD"
          ],
          [
           "Respiratory viral infections in children with asthma: do they matter and can we prevent them?"
          ],
          [
           "Asthmatics with exacerbation during acute respiratory illness exhibit unique transcriptional signatures within the nasal mucosa"
          ],
          [
           "Virus-triggered exacerbation in allergic asthmatic children: neutrophilic airway inflammation and alteration of virus sensors characterize a subgroup of patients"
          ],
          [
           "Detection of human coronavirus strain HKU1 in a 2 years old girl with asthma exacerbation caused by acute pharyngitis"
          ],
          [
           "Viruses and bacteria in acute asthma exacerbations – A GA(2)LEN‐DARE systematic review"
          ],
          [
           "Enhanced severity of virus associated lower respiratory tract disease in asthma patients may not be associated with delayed viral clearance and increased viral load in the upper respiratory tract"
          ],
          [
           "The association between seasonal asthma exacerbations and viral respiratory infections in a pediatric population receiving inhaled corticosteroid therapy with or without long-acting beta-adrenoceptor agonist: A randomized study()"
          ],
          [
           "Viral and bacterial infection in acute asthma and chronic obstructive pulmonary disease increases the risk of readmission"
          ],
          [
           "Exacerbation of asthma and airway infection: is the virus the villain?"
          ],
          [
           "Anti-viral agents: potential utility in exacerbations of asthma"
          ],
          [
           "Characteristics associated with clinical severity and inflammatory phenotype of naturally occurring virus-induced exacerbations of asthma in adults"
          ],
          [
           "Multiplex Molecular Detection of Respiratory Pathogens in Children With Asthma Exacerbation"
          ],
          [
           "Personal exposure to nitrogen dioxide (NO(2)) and the severity of virus-induced asthma in children"
          ],
          [
           "Rhinovirus-Induced Exacerbations of Asthma and COPD"
          ],
          [
           "Asthma: Clinical Expression and Molecular Mechanisms"
          ],
          [
           "Validity of the Common Cold Questionnaire (CCQ) in Asthma Exacerbations"
          ],
          [
           "The Effect of Viral Infection on Exhaled Nitric Oxide in Children with Acute Asthma Exacerbations"
          ],
          [
           "The role of viruses in acute exacerbations of asthma"
          ],
          [
           "Acute Severe Asthma in Adolescent and Adult Patients: Current Perspectives on Assessment and Management"
          ],
          [
           "Rhinovirus infections: induction and modulation of airways inflammation in asthma"
          ],
          [
           "The role of viruses in the development and exacerbation of atopic disease"
          ],
          [
           "High fractional exhaled nitric oxide and sputum eosinophils are associated with an increased risk of future virus‐induced exacerbations: A prospective cohort study"
          ],
          [
           "The Impact of Ambient Environmental Exposures to Microbial Products on Asthma Outcomes from Birth to Childhood"
          ],
          [
           "Virus-induced exacerbations in asthma and COPD"
          ],
          [
           "Use of MMP‐8 and MMP‐9 to assess disease severity in children with viral lower respiratory tract infections"
          ],
          [
           "Advances in the treatment of virus-induced asthma"
          ],
          [
           "Exacerbations of chronic respiratory diseases"
          ],
          [
           "The potential of anti‐infectives and immunomodulators as therapies for asthma and asthma exacerbations"
          ],
          [
           "The role of infection in asthma"
          ],
          [
           "Collectivités : lieu de rencontre virale"
          ]
         ],
         "hovertemplate": "labels=10<br>pca_1=%{x}<br>pca_2=%{y}<br>title=%{customdata[0]}<extra></extra>",
         "legendgroup": "10",
         "marker": {
          "color": "#636efa",
          "symbol": "circle"
         },
         "mode": "markers",
         "name": "10",
         "showlegend": true,
         "type": "scattergl",
         "x": [
          0.0061817379305801785,
          0.16421556830946885,
          -0.1300978308198471,
          -0.06832053622855991,
          0.19247541054436113,
          0.10542545969837698,
          0.0661055989026761,
          0.05093652904937817,
          0.10282652431773881,
          -0.04081120244984023,
          0.06594807234175883,
          -0.07640929729070377,
          -0.08050862524997861,
          0.1840101070163738,
          -0.11015429661507231,
          0.06411110073206709,
          0.11818097855292578,
          0.19114691850385956,
          -0.056549434623280576,
          0.08305763060685341,
          -0.042736362090770745,
          0.1798122166364739,
          0.3374745644563948,
          -0.06372357181084892,
          -0.0519247515799887,
          -0.0924245023233299,
          -0.02647369836589171,
          -0.012610365972162058,
          -0.07664841257898106,
          0.02876557576114372,
          -0.014405225646245105,
          0.0415576398581654,
          -0.0032805447350132003,
          -0.05561358637164685,
          0.0720719487401063,
          -0.021297086797504364,
          0.14458314609703168,
          0.21580563762013832,
          0.07358742259434845,
          0.17093554669453698,
          0.10911180370275285,
          0.2424814583389376,
          -0.09565579735794413,
          0.005536937058720947,
          -0.02302414812526672,
          0.011437319415129737,
          -0.002760212132140785,
          0.01164796538472683,
          -0.02096609387848391,
          0.03154267124131287,
          0.038920260225513835,
          0.011689939079123069,
          -0.046332892214007056,
          -0.014541918288077502,
          -0.05883133875119839,
          0.17084332229512397,
          0.2550817229340145,
          0.28247180026077157,
          0.04772317250738262,
          0.09675670782571294,
          -0.0051355014614290085,
          0.12043498426475367,
          0.05801252352560242,
          0.08782156599842952,
          -0.07010568920059332,
          0.09935850029263811,
          -0.003353164065032735,
          0.23289294201837119,
          0.11306789891091062,
          0.16212510293352805,
          0.19405955907991965,
          -0.006463313528263712,
          -0.1125598741140956,
          0.02487472768765349,
          -0.1001160401271559,
          -0.02347787772237924,
          0.05487724965931338,
          -0.03441823845221334,
          -0.003273121911355266,
          -0.0070425341446248655,
          -0.0016624330090063873,
          0.10187310070307269,
          0.030269781070419787,
          0.16422414062064017,
          0.1307943741875038,
          0.1375880730743781,
          0.181236578649275,
          -0.007746015412093459,
          -0.034969725798336605,
          0.3687847634214074,
          0.12194430386955267,
          -0.08710746595634193,
          -0.06559369821591811,
          0.002003257941869864,
          0.05238103853244684,
          -0.08948702270014605,
          -0.019497029208290724,
          -0.07528006216519936,
          -0.0015389210624015617,
          0.04472687294498592,
          -0.03589652817984128,
          -0.005029799949504951,
          0.03938911194764457,
          -0.07734837431416626,
          -0.045703219164602314,
          -0.07778050875408982,
          -0.09565579735794413,
          0.050375323145511554
         ],
         "xaxis": "x",
         "y": [
          0.09117016944868499,
          0.07739840351703398,
          0.16703875044507682,
          0.19824248094788122,
          0.09862607671264907,
          0.2562554178023971,
          0.07221605599826247,
          0.03101295675170694,
          -0.0027991211944250237,
          0.17483002542590106,
          0.06545115412524351,
          0.1018541854688831,
          0.2375696759544448,
          0.2730806385256171,
          0.20223582825566924,
          0.06535808585570277,
          -0.05582321107827763,
          -0.013832708456634785,
          0.14351231590984068,
          -0.06713373207719554,
          0.1354517845948741,
          -0.0896352679627375,
          0.1703132655999658,
          0.12325649665309671,
          0.2581486119616347,
          0.16395629709625734,
          0.21559564692786456,
          -0.08098054420288191,
          0.06568565311686508,
          0.2690340399833941,
          0.06308604668180078,
          -0.007215141431773403,
          0.33884439139803096,
          0.19473462080192386,
          -0.008247380728194264,
          0.23497675430247522,
          0.07582619939801298,
          0.2020306080059584,
          0.35495258049497547,
          0.03932641580617759,
          -0.06724080235874895,
          0.1419566473785652,
          0.17809080842407843,
          0.11222776967687656,
          0.2332125760234216,
          0.09338786683985484,
          0.015539901778976208,
          0.06721392150658541,
          0.17521350254040347,
          0.0810701392507501,
          0.30611126499854957,
          0.3423896518358289,
          0.25169575519564436,
          0.08840209248265135,
          0.18635673867934835,
          -0.06683282710234313,
          0.0707899989015125,
          0.10742393011578137,
          0.0026125602278366904,
          0.005184563388958167,
          -0.015570617179298713,
          0.14946607645337837,
          0.18067238039169092,
          0.34678896877933674,
          0.11149823713911147,
          0.013409813115248467,
          0.11238995011547431,
          0.06301598471149837,
          0.04835395668718718,
          0.1115360404949671,
          -0.006799693780377053,
          0.2633566951872236,
          0.2236865807860863,
          0.3120122795986058,
          0.23417143301488808,
          0.18650274128336808,
          0.14804251550644593,
          0.05696139278476616,
          0.12321115429354912,
          0.06622744319767687,
          0.05864343610053127,
          0.07091331187880619,
          0.07600901210429616,
          0.21336356363739872,
          -0.02770652937620932,
          0.03812268947105041,
          0.2701010813711665,
          0.30149858313986605,
          0.016577802897297073,
          0.16406947305964972,
          0.0862224342981188,
          0.3158345484420474,
          0.10536617163967635,
          -0.027244120379691553,
          -0.08318418386711804,
          0.26292206001551255,
          0.05081749154906997,
          0.30130854049737776,
          0.18707782748444907,
          0.056298492029605705,
          0.07303385749060463,
          0.2282954973898647,
          0.112923709007623,
          0.11857571080932225,
          0.30139206158960585,
          0.08183637016895476,
          0.17809080842407843,
          0.1431593032045557
         ],
         "yaxis": "y"
        },
        {
         "customdata": [
          [
           "Specificity and Effector Functions of Human RSV-Specific IgG from Bovine Milk"
          ],
          [
           "Abstracts from the 3rd International Genomic Medicine Conference (3rd IGMC 2015): Jeddah, Kingdom of Saudi Arabia. 30 November - 3 December 2015"
          ],
          [
           "Interferon-λs: Front-Line Guardians of Immunity and Homeostasis in the Respiratory Tract"
          ],
          [
           "Surfactant Protein D in Respiratory and Non-Respiratory Diseases"
          ],
          [
           "Chemokine receptors: multifaceted therapeutic targets"
          ],
          [
           "Pulmonary Vasculature and Critical Asthma Syndromes: a Comprehensive Review"
          ],
          [
           "n−3 Polyunsaturated fatty acids and inflammation: From molecular biology to the clinic"
          ],
          [
           "The Role of Interleukin-8 and its Receptors in Inflammatory Lung Disease: Implications for Therapy"
          ],
          [
           "Therapeutic Applications"
          ],
          [
           "The Applicability of Mouse Models to the Study of Human Disease"
          ],
          [
           "Role of toll-like receptors in respiratory diseases"
          ],
          [
           "Use of Bronchoalveolar Lavage in Humans—Past Necessity and Future Imperative"
          ],
          [
           "Respiratory"
          ],
          [
           "Lung"
          ],
          [
           "Gene Therapy for Lung Diseases"
          ],
          [
           "Adenosine Receptors in the Lungs"
          ],
          [
           "Pathophysiologic Role of Autophagy in Human Airways"
          ],
          [
           "Diagnosis of Pulmonary Parasitic Diseases"
          ],
          [
           "Asthma comes in from the cold"
          ],
          [
           "Asthma: Pathophysiology and Diagnosis"
          ],
          [
           "The Respiratory System"
          ],
          [
           "[Role of toll-like receptors in respiratory diseases]."
          ],
          [
           "The genus Stephania (Menispermaceae): chemical and pharmacological perspectives."
          ],
          [
           "Pulmonary immunity to viruses."
          ],
          [
           "The Canadian Healthy Infant Longitudinal Development (CHILD) Study: examining developmental origins of allergy and asthma."
          ],
          [
           "Vitamin D and asthma."
          ],
          [
           "Development of a bronchospasm device model."
          ],
          [
           "The emerging relationship between the airway microbiota and chronic respiratory disease: clinical implications."
          ],
          [
           "Exchange Proteins Directly Activated by cAMP and Their Roles in Respiratory Syncytial Virus Infection."
          ],
          [
           "Microbes and asthma: the missing cellular and molecular links."
          ],
          [
           "Interferon lambda genetic polymorphisms and viral infection: the tip of the iceberg?"
          ],
          [
           "Autophagy and role in asthma."
          ],
          [
           "Respiratory syncytial virus persistence in chronic obstructive pulmonary disease."
          ],
          [
           "Genome-virome interactions: examining the role of common viral infections in complex disease."
          ],
          [
           "Translational models of lung disease."
          ],
          [
           "Dual mechanism of action of T2 inhibitor therapies in virally induced exacerbations of asthma: evidence for a beneficial counter-regulation."
          ],
          [
           "Immunization of macaques with formalin-inactivated respiratory syncytial virus (RSV) induces interleukin-13-associated hypersensitivity to subsequent RSV infection."
          ],
          [
           "Human catalase, its polymorphisms, regulation and changes of its activity in different diseases."
          ],
          [
           "Viral infections in obstructive airway diseases."
          ],
          [
           "The immunological synapse for B-cell memory: the role of the ICOS and its ligand for the longevity of humoral immunity."
          ],
          [
           "Therapeutic potential of Toll-like receptor 9 activation."
          ],
          [
           "Local renin-angiotensin II systems, angiotensin-converting enzyme and its homologue ACE2: their potential role in the pathogenesis of chronic obstructive pulmonary diseases, pulmonary hypertension and acute respiratory distress syndrome."
          ],
          [
           "The immunobiological and clinical role of vitamin D in obstructive lung diseases."
          ],
          [
           "Nanomaterials and nanoparticles: Sources and toxicity"
          ],
          [
           "Targeting the NF-κB pathway in asthma and chronic obstructive pulmonary disease"
          ],
          [
           "Chapter 28 Asthma"
          ],
          [
           "Impact of Host Genetics and Biological Response Modifiers on Respiratory Tract Infections"
          ],
          [
           "Viral infections in allergy and immunology: How allergic inflammation influences viral infections and illness"
          ],
          [
           "Respiratory Viral Infections in Chronic Lung Diseases"
          ],
          [
           "The infectious march: the complex interaction between microbes and the immune system in asthma"
          ],
          [
           "Respiratory virus-induced heterologous immunity: Part of the problem or part of the solution?"
          ],
          [
           "Molecular and cellular mechanisms in the viral exacerbation of asthma"
          ],
          [
           "Neonatal Immunity, Respiratory Virus Infections, and the Development of Asthma"
          ],
          [
           "Contribution of Fcγ Receptor-Mediated Immunity to the Pathogenesis Caused by the Human Respiratory Syncytial Virus"
          ],
          [
           "Sinus Infections, Inflammation, and Asthma"
          ],
          [
           "Human Pulmonary 3D Models For Translational Research"
          ],
          [
           "Enteroviral proteases: structure, host interactions and pathogenicity"
          ],
          [
           "Antimicrobial strategies: An option to treat allergy?"
          ],
          [
           "Viral-associated exacerbations of asthma and COPD"
          ],
          [
           "Respiratory health, allergies, and the farm environment: design, methods and enrollment in the observational Wisconsin Infant Study Cohort (WISC): a research proposal"
          ],
          [
           "Effects of AntagomiRs on Different Lung Diseases in Human, Cellular, and Animal Models"
          ],
          [
           "Viral Respiratory Infections and Asthma: the Course Ahead"
          ],
          [
           "New treatment regimes for virus-induced exacerbations of asthma"
          ],
          [
           "Viral infection of the lung: Host response and sequelae"
          ],
          [
           "Chapter 4 Gene–Environment Interactions Eco-Genetics and Toxicogenomics"
          ],
          [
           "TLRs in pulmonary diseases"
          ],
          [
           "Oligonucleotide therapy: An emerging focus area for drug delivery in chronic inflammatory respiratory diseases"
          ],
          [
           "OCCUPATIONAL DISEASES | Overview"
          ],
          [
           "The microbiology of asthma"
          ],
          [
           "Eosinophils: changing perspectives in health and disease"
          ],
          [
           "Host and Viral Factors in Respiratory Syncytial Virus Infection"
          ],
          [
           "Asthma"
          ],
          [
           "Role of the Toll Like Receptor (TLR) Radical Cycle in Chronic Inflammation: Possible Treatments Targeting the TLR4 Pathway"
          ],
          [
           "‘The Microbiome and the Pathophysiology of Asthma’"
          ],
          [
           "Respiratory virus-induced heterologous immunity: Part of the problem or part of the solution?"
          ],
          [
           "Cyclophilin A: a key player for human disease"
          ],
          [
           "CD26 and Asthma: a Comprehensive Review"
          ],
          [
           "The roles of miRNAs as potential biomarkers in lung diseases"
          ],
          [
           "Viruses exacerbating chronic pulmonary disease: the role of immune modulation"
          ]
         ],
         "hovertemplate": "labels=15<br>pca_1=%{x}<br>pca_2=%{y}<br>title=%{customdata[0]}<extra></extra>",
         "legendgroup": "15",
         "marker": {
          "color": "#EF553B",
          "symbol": "circle"
         },
         "mode": "markers",
         "name": "15",
         "showlegend": true,
         "type": "scattergl",
         "x": [
          -0.04987819119712547,
          -0.1237079827521319,
          -0.14856709369034113,
          -0.15930306754281903,
          -0.16446117625504844,
          -0.1422098058758231,
          -0.23384263940267355,
          -0.24066588974257822,
          -0.21797444712895184,
          -0.22814856204331815,
          -0.21090514982829348,
          -0.20793754664977238,
          -0.19396539492628953,
          -0.21740467980844774,
          -0.1886984269043827,
          -0.21566086227506437,
          -0.25143603450554747,
          -0.15411036324295568,
          -0.07880901083864758,
          -0.15088977488416958,
          -0.17115212270141417,
          -0.21366374750877143,
          -0.15588182918483112,
          -0.11428578204904312,
          -0.11897313925931201,
          -0.16438142000980074,
          -0.13311018700867014,
          -0.18938312770732618,
          -0.08644850916012503,
          -0.1400315039144451,
          -0.07451019799423508,
          -0.14140034159684794,
          -0.04984530924275522,
          -0.13070127106285168,
          -0.1327470672438305,
          -0.15913786490243914,
          -0.09281111357656677,
          -0.16959695193228053,
          -0.11303277860034472,
          -0.17329482250562592,
          -0.18073463287499755,
          -0.17434614230530646,
          -0.17274199583326097,
          -0.1800962465243217,
          -0.23029218955832492,
          -0.1470868232792051,
          -0.08463307920592457,
          -0.04535331839746586,
          -0.20315594912916538,
          -0.04263451084731922,
          -0.07479274839957725,
          -0.12503122724511084,
          -0.07884893213063256,
          -0.0857080231740709,
          -0.10360023291309146,
          -0.22022855407244346,
          -0.1302076087305591,
          -0.17278937309725217,
          -0.11138074465174376,
          -0.044441798388944985,
          -0.15663100418241827,
          -0.04691371290392857,
          -0.10518791964315213,
          -0.12326359001372413,
          -0.13800450435231648,
          -0.22920460675907287,
          -0.2191524598906614,
          -0.12572346096598117,
          0.021407865563347908,
          -0.1989726351890142,
          -0.025029109396014538,
          -0.14860953510161118,
          -0.2194562986088086,
          -0.19651927300885258,
          -0.07479274839957725,
          -0.20990592809933045,
          -0.1481163890912247,
          -0.26034391673343027,
          -0.1446055695382564
         ],
         "xaxis": "x",
         "y": [
          -0.0076182411537983104,
          -0.10906182841834706,
          0.09121837354572868,
          -0.04599417738650642,
          -0.05765751236140129,
          0.09761167084716739,
          0.024052069071829003,
          0.0009685102626846541,
          0.0026486534353698937,
          0.01295965461348818,
          0.10113093436386042,
          -0.01130109891338911,
          -0.04449624080320286,
          0.0057486719394386505,
          -0.020404439093390604,
          -0.02494557409547908,
          0.08899577870782392,
          -0.03140568857765136,
          0.02837363724791374,
          0.05129932022911857,
          0.019329364213121873,
          0.10530887066726588,
          -0.037483697714580266,
          0.2344999276473658,
          0.010449226793002109,
          0.033129015699874975,
          -0.029816972150138815,
          0.06809436376879041,
          0.13805716157285688,
          0.14837853723925745,
          0.1250036760761273,
          0.14140214863317074,
          0.12278004400668782,
          0.15183798205771487,
          0.01093192808281048,
          0.09458008848400243,
          0.04259655850312533,
          -0.039534282825360784,
          0.19000972078422712,
          0.0413298530476771,
          -0.03399549201908616,
          -0.05204518263746698,
          -2.701787322362953e-05,
          -0.040981563758355675,
          0.051676346174698476,
          -0.001850008898838353,
          0.1264051854790582,
          0.24631536957891165,
          0.11361159471236157,
          0.17993712946305643,
          0.16318542002994713,
          0.28356088404140983,
          0.1221365659064842,
          0.12382168124110178,
          0.13284465370507675,
          0.034220854354938185,
          0.12363703662282116,
          0.18733102815700234,
          0.20731260951047492,
          0.10770991625853162,
          -0.06104041120212478,
          0.1478623366023316,
          0.13633565560679842,
          0.17374614145097783,
          -0.0028818642751436228,
          0.02935199117591569,
          -0.005457057356885571,
          0.0034219226837475924,
          0.25782501454070306,
          0.012155050259815505,
          0.054890153703019924,
          0.11048537615653263,
          -0.013907823237790237,
          0.07945769455442339,
          0.16318542002994713,
          0.0699299573356201,
          0.05089157140638269,
          0.020439993318070372,
          0.2907552685672095
         ],
         "yaxis": "y"
        },
        {
         "customdata": [
          [
           "Prevalence and molecular characterizations of enterovirus D68 among children with acute respiratory infection in China between 2012 and 2014"
          ],
          [
           "Human bocavirus in children with respiratory tract infection in Shanghai: a retrospective study"
          ],
          [
           "Rhinovirus-Associated Hospitalizations in Young Children"
          ],
          [
           "Asthma Exacerbations and Risk of Emergency Department Management Failure: Burden and Impact of Various Respiratory Pathogens in a Pediatric Population"
          ],
          [
           "Human Coronavirus (HCoV) Infection Among Adults in Cleveland, Ohio: An Increasingly Recognized Respiratory Pathogen"
          ],
          [
           "Detection of enterovirus 68 as one of the commonest types of enterovirus found in patients with acute respiratory tract infection in China."
          ],
          [
           "[Evaluation of Seeplex RV detection kit for detecting rhinovirus, human metapneumovirus, and coronavirus]."
          ],
          [
           "The impact of viral respiratory infection on the severity and recovery from an asthma exacerbation."
          ],
          [
           "Clinical and epidemiologic characteristics of human bocavirus in Danish infants: results from a prospective birth cohort study."
          ],
          [
           "Viral causes of acute respiratory infection among Egyptian children hospitalized with severe acute asthma exacerbation."
          ],
          [
           "Respiratory viruses in exacerbations of non-cystic fibrosis bronchiectasis in children."
          ],
          [
           "Surveillance for the identification of cases of acute respiratory infection by enterovirus D68 in children in a tertiary level care hospital during 2014-2016."
          ],
          [
           "Prolonged shedding of rhinovirus and re-infection in adults with respiratory tract illness."
          ],
          [
           "The epidemiology and aetiology of infections in children admitted with clinical severe pneumonia to a university hospital in Rabat, Morocco."
          ],
          [
           "[New respiratory viruses in children 2 months to 3 years old with recurrent wheeze]."
          ],
          [
           "[Virological surveillance of acute respiratory tract illnesses of children in Morioka, Japan. I. Epidemiological patterns of infection with respiratory viruses over a 10-year period]."
          ],
          [
           "Prevalence of respiratory viruses in wheezing children not older than 24 months of age."
          ],
          [
           "First detected human bocavirus in a Malaysian child with pneumonia and pre-existing asthma: a case report."
          ],
          [
           "[First detection of human metapneumovirus in a child with respiratory syndrome in Hungary]."
          ],
          [
           "High-throughput, sensitive, and accurate multiplex PCR-microsphere flow cytometry system for large-scale comprehensive detection of respiratory viruses."
          ],
          [
           "Prevalence, clinical presentations and complications among hospitalized children with influenza pneumonia."
          ],
          [
           "Respiratory syncytial virus infection and recurrent wheeze/asthma in children under five years: an epidemiological survey."
          ],
          [
           "Epidemiology of respiratory infections in young children: insights from the new vaccine surveillance network."
          ],
          [
           "PCR detection of viral nucleic acid in fatal asthma: is the lower respiratory tract a reservoir for common viruses?"
          ],
          [
           "Human bocavirus in Italian patients with respiratory diseases."
          ],
          [
           "Coronavirus HKU1 and other coronavirus infections in Hong Kong."
          ],
          [
           "An investigation into respiratory tract viruses in children with acute lower respiratory tract infection or wheezing."
          ],
          [
           "CAUSATIVE AGENTS OF SEVERE COMMUNITY ACQUIRED VIRAL PNEUMONIA AMONG CHILDREN IN EASTERN THAILAND."
          ],
          [
           "Role of rhinovirus in hospitalized infants with respiratory tract infections in Spain."
          ],
          [
           "Use of polymerase chain reaction for detection of adenovirus in children with or without wheezing."
          ],
          [
           "Development and application of an enzyme immunoassay for coronavirus OC43 antibody in acute respiratory illness."
          ],
          [
           "Epidemiology of coronavirus-associated respiratory tract infections and the role of rapid diagnostic tests: a prospective study."
          ],
          [
           "Rhinovirus infection in hospitalized children in Hong Kong: a prospective study."
          ],
          [
           "Children hospitalized with rhinovirus bronchiolitis have asthma-like characteristics"
          ],
          [
           "Persistence of Viruses in Upper Respiratory Tract of Children with Asthma"
          ],
          [
           "Detection of viral, Chlamydia pneumoniae and Mycoplasma pneumoniae infections in exacerbations of asthma in children"
          ],
          [
           "Epidemic and molecular evolution of human bocavirus in hospitalized children with acute respiratory tract infection"
          ],
          [
           "Prevalence of viral respiratory tract infections in children with asthma"
          ],
          [
           "Human Coronavirus NL63 Infection and Other Coronavirus Infections in Children Hospitalized with Acute Respiratory Disease in Hong Kong, China"
          ],
          [
           "Etiology and Impact of Coinfections in Children Hospitalized With Community-Acquired Pneumonia"
          ],
          [
           "Human Coronavirus Infection among Children with Acute Lower Respiratory Tract Infection in Thailand"
          ],
          [
           "Spectrum of Clinical Illness in Hospitalized Patients with “Common Cold” Virus Infections"
          ],
          [
           "Detection of human bocavirus in hospitalised children"
          ],
          [
           "Spontaneous pneumomediastinum as a complication in human bocavirus infection"
          ],
          [
           "Clinical differences between respiratory viral and bacterial mono- and dual pathogen detected among Singapore military servicemen with febrile respiratory illness"
          ],
          [
           "Association of specific viral infections with childhood asthma exacerbations"
          ],
          [
           "Rhinovirus et infections respiratoires aiguës de l’enfant hospitalisé. Étude rétrospective de 1998 à 2000"
          ],
          [
           "Respiratory Picornaviruses and Respiratory Syncytial Virus as Causative Agents of Acute Expiratory Wheezing in Children"
          ],
          [
           "Altered eosinophil levels as a result of viral infection in asthma exacerbation in childhood"
          ],
          [
           "The emergence of enterovirus D68 in a Dutch University Medical Center and the necessity for routinely screening for respiratory viruses"
          ],
          [
           "Detection and typing by molecular techniques of respiratory viruses in children hospitalized for acute respiratory infection in Rome, Italy"
          ],
          [
           "Lethal Respiratory Disease Associated with Human Rhinovirus C in Wild Chimpanzees, Uganda, 2013"
          ],
          [
           "Clinical and epidemiological features of respiratory virus infections in preschool children over two consecutive influenza seasons in southern Brazil"
          ],
          [
           "Use of induced sputum for the diagnosis of influenza and infections in asthma: a comparison of diagnostic techniques"
          ],
          [
           "Is chronic rhinosinusitis caused by persistent respiratory virus infection?, ,"
          ],
          [
           "Respiratory Viruses and Torque Teno Virus in Adults with Acute Respiratory Infections"
          ],
          [
           "Respiratory viral infection in lower airways of asymptomatic children"
          ],
          [
           "Viral and Atypical Bacterial Detection in Acute Respiratory Infection in Children Under Five Years"
          ],
          [
           "Enterovirus D68 respiratory infection in a children's hospital in Japan in 2015"
          ],
          [
           "Infections and coinfections by respiratory human bocavirus during eight seasons in hospitalized children"
          ],
          [
           "Human metapneumovirus: An important cause of respiratory disease in children and adults"
          ],
          [
           "Nasopharyngeal isolates and their clinical impact on young children with asthma: a pilot study"
          ],
          [
           "Mechanisms of viral impact on asthma exacerbations"
          ],
          [
           "Association of bacteria and viruses with wheezy episodes in young children: prospective birth cohort study"
          ],
          [
           "Improved detection of rhinoviruses in nasal and throat swabs by seminested RT‐PCR"
          ],
          [
           "Pan-Viral Screening of Respiratory Tract Infections in Adults With and Without Asthma Reveals Unexpected Human Coronavirus and Human Rhinovirus Diversity"
          ],
          [
           "Human bocavirus in children hospitalized for acute respiratory tract infection in Rome"
          ],
          [
           "Adults hospitalised with acute respiratory illness rarely have detectable bacteria in the absence of COPD or pneumonia; viral infection predominates in a large prospective UK sample"
          ],
          [
           "Virological and clinical characterizations of respiratory infections in hospitalized children"
          ]
         ],
         "hovertemplate": "labels=12<br>pca_1=%{x}<br>pca_2=%{y}<br>title=%{customdata[0]}<extra></extra>",
         "legendgroup": "12",
         "marker": {
          "color": "#00cc96",
          "symbol": "circle"
         },
         "mode": "markers",
         "name": "12",
         "showlegend": true,
         "type": "scattergl",
         "x": [
          0.2536993181160244,
          0.157258701825105,
          0.2913925593479665,
          0.13071313134071974,
          0.1295128603400366,
          0.1005763275094446,
          0.22687398621605448,
          0.2409425165616211,
          0.19746097264305143,
          0.3668014539147611,
          0.2112026742960736,
          0.09332726314061338,
          0.1333685316583627,
          0.19919835055976265,
          0.36494684240187314,
          0.16533734591134544,
          0.3504552852142004,
          0.09234030513103654,
          0.13206535480683684,
          0.1851375089669301,
          0.3762985031329574,
          0.3144178167007877,
          0.2703098286374688,
          0.09001406296240885,
          0.14565445394080184,
          0.22107982703577936,
          0.2676088723674678,
          0.2903746433585066,
          0.44219993103149946,
          0.22488391086285286,
          0.062356884876836306,
          0.1906079761160992,
          0.3327493026626555,
          0.28594157157857586,
          0.15620089547974553,
          0.2534451606630314,
          0.10826293567538756,
          0.31465211513768626,
          0.23166700719052274,
          0.16519069489571914,
          0.1886181635911268,
          0.28122624210128117,
          0.28026187723684,
          0.09879236956836704,
          0.11748873382444384,
          0.34978558025199513,
          0.27371091757977345,
          0.3806704551615908,
          0.21973904745540884,
          0.14767722139513076,
          0.3013067271207397,
          0.04401125780249443,
          0.2710834220874622,
          0.12585497471715995,
          0.13416101168522518,
          0.28625495987403854,
          0.16719189103947912,
          0.30083650765795966,
          0.30848659502223247,
          0.2530489120878381,
          0.10940167396847718,
          0.21451088880666128,
          0.21556854383413276,
          0.17334175805224236,
          0.10658607855196199,
          0.13512010935350127,
          0.28122302434996177,
          0.21200279814116868,
          0.327063667877605
         ],
         "xaxis": "x",
         "y": [
          -0.00594784113752889,
          -0.09770096551512895,
          -0.1742205651776255,
          -0.060651374800632624,
          6.760627116234735e-05,
          -0.020622140656098225,
          -0.040078237671811345,
          -0.0409113340356914,
          -0.11280501487782425,
          0.03650142621183254,
          0.09023217802215315,
          -0.08809098490671757,
          -0.025806973699294335,
          -0.05927499339831589,
          -0.02474085992633991,
          -0.09651050203235366,
          -0.01128754820318794,
          -0.02926307393039697,
          -0.03465655246905026,
          0.04114380447979275,
          -0.05212423967137379,
          -0.059137890143125565,
          -0.10021563853345349,
          0.014508121711445842,
          -0.11480725440173933,
          0.05873297726490498,
          0.015359460923810318,
          -0.03937857442626268,
          -0.05540898360366589,
          -0.011652695515570164,
          -0.039150500308183886,
          0.058075343179004285,
          0.04967552871660641,
          -0.07702780526077614,
          -0.059144437328713266,
          -0.024373128381477226,
          -0.11270912582997519,
          0.08409279630129093,
          -0.05954323773180578,
          -0.07369950453479442,
          -0.033187256106737825,
          0.07038543818196598,
          -0.06464923704548689,
          0.03522579990462482,
          -0.09014151697487048,
          0.07304405155587142,
          0.010534716386701802,
          0.043460763636560665,
          0.0028606454139197745,
          -0.08950985607403668,
          0.07086104067019,
          0.05351623053275714,
          -0.01793992565671897,
          -0.02703632281031871,
          0.11111868525114146,
          0.06918286236823465,
          0.0012878275665352823,
          -0.01152506204191859,
          -0.21556269546982015,
          -0.053481042873969556,
          0.026996761061039938,
          0.05241410822758787,
          0.06595894409178012,
          -0.027074760968254397,
          -0.05975784529076124,
          0.06587329956862666,
          -0.04742713170120122,
          -0.04362011160162613,
          -0.024803586680743298
         ],
         "yaxis": "y"
        },
        {
         "customdata": [
          [
           "Pelargonium sidoides radix extract EPs 7630 reduces rhinovirus infection through modulation of viral binding proteins on human bronchial epithelial cells"
          ],
          [
           "Development of a Rhinovirus Inoculum Using a Reverse Genetics Approach"
          ],
          [
           "Mold contamination in schools with either high or low prevelance of asthma"
          ],
          [
           "Decrease in Fine T‐cell Subset ratio MT2/MT1 During Steroid Reduction of Asthmatic Patients"
          ],
          [
           "Adenosine Receptor A2a is Differentially Expressed in CD4(+) T Lymphocytes of Asthmatic and Healthy Individuals"
          ],
          [
           "Influence of bronchoalveolar lavage on thoracic radiography in the horse."
          ],
          [
           "Laparoscopic liver resection assisted by the laparoscopic Habib Sealer."
          ],
          [
           "The effect of inhaled IFN-β on worsening of asthma symptoms caused by viral infections. A randomized trial."
          ],
          [
           "Asthma, allergy and the Olympics: a 12-year survey in elite athletes."
          ],
          [
           "Model-Based Estimation of Respiratory Parameters from Capnography, With Application to Diagnosing Obstructive Lung Disease."
          ],
          [
           "Active Surveillance of Influenza A and Other Respiratory Viruses in Children with Influenza-like-illness in Two Seasons."
          ],
          [
           "Rats susceptible to virus-induced asthma have a persistent virus-induced change in the predominant pulmonary form of the NF-κB inhibitor IκBα."
          ],
          [
           "Atypical presentation of human bocavirus: Severe respiratory tract infection complicated with encephalopathy"
          ],
          [
           "Increased Systemic Cytokine/Chemokine Expression in Asthmatic and Non‐asthmatic Patients with Bacterial, Viral or Mixed Lung Infection"
          ],
          [
           "Influenza A virus infection increases IgE production and airway responsiveness in aerosolized antigen-exposed mice()()()"
          ],
          [
           "Increased cytokine/chemokines in serum from asthmatic and non-asthmatic patients with viral respiratory infection"
          ],
          [
           "Repeated virus identification in the airways of patients with mild and severe asthma during prospective follow‐up"
          ],
          [
           "Distribution and seasonality of rhinovirus and other respiratory viruses in a cross-section of asthmatic children in Trinidad, West Indies"
          ],
          [
           "Effects of Fruit and Vegetable Consumption on Risk of Asthma, Wheezing and Immune Responses: A Systematic Review and Meta-Analysis"
          ],
          [
           "Inhaled corticosteroid use is associated with increased circulating T regulatory cells in children with asthma"
          ],
          [
           "The molecular epidemiology of respiratory viruses associated with asthma attacks: A single-center observational study in Japan"
          ]
         ],
         "hovertemplate": "labels=18<br>pca_1=%{x}<br>pca_2=%{y}<br>title=%{customdata[0]}<extra></extra>",
         "legendgroup": "18",
         "marker": {
          "color": "#ab63fa",
          "symbol": "circle"
         },
         "mode": "markers",
         "name": "18",
         "showlegend": true,
         "type": "scattergl",
         "x": [
          -0.12411923117461253,
          -0.026959136575226115,
          -0.03972119215494975,
          -0.07070986294736059,
          -0.17331439158650597,
          -0.0412581058543595,
          -0.038167524037166674,
          -0.052168644506078735,
          -0.028346633687539462,
          -0.10677127052104293,
          0.30741142128596105,
          -0.10303425956152625,
          0.19162018900799874,
          0.012743431682319763,
          -0.06343003307871677,
          0.02444062514637347,
          0.17841317886176958,
          0.29487164862648174,
          -0.037895337700340224,
          -0.10237977382240356,
          0.1434751452048292
         ],
         "xaxis": "x",
         "y": [
          1.4356813597618187e-05,
          -0.0789263648958302,
          -0.15760854203179508,
          -0.1541621047710678,
          -0.09018437720593539,
          -0.16636560603676942,
          -0.18445796756742266,
          -0.06494349028212405,
          -0.09476618544838425,
          -0.1341266376119925,
          -0.13066607207330863,
          -0.03578789554463156,
          -0.11470185141547211,
          -0.02233391631561295,
          -0.02055761572088254,
          0.004698657878932144,
          -0.040189858376186445,
          0.016786227445534194,
          -0.05326151433389005,
          -0.06286166540996338,
          -0.07975032608983497
         ],
         "yaxis": "y"
        },
        {
         "customdata": [
          [
           "Acute upper airway infections: Childhood respiratory infections"
          ],
          [
           "Respiratory illness caused by picornavirus infection: a review of clinical outcomes"
          ],
          [
           "Virale Atemwegsinfektionen bei Erwachsenen : Eine Übersicht"
          ],
          [
           "Epidemiology"
          ],
          [
           "LOWER RESPIRATORY TRACT INFECTIONS IN ELDERLY PATIENTS WITH ASTHMA"
          ],
          [
           "Molecular detection of rhinoviruses."
          ],
          [
           "Human respiratory coronaviruses : neuroinvasive, neurotropic and potentially neurovirulent pathogens."
          ],
          [
           "Use of heliox delivered via high-flow nasal cannula to treat an infant with coronavirus-related respiratory infection and severe acute air-flow obstruction."
          ],
          [
           "[Detection of respiratory viruses--how, when, where and why?]."
          ],
          [
           "New respiratory viral infections."
          ],
          [
           "New developments in the epidemiology and clinical spectrum of rhinovirus infections."
          ],
          [
           "Rhinovirus and coronavirus infections."
          ],
          [
           "Respiratory consequences of rhinovirus infection."
          ],
          [
           "Current challenges in lower respiratory infections in children."
          ],
          [
           "Respiratory viral threats."
          ],
          [
           "Antiviral IFN-γ responses of monocytes at birth predict respiratory tract illness in the first year of life"
          ],
          [
           "Advances in antivirals for non‐influenza respiratory virus infections"
          ],
          [
           "Cytokine Responses in the Common Cold and Otitis Media"
          ],
          [
           "VIRUSES OF THE LUNG"
          ],
          [
           "New Respiratory Viruses and the Elderly"
          ],
          [
           "Rhinoviruses"
          ],
          [
           "Update on Human Rhinovirus and Coronavirus Infections"
          ],
          [
           "The Role of Human Parainfluenza Virus Infections in the Immunopathology of the Respiratory Tract"
          ],
          [
           "Molecular epidemiology of respiratory viruses in virus-induced asthma"
          ],
          [
           "Rhinovirus chemotherapy"
          ],
          [
           "A systems approach to understanding human rhinovirus and influenza virus infection"
          ],
          [
           "Antiviral therapeutic approaches for human rhinovirus infections"
          ],
          [
           "Human coronaviruses: Viral and cellular factors involved in neuroinvasiveness and neuropathogenesis"
          ],
          [
           "Virus-induced modulation of lower airway diseases: Pathogenesis and pharmacologic approaches to treatment"
          ],
          [
           "Antiviral and Anti-Inflammatory Activities of Pochonin D, a Heat Shock Protein 90 Inhibitor, against Rhinovirus Infection"
          ],
          [
           "Neuroinvasive and Neurotropic Human Respiratory Coronaviruses: Potential Neurovirulent Agents in Humans"
          ]
         ],
         "hovertemplate": "labels=5<br>pca_1=%{x}<br>pca_2=%{y}<br>title=%{customdata[0]}<extra></extra>",
         "legendgroup": "5",
         "marker": {
          "color": "#FFA15A",
          "symbol": "circle"
         },
         "mode": "markers",
         "name": "5",
         "showlegend": true,
         "type": "scattergl",
         "x": [
          0.04537402070540693,
          0.04256273761592346,
          0.04020021868936223,
          0.12123409057193138,
          -0.030501944695566052,
          0.04277430178901384,
          -0.017907743835814647,
          -0.00652980413614717,
          0.06797498836304251,
          0.18813347555352555,
          0.14291305903551269,
          -0.028994129344214914,
          -0.02802824678431639,
          0.17283264237573753,
          0.0500494152617173,
          0.17887661000418872,
          -0.022243784824703856,
          -0.02608716676235246,
          0.027317947958330976,
          0.1514811177244145,
          -0.025364950284572054,
          0.08184712089792573,
          0.10249822331792523,
          0.12291601920860366,
          0.10270302084682673,
          -0.06853405012654731,
          -0.0765753852678147,
          -0.022876656148699367,
          -0.05902906469968257,
          -0.08129287768218944,
          -0.013923744943287169
         ],
         "xaxis": "x",
         "y": [
          0.022957272645558316,
          0.11634243391614674,
          0.13586305020929693,
          0.157826951243759,
          0.1324655207221057,
          0.09467869451050168,
          0.1434896901465372,
          0.014101083391684543,
          0.13324753691173502,
          0.2060061105889298,
          0.19888956045572023,
          0.08349790920223009,
          0.12767264774613626,
          0.17336846050605909,
          0.1087210627429739,
          0.1539366762471381,
          0.06279817931803842,
          0.0891167050435499,
          0.15684421552259104,
          0.19653057858187,
          0.18097303794417424,
          0.17041187022817458,
          0.30183289062128327,
          0.30484610093784714,
          0.2039712846206993,
          0.18588351204808137,
          0.11508127458972003,
          0.20222384521740605,
          0.3570371755079529,
          0.11513874269911764,
          0.21584871692735558
         ],
         "yaxis": "y"
        },
        {
         "customdata": [
          [
           "Sensory Nerves and Airway Irritability"
          ],
          [
           "Peripheral Mechanisms II: The Pharmacology of Peripherally Active Antitussive Drugs"
          ],
          [
           "Respiratory Emergencies"
          ],
          [
           "Cough"
          ],
          [
           "Swyer-James syndrome associated with asthma and a giant bulla."
          ],
          [
           "Pediatric cough: what the otolaryngologist needs to know."
          ],
          [
           "Pharmacotherapy for lower respiratory tract infections."
          ],
          [
           "The clinical management of lower respiratory tract infections."
          ],
          [
           "Cough receptor sensitivity in children with acute and non-acute asthma."
          ],
          [
           "The management of acute bronchitis in children."
          ],
          [
           "Uncomplicated acute bronchitis."
          ],
          [
           "Cough and viruses in airways disease: Mechanisms"
          ],
          [
           "Chronic Cough Related to Acute Viral Bronchiolitis in Children CHEST Expert Panel Report"
          ],
          [
           "Bronquiectasias"
          ],
          [
           "Chronic Cough Due to Acute Bronchitis ACCP Evidence-Based Clinical Practice Guidelines"
          ],
          [
           "USE OF THE CLINICAL MICROBIOLOGY LABORATORY FOR THE DIAGNOSIS AND MANAGEMENT OF INFECTIOUS DISEASES RELATED TO THE ORAL CAVITY"
          ],
          [
           "Pharmacological modulation of cough reflex"
          ],
          [
           "Comparison of atopic and nonatopic children with chronic cough: Bronchoalveolar lavage cell profile"
          ],
          [
           "Efficacy of cineole in patients suffering from acute bronchitis: a placebo-controlled double-blind trial"
          ],
          [
           "Akute Bronchitis"
          ],
          [
           "The Spectrum of Non-asthmatic Airway Diseases Contributing to Cough in the Adult"
          ],
          [
           "Acute and chronic cough"
          ]
         ],
         "hovertemplate": "labels=16<br>pca_1=%{x}<br>pca_2=%{y}<br>title=%{customdata[0]}<extra></extra>",
         "legendgroup": "16",
         "marker": {
          "color": "#19d3f3",
          "symbol": "circle"
         },
         "mode": "markers",
         "name": "16",
         "showlegend": true,
         "type": "scattergl",
         "x": [
          -0.21532736740017888,
          -0.19710166688570077,
          -0.07200458945526118,
          -0.04159463604125373,
          -0.039055621086335784,
          -0.07049927099223603,
          -0.05929407838730297,
          -0.03930224790335336,
          0.0662152528264404,
          0.05355509800769205,
          -0.021285440397393256,
          -0.07675732820153393,
          -0.014084290779245959,
          -0.17208443025740192,
          -0.005115111647385097,
          -0.054664526451190645,
          -0.16961531662029503,
          -0.03240477894054291,
          0.0016141237502614496,
          -0.025392789588896257,
          -0.08889241396058756,
          -0.09635255620526052
         ],
         "xaxis": "x",
         "y": [
          -0.004164209786632733,
          0.026473615985464757,
          0.011489640483353608,
          -0.06753301689820876,
          -0.1102843625268023,
          -0.04995852701127385,
          0.06844506591561397,
          -0.01500649802296291,
          -0.10673682282256941,
          0.061799737233153074,
          -0.08284249916567274,
          0.18138556398374925,
          -0.12625417107885872,
          0.03479957015131513,
          -0.0447928051355306,
          -0.03404179946918503,
          -0.08901250049227678,
          -0.12502865322492357,
          -0.2322084126240115,
          -0.05979985663141531,
          -0.015444791347371204,
          -0.026910582101307593
         ],
         "yaxis": "y"
        },
        {
         "customdata": [
          [
           "Clinical features of Chlamydia pneumoniae acute respiratory infection"
          ],
          [
           "Comparison of Mycoplasma pneumoniae Infections in asthmatic children versus asthmatic adults."
          ],
          [
           "Management of bacterial infections in children with asthma."
          ],
          [
           "Mycoplasma pneumoniae and its role in asthma."
          ],
          [
           "Acute exacerbations of asthma in adults: role of Chlamydia pneumoniae infection."
          ],
          [
           "Pathogenic bacteria and viruses in induced sputum or pharyngeal secretions of adults with stable asthma."
          ],
          [
           "Role of viruses and atypical bacteria in asthma exacerbations among children in Oporto (Portugal)."
          ],
          [
           "Infectious triggers of asthma"
          ],
          [
           "The atypical pneumonias: clinical diagnosis and importance"
          ],
          [
           "Effects of Atypical Infections with Mycoplasma and Chlamydia on Asthma"
          ],
          [
           "Chlamydia pneumoniae and Exacerbations of Asthma in Adults"
          ],
          [
           "Role of viruses and atypical bacteria in exacerbations of asthma in hospitalized children: A prospective study in the Nord‐Pas de Calais region (France)"
          ],
          [
           "Decreased interleukin-18 response in asthmatic children with severe Mycoplasma pneumoniae pneumonia"
          ],
          [
           "Virome and bacteriome characterization of children with pneumonia and asthma in Mexico City during winter seasons 2014 and 2015"
          ],
          [
           "Clinical manifestations in infants and children with Mycoplasma pneumoniae infection"
          ],
          [
           "The Burden of Community-Acquired Pneumonia in Seniors: Results of a Population-Based Study"
          ],
          [
           "Lung ultrasound as a diagnostic tool for radiographically-confirmed pneumonia in low resource settings"
          ],
          [
           "Mycoplasma pneumoniae Infection Affects the Serum Levels of Vascular Endothelial Growth Factor and Interleukin-5 in Atopic Children"
          ],
          [
           "Does atopy affect the course of viral pneumonia?"
          ],
          [
           "Association of Mycoplasma pneumoniae and asthma among Indian children"
          ]
         ],
         "hovertemplate": "labels=0<br>pca_1=%{x}<br>pca_2=%{y}<br>title=%{customdata[0]}<extra></extra>",
         "legendgroup": "0",
         "marker": {
          "color": "#FF6692",
          "symbol": "circle"
         },
         "mode": "markers",
         "name": "0",
         "showlegend": true,
         "type": "scattergl",
         "x": [
          0.018942068545895425,
          0.23070364798865703,
          0.16134070032501766,
          -0.044551135889476484,
          0.14334022899005575,
          0.10797561248398625,
          0.24705981522008602,
          -0.03135799560870971,
          -0.03915269206430184,
          -0.03857625585383591,
          0.11982746532346647,
          0.31437215831352855,
          0.10849135031293396,
          0.2034942260860479,
          0.1863909902853878,
          0.054783375084178694,
          0.09196493505126963,
          0.0283788403915673,
          0.23432946065398036,
          0.13237964048014148
         ],
         "xaxis": "x",
         "y": [
          -0.0008777660914571763,
          -0.01572422153302052,
          0.2635207224320939,
          -0.009494718497344061,
          0.002601648663242708,
          -0.07147955831861195,
          0.0221347166399886,
          0.16004238959449704,
          -0.07012315779006664,
          0.09560928401353126,
          -0.1284662218444253,
          0.02009825577307283,
          -0.17482823941627684,
          -0.032933956841476646,
          -0.12943624904111786,
          -0.15055526947943504,
          -0.1334283240826698,
          -0.10834702447947232,
          -0.11772569621548071,
          -0.09429599750069989
         ],
         "yaxis": "y"
        },
        {
         "customdata": [
          [
           "The wheezing infant"
          ],
          [
           "Characteristics and prognosis of hospital‐treated obstructive bronchitis in children aged less than two years"
          ],
          [
           "Special Considerations in Preschool Age"
          ],
          [
           "Multiple Breath Washout for Diagnosing Asthma and Persistent Wheeze in Young Children."
          ],
          [
           "Severe bronchiolitis profiles and risk of recurrent wheeze by age 3 years."
          ],
          [
           "Bronchiolitis: age and previous wheezing episodes are linked to viral etiology and atopic characteristics."
          ],
          [
           "Wheezing rhinovirus illnesses in early life predict asthma development in high-risk children."
          ],
          [
           "Clinical characteristics of children infected with enterovirus D68 in an outpatient clinic and the association with bronchial asthma."
          ],
          [
           "Intravenous magnesium sulfate for acute wheezing in young children: a randomised double-blind trial."
          ],
          [
           "Febrile respiratory illnesses in infancy and atopy are risk factors for persistent asthma and wheeze."
          ],
          [
           "Recurrent wheezing illness in preschool-aged children: assessment and management in primary care practice."
          ],
          [
           "High risk of adult asthma following severe wheezing in early life."
          ],
          [
           "Early Administration of Azithromycin and Prevention of Severe Lower Respiratory Tract Illnesses in Preschool Children With a History of Such Illnesses: A Randomized Clinical Trial."
          ],
          [
           "Altered exhaled biomarker profiles in children during and after rhinovirus-induced wheeze."
          ],
          [
           "Rhinovirus bronchiolitis and recurrent wheezing: 1-year follow-up."
          ],
          [
           "Dynamics of the upper airway microbiome in the pathogenesis of asthma-associated persistent wheeze in preschool children"
          ],
          [
           "IL-13 genetic polymorphism identifies children with late wheezing after respiratory syncytial virus infection."
          ],
          [
           "Intermittent inhaled corticosteroids in infants with episodic wheezing."
          ],
          [
           "Association between renin-angiotensin system gene polymorphism and recurrent wheezing in Chinese children: a 4-year follow-up study."
          ],
          [
           "Recurrent wheezing 36 months after bronchiolitis is associated with rhinovirus infections and blood eosinophilia"
          ],
          [
           "Short- and long-term efficacy of prednisolone for first acute rhinovirus-induced wheezing episode"
          ],
          [
           "Respiratory viruses in bronchiolitis and their link to recurrent wheezing and asthma"
          ],
          [
           "Rhinovirus-induced first wheezing episode predicts atopic but not nonatopic asthma at school age"
          ],
          [
           "Bronchiolitis needs a revisit: Distinguishing between virus entities and their treatments"
          ],
          [
           "Decreased lung function after preschool wheezing rhinovirus illnesses in children at risk to develop asthma"
          ],
          [
           "High Titers of IgE Antibody to Dust Mite Allergen and the Risk for Wheezing Among Asthmatic Children Infected with Rhinovirus"
          ],
          [
           "Redecoration of apartments promotes obstructive bronchitis in atopy risk infants – Results of the LARS study"
          ],
          [
           "Bronchiolitis and asthma: Possible common pathogenetic pathways"
          ],
          [
           "32 Special Considerations for Infants and Young Children"
          ],
          [
           "The first wheezing episode: respiratory virus etiology, atopic characteristics, and illness severity"
          ],
          [
           "Prednisolone for the first rhinovirus‐induced wheezing and 4‐year asthma risk: A randomized trial"
          ],
          [
           "Wheezing exacerbations in early childhood: evaluation, treatment, and recent advances relevant to the genesis of asthma"
          ],
          [
           "Lung function and bronchial hyper‐responsiveness 11 years after hospitalization for bronchiolitis"
          ],
          [
           "Early-life respiratory viral infections, atopic sensitization, and risk of subsequent development of persistent asthma"
          ],
          [
           "Risk factors for wheezing in a subtropical environment(): Role of respiratory viruses and allergen sensitization"
          ],
          [
           "Wheezing in preschool children()"
          ],
          [
           "Assessment of airflow limitation, airway inflammation, and symptoms during virus-induced wheezing episodes in 4- to 6-year-old children"
          ],
          [
           "The effect of respiratory syncytial virus on subsequent recurrent wheezing in atopic and nonatopic children"
          ],
          [
           "Atopic characteristics of wheezing children and responses to prednisolone"
          ],
          [
           "Teenage asthma after severe early childhood wheezing: An 11‐year prospective follow‐up"
          ],
          [
           "Respiratory Presentation of Pediatric Patients in the 2014 Enterovirus D68 Outbreak"
          ],
          [
           "Wheezing due to rhinovirus infection in infancy: Bronchial hyperresponsiveness at school age"
          ],
          [
           "Rhinitis, Asthma and Respiratory Infections among Adults in Relation to the Home Environment in Multi-Family Buildings in Sweden"
          ],
          [
           "Early life rhinovirus wheezing, allergic sensitization, and asthma risk at adolescence"
          ],
          [
           "Clinical risk factors associated with the development of wheezing in children less than 2 years of age who required hospitalization for viral lower respiratory tract infections"
          ],
          [
           "Genetic polymorphisms and risk of recurrent wheezing in pediatric age"
          ],
          [
           "The association of viral and bacterial respiratory infections with exacerbations of wheezing in young asthmatic children"
          ],
          [
           "Role of viral coinfections in asthma development"
          ],
          [
           "Azithromycin for episodes with asthma-like symptoms in young children aged 1–3 years: a randomised, double-blind, placebo-controlled trial"
          ],
          [
           "Risk factors for a poor outcome among children admitted with clinically severe pneumonia to a university hospital in Rabat, Morocco"
          ],
          [
           "Prednisolone reduces recurrent wheezing after a first wheezing episode associated with rhinovirus infection or eczema"
          ],
          [
           "Prednisolone reduces recurrent wheezing after first rhinovirus wheeze: a 7‐year follow‐up"
          ],
          [
           "Pulmonary function and bronchial reactivity 4 years after the first virus-induced wheezing"
          ],
          [
           "Dynamics of airway microbiota identify a critical window for interplay of pathogenic bacteria and allergic sensitization in childhood respiratory disease"
          ],
          [
           "Allergic sensitization is associated with rhinovirus‐, but not other virus‐, induced wheezing in children"
          ],
          [
           "Viral respiratory infections and the oropharyngeal bacterial microbiota in acutely wheezing children"
          ]
         ],
         "hovertemplate": "labels=9<br>pca_1=%{x}<br>pca_2=%{y}<br>title=%{customdata[0]}<extra></extra>",
         "legendgroup": "9",
         "marker": {
          "color": "#B6E880",
          "symbol": "circle"
         },
         "mode": "markers",
         "name": "9",
         "showlegend": true,
         "type": "scattergl",
         "x": [
          0.15800471327980864,
          0.24341586113504043,
          0.16331026248798378,
          0.09051412933109078,
          0.16546852342959736,
          0.25892634876149034,
          0.30134346304632026,
          0.33660783347328793,
          0.1065666542862786,
          0.22152817172729766,
          0.0333971581151013,
          0.1339122823255749,
          0.052643722336162505,
          0.14875947374520973,
          0.24998185337849177,
          0.06346211536293873,
          0.17841042022142878,
          0.10205313870668947,
          0.11997874334334771,
          0.2922950179175221,
          0.18065027479700252,
          0.21668191444255902,
          0.1983494840936319,
          0.17578776685209074,
          0.22877529756455012,
          0.17538978378075376,
          0.024003307167067098,
          0.0490178116225671,
          0.02958553694465798,
          0.29407161775576385,
          0.15369602417771278,
          0.11875272559883976,
          0.15924188206999748,
          0.282835323406344,
          0.28883550388756196,
          0.15121974113397213,
          0.05094714802227324,
          0.14900407360154788,
          0.08751957316636383,
          0.26321371741382177,
          0.2309823618165382,
          0.09598822658539338,
          0.09714580721230179,
          0.21153482641168297,
          0.188831053303177,
          0.16949676339119743,
          0.34732249561234874,
          0.2949871591276437,
          0.0702401180456665,
          0.11518591244211818,
          0.23975440566353715,
          0.23652462659872497,
          0.23378021113410866,
          0.06346211536293873,
          0.14236462776539882,
          0.18314247478468304
         ],
         "xaxis": "x",
         "y": [
          0.03145699908696782,
          -0.10166795015294468,
          0.03373560627731941,
          -0.1768876567189097,
          -0.09151042070719345,
          -0.03917545164279198,
          0.10410876501582285,
          -0.049214537522108255,
          -0.1219122304275242,
          0.04982282458799517,
          -0.10651630781679068,
          -0.10990260767344172,
          -0.14965710400993892,
          -0.10734367996172103,
          -0.05348508446809732,
          0.07637142589008224,
          -0.01879032925359299,
          -0.15127493289397037,
          -0.1226560610139931,
          -0.04057089152866069,
          -0.16172445454542506,
          0.11255769711926153,
          -0.06770743611890137,
          0.01724204057830701,
          0.007008217486883732,
          -0.06573669827623407,
          -0.0909682258877034,
          0.06251072036113633,
          -0.06577492032021591,
          0.013707579182431835,
          -0.1585376615813403,
          0.007745479292104219,
          -0.07694330587487852,
          0.0630762116978881,
          -0.01787283403986287,
          -0.0691338701158554,
          -0.12583953908716505,
          -0.05208776694126304,
          -0.16083897137880526,
          -0.008804422058561537,
          -0.1827567937174078,
          -0.03845924351718139,
          -0.1106652625677974,
          -0.004167943943802188,
          -0.062547580808519,
          -0.08855427063897128,
          0.12782812258946444,
          -0.05433894696473415,
          -0.15760944747696043,
          -0.1820318422837136,
          -0.09986761685234646,
          -0.08320824479224471,
          -0.10132200562351625,
          0.07637142589008224,
          -0.021134079697259556,
          0.014884630683157596
         ],
         "yaxis": "y"
        },
        {
         "customdata": [
          [
           "Respiratorische Erkrankungen"
          ],
          [
           "Pneumologie"
          ],
          [
           "Pneumologie"
          ],
          [
           "Krankheitsbilder"
          ],
          [
           "Erkrankungen der Atemwege und der Lunge"
          ],
          [
           "Virale Infektionen: RNA-Viren"
          ],
          [
           "Pneumologie"
          ],
          [
           "Allergologie"
          ],
          [
           "Pneumologie interdisziplinär"
          ],
          [
           "EPITOPE-BASED VACCINE FOR THE TREATMENT OF DER F 3 ALLERGY."
          ],
          [
           "Biologics in Rhinology – Forthcoming Personalized Concepts: the Future Starts Today"
          ],
          [
           "Kein ungezielter Einsatz von Antibiotika: Akute Bronchitis"
          ]
         ],
         "hovertemplate": "labels=13<br>pca_1=%{x}<br>pca_2=%{y}<br>title=%{customdata[0]}<extra></extra>",
         "legendgroup": "13",
         "marker": {
          "color": "#FF97FF",
          "symbol": "circle"
         },
         "mode": "markers",
         "name": "13",
         "showlegend": true,
         "type": "scattergl",
         "x": [
          -0.1100700763663707,
          -0.13687261744342605,
          -0.11492140356244548,
          -0.14100914337972748,
          -0.1375187661334255,
          -0.13332577918868188,
          -0.13698985394753893,
          -0.1333133341219188,
          -0.1254128037000472,
          -0.13345394216489315,
          -0.1421556165334252,
          -0.12808763997853873
         ],
         "xaxis": "x",
         "y": [
          -0.16878769669667995,
          -0.19091736308638102,
          -0.1377091738858024,
          -0.18018940332642927,
          -0.18337084621557181,
          -0.18846858636905614,
          -0.18388319180776014,
          -0.18893526811567682,
          -0.18091323903728337,
          -0.13818240773269574,
          -0.17004506491978677,
          -0.1672064507974873
         ],
         "yaxis": "y"
        },
        {
         "customdata": [
          [
           "Virus et sensibilisation"
          ],
          [
           "Toux chronique de l’enfant"
          ],
          [
           "Papel de los receptores toll-like en las enfermedades respiratorias"
          ],
          [
           "Relación entre asma e infecciones virales"
          ],
          [
           "Asma infantil e infección vírica: interacciones y posibilidades terapéuticas"
          ],
          [
           "Acidose lactique chez un nourrisson au cours d’une crise d’asthme grave"
          ],
          [
           "Exacerbations de l’asthme et identification virale associée à celle du Chlamydiae pneumoniae et du Mycoplasma pneumoniae : épidémiologie comparative entre nourrissons et enfants âgés de plus de deux ans"
          ],
          [
           "Tendencias temporales de las concentraciones de citocinas Th1 y Th2 en esputo inducido de pacientes asmáticos durante infecciones víricas agudas de las vías respiratorias superiores"
          ],
          [
           "Papel del rinovirus en las infecciones respiratorias en niños hospitalizados"
          ],
          [
           "Exacerbations asthmatiques : spécificités pédiatriques (en dehors du traitement)"
          ],
          [
           "Intérêt de l’identification en routine des agents pathogènes respiratoires chez les enfants hospitalisés pour une exacerbation d’asthme"
          ],
          [
           "Marqueurs biologiques de gravité initiale des bronchiolites aiguës et d’évolution vers un asthme du nourrisson"
          ],
          [
           "Prise en charge des pathologies respiratoires à adénovirus chez l’enfant immunocompétent À propos d’une étude rétrospective de 116 enfants hospitalisés"
          ]
         ],
         "hovertemplate": "labels=4<br>pca_1=%{x}<br>pca_2=%{y}<br>title=%{customdata[0]}<extra></extra>",
         "legendgroup": "4",
         "marker": {
          "color": "#FECB52",
          "symbol": "circle"
         },
         "mode": "markers",
         "name": "4",
         "showlegend": true,
         "type": "scattergl",
         "x": [
          -0.011535553066398783,
          -0.09345498603275909,
          -0.15842179255326314,
          -0.07360273238790024,
          -0.10278199913370649,
          -0.06169994403804402,
          0.029990285232434622,
          -0.05603198149956942,
          0.03901312345979781,
          -0.06692018340235095,
          0.009548158377272773,
          -0.02015584336297207,
          -0.01140899560204953
         ],
         "xaxis": "x",
         "y": [
          0.021778854278153473,
          -0.10399534361539099,
          -0.049387060778240045,
          -0.030634578271145414,
          -0.0277431885526674,
          -0.1604457792422175,
          -0.08314168330315695,
          -0.07818274445775207,
          -0.08535673125023567,
          -0.06807884048677121,
          -0.07814895718606021,
          -0.08736403973154662,
          -0.03950272637131981
         ],
         "yaxis": "y"
        }
       ],
       "layout": {
        "legend": {
         "title": {
          "text": "labels"
         },
         "tracegroupgap": 0
        },
        "margin": {
         "t": 60
        },
        "template": {
         "data": {
          "bar": [
           {
            "error_x": {
             "color": "#2a3f5f"
            },
            "error_y": {
             "color": "#2a3f5f"
            },
            "marker": {
             "line": {
              "color": "#E5ECF6",
              "width": 0.5
             }
            },
            "type": "bar"
           }
          ],
          "barpolar": [
           {
            "marker": {
             "line": {
              "color": "#E5ECF6",
              "width": 0.5
             }
            },
            "type": "barpolar"
           }
          ],
          "carpet": [
           {
            "aaxis": {
             "endlinecolor": "#2a3f5f",
             "gridcolor": "white",
             "linecolor": "white",
             "minorgridcolor": "white",
             "startlinecolor": "#2a3f5f"
            },
            "baxis": {
             "endlinecolor": "#2a3f5f",
             "gridcolor": "white",
             "linecolor": "white",
             "minorgridcolor": "white",
             "startlinecolor": "#2a3f5f"
            },
            "type": "carpet"
           }
          ],
          "choropleth": [
           {
            "colorbar": {
             "outlinewidth": 0,
             "ticks": ""
            },
            "type": "choropleth"
           }
          ],
          "contour": [
           {
            "colorbar": {
             "outlinewidth": 0,
             "ticks": ""
            },
            "colorscale": [
             [
              0,
              "#0d0887"
             ],
             [
              0.1111111111111111,
              "#46039f"
             ],
             [
              0.2222222222222222,
              "#7201a8"
             ],
             [
              0.3333333333333333,
              "#9c179e"
             ],
             [
              0.4444444444444444,
              "#bd3786"
             ],
             [
              0.5555555555555556,
              "#d8576b"
             ],
             [
              0.6666666666666666,
              "#ed7953"
             ],
             [
              0.7777777777777778,
              "#fb9f3a"
             ],
             [
              0.8888888888888888,
              "#fdca26"
             ],
             [
              1,
              "#f0f921"
             ]
            ],
            "type": "contour"
           }
          ],
          "contourcarpet": [
           {
            "colorbar": {
             "outlinewidth": 0,
             "ticks": ""
            },
            "type": "contourcarpet"
           }
          ],
          "heatmap": [
           {
            "colorbar": {
             "outlinewidth": 0,
             "ticks": ""
            },
            "colorscale": [
             [
              0,
              "#0d0887"
             ],
             [
              0.1111111111111111,
              "#46039f"
             ],
             [
              0.2222222222222222,
              "#7201a8"
             ],
             [
              0.3333333333333333,
              "#9c179e"
             ],
             [
              0.4444444444444444,
              "#bd3786"
             ],
             [
              0.5555555555555556,
              "#d8576b"
             ],
             [
              0.6666666666666666,
              "#ed7953"
             ],
             [
              0.7777777777777778,
              "#fb9f3a"
             ],
             [
              0.8888888888888888,
              "#fdca26"
             ],
             [
              1,
              "#f0f921"
             ]
            ],
            "type": "heatmap"
           }
          ],
          "heatmapgl": [
           {
            "colorbar": {
             "outlinewidth": 0,
             "ticks": ""
            },
            "colorscale": [
             [
              0,
              "#0d0887"
             ],
             [
              0.1111111111111111,
              "#46039f"
             ],
             [
              0.2222222222222222,
              "#7201a8"
             ],
             [
              0.3333333333333333,
              "#9c179e"
             ],
             [
              0.4444444444444444,
              "#bd3786"
             ],
             [
              0.5555555555555556,
              "#d8576b"
             ],
             [
              0.6666666666666666,
              "#ed7953"
             ],
             [
              0.7777777777777778,
              "#fb9f3a"
             ],
             [
              0.8888888888888888,
              "#fdca26"
             ],
             [
              1,
              "#f0f921"
             ]
            ],
            "type": "heatmapgl"
           }
          ],
          "histogram": [
           {
            "marker": {
             "colorbar": {
              "outlinewidth": 0,
              "ticks": ""
             }
            },
            "type": "histogram"
           }
          ],
          "histogram2d": [
           {
            "colorbar": {
             "outlinewidth": 0,
             "ticks": ""
            },
            "colorscale": [
             [
              0,
              "#0d0887"
             ],
             [
              0.1111111111111111,
              "#46039f"
             ],
             [
              0.2222222222222222,
              "#7201a8"
             ],
             [
              0.3333333333333333,
              "#9c179e"
             ],
             [
              0.4444444444444444,
              "#bd3786"
             ],
             [
              0.5555555555555556,
              "#d8576b"
             ],
             [
              0.6666666666666666,
              "#ed7953"
             ],
             [
              0.7777777777777778,
              "#fb9f3a"
             ],
             [
              0.8888888888888888,
              "#fdca26"
             ],
             [
              1,
              "#f0f921"
             ]
            ],
            "type": "histogram2d"
           }
          ],
          "histogram2dcontour": [
           {
            "colorbar": {
             "outlinewidth": 0,
             "ticks": ""
            },
            "colorscale": [
             [
              0,
              "#0d0887"
             ],
             [
              0.1111111111111111,
              "#46039f"
             ],
             [
              0.2222222222222222,
              "#7201a8"
             ],
             [
              0.3333333333333333,
              "#9c179e"
             ],
             [
              0.4444444444444444,
              "#bd3786"
             ],
             [
              0.5555555555555556,
              "#d8576b"
             ],
             [
              0.6666666666666666,
              "#ed7953"
             ],
             [
              0.7777777777777778,
              "#fb9f3a"
             ],
             [
              0.8888888888888888,
              "#fdca26"
             ],
             [
              1,
              "#f0f921"
             ]
            ],
            "type": "histogram2dcontour"
           }
          ],
          "mesh3d": [
           {
            "colorbar": {
             "outlinewidth": 0,
             "ticks": ""
            },
            "type": "mesh3d"
           }
          ],
          "parcoords": [
           {
            "line": {
             "colorbar": {
              "outlinewidth": 0,
              "ticks": ""
             }
            },
            "type": "parcoords"
           }
          ],
          "pie": [
           {
            "automargin": true,
            "type": "pie"
           }
          ],
          "scatter": [
           {
            "marker": {
             "colorbar": {
              "outlinewidth": 0,
              "ticks": ""
             }
            },
            "type": "scatter"
           }
          ],
          "scatter3d": [
           {
            "line": {
             "colorbar": {
              "outlinewidth": 0,
              "ticks": ""
             }
            },
            "marker": {
             "colorbar": {
              "outlinewidth": 0,
              "ticks": ""
             }
            },
            "type": "scatter3d"
           }
          ],
          "scattercarpet": [
           {
            "marker": {
             "colorbar": {
              "outlinewidth": 0,
              "ticks": ""
             }
            },
            "type": "scattercarpet"
           }
          ],
          "scattergeo": [
           {
            "marker": {
             "colorbar": {
              "outlinewidth": 0,
              "ticks": ""
             }
            },
            "type": "scattergeo"
           }
          ],
          "scattergl": [
           {
            "marker": {
             "colorbar": {
              "outlinewidth": 0,
              "ticks": ""
             }
            },
            "type": "scattergl"
           }
          ],
          "scattermapbox": [
           {
            "marker": {
             "colorbar": {
              "outlinewidth": 0,
              "ticks": ""
             }
            },
            "type": "scattermapbox"
           }
          ],
          "scatterpolar": [
           {
            "marker": {
             "colorbar": {
              "outlinewidth": 0,
              "ticks": ""
             }
            },
            "type": "scatterpolar"
           }
          ],
          "scatterpolargl": [
           {
            "marker": {
             "colorbar": {
              "outlinewidth": 0,
              "ticks": ""
             }
            },
            "type": "scatterpolargl"
           }
          ],
          "scatterternary": [
           {
            "marker": {
             "colorbar": {
              "outlinewidth": 0,
              "ticks": ""
             }
            },
            "type": "scatterternary"
           }
          ],
          "surface": [
           {
            "colorbar": {
             "outlinewidth": 0,
             "ticks": ""
            },
            "colorscale": [
             [
              0,
              "#0d0887"
             ],
             [
              0.1111111111111111,
              "#46039f"
             ],
             [
              0.2222222222222222,
              "#7201a8"
             ],
             [
              0.3333333333333333,
              "#9c179e"
             ],
             [
              0.4444444444444444,
              "#bd3786"
             ],
             [
              0.5555555555555556,
              "#d8576b"
             ],
             [
              0.6666666666666666,
              "#ed7953"
             ],
             [
              0.7777777777777778,
              "#fb9f3a"
             ],
             [
              0.8888888888888888,
              "#fdca26"
             ],
             [
              1,
              "#f0f921"
             ]
            ],
            "type": "surface"
           }
          ],
          "table": [
           {
            "cells": {
             "fill": {
              "color": "#EBF0F8"
             },
             "line": {
              "color": "white"
             }
            },
            "header": {
             "fill": {
              "color": "#C8D4E3"
             },
             "line": {
              "color": "white"
             }
            },
            "type": "table"
           }
          ]
         },
         "layout": {
          "annotationdefaults": {
           "arrowcolor": "#2a3f5f",
           "arrowhead": 0,
           "arrowwidth": 1
          },
          "coloraxis": {
           "colorbar": {
            "outlinewidth": 0,
            "ticks": ""
           }
          },
          "colorscale": {
           "diverging": [
            [
             0,
             "#8e0152"
            ],
            [
             0.1,
             "#c51b7d"
            ],
            [
             0.2,
             "#de77ae"
            ],
            [
             0.3,
             "#f1b6da"
            ],
            [
             0.4,
             "#fde0ef"
            ],
            [
             0.5,
             "#f7f7f7"
            ],
            [
             0.6,
             "#e6f5d0"
            ],
            [
             0.7,
             "#b8e186"
            ],
            [
             0.8,
             "#7fbc41"
            ],
            [
             0.9,
             "#4d9221"
            ],
            [
             1,
             "#276419"
            ]
           ],
           "sequential": [
            [
             0,
             "#0d0887"
            ],
            [
             0.1111111111111111,
             "#46039f"
            ],
            [
             0.2222222222222222,
             "#7201a8"
            ],
            [
             0.3333333333333333,
             "#9c179e"
            ],
            [
             0.4444444444444444,
             "#bd3786"
            ],
            [
             0.5555555555555556,
             "#d8576b"
            ],
            [
             0.6666666666666666,
             "#ed7953"
            ],
            [
             0.7777777777777778,
             "#fb9f3a"
            ],
            [
             0.8888888888888888,
             "#fdca26"
            ],
            [
             1,
             "#f0f921"
            ]
           ],
           "sequentialminus": [
            [
             0,
             "#0d0887"
            ],
            [
             0.1111111111111111,
             "#46039f"
            ],
            [
             0.2222222222222222,
             "#7201a8"
            ],
            [
             0.3333333333333333,
             "#9c179e"
            ],
            [
             0.4444444444444444,
             "#bd3786"
            ],
            [
             0.5555555555555556,
             "#d8576b"
            ],
            [
             0.6666666666666666,
             "#ed7953"
            ],
            [
             0.7777777777777778,
             "#fb9f3a"
            ],
            [
             0.8888888888888888,
             "#fdca26"
            ],
            [
             1,
             "#f0f921"
            ]
           ]
          },
          "colorway": [
           "#636efa",
           "#EF553B",
           "#00cc96",
           "#ab63fa",
           "#FFA15A",
           "#19d3f3",
           "#FF6692",
           "#B6E880",
           "#FF97FF",
           "#FECB52"
          ],
          "font": {
           "color": "#2a3f5f"
          },
          "geo": {
           "bgcolor": "white",
           "lakecolor": "white",
           "landcolor": "#E5ECF6",
           "showlakes": true,
           "showland": true,
           "subunitcolor": "white"
          },
          "hoverlabel": {
           "align": "left"
          },
          "hovermode": "closest",
          "mapbox": {
           "style": "light"
          },
          "paper_bgcolor": "white",
          "plot_bgcolor": "#E5ECF6",
          "polar": {
           "angularaxis": {
            "gridcolor": "white",
            "linecolor": "white",
            "ticks": ""
           },
           "bgcolor": "#E5ECF6",
           "radialaxis": {
            "gridcolor": "white",
            "linecolor": "white",
            "ticks": ""
           }
          },
          "scene": {
           "xaxis": {
            "backgroundcolor": "#E5ECF6",
            "gridcolor": "white",
            "gridwidth": 2,
            "linecolor": "white",
            "showbackground": true,
            "ticks": "",
            "zerolinecolor": "white"
           },
           "yaxis": {
            "backgroundcolor": "#E5ECF6",
            "gridcolor": "white",
            "gridwidth": 2,
            "linecolor": "white",
            "showbackground": true,
            "ticks": "",
            "zerolinecolor": "white"
           },
           "zaxis": {
            "backgroundcolor": "#E5ECF6",
            "gridcolor": "white",
            "gridwidth": 2,
            "linecolor": "white",
            "showbackground": true,
            "ticks": "",
            "zerolinecolor": "white"
           }
          },
          "shapedefaults": {
           "line": {
            "color": "#2a3f5f"
           }
          },
          "ternary": {
           "aaxis": {
            "gridcolor": "white",
            "linecolor": "white",
            "ticks": ""
           },
           "baxis": {
            "gridcolor": "white",
            "linecolor": "white",
            "ticks": ""
           },
           "bgcolor": "#E5ECF6",
           "caxis": {
            "gridcolor": "white",
            "linecolor": "white",
            "ticks": ""
           }
          },
          "title": {
           "x": 0.05
          },
          "xaxis": {
           "automargin": true,
           "gridcolor": "white",
           "linecolor": "white",
           "ticks": "",
           "title": {
            "standoff": 15
           },
           "zerolinecolor": "white",
           "zerolinewidth": 2
          },
          "yaxis": {
           "automargin": true,
           "gridcolor": "white",
           "linecolor": "white",
           "ticks": "",
           "title": {
            "standoff": 15
           },
           "zerolinecolor": "white",
           "zerolinewidth": 2
          }
         }
        },
        "xaxis": {
         "anchor": "y",
         "domain": [
          0,
          1
         ],
         "title": {
          "text": "pca_1"
         }
        },
        "yaxis": {
         "anchor": "x",
         "domain": [
          0,
          1
         ],
         "title": {
          "text": "pca_2"
         }
        }
       }
      },
      "text/html": [
       "<div>\n",
       "        \n",
       "        \n",
       "            <div id=\"34a7ba7a-5d5c-4485-9efe-e4da0273bc7e\" class=\"plotly-graph-div\" style=\"height:525px; width:100%;\"></div>\n",
       "            <script type=\"text/javascript\">\n",
       "                require([\"plotly\"], function(Plotly) {\n",
       "                    window.PLOTLYENV=window.PLOTLYENV || {};\n",
       "                    \n",
       "                if (document.getElementById(\"34a7ba7a-5d5c-4485-9efe-e4da0273bc7e\")) {\n",
       "                    Plotly.newPlot(\n",
       "                        '34a7ba7a-5d5c-4485-9efe-e4da0273bc7e',\n",
       "                        [{\"customdata\": [[\"Relevance of human metapneumovirus in exacerbations of COPD\"], [\"Human metapneumovirus in Pediatric Patients with Acute Respiratory Tract Infections in the Aseer Region of Saudi Arabia\"], [\"Burden of human metapneumovirus infection in young children.\"], [\"Cross-neutralization of four paramyxoviruses by a human monoclonal antibody.\"], [\"Human metapneumovirus: a ubiquitous and long-standing respiratory pathogen.\"], [\"Prevalence of human Metapneumovirus (hMPV) in children with wheezing in Shiraz-Iran.\"], [\"Human metapneumovirus infection in young children hospitalized with respiratory tract disease.\"], [\"Epidemiology of human metapneumovirus.\"], [\"Epidemiological, clinical and genotypic features of human Metapneumovirus in patients with influenza-like illness in Senegal, 2012 to 2016\"], [\"Perspective on the host response to human metapneumovirus infection: what can we learn from respiratory syncytial virus infections?\"], [\"Human Metapneumovirus: An Emerging Respiratory Pathogen\"], [\"Recombinant expression and immunological characterisation of proteins derived from human metapneumovirus\"], [\"Population-Based Incidence of Human Metapneumovirus in Hospitalized Children\"], [\"Viral etiology of acute lower respiratory tract infections in hospitalized young children in Northern Taiwan\"]], \"hovertemplate\": \"labels=7<br>pca_1=%{x}<br>pca_2=%{y}<br>title=%{customdata[0]}<extra></extra>\", \"legendgroup\": \"7\", \"marker\": {\"color\": \"#636efa\", \"symbol\": \"circle\"}, \"mode\": \"markers\", \"name\": \"7\", \"showlegend\": true, \"type\": \"scattergl\", \"x\": [0.060017467600164694, 0.1705944701007561, 0.23324080244515086, -0.01335789156555881, 0.08170391642925795, 0.24514627531092437, 0.2018776512247101, 0.06233268478267185, 0.16246730948892998, 0.0898478168466629, 0.04766626202492041, -0.02209713719264323, 0.272835733992236, 0.3129713751276845], \"xaxis\": \"x\", \"y\": [-0.08378629001102463, -0.06634939097219919, -0.1126462478597921, -0.02073737369795298, 0.10822139696141336, -0.057381861638408804, -0.032287865197689815, 0.0671025609048706, -0.08671186840154002, 0.16235534423026518, -0.018507891244398077, -0.11082488114971728, -0.1848018814652108, -0.039376377835650705], \"yaxis\": \"y\"}, {\"customdata\": [[\"Surfactant therapy for acute respiratory failure in children: a systematic review and meta-analysis\"], [\"Long-term respiratory follow-up of H1N1 infection\"], [\"Clinical characteristics of pediatric hospitalizations associated with 2009 pandemic influenza A (H1N1) in Northern Bavaria, Germany\"], [\"Asthma in patients hospitalized with pandemic influenza A(H1N1)pdm09 virus infection\\u2013United States, 2009\"], [\"Procalcitonin guidance for reduction of antibiotic use in patients hospitalized with severe acute exacerbations of asthma: a randomized controlled study with 12-month follow-up\"], [\"Clinical Scenarios of the Application of Electrical Impedance Tomography in Paediatric Intensive Care\"], [\"The Incidence of Respiratory Tract Infection in Adults Requiring Hospitalization for Asthma\"], [\"Acquired neuromuscular disorders in critically ill patients: a systematic review\"], [\"Critically ill obstetric patients in an American and an Indian public hospital: comparison of case-mix, organ dysfunction, intensive care requirements, and outcomes\"], [\"Corticosteroid treatment in critically ill patients with severe influenza pneumonia: a propensity score matching study\"], [\"Respiratorische Notf\\u00e4lle im Kindes- und Jugendalter\"], [\"Clinical characteristics of adult patients with influenza-like illness hospitalized in general ward during Influenza A H1N1 pandemic 2009/2010\"], [\"Nichtinvasive Beatmung bei Kindern mit akuter respiratorischer Insuffizienz\"], [\"Approach to neuromuscular disorders in the intensive care unit\"], [\"Decreased FEV (1)% in asthmatic adults in Scottish homes with high Environmental Relative Moldiness Index values\"], [\"The effect of inhaled and intranasal sodium cromoglyeate on symptoms of upper respiratory tract infections\"], [\"Urinary club cell protein 16 (CC16): Utility of its assay during acute bronchiolitis\"], [\"Obesity Trends among Asthma Patients in the United States: A Population-based Study\"], [\"Exam 4 Questions\"], [\"Respiratory Disorders\"], [\"Exam 3 Questions\"], [\"Acute Respiratory Failure\"], [\"Inhaled corticosteroids in COPD: friend or foe?\"], [\"Smoke-free legislation reduces hospital admissions for childhood lower respiratory tract infection.\"], [\"Work participation among the morbidly obese seeking bariatric surgery: an exploratory study from Norway.\"], [\"A case of severe acute exacerbation of Yokkaichi asthma treated with a vibrating mesh nebulizer.\"], [\"Bariatric surgery: risks and rewards.\"], [\"Wheezing as a sign of cor triatriatum sinister culminating in multiple organ failure.\"], [\"Trends in childhood asthma hospitalisation in three Asia Pacific countries.\"], [\"Community Asthma Initiative: Cost Analyses using Claims Data from a Medicaid Managed Care Organization.\"], [\"Five-year survival following radiofrequency ablation of small, solitary, hepatic colorectal metastases.\"], [\"Randomized phase 2 trial of monthly vitamin D to prevent respiratory complications in children with sickle cell disease.\"], [\"Heliox inhalation therapy for bronchiolitis in infants.\"], [\"Effects of Macrolide Treatment during the Hospitalization of Children with Childhood Wheezing Disease: A Systematic Review and Meta-Analysis.\"], [\"Long-term improvements in pulmonary function 5 years after bariatric surgery.\"], [\"Noninvasive mechanical ventilation.\"], [\"Resource burden at children's hospitals experiencing surge volumes during the spring 2009 H1N1 influenza pandemic.\"], [\"Comparison of comorbidity resolution and improvement between laparoscopic sleeve gastrectomy and laparoscopic adjustable gastric banding.\"], [\"Long-acting muscarinic antagonists (LAMA) added to inhaled corticosteroids (ICS) versus the same dose of ICS alone for adults with asthma.\"], [\"Dynamic Respiratory Tortuosity of the Vertebral Artery Ostium.\"], [\"Noninvasive positive pressure ventilation in the acute care setting: where are we?\"], [\"Ethnic variations in morbidity and mortality from lower respiratory tract infections: a retrospective cohort study.\"], [\"Montelukast as an episodic modifier for acute viral bronchiolitis: a randomized trial.\"], [\"Changes in helper lymphocyte chemokine receptor expression and elevation of IP-10 during acute respiratory syncytial virus infection in infants.\"], [\"Asthma medication usage is significantly reduced following bariatric surgery.\"], [\"Non-invasive ventilation use in status asthmaticus: 16 years of experience in a tertiary intensive care.\"], [\"Effect of beta2-adrenergic receptor polymorphism on response to longacting beta2 agonist in asthma (LARGE trial): a genotype-stratified, randomised, placebo-controlled, crossover trial.\"], [\"Boston children's hospital community asthma initiative: Five-year cost analyses of a home visiting program.\"], [\"Incident user cohort study of risk for gastrointestinal bleed and stroke in individuals with major depressive disorder treated with antidepressants.\"], [\"Association of Respiratory Picornaviruses With High Acuity and Severe Illness in a Pediatric Health Care System.\"], [\"Respiratory Viruses and Treatment Failure in Children With Asthma Exacerbation.\"], [\"Behind a mask: tricks, pitfalls, and prejudices for noninvasive ventilation.\"], [\"Short-term effects of ambient PM1 and PM2.5 air pollution on hospital admission for respiratory diseases: Case-crossover evidence from Shenzhen, China.\"], [\"How Respiratory Syncytial Virus Genotypes Influence the Clinical Course in Infants Hospitalized for Bronchiolitis.\"], [\"The viral aetiology of croup and recurrent croup.\"], [\"The use of neuromuscular blocking agents in the ICU: where are we now?\"], [\"Assessment of Bohr and Enghoff Dead Space Equations in Mechanically Ventilated Children.\"], [\"Long-term outcomes of laparoscopic sleeve gastrectomy: a Lebanese center experience.\"], [\"Olfactory dysfunction and asthma as risk factors for poor quality of life in upper airway diseases.\"], [\"High-flow oxygen therapy and other inhaled therapies in intensive care units.\"], [\"Effects of air pollution on asthma hospitalization rates in different age groups in Hong Kong.\"], [\"Study of modifiable risk factors for asthma exacerbations: virus infection and allergen exposure increase the risk of asthma hospital admissions in children.\"], [\"[Detection and clinical analysis of acute lower respiratory tract infection with human coronaviruses in children in Beijing area 2007-2015].\"], [\"Antibodies to Coronavirus OC 43 strain in the population of North-Eastern Hungary.\"], [\"Noninvasive ventilation in acute respiratory failure.\"], [\"Montelukast reduces asthma exacerbations in 2- to 5-year-old children with intermittent asthma.\"], [\"Clinical features, treatments and outcomes of influenza A (H1N1) 2009 among the hospitalized patients in the clinic for infectious diseases in Novi Sad.\"], [\"Epidemiological and clinical features of enteroviral acute lower respiratory tract infections in hospitalized paediatric patients in a Malaysian tertiary center.\"], [\"Predictors of failure of the laparoscopic approach for the management of small bowel obstruction.\"], [\"Impact of respiratory virus infections on persons with chronic underlying conditions.\"], [\"[Effect of 1-year specific immunotherapy with standardized house dust mite vaccine on mild to moderate allergic asthmatic patients].\"], [\"Synergism between allergens and viruses and risk of hospital admission with asthma: case-control study.\"], [\"Aberrant expression of CC and CXC chemokines and their receptors in patients with asthma.\"], [\"ALTERED THEOPHYLLINE PHARMACOKINETICS DURING ACUTE RESPIRATORY VIRAL ILLNESS\"], [\"Measuring the Severity of Respiratory Illness in the First 2 Years of Life in Preterm and Term Infants\"], [\"Bronchiolitis obliterans syndrome after allogeneic hematopoietic SCT: phenotypes and prognosis\"], [\"Association between continuity of care and emergency department visits and hospitalization in senior adults with asthma-COPD overlap\"], [\"Pediatric Asthma Mortality and Hospitalization Trends Across Asia Pacific Relationship With Asthma Drug Utilization Patterns\"], [\"Montelukast Reduces Serum Levels of Eosinophil-Derived Neurotoxin in Preschool Asthma\"], [\"Effectiveness of non-pharmaceutical measures in preventing pediatric influenza: a case\\u2013control study\"], [\"Virus detection and cytokine profile in relation to age among acute exacerbations of childhood asthma\"], [\"Common cold decreases lung function in infants with recurrent wheezing\"], [\"Bronchiolitis: Analysis of 10 consecutive epidemic seasons\"], [\"Severe respiratory illness associated with a nationwide outbreak of enterovirus D68 in the USA (2014): a descriptive epidemiological investigation\"], [\"Radiographic follow\\u2010up of pneumonia in children\"], [\"Clinical characteristics of influenza virus-induced lower respiratory infection during the 2015 to 2016 season\"], [\"Fluctuation analysis-based risk assessment for respiratory virus activity and air pollution associated asthma incidence\"], [\"Use of early corticosteroid therapy on ICU admission in patients affected by severe pandemic (H1N1)v influenza A infection\"], [\"Rapid clinical diagnosis in fatal swine influenza (H1N1) pneumonia in an adult with negative rapid influenza diagnostic tests (RIDTs): Diagnostic swine influenza triad\"], [\"The Relationship of Rhinovirus-Associated Asthma Hospitalizations with Inhaled Corticosteroids and Smoking\"], [\"The relation of innate and adaptive immunity with viral-induced acute asthma attacks: Focusing on IP-10 and cathelicidin\"], [\"Patients hospitalized with an infective exacerbation of bronchiectasis unrelated to cystic fibrosis: Clinical, physiological and sputum characteristics\"], [\"Mannose\\u2010binding lectin cord blood levels and respiratory symptoms during infancy: a prospective birth cohort study\"], [\"Biological exacerbation clusters demonstrate asthma and chronic obstructive pulmonary disease overlap with distinct mediator and microbiome profiles\"], [\"Epidemiology and clinical outcome of virus-positive respiratory samples in ventilated patients: a prospective cohort study\"], [\"Differences between asthmatics and nonasthmatics hospitalised with influenza A infection\"], [\"A randomized open-label trial on the use of budesonide/formoterol (Symbicort(\\u00ae)) as an alternative reliever medication for mild to moderate asthmatic attacks\"], [\"Burden of respiratory viruses in patients with acute respiratory failure\"], [\"Clinical characteristics of eosinophilic asthma exacerbations\"], [\"Serum soluble receptor for advanced glycation end\\u2010products during acute bronchiolitis in infant: Prospective study in 93 cases\"], [\"Nebulized magnesium for moderate and severe pediatric asthma: A randomized trial\"], [\"Rhinovirus identification by BglI digestion of picornavirus RT-PCR amplicons\"], [\"Asthme et usage d\\u2019h\\u00e9ro\\u00efne\"], [\"Recent advances in the role of non-invasive ventilation in acute respiratory failure\"], [\"Conurbation, Urban, and Rural Living as Determinants of Allergies and Infectious Diseases: Royal College of General Practitioners Research and Surveillance Centre Annual Report 2016-2017\"], [\"Can an evidence-based guideline reminder card improve asthma management in the emergency department?\"], [\"Management of acute asthma attacks associated with respiratory tract infection: a postal survey of general practitioners in the U.K.\"], [\"Prenatal maternal distress associates with a blunted cortisol response in rhinovirus-positive infants\"], [\"Dual Respiratory Virus Infections\"], [\"Incidence and risk factors of lower respiratory tract illnesses during infancy in a Mediterranean birth cohort\"], [\"Clinical and Immunological Benefits of OM-85 Bacterial Lysate in Patients with Allergic Rhinitis, Asthma, and COPD and Recurrent Respiratory Infections\"], [\"Clinical Characteristics of Asthmatic Patients With Influenza-Like Illness and Risk for Severe Exacerbations in Mexico\"], [\"No Direct Association Between Asthma and the Microbiome Based on Currently Available Techniques\"], [\"The September epidemic of asthma exacerbations in children: A search for etiology\"], [\"Comparing ozone metrics on associations with outpatient visits for respiratory diseases in Taipei Metropolitan area\"], [\"Serum IgG Concentrations in Adult Patients Experiencing Virus-Induced Severe Asthma Exacerbations\"], [\"Fungi in respiratory samples of horses with inflammatory airway disease\"], [\"Risk Factors for Repeat Adverse Asthma Events in Children After Visiting an Emergency Department\"], [\"Asthma associated with denatonium benzoate in a healthcare worker in Taiwan: A case report\"], [\"Treatment, outcomes and costs of asthma exacerbations in Chilean children: a prospective multicenter observational study\"], [\"\\u03b2(2)-Adrenergic receptor promoter haplotype influences the severity of acute viral respiratory tract infection during infancy: a prospective cohort study\"], [\"Ciliated conical epithelial cell protrusions point towards a diagnosis of primary ciliary dyskinesia\"], [\"DO IT Trial: vitamin D Outcomes and Interventions in Toddlers \\u2013 a TARGet Kids! randomized controlled trial\"], [\"Clinical characteristics and outcomes of human rhinovirus positivity in hospitalized children\"], [\"IV Magnesium Sulfate for Bronchiolitis A Randomized Trial\"], [\"Thymic stromal lymphopoietin, IL-33, and periostin in hospitalized infants with viral bronchiolitis\"], [\"Influenza A(H1N1)pdm09 and Cystic Fibrosis Lung Disease: A Systematic Meta-Analysis\"], [\"Neonatal bronchial hyperresponsiveness precedes acute severe viral bronchiolitis in infants\"], [\"Viral Loads and Duration of Viral Shedding in Adult Patients Hospitalized with Influenza\"], [\"Enterovirus D68 in Hospitalized Children: Sequence Variation, Viral Loads and Clinical Outcomes\"], [\"Impact of point-of-care testing for respiratory viruses on antibiotic use in adults with exacerbation of airways disease\"], [\"Severe Pertussis Infections in the United States, 2011\\u20132015\"], [\"Respiratory Illness and Allergy Related to Work and Home Environment among Commercial Pilots\"], [\"Marqueurs biologiques de gravit\\u00e9 initiale des bronchiolites aigu\\u00ebs et d\\u2019\\u00e9volution vers un asthme du nourrisson\"]], \"hovertemplate\": \"labels=14<br>pca_1=%{x}<br>pca_2=%{y}<br>title=%{customdata[0]}<extra></extra>\", \"legendgroup\": \"14\", \"marker\": {\"color\": \"#EF553B\", \"symbol\": \"circle\"}, \"mode\": \"markers\", \"name\": \"14\", \"showlegend\": true, \"type\": \"scattergl\", \"x\": [-0.01757251974954209, 0.11710360840275176, 0.1741404705223631, 0.13264737084656902, 0.041418282509567125, -0.08792358718038631, 0.17402497453132126, -0.023173815800991156, 0.029747017362012962, 0.029089594905016464, 0.027539355408252135, 0.12788594946830714, -0.02921259939726939, -0.08398157806800449, -0.029671708397625438, 0.02968648849906313, 0.0581814069132534, -0.00751079241187912, -0.05812019033658415, 0.03747891554181031, -0.06555745974834624, -0.12287472238709697, -0.08236470822398835, 0.08488566868396924, -0.05167310757359607, 0.010994114692502215, -0.09035107715100497, 0.0056084106643373224, 0.05436781649065815, -0.02865082745700031, -0.05110508243301756, 0.04194569006315706, 0.01935151922148305, 0.024058979879056336, -0.001537190137005963, -0.08126265215419057, 0.03649764201972086, -0.04065865737182459, -0.031583284309943345, -0.045447076535839896, -0.0741298696342769, 0.0582824272435936, 0.07844378889665833, 0.019844781625916554, 0.025573882995628596, -0.0036719181185598973, -0.04734655933347261, 0.02468899045821968, -0.01451314214217458, 0.09347179295944885, 0.13275368865337472, -0.09296128851069393, 0.033026968409152764, 0.11900694729036272, 0.07342325542508403, -0.11588758854655293, -0.03741511721086309, 0.03484996583905025, -0.020960558544180632, -0.1140814994427306, 0.011842401754126416, 0.12267630886761337, 0.11626877042728456, 0.10623429269615862, -0.05646590199375642, 0.08415980768449947, 0.06200175727794066, 0.07155580462783935, -0.047247805218017705, 0.20006539156978378, 0.03442845955020115, 0.12684000052262653, -0.026513340275281613, 0.08268982757043236, 0.12869063904444472, -0.09516920754969073, 0.030619658966968083, -0.028765034868783262, 0.03701682094080452, 0.055621013155287224, 0.10765836120872574, 0.013373706910252178, 0.209140276921872, 0.07542098379655068, 0.08540342441617378, 0.16827136646951954, 0.0329493183493079, 0.06118613574705159, 0.0780484786817169, 0.2050940904377082, 0.014429076968321096, 0.06650990559825853, 0.03489903095530921, -0.0825157373652535, 0.12173062375134046, 0.05451562450703788, 0.0017409092800628944, 0.07029518264782493, 0.06568198085024364, 0.051429276402178405, -0.005045788249243984, -0.023522653248665128, -0.03838342171262005, -0.0763761608712943, 0.009733828029116199, 0.013495240465091169, 0.016927300917011577, -0.00037972393195259604, 0.05331617701431531, 0.11532923067625628, 0.025591663419982237, 0.031591887659091204, -0.030193197594297623, 0.15981849331397258, -0.06458282900074522, 0.10655183784171801, -0.04674277922084867, 0.07101893427931608, -0.07326042270052606, 0.08098072263960635, 0.047709175452007174, -0.07944993409162353, 0.0016473822310531828, 0.23057356315896427, 0.12360813255799424, 0.11234294207832787, -0.005882696874778525, 0.14195798555018774, 0.0784368230483804, 0.20150881703686618, 0.016592882619046175, 0.1006629717955316, 0.021126343003810586, 0.12053014316457522], \"xaxis\": \"x\", \"y\": [-0.19450528613470308, -0.1787589925292754, -0.17029595839926787, -0.23024733366267233, -0.18355911772239147, -0.15448714953430087, -0.1413005351160949, -0.1685940025911557, -0.21041008274321943, -0.21895419758672527, -0.04213606894038111, -0.23660044044651224, -0.10963790125989956, -0.10382046183561147, -0.19287955159619258, -0.18241045856879678, -0.11116753077088284, -0.14704992006270162, -0.16494985012770547, -0.1413579092108514, -0.16217437184920971, -0.040593879948877865, -0.1428492906070757, -0.18571450921048574, -0.16439946892634244, -0.16419174870954378, -0.14685441792457318, -0.1679839369834103, -0.1469976251600349, -0.1957629039143929, -0.1678591809890049, -0.07102890114639798, -0.13734569807997848, -0.09908703553135795, -0.21892496499542563, -0.09449633903107789, -0.21975401738090855, -0.19426831146659967, -0.16039085192964858, -0.14905106214090066, -0.10708309661834385, -0.07467875990220432, -0.2233763094046396, -0.040422082902062596, -0.25045308098732877, -0.22398483038139627, -0.20626180889217338, -0.23607763756057804, -0.16719963478401062, -0.15308770615994083, -0.03855523176309446, -0.126482568229638, -0.09616489793857921, -0.05928547514058036, -0.08078050786473079, -0.11348476378127628, -0.1554453519324711, -0.22389563745772498, -0.18327562522656773, -0.14698704795951714, -0.1651487042686066, -0.0867304721890196, -0.11953246972138425, -0.15664470206253917, -0.1128310725205896, -0.15485272339768158, -0.22584643437075919, -0.02640719080287058, -0.18443890866930984, -0.010611504607271867, -0.2667137751375115, -0.11669488047991586, -0.15640901937291557, -0.09146169788694032, -0.04203840660750563, -0.1334436652345679, -0.23705883745111944, -0.1525970119566037, -0.18973917835332457, -0.18035266394425684, -0.055589939325675644, -0.059014242968469605, -0.1447538956476916, -0.09616648929412297, -0.0905966676947281, -0.1499493254971, -0.06933857495726344, -0.25426838083825426, -0.19963672660383655, -0.08926636092783802, -0.12004818027898427, -0.0495161461784704, -0.09060736170489454, -0.07591954139059542, -0.12770132108028417, -0.19711779376694544, -0.1943129840921851, -0.024666080737047215, -0.0835394786876913, -0.11240411042066775, -0.23190188239355228, -0.07828710712529326, -0.10289720883118987, -0.09516113191204924, -0.10251373465771699, -0.21380033948022573, -0.1082930945422397, -0.1071519895204036, -0.04182411271673509, -0.10181277000792621, -0.14932308906655412, -0.08487118938000843, -0.026724759686456233, -0.1051284151349414, -0.1335720839630198, -0.12269455889914006, -0.09741769635734958, -0.18516714181763944, -0.1723774207784981, -0.23988486132074316, -0.02519681920903088, -0.14254117150912635, -0.0940264384176546, -0.117855419810002, -0.2817315909159877, -0.04384973981867861, -0.13305529622808446, -0.019962383532447538, -0.09503733912240259, -0.12320789873857176, -0.06787988196524625, -0.1327119781533707, -0.09371781498709877, -0.04527216400457523], \"yaxis\": \"y\"}, {\"customdata\": [[\"Differential Regulation of Type I Interferon and Epidermal Growth Factor Pathways by a Human Respirovirus Virulence Factor\"], [\"The complement system\"], [\"Early-Life Exposure to Clostridium leptum Causes Pulmonary Immunosuppression\"], [\"Heme Oxygenase-1-Expressing Dendritic Cells Promote Foxp3(+) Regulatory T Cell Differentiation and Induce Less Severe Airway Inflammation in Murine Models\"], [\"Tight junctions in pulmonary epithelia during lung inflammation\"], [\"Mechanisms of nasal hyper-reactivity\"], [\"Plasma exudation and asthma\"], [\"Lipid Mediators in Inflammatory Disorders\"], [\"Molecular Mechanisms for the Mechanical Modulation of Airway Responsiveness\"], [\"Saponins of Dioscorea Nipponicae Inhibits IL-17A-Induced Changes in Biomechanical Behaviors of In Vitro Cultured Human Airway Smooth Muscle Cells\"], [\"The Aftermath of Bronchoconstriction\"], [\"The pathogenesis of inflammatory disease: Surgical shock and multiple system organ failure\"], [\"Chemokine Receptors in Allergic Lung Disease\"], [\"Sinusitis, Rhinitis, Asthma, and the Single Airway Hypothesis\"], [\"Poly(inosinic-cytidylic) acid-triggered exacerbation of experimental asthma depends on IL-17A produced by NK cells.\"], [\"Cell cycle arrest by transforming growth factor beta1 enhances replication of respiratory syncytial virus in lung epithelial cells.\"], [\"Dendritic cells in viral bronchiolitis.\"], [\"Update on Exhaled Nitric Oxide in Clinical Practice.\"], [\"Interleukin-18 in pulmonary inflammatory diseases.\"], [\"Insulin-dependent phosphatidylinositol 3-kinase/Akt and ERK signaling pathways inhibit TLR3-mediated human bronchial epithelial cell apoptosis.\"], [\"Solitary Cholinergic Stimulation Induces Airway Hyperreactivity and Transcription of Distinct Pro-inflammatory Pathways.\"], [\"Interactions between innate antiviral and atopic immunoinflammatory pathways precipitate and sustain asthma exacerbations in children.\"], [\"Angiogenesis and lymphangiogenesis in bronchial asthma.\"], [\"Inhaled innate immune ligands to prevent pneumonia.\"], [\"Interferon-\\u03bbs: special immunomodulatory agents and potential therapeutic targets.\"], [\"MicroRNA-744 Inhibits Proliferation of Bronchial Epithelial Cells by Regulating Smad3 Pathway via Targeting Transforming Growth Factor-\\u03b21 (TGF-\\u03b21) in Severe Asthma.\"], [\"The Interplay between Host Immunity and Respiratory Viral Infection in Asthma Exacerbation.\"], [\"Inhaled birch pollen extract induces airway hyperresponsiveness via oxidative stress but independently of pollen-intrinsic NADPH oxidase activity, or the TLR4-TRIF pathway.\"], [\"Nitric oxide and the common cold.\"], [\"Asthma and influenza virus infection:focusing on cell death and stress pathways in influenza virus replication.\"], [\"\\\"Hit-and-run\\\" effects of paramyxoviruses as a basis for chronic respiratory disease.\"], [\"Virus-induced airway hyperresponsiveness in man.\"], [\"The role of epithelial injury and repair in the origins of asthma.\"], [\"The role of p38 MAPK in rhinovirus-induced monocyte chemoattractant protein-1 production by monocytic-lineage cells.\"], [\"Asthma exacerbations . 3: Pathogenesis.\"], [\"Respiratory syncytial virus infection results in airway hyperresponsiveness and enhanced airway sensitization to allergen.\"], [\"TLR3-mediated synthesis and release of eotaxin-1/CCL11 from human bronchial smooth muscle cells stimulated with double-stranded RNA.\"], [\"Proximal airway mucous cells of ovalbumin-sensitized and -challenged Brown Norway rats accumulate the neuropeptide calcitonin gene-related peptide.\"], [\"The homeostatic r\\u00f4le of bronchoconstriction.\"], [\"Cyclooxygenase-2/prostaglandin D2/CRTH2 pathway mediates double-stranded RNA-induced enhancement of allergic airway inflammation.\"], [\"The immunology of virus infection in asthma.\"], [\"Immunology taught by lung dendritic cells.\"], [\"Airways exudation of plasma macromolecules: Innate defense, epithelial regeneration, and asthma\"], [\"What is the contribution of respiratory viruses and lung proteases to airway remodelling in asthma and chronic obstructive pulmonary disease?\"], [\"Dual RNA-seq reveals viral infections in asthmatic children without respiratory illness which are associated with changes in the airway transcriptome\"], [\"Genes and Pathways Regulating Decline in Lung Function and Airway Remodeling in Asthma\"], [\"Asthma, Viruses, and Nitric Oxide\"], [\"Innate immune response to viral infection of the lungs\"], [\"Immunostimulants in respiratory diseases: focus on Pidotimod\"], [\"Synthetic double-stranded RNA enhances airway inflammation and remodelling in a rat model of asthma\"], [\"Rhinovirus inhibits IL-17A and the downstream immune responses in allergic asthma\"], [\"Airway Interleukin-33 and type 2 cytokines in adult patients with acute asthma\"], [\"6. Asthma()()\"], [\"Pentraxin 3 deletion aggravates allergic inflammation through a TH17-dominant phenotype and enhanced CD4 T-cell survival\"], [\"Dendritic Cells from Aged Subjects Display Enhanced Inflammatory Responses to Chlamydophila pneumoniae\"], [\"Chapter 6 Airway Pathology\"], [\"Inflammation and infections in asthma\"], [\"The role of antibiotics in asthma\"], [\"Allergie respiratoire et virus\"], [\"Aspirin Intolerance: Experimental Models for Bed-to-Bench\"], [\"Vascular endothelial growth factor induction by rhinovirus infection\"], [\"Genetic and environmental interaction in allergy and asthma\"], [\"Respiratory viral infections drive chemokine expression and exacerbate the asthmatic response\"], [\"Rhinovirus replication and innate immunity in highly differentiated human airway epithelial cells\"], [\"Macrophage activation state determines the response to rhinovirus infection in a mouse model of allergic asthma\"], [\"Infections respiratoires aigu\\u00ebs virales et asthme de l'enfant Aspects \\u00e9pid\\u00e9miologiques, immunopathologiques et th\\u00e9rapeutiques\"], [\"Host defense function of the airway epithelium in health and disease: clinical background\"], [\"Neutrophils in respiratory syncytial virus infection: A target for asthma prevention\"], [\"Human TSLP and TLR3 ligands promote differentiation of Th17 cells with a central memory phenotype under Th2\\u2010polarizing conditions\"], [\"An Insight into the Diverse Roles of Surfactant Proteins, SP-A and SP-D in Innate and Adaptive Immunity\"], [\"The role of airway macrophages in apoptotic cell clearance following acute and chronic lung inflammation\"], [\"Emerging Regulatory Roles of Dual-Specificity Phosphatases in Inflammatory Airway Disease\"], [\"The Role of Autophagy in Eosinophilic Airway Inflammation\"], [\"Chitinase 3\\u2010like 1 protein plays a critical role in respiratory syncytial virus\\u2010induced airway inflammation\"], [\"Astragalin inhibits autophagy-associated airway epithelial fibrosis\"], [\"Mechanisms of virus\\u2010induced asthma exacerbations: state\\u2010of\\u2010the\\u2010art. A GA(2)LEN and InterAirways document\"]], \"hovertemplate\": \"labels=19<br>pca_1=%{x}<br>pca_2=%{y}<br>title=%{customdata[0]}<extra></extra>\", \"legendgroup\": \"19\", \"marker\": {\"color\": \"#00cc96\", \"symbol\": \"circle\"}, \"mode\": \"markers\", \"name\": \"19\", \"showlegend\": true, \"type\": \"scattergl\", \"x\": [-0.15708494199213038, -0.18074550195067302, -0.17793380393812938, -0.2667675628276284, -0.2581622316225243, -0.17726019516416688, -0.23682988992631263, -0.21629163532720444, -0.2645504404679986, -0.2426905942195402, -0.24468519079163945, -0.18895021241664045, -0.31053729074522457, -0.19142402034797093, -0.1779924900732885, -0.11016459474726954, -0.03696999511554098, -0.16462790654698745, -0.2862393805255723, -0.21328180506435265, -0.19620404957062498, -0.11134483139933794, -0.2473385588010785, -0.13603650323922373, -0.2064768993961866, -0.20111265755441532, -0.17148326151561646, -0.21825491811953823, -0.13969636946589714, -0.15187173460174425, -0.19143740200250822, -0.10495498599077564, -0.1842514949444268, -0.1490277169089584, -0.14033681284215088, -0.14424727258577932, -0.10129425833058375, -0.2195761464178402, -0.18878021326555533, -0.22793882313211203, -0.18058547390112356, -0.24077019691877244, -0.18673343033579373, -0.12118990372270069, 0.026045076289127396, -0.2198059193540969, -0.15514987608938627, -0.13698965649519412, -0.16597521676768404, -0.17631364169984232, -0.18072634959382536, -0.06897393549733528, -0.13183857086844747, -0.2321298069893117, -0.13380423784290138, -0.22135779106230133, -0.08510789349390639, -0.11954931639140534, -0.1249405189846841, -0.2237737853337558, -0.09071367824379833, -0.2778569661152734, -0.12374965665317868, -0.13156478795736798, -0.20413397961170365, -0.06468941080616858, -0.10276180397220734, -0.07093339110508678, -0.20211845102449041, -0.24441820085311813, -0.2994143704918764, -0.3265621586390486, -0.26682565586106405, -0.08293184084291066, -0.23306728542079538, -0.14961199512547418], \"xaxis\": \"x\", \"y\": [0.11889976027760854, 0.0036340136301053674, 0.014761564948930059, 0.047446911557340314, 0.04859871913249551, 0.01740418356117209, 0.030947085161938972, -0.0063641026453745185, 0.03144862441110113, -0.023989853162927975, 0.16130477035193755, -0.02004265927288952, 0.07089585855515307, 0.1012052162895848, 0.13080717336266098, 0.07311974810474114, 0.18537507832035205, -0.004564275501258264, 0.0751799474629456, 0.03591650515545569, 0.06163771032147464, 0.12695119933209278, 0.024223079487080218, 0.03010497526002175, -0.014444797692648968, -0.024783171678854483, 0.26196151964114567, 0.021302402153572573, 0.10949440031752292, 0.0529939932953844, 0.2571421632353043, 0.15271068735863447, 0.09634738287757387, 0.09327652208158231, 0.26581698402970294, 0.23467132720903183, -0.010110613783604564, -0.0022104900930512653, 0.012669300367807303, 0.08024840106762728, 0.2442154152040761, 0.051268417446744756, -0.018666428171241825, 0.23016810715181782, 0.15711023740369998, 0.06876953111690062, 0.33846237719932487, 0.2616937554200046, 0.10584637989422711, 0.025701250295922642, 0.12454884732259805, 0.04835824229712138, 0.06810347371500626, 0.002750730305484849, 0.023441406450629004, 0.03955023901814654, 0.18943367377161058, 0.08774432777852374, 0.24813537552014955, 0.015406402111970634, 0.05405372767494676, 0.07218739539639749, 0.2574937574560557, 0.08138225783137455, 0.06541955235591224, 0.2419879597157336, 0.3349279494405276, 0.10073792797632766, -0.023947524545941144, 0.016266869725070576, 0.05962696363643322, 0.22199245784685726, 0.05238553020425988, 0.09013148836573756, -0.028675175137338877, 0.34058255997308035], \"yaxis\": \"y\"}, {\"customdata\": [[\"The Tennessee Children's Respiratory Initiative: Objectives, design and recruitment results of a prospective cohort study investigating infant viral respiratory illness and the development of asthma and allergic diseases\"], [\"The impact of respiratory viruses on lung health after preterm birth\"], [\"Respiratory Syncytial Virus\\u2014A Comprehensive Review\"], [\"Severe bronchiolitis in children\"], [\"Understanding the mechanisms of viral induced asthma: New therapeutic directions\"], [\"Human Respiratory Syncytial Virus: Biology, Epidemiology, and Control\"], [\"The Role of Influenza Vaccination in Asthmatic Children\"], [\"VIRUS-INDUCED WHEEZING IN CHILDREN: Respiratory Syncytial Virus (RSV) and Rhinovirus\"], [\"Bronchiolitis\"], [\"Infections\"], [\"Neuroendocrine cell hyperplasia of infancy: a prospective follow-up of nine children.\"], [\"Rhinovirus and the initiation of asthma.\"], [\"Viral respiratory infection and the link to asthma.\"], [\"Respiratory viral infections in infants: causes, clinical symptoms, virology, and immunology.\"], [\"Genetics and epidemiology: asthma and infection.\"], [\"Serial viral infections in infants with recurrent respiratory illnesses.\"], [\"Early-life viral infections and the development of asthma: a target for asthma prevention?\"], [\"Infectious pathogens and bronchiolitis outcomes.\"], [\"Role of infection in the development and exacerbation of asthma.\"], [\"Pediatric Asthma and Viral Infection.\"], [\"Rhinovirus infections in infancy and early childhood.\"], [\"Infections and asthma.\"], [\"Influence of viral and bacterial respiratory infections on exacerbations and symptom severity in childhood asthma.\"], [\"Asthma and viruses: is there a relationship?\"], [\"Influence of maternal asthma on the cause and severity of infant acute respiratory tract infections\"], [\"Respiratory Viruses and Asthma\"], [\"The infant airway microbiome in health and disease impacts later asthma development\"], [\"The contributions of allergic sensitization and respiratory pathogens to asthma inception\"], [\"The Link Between Bronchiolitis and Asthma\"], [\"Role of viral infections in the development and exacerbation of asthma in children\"], [\"Virus infections, wheeze and asthma\"], [\"The relevance of allergen exposure to the development of asthma in childhood()()()\"], [\"Respiratory syncytial virus: The virus, the disease and the immune response\"], [\"Novel concepts in virally induced asthma\"], [\"Asma y virus en el ni\\u00f1o\"], [\"Prenatal and childhood infections: implications for the development and treatment of childhood asthma\"], [\"Rhinovirus-induced wheezing in infancy\\u2014the first sign of childhood asthma?()()\"], [\"Interferon-gamma levels in nasopharyngeal secretions of infants with respiratory syncytial virus and other respiratory viral infections\"], [\"The Impact of Respiratory Viral Infection on Wheezing Illnesses and Asthma Exacerbations\"], [\"Infections and Their Role in Childhood Asthma Inception\"], [\"Comparison of the Etiology of Viral Respiratory Illnesses in Inner-City and Suburban Infants\"], [\"Interactions micro-organismes et voies a\\u00e9riennes distales : sp\\u00e9cificit\\u00e9s p\\u00e9diatriques\"], [\"Beyond Respiratory Syncytial Virus and Rhinovirus in the Pathogenesis and Exacerbation of Asthma: The Role of Metapneumovirus, Bocavirus and Influenza Virus\"], [\"Relationship of viral infections to wheezing illnesses and asthma\"], [\"Objectives, design and enrollment results from the Infant Susceptibility to Pulmonary Infections and Asthma Following RSV Exposure Study (INSPIRE)\"], [\"Asthma and viral infections An intricate relationship\"], [\"The role of viruses in the induction and progression of asthma\"], [\"Response to infections in persons with asthma and atopic disease: epiphenomenon or reflection of host susceptibility\"], [\"The role of respiratory virus infections in childhood asthma inception\"], [\"Association between respiratory infections in early life and later asthma is independent of virus type\"], [\"Rhinoviruses, Allergic Inflammation, and Asthma\"], [\"The Wheezing Illnesses Study Leidsche Rijn (WHISTLER): Rationale and Design\"], [\"The role of respiratory tract infections and the microbiome in the development of asthma: A narrative review\"], [\"Viral-Induced Wheeze and Asthma Development\"], [\"Asthma risk factors\"], [\"Respiratory viral infections in pregnant women with asthma are associated with wheezing in the first 12 months of life\"], [\"The infant airway microbiome in health and disease impacts later asthma development\"], [\"Pediatric Asthma and Viral Infection\"], [\"Viruses in asthma: The role of viruses in childhood respiratory infections\"]], \"hovertemplate\": \"labels=6<br>pca_1=%{x}<br>pca_2=%{y}<br>title=%{customdata[0]}<extra></extra>\", \"legendgroup\": \"6\", \"marker\": {\"color\": \"#ab63fa\", \"symbol\": \"circle\"}, \"mode\": \"markers\", \"name\": \"6\", \"showlegend\": true, \"type\": \"scattergl\", \"x\": [0.15474370137839039, -0.0006993632936206536, 0.03389571718545494, 0.13875509412656006, -0.03750868225896675, 0.13524182156667913, 0.03828910631894588, 0.13284169721534955, 0.14177776040578532, 0.15212949272399534, -0.05810786335563857, 0.14588819914740778, 0.12221725520818613, 0.08747238392753137, 0.09161623654585645, 0.21212876832948288, 0.016595128285781573, 0.02885660663920016, 0.0928566147602774, 0.3518007752105896, 0.13833561762458058, 0.13767327362155876, 0.11677327839057278, 0.06882915047864241, 0.18773062233004648, -0.04987864515678548, 0.021871520767442063, 0.026818110260244905, 0.1823685359334706, 0.2205667404504995, 0.007450516030247673, 0.0052894253790556345, 0.022240730197528473, 0.0014423654655167858, 0.3627516811935494, 0.007228701622112563, 0.24478026856948548, 0.1910517792237643, 0.2358928633721779, 0.02890441046133814, 0.19495594927007726, 0.13380736298357665, 0.3287326229556946, 0.08063858682613985, 0.2165400712477546, 0.09720024507334829, -0.008017794287685252, 0.01226805418827404, 0.2913832347787041, 0.193981640549246, 0.22459267538479283, 0.05129179629926843, 0.04556202924896014, 0.1802744719025128, -0.0528824255885509, 0.14685033311449203, 0.021871520767442063, 0.36063344162843014, 0.10738267320154184], \"xaxis\": \"x\", \"y\": [0.12121273389356077, 0.1654177523087032, 0.1261466165614949, 0.030537062867920857, 0.32536225612386227, 0.08012550584979446, 0.06836591711079963, 0.24225386675521215, -0.0005902561931031523, 0.26282474092317154, 0.012298656616243261, 0.2765618936949199, 0.30503457562013314, 0.31206042307375115, 0.4211953086605821, 0.03859540449663791, 0.22844391057109767, 0.05681492616870697, 0.2906480648613644, 0.28789898237257866, 0.20806442672733277, 0.28403545662731283, 0.16157167712833564, 0.3513514013741787, 0.08292003487796311, 0.2676445240132722, 0.03137996081690432, 0.1238275771242239, 0.15977653259234323, 0.19008213491688114, 0.22526121127910453, 0.09847503148752934, 0.24352611683327544, 0.3311256532488308, 0.2813666696574303, 0.26234677785581073, 0.08488542582411, 0.05744851213616383, 0.2684387948448826, 0.19704184733519953, 0.11249570005338706, 0.13988260432647187, 0.22152524557414593, 0.3465078245148774, 0.10503824264901164, 0.29616460060687405, 0.25593337449415976, 0.30725425769538905, 0.21909693824565768, 0.22628577675716768, 0.2768513161681897, -0.018659547861276632, 0.1779388507851998, 0.17380403328271316, 0.08396995402691491, 0.02768193009666685, 0.03137996081690432, 0.280934033632141, 0.2647831323889998], \"yaxis\": \"y\"}, {\"customdata\": [[\"Analysing the eosinophil cationic protein - a clue to the function of the eosinophil granulocyte\"], [\"Pulmonary inflammation and cytokine dynamics of bronchoalveolar lavage fluid from a mouse model of bronchial asthma during A(H1N1)pdm09 influenza infection\"], [\"A functional IFN-\\u03bb4-generating DNA polymorphism could protect older asthmatic women from aeroallergen sensitization and associate with clinical features of asthma\"], [\"Untersuchungen \\u00fcber die bronchokonstriktorische Wirkung des \\u03b2-Rezeptorblockers Propranolol bei Meerschweinchen und Patienten mit Asthma bronchiale\"], [\"The Use of Antiallergic and Antiasthmatic Drugs in Viral Infections of the Upper Respiratory Tract\"], [\"IL-8 Gene Variants and Expression in Childhood Asthma\"], [\"Amplified rhinovirus colds in atopic subjects\"], [\"Effect of experimental rhinovirus 16 colds on airway hyperresponsiveness to histamine and interleukin\\u20108 in nasal lavage in asthmatic subjects in vivo\"], [\"Bronchial inflammation and the common cold: a comparison of atopic and non\\u2010atopic individuals\"], [\"Respiratory inflammation and infections in high\\u2010performance athletes\"], [\"XXIV World Allergy Congress 2015: Seoul, Korea. 14-17 October 2015\"], [\"Mechanisms of Hypersensitivity\"], [\"Early Interventions in Allergic Diseases\"], [\"Differential Diagnosis of Asthma\"], [\"Rhinitis and Sinusitis\"], [\"NOVEL THERAPEUTIC APPROACHES FOR ALLERGIC RHINITIS\"], [\"PEDIATRIC ALLERGY: Can It Be Prevented?\"], [\"Executive summary\"], [\"Virus\\u2010provoked rhinitis and asthma in allergic patients\"], [\"Levels, Complement Activity and Polymorphisms of Mannan\\u2010Binding Lectin in Patients of Bronchial Asthma with Allergic Rhinitis\"], [\"Exudative hyperresponsiveness of the airway microcirculation in seasonal allergic rhinitis\"], [\"Anti-IL-5 in Mild Asthma Alters Rhinovirus-induced Macrophage, B-Cell, and Neutrophil Responses (MATERIAL). A Placebo-controlled, Double-Blind Study.\"], [\"Cough and upper airway disorders in elite athletes: a critical review.\"], [\"Airway wall thickness is increased in COPD patients with bronchodilator responsiveness.\"], [\"CCL11 enhances excitotoxic neuronal death by producing reactive oxygen species in microglia.\"], [\"Beta-escin has potent anti-allergic efficacy and reduces allergic airway inflammation.\"], [\"Clinical and computed tomographic predictors of chronic bronchitis in COPD: a cross sectional analysis of the COPDGene study.\"], [\"A model of viral wheeze in nonasthmatic adults: symptoms and physiology.\"], [\"Increased nitric oxide in exhaled air of normal human subjects with upper respiratory tract infections.\"], [\"Experimental rhinovirus infection in volunteers.\"], [\"Relationship between exhaled nitric oxide and airway hyperresponsiveness following experimental rhinovirus infection in asthmatic subjects.\"], [\"Virus-provoked rhinitis in patients who have allergies.\"], [\"Rhinovirus infection in nonasthmatic subjects: effects on intrapulmonary airways.\"], [\"Neutrophil degranulation and cell lysis is associated with clinical severity in virus-induced asthma.\"], [\"Microvascular exudative hyperresponsiveness in human coronavirus-induced common cold.\"], [\"Asthma and natural colds. Inflammatory indices in induced sputum: a feasibility study.\"], [\"CXC chemokines and antimicrobial peptides in rhinovirus\\u2010induced experimental asthma exacerbations\"], [\"Atopie et infections\"], [\"Respiratory Infection and Airway Reactivity\"], [\"Cord blood hemopoietic progenitor profiles predict acute respiratory symptoms in infancy\"], [\"Anti\\u2010bacterial IgE in the antibody responses of house dust mite allergic children convalescent from asthma exacerbation\"], [\"Inhalant Allergies in Children\"], [\"Persistent Airway Obstruction After Virus Infection Is Not Associated With Airway Inflammation\"], [\"Prolonged nasal eosinophilia in all_ergic patients after common cold\"], [\"Airway and serum biochemical correlates of refractory neutrophilic asthma\"], [\"Serial Changes in Serum Eosinophil-associated Mediators between Atopic and Non-atopic Children after Mycoplasma pneumoniae pneumonia\"], [\"Upper airway inflammatory diseases and bronchial hyperresponsiveness\"], [\"Infections virales et asthme\"], [\"Upper airway viral infections\"], [\"Plasminogen activator inhibitor-1 in sputum and nasal fluids increases in asthmatics during common colds\"], [\"Rhinitis in children less than 6 years of age: current knowledge and challenges\"], [\"Duration of postviral airway hyperresponsiveness in children with asthma: Effect of atopy\"], [\"Airway protease/antiprotease imbalance in atopic asthmatics contributes to increased Influenza A virus cleavage and replication\"], [\"IFN-\\u03b3\\u2013induced protein 10 is a novel biomarker of rhinovirus-induced asthma exacerbations\"], [\"Development of allergy in children I. Association with virus infections\"], [\"Seasonal Allergy and Seasonal Decrements in Athletic Performance\"], [\"Short term change in relative humidity during the festival of Diwali in India\"], [\"Functional Fcgamma Receptor Polymorphisms Are Associated with Human Allergy\"], [\"Virus associated immune and pharmacologic mechanisms in disorders of respiratory and cutaneous atopy\"]], \"hovertemplate\": \"labels=8<br>pca_1=%{x}<br>pca_2=%{y}<br>title=%{customdata[0]}<extra></extra>\", \"legendgroup\": \"8\", \"marker\": {\"color\": \"#FFA15A\", \"symbol\": \"circle\"}, \"mode\": \"markers\", \"name\": \"8\", \"showlegend\": true, \"type\": \"scattergl\", \"x\": [-0.15894089215108326, -0.03459964887167552, -0.04901735772376853, -0.07216636079190455, -0.0979382116472501, 0.04381937361940283, -0.013219851794774294, 0.017710837413322023, -0.01038956951878773, -0.039590815379471726, -0.07716213524274708, -0.22290850778814694, -0.058397980854005244, -0.10780468869197662, -0.09101880627425829, -0.24799154034461685, -0.09044201973524858, -0.09270328858850235, -0.029238281189119638, -0.11104664277546121, -0.1125011140151883, -0.12216001763377254, -0.11523786366725441, -0.10647828472697257, -0.19269526814816226, -0.22761372634665294, -0.06059060857324462, 0.08009468905771291, -0.0037621819255713087, -0.02852035995197163, -0.043564384502190974, 0.08720054184770801, -0.1560418065254149, 0.039143586652422915, -0.09632462013481195, 0.031592019883678664, -0.028942753803976467, -0.10760493174289948, -0.0774494981201394, -0.006375436590135144, -0.023850624090978503, -0.009374267724070606, -0.049808178638869195, -0.0828602834926411, -0.0671041367645555, 0.004778299205903697, -0.1125287187160775, -0.011392929706777516, -0.1378237984773895, -0.10896400536736821, -0.024123325271327174, 0.10560109921611723, -0.10851275329114839, -0.038126438313546306, 0.06146397926190771, -0.10304526540618489, -0.050182762566401744, -0.03790403508003936, -0.19463281052425385], \"xaxis\": \"x\", \"y\": [-0.009916970745607028, -0.038677648283746056, -0.06331258985915353, -0.12768128583834482, -0.03940133078947388, -0.09699976734103986, -0.025339846725525354, -0.07884124986342812, 0.022862513151246953, 0.0006131742232513982, -0.09601791821689756, -0.04103905887351028, 0.08512257156202363, -0.06535350867134822, -0.015423559382334709, 0.05015228069450041, 0.06111346539130489, 0.0232649654481484, 0.07872196820754408, -0.10041581590394094, -0.09562091443950714, -0.06730753303340997, -0.06316682583852452, -0.10963398899881122, -0.03643840832193054, -0.03811322221356546, -0.13085932715256793, -0.00808203632679809, 0.015485109033146574, 0.00020303324325068308, -0.06529027148017785, 0.20793461668404764, 0.0765647603975666, 0.05403306115213472, -0.08349548363866321, -0.010841656792889722, -0.04672284688536753, 0.05586531322745446, 0.12282955289784384, -0.011818817826111284, -0.02076269171635806, -0.04358454867292041, 0.01920622124657938, -0.013534269141666498, -0.13139399186857817, -0.1653618951519121, 0.1100775614060795, 0.17336361576012105, 0.1222879164606052, -0.05974183369184432, -0.010116856065130034, -0.051911250808279616, 0.04065985820669692, -0.007320987356780554, -0.027513819856755724, -0.086519624638835, -0.040213062306286795, -0.06997988407723876, 0.09365141691562733], \"yaxis\": \"y\"}, {\"customdata\": [[\"Severe influenza cases in paediatric intensive care units in Germany during the pre-pandemic seasons 2005 to 2008\"], [\"Pneumonia among adults hospitalized with laboratory-confirmed seasonal influenza virus infection\\u2014United States, 2005\\u20132008\"], [\"Influenza virus-related critical illness: prevention, diagnosis, treatment\"], [\"Attenuated Respiratory Syncytial Virus Vaccines in Asthmatic Children\"], [\"Pulmonary Complications of Obstetric and Gynecologic Conditions\"], [\"Efficacy and safety of influenza vaccination in children with asthma.\"], [\"Asthma in pregnancy: a hit for two.\"], [\"Impaired type I and III interferon response to rhinovirus infection during pregnancy and asthma.\"], [\"Negative attitude of highly educated parents and health care workers towards future vaccinations in the Dutch childhood vaccination program.\"], [\"Respiratory disease in pregnancy.\"], [\"Outbreak of pandemic influenza A (H1N1-2009) in Singapore, May to September 2009.\"], [\"Influenza vaccination in patients with asthma: effect on the frequency of upper respiratory tract infections and exacerbations.\"], [\"Respiratory viral infections in adults.\"], [\"Pneumonia in pregnancy.\"], [\"Influenza vaccine in patients with asthma.\"], [\"2009 H1N1 Influenza: A Twenty-First Century Pandemic With Roots in the Early Twentieth Century\"], [\"A Prospective Study of Respiratory Viral Infection in Pregnant Women With and Without Asthma\"], [\"Respiratory disease in pregnancy\"], [\"Respiratory disease in pregnancy\"], [\"Healthcare workers and H1N1 vaccination: Does having a chronic disease make a difference?\"], [\"Influenza vaccination in patients with asthma: effect on peak expiratory flow, asthma symptoms and use of medication\"], [\"Impacts of allergic airway inflammation on lung pathology in a mouse model of influenza A virus infection\"], [\"What is the role of virus vaccination in patients with asthma?\"], [\"Antimicrobial Therapy in Childhood Asthma and Wheezing\"], [\"Treatment of Community-Acquired Lower Respiratory Tract Infections during Pregnancy\"], [\"In young children, persistent wheezing is associated with bronchial bacterial infection: a retrospective analysis\"], [\"Influenza A(H1N1)pdm09-related pneumonia and other complications\"], [\"Conventional Influenza Vaccination Is Not Associated with Complications in Working-Age Patients with Asthma or Chronic Obstructive Pulmonary Disease\"]], \"hovertemplate\": \"labels=3<br>pca_1=%{x}<br>pca_2=%{y}<br>title=%{customdata[0]}<extra></extra>\", \"legendgroup\": \"3\", \"marker\": {\"color\": \"#19d3f3\", \"symbol\": \"circle\"}, \"mode\": \"markers\", \"name\": \"3\", \"showlegend\": true, \"type\": \"scattergl\", \"x\": [0.11794570947278958, 0.08392807850039534, 0.12234243164544027, 0.13871135908574722, -0.06641216259538031, 0.05751924294324863, -0.053179064727043625, -0.024619111685293953, -0.0360657850199262, -0.09404372982844877, 0.12418325815650443, 0.15519698087407602, 0.0676021142147997, 0.006588269784853638, 0.0030463132644671896, 0.037269506509914146, 0.029738090837471313, -0.08231926046181098, -0.06548907429673426, -0.06036604742496126, 0.007418348282060732, -0.030944423030446953, 0.00842504116622737, 0.02804183433292884, 0.0518392026262442, 0.03716482198210927, 0.09023391166377222, 0.03470655584335252], \"xaxis\": \"x\", \"y\": [-0.18436091801350668, -0.19579243744272187, -0.07871634293011272, -0.04690589130399091, -0.04127516167789794, -0.03912603621307613, -0.030900616969121112, -0.013937088618669454, -0.1578513386650824, -0.02104220239581818, -0.12442961298114585, -0.06499389675846291, 0.025801860555024127, -0.07601920846860731, -0.04649950168380782, -0.12582157218805187, -0.04867403679029641, -0.07655066847584617, -0.05817316588950273, -0.16721382612266777, -0.1365323149162137, 0.12570463191491976, 0.0365814352538681, 0.0529795482128398, -0.06750662658495658, -0.07299972839610236, -0.002735856610767172, -0.1838729954789122], \"yaxis\": \"y\"}, {\"customdata\": [[\"Clinical use of exhaled volatile organic compounds in pulmonary diseases: a systematic review\"], [\"The role of helium gas in medicine\"], [\"Asthma in the elderly: what we know and what we have yet to know\"], [\"3D Structure Prediction of Human \\u03b21-Adrenergic Receptor via Threading-Based Homology Modeling for Implications in Structure-Based Drug Designing\"], [\"Epidemiology of asthma in India\"], [\"Special Features of Asthma in Children\"], [\"Infant lung function testing in the intensive care unit\"], [\"Inhaled and exhaled nitric oxide\"], [\"An Approach to the Management of High Risk Asthmatic Patients\"], [\"Nucleic Acid-Based Therapeutics for Pulmonary Diseases\"], [\"Eosinophilia-myalgia syndrome induced by excessive L-tryptophan intake from cashew nuts\"], [\"Aetiology of asthma: how public health and molecular medicine work together\"], [\"Problems and prospects of developing effective therapy for common cold viruses\"], [\"Microsensor Arrays for Saliva Diagnostics\"], [\"Assessing allergenic fungi in house dust by floor wipe sampling and quantitative PCR\"], [\"Targeted therapy in chronic diseases using nanomaterial-based drug delivery vehicles\"], [\"Viral Disease, Air Pollutants, Nanoparticles, and Asthma\"], [\"The Pediatric Asthmatic\"], [\"Asthma\"], [\"Gold salts, D-penicillamine and allopurinol\"], [\"1.2 The Health System\"], [\"Preparation Without Panic: A Comprehensive Social Marketing Approach to Planning for a Potential Pandemic\"], [\"Air Purification Technology by Means of Cluster Ions Generated by Plasma Discharge at Atmospheric Pressure\"], [\"Viruses Present Indoors and Analyses Approaches\"], [\"Epidemiology of Respiratory Allergies and Asthma\"], [\"Viral Upper Respiratory Tract Infections\"], [\"The Clinical Definitions of Asthma\"], [\"Primary Immunodeficiencies\"], [\"Eosinophilic Pneumonia\"], [\"Return to Play in Asthma and Pulmonary Conditions\"], [\"Asthma and COPD\"], [\"Microbial Agents in the Indoor Environment: Associations with Health\"], [\"Pulmonology\"], [\"Sick Building Syndrome and Other Building-Related Illnesses\"], [\"Severe Asthma\"], [\"EARS\"], [\"A review of palivizumab and emerging therapies for respiratory syncytial virus.\"], [\"Morbidity and mortality in homeless individuals, prisoners, sex workers, and individuals with substance use disorders in high-income countries: a systematic review and meta-analysis.\"], [\"Readability and comprehensibility of over-the-counter medication labels.\"], [\"Do replicable profiles of multimorbidity exist? Systematic review and synthesis.\"], [\"Investigating the effectiveness of school health services delivered by a health provider: A systematic review of systematic reviews.\"], [\"Inadequate assessment of adherence to maintenance medication leads to loss of power and increased costs in trials of severe asthma therapy: results from a systematic literature review and modelling study.\"], [\"Oral steroid sparing effect of high dose inhaled corticosteroids in asthma.\"], [\"How are behavioural interventions delivered to children (5-11 years old): a systematic mapping review.\"], [\"A systematic evidence synthesis of interventions to engage children and young people in consultations about their long-term conditions.\"], [\"Chemoattractant receptor-homologous molecule expressed on Th2 cells (CRTH2) antagonists in asthma: a systematic review and meta-analysis protocol.\"], [\"Management of common cold symptoms with over-the-counter medications: clearing the confusion.\"], [\"Systematic review of clinical prediction models to support the diagnosis of asthma in primary care.\"], [\"Advances in interventional pulmonology.\"], [\"Respiratory care year in review 2012: Asthma and sleep-disordered breathing.\"], [\"Pediatric chronic rhinosinusitis.\"], [\"Non-smoking-related chronic obstructive pulmonary disease: a neglected entity?\"], [\"Management of severe acute asthma in the emergency department.\"], [\"Validated methods to identify patients with asthma-COPD overlap in healthcare databases: a systematic review protocol.\"], [\"Paediatrics in Barcelona.\"], [\"Pulmonary drug delivery system: newer patents.\"], [\"Clinical prediction models to support the diagnosis of asthma in primary care: a systematic review protocol.\"], [\"Respiratory care year in review 2010: part 1. asthma, COPD, pulmonary function testing, ventilator-associated pneumonia.\"], [\"Long-acting muscarinic antagonists (LAMA) added to inhaled corticosteroids (ICS) versus higher dose ICS for adults with asthma.\"], [\"Lessons learned from variation in response to therapy in clinical trials.\"], [\"Evaluation of the Environmental Scoring System in Multiple Child Asthma Intervention Programs in Boston, Massachusetts.\"], [\"Long-acting muscarinic antagonists (LAMA) added to inhaled corticosteroids (ICS) versus addition of long-acting beta2-agonists (LABA) for adults with asthma.\"], [\"Pharmacological aspects and potential new clinical applications of ketamine: reevaluation of an old drug.\"], [\"Adverse reactions associated with respirator fit testing of healthcare workers in British Columbia, Canada: a review of compensation claim cases.\"], [\"Parent experiences with a nurse-supervised community health worker asthma home-visiting program.\"], [\"Investigating the effectiveness of school health services delivered by a health provider: a systematic review of systematic reviews\"], [\"Self-reported asthma among high school students--United States, 2003.\"], [\"Trends in specific morbidity prevalence in male adolescents in Israel over a 50 year period and the impact of recent immigration.\"], [\"Impact of the Singapore National Asthma Program (SNAP) on preventor-reliever prescription ratio in polyclinics.\"], [\"Air conditioning systems as non-infectious health hazards inducing acute respiratory symptoms.\"], [\"Health effects of subchronic exposure to environmental levels of hardwood smoke.\"], [\"Indoor air quality in hospitality venues before and after implementation of a clean indoor air law--Western New York, 2003.\"], [\"Meeting highlights of the European Respiratory Society annual congress 02-06 September 2006, Munich, Germany.\"], [\"Asthma fatalities at the Emergency Department of the Singapore General Hospital.\"], [\"Asthma prevalence and control characteristics by race/ethnicity--United States, 2002.\"], [\"Self-reported asthma prevalence and control among adults--United States, 2001.\"], [\"Dry powder inhalers for pulmonary drug delivery.\"], [\"Respiratory medicine\"], [\"Biology and Diseases of Guinea Pigs\"], [\"Lower respiratory tract infections in cats Reaching beyond empirical therapy\"], [\"Steroid responsiveness and wheezing phenotypes\"], [\"Infectious Chronic Rhinosinusitis\"], [\"Therapeutic Applications of Monoclonal Antibodies\"], [\"Rhinosinusitis: Establishing definitions for clinical research and patient care\"], [\"Environment and Health in Children Day Care Centres (ENVIRH) \\u2013 Study rationale and protocol()\"], [\"Determinants Of Oral corticosteroid Responsiveness in Wheezing Asthmatic Youth (DOORWAY): protocol for a prospective multicentre cohort study of children with acute moderate-to-severe asthma exacerbations\"], [\"Identifying Asthma Triggers\"], [\"Pediatric pulmonology year in review 2016: Part 2\"], [\"Asthma in the elderly: Current understanding and future research needs\\u2014a report of a National Institute on Aging (NIA) workshop\"], [\"\\u00c9pid\\u00e9miologie de l'asthme grave\"], [\"Common Respiratory Diseases\"], [\"Control of asthma triggers in indoor air with air cleaners: a modeling analysis\"], [\"Pulmonary Diseases and Corticosteroids\"], [\"The history of respiratory disease management\"], [\"Chapter 25 Therapeutic use of monoclonal antibodies: general aspects and challenges for drug delivery\"], [\"New aspects of p38 mitogen activated protein kinase (MAPK) biology in lung inflammation\"], [\"Rhinosinusitis: Establishing definitions for clinical research and patient care\"], [\"Prevalence of chronic comorbidities in dengue fever and West Nile virus: A systematic review and meta-analysis\"], [\"Diagnosis of Allergy and Asthma in Childhood\"], [\"Chapter 23 Public and Population Health Genomics\"], [\"Airborne rhinovirus detection and effect of ultraviolet irradiation on detection by a semi-nested RT-PCR assay\"], [\"Understanding the September asthma epidemic\"], [\"Chronic obstructive pulmonary disease subpopulations and phenotyping\"], [\"Environment and Health in Children Day Care Centres (ENVIRH) \\u2013 Study rationale and protocol()\"], [\"Asthma phenotypes\"], [\"Pulmonary diseases induced by ambient ultrafine and engineered nanoparticles in twenty-first century\"], [\"Prevalence of chronic comorbidities in chikungunya: A systematic review and meta-analysis\"], [\"Novel translational approaches to the search for precision therapies for acute respiratory distress syndrome\"], [\"Un corps \\u00e9tranger hors du commun. \\u00c0 propos d'un cas d'emphys\\u00e8me sous-cutan\\u00e9 lors d'une crise d'asthme\"], [\"Environmental triggers and avoidance in the management of asthma\"], [\"Role of macrolide therapy in chronic obstructive pulmonary disease\"], [\"Genotype tailored treatment of mild symptomatic acid reflux in children with uncontrolled asthma (GenARA): Rationale and methods\"], [\"Common Pediatric Respiratory Emergencies\"], [\"The impact of cold on the respiratory tract and its consequences to respiratory health\"], [\"Barriers and supports to implementation of MDI/spacer use in nine Canadian pediatric emergency departments: a qualitative study\"], [\"Comparison of the Effects of Air Pollution on Outpatient and Inpatient Visits for Asthma: A Population-Based Study in Taiwan\"], [\"Asthma in Children and Adolescents: A Comprehensive Approach to Diagnosis and Management\"], [\"Pelargonium sidoides extract EPs 7630: a review of its clinical efficacy and safety for treating acute respiratory tract infections in children\"], [\"Genomic Analyses of Human European Diversity at the Southwestern Edge: Isolation, African Influence and Disease Associations in the Canary Islands\"], [\"Indoor air quality and human health: Truth vs mass hysteria\"], [\"Essentials of Pulmonology\"], [\"Unmet Needs in Respiratory Diseases: \\u201cYou Can\\u2019t Know Where You Are Going Until You Know Where You Have Been\\u201d\\u2014Anonymous\"], [\"Redesigning a large school-based clinical trial in response to changes in community practice\"], [\"Asthma in children: mapping the literature by bibliometric analysis\"], [\"Reducing burden of disease from residential indoor air exposures in Europe (HEALTHVENT project)\"], [\"Pattern of patients and diseases during mass transit: The day of Arafat experience\"]], \"hovertemplate\": \"labels=2<br>pca_1=%{x}<br>pca_2=%{y}<br>title=%{customdata[0]}<extra></extra>\", \"legendgroup\": \"2\", \"marker\": {\"color\": \"#FF6692\", \"symbol\": \"circle\"}, \"mode\": \"markers\", \"name\": \"2\", \"showlegend\": true, \"type\": \"scattergl\", \"x\": [-0.10087304220020091, -0.11827595353561202, -0.08141967404650213, -0.15506666233575161, 0.09320380525745478, -0.1011233843826675, -0.06998987677903529, -0.17377305068494944, -0.07244498850194017, -0.18702150448000568, -0.09306181795035695, -0.16004623078079905, -0.1262076547074257, -0.10016735951653406, -0.029418826129006842, -0.19717535495906843, -0.08080113831763308, -0.09060914321927048, -0.06209807339335742, -0.1106324242441612, -0.10644406469611056, -0.12961563812137292, -0.10612748073657735, -0.04309387389997022, -0.0807654682936748, -0.012825843226411535, -0.04027591610309575, -0.05882057563671121, -0.08665592125590887, -0.1366270487096856, -0.0430270274251729, -0.09695918485885353, -0.08502454739858485, -0.0865622108646022, 0.043130370186246325, -0.10210110850795973, -0.06771635241506055, -0.08492083413081057, -0.09143871560284024, -0.08529557413641048, -0.1160499221575327, -0.06585330352603368, -0.09253807034388348, -0.033129295294909204, -0.04303892080357068, -0.10952329255030734, -0.07954581792106158, -0.05337220023141748, -0.1719073345351305, -0.061070631947504256, -0.08951744495034253, -0.10261954654658793, -0.09464593084756304, -0.0656408880015556, -0.0403540127109545, -0.15067734608441877, -0.05895780070103721, -0.11422528575711588, -0.07909302683897246, -0.11526183209651994, -0.049663663314244086, -0.05129285448195099, -0.13430851010588032, -0.021520854875822133, -0.07070624600006489, -0.1137578681818848, -0.0385279901873777, 0.0018383698412734292, -0.06535602102318243, -0.1321032175376276, -0.14073859669376648, -0.0825131759087541, -0.14526297999229879, -0.027780277509096507, -0.04283663680374962, -0.024919110143290932, -0.18323493785432163, -0.06929556876377768, -0.13124734280130634, -0.061662811712548345, -0.048250204209112184, -0.09700514733893296, -0.12853756022592908, -0.1069147191642502, -0.02624362557467197, 0.01037484228953037, -0.09646510679370572, -0.0909265276394434, -0.04237986234139796, -0.018697073807672795, -0.11451518668750049, -0.10605339902075851, -0.1415047614238322, -0.18983395619120816, -0.1769757501144032, -0.18641380198665974, -0.10696561840391382, -0.041658829256232544, -0.03666908476274491, -0.1416331142441814, 0.03443706163005433, 0.034628763813942844, -0.17482943493262348, -0.02624362557467197, -0.0926345735348082, -0.1644335475783961, -0.032233002138034914, -0.13597132311996973, -0.055419834672846995, -0.07377356895731135, -0.1516482029748002, -0.016658457816555193, 0.0321519638756125, -0.12199358632310289, -0.06020476533084466, -0.05860980038302294, -0.05346985748082843, -0.03371670587881134, -0.1088280321587553, -0.13376101233979423, -0.11592064022471447, -0.09026680710374946, -0.050889285738370364, -0.03832372845207216, -0.1201338396369175, -0.023912245366748366], \"xaxis\": \"x\", \"y\": [-0.09534442224612114, -0.06228135540945733, -0.03478148251961946, -0.08121262947977023, -0.12690751844463893, -0.0028559327573169802, -0.06164152678531301, -0.03785752916528215, -0.07911683037690892, -0.07534277817813699, -0.10024074867884367, 0.010202897449204253, -0.008342085566859156, -0.08774153178251086, -0.08263473271839278, -0.0634919990343928, -0.04016107300619325, -0.0530463195206788, -0.09093224496999011, -0.13045068442356386, -0.1277034415214159, -0.07286133285706632, -0.07954606952505038, 0.0028720810855276564, -0.10853369693256064, 0.04954331010860624, -0.122622187544567, -0.06178067124862416, -0.0890567976915626, -0.08144984415726507, 0.03769770945702099, -0.07336160781771238, -0.0385708407226846, -0.1018650884822701, -0.10880428489132773, -0.08525396280962677, -0.006851151284187334, -0.1529235677875622, -0.1551882905910579, -0.13953334081890373, -0.13438532905069256, -0.16640518016073796, -0.17629945073889067, -0.137213601235064, -0.12053415598169011, -0.10255322199944118, -0.09902775482649685, -0.10986713076691618, -0.04892910997829415, -0.018545814355324926, -0.06615343148117725, -0.022915923975039606, 0.011335274280595511, -0.16431842496170052, -0.046919846281891976, -0.0698466537089316, -0.10155644050763059, -0.05698878417218747, -0.1651291360917558, -0.07520107247660028, -0.1352898690603044, -0.14306332681726705, -0.09156762651157808, -0.10096179287203212, -0.16862573849253987, -0.13850609415707313, -0.0732466661247767, -0.1281931400771168, -0.15160369401396243, -0.1112042200205784, -0.11811833644351874, -0.11423409695333593, -0.08588739692740549, -0.10884891834825623, -0.10226157375328851, -0.11308028289281792, -0.1080382533327472, 0.0790114782043676, -0.0279010934042849, -0.003828720584312259, -0.03545636540030064, -0.05010393587814264, -0.02757151079955153, -0.1132843764319907, -0.12241075114647165, -0.09138771528579305, -0.012591932947117466, -0.07037484154346078, -0.03867647201235178, -0.0333959005602784, -0.01724739386254554, -0.07347284126644164, -0.09872323954854463, -0.08380238009859772, -0.06441397069587787, -0.0011361646099572794, -0.11284570838808802, -0.07718891120521383, -0.021327409700332096, -0.1175324718438399, -0.017766586311132926, -0.06811001440367018, -0.06803196396086207, -0.12241075114647165, -0.007842604359569212, -0.04442339259539377, -0.12645135607903202, -0.07041906469250966, -0.0852235186683385, 0.00645151481658734, -0.0053754249748052445, -0.12340524530980523, -0.044863856879652525, -0.04803805121399286, -0.12038811220255985, -0.15458902670975572, -0.05237137616885625, -0.12016975991074383, -0.09248903702509002, -0.07595256047781543, -0.09505808430351878, -0.010407517079479393, -0.08280278224646463, -0.11690755640516157, -0.13531774778130964, -0.19280301092641403], \"yaxis\": \"y\"}, {\"customdata\": [[\"Baicalein Reduces Airway Injury in Allergen and IL-13 Induced Airway Inflammation\"], [\"Gene Silencing of SOCS3 by siRNA Intranasal Delivery Inhibits Asthma Phenotype in Mice\"], [\"Euphorbia tirucalli modulates gene expression in larynx squamous cell carcinoma\"], [\"Interferon-\\u03b2 deficiency at asthma exacerbation promotes MLKL mediated necroptosis\"], [\"Potential mechanism and drug candidates for sepsis-induced acute lung injury\"], [\"Oral edible plant vaccine containing hypoallergen of American cockroach major allergen Per a 2 prevents roach-allergic asthma in a murine model\"], [\"Clara Cell 10 kDa Protein Alleviates Murine Hepatitis Virus Strain 3-Induced Fulminant Hepatitis by Inhibiting Fibrinogen-Like Protein 2 Expression\"], [\"PKC promotes proliferation of airway smooth muscle cells by regulating cyclinD1 expression in asthmatic rats\"], [\"Adhesion molecules in lung diseases\"], [\"Selectin Antagonists: Therapeutic Potential in Asthma and COPD\"], [\"Levels of IL-8 and myeloperoxidase in the lungs of pneumonia patients\"], [\"Delivery Systems for Pulmonary Gene Therapy\"], [\"Animal Models of Airway Diseases\"], [\"Mechanopharmacology and Synergistic Relaxation of Airway Smooth Muscle\"], [\"Acute Lung Injury: The Injured Lung Endothelium, Therapeutic Strategies for Barrier Protection, and Vascular Biomarkers\"], [\"Ademhaling\"], [\"4 Respiratoire spoedgevallen\"], [\"Novel Markers for Alternative Activation of Macrophages: Macrophage Galactose\\u2010Type C\\u2010Type Lectins 1 and 2\"], [\"Dual Role of Th17 Cytokines, IL-17A,F, and IL-22 in Allergic Asthma\"], [\"Differential expression of nuclear factor-kappaB mediates increased pulmonary expression of tumor necrosis factor-alpha and virus-induced asthma.\"], [\"Small interfering RNAs targeted to interleukin-4 and respiratory syncytial virus reduce airway inflammation in a mouse model of virus-induced asthma exacerbation.\"], [\"The expression of proline-specific enzymes in the human lung.\"], [\"Immunological effects among workers who handle engineered nanoparticles.\"], [\"Kallikrein-related peptidases in lung diseases.\"], [\"Matrix metalloproteinase 12 silencing: a therapeutic approach to treat pathological lung tissue remodeling?\"], [\"Proteomics of lung cell biology and pulmonary disease.\"], [\"Respiratory effects of sulfur mustard exposure, similarities and differences with asthma and COPD.\"], [\"Identification of trans Protein QTL for Secreted Airway Mucins in Mice and a Causal Role for Bpifb1.\"], [\"Inhibition of angiotensin II-induced contraction of human airway smooth muscle cells by angiotensin-(1-7) via downregulation of the RhoA/ROCK2 signaling pathway.\"], [\"Synergy of IL-27 and TNF-\\u03b1 in regulating CXCL10 expression in lung fibroblasts.\"], [\"A role for membrane-bound CD147 in NOD2-mediated recognition of bacterial cytoinvasion.\"], [\"Expression, localisation and functional implications of the transporter protein PEPT2 in the upper respiratory tract.\"], [\"IL-27 targets Foxp3+ Tregs to mediate antiinflammatory functions during experimental allergic airway inflammation.\"], [\"Membrane-bound carboxypeptidase E facilitates the entry of eosinophil cationic protein into neuroendocrine cells.\"], [\"The first autopsy case of pandemic influenza (A/H1N1pdm) virus infection in Japan: detection of a high copy number of the virus in type II alveolar epithelial cells by pathological and virological examination.\"], [\"TLR3- and Th2 cytokine-dependent production of thymic stromal lymphopoietin in human airway epithelial cells.\"], [\"Chemokine-like factor 1, a novel cytokine, contributes to airway damage, remodeling and pulmonary fibrosis.\"], [\"The TLR4 Agonist Immunomax Affects the Phenotype of Mouse Lung Macrophages during Respiratory Syncytial Virus Infection\"], [\"The Future of Antisense Oligonucleotides in the Treatment of Respiratory Diseases\"], [\"Molecular profiling of the human nasal epithelium: A proteomics approach\"], [\"The ADAM metalloproteinases\"], [\"Dudleya brittonii extract promotes survival rate and M2-like metabolic change in porcine 3D4/31 alveolar macrophages\"], [\"Neonates with reduced neonatal lung function have systemic low-grade inflammation\"], [\"Poly(amidoamine) Dendrimer Nanocarriers and Their Aerosol Formulations for siRNA Delivery to the Lung Epithelium\"], [\"PROTEINASE INHIBITORS | Cystatins\"], [\"Virtual screening for finding natural inhibitor against cathepsin-L for SARS therapy\"], [\"Molecular Characterization of Transcriptome-wide Interactions between Highly Pathogenic Porcine Reproductive and Respiratory Syndrome Virus and Porcine Alveolar Macrophages in vivo\"], [\"Alveolar macrophages in allergic asthma: An expression signature characterized by heat shock protein pathways\"], [\"Macrophage Polarization in Inflammatory Diseases\"], [\"Macrophages: Their role, activation and polarization in pulmonary diseases\"], [\"A novel conserved family of Macro-like domains\\u2014putative new players in ADP-ribosylation signaling\"], [\"Combined fluticasone propionate and salmeterol reduces RSV infection more effectively than either of them alone in allergen-sensitized mice\"], [\"Cortex phellodendri Extract Relaxes Airway Smooth Muscle\"]], \"hovertemplate\": \"labels=17<br>pca_1=%{x}<br>pca_2=%{y}<br>title=%{customdata[0]}<extra></extra>\", \"legendgroup\": \"17\", \"marker\": {\"color\": \"#B6E880\", \"symbol\": \"circle\"}, \"mode\": \"markers\", \"name\": \"17\", \"showlegend\": true, \"type\": \"scattergl\", \"x\": [-0.20092674921492834, -0.21867546146673006, -0.1954757530014958, -0.15927291029585472, -0.16666363510659402, -0.1189489875389228, -0.17419481531605768, -0.1492698085966484, -0.2475779939333653, -0.24050325493976266, -0.10423757591958777, -0.2406417506766193, -0.22256920200886762, -0.12179938900078788, -0.2199224027974621, -0.10005979894487951, -0.10084813592011178, -0.19333804277412622, -0.2515775719858323, -0.13958504666054414, -0.09944336511990343, -0.2616451194737736, -0.11498812515769075, -0.1946904328936837, -0.24379632318243427, -0.2091432064747845, -0.2526152270802877, -0.20517162580545306, -0.15616816572324588, -0.1763306247030568, -0.19383308433171703, -0.1805918868073441, -0.18450842537785733, -0.2309422682942966, -0.05658457676460188, -0.14582259692772603, -0.2106106372740829, -0.1239229586741406, -0.22522767088225507, -0.16659607043299474, -0.21870814449655746, -0.2203713754753813, -0.03562624693389571, -0.20967358556768817, -0.22132624530751066, -0.14957148655888883, -0.1331846616731677, -0.18370922577388782, -0.18833471580572722, -0.23291645000553432, -0.19688642968318226, -0.06681566670988712, -0.1297529033598934], \"xaxis\": \"x\", \"y\": [-0.03800940308527376, -0.018175272225605377, -0.08967022448457246, 0.020155633637995253, -0.0781917938175036, -0.06089534186632736, -0.021599335422338033, -0.10256576881932089, 0.02614813728541329, 0.028326340999222946, -0.0649870856673897, -0.041742307517876776, 0.022863523894968634, -0.1084559926910543, -0.05867874541068027, -0.1253656858937717, -0.12346433660940098, -0.05181893775443857, 0.017373784769702534, 0.04440441798324317, 0.036743066510397965, -6.83198439212114e-05, -0.1309711683787021, 0.056043859787430136, 0.01749204385841207, -0.01879477744707381, 0.02326922572796147, -0.022490639198667596, -0.07758941824987348, -0.0512803272342245, 0.014574417711452299, -0.015337104461344245, -0.009059134497823628, -0.03323641205851371, -0.02969824296398758, -0.037072294004935384, -0.02679935080926152, 0.043419727928188406, 0.03577100066227639, -0.0687720004114845, -0.016754581068745, -0.06640675590655762, -0.11173802948021752, -0.09567637434535298, 0.012110509059968648, -0.08916347654727684, 0.05634146646512643, -0.04780693887108618, -0.02284540443398919, -0.013984638014453314, -0.01875563681363616, -0.03696987685252069, -0.10341849160829983], \"yaxis\": \"y\"}, {\"customdata\": [[\"Proposals for the classification of human rhinovirus species A, B and C into genotypically assigned types\"], [\"The role of rhinovirus infections in the development of early childhood asthma.\"], [\"Rhinovirus-induced bronchiolitis and asthma development.\"], [\"Association between human rhinovirus C and severity of acute asthma in children.\"], [\"Impact of Human Rhinovirus Types and Viral Load on the Severity of Illness in Hospitalized Children With Lower Respiratory Tract Infections.\"], [\"Clinical spectrum of human rhinovirus infections in hospitalized Hong Kong children.\"], [\"Human rhinoviruses.\"], [\"Phosphatidylinositol 4-kinase III beta is essential for replication of human rhinovirus and its inhibition causes a lethal phenotype in vivo.\"], [\"Rhinoviral infection and asthma: the detection and management of rhinoviruses by airway epithelial cells.\"], [\"Clinical features and complete genome characterization of a distinct human rhinovirus (HRV) genetic cluster, probably representing a previously undetected HRV species, HRV-C, associated with acute respiratory illness in children.\"], [\"Asthma exacerbations in children associated with rhinovirus but not human metapneumovirus infection.\"], [\"Rhinoviruses significantly affect day-to-day respiratory symptoms of children with asthma\"], [\"A novel group of rhinoviruses is associated with asthma hospitalizations\"], [\"Viruses and atypical bacteria associated with asthma exacerbations in hospitalized children\"], [\"All Known Human Rhinovirus Species Are Present in Sputum Specimens of Military Recruits During Respiratory Infection\"], [\"Rhinovirus-Infected Epithelial Cells Produce More IL-8 and RANTES Compared With Other Respiratory Viruses\"], [\"High prevalence of human rhinovirus C infection in Thai children with acute lower respiratory tract disease\"], [\"Utility of animal and in vivo experimental infection of humans with rhinoviruses in the development of therapeutic agents for viral exacerbations of asthma and chronic obstructive pulmonary disease\"], [\"Biological characteristics and propagation of human rhinovirus-C in differentiated sinus epithelial cells\"], [\"Interactions of Respiratory Viruses and the Nasal Microbiota during the First Year of Life in Healthy Infants\"], [\"Enteroviruses as major cause of microbiologically unexplained acute respiratory tract infections in hospitalized pediatric patients\"], [\"Serotype and genetic diversity of human rhinovirus strains that circulated in Kenya in 2008\"], [\"Molecular detection of respiratory pathogens and typing of human rhinovirus of adults hospitalized for exacerbation of asthma and chronic obstructive pulmonary disease\"], [\"Presence of rhinovirus in the respiratory tract of adolescents and young adults with asthma without symptoms of infection\"], [\"Novel Human Rhinoviruses and Exacerbation of Asthma in Children\"], [\"Community-Wide, Contemporaneous Circulation of a Broad Spectrum of Human Rhinoviruses in Healthy Australian Preschool-Aged Children During a 12-Month Period\"], [\"Updates in the Relationship Between Human Rhinovirus and Asthma\"], [\"The human rhinovirus: human\\u2010pathological impact, mechanisms of antirhinoviral agents, and strategies for their discovery\"], [\"Human rhinovirus C: Age, season, and lower respiratory illness over the past 3 decades\"], [\"Host factors and viral factors associated with severity of human rhinovirus infant respiratory illness\"], [\"Rhinovirus and the lower respiratory tract\"], [\"Rhinoviruses\"], [\"Molecular characterization and distinguishing features of a novel human rhinovirus (HRV) C, HRVC-QCE, detected in children with fever, cough and wheeze during 2003\"], [\"Molecular Epidemiology of Human Rhinovirus in Children with Acute Respiratory Diseases in Chongqing, China\"], [\"Human rhinovirus C: a newly discovered human rhinovirus species\"], [\"Detection and characterization of respiratory viruses causing acute respiratory illness and asthma exacerbation in children during three different seasons (2011\\u20132014) in Mexico City\"]], \"hovertemplate\": \"labels=11<br>pca_1=%{x}<br>pca_2=%{y}<br>title=%{customdata[0]}<extra></extra>\", \"legendgroup\": \"11\", \"marker\": {\"color\": \"#FF97FF\", \"symbol\": \"circle\"}, \"mode\": \"markers\", \"name\": \"11\", \"showlegend\": true, \"type\": \"scattergl\", \"x\": [0.006925533583085619, 0.12984585733180315, 0.20515071618377026, 0.2748292961765644, 0.2787082686269122, 0.270803636107089, 0.06550453546590856, -0.05838266059047424, -0.09396585221972349, 0.11865227919971881, 0.2306425279240346, 0.1855434319174854, 0.21134834055870894, 0.24163727720213016, 0.0627395413203837, -0.05606162305276627, 0.22351022060156372, -0.0017246513818918192, -0.021019441454161982, 0.061459046394308325, 0.11591629559446627, 0.09558349312701582, 0.13226883858299793, 0.14868205204512389, 0.08546432859564355, 0.11829379459883618, 0.16989509148919757, -0.09731085518167551, 0.22517185660332145, 0.18180172094579153, 0.09693188266289667, 0.02220975778548747, 0.197384697337116, 0.11871089596348258, 0.09723612654244865, 0.32751019417738864], \"xaxis\": \"x\", \"y\": [-0.025063761868956043, 0.19686943785160493, 0.04166759178140042, -0.028420005647338546, -0.016246769587072947, -0.05884625159851825, 0.08830651788012639, -0.05725940019528963, 0.22101056521109053, -0.0403499320342328, -0.05795288684586629, -0.030348980263939857, -0.12789928514137408, -0.10606963193348151, -0.04676527032867579, 0.05391213748119346, -0.04292403520705979, 0.21679551537969138, -0.03590538232116451, 0.10244083119679945, -0.10093094075476414, -0.05675295262260952, 0.018272945534304072, -0.014804696716874344, 0.0008009009556745432, 0.01213342621683585, 0.12895544304218975, 0.07777025764920618, -0.047907183747451496, -0.037694312435874205, 0.19340813333070916, 0.10547629459953167, -0.06911426826342135, -0.03538559329855766, -0.01133148121785682, 0.18594956623828085], \"yaxis\": \"y\"}, {\"customdata\": [[\"Genome Sequences of Rhinovirus C Isolates from Wisconsin Pediatric Respiratory Studies\"], [\"Nasal Cytokine Profiles of Patients Hospitalised with Respiratory Wheeze Associated with Rhinovirus C\"], [\"Rhinovirus C, Asthma, and Cell Surface Expression of Virus Receptor CDHR3.\"], [\"Association of rhinovirus with exacerbations in young children affected by cystic fibrosis: Preliminary data.\"], [\"Cadherin-related family member 3, a childhood asthma susceptibility gene product, mediates rhinovirus C binding and replication.\"], [\"Cadherin-related Family Member 3 Genetics and Rhinovirus C Respiratory Illnesses.\"], [\"Respiratory syncytial virus, human bocavirus and rhinovirus bronchiolitis in infants.\"], [\"Human Rhinovirus Diversity and Evolution: How Strange the Change from Major to Minor.\"], [\"The suppression of innate immune response by human rhinovirus C.\"], [\"Atomic structure of a rhinovirus C, a virus species linked to severe childhood asthma.\"], [\"Rhinovirus is associated with severe asthma exacerbations and raised nasal interleukin-12.\"], [\"Rhinoviral infections activate p38MAP-kinases via membrane rafts and RhoA.\"], [\"Interleukin-11: stimulation in vivo and in vitro by respiratory viruses and induction of airways hyperresponsiveness.\"], [\"Rhinoviruses as pathogens of the lower respiratory tract.\"], [\"\\u00c9pid\\u00e9miologie de l'infection virale et asthme\"], [\"Prevalence of rhinoviruses in young children of an unselected birth cohort from the Netherlands\"], [\"Viral bronchiolitis in children: A common condition with few therapeutic options()\"], [\"Rhinovirus C targets ciliated airway epithelial cells\"], [\"Mechanisms of rhinovirus-induced asthma\"], [\"Impact of community respiratory viral infections in urban children with asthma\"], [\"Multi\\u2010season analyses of causative pathogens in children hospitalized with asthma exacerbation\"], [\"Regional, age and respiratory-secretion-specific prevalence of respiratory viruses associated with asthma exacerbation: a literature review\"], [\"Interferon response of the cystic fibrosis bronchial epithelium to major and minor group rhinovirus infection\"], [\"Construction of a recombinant rhinovirus accommodating fluorescent marker expression\"], [\"Rhinovirus Type in Severe Bronchiolitis and the Development of Asthma\"], [\"Systemic T-helper and T-regulatory cell type cytokine responses in rhinovirus vs. respiratory syncytial virus induced early wheezing: an observational study\"], [\"Quercetin inhibits rhinovirus replication in vitro and in vivo\"], [\"PreDicta chip-based high resolution diagnosis of rhinovirus-induced wheeze\"], [\"Rhinovirus-C detection in children presenting with acute respiratory infection to hospital in Brazil\"], [\"Eight Year Prospective Study of Adenoviruses Infections in Hospitalized Children. Comparison with Other Respiratory Viruses\"]], \"hovertemplate\": \"labels=1<br>pca_1=%{x}<br>pca_2=%{y}<br>title=%{customdata[0]}<extra></extra>\", \"legendgroup\": \"1\", \"marker\": {\"color\": \"#FECB52\", \"symbol\": \"circle\"}, \"mode\": \"markers\", \"name\": \"1\", \"showlegend\": true, \"type\": \"scattergl\", \"x\": [0.03013769992799704, 0.13736368564453094, -0.0563790819583644, 0.13643224426153336, -0.04381123684237773, 0.1440385042821533, 0.21314064795940568, -0.029930896350146126, -0.09193888359788507, -0.04505119956332031, 0.08527758973527264, -0.07731402285587705, 0.09321538753557995, -0.05498880647254496, 0.2275528997144182, 0.30503152260983735, 0.130823268037736, -0.14252719336270717, -0.05900027376942362, 0.12813704669615228, 0.2569447049269806, 0.16471647255399638, -0.08737735684688522, -0.12220327040508847, 0.19297362411785934, 0.12517849068968503, -0.13590880924707702, 0.04159837214814491, 0.19206245282356874, 0.29892099266117195], \"xaxis\": \"x\", \"y\": [-0.040588432891279336, 0.0014657473570864402, -0.011817243841558547, 0.006696045739401916, 0.018790596346009443, 0.0255412510349774, -0.05503352444648774, 0.029301812068707016, 0.037503348500897885, -0.006965551953811667, -0.11246722764335496, 0.04912670000591535, 0.1864759104388505, 0.16417933346357272, 0.09787499439518624, 0.001331054201505635, -0.018071753068055234, -0.008853259535250525, 0.16207968774737153, 0.043485620837017784, 0.11692939567825954, 0.14395913363535076, -0.000906669973172014, -0.0055980499071360944, -0.14637445868056792, -0.007847352176596031, 0.15561180405097452, 0.08300003084425252, -0.03396288892028515, 0.03166440406871206], \"yaxis\": \"y\"}, {\"customdata\": [[\"Interferon Gene Expression in Sputum Cells Correlates with the Asthma Index Score During Virus-Induced Exacerbations\"], [\"The Importance of Bacterial and Viral Infections Associated with Adult Asthma Exacerbations in Clinical Practice\"], [\"Transcriptome networks identify mechanisms of viral and nonviral asthma exacerbations in children\"], [\"Asthma exacerbation related to viral infections: An up to date summary\"], [\"The Contribution of Respiratory Viruses to Severe Exacerbations of Asthma in Adults\"], [\"THE ROLE OF RESPIRATORY VIRUSES IN ACUTE AND CHRONIC ASTHMA\"], [\"Time Trends of Th1 and Th2 Cytokines in Induced Sputum of Asthmatic Subjects During Acute Upper Respiratory Viral Infections\"], [\"CHILDHOOD ASTHMA IN BRISBANE: EPIDEMIOLOGICAL OBSERVATIONS\"], [\"Greater frequency of viral respiratory infections in asthmatic children as compared with their nonasthmatic siblings()\"], [\"Asthma and Microbes: A New Paradigm\"], [\"The Prevalence of Common Respiratory Viruses in Human Lungs\"], [\"Antibiotics\"], [\"Infections\"], [\"Exacerbation of asthma and airway infection: is the virus the villain?()()\"], [\"The role of viral infections in exacerbations of chronic obstructive pulmonary disease and asthma.\"], [\"[Time trends of Th1 and th2 cytokines in induced sputum of asthmatic subjects during acute upper respiratory viral infections].\"], [\"Exhaled breath temperature increases during mild exacerbations in children with virus-induced asthma.\"], [\"Most commonly isolated viruses in asthma exacerbation and their correlation with eosinophil and total serum immunoglobulin E levels.\"], [\"Viruses and non-allergen environmental triggers in asthma.\"], [\"Seasonal and geographic variations in the incidence of asthma exacerbations in the United States.\"], [\"The exacerbation component of impairment and risk in pediatric asthma.\"], [\"Impact of viral infection on acute exacerbation of asthma in out-patient clinics: a prospective study.\"], [\"Evaluation of respiratory viral pathogens in acute asthma exacerbations during childhood.\"], [\"Allergens and bacteria interaction in the induction of basophil activation: is this the lost ring between allergy and infections in pediatric patients?\"], [\"Virus/Allergen Interaction in Asthma Exacerbation.\"], [\"Viral infections and asthma: an inflammatory interface?\"], [\"Childhood asthma and infection: virus-induced exacerbations as determinants and modifiers.\"], [\"Does maintenance azithromycin reduce asthma exacerbations? An individual participant data meta-analysis.\"], [\"Targeting Vitamin D Deficiency to Limit Exacerbations in Respiratory Diseases: Utopia or Strategy With Potential?\"], [\"Respiratory viruses in childhood asthma.\"], [\"Expression of costimulatory molecules in peripheral blood mononuclear cells of atopic asthmatic children during virus-induced asthma exacerbations.\"], [\"IP-10 Is Elevated in Virus-Induced Acute Exacerbations in Childhood Asthma.\"], [\"Human rhinoviruses, allergy, and asthma: a clinical approach.\"], [\"Allergens, viruses, and asthma exacerbations.\"], [\"Respiratory tract viral infections in inner-city asthmatic adults.\"], [\"Respiratory viruses and asthma.\"], [\"Respiratory viral and Mycoplasma infections in patients hospitalized for acute asthma.\"], [\"Viral respiratory tract infection and exacerbations of asthma in adult patients.\"], [\"Viruses in asthma exacerbations.\"], [\"Respiratory viruses and exacerbations of asthma in adults.\"], [\"A case-control study of the role of cold symptoms and other historical triggering factors in asthma exacerbations.\"], [\"Respiratory viruses and atypical bacteria triggering severe asthma exacerbation in children.\"], [\"Infec\\u00e7\\u00e3o na modula\\u00e7\\u00e2o da asma 1 1 Trabalho apresentado no XXIII Congresso de Pneumologia da SPP \\u2013 Guarda, Novembro 2007 / Paper presented at the XXIII Congresso de Pneumologia da SPP / PSP Pulmonology Congress, Guarda, November 2007\"], [\"Epidemiology of virus-induced asthma exacerbations: with special reference to the role of human rhinovirus\"], [\"Infection-mediated asthma: etiology, mechanisms and treatment options, with focus on Chlamydia pneumoniae and macrolides\"], [\"Influence of viral infection on the relationships between airway cytokines and lung function in asthmatic children\"], [\"RANTES, Macrophage-Inhibitory Protein 1\\u03b1, and the Eosinophil Product Major Basic Protein Are Released into Upper Respiratory Secretions during Virus-Induced Asthma Exacerbations in Children\"], [\"Assessing the Exacerbations Risk of Influenza\\u2010Associated Chronic Occupational Asthma\"], [\"EAACI position statement on asthma exacerbations and severe asthma\"], [\"Paediatric Virology and its interaction between basic science and clinical practice (Review)\"], [\"Viruses and Asthma\"], [\"Small Animal Models of Respiratory Viral Infection Related to Asthma\"], [\"Virus/Allergen Interactions and Exacerbations of Asthma\"], [\"Are non\\u2010allergenic environmental factors important in asthma?\"], [\"Acute Exacerbations of Asthma: Epidemiology, Biology and the Exacerbation-Prone Phenotype\"], [\"Acute Asthma in the Pediatric Emergency Department: Infections Are the Main Triggers of Exacerbations\"], [\"Prevalence of Respiratory Viral Infections in Korean Adult Asthmatics With Acute Exacerbations: Comparison With Those With Stable State\"], [\"Weekly Monitoring of Children with Asthma for Infections and Illness During Common Cold Seasons\"], [\"Childhood severe acute respiratory syndrome, coronavirus infections and asthma\"], [\"Psychosocial factors, respiratory viruses and exacerbation of asthma\"], [\"A host gene expression approach for identifying triggers of asthma exacerbations\"], [\"Persistence of rhinovirus RNA and IP\\u201010 gene expression after acute asthma\"], [\"Viral diversity in asthma: Immunology and Allergy Clinics of North America: Asthma and Infectious Disease\"], [\"The Role of Viral Respiratory Infections in Asthma and Asthma Exacerbations\"], [\"6. Asthma: Factors underlying inception, exacerbation, and disease progression\"], [\"Duration of wheezy episodes in early childhood is independent of the microbial trigger\"], [\"Asthma Exacerbations: Pathogenesis, Prevention, and Treatment\"], [\"Is respiratory viral infection really an important trigger of asthma exacerbations in children?\"], [\"Nasal cytokine responses to natural colds in asthmatic children\"], [\"Characterisation of winter respiratory viral infections in patients with asthma and COPD in Qatar\"], [\"Epidemiological analysis and follow\\u2010up of human rhinovirus infection in children with asthma exacerbation\"], [\"Respiratory infections and asthma\"], [\"Chapter 37 Infections\"], [\"Viral Infections and Associated Factors That Promote Acute Exacerbations of Asthma\"], [\"How Viral Infections Cause Exacerbation of Airway Diseases\"], [\"Asthma exacerbations: Origin, effect, and prevention\"], [\"Asthma Exacerbation in Children: A Practical Review\"], [\"Acute Exacerbations of COPD\"], [\"Respiratory viral infections in children with asthma: do they matter and can we prevent them?\"], [\"Asthmatics with exacerbation during acute respiratory illness exhibit unique transcriptional signatures within the nasal mucosa\"], [\"Virus-triggered exacerbation in allergic asthmatic children: neutrophilic airway inflammation and alteration of virus sensors characterize a subgroup of patients\"], [\"Detection of human coronavirus strain HKU1 in a 2 years old girl with asthma exacerbation caused by acute pharyngitis\"], [\"Viruses and bacteria in acute asthma exacerbations \\u2013 A GA(2)LEN\\u2010DARE systematic review\"], [\"Enhanced severity of virus associated lower respiratory tract disease in asthma patients may not be associated with delayed viral clearance and increased viral load in the upper respiratory tract\"], [\"The association between seasonal asthma exacerbations and viral respiratory infections in a pediatric population receiving inhaled corticosteroid therapy with or without long-acting beta-adrenoceptor agonist: A randomized study()\"], [\"Viral and bacterial infection in acute asthma and chronic obstructive pulmonary disease increases the risk of readmission\"], [\"Exacerbation of asthma and airway infection: is the virus the villain?\"], [\"Anti-viral agents: potential utility in exacerbations of asthma\"], [\"Characteristics associated with clinical severity and inflammatory phenotype of naturally occurring virus-induced exacerbations of asthma in adults\"], [\"Multiplex Molecular Detection of Respiratory Pathogens in Children With Asthma Exacerbation\"], [\"Personal exposure to nitrogen dioxide (NO(2)) and the severity of virus-induced asthma in children\"], [\"Rhinovirus-Induced Exacerbations of Asthma and COPD\"], [\"Asthma: Clinical Expression and Molecular Mechanisms\"], [\"Validity of the Common Cold Questionnaire (CCQ) in Asthma Exacerbations\"], [\"The Effect of Viral Infection on Exhaled Nitric Oxide in Children with Acute Asthma Exacerbations\"], [\"The role of viruses in acute exacerbations of asthma\"], [\"Acute Severe Asthma in Adolescent and Adult Patients: Current Perspectives on Assessment and Management\"], [\"Rhinovirus infections: induction and modulation of airways inflammation in asthma\"], [\"The role of viruses in the development and exacerbation of atopic disease\"], [\"High fractional exhaled nitric oxide and sputum eosinophils are associated with an increased risk of future virus\\u2010induced exacerbations: A prospective cohort study\"], [\"The Impact of Ambient Environmental Exposures to Microbial Products on Asthma Outcomes from Birth to Childhood\"], [\"Virus-induced exacerbations in asthma and COPD\"], [\"Use of MMP\\u20108 and MMP\\u20109 to assess disease severity in children with viral lower respiratory tract infections\"], [\"Advances in the treatment of virus-induced asthma\"], [\"Exacerbations of chronic respiratory diseases\"], [\"The potential of anti\\u2010infectives and immunomodulators as therapies for asthma and asthma exacerbations\"], [\"The role of infection in asthma\"], [\"Collectivit\\u00e9s : lieu de rencontre virale\"]], \"hovertemplate\": \"labels=10<br>pca_1=%{x}<br>pca_2=%{y}<br>title=%{customdata[0]}<extra></extra>\", \"legendgroup\": \"10\", \"marker\": {\"color\": \"#636efa\", \"symbol\": \"circle\"}, \"mode\": \"markers\", \"name\": \"10\", \"showlegend\": true, \"type\": \"scattergl\", \"x\": [0.0061817379305801785, 0.16421556830946885, -0.1300978308198471, -0.06832053622855991, 0.19247541054436113, 0.10542545969837698, 0.0661055989026761, 0.05093652904937817, 0.10282652431773881, -0.04081120244984023, 0.06594807234175883, -0.07640929729070377, -0.08050862524997861, 0.1840101070163738, -0.11015429661507231, 0.06411110073206709, 0.11818097855292578, 0.19114691850385956, -0.056549434623280576, 0.08305763060685341, -0.042736362090770745, 0.1798122166364739, 0.3374745644563948, -0.06372357181084892, -0.0519247515799887, -0.0924245023233299, -0.02647369836589171, -0.012610365972162058, -0.07664841257898106, 0.02876557576114372, -0.014405225646245105, 0.0415576398581654, -0.0032805447350132003, -0.05561358637164685, 0.0720719487401063, -0.021297086797504364, 0.14458314609703168, 0.21580563762013832, 0.07358742259434845, 0.17093554669453698, 0.10911180370275285, 0.2424814583389376, -0.09565579735794413, 0.005536937058720947, -0.02302414812526672, 0.011437319415129737, -0.002760212132140785, 0.01164796538472683, -0.02096609387848391, 0.03154267124131287, 0.038920260225513835, 0.011689939079123069, -0.046332892214007056, -0.014541918288077502, -0.05883133875119839, 0.17084332229512397, 0.2550817229340145, 0.28247180026077157, 0.04772317250738262, 0.09675670782571294, -0.0051355014614290085, 0.12043498426475367, 0.05801252352560242, 0.08782156599842952, -0.07010568920059332, 0.09935850029263811, -0.003353164065032735, 0.23289294201837119, 0.11306789891091062, 0.16212510293352805, 0.19405955907991965, -0.006463313528263712, -0.1125598741140956, 0.02487472768765349, -0.1001160401271559, -0.02347787772237924, 0.05487724965931338, -0.03441823845221334, -0.003273121911355266, -0.0070425341446248655, -0.0016624330090063873, 0.10187310070307269, 0.030269781070419787, 0.16422414062064017, 0.1307943741875038, 0.1375880730743781, 0.181236578649275, -0.007746015412093459, -0.034969725798336605, 0.3687847634214074, 0.12194430386955267, -0.08710746595634193, -0.06559369821591811, 0.002003257941869864, 0.05238103853244684, -0.08948702270014605, -0.019497029208290724, -0.07528006216519936, -0.0015389210624015617, 0.04472687294498592, -0.03589652817984128, -0.005029799949504951, 0.03938911194764457, -0.07734837431416626, -0.045703219164602314, -0.07778050875408982, -0.09565579735794413, 0.050375323145511554], \"xaxis\": \"x\", \"y\": [0.09117016944868499, 0.07739840351703398, 0.16703875044507682, 0.19824248094788122, 0.09862607671264907, 0.2562554178023971, 0.07221605599826247, 0.03101295675170694, -0.0027991211944250237, 0.17483002542590106, 0.06545115412524351, 0.1018541854688831, 0.2375696759544448, 0.2730806385256171, 0.20223582825566924, 0.06535808585570277, -0.05582321107827763, -0.013832708456634785, 0.14351231590984068, -0.06713373207719554, 0.1354517845948741, -0.0896352679627375, 0.1703132655999658, 0.12325649665309671, 0.2581486119616347, 0.16395629709625734, 0.21559564692786456, -0.08098054420288191, 0.06568565311686508, 0.2690340399833941, 0.06308604668180078, -0.007215141431773403, 0.33884439139803096, 0.19473462080192386, -0.008247380728194264, 0.23497675430247522, 0.07582619939801298, 0.2020306080059584, 0.35495258049497547, 0.03932641580617759, -0.06724080235874895, 0.1419566473785652, 0.17809080842407843, 0.11222776967687656, 0.2332125760234216, 0.09338786683985484, 0.015539901778976208, 0.06721392150658541, 0.17521350254040347, 0.0810701392507501, 0.30611126499854957, 0.3423896518358289, 0.25169575519564436, 0.08840209248265135, 0.18635673867934835, -0.06683282710234313, 0.0707899989015125, 0.10742393011578137, 0.0026125602278366904, 0.005184563388958167, -0.015570617179298713, 0.14946607645337837, 0.18067238039169092, 0.34678896877933674, 0.11149823713911147, 0.013409813115248467, 0.11238995011547431, 0.06301598471149837, 0.04835395668718718, 0.1115360404949671, -0.006799693780377053, 0.2633566951872236, 0.2236865807860863, 0.3120122795986058, 0.23417143301488808, 0.18650274128336808, 0.14804251550644593, 0.05696139278476616, 0.12321115429354912, 0.06622744319767687, 0.05864343610053127, 0.07091331187880619, 0.07600901210429616, 0.21336356363739872, -0.02770652937620932, 0.03812268947105041, 0.2701010813711665, 0.30149858313986605, 0.016577802897297073, 0.16406947305964972, 0.0862224342981188, 0.3158345484420474, 0.10536617163967635, -0.027244120379691553, -0.08318418386711804, 0.26292206001551255, 0.05081749154906997, 0.30130854049737776, 0.18707782748444907, 0.056298492029605705, 0.07303385749060463, 0.2282954973898647, 0.112923709007623, 0.11857571080932225, 0.30139206158960585, 0.08183637016895476, 0.17809080842407843, 0.1431593032045557], \"yaxis\": \"y\"}, {\"customdata\": [[\"Specificity and Effector Functions of Human RSV-Specific IgG from Bovine Milk\"], [\"Abstracts from the 3rd International Genomic Medicine Conference (3rd IGMC 2015): Jeddah, Kingdom of Saudi Arabia. 30 November - 3 December 2015\"], [\"Interferon-\\u03bbs: Front-Line Guardians of Immunity and Homeostasis in the Respiratory Tract\"], [\"Surfactant Protein D in Respiratory and Non-Respiratory Diseases\"], [\"Chemokine receptors: multifaceted therapeutic targets\"], [\"Pulmonary Vasculature and Critical Asthma Syndromes: a Comprehensive Review\"], [\"n\\u22123 Polyunsaturated fatty acids and inflammation: From molecular biology to the clinic\"], [\"The Role of Interleukin-8 and its Receptors in Inflammatory Lung Disease: Implications for Therapy\"], [\"Therapeutic Applications\"], [\"The Applicability of Mouse Models to the Study of Human Disease\"], [\"Role of toll-like receptors in respiratory diseases\"], [\"Use of Bronchoalveolar Lavage in Humans\\u2014Past Necessity and Future Imperative\"], [\"Respiratory\"], [\"Lung\"], [\"Gene Therapy for Lung Diseases\"], [\"Adenosine Receptors in the Lungs\"], [\"Pathophysiologic Role of Autophagy in Human Airways\"], [\"Diagnosis of Pulmonary Parasitic Diseases\"], [\"Asthma comes in from the cold\"], [\"Asthma: Pathophysiology and Diagnosis\"], [\"The Respiratory System\"], [\"[Role of toll-like receptors in respiratory diseases].\"], [\"The genus Stephania (Menispermaceae): chemical and pharmacological perspectives.\"], [\"Pulmonary immunity to viruses.\"], [\"The Canadian Healthy Infant Longitudinal Development (CHILD) Study: examining developmental origins of allergy and asthma.\"], [\"Vitamin D and asthma.\"], [\"Development of a bronchospasm device model.\"], [\"The emerging relationship between the airway microbiota and chronic respiratory disease: clinical implications.\"], [\"Exchange Proteins Directly Activated by cAMP and Their Roles in Respiratory Syncytial Virus Infection.\"], [\"Microbes and asthma: the missing cellular and molecular links.\"], [\"Interferon lambda genetic polymorphisms and viral infection: the tip of the iceberg?\"], [\"Autophagy and role in asthma.\"], [\"Respiratory syncytial virus persistence in chronic obstructive pulmonary disease.\"], [\"Genome-virome interactions: examining the role of common viral infections in complex disease.\"], [\"Translational models of lung disease.\"], [\"Dual mechanism of action of T2 inhibitor therapies in virally induced exacerbations of asthma: evidence for a beneficial counter-regulation.\"], [\"Immunization of macaques with formalin-inactivated respiratory syncytial virus (RSV) induces interleukin-13-associated hypersensitivity to subsequent RSV infection.\"], [\"Human catalase, its polymorphisms, regulation and changes of its activity in different diseases.\"], [\"Viral infections in obstructive airway diseases.\"], [\"The immunological synapse for B-cell memory: the role of the ICOS and its ligand for the longevity of humoral immunity.\"], [\"Therapeutic potential of Toll-like receptor 9 activation.\"], [\"Local renin-angiotensin II systems, angiotensin-converting enzyme and its homologue ACE2: their potential role in the pathogenesis of chronic obstructive pulmonary diseases, pulmonary hypertension and acute respiratory distress syndrome.\"], [\"The immunobiological and clinical role of vitamin D in obstructive lung diseases.\"], [\"Nanomaterials and nanoparticles: Sources and toxicity\"], [\"Targeting the NF-\\u03baB pathway in asthma and chronic obstructive pulmonary disease\"], [\"Chapter 28 Asthma\"], [\"Impact of Host Genetics and Biological Response Modifiers on Respiratory Tract Infections\"], [\"Viral infections in allergy and immunology: How allergic inflammation influences viral infections and illness\"], [\"Respiratory Viral Infections in Chronic Lung Diseases\"], [\"The infectious march: the complex interaction between microbes and the immune system in asthma\"], [\"Respiratory virus-induced heterologous immunity: Part of the problem or part of the solution?\"], [\"Molecular and cellular mechanisms in the viral exacerbation of asthma\"], [\"Neonatal Immunity, Respiratory Virus Infections, and the Development of Asthma\"], [\"Contribution of Fc\\u03b3 Receptor-Mediated Immunity to the Pathogenesis Caused by the Human Respiratory Syncytial Virus\"], [\"Sinus Infections, Inflammation, and Asthma\"], [\"Human Pulmonary 3D Models For Translational Research\"], [\"Enteroviral proteases: structure, host interactions and pathogenicity\"], [\"Antimicrobial strategies: An option to treat allergy?\"], [\"Viral-associated exacerbations of asthma and COPD\"], [\"Respiratory health, allergies, and the farm environment: design, methods and enrollment in the observational Wisconsin Infant Study Cohort (WISC): a research proposal\"], [\"Effects of AntagomiRs on Different Lung Diseases in Human, Cellular, and Animal Models\"], [\"Viral Respiratory Infections and Asthma: the Course Ahead\"], [\"New treatment regimes for virus-induced exacerbations of asthma\"], [\"Viral infection of the lung: Host response and sequelae\"], [\"Chapter 4 Gene\\u2013Environment Interactions Eco-Genetics and Toxicogenomics\"], [\"TLRs in pulmonary diseases\"], [\"Oligonucleotide therapy: An emerging focus area for drug delivery in chronic inflammatory respiratory diseases\"], [\"OCCUPATIONAL DISEASES | Overview\"], [\"The microbiology of asthma\"], [\"Eosinophils: changing perspectives in health and disease\"], [\"Host and Viral Factors in Respiratory Syncytial Virus Infection\"], [\"Asthma\"], [\"Role of the Toll Like Receptor (TLR) Radical Cycle in Chronic Inflammation: Possible Treatments Targeting the TLR4 Pathway\"], [\"\\u2018The Microbiome and the Pathophysiology of Asthma\\u2019\"], [\"Respiratory virus-induced heterologous immunity: Part of the problem or part of the solution?\"], [\"Cyclophilin A: a key player for human disease\"], [\"CD26 and Asthma: a Comprehensive Review\"], [\"The roles of miRNAs as potential biomarkers in lung diseases\"], [\"Viruses exacerbating chronic pulmonary disease: the role of immune modulation\"]], \"hovertemplate\": \"labels=15<br>pca_1=%{x}<br>pca_2=%{y}<br>title=%{customdata[0]}<extra></extra>\", \"legendgroup\": \"15\", \"marker\": {\"color\": \"#EF553B\", \"symbol\": \"circle\"}, \"mode\": \"markers\", \"name\": \"15\", \"showlegend\": true, \"type\": \"scattergl\", \"x\": [-0.04987819119712547, -0.1237079827521319, -0.14856709369034113, -0.15930306754281903, -0.16446117625504844, -0.1422098058758231, -0.23384263940267355, -0.24066588974257822, -0.21797444712895184, -0.22814856204331815, -0.21090514982829348, -0.20793754664977238, -0.19396539492628953, -0.21740467980844774, -0.1886984269043827, -0.21566086227506437, -0.25143603450554747, -0.15411036324295568, -0.07880901083864758, -0.15088977488416958, -0.17115212270141417, -0.21366374750877143, -0.15588182918483112, -0.11428578204904312, -0.11897313925931201, -0.16438142000980074, -0.13311018700867014, -0.18938312770732618, -0.08644850916012503, -0.1400315039144451, -0.07451019799423508, -0.14140034159684794, -0.04984530924275522, -0.13070127106285168, -0.1327470672438305, -0.15913786490243914, -0.09281111357656677, -0.16959695193228053, -0.11303277860034472, -0.17329482250562592, -0.18073463287499755, -0.17434614230530646, -0.17274199583326097, -0.1800962465243217, -0.23029218955832492, -0.1470868232792051, -0.08463307920592457, -0.04535331839746586, -0.20315594912916538, -0.04263451084731922, -0.07479274839957725, -0.12503122724511084, -0.07884893213063256, -0.0857080231740709, -0.10360023291309146, -0.22022855407244346, -0.1302076087305591, -0.17278937309725217, -0.11138074465174376, -0.044441798388944985, -0.15663100418241827, -0.04691371290392857, -0.10518791964315213, -0.12326359001372413, -0.13800450435231648, -0.22920460675907287, -0.2191524598906614, -0.12572346096598117, 0.021407865563347908, -0.1989726351890142, -0.025029109396014538, -0.14860953510161118, -0.2194562986088086, -0.19651927300885258, -0.07479274839957725, -0.20990592809933045, -0.1481163890912247, -0.26034391673343027, -0.1446055695382564], \"xaxis\": \"x\", \"y\": [-0.0076182411537983104, -0.10906182841834706, 0.09121837354572868, -0.04599417738650642, -0.05765751236140129, 0.09761167084716739, 0.024052069071829003, 0.0009685102626846541, 0.0026486534353698937, 0.01295965461348818, 0.10113093436386042, -0.01130109891338911, -0.04449624080320286, 0.0057486719394386505, -0.020404439093390604, -0.02494557409547908, 0.08899577870782392, -0.03140568857765136, 0.02837363724791374, 0.05129932022911857, 0.019329364213121873, 0.10530887066726588, -0.037483697714580266, 0.2344999276473658, 0.010449226793002109, 0.033129015699874975, -0.029816972150138815, 0.06809436376879041, 0.13805716157285688, 0.14837853723925745, 0.1250036760761273, 0.14140214863317074, 0.12278004400668782, 0.15183798205771487, 0.01093192808281048, 0.09458008848400243, 0.04259655850312533, -0.039534282825360784, 0.19000972078422712, 0.0413298530476771, -0.03399549201908616, -0.05204518263746698, -2.701787322362953e-05, -0.040981563758355675, 0.051676346174698476, -0.001850008898838353, 0.1264051854790582, 0.24631536957891165, 0.11361159471236157, 0.17993712946305643, 0.16318542002994713, 0.28356088404140983, 0.1221365659064842, 0.12382168124110178, 0.13284465370507675, 0.034220854354938185, 0.12363703662282116, 0.18733102815700234, 0.20731260951047492, 0.10770991625853162, -0.06104041120212478, 0.1478623366023316, 0.13633565560679842, 0.17374614145097783, -0.0028818642751436228, 0.02935199117591569, -0.005457057356885571, 0.0034219226837475924, 0.25782501454070306, 0.012155050259815505, 0.054890153703019924, 0.11048537615653263, -0.013907823237790237, 0.07945769455442339, 0.16318542002994713, 0.0699299573356201, 0.05089157140638269, 0.020439993318070372, 0.2907552685672095], \"yaxis\": \"y\"}, {\"customdata\": [[\"Prevalence and molecular characterizations of enterovirus D68 among children with acute respiratory infection in China between 2012 and 2014\"], [\"Human bocavirus in children with respiratory tract infection in Shanghai: a retrospective study\"], [\"Rhinovirus-Associated Hospitalizations in Young Children\"], [\"Asthma Exacerbations and Risk of Emergency Department Management Failure: Burden and Impact of Various Respiratory Pathogens in a Pediatric Population\"], [\"Human Coronavirus (HCoV) Infection Among Adults in Cleveland, Ohio: An Increasingly Recognized Respiratory Pathogen\"], [\"Detection of enterovirus 68 as one of the commonest types of enterovirus found in patients with acute respiratory tract infection in China.\"], [\"[Evaluation of Seeplex RV detection kit for detecting rhinovirus, human metapneumovirus, and coronavirus].\"], [\"The impact of viral respiratory infection on the severity and recovery from an asthma exacerbation.\"], [\"Clinical and epidemiologic characteristics of human bocavirus in Danish infants: results from a prospective birth cohort study.\"], [\"Viral causes of acute respiratory infection among Egyptian children hospitalized with severe acute asthma exacerbation.\"], [\"Respiratory viruses in exacerbations of non-cystic fibrosis bronchiectasis in children.\"], [\"Surveillance for the identification of cases of acute respiratory infection by enterovirus D68 in children in a tertiary level care hospital during 2014-2016.\"], [\"Prolonged shedding of rhinovirus and re-infection in adults with respiratory tract illness.\"], [\"The epidemiology and aetiology of infections in children admitted with clinical severe pneumonia to a university hospital in Rabat, Morocco.\"], [\"[New respiratory viruses in children 2 months to 3 years old with recurrent wheeze].\"], [\"[Virological surveillance of acute respiratory tract illnesses of children in Morioka, Japan. I. Epidemiological patterns of infection with respiratory viruses over a 10-year period].\"], [\"Prevalence of respiratory viruses in wheezing children not older than 24 months of age.\"], [\"First detected human bocavirus in a Malaysian child with pneumonia and pre-existing asthma: a case report.\"], [\"[First detection of human metapneumovirus in a child with respiratory syndrome in Hungary].\"], [\"High-throughput, sensitive, and accurate multiplex PCR-microsphere flow cytometry system for large-scale comprehensive detection of respiratory viruses.\"], [\"Prevalence, clinical presentations and complications among hospitalized children with influenza pneumonia.\"], [\"Respiratory syncytial virus infection and recurrent wheeze/asthma in children under five years: an epidemiological survey.\"], [\"Epidemiology of respiratory infections in young children: insights from the new vaccine surveillance network.\"], [\"PCR detection of viral nucleic acid in fatal asthma: is the lower respiratory tract a reservoir for common viruses?\"], [\"Human bocavirus in Italian patients with respiratory diseases.\"], [\"Coronavirus HKU1 and other coronavirus infections in Hong Kong.\"], [\"An investigation into respiratory tract viruses in children with acute lower respiratory tract infection or wheezing.\"], [\"CAUSATIVE AGENTS OF SEVERE COMMUNITY ACQUIRED VIRAL PNEUMONIA AMONG CHILDREN IN EASTERN THAILAND.\"], [\"Role of rhinovirus in hospitalized infants with respiratory tract infections in Spain.\"], [\"Use of polymerase chain reaction for detection of adenovirus in children with or without wheezing.\"], [\"Development and application of an enzyme immunoassay for coronavirus OC43 antibody in acute respiratory illness.\"], [\"Epidemiology of coronavirus-associated respiratory tract infections and the role of rapid diagnostic tests: a prospective study.\"], [\"Rhinovirus infection in hospitalized children in Hong Kong: a prospective study.\"], [\"Children hospitalized with rhinovirus bronchiolitis have asthma-like characteristics\"], [\"Persistence of Viruses in Upper Respiratory Tract of Children with Asthma\"], [\"Detection of viral, Chlamydia pneumoniae and Mycoplasma pneumoniae infections in exacerbations of asthma in children\"], [\"Epidemic and molecular evolution of human bocavirus in hospitalized children with acute respiratory tract infection\"], [\"Prevalence of viral respiratory tract infections in children with asthma\"], [\"Human Coronavirus NL63 Infection and Other Coronavirus Infections in Children Hospitalized with Acute Respiratory Disease in Hong Kong, China\"], [\"Etiology and Impact of Coinfections in Children Hospitalized With Community-Acquired Pneumonia\"], [\"Human Coronavirus Infection among Children with Acute Lower Respiratory Tract Infection in Thailand\"], [\"Spectrum of Clinical Illness in Hospitalized Patients with \\u201cCommon Cold\\u201d Virus Infections\"], [\"Detection of human bocavirus in hospitalised children\"], [\"Spontaneous pneumomediastinum as a complication in human bocavirus infection\"], [\"Clinical differences between respiratory viral and bacterial mono- and dual pathogen detected among Singapore military servicemen with febrile respiratory illness\"], [\"Association of specific viral infections with childhood asthma exacerbations\"], [\"Rhinovirus et infections respiratoires aigu\\u00ebs de l\\u2019enfant hospitalis\\u00e9. \\u00c9tude r\\u00e9trospective de 1998 \\u00e0 2000\"], [\"Respiratory Picornaviruses and Respiratory Syncytial Virus as Causative Agents of Acute Expiratory Wheezing in Children\"], [\"Altered eosinophil levels as a result of viral infection in asthma exacerbation in childhood\"], [\"The emergence of enterovirus D68 in a Dutch University Medical Center and the necessity for routinely screening for respiratory viruses\"], [\"Detection and typing by molecular techniques of respiratory viruses in children hospitalized for acute respiratory infection in Rome, Italy\"], [\"Lethal Respiratory Disease Associated with Human Rhinovirus C in Wild Chimpanzees, Uganda, 2013\"], [\"Clinical and epidemiological features of respiratory virus infections in preschool children over two consecutive influenza seasons in southern Brazil\"], [\"Use of induced sputum for the diagnosis of influenza and infections in asthma: a comparison of diagnostic techniques\"], [\"Is chronic rhinosinusitis caused by persistent respiratory virus infection?, ,\"], [\"Respiratory Viruses and Torque Teno Virus in Adults with Acute Respiratory Infections\"], [\"Respiratory viral infection in lower airways of asymptomatic children\"], [\"Viral and Atypical Bacterial Detection in Acute Respiratory Infection in Children Under Five Years\"], [\"Enterovirus D68 respiratory infection in a children's hospital in Japan in 2015\"], [\"Infections and coinfections by respiratory human bocavirus during eight seasons in hospitalized children\"], [\"Human metapneumovirus: An important cause of respiratory disease in children and adults\"], [\"Nasopharyngeal isolates and their clinical impact on young children with asthma: a pilot study\"], [\"Mechanisms of viral impact on asthma exacerbations\"], [\"Association of bacteria and viruses with wheezy episodes in young children: prospective birth cohort study\"], [\"Improved detection of rhinoviruses in nasal and throat swabs by seminested RT\\u2010PCR\"], [\"Pan-Viral Screening of Respiratory Tract Infections in Adults With and Without Asthma Reveals Unexpected Human Coronavirus and Human Rhinovirus Diversity\"], [\"Human bocavirus in children hospitalized for acute respiratory tract infection in Rome\"], [\"Adults hospitalised with acute respiratory illness rarely have detectable bacteria in the absence of COPD or pneumonia; viral infection predominates in a large prospective UK sample\"], [\"Virological and clinical characterizations of respiratory infections in hospitalized children\"]], \"hovertemplate\": \"labels=12<br>pca_1=%{x}<br>pca_2=%{y}<br>title=%{customdata[0]}<extra></extra>\", \"legendgroup\": \"12\", \"marker\": {\"color\": \"#00cc96\", \"symbol\": \"circle\"}, \"mode\": \"markers\", \"name\": \"12\", \"showlegend\": true, \"type\": \"scattergl\", \"x\": [0.2536993181160244, 0.157258701825105, 0.2913925593479665, 0.13071313134071974, 0.1295128603400366, 0.1005763275094446, 0.22687398621605448, 0.2409425165616211, 0.19746097264305143, 0.3668014539147611, 0.2112026742960736, 0.09332726314061338, 0.1333685316583627, 0.19919835055976265, 0.36494684240187314, 0.16533734591134544, 0.3504552852142004, 0.09234030513103654, 0.13206535480683684, 0.1851375089669301, 0.3762985031329574, 0.3144178167007877, 0.2703098286374688, 0.09001406296240885, 0.14565445394080184, 0.22107982703577936, 0.2676088723674678, 0.2903746433585066, 0.44219993103149946, 0.22488391086285286, 0.062356884876836306, 0.1906079761160992, 0.3327493026626555, 0.28594157157857586, 0.15620089547974553, 0.2534451606630314, 0.10826293567538756, 0.31465211513768626, 0.23166700719052274, 0.16519069489571914, 0.1886181635911268, 0.28122624210128117, 0.28026187723684, 0.09879236956836704, 0.11748873382444384, 0.34978558025199513, 0.27371091757977345, 0.3806704551615908, 0.21973904745540884, 0.14767722139513076, 0.3013067271207397, 0.04401125780249443, 0.2710834220874622, 0.12585497471715995, 0.13416101168522518, 0.28625495987403854, 0.16719189103947912, 0.30083650765795966, 0.30848659502223247, 0.2530489120878381, 0.10940167396847718, 0.21451088880666128, 0.21556854383413276, 0.17334175805224236, 0.10658607855196199, 0.13512010935350127, 0.28122302434996177, 0.21200279814116868, 0.327063667877605], \"xaxis\": \"x\", \"y\": [-0.00594784113752889, -0.09770096551512895, -0.1742205651776255, -0.060651374800632624, 6.760627116234735e-05, -0.020622140656098225, -0.040078237671811345, -0.0409113340356914, -0.11280501487782425, 0.03650142621183254, 0.09023217802215315, -0.08809098490671757, -0.025806973699294335, -0.05927499339831589, -0.02474085992633991, -0.09651050203235366, -0.01128754820318794, -0.02926307393039697, -0.03465655246905026, 0.04114380447979275, -0.05212423967137379, -0.059137890143125565, -0.10021563853345349, 0.014508121711445842, -0.11480725440173933, 0.05873297726490498, 0.015359460923810318, -0.03937857442626268, -0.05540898360366589, -0.011652695515570164, -0.039150500308183886, 0.058075343179004285, 0.04967552871660641, -0.07702780526077614, -0.059144437328713266, -0.024373128381477226, -0.11270912582997519, 0.08409279630129093, -0.05954323773180578, -0.07369950453479442, -0.033187256106737825, 0.07038543818196598, -0.06464923704548689, 0.03522579990462482, -0.09014151697487048, 0.07304405155587142, 0.010534716386701802, 0.043460763636560665, 0.0028606454139197745, -0.08950985607403668, 0.07086104067019, 0.05351623053275714, -0.01793992565671897, -0.02703632281031871, 0.11111868525114146, 0.06918286236823465, 0.0012878275665352823, -0.01152506204191859, -0.21556269546982015, -0.053481042873969556, 0.026996761061039938, 0.05241410822758787, 0.06595894409178012, -0.027074760968254397, -0.05975784529076124, 0.06587329956862666, -0.04742713170120122, -0.04362011160162613, -0.024803586680743298], \"yaxis\": \"y\"}, {\"customdata\": [[\"Pelargonium sidoides radix extract EPs 7630 reduces rhinovirus infection through modulation of viral binding proteins on human bronchial epithelial cells\"], [\"Development of a Rhinovirus Inoculum Using a Reverse Genetics Approach\"], [\"Mold contamination in schools with either high or low prevelance of asthma\"], [\"Decrease in Fine T\\u2010cell Subset ratio MT2/MT1 During Steroid Reduction of Asthmatic Patients\"], [\"Adenosine Receptor A2a is Differentially Expressed in CD4(+) T Lymphocytes of Asthmatic and Healthy Individuals\"], [\"Influence of bronchoalveolar lavage on thoracic radiography in the horse.\"], [\"Laparoscopic liver resection assisted by the laparoscopic Habib Sealer.\"], [\"The effect of inhaled IFN-\\u03b2 on worsening of asthma symptoms caused by viral infections. A randomized trial.\"], [\"Asthma, allergy and the Olympics: a 12-year survey in elite athletes.\"], [\"Model-Based Estimation of Respiratory Parameters from Capnography, With Application to Diagnosing Obstructive Lung Disease.\"], [\"Active Surveillance of Influenza A and Other Respiratory Viruses in Children with Influenza-like-illness in Two Seasons.\"], [\"Rats susceptible to virus-induced asthma have a persistent virus-induced change in the predominant pulmonary form of the NF-\\u03baB inhibitor I\\u03baB\\u03b1.\"], [\"Atypical presentation of human bocavirus: Severe respiratory tract infection complicated with encephalopathy\"], [\"Increased Systemic Cytokine/Chemokine Expression in Asthmatic and Non\\u2010asthmatic Patients with Bacterial, Viral or Mixed Lung Infection\"], [\"Influenza A virus infection increases IgE production and airway responsiveness in aerosolized antigen-exposed mice()()()\"], [\"Increased cytokine/chemokines in serum from asthmatic and non-asthmatic patients with viral respiratory infection\"], [\"Repeated virus identification in the airways of patients with mild and severe asthma during prospective follow\\u2010up\"], [\"Distribution and seasonality of rhinovirus and other respiratory viruses in a cross-section of asthmatic children in Trinidad, West Indies\"], [\"Effects of Fruit and Vegetable Consumption on Risk of Asthma, Wheezing and Immune Responses: A Systematic Review and Meta-Analysis\"], [\"Inhaled corticosteroid use is associated with increased circulating T regulatory cells in children with asthma\"], [\"The molecular epidemiology of respiratory viruses associated with asthma attacks: A single-center observational study in Japan\"]], \"hovertemplate\": \"labels=18<br>pca_1=%{x}<br>pca_2=%{y}<br>title=%{customdata[0]}<extra></extra>\", \"legendgroup\": \"18\", \"marker\": {\"color\": \"#ab63fa\", \"symbol\": \"circle\"}, \"mode\": \"markers\", \"name\": \"18\", \"showlegend\": true, \"type\": \"scattergl\", \"x\": [-0.12411923117461253, -0.026959136575226115, -0.03972119215494975, -0.07070986294736059, -0.17331439158650597, -0.0412581058543595, -0.038167524037166674, -0.052168644506078735, -0.028346633687539462, -0.10677127052104293, 0.30741142128596105, -0.10303425956152625, 0.19162018900799874, 0.012743431682319763, -0.06343003307871677, 0.02444062514637347, 0.17841317886176958, 0.29487164862648174, -0.037895337700340224, -0.10237977382240356, 0.1434751452048292], \"xaxis\": \"x\", \"y\": [1.4356813597618187e-05, -0.0789263648958302, -0.15760854203179508, -0.1541621047710678, -0.09018437720593539, -0.16636560603676942, -0.18445796756742266, -0.06494349028212405, -0.09476618544838425, -0.1341266376119925, -0.13066607207330863, -0.03578789554463156, -0.11470185141547211, -0.02233391631561295, -0.02055761572088254, 0.004698657878932144, -0.040189858376186445, 0.016786227445534194, -0.05326151433389005, -0.06286166540996338, -0.07975032608983497], \"yaxis\": \"y\"}, {\"customdata\": [[\"Acute upper airway infections: Childhood respiratory infections\"], [\"Respiratory illness caused by picornavirus infection: a review of clinical outcomes\"], [\"Virale Atemwegsinfektionen bei Erwachsenen : Eine \\u00dcbersicht\"], [\"Epidemiology\"], [\"LOWER RESPIRATORY TRACT INFECTIONS IN ELDERLY PATIENTS WITH ASTHMA\"], [\"Molecular detection of rhinoviruses.\"], [\"Human respiratory coronaviruses : neuroinvasive, neurotropic and potentially neurovirulent pathogens.\"], [\"Use of heliox delivered via high-flow nasal cannula to treat an infant with coronavirus-related respiratory infection and severe acute air-flow obstruction.\"], [\"[Detection of respiratory viruses--how, when, where and why?].\"], [\"New respiratory viral infections.\"], [\"New developments in the epidemiology and clinical spectrum of rhinovirus infections.\"], [\"Rhinovirus and coronavirus infections.\"], [\"Respiratory consequences of rhinovirus infection.\"], [\"Current challenges in lower respiratory infections in children.\"], [\"Respiratory viral threats.\"], [\"Antiviral IFN-\\u03b3 responses of monocytes at birth predict respiratory tract illness in the first year of life\"], [\"Advances in antivirals for non\\u2010influenza respiratory virus infections\"], [\"Cytokine Responses in the Common Cold and Otitis Media\"], [\"VIRUSES OF THE LUNG\"], [\"New Respiratory Viruses and the Elderly\"], [\"Rhinoviruses\"], [\"Update on Human Rhinovirus and Coronavirus Infections\"], [\"The Role of Human Parainfluenza Virus Infections in the Immunopathology of the Respiratory Tract\"], [\"Molecular epidemiology of respiratory viruses in virus-induced asthma\"], [\"Rhinovirus chemotherapy\"], [\"A systems approach to understanding human rhinovirus and influenza virus infection\"], [\"Antiviral therapeutic approaches for human rhinovirus infections\"], [\"Human coronaviruses: Viral and cellular factors involved in neuroinvasiveness and neuropathogenesis\"], [\"Virus-induced modulation of lower airway diseases: Pathogenesis and pharmacologic approaches to treatment\"], [\"Antiviral and Anti-Inflammatory Activities of Pochonin D, a Heat Shock Protein 90 Inhibitor, against Rhinovirus Infection\"], [\"Neuroinvasive and Neurotropic Human Respiratory Coronaviruses: Potential Neurovirulent Agents in Humans\"]], \"hovertemplate\": \"labels=5<br>pca_1=%{x}<br>pca_2=%{y}<br>title=%{customdata[0]}<extra></extra>\", \"legendgroup\": \"5\", \"marker\": {\"color\": \"#FFA15A\", \"symbol\": \"circle\"}, \"mode\": \"markers\", \"name\": \"5\", \"showlegend\": true, \"type\": \"scattergl\", \"x\": [0.04537402070540693, 0.04256273761592346, 0.04020021868936223, 0.12123409057193138, -0.030501944695566052, 0.04277430178901384, -0.017907743835814647, -0.00652980413614717, 0.06797498836304251, 0.18813347555352555, 0.14291305903551269, -0.028994129344214914, -0.02802824678431639, 0.17283264237573753, 0.0500494152617173, 0.17887661000418872, -0.022243784824703856, -0.02608716676235246, 0.027317947958330976, 0.1514811177244145, -0.025364950284572054, 0.08184712089792573, 0.10249822331792523, 0.12291601920860366, 0.10270302084682673, -0.06853405012654731, -0.0765753852678147, -0.022876656148699367, -0.05902906469968257, -0.08129287768218944, -0.013923744943287169], \"xaxis\": \"x\", \"y\": [0.022957272645558316, 0.11634243391614674, 0.13586305020929693, 0.157826951243759, 0.1324655207221057, 0.09467869451050168, 0.1434896901465372, 0.014101083391684543, 0.13324753691173502, 0.2060061105889298, 0.19888956045572023, 0.08349790920223009, 0.12767264774613626, 0.17336846050605909, 0.1087210627429739, 0.1539366762471381, 0.06279817931803842, 0.0891167050435499, 0.15684421552259104, 0.19653057858187, 0.18097303794417424, 0.17041187022817458, 0.30183289062128327, 0.30484610093784714, 0.2039712846206993, 0.18588351204808137, 0.11508127458972003, 0.20222384521740605, 0.3570371755079529, 0.11513874269911764, 0.21584871692735558], \"yaxis\": \"y\"}, {\"customdata\": [[\"Sensory Nerves and Airway Irritability\"], [\"Peripheral Mechanisms II: The Pharmacology of Peripherally Active Antitussive Drugs\"], [\"Respiratory Emergencies\"], [\"Cough\"], [\"Swyer-James syndrome associated with asthma and a giant bulla.\"], [\"Pediatric cough: what the otolaryngologist needs to know.\"], [\"Pharmacotherapy for lower respiratory tract infections.\"], [\"The clinical management of lower respiratory tract infections.\"], [\"Cough receptor sensitivity in children with acute and non-acute asthma.\"], [\"The management of acute bronchitis in children.\"], [\"Uncomplicated acute bronchitis.\"], [\"Cough and viruses in airways disease: Mechanisms\"], [\"Chronic Cough Related to Acute Viral Bronchiolitis in Children CHEST Expert Panel Report\"], [\"Bronquiectasias\"], [\"Chronic Cough Due to Acute Bronchitis ACCP Evidence-Based Clinical Practice Guidelines\"], [\"USE OF THE CLINICAL MICROBIOLOGY LABORATORY FOR THE DIAGNOSIS AND MANAGEMENT OF INFECTIOUS DISEASES RELATED TO THE ORAL CAVITY\"], [\"Pharmacological modulation of cough reflex\"], [\"Comparison of atopic and nonatopic children with chronic cough: Bronchoalveolar lavage cell profile\"], [\"Efficacy of cineole in patients suffering from acute bronchitis: a placebo-controlled double-blind trial\"], [\"Akute Bronchitis\"], [\"The Spectrum of Non-asthmatic Airway Diseases Contributing to Cough in the Adult\"], [\"Acute and chronic cough\"]], \"hovertemplate\": \"labels=16<br>pca_1=%{x}<br>pca_2=%{y}<br>title=%{customdata[0]}<extra></extra>\", \"legendgroup\": \"16\", \"marker\": {\"color\": \"#19d3f3\", \"symbol\": \"circle\"}, \"mode\": \"markers\", \"name\": \"16\", \"showlegend\": true, \"type\": \"scattergl\", \"x\": [-0.21532736740017888, -0.19710166688570077, -0.07200458945526118, -0.04159463604125373, -0.039055621086335784, -0.07049927099223603, -0.05929407838730297, -0.03930224790335336, 0.0662152528264404, 0.05355509800769205, -0.021285440397393256, -0.07675732820153393, -0.014084290779245959, -0.17208443025740192, -0.005115111647385097, -0.054664526451190645, -0.16961531662029503, -0.03240477894054291, 0.0016141237502614496, -0.025392789588896257, -0.08889241396058756, -0.09635255620526052], \"xaxis\": \"x\", \"y\": [-0.004164209786632733, 0.026473615985464757, 0.011489640483353608, -0.06753301689820876, -0.1102843625268023, -0.04995852701127385, 0.06844506591561397, -0.01500649802296291, -0.10673682282256941, 0.061799737233153074, -0.08284249916567274, 0.18138556398374925, -0.12625417107885872, 0.03479957015131513, -0.0447928051355306, -0.03404179946918503, -0.08901250049227678, -0.12502865322492357, -0.2322084126240115, -0.05979985663141531, -0.015444791347371204, -0.026910582101307593], \"yaxis\": \"y\"}, {\"customdata\": [[\"Clinical features of Chlamydia pneumoniae acute respiratory infection\"], [\"Comparison of Mycoplasma pneumoniae Infections in asthmatic children versus asthmatic adults.\"], [\"Management of bacterial infections in children with asthma.\"], [\"Mycoplasma pneumoniae and its role in asthma.\"], [\"Acute exacerbations of asthma in adults: role of Chlamydia pneumoniae infection.\"], [\"Pathogenic bacteria and viruses in induced sputum or pharyngeal secretions of adults with stable asthma.\"], [\"Role of viruses and atypical bacteria in asthma exacerbations among children in Oporto (Portugal).\"], [\"Infectious triggers of asthma\"], [\"The atypical pneumonias: clinical diagnosis and importance\"], [\"Effects of Atypical Infections with Mycoplasma and Chlamydia on Asthma\"], [\"Chlamydia pneumoniae and Exacerbations of Asthma in Adults\"], [\"Role of viruses and atypical bacteria in exacerbations of asthma in hospitalized children: A prospective study in the Nord\\u2010Pas de Calais region (France)\"], [\"Decreased interleukin-18 response in asthmatic children with severe Mycoplasma pneumoniae pneumonia\"], [\"Virome and bacteriome characterization of children with pneumonia and asthma in Mexico City during winter seasons 2014 and 2015\"], [\"Clinical manifestations in infants and children with Mycoplasma pneumoniae infection\"], [\"The Burden of Community-Acquired Pneumonia in Seniors: Results of a Population-Based Study\"], [\"Lung ultrasound as a diagnostic tool for radiographically-confirmed pneumonia in low resource settings\"], [\"Mycoplasma pneumoniae Infection Affects the Serum Levels of Vascular Endothelial Growth Factor and Interleukin-5 in Atopic Children\"], [\"Does atopy affect the course of viral pneumonia?\"], [\"Association of Mycoplasma pneumoniae and asthma among Indian children\"]], \"hovertemplate\": \"labels=0<br>pca_1=%{x}<br>pca_2=%{y}<br>title=%{customdata[0]}<extra></extra>\", \"legendgroup\": \"0\", \"marker\": {\"color\": \"#FF6692\", \"symbol\": \"circle\"}, \"mode\": \"markers\", \"name\": \"0\", \"showlegend\": true, \"type\": \"scattergl\", \"x\": [0.018942068545895425, 0.23070364798865703, 0.16134070032501766, -0.044551135889476484, 0.14334022899005575, 0.10797561248398625, 0.24705981522008602, -0.03135799560870971, -0.03915269206430184, -0.03857625585383591, 0.11982746532346647, 0.31437215831352855, 0.10849135031293396, 0.2034942260860479, 0.1863909902853878, 0.054783375084178694, 0.09196493505126963, 0.0283788403915673, 0.23432946065398036, 0.13237964048014148], \"xaxis\": \"x\", \"y\": [-0.0008777660914571763, -0.01572422153302052, 0.2635207224320939, -0.009494718497344061, 0.002601648663242708, -0.07147955831861195, 0.0221347166399886, 0.16004238959449704, -0.07012315779006664, 0.09560928401353126, -0.1284662218444253, 0.02009825577307283, -0.17482823941627684, -0.032933956841476646, -0.12943624904111786, -0.15055526947943504, -0.1334283240826698, -0.10834702447947232, -0.11772569621548071, -0.09429599750069989], \"yaxis\": \"y\"}, {\"customdata\": [[\"The wheezing infant\"], [\"Characteristics and prognosis of hospital\\u2010treated obstructive bronchitis in children aged less than two years\"], [\"Special Considerations in Preschool Age\"], [\"Multiple Breath Washout for Diagnosing Asthma and Persistent Wheeze in Young Children.\"], [\"Severe bronchiolitis profiles and risk of recurrent wheeze by age 3 years.\"], [\"Bronchiolitis: age and previous wheezing episodes are linked to viral etiology and atopic characteristics.\"], [\"Wheezing rhinovirus illnesses in early life predict asthma development in high-risk children.\"], [\"Clinical characteristics of children infected with enterovirus D68 in an outpatient clinic and the association with bronchial asthma.\"], [\"Intravenous magnesium sulfate for acute wheezing in young children: a randomised double-blind trial.\"], [\"Febrile respiratory illnesses in infancy and atopy are risk factors for persistent asthma and wheeze.\"], [\"Recurrent wheezing illness in preschool-aged children: assessment and management in primary care practice.\"], [\"High risk of adult asthma following severe wheezing in early life.\"], [\"Early Administration of Azithromycin and Prevention of Severe Lower Respiratory Tract Illnesses in Preschool Children With a History of Such Illnesses: A Randomized Clinical Trial.\"], [\"Altered exhaled biomarker profiles in children during and after rhinovirus-induced wheeze.\"], [\"Rhinovirus bronchiolitis and recurrent wheezing: 1-year follow-up.\"], [\"Dynamics of the upper airway microbiome in the pathogenesis of asthma-associated persistent wheeze in preschool children\"], [\"IL-13 genetic polymorphism identifies children with late wheezing after respiratory syncytial virus infection.\"], [\"Intermittent inhaled corticosteroids in infants with episodic wheezing.\"], [\"Association between renin-angiotensin system gene polymorphism and recurrent wheezing in Chinese children: a 4-year follow-up study.\"], [\"Recurrent wheezing 36 months after bronchiolitis is associated with rhinovirus infections and blood eosinophilia\"], [\"Short- and long-term efficacy of prednisolone for first acute rhinovirus-induced wheezing episode\"], [\"Respiratory viruses in bronchiolitis and their link to recurrent wheezing and asthma\"], [\"Rhinovirus-induced first wheezing episode predicts atopic but not nonatopic asthma at school age\"], [\"Bronchiolitis needs a revisit: Distinguishing between virus entities and their treatments\"], [\"Decreased lung function after preschool wheezing rhinovirus illnesses in children at risk to develop asthma\"], [\"High Titers of IgE Antibody to Dust Mite Allergen and the Risk for Wheezing Among Asthmatic Children Infected with Rhinovirus\"], [\"Redecoration of apartments promotes obstructive bronchitis in atopy risk infants \\u2013 Results of the LARS study\"], [\"Bronchiolitis and asthma: Possible common pathogenetic pathways\"], [\"32 Special Considerations for Infants and Young Children\"], [\"The first wheezing episode: respiratory virus etiology, atopic characteristics, and illness severity\"], [\"Prednisolone for the first rhinovirus\\u2010induced wheezing and 4\\u2010year asthma risk: A randomized trial\"], [\"Wheezing exacerbations in early childhood: evaluation, treatment, and recent advances relevant to the genesis of asthma\"], [\"Lung function and bronchial hyper\\u2010responsiveness 11 years after hospitalization for bronchiolitis\"], [\"Early-life respiratory viral infections, atopic sensitization, and risk of subsequent development of persistent asthma\"], [\"Risk factors for wheezing in a subtropical environment(): Role of respiratory viruses and allergen sensitization\"], [\"Wheezing in preschool children()\"], [\"Assessment of airflow limitation, airway inflammation, and symptoms during virus-induced wheezing episodes in 4- to 6-year-old children\"], [\"The effect of respiratory syncytial virus on subsequent recurrent wheezing in atopic and nonatopic children\"], [\"Atopic characteristics of wheezing children and responses to prednisolone\"], [\"Teenage asthma after severe early childhood wheezing: An 11\\u2010year prospective follow\\u2010up\"], [\"Respiratory Presentation of Pediatric Patients in the 2014 Enterovirus D68 Outbreak\"], [\"Wheezing due to rhinovirus infection in infancy: Bronchial hyperresponsiveness at school age\"], [\"Rhinitis, Asthma and Respiratory Infections among Adults in Relation to the Home Environment in Multi-Family Buildings in Sweden\"], [\"Early life rhinovirus wheezing, allergic sensitization, and asthma risk at adolescence\"], [\"Clinical risk factors associated with the development of wheezing in children less than 2 years of age who required hospitalization for viral lower respiratory tract infections\"], [\"Genetic polymorphisms and risk of recurrent wheezing in pediatric age\"], [\"The association of viral and bacterial respiratory infections with exacerbations of wheezing in young asthmatic children\"], [\"Role of viral coinfections in asthma development\"], [\"Azithromycin for episodes with asthma-like symptoms in young children aged 1\\u20133 years: a randomised, double-blind, placebo-controlled trial\"], [\"Risk factors for a poor outcome among children admitted with clinically severe pneumonia to a university hospital in Rabat, Morocco\"], [\"Prednisolone reduces recurrent wheezing after a first wheezing episode associated with rhinovirus infection or eczema\"], [\"Prednisolone reduces recurrent wheezing after first rhinovirus wheeze: a 7\\u2010year follow\\u2010up\"], [\"Pulmonary function and bronchial reactivity 4 years after the first virus-induced wheezing\"], [\"Dynamics of airway microbiota identify a critical window for interplay of pathogenic bacteria and allergic sensitization in childhood respiratory disease\"], [\"Allergic sensitization is associated with rhinovirus\\u2010, but not other virus\\u2010, induced wheezing in children\"], [\"Viral respiratory infections and the oropharyngeal bacterial microbiota in acutely wheezing children\"]], \"hovertemplate\": \"labels=9<br>pca_1=%{x}<br>pca_2=%{y}<br>title=%{customdata[0]}<extra></extra>\", \"legendgroup\": \"9\", \"marker\": {\"color\": \"#B6E880\", \"symbol\": \"circle\"}, \"mode\": \"markers\", \"name\": \"9\", \"showlegend\": true, \"type\": \"scattergl\", \"x\": [0.15800471327980864, 0.24341586113504043, 0.16331026248798378, 0.09051412933109078, 0.16546852342959736, 0.25892634876149034, 0.30134346304632026, 0.33660783347328793, 0.1065666542862786, 0.22152817172729766, 0.0333971581151013, 0.1339122823255749, 0.052643722336162505, 0.14875947374520973, 0.24998185337849177, 0.06346211536293873, 0.17841042022142878, 0.10205313870668947, 0.11997874334334771, 0.2922950179175221, 0.18065027479700252, 0.21668191444255902, 0.1983494840936319, 0.17578776685209074, 0.22877529756455012, 0.17538978378075376, 0.024003307167067098, 0.0490178116225671, 0.02958553694465798, 0.29407161775576385, 0.15369602417771278, 0.11875272559883976, 0.15924188206999748, 0.282835323406344, 0.28883550388756196, 0.15121974113397213, 0.05094714802227324, 0.14900407360154788, 0.08751957316636383, 0.26321371741382177, 0.2309823618165382, 0.09598822658539338, 0.09714580721230179, 0.21153482641168297, 0.188831053303177, 0.16949676339119743, 0.34732249561234874, 0.2949871591276437, 0.0702401180456665, 0.11518591244211818, 0.23975440566353715, 0.23652462659872497, 0.23378021113410866, 0.06346211536293873, 0.14236462776539882, 0.18314247478468304], \"xaxis\": \"x\", \"y\": [0.03145699908696782, -0.10166795015294468, 0.03373560627731941, -0.1768876567189097, -0.09151042070719345, -0.03917545164279198, 0.10410876501582285, -0.049214537522108255, -0.1219122304275242, 0.04982282458799517, -0.10651630781679068, -0.10990260767344172, -0.14965710400993892, -0.10734367996172103, -0.05348508446809732, 0.07637142589008224, -0.01879032925359299, -0.15127493289397037, -0.1226560610139931, -0.04057089152866069, -0.16172445454542506, 0.11255769711926153, -0.06770743611890137, 0.01724204057830701, 0.007008217486883732, -0.06573669827623407, -0.0909682258877034, 0.06251072036113633, -0.06577492032021591, 0.013707579182431835, -0.1585376615813403, 0.007745479292104219, -0.07694330587487852, 0.0630762116978881, -0.01787283403986287, -0.0691338701158554, -0.12583953908716505, -0.05208776694126304, -0.16083897137880526, -0.008804422058561537, -0.1827567937174078, -0.03845924351718139, -0.1106652625677974, -0.004167943943802188, -0.062547580808519, -0.08855427063897128, 0.12782812258946444, -0.05433894696473415, -0.15760944747696043, -0.1820318422837136, -0.09986761685234646, -0.08320824479224471, -0.10132200562351625, 0.07637142589008224, -0.021134079697259556, 0.014884630683157596], \"yaxis\": \"y\"}, {\"customdata\": [[\"Respiratorische Erkrankungen\"], [\"Pneumologie\"], [\"Pneumologie\"], [\"Krankheitsbilder\"], [\"Erkrankungen der Atemwege und der Lunge\"], [\"Virale Infektionen: RNA-Viren\"], [\"Pneumologie\"], [\"Allergologie\"], [\"Pneumologie interdisziplin\\u00e4r\"], [\"EPITOPE-BASED VACCINE FOR THE TREATMENT OF DER F 3 ALLERGY.\"], [\"Biologics in Rhinology \\u2013 Forthcoming Personalized Concepts: the Future Starts Today\"], [\"Kein ungezielter Einsatz von Antibiotika: Akute Bronchitis\"]], \"hovertemplate\": \"labels=13<br>pca_1=%{x}<br>pca_2=%{y}<br>title=%{customdata[0]}<extra></extra>\", \"legendgroup\": \"13\", \"marker\": {\"color\": \"#FF97FF\", \"symbol\": \"circle\"}, \"mode\": \"markers\", \"name\": \"13\", \"showlegend\": true, \"type\": \"scattergl\", \"x\": [-0.1100700763663707, -0.13687261744342605, -0.11492140356244548, -0.14100914337972748, -0.1375187661334255, -0.13332577918868188, -0.13698985394753893, -0.1333133341219188, -0.1254128037000472, -0.13345394216489315, -0.1421556165334252, -0.12808763997853873], \"xaxis\": \"x\", \"y\": [-0.16878769669667995, -0.19091736308638102, -0.1377091738858024, -0.18018940332642927, -0.18337084621557181, -0.18846858636905614, -0.18388319180776014, -0.18893526811567682, -0.18091323903728337, -0.13818240773269574, -0.17004506491978677, -0.1672064507974873], \"yaxis\": \"y\"}, {\"customdata\": [[\"Virus et sensibilisation\"], [\"Toux chronique de l\\u2019enfant\"], [\"Papel de los receptores toll-like en las enfermedades respiratorias\"], [\"Relaci\\u00f3n entre asma e infecciones virales\"], [\"Asma infantil e infecci\\u00f3n v\\u00edrica: interacciones y posibilidades terap\\u00e9uticas\"], [\"Acidose lactique chez un nourrisson au cours d\\u2019une crise d\\u2019asthme grave\"], [\"Exacerbations de l\\u2019asthme et identification virale associ\\u00e9e \\u00e0 celle du Chlamydiae pneumoniae et du Mycoplasma pneumoniae : \\u00e9pid\\u00e9miologie comparative entre nourrissons et enfants \\u00e2g\\u00e9s de plus de deux ans\"], [\"Tendencias temporales de las concentraciones de citocinas Th1 y Th2 en esputo inducido de pacientes asm\\u00e1ticos durante infecciones v\\u00edricas agudas de las v\\u00edas respiratorias superiores\"], [\"Papel del rinovirus en las infecciones respiratorias en ni\\u00f1os hospitalizados\"], [\"Exacerbations asthmatiques : sp\\u00e9cificit\\u00e9s p\\u00e9diatriques (en dehors du traitement)\"], [\"Int\\u00e9r\\u00eat de l\\u2019identification en routine des agents pathog\\u00e8nes respiratoires chez les enfants hospitalis\\u00e9s pour une exacerbation d\\u2019asthme\"], [\"Marqueurs biologiques de gravit\\u00e9 initiale des bronchiolites aigu\\u00ebs et d\\u2019\\u00e9volution vers un asthme du nourrisson\"], [\"Prise en charge des pathologies respiratoires \\u00e0 ad\\u00e9novirus chez l\\u2019enfant immunocomp\\u00e9tent \\u00c0 propos d\\u2019une \\u00e9tude r\\u00e9trospective de 116 enfants hospitalis\\u00e9s\"]], \"hovertemplate\": \"labels=4<br>pca_1=%{x}<br>pca_2=%{y}<br>title=%{customdata[0]}<extra></extra>\", \"legendgroup\": \"4\", \"marker\": {\"color\": \"#FECB52\", \"symbol\": \"circle\"}, \"mode\": \"markers\", \"name\": \"4\", \"showlegend\": true, \"type\": \"scattergl\", \"x\": [-0.011535553066398783, -0.09345498603275909, -0.15842179255326314, -0.07360273238790024, -0.10278199913370649, -0.06169994403804402, 0.029990285232434622, -0.05603198149956942, 0.03901312345979781, -0.06692018340235095, 0.009548158377272773, -0.02015584336297207, -0.01140899560204953], \"xaxis\": \"x\", \"y\": [0.021778854278153473, -0.10399534361539099, -0.049387060778240045, -0.030634578271145414, -0.0277431885526674, -0.1604457792422175, -0.08314168330315695, -0.07818274445775207, -0.08535673125023567, -0.06807884048677121, -0.07814895718606021, -0.08736403973154662, -0.03950272637131981], \"yaxis\": \"y\"}],\n",
       "                        {\"legend\": {\"title\": {\"text\": \"labels\"}, \"tracegroupgap\": 0}, \"margin\": {\"t\": 60}, \"template\": {\"data\": {\"bar\": [{\"error_x\": {\"color\": \"#2a3f5f\"}, \"error_y\": {\"color\": \"#2a3f5f\"}, \"marker\": {\"line\": {\"color\": \"#E5ECF6\", \"width\": 0.5}}, \"type\": \"bar\"}], \"barpolar\": [{\"marker\": {\"line\": {\"color\": \"#E5ECF6\", \"width\": 0.5}}, \"type\": \"barpolar\"}], \"carpet\": [{\"aaxis\": {\"endlinecolor\": \"#2a3f5f\", \"gridcolor\": \"white\", \"linecolor\": \"white\", \"minorgridcolor\": \"white\", \"startlinecolor\": \"#2a3f5f\"}, \"baxis\": {\"endlinecolor\": \"#2a3f5f\", \"gridcolor\": \"white\", \"linecolor\": \"white\", \"minorgridcolor\": \"white\", \"startlinecolor\": \"#2a3f5f\"}, \"type\": \"carpet\"}], \"choropleth\": [{\"colorbar\": {\"outlinewidth\": 0, \"ticks\": \"\"}, \"type\": \"choropleth\"}], \"contour\": [{\"colorbar\": {\"outlinewidth\": 0, \"ticks\": \"\"}, \"colorscale\": [[0.0, \"#0d0887\"], [0.1111111111111111, \"#46039f\"], [0.2222222222222222, \"#7201a8\"], [0.3333333333333333, \"#9c179e\"], [0.4444444444444444, \"#bd3786\"], [0.5555555555555556, \"#d8576b\"], [0.6666666666666666, \"#ed7953\"], [0.7777777777777778, \"#fb9f3a\"], [0.8888888888888888, \"#fdca26\"], [1.0, \"#f0f921\"]], \"type\": \"contour\"}], \"contourcarpet\": [{\"colorbar\": {\"outlinewidth\": 0, \"ticks\": \"\"}, \"type\": \"contourcarpet\"}], \"heatmap\": [{\"colorbar\": {\"outlinewidth\": 0, \"ticks\": \"\"}, \"colorscale\": [[0.0, \"#0d0887\"], [0.1111111111111111, \"#46039f\"], [0.2222222222222222, \"#7201a8\"], [0.3333333333333333, \"#9c179e\"], [0.4444444444444444, \"#bd3786\"], [0.5555555555555556, \"#d8576b\"], [0.6666666666666666, \"#ed7953\"], [0.7777777777777778, \"#fb9f3a\"], [0.8888888888888888, \"#fdca26\"], [1.0, \"#f0f921\"]], \"type\": \"heatmap\"}], \"heatmapgl\": [{\"colorbar\": {\"outlinewidth\": 0, \"ticks\": \"\"}, \"colorscale\": [[0.0, \"#0d0887\"], [0.1111111111111111, \"#46039f\"], [0.2222222222222222, \"#7201a8\"], [0.3333333333333333, \"#9c179e\"], [0.4444444444444444, \"#bd3786\"], [0.5555555555555556, \"#d8576b\"], [0.6666666666666666, \"#ed7953\"], [0.7777777777777778, \"#fb9f3a\"], [0.8888888888888888, \"#fdca26\"], [1.0, \"#f0f921\"]], \"type\": \"heatmapgl\"}], \"histogram\": [{\"marker\": {\"colorbar\": {\"outlinewidth\": 0, \"ticks\": \"\"}}, \"type\": \"histogram\"}], \"histogram2d\": [{\"colorbar\": {\"outlinewidth\": 0, \"ticks\": \"\"}, \"colorscale\": [[0.0, \"#0d0887\"], [0.1111111111111111, \"#46039f\"], [0.2222222222222222, \"#7201a8\"], [0.3333333333333333, \"#9c179e\"], [0.4444444444444444, \"#bd3786\"], [0.5555555555555556, \"#d8576b\"], [0.6666666666666666, \"#ed7953\"], [0.7777777777777778, \"#fb9f3a\"], [0.8888888888888888, \"#fdca26\"], [1.0, \"#f0f921\"]], \"type\": \"histogram2d\"}], \"histogram2dcontour\": [{\"colorbar\": {\"outlinewidth\": 0, \"ticks\": \"\"}, \"colorscale\": [[0.0, \"#0d0887\"], [0.1111111111111111, \"#46039f\"], [0.2222222222222222, \"#7201a8\"], [0.3333333333333333, \"#9c179e\"], [0.4444444444444444, \"#bd3786\"], [0.5555555555555556, \"#d8576b\"], [0.6666666666666666, \"#ed7953\"], [0.7777777777777778, \"#fb9f3a\"], [0.8888888888888888, \"#fdca26\"], [1.0, \"#f0f921\"]], \"type\": \"histogram2dcontour\"}], \"mesh3d\": [{\"colorbar\": {\"outlinewidth\": 0, \"ticks\": \"\"}, \"type\": \"mesh3d\"}], \"parcoords\": [{\"line\": {\"colorbar\": {\"outlinewidth\": 0, \"ticks\": \"\"}}, \"type\": \"parcoords\"}], \"pie\": [{\"automargin\": true, \"type\": \"pie\"}], \"scatter\": [{\"marker\": {\"colorbar\": {\"outlinewidth\": 0, \"ticks\": \"\"}}, \"type\": \"scatter\"}], \"scatter3d\": [{\"line\": {\"colorbar\": {\"outlinewidth\": 0, \"ticks\": \"\"}}, \"marker\": {\"colorbar\": {\"outlinewidth\": 0, \"ticks\": \"\"}}, \"type\": \"scatter3d\"}], \"scattercarpet\": [{\"marker\": {\"colorbar\": {\"outlinewidth\": 0, \"ticks\": \"\"}}, \"type\": \"scattercarpet\"}], \"scattergeo\": [{\"marker\": {\"colorbar\": {\"outlinewidth\": 0, \"ticks\": \"\"}}, \"type\": \"scattergeo\"}], \"scattergl\": [{\"marker\": {\"colorbar\": {\"outlinewidth\": 0, \"ticks\": \"\"}}, \"type\": \"scattergl\"}], \"scattermapbox\": [{\"marker\": {\"colorbar\": {\"outlinewidth\": 0, \"ticks\": \"\"}}, \"type\": \"scattermapbox\"}], \"scatterpolar\": [{\"marker\": {\"colorbar\": {\"outlinewidth\": 0, \"ticks\": \"\"}}, \"type\": \"scatterpolar\"}], \"scatterpolargl\": [{\"marker\": {\"colorbar\": {\"outlinewidth\": 0, \"ticks\": \"\"}}, \"type\": \"scatterpolargl\"}], \"scatterternary\": [{\"marker\": {\"colorbar\": {\"outlinewidth\": 0, \"ticks\": \"\"}}, \"type\": \"scatterternary\"}], \"surface\": [{\"colorbar\": {\"outlinewidth\": 0, \"ticks\": \"\"}, \"colorscale\": [[0.0, \"#0d0887\"], [0.1111111111111111, \"#46039f\"], [0.2222222222222222, \"#7201a8\"], [0.3333333333333333, \"#9c179e\"], [0.4444444444444444, \"#bd3786\"], [0.5555555555555556, \"#d8576b\"], [0.6666666666666666, \"#ed7953\"], [0.7777777777777778, \"#fb9f3a\"], [0.8888888888888888, \"#fdca26\"], [1.0, \"#f0f921\"]], \"type\": \"surface\"}], \"table\": [{\"cells\": {\"fill\": {\"color\": \"#EBF0F8\"}, \"line\": {\"color\": \"white\"}}, \"header\": {\"fill\": {\"color\": \"#C8D4E3\"}, \"line\": {\"color\": \"white\"}}, \"type\": \"table\"}]}, \"layout\": {\"annotationdefaults\": {\"arrowcolor\": \"#2a3f5f\", \"arrowhead\": 0, \"arrowwidth\": 1}, \"coloraxis\": {\"colorbar\": {\"outlinewidth\": 0, \"ticks\": \"\"}}, \"colorscale\": {\"diverging\": [[0, \"#8e0152\"], [0.1, \"#c51b7d\"], [0.2, \"#de77ae\"], [0.3, \"#f1b6da\"], [0.4, \"#fde0ef\"], [0.5, \"#f7f7f7\"], [0.6, \"#e6f5d0\"], [0.7, \"#b8e186\"], [0.8, \"#7fbc41\"], [0.9, \"#4d9221\"], [1, \"#276419\"]], \"sequential\": [[0.0, \"#0d0887\"], [0.1111111111111111, \"#46039f\"], [0.2222222222222222, \"#7201a8\"], [0.3333333333333333, \"#9c179e\"], [0.4444444444444444, \"#bd3786\"], [0.5555555555555556, \"#d8576b\"], [0.6666666666666666, \"#ed7953\"], [0.7777777777777778, \"#fb9f3a\"], [0.8888888888888888, \"#fdca26\"], [1.0, \"#f0f921\"]], \"sequentialminus\": [[0.0, \"#0d0887\"], [0.1111111111111111, \"#46039f\"], [0.2222222222222222, \"#7201a8\"], [0.3333333333333333, \"#9c179e\"], [0.4444444444444444, \"#bd3786\"], [0.5555555555555556, \"#d8576b\"], [0.6666666666666666, \"#ed7953\"], [0.7777777777777778, \"#fb9f3a\"], [0.8888888888888888, \"#fdca26\"], [1.0, \"#f0f921\"]]}, \"colorway\": [\"#636efa\", \"#EF553B\", \"#00cc96\", \"#ab63fa\", \"#FFA15A\", \"#19d3f3\", \"#FF6692\", \"#B6E880\", \"#FF97FF\", \"#FECB52\"], \"font\": {\"color\": \"#2a3f5f\"}, \"geo\": {\"bgcolor\": \"white\", \"lakecolor\": \"white\", \"landcolor\": \"#E5ECF6\", \"showlakes\": true, \"showland\": true, \"subunitcolor\": \"white\"}, \"hoverlabel\": {\"align\": \"left\"}, \"hovermode\": \"closest\", \"mapbox\": {\"style\": \"light\"}, \"paper_bgcolor\": \"white\", \"plot_bgcolor\": \"#E5ECF6\", \"polar\": {\"angularaxis\": {\"gridcolor\": \"white\", \"linecolor\": \"white\", \"ticks\": \"\"}, \"bgcolor\": \"#E5ECF6\", \"radialaxis\": {\"gridcolor\": \"white\", \"linecolor\": \"white\", \"ticks\": \"\"}}, \"scene\": {\"xaxis\": {\"backgroundcolor\": \"#E5ECF6\", \"gridcolor\": \"white\", \"gridwidth\": 2, \"linecolor\": \"white\", \"showbackground\": true, \"ticks\": \"\", \"zerolinecolor\": \"white\"}, \"yaxis\": {\"backgroundcolor\": \"#E5ECF6\", \"gridcolor\": \"white\", \"gridwidth\": 2, \"linecolor\": \"white\", \"showbackground\": true, \"ticks\": \"\", \"zerolinecolor\": \"white\"}, \"zaxis\": {\"backgroundcolor\": \"#E5ECF6\", \"gridcolor\": \"white\", \"gridwidth\": 2, \"linecolor\": \"white\", \"showbackground\": true, \"ticks\": \"\", \"zerolinecolor\": \"white\"}}, \"shapedefaults\": {\"line\": {\"color\": \"#2a3f5f\"}}, \"ternary\": {\"aaxis\": {\"gridcolor\": \"white\", \"linecolor\": \"white\", \"ticks\": \"\"}, \"baxis\": {\"gridcolor\": \"white\", \"linecolor\": \"white\", \"ticks\": \"\"}, \"bgcolor\": \"#E5ECF6\", \"caxis\": {\"gridcolor\": \"white\", \"linecolor\": \"white\", \"ticks\": \"\"}}, \"title\": {\"x\": 0.05}, \"xaxis\": {\"automargin\": true, \"gridcolor\": \"white\", \"linecolor\": \"white\", \"ticks\": \"\", \"title\": {\"standoff\": 15}, \"zerolinecolor\": \"white\", \"zerolinewidth\": 2}, \"yaxis\": {\"automargin\": true, \"gridcolor\": \"white\", \"linecolor\": \"white\", \"ticks\": \"\", \"title\": {\"standoff\": 15}, \"zerolinecolor\": \"white\", \"zerolinewidth\": 2}}}, \"xaxis\": {\"anchor\": \"y\", \"domain\": [0.0, 1.0], \"title\": {\"text\": \"pca_1\"}}, \"yaxis\": {\"anchor\": \"x\", \"domain\": [0.0, 1.0], \"title\": {\"text\": \"pca_2\"}}},\n",
       "                        {\"responsive\": true}\n",
       "                    ).then(function(){\n",
       "                            \n",
       "var gd = document.getElementById('34a7ba7a-5d5c-4485-9efe-e4da0273bc7e');\n",
       "var x = new MutationObserver(function (mutations, observer) {{\n",
       "        var display = window.getComputedStyle(gd).display;\n",
       "        if (!display || display === 'none') {{\n",
       "            console.log([gd, 'removed!']);\n",
       "            Plotly.purge(gd);\n",
       "            observer.disconnect();\n",
       "        }}\n",
       "}});\n",
       "\n",
       "// Listen for the removal of the full notebook cells\n",
       "var notebookContainer = gd.closest('#notebook-container');\n",
       "if (notebookContainer) {{\n",
       "    x.observe(notebookContainer, {childList: true});\n",
       "}}\n",
       "\n",
       "// Listen for the clearing of the current output cell\n",
       "var outputEl = gd.closest('.output');\n",
       "if (outputEl) {{\n",
       "    x.observe(outputEl, {childList: true});\n",
       "}}\n",
       "\n",
       "                        })\n",
       "                };\n",
       "                });\n",
       "            </script>\n",
       "        </div>"
      ]
     },
     "metadata": {},
     "output_type": "display_data"
    }
   ],
   "source": [
    "fig.show()"
   ]
  },
  {
   "cell_type": "code",
   "execution_count": null,
   "metadata": {},
   "outputs": [],
   "source": []
  }
 ],
 "metadata": {
  "kernelspec": {
   "display_name": "Python 3",
   "language": "python",
   "name": "python3"
  },
  "language_info": {
   "codemirror_mode": {
    "name": "ipython",
    "version": 3
   },
   "file_extension": ".py",
   "mimetype": "text/x-python",
   "name": "python",
   "nbconvert_exporter": "python",
   "pygments_lexer": "ipython3",
   "version": "3.7.3"
  }
 },
 "nbformat": 4,
 "nbformat_minor": 2
}
