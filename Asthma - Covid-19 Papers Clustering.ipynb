{
 "cells": [
  {
   "cell_type": "markdown",
   "metadata": {},
   "source": [
    "#### Clustering Asthma among COVID-19 papers"
   ]
  },
  {
   "cell_type": "code",
   "execution_count": 76,
   "metadata": {},
   "outputs": [],
   "source": [
    "from sklearn.feature_extraction.text import CountVectorizer\n",
    "from sklearn.feature_extraction.text import TfidfVectorizer\n",
    "from sklearn.decomposition import PCA\n",
    "from sklearn import preprocessing\n",
    "import matplotlib.pyplot as plt\n",
    "import pandas as pd"
   ]
  },
  {
   "cell_type": "code",
   "execution_count": 77,
   "metadata": {},
   "outputs": [],
   "source": [
    "import nltk\n",
    "import string\n",
    "from nltk.stem import PorterStemmer\n",
    "from sklearn.cluster import KMeans"
   ]
  },
  {
   "cell_type": "markdown",
   "metadata": {},
   "source": [
    "Only those papers where the word \"asthma\" appears at least once in their abstract were selected. The papers were downloaded in order to be more easily handled, locally. "
   ]
  },
  {
   "cell_type": "code",
   "execution_count": 78,
   "metadata": {},
   "outputs": [
    {
     "data": {
      "text/html": [
       "<div>\n",
       "<style scoped>\n",
       "    .dataframe tbody tr th:only-of-type {\n",
       "        vertical-align: middle;\n",
       "    }\n",
       "\n",
       "    .dataframe tbody tr th {\n",
       "        vertical-align: top;\n",
       "    }\n",
       "\n",
       "    .dataframe thead th {\n",
       "        text-align: right;\n",
       "    }\n",
       "</style>\n",
       "<table border=\"1\" class=\"dataframe\">\n",
       "  <thead>\n",
       "    <tr style=\"text-align: right;\">\n",
       "      <th></th>\n",
       "      <th>cord_uid</th>\n",
       "      <th>sha</th>\n",
       "      <th>source_x</th>\n",
       "      <th>title</th>\n",
       "      <th>doi</th>\n",
       "      <th>pmcid</th>\n",
       "      <th>pubmed_id</th>\n",
       "      <th>license</th>\n",
       "      <th>abstract</th>\n",
       "      <th>publish_time</th>\n",
       "      <th>...</th>\n",
       "      <th>journal</th>\n",
       "      <th>mag_id</th>\n",
       "      <th>who_covidence_id</th>\n",
       "      <th>arxiv_id</th>\n",
       "      <th>pdf_json_files</th>\n",
       "      <th>pmc_json_files</th>\n",
       "      <th>url</th>\n",
       "      <th>s2_id</th>\n",
       "      <th>abstract_lower</th>\n",
       "      <th>title_lower</th>\n",
       "    </tr>\n",
       "  </thead>\n",
       "  <tbody>\n",
       "    <tr>\n",
       "      <th>0</th>\n",
       "      <td>qva0jt86</td>\n",
       "      <td>4ba79e54ecf81b30b56461a6aec2094eaf7b7f06</td>\n",
       "      <td>PMC</td>\n",
       "      <td>Relevance of human metapneumovirus in exacerba...</td>\n",
       "      <td>10.1186/1465-9921-6-150</td>\n",
       "      <td>PMC1334186</td>\n",
       "      <td>16371156.0</td>\n",
       "      <td>cc-by</td>\n",
       "      <td>BACKGROUND AND METHODS: Human metapneumovirus ...</td>\n",
       "      <td>2005-12-21</td>\n",
       "      <td>...</td>\n",
       "      <td>Respir Res</td>\n",
       "      <td>NaN</td>\n",
       "      <td>NaN</td>\n",
       "      <td>NaN</td>\n",
       "      <td>document_parses/pdf_json/4ba79e54ecf81b30b5646...</td>\n",
       "      <td>document_parses/pmc_json/PMC1334186.xml.json</td>\n",
       "      <td>https://www.ncbi.nlm.nih.gov/pmc/articles/PMC1...</td>\n",
       "      <td>NaN</td>\n",
       "      <td>background and methods: human metapneumovirus ...</td>\n",
       "      <td>relevance of human metapneumovirus in exacerba...</td>\n",
       "    </tr>\n",
       "    <tr>\n",
       "      <th>1</th>\n",
       "      <td>chz8luni</td>\n",
       "      <td>d68d71553d3a31381c0c3851351f912a9a7be1c9</td>\n",
       "      <td>PMC</td>\n",
       "      <td>Surfactant therapy for acute respiratory failu...</td>\n",
       "      <td>10.1186/cc5944</td>\n",
       "      <td>PMC2206432</td>\n",
       "      <td>17573963.0</td>\n",
       "      <td>cc-by</td>\n",
       "      <td>INTRODUCTION: Exogenous surfactant is used to ...</td>\n",
       "      <td>2007-06-15</td>\n",
       "      <td>...</td>\n",
       "      <td>Crit Care</td>\n",
       "      <td>NaN</td>\n",
       "      <td>NaN</td>\n",
       "      <td>NaN</td>\n",
       "      <td>document_parses/pdf_json/d68d71553d3a31381c0c3...</td>\n",
       "      <td>document_parses/pmc_json/PMC2206432.xml.json</td>\n",
       "      <td>https://www.ncbi.nlm.nih.gov/pmc/articles/PMC2...</td>\n",
       "      <td>NaN</td>\n",
       "      <td>introduction: exogenous surfactant is used to ...</td>\n",
       "      <td>surfactant therapy for acute respiratory failu...</td>\n",
       "    </tr>\n",
       "    <tr>\n",
       "      <th>2</th>\n",
       "      <td>3zh8jmc2</td>\n",
       "      <td>fe2000f280297c40bc53ce95d703a9ca6aac19fd</td>\n",
       "      <td>PMC</td>\n",
       "      <td>Differential Regulation of Type I Interferon a...</td>\n",
       "      <td>10.1371/journal.ppat.1000587</td>\n",
       "      <td>PMC2736567</td>\n",
       "      <td>19806178.0</td>\n",
       "      <td>cc-by</td>\n",
       "      <td>A number of paramyxoviruses are responsible fo...</td>\n",
       "      <td>2009-09-18</td>\n",
       "      <td>...</td>\n",
       "      <td>PLoS Pathog</td>\n",
       "      <td>NaN</td>\n",
       "      <td>NaN</td>\n",
       "      <td>NaN</td>\n",
       "      <td>document_parses/pdf_json/fe2000f280297c40bc53c...</td>\n",
       "      <td>document_parses/pmc_json/PMC2736567.xml.json</td>\n",
       "      <td>https://www.ncbi.nlm.nih.gov/pmc/articles/PMC2...</td>\n",
       "      <td>NaN</td>\n",
       "      <td>a number of paramyxoviruses are responsible fo...</td>\n",
       "      <td>differential regulation of type i interferon a...</td>\n",
       "    </tr>\n",
       "    <tr>\n",
       "      <th>3</th>\n",
       "      <td>7p3b6tyf</td>\n",
       "      <td>3ccbd07ee1865e4f2afffdb6cc8b6039ab605ee7</td>\n",
       "      <td>PMC</td>\n",
       "      <td>The Tennessee Children's Respiratory Initiativ...</td>\n",
       "      <td>10.1111/j.1440-1843.2010.01743.x</td>\n",
       "      <td>PMC2992986</td>\n",
       "      <td>20409023.0</td>\n",
       "      <td>no-cc</td>\n",
       "      <td>Background and objective: The ‘attack rate’ of...</td>\n",
       "      <td>2010-04-08</td>\n",
       "      <td>...</td>\n",
       "      <td>Respirology</td>\n",
       "      <td>NaN</td>\n",
       "      <td>NaN</td>\n",
       "      <td>NaN</td>\n",
       "      <td>document_parses/pdf_json/3ccbd07ee1865e4f2afff...</td>\n",
       "      <td>document_parses/pmc_json/PMC2992986.xml.json</td>\n",
       "      <td>https://www.ncbi.nlm.nih.gov/pmc/articles/PMC2...</td>\n",
       "      <td>NaN</td>\n",
       "      <td>background and objective: the ‘attack rate’ of...</td>\n",
       "      <td>the tennessee children's respiratory initiativ...</td>\n",
       "    </tr>\n",
       "    <tr>\n",
       "      <th>4</th>\n",
       "      <td>xrsyj1tc</td>\n",
       "      <td>fa88fbb8716e5fca7d513bcb5a0a608456a59205</td>\n",
       "      <td>PMC</td>\n",
       "      <td>Analysing the eosinophil cationic protein - a ...</td>\n",
       "      <td>10.1186/1465-9921-12-10</td>\n",
       "      <td>PMC3030543</td>\n",
       "      <td>21235798.0</td>\n",
       "      <td>cc-by</td>\n",
       "      <td>Eosinophil granulocytes reside in respiratory ...</td>\n",
       "      <td>2011-01-14</td>\n",
       "      <td>...</td>\n",
       "      <td>Respir Res</td>\n",
       "      <td>NaN</td>\n",
       "      <td>NaN</td>\n",
       "      <td>NaN</td>\n",
       "      <td>document_parses/pdf_json/fa88fbb8716e5fca7d513...</td>\n",
       "      <td>document_parses/pmc_json/PMC3030543.xml.json</td>\n",
       "      <td>https://www.ncbi.nlm.nih.gov/pmc/articles/PMC3...</td>\n",
       "      <td>NaN</td>\n",
       "      <td>eosinophil granulocytes reside in respiratory ...</td>\n",
       "      <td>analysing the eosinophil cationic protein - a ...</td>\n",
       "    </tr>\n",
       "  </tbody>\n",
       "</table>\n",
       "<p>5 rows × 21 columns</p>\n",
       "</div>"
      ],
      "text/plain": [
       "   cord_uid                                       sha source_x  \\\n",
       "0  qva0jt86  4ba79e54ecf81b30b56461a6aec2094eaf7b7f06      PMC   \n",
       "1  chz8luni  d68d71553d3a31381c0c3851351f912a9a7be1c9      PMC   \n",
       "2  3zh8jmc2  fe2000f280297c40bc53ce95d703a9ca6aac19fd      PMC   \n",
       "3  7p3b6tyf  3ccbd07ee1865e4f2afffdb6cc8b6039ab605ee7      PMC   \n",
       "4  xrsyj1tc  fa88fbb8716e5fca7d513bcb5a0a608456a59205      PMC   \n",
       "\n",
       "                                               title  \\\n",
       "0  Relevance of human metapneumovirus in exacerba...   \n",
       "1  Surfactant therapy for acute respiratory failu...   \n",
       "2  Differential Regulation of Type I Interferon a...   \n",
       "3  The Tennessee Children's Respiratory Initiativ...   \n",
       "4  Analysing the eosinophil cationic protein - a ...   \n",
       "\n",
       "                                doi       pmcid   pubmed_id license  \\\n",
       "0           10.1186/1465-9921-6-150  PMC1334186  16371156.0   cc-by   \n",
       "1                    10.1186/cc5944  PMC2206432  17573963.0   cc-by   \n",
       "2      10.1371/journal.ppat.1000587  PMC2736567  19806178.0   cc-by   \n",
       "3  10.1111/j.1440-1843.2010.01743.x  PMC2992986  20409023.0   no-cc   \n",
       "4           10.1186/1465-9921-12-10  PMC3030543  21235798.0   cc-by   \n",
       "\n",
       "                                            abstract publish_time  ...  \\\n",
       "0  BACKGROUND AND METHODS: Human metapneumovirus ...   2005-12-21  ...   \n",
       "1  INTRODUCTION: Exogenous surfactant is used to ...   2007-06-15  ...   \n",
       "2  A number of paramyxoviruses are responsible fo...   2009-09-18  ...   \n",
       "3  Background and objective: The ‘attack rate’ of...   2010-04-08  ...   \n",
       "4  Eosinophil granulocytes reside in respiratory ...   2011-01-14  ...   \n",
       "\n",
       "       journal mag_id  who_covidence_id arxiv_id  \\\n",
       "0   Respir Res    NaN               NaN      NaN   \n",
       "1    Crit Care    NaN               NaN      NaN   \n",
       "2  PLoS Pathog    NaN               NaN      NaN   \n",
       "3  Respirology    NaN               NaN      NaN   \n",
       "4   Respir Res    NaN               NaN      NaN   \n",
       "\n",
       "                                      pdf_json_files  \\\n",
       "0  document_parses/pdf_json/4ba79e54ecf81b30b5646...   \n",
       "1  document_parses/pdf_json/d68d71553d3a31381c0c3...   \n",
       "2  document_parses/pdf_json/fe2000f280297c40bc53c...   \n",
       "3  document_parses/pdf_json/3ccbd07ee1865e4f2afff...   \n",
       "4  document_parses/pdf_json/fa88fbb8716e5fca7d513...   \n",
       "\n",
       "                                 pmc_json_files  \\\n",
       "0  document_parses/pmc_json/PMC1334186.xml.json   \n",
       "1  document_parses/pmc_json/PMC2206432.xml.json   \n",
       "2  document_parses/pmc_json/PMC2736567.xml.json   \n",
       "3  document_parses/pmc_json/PMC2992986.xml.json   \n",
       "4  document_parses/pmc_json/PMC3030543.xml.json   \n",
       "\n",
       "                                                 url s2_id  \\\n",
       "0  https://www.ncbi.nlm.nih.gov/pmc/articles/PMC1...   NaN   \n",
       "1  https://www.ncbi.nlm.nih.gov/pmc/articles/PMC2...   NaN   \n",
       "2  https://www.ncbi.nlm.nih.gov/pmc/articles/PMC2...   NaN   \n",
       "3  https://www.ncbi.nlm.nih.gov/pmc/articles/PMC2...   NaN   \n",
       "4  https://www.ncbi.nlm.nih.gov/pmc/articles/PMC3...   NaN   \n",
       "\n",
       "                                      abstract_lower  \\\n",
       "0  background and methods: human metapneumovirus ...   \n",
       "1  introduction: exogenous surfactant is used to ...   \n",
       "2  a number of paramyxoviruses are responsible fo...   \n",
       "3  background and objective: the ‘attack rate’ of...   \n",
       "4  eosinophil granulocytes reside in respiratory ...   \n",
       "\n",
       "                                         title_lower  \n",
       "0  relevance of human metapneumovirus in exacerba...  \n",
       "1  surfactant therapy for acute respiratory failu...  \n",
       "2  differential regulation of type i interferon a...  \n",
       "3  the tennessee children's respiratory initiativ...  \n",
       "4  analysing the eosinophil cationic protein - a ...  \n",
       "\n",
       "[5 rows x 21 columns]"
      ]
     },
     "execution_count": 78,
     "metadata": {},
     "output_type": "execute_result"
    }
   ],
   "source": [
    "asthma_df = pd.read_csv(\"asthma_data.csv\")\n",
    "asthma_df.head()"
   ]
  },
  {
   "cell_type": "markdown",
   "metadata": {},
   "source": [
    "There are 2567 papers containing the word \"asthma\", among the coronavirus-related publications "
   ]
  },
  {
   "cell_type": "code",
   "execution_count": 79,
   "metadata": {},
   "outputs": [
    {
     "data": {
      "text/plain": [
       "(2567, 21)"
      ]
     },
     "execution_count": 79,
     "metadata": {},
     "output_type": "execute_result"
    }
   ],
   "source": [
    "asthma_df.shape"
   ]
  },
  {
   "cell_type": "markdown",
   "metadata": {},
   "source": [
    "We divide the papers between those published before the new coronavirus SARS-CoV-2 has appeared (December 2019) and those published after the COVID-19 outbreak. We pick December 2019 as the cut-off date."
   ]
  },
  {
   "cell_type": "code",
   "execution_count": 80,
   "metadata": {},
   "outputs": [],
   "source": [
    "asthma_before_covid = asthma_df.loc[asthma_df['publish_time']<\"2019-12-01\"].reset_index(drop=True)\n",
    "asthma_after_covid = asthma_df.loc[asthma_df['publish_time']>=\"2019-12-01\"].reset_index(drop=True)"
   ]
  },
  {
   "cell_type": "markdown",
   "metadata": {},
   "source": [
    "Below, for both these two groups of papers, we follow the same data processing. The steps followed are:\n",
    "1.Tokenization of the papers' abstracts text\n",
    "2.Stemming of the tokens \n",
    "3.Use of the TfidfVectorizer "
   ]
  },
  {
   "cell_type": "markdown",
   "metadata": {},
   "source": [
    "#### Papers before COVID-19"
   ]
  },
  {
   "cell_type": "code",
   "execution_count": 81,
   "metadata": {},
   "outputs": [],
   "source": [
    "texts_before = asthma_before_covid[\"abstract_lower\"].tolist()"
   ]
  },
  {
   "cell_type": "code",
   "execution_count": 82,
   "metadata": {},
   "outputs": [],
   "source": [
    "def custom_tokenizer(str_input):\n",
    "    \n",
    "    stemmer = PorterStemmer()\n",
    "    words = nltk.word_tokenize(str_input)\n",
    "    \n",
    "    words = [word.replace('â¡', '') for word in words]\n",
    "    words = [word.replace('â¢', '') for word in words]\n",
    "    words = [word.replace('â£', '') for word in words]\n",
    "    \n",
    "    words = [''.join(c for c in word if c not in string.punctuation+'©±×≤≥●＜--“”→„') for word in words]\n",
    "    words = [word for word in words if word not in ['‘', '’', '„']]\n",
    "    \n",
    "    \n",
    "    words = [word for word in words if word]\n",
    "    words = [word for word in words if not any(char.isdigit() for char in word)]\n",
    "    \n",
    "    #remove stop words before stemming - nltk list of stop words - read file and tolist\n",
    "    words = [stemmer.stem(word) for word in words]\n",
    "    return words"
   ]
  },
  {
   "cell_type": "code",
   "execution_count": 83,
   "metadata": {},
   "outputs": [
    {
     "name": "stderr",
     "output_type": "stream",
     "text": [
      "c:\\users\\katerina\\appdata\\local\\programs\\python\\python37\\lib\\site-packages\\sklearn\\feature_extraction\\text.py:386: UserWarning: Your stop_words may be inconsistent with your preprocessing. Tokenizing the stop words generated tokens ['abov', 'afterward', 'alon', 'alreadi', 'alway', 'ani', 'anoth', 'anyon', 'anyth', 'anywher', 'becam', 'becaus', 'becom', 'befor', 'besid', 'cri', 'describ', 'dure', 'els', 'elsewher', 'empti', 'everi', 'everyon', 'everyth', 'everywher', 'fifti', 'formerli', 'forti', 'ha', 'henc', 'hereaft', 'herebi', 'hi', 'howev', 'hundr', 'inde', 'latterli', 'mani', 'meanwhil', 'moreov', 'mostli', 'nobodi', 'noon', 'noth', 'nowher', 'onc', 'onli', 'otherwis', 'ourselv', 'perhap', 'pleas', 'seriou', 'sever', 'sinc', 'sincer', 'sixti', 'someon', 'someth', 'sometim', 'somewher', 'themselv', 'thenc', 'thereaft', 'therebi', 'therefor', 'thi', 'thu', 'togeth', 'twelv', 'twenti', 'veri', 'wa', 'whatev', 'whenc', 'whenev', 'wherea', 'whereaft', 'wherebi', 'wherev', 'whi', 'yourselv'] not in stop_words.\n",
      "  'stop_words.' % sorted(inconsistent))\n"
     ]
    },
    {
     "data": {
      "text/html": [
       "<div>\n",
       "<style scoped>\n",
       "    .dataframe tbody tr th:only-of-type {\n",
       "        vertical-align: middle;\n",
       "    }\n",
       "\n",
       "    .dataframe tbody tr th {\n",
       "        vertical-align: top;\n",
       "    }\n",
       "\n",
       "    .dataframe thead th {\n",
       "        text-align: right;\n",
       "    }\n",
       "</style>\n",
       "<table border=\"1\" class=\"dataframe\">\n",
       "  <thead>\n",
       "    <tr style=\"text-align: right;\">\n",
       "      <th></th>\n",
       "      <th>aa</th>\n",
       "      <th>abdelbaset</th>\n",
       "      <th>abil</th>\n",
       "      <th>abl</th>\n",
       "      <th>abnorm</th>\n",
       "      <th>abov</th>\n",
       "      <th>absenc</th>\n",
       "      <th>absent</th>\n",
       "      <th>absolut</th>\n",
       "      <th>abstract</th>\n",
       "      <th>...</th>\n",
       "      <th>zhang</th>\n",
       "      <th>zu</th>\n",
       "      <th>à</th>\n",
       "      <th>étude</th>\n",
       "      <th>été</th>\n",
       "      <th>α</th>\n",
       "      <th>β</th>\n",
       "      <th>–</th>\n",
       "      <th>•</th>\n",
       "      <th>−</th>\n",
       "    </tr>\n",
       "  </thead>\n",
       "  <tbody>\n",
       "    <tr>\n",
       "      <th>0</th>\n",
       "      <td>0.0</td>\n",
       "      <td>0.0</td>\n",
       "      <td>0.0</td>\n",
       "      <td>0.0</td>\n",
       "      <td>0.0</td>\n",
       "      <td>0.0</td>\n",
       "      <td>0.0</td>\n",
       "      <td>0.0</td>\n",
       "      <td>0.0</td>\n",
       "      <td>0.0</td>\n",
       "      <td>...</td>\n",
       "      <td>0.0</td>\n",
       "      <td>0.0</td>\n",
       "      <td>0.0</td>\n",
       "      <td>0.0</td>\n",
       "      <td>0.0</td>\n",
       "      <td>0.0</td>\n",
       "      <td>0.0</td>\n",
       "      <td>0.0</td>\n",
       "      <td>0.0</td>\n",
       "      <td>0.0</td>\n",
       "    </tr>\n",
       "    <tr>\n",
       "      <th>1</th>\n",
       "      <td>0.0</td>\n",
       "      <td>0.0</td>\n",
       "      <td>0.0</td>\n",
       "      <td>0.0</td>\n",
       "      <td>0.0</td>\n",
       "      <td>0.0</td>\n",
       "      <td>0.0</td>\n",
       "      <td>0.0</td>\n",
       "      <td>0.0</td>\n",
       "      <td>0.0</td>\n",
       "      <td>...</td>\n",
       "      <td>0.0</td>\n",
       "      <td>0.0</td>\n",
       "      <td>0.0</td>\n",
       "      <td>0.0</td>\n",
       "      <td>0.0</td>\n",
       "      <td>0.0</td>\n",
       "      <td>0.0</td>\n",
       "      <td>0.0</td>\n",
       "      <td>0.0</td>\n",
       "      <td>0.0</td>\n",
       "    </tr>\n",
       "    <tr>\n",
       "      <th>2</th>\n",
       "      <td>0.0</td>\n",
       "      <td>0.0</td>\n",
       "      <td>0.0</td>\n",
       "      <td>0.0</td>\n",
       "      <td>0.0</td>\n",
       "      <td>0.0</td>\n",
       "      <td>0.0</td>\n",
       "      <td>0.0</td>\n",
       "      <td>0.0</td>\n",
       "      <td>0.0</td>\n",
       "      <td>...</td>\n",
       "      <td>0.0</td>\n",
       "      <td>0.0</td>\n",
       "      <td>0.0</td>\n",
       "      <td>0.0</td>\n",
       "      <td>0.0</td>\n",
       "      <td>0.0</td>\n",
       "      <td>0.0</td>\n",
       "      <td>0.0</td>\n",
       "      <td>0.0</td>\n",
       "      <td>0.0</td>\n",
       "    </tr>\n",
       "    <tr>\n",
       "      <th>3</th>\n",
       "      <td>0.0</td>\n",
       "      <td>0.0</td>\n",
       "      <td>0.0</td>\n",
       "      <td>0.0</td>\n",
       "      <td>0.0</td>\n",
       "      <td>0.0</td>\n",
       "      <td>0.0</td>\n",
       "      <td>0.0</td>\n",
       "      <td>0.0</td>\n",
       "      <td>0.0</td>\n",
       "      <td>...</td>\n",
       "      <td>0.0</td>\n",
       "      <td>0.0</td>\n",
       "      <td>0.0</td>\n",
       "      <td>0.0</td>\n",
       "      <td>0.0</td>\n",
       "      <td>0.0</td>\n",
       "      <td>0.0</td>\n",
       "      <td>0.0</td>\n",
       "      <td>0.0</td>\n",
       "      <td>0.0</td>\n",
       "    </tr>\n",
       "    <tr>\n",
       "      <th>4</th>\n",
       "      <td>0.0</td>\n",
       "      <td>0.0</td>\n",
       "      <td>0.0</td>\n",
       "      <td>0.0</td>\n",
       "      <td>0.0</td>\n",
       "      <td>0.0</td>\n",
       "      <td>0.0</td>\n",
       "      <td>0.0</td>\n",
       "      <td>0.0</td>\n",
       "      <td>0.0</td>\n",
       "      <td>...</td>\n",
       "      <td>0.0</td>\n",
       "      <td>0.0</td>\n",
       "      <td>0.0</td>\n",
       "      <td>0.0</td>\n",
       "      <td>0.0</td>\n",
       "      <td>0.0</td>\n",
       "      <td>0.0</td>\n",
       "      <td>0.0</td>\n",
       "      <td>0.0</td>\n",
       "      <td>0.0</td>\n",
       "    </tr>\n",
       "  </tbody>\n",
       "</table>\n",
       "<p>5 rows × 2000 columns</p>\n",
       "</div>"
      ],
      "text/plain": [
       "    aa  abdelbaset  abil  abl  abnorm  abov  absenc  absent  absolut  \\\n",
       "0  0.0         0.0   0.0  0.0     0.0   0.0     0.0     0.0      0.0   \n",
       "1  0.0         0.0   0.0  0.0     0.0   0.0     0.0     0.0      0.0   \n",
       "2  0.0         0.0   0.0  0.0     0.0   0.0     0.0     0.0      0.0   \n",
       "3  0.0         0.0   0.0  0.0     0.0   0.0     0.0     0.0      0.0   \n",
       "4  0.0         0.0   0.0  0.0     0.0   0.0     0.0     0.0      0.0   \n",
       "\n",
       "   abstract  ...  zhang   zu    à  étude  été    α    β    –    •    −  \n",
       "0       0.0  ...    0.0  0.0  0.0    0.0  0.0  0.0  0.0  0.0  0.0  0.0  \n",
       "1       0.0  ...    0.0  0.0  0.0    0.0  0.0  0.0  0.0  0.0  0.0  0.0  \n",
       "2       0.0  ...    0.0  0.0  0.0    0.0  0.0  0.0  0.0  0.0  0.0  0.0  \n",
       "3       0.0  ...    0.0  0.0  0.0    0.0  0.0  0.0  0.0  0.0  0.0  0.0  \n",
       "4       0.0  ...    0.0  0.0  0.0    0.0  0.0  0.0  0.0  0.0  0.0  0.0  \n",
       "\n",
       "[5 rows x 2000 columns]"
      ]
     },
     "execution_count": 83,
     "metadata": {},
     "output_type": "execute_result"
    }
   ],
   "source": [
    "vec_before = TfidfVectorizer(tokenizer=custom_tokenizer,\n",
    "                             max_features=2000,\n",
    "                      stop_words='english')\n",
    "matrix_before = vec_before.fit_transform(texts_before)\n",
    "df = pd.DataFrame(matrix_before.toarray(), columns=vec_before.get_feature_names())\n",
    "df.head()"
   ]
  },
  {
   "cell_type": "markdown",
   "metadata": {},
   "source": [
    "The Kmeans is explained here:\n",
    "https://towardsdatascience.com/understanding-k-means-clustering-in-machine-learning-6a6e67336aa1"
   ]
  },
  {
   "cell_type": "code",
   "execution_count": 84,
   "metadata": {},
   "outputs": [
    {
     "data": {
      "text/plain": [
       "KMeans(n_clusters=20)"
      ]
     },
     "execution_count": 84,
     "metadata": {},
     "output_type": "execute_result"
    }
   ],
   "source": [
    "number_of_clusters=20\n",
    "km_before = KMeans(n_clusters=number_of_clusters)\n",
    "km_before.fit(matrix_before)"
   ]
  },
  {
   "cell_type": "markdown",
   "metadata": {},
   "source": [
    "Let's have an over view of our cluster's centers (centroids) anf labels. After that, we get the top terms for every cluster. In other wrods, we see which are the most frequently mentioned words per cluster. Note: since we have used Stemming, we only have the root of the words now."
   ]
  },
  {
   "cell_type": "code",
   "execution_count": 85,
   "metadata": {},
   "outputs": [
    {
     "name": "stdout",
     "output_type": "stream",
     "text": [
      "[[0.         0.         0.         ... 0.01232447 0.05313687 0.        ]\n",
      " [0.         0.00093796 0.00485518 ... 0.01026163 0.         0.        ]\n",
      " [0.         0.         0.         ... 0.00411634 0.         0.        ]\n",
      " ...\n",
      " [0.         0.         0.00190779 ... 0.         0.         0.        ]\n",
      " [0.         0.         0.00237352 ... 0.         0.01014909 0.        ]\n",
      " [0.         0.         0.         ... 0.         0.         0.        ]]\n",
      "[ 9  6 11 ... 13  6 18]\n"
     ]
    }
   ],
   "source": [
    "centroids, labels = km_before.cluster_centers_, km_before.labels_\n",
    "print(centroids)\n",
    "print(labels)"
   ]
  },
  {
   "cell_type": "code",
   "execution_count": 86,
   "metadata": {},
   "outputs": [
    {
     "name": "stdout",
     "output_type": "stream",
     "text": [
      "Top terms per cluster:\n",
      "Cluster 0: die und der den da auch werden erkrankungen ein zu ist im von bei durch al • bronchial es therapi\n",
      "Cluster 1: diseas lung pulmonari use drug thi ha respiratori cancer therapi develop review chronic new clinic gene therapeut condit pregnanc asthma\n",
      "Cluster 2: pneumonia m children patient asthma infect group communityacquir chlamydia mycoplasma c exacerb acut clinic diagnosi pregnanc studi symptom test respiratori\n",
      "Cluster 3: airway asthma diseas chronic inflamm inflammatori patient manag factor mechan thi ha disord remodel mani lung treatment sever care hyperrespons\n",
      "Cluster 4: influenza patient vaccin respiratori hospit wa failur ventil niv icu viru pneumonia acut pandem diseas use case children infect chronic\n",
      "Cluster 5: exacerb asthma copd virus diseas trigger infect chronic review treatment respiratori interact viral current thi risk caus major factor evid\n",
      "Cluster 6: asthma wa patient use studi children health p year group medic thi treatment effect increas preval risk ic data exacerb\n",
      "Cluster 7: infect asthma respiratori viral develop exacerb virus role viru respons associ caus ha children review rhinoviru wheez immun tract life\n",
      "Cluster 8: infant bronchiol respiratori wa infect rsv viral ill dure sever cold atop asthma children p tract score acut year associ\n",
      "Cluster 9: hmpv children infect metapneumoviru hospit respiratori human wa patient viru rsv clinic detect pneumonia year pathogen diseas aecopd young studi\n",
      "Cluster 10: la le l en d une et el y que lo à enfant par asthm est chez respiratoir été étude\n",
      "Cluster 11: cell respons activ immun diseas infect inflammatori type role macrophag protein function dc t airway epitheli host express cytokin product\n",
      "Cluster 12: ci ed visit risk wa children asthma p outcom patient rd corticosteroid sever associ hospit particip factor adjust discharg magnesium\n",
      "Cluster 13: air indoor exposur health pollut pm build effect smoke asthma particul ambient risk level dcc ventil outdoor mold environment wa\n",
      "Cluster 14: cell airway mice express wa infect inflamm level increas protein rsv subject lung exacerb asthma respons eosinophil allerg induc asthmat\n",
      "Cluster 15: hrv hrvc children infect hrva strain human speci wa associ ill respiratori detect asthma exacerb rhinovirus caus identifi divers group\n",
      "Cluster 16: detect respiratori wa children exacerb infect patient virus asthma viral viru rhinoviru sampl acut hospit studi posit case clinic asthmat\n",
      "Cluster 17: d vitamin c b asthma group infect symptom level exacerb viral e day immun respiratori p acut sampl event patient\n",
      "Cluster 18: wheez children recurr episod risk age wa year asthma factor earli associ rv viral ill respiratori infect sensit p bronchiol\n",
      "Cluster 19: cough acut bronchiti chronic rhinosinus antibiot cr bronchiectasi treatment copd patient infect caus clinic use diseas asthma common therapi symptom\n"
     ]
    }
   ],
   "source": [
    "print(\"Top terms per cluster:\")\n",
    "order_centroids = km_before.cluster_centers_.argsort()[:, ::-1]\n",
    "terms = vec_before.get_feature_names()\n",
    "for i in range(number_of_clusters):\n",
    "    top_ten_words = [terms[ind] for ind in order_centroids[i, :20]]\n",
    "    print(\"Cluster {}: {}\".format(i, ' '.join(top_ten_words)))"
   ]
  },
  {
   "cell_type": "code",
   "execution_count": 87,
   "metadata": {},
   "outputs": [
    {
     "data": {
      "text/plain": [
       "array([[ 495, 1870,  476, ..., 1322, 1323,    0],\n",
       "       [ 513, 1052, 1470, ...,  972,  969,    0],\n",
       "       [1367, 1054,  299, ..., 1205, 1206,    0],\n",
       "       ...,\n",
       "       [ 437, 1928,  250, ..., 1173, 1174,    0],\n",
       "       [1949,  299, 1516, ..., 1118, 1119,    0],\n",
       "       [ 411,   28,  240, ..., 1151, 1152,    0]], dtype=int64)"
      ]
     },
     "execution_count": 87,
     "metadata": {},
     "output_type": "execute_result"
    }
   ],
   "source": [
    "order_centroids\n",
    "#word with index 1049 has highest Tfidf value in the first array"
   ]
  },
  {
   "cell_type": "markdown",
   "metadata": {},
   "source": [
    "PCA and its implementation in Python is explained here: https://jakevdp.github.io/PythonDataScienceHandbook/05.09-principal-component-analysis.html"
   ]
  },
  {
   "cell_type": "code",
   "execution_count": 88,
   "metadata": {},
   "outputs": [],
   "source": [
    "T = preprocessing.Normalizer().fit_transform(df)\n",
    "# Dimesionality reduction to 2\n",
    "pca_model = PCA(n_components=2)\n",
    "pca_model.fit(T) # fit the model\n",
    "T = pca_model.transform(T) # transform the 'normalized model'\n",
    "# transform the 'centroids of KMean'\n",
    "centroid_pca = pca_model.transform(centroids)\n",
    "# print(centroid_pca)"
   ]
  },
  {
   "cell_type": "code",
   "execution_count": null,
   "metadata": {},
   "outputs": [],
   "source": []
  },
  {
   "cell_type": "code",
   "execution_count": null,
   "metadata": {},
   "outputs": [],
   "source": []
  }
 ],
 "metadata": {
  "kernelspec": {
   "display_name": "Python 3",
   "language": "python",
   "name": "python3"
  },
  "language_info": {
   "codemirror_mode": {
    "name": "ipython",
    "version": 3
   },
   "file_extension": ".py",
   "mimetype": "text/x-python",
   "name": "python",
   "nbconvert_exporter": "python",
   "pygments_lexer": "ipython3",
   "version": "3.7.3"
  }
 },
 "nbformat": 4,
 "nbformat_minor": 2
}
